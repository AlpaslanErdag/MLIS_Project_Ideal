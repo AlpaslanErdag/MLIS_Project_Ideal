{
  "nbformat": 4,
  "nbformat_minor": 0,
  "metadata": {
    "colab": {
      "name": "MLIS_ideal.ipynb",
      "provenance": [],
      "machine_shape": "hm",
      "authorship_tag": "ABX9TyO+Gb94RSZkaUg11LN8iAxY",
      "include_colab_link": true
    },
    "kernelspec": {
      "name": "python3",
      "display_name": "Python 3"
    },
    "language_info": {
      "name": "python"
    },
    "accelerator": "GPU"
  },
  "cells": [
    {
      "cell_type": "markdown",
      "metadata": {
        "id": "view-in-github",
        "colab_type": "text"
      },
      "source": [
        "<a href=\"https://colab.research.google.com/github/Anshuman-37/MLIS_Project_Ideal/blob/main/MLIS_ideal.ipynb\" target=\"_parent\"><img src=\"https://colab.research.google.com/assets/colab-badge.svg\" alt=\"Open In Colab\"/></a>"
      ]
    },
    {
      "cell_type": "markdown",
      "source": [
        "#### Getting the text\n",
        "### [Click here to get it from kaggle](https://www.kaggle.com/ninjacoding/breast-cancer-wisconsin-benign-or-malignant?select=tumor.csv)\n",
        "### [Click here to go to the main archive of uci](https://archive.ics.uci.edu/ml/datasets/breast+cancer+wisconsin+%28original%29)\n",
        "##### I am using the kaggle one I don't know how to use the other one."
      ],
      "metadata": {
        "id": "Njxp7CkQtSvI"
      }
    },
    {
      "cell_type": "code",
      "source": [
        "import pandas as pd\n",
        "df = pd.read_csv('/content/tumor.csv')\n",
        "df.describe()"
      ],
      "metadata": {
        "colab": {
          "base_uri": "https://localhost:8080/",
          "height": 399
        },
        "id": "isnBvIBass9s",
        "outputId": "047c319d-d38b-48e1-8eae-008bc9e85033"
      },
      "execution_count": 19,
      "outputs": [
        {
          "output_type": "execute_result",
          "data": {
            "text/html": [
              "\n",
              "  <div id=\"df-1880bd4b-552d-4e57-95ad-6e946172f2f2\">\n",
              "    <div class=\"colab-df-container\">\n",
              "      <div>\n",
              "<style scoped>\n",
              "    .dataframe tbody tr th:only-of-type {\n",
              "        vertical-align: middle;\n",
              "    }\n",
              "\n",
              "    .dataframe tbody tr th {\n",
              "        vertical-align: top;\n",
              "    }\n",
              "\n",
              "    .dataframe thead th {\n",
              "        text-align: right;\n",
              "    }\n",
              "</style>\n",
              "<table border=\"1\" class=\"dataframe\">\n",
              "  <thead>\n",
              "    <tr style=\"text-align: right;\">\n",
              "      <th></th>\n",
              "      <th>Sample code number</th>\n",
              "      <th>Clump Thickness</th>\n",
              "      <th>Uniformity of Cell Size</th>\n",
              "      <th>Uniformity of Cell Shape</th>\n",
              "      <th>Marginal Adhesion</th>\n",
              "      <th>Single Epithelial Cell Size</th>\n",
              "      <th>Bare Nuclei</th>\n",
              "      <th>Bland Chromatin</th>\n",
              "      <th>Normal Nucleoli</th>\n",
              "      <th>Mitoses</th>\n",
              "      <th>Class</th>\n",
              "    </tr>\n",
              "  </thead>\n",
              "  <tbody>\n",
              "    <tr>\n",
              "      <th>count</th>\n",
              "      <td>6.830000e+02</td>\n",
              "      <td>683.000000</td>\n",
              "      <td>683.000000</td>\n",
              "      <td>683.000000</td>\n",
              "      <td>683.000000</td>\n",
              "      <td>683.000000</td>\n",
              "      <td>683.000000</td>\n",
              "      <td>683.000000</td>\n",
              "      <td>683.000000</td>\n",
              "      <td>683.000000</td>\n",
              "      <td>683.000000</td>\n",
              "    </tr>\n",
              "    <tr>\n",
              "      <th>mean</th>\n",
              "      <td>1.076720e+06</td>\n",
              "      <td>4.442167</td>\n",
              "      <td>3.150805</td>\n",
              "      <td>3.215227</td>\n",
              "      <td>2.830161</td>\n",
              "      <td>3.234261</td>\n",
              "      <td>3.544656</td>\n",
              "      <td>3.445095</td>\n",
              "      <td>2.869693</td>\n",
              "      <td>1.603221</td>\n",
              "      <td>2.699854</td>\n",
              "    </tr>\n",
              "    <tr>\n",
              "      <th>std</th>\n",
              "      <td>6.206440e+05</td>\n",
              "      <td>2.820761</td>\n",
              "      <td>3.065145</td>\n",
              "      <td>2.988581</td>\n",
              "      <td>2.864562</td>\n",
              "      <td>2.223085</td>\n",
              "      <td>3.643857</td>\n",
              "      <td>2.449697</td>\n",
              "      <td>3.052666</td>\n",
              "      <td>1.732674</td>\n",
              "      <td>0.954592</td>\n",
              "    </tr>\n",
              "    <tr>\n",
              "      <th>min</th>\n",
              "      <td>6.337500e+04</td>\n",
              "      <td>1.000000</td>\n",
              "      <td>1.000000</td>\n",
              "      <td>1.000000</td>\n",
              "      <td>1.000000</td>\n",
              "      <td>1.000000</td>\n",
              "      <td>1.000000</td>\n",
              "      <td>1.000000</td>\n",
              "      <td>1.000000</td>\n",
              "      <td>1.000000</td>\n",
              "      <td>2.000000</td>\n",
              "    </tr>\n",
              "    <tr>\n",
              "      <th>25%</th>\n",
              "      <td>8.776170e+05</td>\n",
              "      <td>2.000000</td>\n",
              "      <td>1.000000</td>\n",
              "      <td>1.000000</td>\n",
              "      <td>1.000000</td>\n",
              "      <td>2.000000</td>\n",
              "      <td>1.000000</td>\n",
              "      <td>2.000000</td>\n",
              "      <td>1.000000</td>\n",
              "      <td>1.000000</td>\n",
              "      <td>2.000000</td>\n",
              "    </tr>\n",
              "    <tr>\n",
              "      <th>50%</th>\n",
              "      <td>1.171795e+06</td>\n",
              "      <td>4.000000</td>\n",
              "      <td>1.000000</td>\n",
              "      <td>1.000000</td>\n",
              "      <td>1.000000</td>\n",
              "      <td>2.000000</td>\n",
              "      <td>1.000000</td>\n",
              "      <td>3.000000</td>\n",
              "      <td>1.000000</td>\n",
              "      <td>1.000000</td>\n",
              "      <td>2.000000</td>\n",
              "    </tr>\n",
              "    <tr>\n",
              "      <th>75%</th>\n",
              "      <td>1.238705e+06</td>\n",
              "      <td>6.000000</td>\n",
              "      <td>5.000000</td>\n",
              "      <td>5.000000</td>\n",
              "      <td>4.000000</td>\n",
              "      <td>4.000000</td>\n",
              "      <td>6.000000</td>\n",
              "      <td>5.000000</td>\n",
              "      <td>4.000000</td>\n",
              "      <td>1.000000</td>\n",
              "      <td>4.000000</td>\n",
              "    </tr>\n",
              "    <tr>\n",
              "      <th>max</th>\n",
              "      <td>1.345435e+07</td>\n",
              "      <td>10.000000</td>\n",
              "      <td>10.000000</td>\n",
              "      <td>10.000000</td>\n",
              "      <td>10.000000</td>\n",
              "      <td>10.000000</td>\n",
              "      <td>10.000000</td>\n",
              "      <td>10.000000</td>\n",
              "      <td>10.000000</td>\n",
              "      <td>10.000000</td>\n",
              "      <td>4.000000</td>\n",
              "    </tr>\n",
              "  </tbody>\n",
              "</table>\n",
              "</div>\n",
              "      <button class=\"colab-df-convert\" onclick=\"convertToInteractive('df-1880bd4b-552d-4e57-95ad-6e946172f2f2')\"\n",
              "              title=\"Convert this dataframe to an interactive table.\"\n",
              "              style=\"display:none;\">\n",
              "        \n",
              "  <svg xmlns=\"http://www.w3.org/2000/svg\" height=\"24px\"viewBox=\"0 0 24 24\"\n",
              "       width=\"24px\">\n",
              "    <path d=\"M0 0h24v24H0V0z\" fill=\"none\"/>\n",
              "    <path d=\"M18.56 5.44l.94 2.06.94-2.06 2.06-.94-2.06-.94-.94-2.06-.94 2.06-2.06.94zm-11 1L8.5 8.5l.94-2.06 2.06-.94-2.06-.94L8.5 2.5l-.94 2.06-2.06.94zm10 10l.94 2.06.94-2.06 2.06-.94-2.06-.94-.94-2.06-.94 2.06-2.06.94z\"/><path d=\"M17.41 7.96l-1.37-1.37c-.4-.4-.92-.59-1.43-.59-.52 0-1.04.2-1.43.59L10.3 9.45l-7.72 7.72c-.78.78-.78 2.05 0 2.83L4 21.41c.39.39.9.59 1.41.59.51 0 1.02-.2 1.41-.59l7.78-7.78 2.81-2.81c.8-.78.8-2.07 0-2.86zM5.41 20L4 18.59l7.72-7.72 1.47 1.35L5.41 20z\"/>\n",
              "  </svg>\n",
              "      </button>\n",
              "      \n",
              "  <style>\n",
              "    .colab-df-container {\n",
              "      display:flex;\n",
              "      flex-wrap:wrap;\n",
              "      gap: 12px;\n",
              "    }\n",
              "\n",
              "    .colab-df-convert {\n",
              "      background-color: #E8F0FE;\n",
              "      border: none;\n",
              "      border-radius: 50%;\n",
              "      cursor: pointer;\n",
              "      display: none;\n",
              "      fill: #1967D2;\n",
              "      height: 32px;\n",
              "      padding: 0 0 0 0;\n",
              "      width: 32px;\n",
              "    }\n",
              "\n",
              "    .colab-df-convert:hover {\n",
              "      background-color: #E2EBFA;\n",
              "      box-shadow: 0px 1px 2px rgba(60, 64, 67, 0.3), 0px 1px 3px 1px rgba(60, 64, 67, 0.15);\n",
              "      fill: #174EA6;\n",
              "    }\n",
              "\n",
              "    [theme=dark] .colab-df-convert {\n",
              "      background-color: #3B4455;\n",
              "      fill: #D2E3FC;\n",
              "    }\n",
              "\n",
              "    [theme=dark] .colab-df-convert:hover {\n",
              "      background-color: #434B5C;\n",
              "      box-shadow: 0px 1px 3px 1px rgba(0, 0, 0, 0.15);\n",
              "      filter: drop-shadow(0px 1px 2px rgba(0, 0, 0, 0.3));\n",
              "      fill: #FFFFFF;\n",
              "    }\n",
              "  </style>\n",
              "\n",
              "      <script>\n",
              "        const buttonEl =\n",
              "          document.querySelector('#df-1880bd4b-552d-4e57-95ad-6e946172f2f2 button.colab-df-convert');\n",
              "        buttonEl.style.display =\n",
              "          google.colab.kernel.accessAllowed ? 'block' : 'none';\n",
              "\n",
              "        async function convertToInteractive(key) {\n",
              "          const element = document.querySelector('#df-1880bd4b-552d-4e57-95ad-6e946172f2f2');\n",
              "          const dataTable =\n",
              "            await google.colab.kernel.invokeFunction('convertToInteractive',\n",
              "                                                     [key], {});\n",
              "          if (!dataTable) return;\n",
              "\n",
              "          const docLinkHtml = 'Like what you see? Visit the ' +\n",
              "            '<a target=\"_blank\" href=https://colab.research.google.com/notebooks/data_table.ipynb>data table notebook</a>'\n",
              "            + ' to learn more about interactive tables.';\n",
              "          element.innerHTML = '';\n",
              "          dataTable['output_type'] = 'display_data';\n",
              "          await google.colab.output.renderOutput(dataTable, element);\n",
              "          const docLink = document.createElement('div');\n",
              "          docLink.innerHTML = docLinkHtml;\n",
              "          element.appendChild(docLink);\n",
              "        }\n",
              "      </script>\n",
              "    </div>\n",
              "  </div>\n",
              "  "
            ],
            "text/plain": [
              "       Sample code number  Clump Thickness  ...     Mitoses       Class\n",
              "count        6.830000e+02       683.000000  ...  683.000000  683.000000\n",
              "mean         1.076720e+06         4.442167  ...    1.603221    2.699854\n",
              "std          6.206440e+05         2.820761  ...    1.732674    0.954592\n",
              "min          6.337500e+04         1.000000  ...    1.000000    2.000000\n",
              "25%          8.776170e+05         2.000000  ...    1.000000    2.000000\n",
              "50%          1.171795e+06         4.000000  ...    1.000000    2.000000\n",
              "75%          1.238705e+06         6.000000  ...    1.000000    4.000000\n",
              "max          1.345435e+07        10.000000  ...   10.000000    4.000000\n",
              "\n",
              "[8 rows x 11 columns]"
            ]
          },
          "metadata": {},
          "execution_count": 19
        }
      ]
    },
    {
      "cell_type": "code",
      "source": [
        "df.head()\n",
        "df[0:10]"
      ],
      "metadata": {
        "colab": {
          "base_uri": "https://localhost:8080/",
          "height": 442
        },
        "id": "bjbRuhi2u08L",
        "outputId": "f37f6211-fc8d-4175-80bd-e545a48779aa"
      },
      "execution_count": 20,
      "outputs": [
        {
          "output_type": "execute_result",
          "data": {
            "text/html": [
              "\n",
              "  <div id=\"df-77cace35-03e0-4a28-9493-22cd772b78f6\">\n",
              "    <div class=\"colab-df-container\">\n",
              "      <div>\n",
              "<style scoped>\n",
              "    .dataframe tbody tr th:only-of-type {\n",
              "        vertical-align: middle;\n",
              "    }\n",
              "\n",
              "    .dataframe tbody tr th {\n",
              "        vertical-align: top;\n",
              "    }\n",
              "\n",
              "    .dataframe thead th {\n",
              "        text-align: right;\n",
              "    }\n",
              "</style>\n",
              "<table border=\"1\" class=\"dataframe\">\n",
              "  <thead>\n",
              "    <tr style=\"text-align: right;\">\n",
              "      <th></th>\n",
              "      <th>Sample code number</th>\n",
              "      <th>Clump Thickness</th>\n",
              "      <th>Uniformity of Cell Size</th>\n",
              "      <th>Uniformity of Cell Shape</th>\n",
              "      <th>Marginal Adhesion</th>\n",
              "      <th>Single Epithelial Cell Size</th>\n",
              "      <th>Bare Nuclei</th>\n",
              "      <th>Bland Chromatin</th>\n",
              "      <th>Normal Nucleoli</th>\n",
              "      <th>Mitoses</th>\n",
              "      <th>Class</th>\n",
              "    </tr>\n",
              "  </thead>\n",
              "  <tbody>\n",
              "    <tr>\n",
              "      <th>0</th>\n",
              "      <td>1000025</td>\n",
              "      <td>5</td>\n",
              "      <td>1</td>\n",
              "      <td>1</td>\n",
              "      <td>1</td>\n",
              "      <td>2</td>\n",
              "      <td>1</td>\n",
              "      <td>3</td>\n",
              "      <td>1</td>\n",
              "      <td>1</td>\n",
              "      <td>2</td>\n",
              "    </tr>\n",
              "    <tr>\n",
              "      <th>1</th>\n",
              "      <td>1002945</td>\n",
              "      <td>5</td>\n",
              "      <td>4</td>\n",
              "      <td>4</td>\n",
              "      <td>5</td>\n",
              "      <td>7</td>\n",
              "      <td>10</td>\n",
              "      <td>3</td>\n",
              "      <td>2</td>\n",
              "      <td>1</td>\n",
              "      <td>2</td>\n",
              "    </tr>\n",
              "    <tr>\n",
              "      <th>2</th>\n",
              "      <td>1015425</td>\n",
              "      <td>3</td>\n",
              "      <td>1</td>\n",
              "      <td>1</td>\n",
              "      <td>1</td>\n",
              "      <td>2</td>\n",
              "      <td>2</td>\n",
              "      <td>3</td>\n",
              "      <td>1</td>\n",
              "      <td>1</td>\n",
              "      <td>2</td>\n",
              "    </tr>\n",
              "    <tr>\n",
              "      <th>3</th>\n",
              "      <td>1016277</td>\n",
              "      <td>6</td>\n",
              "      <td>8</td>\n",
              "      <td>8</td>\n",
              "      <td>1</td>\n",
              "      <td>3</td>\n",
              "      <td>4</td>\n",
              "      <td>3</td>\n",
              "      <td>7</td>\n",
              "      <td>1</td>\n",
              "      <td>2</td>\n",
              "    </tr>\n",
              "    <tr>\n",
              "      <th>4</th>\n",
              "      <td>1017023</td>\n",
              "      <td>4</td>\n",
              "      <td>1</td>\n",
              "      <td>1</td>\n",
              "      <td>3</td>\n",
              "      <td>2</td>\n",
              "      <td>1</td>\n",
              "      <td>3</td>\n",
              "      <td>1</td>\n",
              "      <td>1</td>\n",
              "      <td>2</td>\n",
              "    </tr>\n",
              "    <tr>\n",
              "      <th>5</th>\n",
              "      <td>1017122</td>\n",
              "      <td>8</td>\n",
              "      <td>10</td>\n",
              "      <td>10</td>\n",
              "      <td>8</td>\n",
              "      <td>7</td>\n",
              "      <td>10</td>\n",
              "      <td>9</td>\n",
              "      <td>7</td>\n",
              "      <td>1</td>\n",
              "      <td>4</td>\n",
              "    </tr>\n",
              "    <tr>\n",
              "      <th>6</th>\n",
              "      <td>1018099</td>\n",
              "      <td>1</td>\n",
              "      <td>1</td>\n",
              "      <td>1</td>\n",
              "      <td>1</td>\n",
              "      <td>2</td>\n",
              "      <td>10</td>\n",
              "      <td>3</td>\n",
              "      <td>1</td>\n",
              "      <td>1</td>\n",
              "      <td>2</td>\n",
              "    </tr>\n",
              "    <tr>\n",
              "      <th>7</th>\n",
              "      <td>1018561</td>\n",
              "      <td>2</td>\n",
              "      <td>1</td>\n",
              "      <td>2</td>\n",
              "      <td>1</td>\n",
              "      <td>2</td>\n",
              "      <td>1</td>\n",
              "      <td>3</td>\n",
              "      <td>1</td>\n",
              "      <td>1</td>\n",
              "      <td>2</td>\n",
              "    </tr>\n",
              "    <tr>\n",
              "      <th>8</th>\n",
              "      <td>1033078</td>\n",
              "      <td>2</td>\n",
              "      <td>1</td>\n",
              "      <td>1</td>\n",
              "      <td>1</td>\n",
              "      <td>2</td>\n",
              "      <td>1</td>\n",
              "      <td>1</td>\n",
              "      <td>1</td>\n",
              "      <td>5</td>\n",
              "      <td>2</td>\n",
              "    </tr>\n",
              "    <tr>\n",
              "      <th>9</th>\n",
              "      <td>1033078</td>\n",
              "      <td>4</td>\n",
              "      <td>2</td>\n",
              "      <td>1</td>\n",
              "      <td>1</td>\n",
              "      <td>2</td>\n",
              "      <td>1</td>\n",
              "      <td>2</td>\n",
              "      <td>1</td>\n",
              "      <td>1</td>\n",
              "      <td>2</td>\n",
              "    </tr>\n",
              "  </tbody>\n",
              "</table>\n",
              "</div>\n",
              "      <button class=\"colab-df-convert\" onclick=\"convertToInteractive('df-77cace35-03e0-4a28-9493-22cd772b78f6')\"\n",
              "              title=\"Convert this dataframe to an interactive table.\"\n",
              "              style=\"display:none;\">\n",
              "        \n",
              "  <svg xmlns=\"http://www.w3.org/2000/svg\" height=\"24px\"viewBox=\"0 0 24 24\"\n",
              "       width=\"24px\">\n",
              "    <path d=\"M0 0h24v24H0V0z\" fill=\"none\"/>\n",
              "    <path d=\"M18.56 5.44l.94 2.06.94-2.06 2.06-.94-2.06-.94-.94-2.06-.94 2.06-2.06.94zm-11 1L8.5 8.5l.94-2.06 2.06-.94-2.06-.94L8.5 2.5l-.94 2.06-2.06.94zm10 10l.94 2.06.94-2.06 2.06-.94-2.06-.94-.94-2.06-.94 2.06-2.06.94z\"/><path d=\"M17.41 7.96l-1.37-1.37c-.4-.4-.92-.59-1.43-.59-.52 0-1.04.2-1.43.59L10.3 9.45l-7.72 7.72c-.78.78-.78 2.05 0 2.83L4 21.41c.39.39.9.59 1.41.59.51 0 1.02-.2 1.41-.59l7.78-7.78 2.81-2.81c.8-.78.8-2.07 0-2.86zM5.41 20L4 18.59l7.72-7.72 1.47 1.35L5.41 20z\"/>\n",
              "  </svg>\n",
              "      </button>\n",
              "      \n",
              "  <style>\n",
              "    .colab-df-container {\n",
              "      display:flex;\n",
              "      flex-wrap:wrap;\n",
              "      gap: 12px;\n",
              "    }\n",
              "\n",
              "    .colab-df-convert {\n",
              "      background-color: #E8F0FE;\n",
              "      border: none;\n",
              "      border-radius: 50%;\n",
              "      cursor: pointer;\n",
              "      display: none;\n",
              "      fill: #1967D2;\n",
              "      height: 32px;\n",
              "      padding: 0 0 0 0;\n",
              "      width: 32px;\n",
              "    }\n",
              "\n",
              "    .colab-df-convert:hover {\n",
              "      background-color: #E2EBFA;\n",
              "      box-shadow: 0px 1px 2px rgba(60, 64, 67, 0.3), 0px 1px 3px 1px rgba(60, 64, 67, 0.15);\n",
              "      fill: #174EA6;\n",
              "    }\n",
              "\n",
              "    [theme=dark] .colab-df-convert {\n",
              "      background-color: #3B4455;\n",
              "      fill: #D2E3FC;\n",
              "    }\n",
              "\n",
              "    [theme=dark] .colab-df-convert:hover {\n",
              "      background-color: #434B5C;\n",
              "      box-shadow: 0px 1px 3px 1px rgba(0, 0, 0, 0.15);\n",
              "      filter: drop-shadow(0px 1px 2px rgba(0, 0, 0, 0.3));\n",
              "      fill: #FFFFFF;\n",
              "    }\n",
              "  </style>\n",
              "\n",
              "      <script>\n",
              "        const buttonEl =\n",
              "          document.querySelector('#df-77cace35-03e0-4a28-9493-22cd772b78f6 button.colab-df-convert');\n",
              "        buttonEl.style.display =\n",
              "          google.colab.kernel.accessAllowed ? 'block' : 'none';\n",
              "\n",
              "        async function convertToInteractive(key) {\n",
              "          const element = document.querySelector('#df-77cace35-03e0-4a28-9493-22cd772b78f6');\n",
              "          const dataTable =\n",
              "            await google.colab.kernel.invokeFunction('convertToInteractive',\n",
              "                                                     [key], {});\n",
              "          if (!dataTable) return;\n",
              "\n",
              "          const docLinkHtml = 'Like what you see? Visit the ' +\n",
              "            '<a target=\"_blank\" href=https://colab.research.google.com/notebooks/data_table.ipynb>data table notebook</a>'\n",
              "            + ' to learn more about interactive tables.';\n",
              "          element.innerHTML = '';\n",
              "          dataTable['output_type'] = 'display_data';\n",
              "          await google.colab.output.renderOutput(dataTable, element);\n",
              "          const docLink = document.createElement('div');\n",
              "          docLink.innerHTML = docLinkHtml;\n",
              "          element.appendChild(docLink);\n",
              "        }\n",
              "      </script>\n",
              "    </div>\n",
              "  </div>\n",
              "  "
            ],
            "text/plain": [
              "   Sample code number  Clump Thickness  ...  Mitoses  Class\n",
              "0             1000025                5  ...        1      2\n",
              "1             1002945                5  ...        1      2\n",
              "2             1015425                3  ...        1      2\n",
              "3             1016277                6  ...        1      2\n",
              "4             1017023                4  ...        1      2\n",
              "5             1017122                8  ...        1      4\n",
              "6             1018099                1  ...        1      2\n",
              "7             1018561                2  ...        1      2\n",
              "8             1033078                2  ...        5      2\n",
              "9             1033078                4  ...        1      2\n",
              "\n",
              "[10 rows x 11 columns]"
            ]
          },
          "metadata": {},
          "execution_count": 20
        }
      ]
    },
    {
      "cell_type": "markdown",
      "source": [
        "# EDA for the data "
      ],
      "metadata": {
        "id": "EU4IXwVstyTe"
      }
    },
    {
      "cell_type": "markdown",
      "source": [
        "##Check for the nan values "
      ],
      "metadata": {
        "id": "rZDlD3ElvAoX"
      }
    },
    {
      "cell_type": "code",
      "source": [
        "# checking all the data for any null values\n",
        "print(df.isnull().values.any())\n",
        "\n",
        "## I think there is no nan values in the data they probably removed them\n",
        "## Still this data is in the kaggle please check from the main directoryu\n",
        "\n",
        "\n",
        "## Checking column wise\n",
        "ctr = 1\n",
        "print('Checking for nan values column wise')\n",
        "for key, value in df.iteritems():\n",
        "    print('column number',ctr,df[key].isnull().values.any())\n",
        "    ctr += 1 "
      ],
      "metadata": {
        "colab": {
          "base_uri": "https://localhost:8080/"
        },
        "id": "6KW3eNh7txEp",
        "outputId": "81bf8987-3d82-41bb-9f84-bb2f59e4cd8c"
      },
      "execution_count": 21,
      "outputs": [
        {
          "output_type": "stream",
          "name": "stdout",
          "text": [
            "False\n",
            "Checking for nan values column wise\n",
            "column number 1 False\n",
            "column number 2 False\n",
            "column number 3 False\n",
            "column number 4 False\n",
            "column number 5 False\n",
            "column number 6 False\n",
            "column number 7 False\n",
            "column number 8 False\n",
            "column number 9 False\n",
            "column number 10 False\n",
            "column number 11 False\n"
          ]
        }
      ]
    },
    {
      "cell_type": "markdown",
      "source": [
        "## Ploting the correlation matrix"
      ],
      "metadata": {
        "id": "R8MvZu9VyCd7"
      }
    },
    {
      "cell_type": "code",
      "source": [
        "# Not making much sense \n",
        "import matplotlib.pyplot as plt\n",
        "import seaborn as sns\n",
        "plt.figure(figsize=(10, 10))\n",
        "corr = df.corr()\n",
        "corr.style.background_gradient(cmap='coolwarm')\n",
        "# corr = df.corr()\n",
        "# plt.figure(figsize=(18,18))\n",
        "# sns.heatmap(corr, cmap='coolwarm', annot = True)\n",
        "# plt.show()\n",
        "\n",
        "## We will use this one for the end code\n",
        "## https://towardsdatascience.com/better-heatmaps-and-correlation-matrix-plots-in-python-41445d0f2bec"
      ],
      "metadata": {
        "colab": {
          "base_uri": "https://localhost:8080/",
          "height": 0
        },
        "id": "fV1yYIPBx_ji",
        "outputId": "ce4c23ac-4f40-441b-dbc9-fad29ad770c7"
      },
      "execution_count": 22,
      "outputs": [
        {
          "output_type": "execute_result",
          "data": {
            "text/html": [
              "<style  type=\"text/css\" >\n",
              "#T_46d746c6_6a40_11ec_964f_0242ac1c0002row0_col0,#T_46d746c6_6a40_11ec_964f_0242ac1c0002row1_col1,#T_46d746c6_6a40_11ec_964f_0242ac1c0002row2_col2,#T_46d746c6_6a40_11ec_964f_0242ac1c0002row3_col3,#T_46d746c6_6a40_11ec_964f_0242ac1c0002row4_col4,#T_46d746c6_6a40_11ec_964f_0242ac1c0002row5_col5,#T_46d746c6_6a40_11ec_964f_0242ac1c0002row6_col6,#T_46d746c6_6a40_11ec_964f_0242ac1c0002row7_col7,#T_46d746c6_6a40_11ec_964f_0242ac1c0002row8_col8,#T_46d746c6_6a40_11ec_964f_0242ac1c0002row9_col9,#T_46d746c6_6a40_11ec_964f_0242ac1c0002row10_col10{\n",
              "            background-color:  #b40426;\n",
              "            color:  #f1f1f1;\n",
              "        }#T_46d746c6_6a40_11ec_964f_0242ac1c0002row0_col1,#T_46d746c6_6a40_11ec_964f_0242ac1c0002row0_col2,#T_46d746c6_6a40_11ec_964f_0242ac1c0002row0_col3,#T_46d746c6_6a40_11ec_964f_0242ac1c0002row0_col4,#T_46d746c6_6a40_11ec_964f_0242ac1c0002row0_col5,#T_46d746c6_6a40_11ec_964f_0242ac1c0002row0_col6,#T_46d746c6_6a40_11ec_964f_0242ac1c0002row0_col7,#T_46d746c6_6a40_11ec_964f_0242ac1c0002row0_col8,#T_46d746c6_6a40_11ec_964f_0242ac1c0002row0_col9,#T_46d746c6_6a40_11ec_964f_0242ac1c0002row0_col10,#T_46d746c6_6a40_11ec_964f_0242ac1c0002row6_col0{\n",
              "            background-color:  #3b4cc0;\n",
              "            color:  #f1f1f1;\n",
              "        }#T_46d746c6_6a40_11ec_964f_0242ac1c0002row1_col0{\n",
              "            background-color:  #455cce;\n",
              "            color:  #f1f1f1;\n",
              "        }#T_46d746c6_6a40_11ec_964f_0242ac1c0002row1_col2{\n",
              "            background-color:  #f7ba9f;\n",
              "            color:  #000000;\n",
              "        }#T_46d746c6_6a40_11ec_964f_0242ac1c0002row1_col3{\n",
              "            background-color:  #f7b89c;\n",
              "            color:  #000000;\n",
              "        }#T_46d746c6_6a40_11ec_964f_0242ac1c0002row1_col4{\n",
              "            background-color:  #e2dad5;\n",
              "            color:  #000000;\n",
              "        }#T_46d746c6_6a40_11ec_964f_0242ac1c0002row1_col5{\n",
              "            background-color:  #e8d6cc;\n",
              "            color:  #000000;\n",
              "        }#T_46d746c6_6a40_11ec_964f_0242ac1c0002row1_col6,#T_46d746c6_6a40_11ec_964f_0242ac1c0002row8_col4{\n",
              "            background-color:  #f5c2aa;\n",
              "            color:  #000000;\n",
              "        }#T_46d746c6_6a40_11ec_964f_0242ac1c0002row1_col7{\n",
              "            background-color:  #efcfbf;\n",
              "            color:  #000000;\n",
              "        }#T_46d746c6_6a40_11ec_964f_0242ac1c0002row1_col8{\n",
              "            background-color:  #ead4c8;\n",
              "            color:  #000000;\n",
              "        }#T_46d746c6_6a40_11ec_964f_0242ac1c0002row1_col9{\n",
              "            background-color:  #b7cff9;\n",
              "            color:  #000000;\n",
              "        }#T_46d746c6_6a40_11ec_964f_0242ac1c0002row1_col10,#T_46d746c6_6a40_11ec_964f_0242ac1c0002row3_col5{\n",
              "            background-color:  #f59f80;\n",
              "            color:  #000000;\n",
              "        }#T_46d746c6_6a40_11ec_964f_0242ac1c0002row2_col0,#T_46d746c6_6a40_11ec_964f_0242ac1c0002row3_col0{\n",
              "            background-color:  #4a63d3;\n",
              "            color:  #f1f1f1;\n",
              "        }#T_46d746c6_6a40_11ec_964f_0242ac1c0002row2_col1{\n",
              "            background-color:  #f7b99e;\n",
              "            color:  #000000;\n",
              "        }#T_46d746c6_6a40_11ec_964f_0242ac1c0002row2_col3,#T_46d746c6_6a40_11ec_964f_0242ac1c0002row3_col2{\n",
              "            background-color:  #d24b40;\n",
              "            color:  #f1f1f1;\n",
              "        }#T_46d746c6_6a40_11ec_964f_0242ac1c0002row2_col4,#T_46d746c6_6a40_11ec_964f_0242ac1c0002row6_col3,#T_46d746c6_6a40_11ec_964f_0242ac1c0002row10_col4{\n",
              "            background-color:  #f6a385;\n",
              "            color:  #000000;\n",
              "        }#T_46d746c6_6a40_11ec_964f_0242ac1c0002row2_col5,#T_46d746c6_6a40_11ec_964f_0242ac1c0002row5_col2,#T_46d746c6_6a40_11ec_964f_0242ac1c0002row7_col2{\n",
              "            background-color:  #f39475;\n",
              "            color:  #000000;\n",
              "        }#T_46d746c6_6a40_11ec_964f_0242ac1c0002row2_col6{\n",
              "            background-color:  #f6a586;\n",
              "            color:  #000000;\n",
              "        }#T_46d746c6_6a40_11ec_964f_0242ac1c0002row2_col7,#T_46d746c6_6a40_11ec_964f_0242ac1c0002row10_col7{\n",
              "            background-color:  #f29072;\n",
              "            color:  #000000;\n",
              "        }#T_46d746c6_6a40_11ec_964f_0242ac1c0002row2_col8,#T_46d746c6_6a40_11ec_964f_0242ac1c0002row3_col8,#T_46d746c6_6a40_11ec_964f_0242ac1c0002row5_col3,#T_46d746c6_6a40_11ec_964f_0242ac1c0002row8_col2,#T_46d746c6_6a40_11ec_964f_0242ac1c0002row10_col8{\n",
              "            background-color:  #f5a081;\n",
              "            color:  #000000;\n",
              "        }#T_46d746c6_6a40_11ec_964f_0242ac1c0002row2_col9,#T_46d746c6_6a40_11ec_964f_0242ac1c0002row9_col2{\n",
              "            background-color:  #d8dce2;\n",
              "            color:  #000000;\n",
              "        }#T_46d746c6_6a40_11ec_964f_0242ac1c0002row2_col10,#T_46d746c6_6a40_11ec_964f_0242ac1c0002row3_col10{\n",
              "            background-color:  #e7745b;\n",
              "            color:  #000000;\n",
              "        }#T_46d746c6_6a40_11ec_964f_0242ac1c0002row3_col1{\n",
              "            background-color:  #f7b599;\n",
              "            color:  #000000;\n",
              "        }#T_46d746c6_6a40_11ec_964f_0242ac1c0002row3_col4,#T_46d746c6_6a40_11ec_964f_0242ac1c0002row6_col2,#T_46d746c6_6a40_11ec_964f_0242ac1c0002row10_col5{\n",
              "            background-color:  #f7aa8c;\n",
              "            color:  #000000;\n",
              "        }#T_46d746c6_6a40_11ec_964f_0242ac1c0002row3_col6,#T_46d746c6_6a40_11ec_964f_0242ac1c0002row8_col10{\n",
              "            background-color:  #f59d7e;\n",
              "            color:  #000000;\n",
              "        }#T_46d746c6_6a40_11ec_964f_0242ac1c0002row3_col7{\n",
              "            background-color:  #f4987a;\n",
              "            color:  #000000;\n",
              "        }#T_46d746c6_6a40_11ec_964f_0242ac1c0002row3_col9,#T_46d746c6_6a40_11ec_964f_0242ac1c0002row9_col3,#T_46d746c6_6a40_11ec_964f_0242ac1c0002row9_col8{\n",
              "            background-color:  #d3dbe7;\n",
              "            color:  #000000;\n",
              "        }#T_46d746c6_6a40_11ec_964f_0242ac1c0002row4_col0{\n",
              "            background-color:  #4257c9;\n",
              "            color:  #f1f1f1;\n",
              "        }#T_46d746c6_6a40_11ec_964f_0242ac1c0002row4_col1{\n",
              "            background-color:  #e0dbd8;\n",
              "            color:  #000000;\n",
              "        }#T_46d746c6_6a40_11ec_964f_0242ac1c0002row4_col2,#T_46d746c6_6a40_11ec_964f_0242ac1c0002row5_col10{\n",
              "            background-color:  #f7a688;\n",
              "            color:  #000000;\n",
              "        }#T_46d746c6_6a40_11ec_964f_0242ac1c0002row4_col3{\n",
              "            background-color:  #f7ad90;\n",
              "            color:  #000000;\n",
              "        }#T_46d746c6_6a40_11ec_964f_0242ac1c0002row4_col5,#T_46d746c6_6a40_11ec_964f_0242ac1c0002row6_col1{\n",
              "            background-color:  #f3c7b1;\n",
              "            color:  #000000;\n",
              "        }#T_46d746c6_6a40_11ec_964f_0242ac1c0002row4_col6,#T_46d746c6_6a40_11ec_964f_0242ac1c0002row6_col7{\n",
              "            background-color:  #f7ac8e;\n",
              "            color:  #000000;\n",
              "        }#T_46d746c6_6a40_11ec_964f_0242ac1c0002row4_col7,#T_46d746c6_6a40_11ec_964f_0242ac1c0002row7_col4{\n",
              "            background-color:  #f7b093;\n",
              "            color:  #000000;\n",
              "        }#T_46d746c6_6a40_11ec_964f_0242ac1c0002row4_col8,#T_46d746c6_6a40_11ec_964f_0242ac1c0002row5_col6,#T_46d746c6_6a40_11ec_964f_0242ac1c0002row8_col6{\n",
              "            background-color:  #f4c5ad;\n",
              "            color:  #000000;\n",
              "        }#T_46d746c6_6a40_11ec_964f_0242ac1c0002row4_col9{\n",
              "            background-color:  #ccd9ed;\n",
              "            color:  #000000;\n",
              "        }#T_46d746c6_6a40_11ec_964f_0242ac1c0002row4_col10,#T_46d746c6_6a40_11ec_964f_0242ac1c0002row8_col3,#T_46d746c6_6a40_11ec_964f_0242ac1c0002row10_col1{\n",
              "            background-color:  #f6a283;\n",
              "            color:  #000000;\n",
              "        }#T_46d746c6_6a40_11ec_964f_0242ac1c0002row5_col0,#T_46d746c6_6a40_11ec_964f_0242ac1c0002row8_col0{\n",
              "            background-color:  #485fd1;\n",
              "            color:  #f1f1f1;\n",
              "        }#T_46d746c6_6a40_11ec_964f_0242ac1c0002row5_col1{\n",
              "            background-color:  #e9d5cb;\n",
              "            color:  #000000;\n",
              "        }#T_46d746c6_6a40_11ec_964f_0242ac1c0002row5_col4{\n",
              "            background-color:  #f4c6af;\n",
              "            color:  #000000;\n",
              "        }#T_46d746c6_6a40_11ec_964f_0242ac1c0002row5_col7{\n",
              "            background-color:  #f5c0a7;\n",
              "            color:  #000000;\n",
              "        }#T_46d746c6_6a40_11ec_964f_0242ac1c0002row5_col8,#T_46d746c6_6a40_11ec_964f_0242ac1c0002row8_col5{\n",
              "            background-color:  #f6bea4;\n",
              "            color:  #000000;\n",
              "        }#T_46d746c6_6a40_11ec_964f_0242ac1c0002row5_col9{\n",
              "            background-color:  #dcdddd;\n",
              "            color:  #000000;\n",
              "        }#T_46d746c6_6a40_11ec_964f_0242ac1c0002row6_col4{\n",
              "            background-color:  #f7af91;\n",
              "            color:  #000000;\n",
              "        }#T_46d746c6_6a40_11ec_964f_0242ac1c0002row6_col5,#T_46d746c6_6a40_11ec_964f_0242ac1c0002row6_col8{\n",
              "            background-color:  #f2cab5;\n",
              "            color:  #000000;\n",
              "        }#T_46d746c6_6a40_11ec_964f_0242ac1c0002row6_col9{\n",
              "            background-color:  #b5cdfa;\n",
              "            color:  #000000;\n",
              "        }#T_46d746c6_6a40_11ec_964f_0242ac1c0002row6_col10,#T_46d746c6_6a40_11ec_964f_0242ac1c0002row10_col6{\n",
              "            background-color:  #e67259;\n",
              "            color:  #000000;\n",
              "        }#T_46d746c6_6a40_11ec_964f_0242ac1c0002row7_col0{\n",
              "            background-color:  #445acc;\n",
              "            color:  #f1f1f1;\n",
              "        }#T_46d746c6_6a40_11ec_964f_0242ac1c0002row7_col1{\n",
              "            background-color:  #eed0c0;\n",
              "            color:  #000000;\n",
              "        }#T_46d746c6_6a40_11ec_964f_0242ac1c0002row7_col3{\n",
              "            background-color:  #f59c7d;\n",
              "            color:  #000000;\n",
              "        }#T_46d746c6_6a40_11ec_964f_0242ac1c0002row7_col5{\n",
              "            background-color:  #f5c1a9;\n",
              "            color:  #000000;\n",
              "        }#T_46d746c6_6a40_11ec_964f_0242ac1c0002row7_col6{\n",
              "            background-color:  #f7a98b;\n",
              "            color:  #000000;\n",
              "        }#T_46d746c6_6a40_11ec_964f_0242ac1c0002row7_col8{\n",
              "            background-color:  #f7b396;\n",
              "            color:  #000000;\n",
              "        }#T_46d746c6_6a40_11ec_964f_0242ac1c0002row7_col9{\n",
              "            background-color:  #b6cefa;\n",
              "            color:  #000000;\n",
              "        }#T_46d746c6_6a40_11ec_964f_0242ac1c0002row7_col10{\n",
              "            background-color:  #f18f71;\n",
              "            color:  #000000;\n",
              "        }#T_46d746c6_6a40_11ec_964f_0242ac1c0002row8_col1{\n",
              "            background-color:  #ebd3c6;\n",
              "            color:  #000000;\n",
              "        }#T_46d746c6_6a40_11ec_964f_0242ac1c0002row8_col7{\n",
              "            background-color:  #f7b194;\n",
              "            color:  #000000;\n",
              "        }#T_46d746c6_6a40_11ec_964f_0242ac1c0002row8_col9,#T_46d746c6_6a40_11ec_964f_0242ac1c0002row9_col4{\n",
              "            background-color:  #d1dae9;\n",
              "            color:  #000000;\n",
              "        }#T_46d746c6_6a40_11ec_964f_0242ac1c0002row9_col0{\n",
              "            background-color:  #4b64d5;\n",
              "            color:  #f1f1f1;\n",
              "        }#T_46d746c6_6a40_11ec_964f_0242ac1c0002row9_col1,#T_46d746c6_6a40_11ec_964f_0242ac1c0002row9_col7{\n",
              "            background-color:  #bbd1f8;\n",
              "            color:  #000000;\n",
              "        }#T_46d746c6_6a40_11ec_964f_0242ac1c0002row9_col5{\n",
              "            background-color:  #dedcdb;\n",
              "            color:  #000000;\n",
              "        }#T_46d746c6_6a40_11ec_964f_0242ac1c0002row9_col6{\n",
              "            background-color:  #c0d4f5;\n",
              "            color:  #000000;\n",
              "        }#T_46d746c6_6a40_11ec_964f_0242ac1c0002row9_col10{\n",
              "            background-color:  #d4dbe6;\n",
              "            color:  #000000;\n",
              "        }#T_46d746c6_6a40_11ec_964f_0242ac1c0002row10_col0{\n",
              "            background-color:  #3e51c5;\n",
              "            color:  #f1f1f1;\n",
              "        }#T_46d746c6_6a40_11ec_964f_0242ac1c0002row10_col2{\n",
              "            background-color:  #e9785d;\n",
              "            color:  #000000;\n",
              "        }#T_46d746c6_6a40_11ec_964f_0242ac1c0002row10_col3{\n",
              "            background-color:  #e8765c;\n",
              "            color:  #000000;\n",
              "        }#T_46d746c6_6a40_11ec_964f_0242ac1c0002row10_col9{\n",
              "            background-color:  #cdd9ec;\n",
              "            color:  #000000;\n",
              "        }</style><table id=\"T_46d746c6_6a40_11ec_964f_0242ac1c0002\" class=\"dataframe\"><thead>    <tr>        <th class=\"blank level0\" ></th>        <th class=\"col_heading level0 col0\" >Sample code number</th>        <th class=\"col_heading level0 col1\" >Clump Thickness</th>        <th class=\"col_heading level0 col2\" >Uniformity of Cell Size</th>        <th class=\"col_heading level0 col3\" >Uniformity of Cell Shape</th>        <th class=\"col_heading level0 col4\" >Marginal Adhesion</th>        <th class=\"col_heading level0 col5\" >Single Epithelial Cell Size</th>        <th class=\"col_heading level0 col6\" >Bare Nuclei</th>        <th class=\"col_heading level0 col7\" >Bland Chromatin</th>        <th class=\"col_heading level0 col8\" >Normal Nucleoli</th>        <th class=\"col_heading level0 col9\" >Mitoses</th>        <th class=\"col_heading level0 col10\" >Class</th>    </tr></thead><tbody>\n",
              "                <tr>\n",
              "                        <th id=\"T_46d746c6_6a40_11ec_964f_0242ac1c0002level0_row0\" class=\"row_heading level0 row0\" >Sample code number</th>\n",
              "                        <td id=\"T_46d746c6_6a40_11ec_964f_0242ac1c0002row0_col0\" class=\"data row0 col0\" >1.000000</td>\n",
              "                        <td id=\"T_46d746c6_6a40_11ec_964f_0242ac1c0002row0_col1\" class=\"data row0 col1\" >-0.056350</td>\n",
              "                        <td id=\"T_46d746c6_6a40_11ec_964f_0242ac1c0002row0_col2\" class=\"data row0 col2\" >-0.041396</td>\n",
              "                        <td id=\"T_46d746c6_6a40_11ec_964f_0242ac1c0002row0_col3\" class=\"data row0 col3\" >-0.042221</td>\n",
              "                        <td id=\"T_46d746c6_6a40_11ec_964f_0242ac1c0002row0_col4\" class=\"data row0 col4\" >-0.069630</td>\n",
              "                        <td id=\"T_46d746c6_6a40_11ec_964f_0242ac1c0002row0_col5\" class=\"data row0 col5\" >-0.048644</td>\n",
              "                        <td id=\"T_46d746c6_6a40_11ec_964f_0242ac1c0002row0_col6\" class=\"data row0 col6\" >-0.099248</td>\n",
              "                        <td id=\"T_46d746c6_6a40_11ec_964f_0242ac1c0002row0_col7\" class=\"data row0 col7\" >-0.061966</td>\n",
              "                        <td id=\"T_46d746c6_6a40_11ec_964f_0242ac1c0002row0_col8\" class=\"data row0 col8\" >-0.050699</td>\n",
              "                        <td id=\"T_46d746c6_6a40_11ec_964f_0242ac1c0002row0_col9\" class=\"data row0 col9\" >-0.037972</td>\n",
              "                        <td id=\"T_46d746c6_6a40_11ec_964f_0242ac1c0002row0_col10\" class=\"data row0 col10\" >-0.084701</td>\n",
              "            </tr>\n",
              "            <tr>\n",
              "                        <th id=\"T_46d746c6_6a40_11ec_964f_0242ac1c0002level0_row1\" class=\"row_heading level0 row1\" >Clump Thickness</th>\n",
              "                        <td id=\"T_46d746c6_6a40_11ec_964f_0242ac1c0002row1_col0\" class=\"data row1 col0\" >-0.056350</td>\n",
              "                        <td id=\"T_46d746c6_6a40_11ec_964f_0242ac1c0002row1_col1\" class=\"data row1 col1\" >1.000000</td>\n",
              "                        <td id=\"T_46d746c6_6a40_11ec_964f_0242ac1c0002row1_col2\" class=\"data row1 col2\" >0.642481</td>\n",
              "                        <td id=\"T_46d746c6_6a40_11ec_964f_0242ac1c0002row1_col3\" class=\"data row1 col3\" >0.653470</td>\n",
              "                        <td id=\"T_46d746c6_6a40_11ec_964f_0242ac1c0002row1_col4\" class=\"data row1 col4\" >0.487829</td>\n",
              "                        <td id=\"T_46d746c6_6a40_11ec_964f_0242ac1c0002row1_col5\" class=\"data row1 col5\" >0.523596</td>\n",
              "                        <td id=\"T_46d746c6_6a40_11ec_964f_0242ac1c0002row1_col6\" class=\"data row1 col6\" >0.593091</td>\n",
              "                        <td id=\"T_46d746c6_6a40_11ec_964f_0242ac1c0002row1_col7\" class=\"data row1 col7\" >0.553742</td>\n",
              "                        <td id=\"T_46d746c6_6a40_11ec_964f_0242ac1c0002row1_col8\" class=\"data row1 col8\" >0.534066</td>\n",
              "                        <td id=\"T_46d746c6_6a40_11ec_964f_0242ac1c0002row1_col9\" class=\"data row1 col9\" >0.350957</td>\n",
              "                        <td id=\"T_46d746c6_6a40_11ec_964f_0242ac1c0002row1_col10\" class=\"data row1 col10\" >0.714790</td>\n",
              "            </tr>\n",
              "            <tr>\n",
              "                        <th id=\"T_46d746c6_6a40_11ec_964f_0242ac1c0002level0_row2\" class=\"row_heading level0 row2\" >Uniformity of Cell Size</th>\n",
              "                        <td id=\"T_46d746c6_6a40_11ec_964f_0242ac1c0002row2_col0\" class=\"data row2 col0\" >-0.041396</td>\n",
              "                        <td id=\"T_46d746c6_6a40_11ec_964f_0242ac1c0002row2_col1\" class=\"data row2 col1\" >0.642481</td>\n",
              "                        <td id=\"T_46d746c6_6a40_11ec_964f_0242ac1c0002row2_col2\" class=\"data row2 col2\" >1.000000</td>\n",
              "                        <td id=\"T_46d746c6_6a40_11ec_964f_0242ac1c0002row2_col3\" class=\"data row2 col3\" >0.907228</td>\n",
              "                        <td id=\"T_46d746c6_6a40_11ec_964f_0242ac1c0002row2_col4\" class=\"data row2 col4\" >0.706977</td>\n",
              "                        <td id=\"T_46d746c6_6a40_11ec_964f_0242ac1c0002row2_col5\" class=\"data row2 col5\" >0.753544</td>\n",
              "                        <td id=\"T_46d746c6_6a40_11ec_964f_0242ac1c0002row2_col6\" class=\"data row2 col6\" >0.691709</td>\n",
              "                        <td id=\"T_46d746c6_6a40_11ec_964f_0242ac1c0002row2_col7\" class=\"data row2 col7\" >0.755559</td>\n",
              "                        <td id=\"T_46d746c6_6a40_11ec_964f_0242ac1c0002row2_col8\" class=\"data row2 col8\" >0.719346</td>\n",
              "                        <td id=\"T_46d746c6_6a40_11ec_964f_0242ac1c0002row2_col9\" class=\"data row2 col9\" >0.460755</td>\n",
              "                        <td id=\"T_46d746c6_6a40_11ec_964f_0242ac1c0002row2_col10\" class=\"data row2 col10\" >0.820801</td>\n",
              "            </tr>\n",
              "            <tr>\n",
              "                        <th id=\"T_46d746c6_6a40_11ec_964f_0242ac1c0002level0_row3\" class=\"row_heading level0 row3\" >Uniformity of Cell Shape</th>\n",
              "                        <td id=\"T_46d746c6_6a40_11ec_964f_0242ac1c0002row3_col0\" class=\"data row3 col0\" >-0.042221</td>\n",
              "                        <td id=\"T_46d746c6_6a40_11ec_964f_0242ac1c0002row3_col1\" class=\"data row3 col1\" >0.653470</td>\n",
              "                        <td id=\"T_46d746c6_6a40_11ec_964f_0242ac1c0002row3_col2\" class=\"data row3 col2\" >0.907228</td>\n",
              "                        <td id=\"T_46d746c6_6a40_11ec_964f_0242ac1c0002row3_col3\" class=\"data row3 col3\" >1.000000</td>\n",
              "                        <td id=\"T_46d746c6_6a40_11ec_964f_0242ac1c0002row3_col4\" class=\"data row3 col4\" >0.685948</td>\n",
              "                        <td id=\"T_46d746c6_6a40_11ec_964f_0242ac1c0002row3_col5\" class=\"data row3 col5\" >0.722462</td>\n",
              "                        <td id=\"T_46d746c6_6a40_11ec_964f_0242ac1c0002row3_col6\" class=\"data row3 col6\" >0.713878</td>\n",
              "                        <td id=\"T_46d746c6_6a40_11ec_964f_0242ac1c0002row3_col7\" class=\"data row3 col7\" >0.735344</td>\n",
              "                        <td id=\"T_46d746c6_6a40_11ec_964f_0242ac1c0002row3_col8\" class=\"data row3 col8\" >0.717963</td>\n",
              "                        <td id=\"T_46d746c6_6a40_11ec_964f_0242ac1c0002row3_col9\" class=\"data row3 col9\" >0.441258</td>\n",
              "                        <td id=\"T_46d746c6_6a40_11ec_964f_0242ac1c0002row3_col10\" class=\"data row3 col10\" >0.821891</td>\n",
              "            </tr>\n",
              "            <tr>\n",
              "                        <th id=\"T_46d746c6_6a40_11ec_964f_0242ac1c0002level0_row4\" class=\"row_heading level0 row4\" >Marginal Adhesion</th>\n",
              "                        <td id=\"T_46d746c6_6a40_11ec_964f_0242ac1c0002row4_col0\" class=\"data row4 col0\" >-0.069630</td>\n",
              "                        <td id=\"T_46d746c6_6a40_11ec_964f_0242ac1c0002row4_col1\" class=\"data row4 col1\" >0.487829</td>\n",
              "                        <td id=\"T_46d746c6_6a40_11ec_964f_0242ac1c0002row4_col2\" class=\"data row4 col2\" >0.706977</td>\n",
              "                        <td id=\"T_46d746c6_6a40_11ec_964f_0242ac1c0002row4_col3\" class=\"data row4 col3\" >0.685948</td>\n",
              "                        <td id=\"T_46d746c6_6a40_11ec_964f_0242ac1c0002row4_col4\" class=\"data row4 col4\" >1.000000</td>\n",
              "                        <td id=\"T_46d746c6_6a40_11ec_964f_0242ac1c0002row4_col5\" class=\"data row4 col5\" >0.594548</td>\n",
              "                        <td id=\"T_46d746c6_6a40_11ec_964f_0242ac1c0002row4_col6\" class=\"data row4 col6\" >0.670648</td>\n",
              "                        <td id=\"T_46d746c6_6a40_11ec_964f_0242ac1c0002row4_col7\" class=\"data row4 col7\" >0.668567</td>\n",
              "                        <td id=\"T_46d746c6_6a40_11ec_964f_0242ac1c0002row4_col8\" class=\"data row4 col8\" >0.603121</td>\n",
              "                        <td id=\"T_46d746c6_6a40_11ec_964f_0242ac1c0002row4_col9\" class=\"data row4 col9\" >0.418898</td>\n",
              "                        <td id=\"T_46d746c6_6a40_11ec_964f_0242ac1c0002row4_col10\" class=\"data row4 col10\" >0.706294</td>\n",
              "            </tr>\n",
              "            <tr>\n",
              "                        <th id=\"T_46d746c6_6a40_11ec_964f_0242ac1c0002level0_row5\" class=\"row_heading level0 row5\" >Single Epithelial Cell Size</th>\n",
              "                        <td id=\"T_46d746c6_6a40_11ec_964f_0242ac1c0002row5_col0\" class=\"data row5 col0\" >-0.048644</td>\n",
              "                        <td id=\"T_46d746c6_6a40_11ec_964f_0242ac1c0002row5_col1\" class=\"data row5 col1\" >0.523596</td>\n",
              "                        <td id=\"T_46d746c6_6a40_11ec_964f_0242ac1c0002row5_col2\" class=\"data row5 col2\" >0.753544</td>\n",
              "                        <td id=\"T_46d746c6_6a40_11ec_964f_0242ac1c0002row5_col3\" class=\"data row5 col3\" >0.722462</td>\n",
              "                        <td id=\"T_46d746c6_6a40_11ec_964f_0242ac1c0002row5_col4\" class=\"data row5 col4\" >0.594548</td>\n",
              "                        <td id=\"T_46d746c6_6a40_11ec_964f_0242ac1c0002row5_col5\" class=\"data row5 col5\" >1.000000</td>\n",
              "                        <td id=\"T_46d746c6_6a40_11ec_964f_0242ac1c0002row5_col6\" class=\"data row5 col6\" >0.585716</td>\n",
              "                        <td id=\"T_46d746c6_6a40_11ec_964f_0242ac1c0002row5_col7\" class=\"data row5 col7\" >0.618128</td>\n",
              "                        <td id=\"T_46d746c6_6a40_11ec_964f_0242ac1c0002row5_col8\" class=\"data row5 col8\" >0.628926</td>\n",
              "                        <td id=\"T_46d746c6_6a40_11ec_964f_0242ac1c0002row5_col9\" class=\"data row5 col9\" >0.480583</td>\n",
              "                        <td id=\"T_46d746c6_6a40_11ec_964f_0242ac1c0002row5_col10\" class=\"data row5 col10\" >0.690958</td>\n",
              "            </tr>\n",
              "            <tr>\n",
              "                        <th id=\"T_46d746c6_6a40_11ec_964f_0242ac1c0002level0_row6\" class=\"row_heading level0 row6\" >Bare Nuclei</th>\n",
              "                        <td id=\"T_46d746c6_6a40_11ec_964f_0242ac1c0002row6_col0\" class=\"data row6 col0\" >-0.099248</td>\n",
              "                        <td id=\"T_46d746c6_6a40_11ec_964f_0242ac1c0002row6_col1\" class=\"data row6 col1\" >0.593091</td>\n",
              "                        <td id=\"T_46d746c6_6a40_11ec_964f_0242ac1c0002row6_col2\" class=\"data row6 col2\" >0.691709</td>\n",
              "                        <td id=\"T_46d746c6_6a40_11ec_964f_0242ac1c0002row6_col3\" class=\"data row6 col3\" >0.713878</td>\n",
              "                        <td id=\"T_46d746c6_6a40_11ec_964f_0242ac1c0002row6_col4\" class=\"data row6 col4\" >0.670648</td>\n",
              "                        <td id=\"T_46d746c6_6a40_11ec_964f_0242ac1c0002row6_col5\" class=\"data row6 col5\" >0.585716</td>\n",
              "                        <td id=\"T_46d746c6_6a40_11ec_964f_0242ac1c0002row6_col6\" class=\"data row6 col6\" >1.000000</td>\n",
              "                        <td id=\"T_46d746c6_6a40_11ec_964f_0242ac1c0002row6_col7\" class=\"data row6 col7\" >0.680615</td>\n",
              "                        <td id=\"T_46d746c6_6a40_11ec_964f_0242ac1c0002row6_col8\" class=\"data row6 col8\" >0.584280</td>\n",
              "                        <td id=\"T_46d746c6_6a40_11ec_964f_0242ac1c0002row6_col9\" class=\"data row6 col9\" >0.339210</td>\n",
              "                        <td id=\"T_46d746c6_6a40_11ec_964f_0242ac1c0002row6_col10\" class=\"data row6 col10\" >0.822696</td>\n",
              "            </tr>\n",
              "            <tr>\n",
              "                        <th id=\"T_46d746c6_6a40_11ec_964f_0242ac1c0002level0_row7\" class=\"row_heading level0 row7\" >Bland Chromatin</th>\n",
              "                        <td id=\"T_46d746c6_6a40_11ec_964f_0242ac1c0002row7_col0\" class=\"data row7 col0\" >-0.061966</td>\n",
              "                        <td id=\"T_46d746c6_6a40_11ec_964f_0242ac1c0002row7_col1\" class=\"data row7 col1\" >0.553742</td>\n",
              "                        <td id=\"T_46d746c6_6a40_11ec_964f_0242ac1c0002row7_col2\" class=\"data row7 col2\" >0.755559</td>\n",
              "                        <td id=\"T_46d746c6_6a40_11ec_964f_0242ac1c0002row7_col3\" class=\"data row7 col3\" >0.735344</td>\n",
              "                        <td id=\"T_46d746c6_6a40_11ec_964f_0242ac1c0002row7_col4\" class=\"data row7 col4\" >0.668567</td>\n",
              "                        <td id=\"T_46d746c6_6a40_11ec_964f_0242ac1c0002row7_col5\" class=\"data row7 col5\" >0.618128</td>\n",
              "                        <td id=\"T_46d746c6_6a40_11ec_964f_0242ac1c0002row7_col6\" class=\"data row7 col6\" >0.680615</td>\n",
              "                        <td id=\"T_46d746c6_6a40_11ec_964f_0242ac1c0002row7_col7\" class=\"data row7 col7\" >1.000000</td>\n",
              "                        <td id=\"T_46d746c6_6a40_11ec_964f_0242ac1c0002row7_col8\" class=\"data row7 col8\" >0.665602</td>\n",
              "                        <td id=\"T_46d746c6_6a40_11ec_964f_0242ac1c0002row7_col9\" class=\"data row7 col9\" >0.346011</td>\n",
              "                        <td id=\"T_46d746c6_6a40_11ec_964f_0242ac1c0002row7_col10\" class=\"data row7 col10\" >0.758228</td>\n",
              "            </tr>\n",
              "            <tr>\n",
              "                        <th id=\"T_46d746c6_6a40_11ec_964f_0242ac1c0002level0_row8\" class=\"row_heading level0 row8\" >Normal Nucleoli</th>\n",
              "                        <td id=\"T_46d746c6_6a40_11ec_964f_0242ac1c0002row8_col0\" class=\"data row8 col0\" >-0.050699</td>\n",
              "                        <td id=\"T_46d746c6_6a40_11ec_964f_0242ac1c0002row8_col1\" class=\"data row8 col1\" >0.534066</td>\n",
              "                        <td id=\"T_46d746c6_6a40_11ec_964f_0242ac1c0002row8_col2\" class=\"data row8 col2\" >0.719346</td>\n",
              "                        <td id=\"T_46d746c6_6a40_11ec_964f_0242ac1c0002row8_col3\" class=\"data row8 col3\" >0.717963</td>\n",
              "                        <td id=\"T_46d746c6_6a40_11ec_964f_0242ac1c0002row8_col4\" class=\"data row8 col4\" >0.603121</td>\n",
              "                        <td id=\"T_46d746c6_6a40_11ec_964f_0242ac1c0002row8_col5\" class=\"data row8 col5\" >0.628926</td>\n",
              "                        <td id=\"T_46d746c6_6a40_11ec_964f_0242ac1c0002row8_col6\" class=\"data row8 col6\" >0.584280</td>\n",
              "                        <td id=\"T_46d746c6_6a40_11ec_964f_0242ac1c0002row8_col7\" class=\"data row8 col7\" >0.665602</td>\n",
              "                        <td id=\"T_46d746c6_6a40_11ec_964f_0242ac1c0002row8_col8\" class=\"data row8 col8\" >1.000000</td>\n",
              "                        <td id=\"T_46d746c6_6a40_11ec_964f_0242ac1c0002row8_col9\" class=\"data row8 col9\" >0.433757</td>\n",
              "                        <td id=\"T_46d746c6_6a40_11ec_964f_0242ac1c0002row8_col10\" class=\"data row8 col10\" >0.718677</td>\n",
              "            </tr>\n",
              "            <tr>\n",
              "                        <th id=\"T_46d746c6_6a40_11ec_964f_0242ac1c0002level0_row9\" class=\"row_heading level0 row9\" >Mitoses</th>\n",
              "                        <td id=\"T_46d746c6_6a40_11ec_964f_0242ac1c0002row9_col0\" class=\"data row9 col0\" >-0.037972</td>\n",
              "                        <td id=\"T_46d746c6_6a40_11ec_964f_0242ac1c0002row9_col1\" class=\"data row9 col1\" >0.350957</td>\n",
              "                        <td id=\"T_46d746c6_6a40_11ec_964f_0242ac1c0002row9_col2\" class=\"data row9 col2\" >0.460755</td>\n",
              "                        <td id=\"T_46d746c6_6a40_11ec_964f_0242ac1c0002row9_col3\" class=\"data row9 col3\" >0.441258</td>\n",
              "                        <td id=\"T_46d746c6_6a40_11ec_964f_0242ac1c0002row9_col4\" class=\"data row9 col4\" >0.418898</td>\n",
              "                        <td id=\"T_46d746c6_6a40_11ec_964f_0242ac1c0002row9_col5\" class=\"data row9 col5\" >0.480583</td>\n",
              "                        <td id=\"T_46d746c6_6a40_11ec_964f_0242ac1c0002row9_col6\" class=\"data row9 col6\" >0.339210</td>\n",
              "                        <td id=\"T_46d746c6_6a40_11ec_964f_0242ac1c0002row9_col7\" class=\"data row9 col7\" >0.346011</td>\n",
              "                        <td id=\"T_46d746c6_6a40_11ec_964f_0242ac1c0002row9_col8\" class=\"data row9 col8\" >0.433757</td>\n",
              "                        <td id=\"T_46d746c6_6a40_11ec_964f_0242ac1c0002row9_col9\" class=\"data row9 col9\" >1.000000</td>\n",
              "                        <td id=\"T_46d746c6_6a40_11ec_964f_0242ac1c0002row9_col10\" class=\"data row9 col10\" >0.423448</td>\n",
              "            </tr>\n",
              "            <tr>\n",
              "                        <th id=\"T_46d746c6_6a40_11ec_964f_0242ac1c0002level0_row10\" class=\"row_heading level0 row10\" >Class</th>\n",
              "                        <td id=\"T_46d746c6_6a40_11ec_964f_0242ac1c0002row10_col0\" class=\"data row10 col0\" >-0.084701</td>\n",
              "                        <td id=\"T_46d746c6_6a40_11ec_964f_0242ac1c0002row10_col1\" class=\"data row10 col1\" >0.714790</td>\n",
              "                        <td id=\"T_46d746c6_6a40_11ec_964f_0242ac1c0002row10_col2\" class=\"data row10 col2\" >0.820801</td>\n",
              "                        <td id=\"T_46d746c6_6a40_11ec_964f_0242ac1c0002row10_col3\" class=\"data row10 col3\" >0.821891</td>\n",
              "                        <td id=\"T_46d746c6_6a40_11ec_964f_0242ac1c0002row10_col4\" class=\"data row10 col4\" >0.706294</td>\n",
              "                        <td id=\"T_46d746c6_6a40_11ec_964f_0242ac1c0002row10_col5\" class=\"data row10 col5\" >0.690958</td>\n",
              "                        <td id=\"T_46d746c6_6a40_11ec_964f_0242ac1c0002row10_col6\" class=\"data row10 col6\" >0.822696</td>\n",
              "                        <td id=\"T_46d746c6_6a40_11ec_964f_0242ac1c0002row10_col7\" class=\"data row10 col7\" >0.758228</td>\n",
              "                        <td id=\"T_46d746c6_6a40_11ec_964f_0242ac1c0002row10_col8\" class=\"data row10 col8\" >0.718677</td>\n",
              "                        <td id=\"T_46d746c6_6a40_11ec_964f_0242ac1c0002row10_col9\" class=\"data row10 col9\" >0.423448</td>\n",
              "                        <td id=\"T_46d746c6_6a40_11ec_964f_0242ac1c0002row10_col10\" class=\"data row10 col10\" >1.000000</td>\n",
              "            </tr>\n",
              "    </tbody></table>"
            ],
            "text/plain": [
              "<pandas.io.formats.style.Styler at 0x7fb98e1c1e90>"
            ]
          },
          "metadata": {},
          "execution_count": 22
        },
        {
          "output_type": "display_data",
          "data": {
            "text/plain": [
              "<Figure size 720x720 with 0 Axes>"
            ]
          },
          "metadata": {}
        }
      ]
    },
    {
      "cell_type": "markdown",
      "source": [
        "## Ploting Hist of the data distribution"
      ],
      "metadata": {
        "id": "H2kiyscO1lPB"
      }
    },
    {
      "cell_type": "code",
      "source": [
        "# create hist and kde plots to observe the data distribution\n",
        "fig, ax = plt.subplots(ncols=3, nrows=4, figsize=(30,20))\n",
        "index = 0\n",
        "ax = ax.flatten()\n",
        "\n",
        "for col, value in df.items():\n",
        "    col_dist = sns.histplot(value, ax=ax[index], color=\"blue\", label=\"100% Equities\", kde=True, stat=\"density\", linewidth=0)\n",
        "    col_dist.set_xlabel(col,fontsize=18)\n",
        "    col_dist.set_ylabel('density',fontsize=18)\n",
        "    index += 1\n",
        "plt.tight_layout(pad=0.5, w_pad=0.7, h_pad=5.0)\n"
      ],
      "metadata": {
        "colab": {
          "base_uri": "https://localhost:8080/",
          "height": 0
        },
        "id": "zkDvVIU31kat",
        "outputId": "d77ee807-1aef-47fe-f3de-b9569e293e0b"
      },
      "execution_count": 23,
      "outputs": [
        {
          "output_type": "display_data",
          "data": {
            "image/png": "[encoded data removed]",
            "text/plain": [
              "<Figure size 2160x1440 with 12 Axes>"
            ]
          },
          "metadata": {
            "needs_background": "light"
          }
        }
      ]
    },
    {
      "cell_type": "markdown",
      "source": [
        "# Fitting on the data"
      ],
      "metadata": {
        "id": "N4rIjFF6ztDs"
      }
    },
    {
      "cell_type": "markdown",
      "source": [
        "## Data Preprocessing "
      ],
      "metadata": {
        "id": "qo-RZl8E4Q6P"
      }
    },
    {
      "cell_type": "code",
      "source": [
        "from sklearn.preprocessing import LabelEncoder\n",
        "import numpy as np\n",
        "y=df['Class'].values\n",
        "print('Unique labels in y',np.unique(y))\n",
        "labelencoder=LabelEncoder()\n",
        "Y=labelencoder.fit_transform(y)\n",
        "x=df.drop(labels=['Class','Sample code number'],axis=1)\n",
        "print(x.describe().T)"
      ],
      "metadata": {
        "colab": {
          "base_uri": "https://localhost:8080/"
        },
        "id": "ROGIuJ6Z022D",
        "outputId": "6addb908-4ae9-4b61-85c3-66f1382732a1"
      },
      "execution_count": 24,
      "outputs": [
        {
          "output_type": "stream",
          "name": "stdout",
          "text": [
            "Unique labels in y [2 4]\n",
            "                             count      mean       std  ...  50%  75%   max\n",
            "Clump Thickness              683.0  4.442167  2.820761  ...  4.0  6.0  10.0\n",
            "Uniformity of Cell Size      683.0  3.150805  3.065145  ...  1.0  5.0  10.0\n",
            "Uniformity of Cell Shape     683.0  3.215227  2.988581  ...  1.0  5.0  10.0\n",
            "Marginal Adhesion            683.0  2.830161  2.864562  ...  1.0  4.0  10.0\n",
            "Single Epithelial Cell Size  683.0  3.234261  2.223085  ...  2.0  4.0  10.0\n",
            "Bare Nuclei                  683.0  3.544656  3.643857  ...  1.0  6.0  10.0\n",
            "Bland Chromatin              683.0  3.445095  2.449697  ...  3.0  5.0  10.0\n",
            "Normal Nucleoli              683.0  2.869693  3.052666  ...  1.0  4.0  10.0\n",
            "Mitoses                      683.0  1.603221  1.732674  ...  1.0  1.0  10.0\n",
            "\n",
            "[9 rows x 8 columns]\n"
          ]
        }
      ]
    },
    {
      "cell_type": "markdown",
      "source": [
        "## Test train split"
      ],
      "metadata": {
        "id": "zqsiEQTQ4fAV"
      }
    },
    {
      "cell_type": "code",
      "source": [
        "from sklearn.model_selection import train_test_split\n",
        "from sklearn.metrics import classification_report\n",
        "from sklearn import metrics\n",
        "\n",
        "x_train, x_test, y_train, y_test = train_test_split(x, y, test_size=0.2, random_state=42)\n",
        "# Feature Scaling\n",
        "print(x_train[0:5])"
      ],
      "metadata": {
        "colab": {
          "base_uri": "https://localhost:8080/"
        },
        "id": "n8ORvAKW4iNo",
        "outputId": "23fe1cad-f473-4008-f48b-983f31439ce9"
      },
      "execution_count": 25,
      "outputs": [
        {
          "output_type": "stream",
          "name": "stdout",
          "text": [
            "     Clump Thickness  Uniformity of Cell Size  ...  Normal Nucleoli  Mitoses\n",
            "437                3                        1  ...                1        1\n",
            "256                7                        9  ...                3        3\n",
            "584                5                        2  ...                1        1\n",
            "18                10                        7  ...                1        2\n",
            "350                2                        1  ...                1        1\n",
            "\n",
            "[5 rows x 9 columns]\n"
          ]
        }
      ]
    },
    {
      "cell_type": "markdown",
      "source": [
        "## Logistic Regression"
      ],
      "metadata": {
        "id": "mRSXYhan4-GG"
      }
    },
    {
      "cell_type": "code",
      "source": [
        "from sklearn.linear_model import LogisticRegression\n",
        "classifier_lr = LogisticRegression()\n",
        "classifier_lr.fit(x_train, y_train)\n",
        "prediction_lr = classifier_lr.predict(x_test)\n",
        "print(classification_report(y_test, prediction_lr, \n",
        "                            target_names = ['Benign (Class 2)','Malignant(Class 4)']))\n",
        "metrics.plot_roc_curve(classifier_lr, x_test, y_test)"
      ],
      "metadata": {
        "colab": {
          "base_uri": "https://localhost:8080/",
          "height": 507
        },
        "id": "ls-VKkdx49gn",
        "outputId": "29123d2b-28fe-443c-cbb0-2c0128cc2c9d"
      },
      "execution_count": 26,
      "outputs": [
        {
          "output_type": "stream",
          "name": "stdout",
          "text": [
            "                    precision    recall  f1-score   support\n",
            "\n",
            "  Benign (Class 2)       0.94      0.99      0.96        79\n",
            "Malignant(Class 4)       0.98      0.91      0.95        58\n",
            "\n",
            "          accuracy                           0.96       137\n",
            "         macro avg       0.96      0.95      0.95       137\n",
            "      weighted avg       0.96      0.96      0.96       137\n",
            "\n"
          ]
        },
        {
          "output_type": "stream",
          "name": "stderr",
          "text": [
            "/usr/local/lib/python3.7/dist-packages/sklearn/utils/deprecation.py:87: FutureWarning: Function plot_roc_curve is deprecated; Function `plot_roc_curve` is deprecated in 1.0 and will be removed in 1.2. Use one of the class methods: RocCurveDisplay.from_predictions or RocCurveDisplay.from_estimator.\n",
            "  warnings.warn(msg, category=FutureWarning)\n"
          ]
        },
        {
          "output_type": "execute_result",
          "data": {
            "text/plain": [
              "<sklearn.metrics._plot.roc_curve.RocCurveDisplay at 0x7fb986e152d0>"
            ]
          },
          "metadata": {},
          "execution_count": 26
        },
        {
          "output_type": "display_data",
          "data": {
            "image/png": "[encoded data removed]",
            "text/plain": [
              "<Figure size 432x288 with 1 Axes>"
            ]
          },
          "metadata": {
            "needs_background": "light"
          }
        }
      ]
    },
    {
      "cell_type": "code",
      "source": [
        "#plotting the confusion matrix for test set\n",
        "from sklearn.metrics import plot_confusion_matrix, accuracy_score, classification_report\n",
        "plot_confusion_matrix(classifier_lr,x_test,y_test)\n",
        "plt.show()\n",
        "#printing the accuracy for test set\n",
        "print('Accuracy of Logistic Regression model is {}'.format(accuracy_score(y_test,prediction_lr)*100))"
      ],
      "metadata": {
        "colab": {
          "base_uri": "https://localhost:8080/",
          "height": 351
        },
        "id": "rlqEK4gB5RpH",
        "outputId": "bf55b551-1542-4b9e-81cb-943a21482155"
      },
      "execution_count": 27,
      "outputs": [
        {
          "output_type": "stream",
          "name": "stderr",
          "text": [
            "/usr/local/lib/python3.7/dist-packages/sklearn/utils/deprecation.py:87: FutureWarning: Function plot_confusion_matrix is deprecated; Function `plot_confusion_matrix` is deprecated in 1.0 and will be removed in 1.2. Use one of the class methods: ConfusionMatrixDisplay.from_predictions or ConfusionMatrixDisplay.from_estimator.\n",
            "  warnings.warn(msg, category=FutureWarning)\n"
          ]
        },
        {
          "output_type": "display_data",
          "data": {
            "image/png": "[encoded data removed]",
            "text/plain": [
              "<Figure size 432x288 with 2 Axes>"
            ]
          },
          "metadata": {
            "needs_background": "light"
          }
        },
        {
          "output_type": "stream",
          "name": "stdout",
          "text": [
            "Accuracy of Logistic Regression model is 95.62043795620438\n"
          ]
        }
      ]
    },
    {
      "cell_type": "markdown",
      "source": [
        "## Decision Tree"
      ],
      "metadata": {
        "id": "9haUPkZO5Q1G"
      }
    },
    {
      "cell_type": "code",
      "source": [
        "#training the data using Decision Tree Classifier\n",
        "from sklearn.tree import DecisionTreeClassifier\n",
        "tree = DecisionTreeClassifier()\n",
        "tree.fit(x_train, y_train)\n",
        "prediction_dt = tree.predict(x_test)\n",
        "print(classification_report(y_test, prediction_dt,\n",
        "                            target_names = ['Benign (Class 2)','Malignant(Class 4)']))\n",
        "metrics.plot_roc_curve(tree, x_test, y_test)"
      ],
      "metadata": {
        "colab": {
          "base_uri": "https://localhost:8080/",
          "height": 507
        },
        "id": "CzpGsbAk5iT8",
        "outputId": "0f364858-ed43-47fb-bab9-05ce0c23ed4d"
      },
      "execution_count": 28,
      "outputs": [
        {
          "output_type": "stream",
          "name": "stdout",
          "text": [
            "                    precision    recall  f1-score   support\n",
            "\n",
            "  Benign (Class 2)       0.94      0.97      0.96        79\n",
            "Malignant(Class 4)       0.96      0.91      0.94        58\n",
            "\n",
            "          accuracy                           0.95       137\n",
            "         macro avg       0.95      0.94      0.95       137\n",
            "      weighted avg       0.95      0.95      0.95       137\n",
            "\n"
          ]
        },
        {
          "output_type": "stream",
          "name": "stderr",
          "text": [
            "/usr/local/lib/python3.7/dist-packages/sklearn/utils/deprecation.py:87: FutureWarning: Function plot_roc_curve is deprecated; Function `plot_roc_curve` is deprecated in 1.0 and will be removed in 1.2. Use one of the class methods: RocCurveDisplay.from_predictions or RocCurveDisplay.from_estimator.\n",
            "  warnings.warn(msg, category=FutureWarning)\n"
          ]
        },
        {
          "output_type": "execute_result",
          "data": {
            "text/plain": [
              "<sklearn.metrics._plot.roc_curve.RocCurveDisplay at 0x7fb986d30790>"
            ]
          },
          "metadata": {},
          "execution_count": 28
        },
        {
          "output_type": "display_data",
          "data": {
            "image/png": "[encoded data removed]",
            "text/plain": [
              "<Figure size 432x288 with 1 Axes>"
            ]
          },
          "metadata": {
            "needs_background": "light"
          }
        }
      ]
    },
    {
      "cell_type": "code",
      "source": [
        "#plotting the confusion matrix for test set\n",
        "from sklearn.metrics import confusion_matrix\n",
        "plot_confusion_matrix(tree,x_test,y_test)\n",
        "plt.show()\n",
        "print('Accuracy of Decision Tree model is {}'.format(accuracy_score(y_test,prediction_dt)*100))"
      ],
      "metadata": {
        "colab": {
          "base_uri": "https://localhost:8080/",
          "height": 351
        },
        "id": "q_X-MuPm5m3_",
        "outputId": "5e63e6cc-d6f6-4b92-c317-2ec97cbf152c"
      },
      "execution_count": 29,
      "outputs": [
        {
          "output_type": "stream",
          "name": "stderr",
          "text": [
            "/usr/local/lib/python3.7/dist-packages/sklearn/utils/deprecation.py:87: FutureWarning: Function plot_confusion_matrix is deprecated; Function `plot_confusion_matrix` is deprecated in 1.0 and will be removed in 1.2. Use one of the class methods: ConfusionMatrixDisplay.from_predictions or ConfusionMatrixDisplay.from_estimator.\n",
            "  warnings.warn(msg, category=FutureWarning)\n"
          ]
        },
        {
          "output_type": "display_data",
          "data": {
            "image/png": "[encoded data removed]",
            "text/plain": [
              "<Figure size 432x288 with 2 Axes>"
            ]
          },
          "metadata": {
            "needs_background": "light"
          }
        },
        {
          "output_type": "stream",
          "name": "stdout",
          "text": [
            "Accuracy of Decision Tree model is 94.8905109489051\n"
          ]
        }
      ]
    },
    {
      "cell_type": "markdown",
      "source": [
        "## Random Forest"
      ],
      "metadata": {
        "id": "U5pETNYL5x3V"
      }
    },
    {
      "cell_type": "code",
      "source": [
        "from sklearn.ensemble import RandomForestClassifier\n",
        "forest = RandomForestClassifier()\n",
        "forest.fit(x_train, y_train)\n",
        "prediction_rf = forest.predict(x_test)\n",
        "print(classification_report(y_test, prediction_rf,\n",
        "                            target_names = ['Benign (Class 2)','Malignant(Class 4)']))\n",
        "metrics.plot_roc_curve(forest, x_test, y_test)"
      ],
      "metadata": {
        "colab": {
          "base_uri": "https://localhost:8080/",
          "height": 507
        },
        "id": "uMXluVTs5xIK",
        "outputId": "26dd49ee-44c5-40bb-c835-1ddede627203"
      },
      "execution_count": 30,
      "outputs": [
        {
          "output_type": "stream",
          "name": "stdout",
          "text": [
            "                    precision    recall  f1-score   support\n",
            "\n",
            "  Benign (Class 2)       0.93      0.99      0.96        79\n",
            "Malignant(Class 4)       0.98      0.90      0.94        58\n",
            "\n",
            "          accuracy                           0.95       137\n",
            "         macro avg       0.95      0.94      0.95       137\n",
            "      weighted avg       0.95      0.95      0.95       137\n",
            "\n"
          ]
        },
        {
          "output_type": "stream",
          "name": "stderr",
          "text": [
            "/usr/local/lib/python3.7/dist-packages/sklearn/utils/deprecation.py:87: FutureWarning: Function plot_roc_curve is deprecated; Function `plot_roc_curve` is deprecated in 1.0 and will be removed in 1.2. Use one of the class methods: RocCurveDisplay.from_predictions or RocCurveDisplay.from_estimator.\n",
            "  warnings.warn(msg, category=FutureWarning)\n"
          ]
        },
        {
          "output_type": "execute_result",
          "data": {
            "text/plain": [
              "<sklearn.metrics._plot.roc_curve.RocCurveDisplay at 0x7fb986bb8c50>"
            ]
          },
          "metadata": {},
          "execution_count": 30
        },
        {
          "output_type": "display_data",
          "data": {
            "image/png": "[encoded data removed]",
            "text/plain": [
              "<Figure size 432x288 with 1 Axes>"
            ]
          },
          "metadata": {
            "needs_background": "light"
          }
        }
      ]
    },
    {
      "cell_type": "code",
      "source": [
        "plot_confusion_matrix(forest,x_test,y_test)\n",
        "plt.show()\n",
        "#printing the accuracy for test set\n",
        "print('Accuracy of Random Forest model is {}'.format(accuracy_score(y_test,prediction_rf)*100))"
      ],
      "metadata": {
        "colab": {
          "base_uri": "https://localhost:8080/",
          "height": 351
        },
        "id": "bJOz1Sqj59B2",
        "outputId": "dfb782b2-c898-4924-97b1-46beedeceb7b"
      },
      "execution_count": 31,
      "outputs": [
        {
          "output_type": "stream",
          "name": "stderr",
          "text": [
            "/usr/local/lib/python3.7/dist-packages/sklearn/utils/deprecation.py:87: FutureWarning: Function plot_confusion_matrix is deprecated; Function `plot_confusion_matrix` is deprecated in 1.0 and will be removed in 1.2. Use one of the class methods: ConfusionMatrixDisplay.from_predictions or ConfusionMatrixDisplay.from_estimator.\n",
            "  warnings.warn(msg, category=FutureWarning)\n"
          ]
        },
        {
          "output_type": "display_data",
          "data": {
            "image/png": "[encoded data removed]",
            "text/plain": [
              "<Figure size 432x288 with 2 Axes>"
            ]
          },
          "metadata": {
            "needs_background": "light"
          }
        },
        {
          "output_type": "stream",
          "name": "stdout",
          "text": [
            "Accuracy of Random Forest model is 94.8905109489051\n"
          ]
        }
      ]
    },
    {
      "cell_type": "markdown",
      "source": [
        "## XGBOOST"
      ],
      "metadata": {
        "id": "t7rwnKgz6C5P"
      }
    },
    {
      "cell_type": "code",
      "source": [
        "import xgboost\n",
        "xgb = xgboost.XGBClassifier(earning_rate=0.009, n_estimators=350, subsample=0.8, max_depth=7)\n",
        "xgb.fit(x_train,y_train)\n",
        "prediction_xgb = xgb.predict(x_test)\n",
        "print(classification_report(y_test, prediction_xgb, \n",
        "                            target_names = ['Benign (Class 2)','Malignant(Class 4)']))\n",
        "metrics.plot_roc_curve(xgb, x_test, y_test)"
      ],
      "metadata": {
        "colab": {
          "base_uri": "https://localhost:8080/",
          "height": 507
        },
        "id": "7vGphHkE6LMO",
        "outputId": "17cfb379-f2cf-41fa-f950-0e71f07d746a"
      },
      "execution_count": 32,
      "outputs": [
        {
          "output_type": "stream",
          "name": "stdout",
          "text": [
            "                    precision    recall  f1-score   support\n",
            "\n",
            "  Benign (Class 2)       0.95      0.99      0.97        79\n",
            "Malignant(Class 4)       0.98      0.93      0.96        58\n",
            "\n",
            "          accuracy                           0.96       137\n",
            "         macro avg       0.97      0.96      0.96       137\n",
            "      weighted avg       0.96      0.96      0.96       137\n",
            "\n"
          ]
        },
        {
          "output_type": "stream",
          "name": "stderr",
          "text": [
            "/usr/local/lib/python3.7/dist-packages/sklearn/utils/deprecation.py:87: FutureWarning: Function plot_roc_curve is deprecated; Function `plot_roc_curve` is deprecated in 1.0 and will be removed in 1.2. Use one of the class methods: RocCurveDisplay.from_predictions or RocCurveDisplay.from_estimator.\n",
            "  warnings.warn(msg, category=FutureWarning)\n"
          ]
        },
        {
          "output_type": "execute_result",
          "data": {
            "text/plain": [
              "<sklearn.metrics._plot.roc_curve.RocCurveDisplay at 0x7fb986ead850>"
            ]
          },
          "metadata": {},
          "execution_count": 32
        },
        {
          "output_type": "display_data",
          "data": {
            "image/png": "[encoded data removed]",
            "text/plain": [
              "<Figure size 432x288 with 1 Axes>"
            ]
          },
          "metadata": {
            "needs_background": "light"
          }
        }
      ]
    },
    {
      "cell_type": "code",
      "source": [
        "#plotting the confusion matrix for test set\n",
        "plot_confusion_matrix(xgb,x_test,y_test)\n",
        "plt.show()\n",
        "#printing the accuracy for test set\n",
        "print('Accuracy of XGB model is {}'.format(accuracy_score(y_test,prediction_xgb)*100))"
      ],
      "metadata": {
        "colab": {
          "base_uri": "https://localhost:8080/",
          "height": 351
        },
        "id": "8OtQez3F6VB4",
        "outputId": "bbb52978-942a-4efe-9e0c-d269efcb885f"
      },
      "execution_count": 33,
      "outputs": [
        {
          "output_type": "stream",
          "name": "stderr",
          "text": [
            "/usr/local/lib/python3.7/dist-packages/sklearn/utils/deprecation.py:87: FutureWarning: Function plot_confusion_matrix is deprecated; Function `plot_confusion_matrix` is deprecated in 1.0 and will be removed in 1.2. Use one of the class methods: ConfusionMatrixDisplay.from_predictions or ConfusionMatrixDisplay.from_estimator.\n",
            "  warnings.warn(msg, category=FutureWarning)\n"
          ]
        },
        {
          "output_type": "display_data",
          "data": {
            "image/png": "[encoded data removed]",
            "text/plain": [
              "<Figure size 432x288 with 2 Axes>"
            ]
          },
          "metadata": {
            "needs_background": "light"
          }
        },
        {
          "output_type": "stream",
          "name": "stdout",
          "text": [
            "Accuracy of XGB model is 96.35036496350365\n"
          ]
        }
      ]
    },
    {
      "cell_type": "markdown",
      "source": [
        "## SVM"
      ],
      "metadata": {
        "id": "69qf9Y_36g0a"
      }
    },
    {
      "cell_type": "code",
      "source": [
        "from sklearn.svm import SVC\n",
        "svm = SVC(kernel='rbf', random_state = 1)\n",
        "svm.fit(x_train,y_train)\n",
        "prediction_svm = svm.predict(x_test)\n",
        "print(classification_report(y_test, prediction_xgb, \n",
        "                            target_names = ['Benign (Class 2)','Malignant(Class 4)']))\n",
        "metrics.plot_roc_curve(svm, x_test, y_test)"
      ],
      "metadata": {
        "colab": {
          "base_uri": "https://localhost:8080/",
          "height": 507
        },
        "id": "o66lqFUO6gJj",
        "outputId": "b53e2052-317a-42b4-cb54-2c41b20be0d3"
      },
      "execution_count": 34,
      "outputs": [
        {
          "output_type": "stream",
          "name": "stdout",
          "text": [
            "                    precision    recall  f1-score   support\n",
            "\n",
            "  Benign (Class 2)       0.95      0.99      0.97        79\n",
            "Malignant(Class 4)       0.98      0.93      0.96        58\n",
            "\n",
            "          accuracy                           0.96       137\n",
            "         macro avg       0.97      0.96      0.96       137\n",
            "      weighted avg       0.96      0.96      0.96       137\n",
            "\n"
          ]
        },
        {
          "output_type": "stream",
          "name": "stderr",
          "text": [
            "/usr/local/lib/python3.7/dist-packages/sklearn/utils/deprecation.py:87: FutureWarning: Function plot_roc_curve is deprecated; Function `plot_roc_curve` is deprecated in 1.0 and will be removed in 1.2. Use one of the class methods: RocCurveDisplay.from_predictions or RocCurveDisplay.from_estimator.\n",
            "  warnings.warn(msg, category=FutureWarning)\n"
          ]
        },
        {
          "output_type": "execute_result",
          "data": {
            "text/plain": [
              "<sklearn.metrics._plot.roc_curve.RocCurveDisplay at 0x7fb9a3301390>"
            ]
          },
          "metadata": {},
          "execution_count": 34
        },
        {
          "output_type": "display_data",
          "data": {
            "image/png": "[encoded data removed]",
            "text/plain": [
              "<Figure size 432x288 with 1 Axes>"
            ]
          },
          "metadata": {
            "needs_background": "light"
          }
        }
      ]
    },
    {
      "cell_type": "code",
      "source": [
        "#plotting the confusion matrix for test set\n",
        "plot_confusion_matrix(svm,x_test,y_test)\n",
        "plt.show()\n",
        "#printing the accuracy for test set\n",
        "print('Accuracy of SVM model is {}'.format(accuracy_score(y_test,prediction_svm)*100))"
      ],
      "metadata": {
        "colab": {
          "base_uri": "https://localhost:8080/",
          "height": 351
        },
        "id": "0GLift7x7Elb",
        "outputId": "096b18b8-c091-4906-9fd2-ccf3f7cf385e"
      },
      "execution_count": 35,
      "outputs": [
        {
          "output_type": "stream",
          "name": "stderr",
          "text": [
            "/usr/local/lib/python3.7/dist-packages/sklearn/utils/deprecation.py:87: FutureWarning: Function plot_confusion_matrix is deprecated; Function `plot_confusion_matrix` is deprecated in 1.0 and will be removed in 1.2. Use one of the class methods: ConfusionMatrixDisplay.from_predictions or ConfusionMatrixDisplay.from_estimator.\n",
            "  warnings.warn(msg, category=FutureWarning)\n"
          ]
        },
        {
          "output_type": "display_data",
          "data": {
            "image/png": "[encoded data removed]",
            "text/plain": [
              "<Figure size 432x288 with 2 Axes>"
            ]
          },
          "metadata": {
            "needs_background": "light"
          }
        },
        {
          "output_type": "stream",
          "name": "stdout",
          "text": [
            "Accuracy of SVM model is 94.8905109489051\n"
          ]
        }
      ]
    },
    {
      "cell_type": "markdown",
      "source": [
        "# Conclusion with Accuracies in one place"
      ],
      "metadata": {
        "id": "hAEfLmO49ydX"
      }
    },
    {
      "cell_type": "code",
      "source": [
        "print('Accuracy of Logistic Regression model is {}'.format(accuracy_score(y_test,prediction_lr)*100))\n",
        "print('Accuracy of Decision Tree model is {}'.format(accuracy_score(y_test,prediction_dt)*100))\n",
        "print('Accuracy of Random Forest model is {}'.format(accuracy_score(y_test,prediction_rf)*100))\n",
        "print('Accuracy of XGB model is {}'.format(accuracy_score(y_test,prediction_xgb)*100))\n",
        "print('Accuracy of SVM model is {}'.format(accuracy_score(y_test,prediction_svm)*100))"
      ],
      "metadata": {
        "colab": {
          "base_uri": "https://localhost:8080/"
        },
        "id": "zxKtH1AT96xG",
        "outputId": "561aac16-8cb0-4d84-f131-82c6c3a47c1a"
      },
      "execution_count": 36,
      "outputs": [
        {
          "output_type": "stream",
          "name": "stdout",
          "text": [
            "Accuracy of Logistic Regression model is 95.62043795620438\n",
            "Accuracy of Decision Tree model is 94.8905109489051\n",
            "Accuracy of Random Forest model is 94.8905109489051\n",
            "Accuracy of XGB model is 96.35036496350365\n",
            "Accuracy of SVM model is 94.8905109489051\n"
          ]
        }
      ]
    }
  ]
}