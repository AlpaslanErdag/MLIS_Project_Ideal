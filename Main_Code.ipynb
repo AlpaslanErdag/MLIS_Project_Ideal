{
  "nbformat": 4,
  "nbformat_minor": 0,
  "metadata": {
    "colab": {
      "name": "Main_Code.ipynb",
      "provenance": [],
      "collapsed_sections": [],
      "authorship_tag": "ABX9TyMaNxiJHnpssyx3BYl8n++N",
      "include_colab_link": true
    },
    "kernelspec": {
      "name": "python3",
      "display_name": "Python 3"
    },
    "language_info": {
      "name": "python"
    }
  },
  "cells": [
    {
      "cell_type": "markdown",
      "metadata": {
        "id": "view-in-github",
        "colab_type": "text"
      },
      "source": [
        "<a href=\"https://colab.research.google.com/github/Anshuman-37/MLIS_Project_Ideal/blob/main/Main_Code.ipynb\" target=\"_parent\"><img src=\"https://colab.research.google.com/assets/colab-badge.svg\" alt=\"Open In Colab\"/></a>"
      ]
    },
    {
      "cell_type": "code",
      "source": [
        "# This is the main jupyter notebook for the coursework of MLIS \n",
        "## Grp 4B\n",
        "## Authors\n",
        "## Alpaslan Erdag , Anshuman Singh , Yixin Fan\n",
        "## Date - 15/01/2022"
      ],
      "metadata": {
        "id": "e6rrsFyi4Bd9"
      },
      "execution_count": 1,
      "outputs": []
    },
    {
      "cell_type": "markdown",
      "source": [
        "<h1> <center> Abstract </center> </h1>\n",
        "​<em>\n",
        "\n",
        "Todo - Write some abstract about the data giving some information about.\n",
        "\n",
        "The data is obtanined from UCI repository which can be obtained from the [here](https://archive.ics.uci.edu/ml/datasets/breast+cancer+wisconsin+%28original%29)\n",
        "</em>"
      ],
      "metadata": {
        "id": "G-IY5zC537OU"
      }
    },
    {
      "cell_type": "code",
      "source": [
        "# Also should we show this ? tell me your thoughts\n",
        "# about_data ='/Users/anshuman/Desktop/Project_Folder/MLIS_Project_Ideal/breast-cancer-wisconsin.names'\n",
        "about_data = '/content/breast-cancer-wisconsin.names'\n",
        "with open(about_data) as f:\n",
        "    print(f.read())"
      ],
      "metadata": {
        "colab": {
          "base_uri": "https://localhost:8080/"
        },
        "id": "3boaTk7A4FrC",
        "outputId": "28e07a26-0a3f-4422-b507-f887576fdaca"
      },
      "execution_count": 2,
      "outputs": [
        {
          "output_type": "stream",
          "name": "stdout",
          "text": [
            "Citation Request:\n",
            "   This breast cancer databases was obtained from the University of Wisconsin\n",
            "   Hospitals, Madison from Dr. William H. Wolberg.  If you publish results\n",
            "   when using this database, then please include this information in your\n",
            "   acknowledgements.  Also, please cite one or more of:\n",
            "\n",
            "   1. O. L. Mangasarian and W. H. Wolberg: \"Cancer diagnosis via linear \n",
            "      programming\", SIAM News, Volume 23, Number 5, September 1990, pp 1 & 18.\n",
            "\n",
            "   2. William H. Wolberg and O.L. Mangasarian: \"Multisurface method of \n",
            "      pattern separation for medical diagnosis applied to breast cytology\", \n",
            "      Proceedings of the National Academy of Sciences, U.S.A., Volume 87, \n",
            "      December 1990, pp 9193-9196.\n",
            "\n",
            "   3. O. L. Mangasarian, R. Setiono, and W.H. Wolberg: \"Pattern recognition \n",
            "      via linear programming: Theory and application to medical diagnosis\", \n",
            "      in: \"Large-scale numerical optimization\", Thomas F. Coleman and Yuying\n",
            "      Li, editors, SIAM Publications, Philadelphia 1990, pp 22-30.\n",
            "\n",
            "   4. K. P. Bennett & O. L. Mangasarian: \"Robust linear programming \n",
            "      discrimination of two linearly inseparable sets\", Optimization Methods\n",
            "      and Software 1, 1992, 23-34 (Gordon & Breach Science Publishers).\n",
            "\n",
            "1. Title: Wisconsin Breast Cancer Database (January 8, 1991)\n",
            "\n",
            "2. Sources:\n",
            "   -- Dr. WIlliam H. Wolberg (physician)\n",
            "      University of Wisconsin Hospitals\n",
            "      Madison, Wisconsin\n",
            "      USA\n",
            "   -- Donor: Olvi Mangasarian (mangasarian@cs.wisc.edu)\n",
            "      Received by David W. Aha (aha@cs.jhu.edu)\n",
            "   -- Date: 15 July 1992\n",
            "\n",
            "3. Past Usage:\n",
            "\n",
            "   Attributes 2 through 10 have been used to represent instances.\n",
            "   Each instance has one of 2 possible classes: benign or malignant.\n",
            "\n",
            "   1. Wolberg,~W.~H., \\& Mangasarian,~O.~L. (1990). Multisurface method of \n",
            "      pattern separation for medical diagnosis applied to breast cytology. In\n",
            "      {\\it Proceedings of the National Academy of Sciences}, {\\it 87},\n",
            "      9193--9196.\n",
            "      -- Size of data set: only 369 instances (at that point in time)\n",
            "      -- Collected classification results: 1 trial only\n",
            "      -- Two pairs of parallel hyperplanes were found to be consistent with\n",
            "         50% of the data\n",
            "         -- Accuracy on remaining 50% of dataset: 93.5%\n",
            "      -- Three pairs of parallel hyperplanes were found to be consistent with\n",
            "         67% of data\n",
            "         -- Accuracy on remaining 33% of dataset: 95.9%\n",
            "\n",
            "   2. Zhang,~J. (1992). Selecting typical instances in instance-based\n",
            "      learning.  In {\\it Proceedings of the Ninth International Machine\n",
            "      Learning Conference} (pp. 470--479).  Aberdeen, Scotland: Morgan\n",
            "      Kaufmann.\n",
            "      -- Size of data set: only 369 instances (at that point in time)\n",
            "      -- Applied 4 instance-based learning algorithms \n",
            "      -- Collected classification results averaged over 10 trials\n",
            "      -- Best accuracy result: \n",
            "         -- 1-nearest neighbor: 93.7%\n",
            "         -- trained on 200 instances, tested on the other 169\n",
            "      -- Also of interest:\n",
            "         -- Using only typical instances: 92.2% (storing only 23.1 instances)\n",
            "         -- trained on 200 instances, tested on the other 169\n",
            "\n",
            "4. Relevant Information:\n",
            "\n",
            "   Samples arrive periodically as Dr. Wolberg reports his clinical cases.\n",
            "   The database therefore reflects this chronological grouping of the data.\n",
            "   This grouping information appears immediately below, having been removed\n",
            "   from the data itself:\n",
            "\n",
            "     Group 1: 367 instances (January 1989)\n",
            "     Group 2:  70 instances (October 1989)\n",
            "     Group 3:  31 instances (February 1990)\n",
            "     Group 4:  17 instances (April 1990)\n",
            "     Group 5:  48 instances (August 1990)\n",
            "     Group 6:  49 instances (Updated January 1991)\n",
            "     Group 7:  31 instances (June 1991)\n",
            "     Group 8:  86 instances (November 1991)\n",
            "     -----------------------------------------\n",
            "     Total:   699 points (as of the donated datbase on 15 July 1992)\n",
            "\n",
            "   Note that the results summarized above in Past Usage refer to a dataset\n",
            "   of size 369, while Group 1 has only 367 instances.  This is because it\n",
            "   originally contained 369 instances; 2 were removed.  The following\n",
            "   statements summarizes changes to the original Group 1's set of data:\n",
            "\n",
            "   #####  Group 1 : 367 points: 200B 167M (January 1989)\n",
            "   #####  Revised Jan 10, 1991: Replaced zero bare nuclei in 1080185 & 1187805\n",
            "   #####  Revised Nov 22,1991: Removed 765878,4,5,9,7,10,10,10,3,8,1 no record\n",
            "   #####                  : Removed 484201,2,7,8,8,4,3,10,3,4,1 zero epithelial\n",
            "   #####                  : Changed 0 to 1 in field 6 of sample 1219406\n",
            "   #####                  : Changed 0 to 1 in field 8 of following sample:\n",
            "   #####                  : 1182404,2,3,1,1,1,2,0,1,1,1\n",
            "\n",
            "5. Number of Instances: 699 (as of 15 July 1992)\n",
            "\n",
            "6. Number of Attributes: 10 plus the class attribute\n",
            "\n",
            "7. Attribute Information: (class attribute has been moved to last column)\n",
            "\n",
            "   #  Attribute                     Domain\n",
            "   -- -----------------------------------------\n",
            "   1. Sample code number            id number\n",
            "   2. Clump Thickness               1 - 10\n",
            "   3. Uniformity of Cell Size       1 - 10\n",
            "   4. Uniformity of Cell Shape      1 - 10\n",
            "   5. Marginal Adhesion             1 - 10\n",
            "   6. Single Epithelial Cell Size   1 - 10\n",
            "   7. Bare Nuclei                   1 - 10\n",
            "   8. Bland Chromatin               1 - 10\n",
            "   9. Normal Nucleoli               1 - 10\n",
            "  10. Mitoses                       1 - 10\n",
            "  11. Class:                        (2 for benign, 4 for malignant)\n",
            "\n",
            "8. Missing attribute values: 16\n",
            "\n",
            "   There are 16 instances in Groups 1 to 6 that contain a single missing \n",
            "   (i.e., unavailable) attribute value, now denoted by \"?\".  \n",
            "\n",
            "9. Class distribution:\n",
            " \n",
            "   Benign: 458 (65.5%)\n",
            "   Malignant: 241 (34.5%)\n",
            "\n"
          ]
        }
      ]
    },
    {
      "cell_type": "markdown",
      "source": [
        "<h1><center>About code (Suggest a good heading)</center></h1>\n",
        "\n",
        "<h2><em>The code is divided in the following modules/parts/chapters?</h2>\n",
        "<ol>\n",
        "<li> <h4> Data Cleaning and Data Preprocessing </h4></li> \n",
        "<li> <h4>Model Fiting on the clean data </h4></li> \n",
        "<li> <h4>Model Accuracy </h4></li>\n",
        "</ol>\n",
        "</em>"
      ],
      "metadata": {
        "id": "ZN6gh3N24R-W"
      }
    },
    {
      "cell_type": "markdown",
      "source": [
        "<h2><center>1. Data Cleaning and Data Preprocessing</center></h2>\n",
        "\n",
        "<p>To get a good result over model accuracies we are going to first clean the data and then used the cleaned and preprocessed data to train a model. </p>\n",
        "\n",
        "<p> We will be using a systematic approach to clean our data. That will be listed in the following steps</p>\n",
        "<em>\n",
        "&emsp; <li>Data Visulaization</li>\n",
        "&emsp; <li>Checking and Removing nan values</li>\n",
        "&emsp; <li>Removing Useless Attributes</li>\n",
        "&emsp; <li>Deleting Outliers and Data Normalizations</li>\n",
        "</em>"
      ],
      "metadata": {
        "id": "0TONMQnQ4SDg"
      }
    },
    {
      "cell_type": "markdown",
      "source": [
        "<h3>1.1 Data Visualization </h3>"
      ],
      "metadata": {
        "id": "-daRoybV4SJI"
      }
    },
    {
      "cell_type": "markdown",
      "source": [
        "<h4>1.1.1 Code </h4>"
      ],
      "metadata": {
        "id": "dRQhoFvkfl-R"
      }
    },
    {
      "cell_type": "code",
      "source": [
        "## Header Files \n",
        "import pandas as pd\n",
        "import numpy as np\n",
        "import warnings\n",
        "warnings.filterwarnings('ignore')\n",
        "import matplotlib.pyplot as plt\n",
        "import seaborn as sns\n",
        "plt.style.use('ggplot')\n",
        "import scipy\n",
        "\n",
        "## Loading Data \n",
        "#data = '/Users/anshuman/Desktop/Project_Folder/MLIS_Project_Ideal/breast-cancer-wisconsin.data'\n",
        "data = '/content/breast-cancer-wisconsin.data'"
      ],
      "metadata": {
        "id": "sK9S6Bky4RlC"
      },
      "execution_count": 3,
      "outputs": []
    },
    {
      "cell_type": "code",
      "source": [
        "col_name = ['Samplecodenumber','ClumpThickness','UniformityofCellSize','UniformityofCellShape',\n",
        "            'MarginalAdhesion','SingleEpithelialCellSize','BareNuclei',\n",
        "            'BlandChromatin','NormalNucleoli','Mitoses','Class']\n",
        "cancerdata = pd.read_csv(data,low_memory=False,names=col_name)\n",
        "cancerdata.head()"
      ],
      "metadata": {
        "colab": {
          "base_uri": "https://localhost:8080/",
          "height": 270
        },
        "id": "xL5c7NTs4omD",
        "outputId": "2743f567-3400-4689-86aa-df54eccf0fe7"
      },
      "execution_count": 4,
      "outputs": [
        {
          "output_type": "execute_result",
          "data": {
            "text/html": [
              "\n",
              "  <div id=\"df-f78d1323-9361-4463-96bb-bd4d5381bbd9\">\n",
              "    <div class=\"colab-df-container\">\n",
              "      <div>\n",
              "<style scoped>\n",
              "    .dataframe tbody tr th:only-of-type {\n",
              "        vertical-align: middle;\n",
              "    }\n",
              "\n",
              "    .dataframe tbody tr th {\n",
              "        vertical-align: top;\n",
              "    }\n",
              "\n",
              "    .dataframe thead th {\n",
              "        text-align: right;\n",
              "    }\n",
              "</style>\n",
              "<table border=\"1\" class=\"dataframe\">\n",
              "  <thead>\n",
              "    <tr style=\"text-align: right;\">\n",
              "      <th></th>\n",
              "      <th>Samplecodenumber</th>\n",
              "      <th>ClumpThickness</th>\n",
              "      <th>UniformityofCellSize</th>\n",
              "      <th>UniformityofCellShape</th>\n",
              "      <th>MarginalAdhesion</th>\n",
              "      <th>SingleEpithelialCellSize</th>\n",
              "      <th>BareNuclei</th>\n",
              "      <th>BlandChromatin</th>\n",
              "      <th>NormalNucleoli</th>\n",
              "      <th>Mitoses</th>\n",
              "      <th>Class</th>\n",
              "    </tr>\n",
              "  </thead>\n",
              "  <tbody>\n",
              "    <tr>\n",
              "      <th>0</th>\n",
              "      <td>1000025</td>\n",
              "      <td>5</td>\n",
              "      <td>1</td>\n",
              "      <td>1</td>\n",
              "      <td>1</td>\n",
              "      <td>2</td>\n",
              "      <td>1</td>\n",
              "      <td>3</td>\n",
              "      <td>1</td>\n",
              "      <td>1</td>\n",
              "      <td>2</td>\n",
              "    </tr>\n",
              "    <tr>\n",
              "      <th>1</th>\n",
              "      <td>1002945</td>\n",
              "      <td>5</td>\n",
              "      <td>4</td>\n",
              "      <td>4</td>\n",
              "      <td>5</td>\n",
              "      <td>7</td>\n",
              "      <td>10</td>\n",
              "      <td>3</td>\n",
              "      <td>2</td>\n",
              "      <td>1</td>\n",
              "      <td>2</td>\n",
              "    </tr>\n",
              "    <tr>\n",
              "      <th>2</th>\n",
              "      <td>1015425</td>\n",
              "      <td>3</td>\n",
              "      <td>1</td>\n",
              "      <td>1</td>\n",
              "      <td>1</td>\n",
              "      <td>2</td>\n",
              "      <td>2</td>\n",
              "      <td>3</td>\n",
              "      <td>1</td>\n",
              "      <td>1</td>\n",
              "      <td>2</td>\n",
              "    </tr>\n",
              "    <tr>\n",
              "      <th>3</th>\n",
              "      <td>1016277</td>\n",
              "      <td>6</td>\n",
              "      <td>8</td>\n",
              "      <td>8</td>\n",
              "      <td>1</td>\n",
              "      <td>3</td>\n",
              "      <td>4</td>\n",
              "      <td>3</td>\n",
              "      <td>7</td>\n",
              "      <td>1</td>\n",
              "      <td>2</td>\n",
              "    </tr>\n",
              "    <tr>\n",
              "      <th>4</th>\n",
              "      <td>1017023</td>\n",
              "      <td>4</td>\n",
              "      <td>1</td>\n",
              "      <td>1</td>\n",
              "      <td>3</td>\n",
              "      <td>2</td>\n",
              "      <td>1</td>\n",
              "      <td>3</td>\n",
              "      <td>1</td>\n",
              "      <td>1</td>\n",
              "      <td>2</td>\n",
              "    </tr>\n",
              "  </tbody>\n",
              "</table>\n",
              "</div>\n",
              "      <button class=\"colab-df-convert\" onclick=\"convertToInteractive('df-f78d1323-9361-4463-96bb-bd4d5381bbd9')\"\n",
              "              title=\"Convert this dataframe to an interactive table.\"\n",
              "              style=\"display:none;\">\n",
              "        \n",
              "  <svg xmlns=\"http://www.w3.org/2000/svg\" height=\"24px\"viewBox=\"0 0 24 24\"\n",
              "       width=\"24px\">\n",
              "    <path d=\"M0 0h24v24H0V0z\" fill=\"none\"/>\n",
              "    <path d=\"M18.56 5.44l.94 2.06.94-2.06 2.06-.94-2.06-.94-.94-2.06-.94 2.06-2.06.94zm-11 1L8.5 8.5l.94-2.06 2.06-.94-2.06-.94L8.5 2.5l-.94 2.06-2.06.94zm10 10l.94 2.06.94-2.06 2.06-.94-2.06-.94-.94-2.06-.94 2.06-2.06.94z\"/><path d=\"M17.41 7.96l-1.37-1.37c-.4-.4-.92-.59-1.43-.59-.52 0-1.04.2-1.43.59L10.3 9.45l-7.72 7.72c-.78.78-.78 2.05 0 2.83L4 21.41c.39.39.9.59 1.41.59.51 0 1.02-.2 1.41-.59l7.78-7.78 2.81-2.81c.8-.78.8-2.07 0-2.86zM5.41 20L4 18.59l7.72-7.72 1.47 1.35L5.41 20z\"/>\n",
              "  </svg>\n",
              "      </button>\n",
              "      \n",
              "  <style>\n",
              "    .colab-df-container {\n",
              "      display:flex;\n",
              "      flex-wrap:wrap;\n",
              "      gap: 12px;\n",
              "    }\n",
              "\n",
              "    .colab-df-convert {\n",
              "      background-color: #E8F0FE;\n",
              "      border: none;\n",
              "      border-radius: 50%;\n",
              "      cursor: pointer;\n",
              "      display: none;\n",
              "      fill: #1967D2;\n",
              "      height: 32px;\n",
              "      padding: 0 0 0 0;\n",
              "      width: 32px;\n",
              "    }\n",
              "\n",
              "    .colab-df-convert:hover {\n",
              "      background-color: #E2EBFA;\n",
              "      box-shadow: 0px 1px 2px rgba(60, 64, 67, 0.3), 0px 1px 3px 1px rgba(60, 64, 67, 0.15);\n",
              "      fill: #174EA6;\n",
              "    }\n",
              "\n",
              "    [theme=dark] .colab-df-convert {\n",
              "      background-color: #3B4455;\n",
              "      fill: #D2E3FC;\n",
              "    }\n",
              "\n",
              "    [theme=dark] .colab-df-convert:hover {\n",
              "      background-color: #434B5C;\n",
              "      box-shadow: 0px 1px 3px 1px rgba(0, 0, 0, 0.15);\n",
              "      filter: drop-shadow(0px 1px 2px rgba(0, 0, 0, 0.3));\n",
              "      fill: #FFFFFF;\n",
              "    }\n",
              "  </style>\n",
              "\n",
              "      <script>\n",
              "        const buttonEl =\n",
              "          document.querySelector('#df-f78d1323-9361-4463-96bb-bd4d5381bbd9 button.colab-df-convert');\n",
              "        buttonEl.style.display =\n",
              "          google.colab.kernel.accessAllowed ? 'block' : 'none';\n",
              "\n",
              "        async function convertToInteractive(key) {\n",
              "          const element = document.querySelector('#df-f78d1323-9361-4463-96bb-bd4d5381bbd9');\n",
              "          const dataTable =\n",
              "            await google.colab.kernel.invokeFunction('convertToInteractive',\n",
              "                                                     [key], {});\n",
              "          if (!dataTable) return;\n",
              "\n",
              "          const docLinkHtml = 'Like what you see? Visit the ' +\n",
              "            '<a target=\"_blank\" href=https://colab.research.google.com/notebooks/data_table.ipynb>data table notebook</a>'\n",
              "            + ' to learn more about interactive tables.';\n",
              "          element.innerHTML = '';\n",
              "          dataTable['output_type'] = 'display_data';\n",
              "          await google.colab.output.renderOutput(dataTable, element);\n",
              "          const docLink = document.createElement('div');\n",
              "          docLink.innerHTML = docLinkHtml;\n",
              "          element.appendChild(docLink);\n",
              "        }\n",
              "      </script>\n",
              "    </div>\n",
              "  </div>\n",
              "  "
            ],
            "text/plain": [
              "   Samplecodenumber  ClumpThickness  ...  Mitoses  Class\n",
              "0           1000025               5  ...        1      2\n",
              "1           1002945               5  ...        1      2\n",
              "2           1015425               3  ...        1      2\n",
              "3           1016277               6  ...        1      2\n",
              "4           1017023               4  ...        1      2\n",
              "\n",
              "[5 rows x 11 columns]"
            ]
          },
          "metadata": {},
          "execution_count": 4
        }
      ]
    },
    {
      "cell_type": "code",
      "source": [
        "## Removing attribute that is of no use\n",
        "cancerdata = cancerdata.drop(['Samplecodenumber'], 1)"
      ],
      "metadata": {
        "id": "oOGBeeDS4opZ"
      },
      "execution_count": 5,
      "outputs": []
    },
    {
      "cell_type": "code",
      "source": [
        "# The number of samples present by class count\n",
        "cancerdata['Class'].value_counts()"
      ],
      "metadata": {
        "colab": {
          "base_uri": "https://localhost:8080/"
        },
        "id": "nV7-qayy4orv",
        "outputId": "126a50f8-60a4-42a1-bcb9-8cc40963877b"
      },
      "execution_count": 6,
      "outputs": [
        {
          "output_type": "execute_result",
          "data": {
            "text/plain": [
              "2    458\n",
              "4    241\n",
              "Name: Class, dtype: int64"
            ]
          },
          "metadata": {},
          "execution_count": 6
        }
      ]
    },
    {
      "cell_type": "code",
      "source": [
        "# Making the class counts to similar size\n",
        "Benign = cancerdata[(cancerdata.Class == 2) ].sample(240).index\n",
        "Malignant = cancerdata[(cancerdata.Class == 4) ].sample(240).index\n",
        "cancer = cancerdata.loc[Benign|Malignant]\n",
        "cancer = cancer.reset_index(drop=True)\n",
        "\n",
        "# Making the classess from 2/4 to 0/1 \n",
        "cancer['classes'] = cancer.Class.map({2:0,4:1})\n",
        "cancer = cancer.drop(['Class'], 1)\n",
        "\n",
        "# Printing the updated dataframe\n",
        "cancer.head()"
      ],
      "metadata": {
        "colab": {
          "base_uri": "https://localhost:8080/",
          "height": 270
        },
        "id": "iY_4Kw5F4ous",
        "outputId": "88857a8f-f7f3-46d3-e81f-e3079fc1e879"
      },
      "execution_count": 7,
      "outputs": [
        {
          "output_type": "execute_result",
          "data": {
            "text/html": [
              "\n",
              "  <div id=\"df-c7fc7855-8a81-43c7-974c-5065ea74c4e9\">\n",
              "    <div class=\"colab-df-container\">\n",
              "      <div>\n",
              "<style scoped>\n",
              "    .dataframe tbody tr th:only-of-type {\n",
              "        vertical-align: middle;\n",
              "    }\n",
              "\n",
              "    .dataframe tbody tr th {\n",
              "        vertical-align: top;\n",
              "    }\n",
              "\n",
              "    .dataframe thead th {\n",
              "        text-align: right;\n",
              "    }\n",
              "</style>\n",
              "<table border=\"1\" class=\"dataframe\">\n",
              "  <thead>\n",
              "    <tr style=\"text-align: right;\">\n",
              "      <th></th>\n",
              "      <th>ClumpThickness</th>\n",
              "      <th>UniformityofCellSize</th>\n",
              "      <th>UniformityofCellShape</th>\n",
              "      <th>MarginalAdhesion</th>\n",
              "      <th>SingleEpithelialCellSize</th>\n",
              "      <th>BareNuclei</th>\n",
              "      <th>BlandChromatin</th>\n",
              "      <th>NormalNucleoli</th>\n",
              "      <th>Mitoses</th>\n",
              "      <th>classes</th>\n",
              "    </tr>\n",
              "  </thead>\n",
              "  <tbody>\n",
              "    <tr>\n",
              "      <th>0</th>\n",
              "      <td>5</td>\n",
              "      <td>1</td>\n",
              "      <td>1</td>\n",
              "      <td>1</td>\n",
              "      <td>2</td>\n",
              "      <td>1</td>\n",
              "      <td>3</td>\n",
              "      <td>1</td>\n",
              "      <td>1</td>\n",
              "      <td>0</td>\n",
              "    </tr>\n",
              "    <tr>\n",
              "      <th>1</th>\n",
              "      <td>3</td>\n",
              "      <td>1</td>\n",
              "      <td>1</td>\n",
              "      <td>1</td>\n",
              "      <td>2</td>\n",
              "      <td>2</td>\n",
              "      <td>3</td>\n",
              "      <td>1</td>\n",
              "      <td>1</td>\n",
              "      <td>0</td>\n",
              "    </tr>\n",
              "    <tr>\n",
              "      <th>2</th>\n",
              "      <td>6</td>\n",
              "      <td>8</td>\n",
              "      <td>8</td>\n",
              "      <td>1</td>\n",
              "      <td>3</td>\n",
              "      <td>4</td>\n",
              "      <td>3</td>\n",
              "      <td>7</td>\n",
              "      <td>1</td>\n",
              "      <td>0</td>\n",
              "    </tr>\n",
              "    <tr>\n",
              "      <th>3</th>\n",
              "      <td>8</td>\n",
              "      <td>10</td>\n",
              "      <td>10</td>\n",
              "      <td>8</td>\n",
              "      <td>7</td>\n",
              "      <td>10</td>\n",
              "      <td>9</td>\n",
              "      <td>7</td>\n",
              "      <td>1</td>\n",
              "      <td>1</td>\n",
              "    </tr>\n",
              "    <tr>\n",
              "      <th>4</th>\n",
              "      <td>1</td>\n",
              "      <td>1</td>\n",
              "      <td>1</td>\n",
              "      <td>1</td>\n",
              "      <td>2</td>\n",
              "      <td>10</td>\n",
              "      <td>3</td>\n",
              "      <td>1</td>\n",
              "      <td>1</td>\n",
              "      <td>0</td>\n",
              "    </tr>\n",
              "  </tbody>\n",
              "</table>\n",
              "</div>\n",
              "      <button class=\"colab-df-convert\" onclick=\"convertToInteractive('df-c7fc7855-8a81-43c7-974c-5065ea74c4e9')\"\n",
              "              title=\"Convert this dataframe to an interactive table.\"\n",
              "              style=\"display:none;\">\n",
              "        \n",
              "  <svg xmlns=\"http://www.w3.org/2000/svg\" height=\"24px\"viewBox=\"0 0 24 24\"\n",
              "       width=\"24px\">\n",
              "    <path d=\"M0 0h24v24H0V0z\" fill=\"none\"/>\n",
              "    <path d=\"M18.56 5.44l.94 2.06.94-2.06 2.06-.94-2.06-.94-.94-2.06-.94 2.06-2.06.94zm-11 1L8.5 8.5l.94-2.06 2.06-.94-2.06-.94L8.5 2.5l-.94 2.06-2.06.94zm10 10l.94 2.06.94-2.06 2.06-.94-2.06-.94-.94-2.06-.94 2.06-2.06.94z\"/><path d=\"M17.41 7.96l-1.37-1.37c-.4-.4-.92-.59-1.43-.59-.52 0-1.04.2-1.43.59L10.3 9.45l-7.72 7.72c-.78.78-.78 2.05 0 2.83L4 21.41c.39.39.9.59 1.41.59.51 0 1.02-.2 1.41-.59l7.78-7.78 2.81-2.81c.8-.78.8-2.07 0-2.86zM5.41 20L4 18.59l7.72-7.72 1.47 1.35L5.41 20z\"/>\n",
              "  </svg>\n",
              "      </button>\n",
              "      \n",
              "  <style>\n",
              "    .colab-df-container {\n",
              "      display:flex;\n",
              "      flex-wrap:wrap;\n",
              "      gap: 12px;\n",
              "    }\n",
              "\n",
              "    .colab-df-convert {\n",
              "      background-color: #E8F0FE;\n",
              "      border: none;\n",
              "      border-radius: 50%;\n",
              "      cursor: pointer;\n",
              "      display: none;\n",
              "      fill: #1967D2;\n",
              "      height: 32px;\n",
              "      padding: 0 0 0 0;\n",
              "      width: 32px;\n",
              "    }\n",
              "\n",
              "    .colab-df-convert:hover {\n",
              "      background-color: #E2EBFA;\n",
              "      box-shadow: 0px 1px 2px rgba(60, 64, 67, 0.3), 0px 1px 3px 1px rgba(60, 64, 67, 0.15);\n",
              "      fill: #174EA6;\n",
              "    }\n",
              "\n",
              "    [theme=dark] .colab-df-convert {\n",
              "      background-color: #3B4455;\n",
              "      fill: #D2E3FC;\n",
              "    }\n",
              "\n",
              "    [theme=dark] .colab-df-convert:hover {\n",
              "      background-color: #434B5C;\n",
              "      box-shadow: 0px 1px 3px 1px rgba(0, 0, 0, 0.15);\n",
              "      filter: drop-shadow(0px 1px 2px rgba(0, 0, 0, 0.3));\n",
              "      fill: #FFFFFF;\n",
              "    }\n",
              "  </style>\n",
              "\n",
              "      <script>\n",
              "        const buttonEl =\n",
              "          document.querySelector('#df-c7fc7855-8a81-43c7-974c-5065ea74c4e9 button.colab-df-convert');\n",
              "        buttonEl.style.display =\n",
              "          google.colab.kernel.accessAllowed ? 'block' : 'none';\n",
              "\n",
              "        async function convertToInteractive(key) {\n",
              "          const element = document.querySelector('#df-c7fc7855-8a81-43c7-974c-5065ea74c4e9');\n",
              "          const dataTable =\n",
              "            await google.colab.kernel.invokeFunction('convertToInteractive',\n",
              "                                                     [key], {});\n",
              "          if (!dataTable) return;\n",
              "\n",
              "          const docLinkHtml = 'Like what you see? Visit the ' +\n",
              "            '<a target=\"_blank\" href=https://colab.research.google.com/notebooks/data_table.ipynb>data table notebook</a>'\n",
              "            + ' to learn more about interactive tables.';\n",
              "          element.innerHTML = '';\n",
              "          dataTable['output_type'] = 'display_data';\n",
              "          await google.colab.output.renderOutput(dataTable, element);\n",
              "          const docLink = document.createElement('div');\n",
              "          docLink.innerHTML = docLinkHtml;\n",
              "          element.appendChild(docLink);\n",
              "        }\n",
              "      </script>\n",
              "    </div>\n",
              "  </div>\n",
              "  "
            ],
            "text/plain": [
              "   ClumpThickness  UniformityofCellSize  ...  Mitoses  classes\n",
              "0               5                     1  ...        1        0\n",
              "1               3                     1  ...        1        0\n",
              "2               6                     8  ...        1        0\n",
              "3               8                    10  ...        1        1\n",
              "4               1                     1  ...        1        0\n",
              "\n",
              "[5 rows x 10 columns]"
            ]
          },
          "metadata": {},
          "execution_count": 7
        }
      ]
    },
    {
      "cell_type": "code",
      "source": [
        "# Confirming that counts of the classes are similar \n",
        "cancer['classes'].value_counts()\n"
      ],
      "metadata": {
        "colab": {
          "base_uri": "https://localhost:8080/"
        },
        "id": "2gLfIN6F4oxH",
        "outputId": "9c0f00be-2a57-4fbb-eaac-d2320c0ba87a"
      },
      "execution_count": 8,
      "outputs": [
        {
          "output_type": "execute_result",
          "data": {
            "text/plain": [
              "1    240\n",
              "0    240\n",
              "Name: classes, dtype: int64"
            ]
          },
          "metadata": {},
          "execution_count": 8
        }
      ]
    },
    {
      "cell_type": "code",
      "source": [
        "# plot date variables and find the variables with similar distributions, keep only one of them.\n",
        "#['ClumpThickness','UniformityofCellSize','UniformityofCellShape','MarginalAdhesion',\n",
        "#'SingleEpithelialCellSize','BareNuclei','BlandChromatin','NormalNucleoli','Mitoses']\n",
        "fig, axs = plt.subplots(3, 3, figsize=(18,18))\n",
        "axs[0,0].hist(cancer['ClumpThickness'])\n",
        "axs[0,0].set_title(\"ClumpThickness\")\n",
        "axs[0,1].hist(cancer['UniformityofCellSize'])\n",
        "axs[0,1].set_title(\"UniformityofCellSize\")\n",
        "axs[0,2].hist(cancer['UniformityofCellShape'])\n",
        "axs[0,2].set_title(\"UniformityofCellShape\")\n",
        "axs[1,0].hist(cancer['MarginalAdhesion'])\n",
        "axs[1,0].set_title(\"MarginalAdhesion\")\n",
        "axs[1,1].hist(cancer['SingleEpithelialCellSize'])\n",
        "axs[1,1].set_title(\"SingleEpithelialCellSize\")\n",
        "axs[1,2].hist(cancer['BareNuclei'])\n",
        "axs[1,2].set_title(\"BareNuclei\")\n",
        "axs[2,0].hist(cancer['BlandChromatin'])\n",
        "axs[2,0].set_title(\"BlandChromatin\")\n",
        "axs[2,1].hist(cancer['NormalNucleoli'])\n",
        "axs[2,1].set_title(\"NormalNucleoli\")\n",
        "axs[2,2].hist(cancer['Mitoses'])\n",
        "axs[2,2].set_title(\"Mitoses\")\n",
        "fig.tight_layout()"
      ],
      "metadata": {
        "colab": {
          "base_uri": "https://localhost:8080/",
          "height": 1000
        },
        "id": "FxwBcGnk429U",
        "outputId": "6e49194e-9cb6-4c63-9e7a-fffdb71909c1"
      },
      "execution_count": 9,
      "outputs": [
        {
          "output_type": "display_data",
          "data": {
            "image/png": "[encoded data removed]",
            "text/plain": [
              "<Figure size 1296x1296 with 9 Axes>"
            ]
          },
          "metadata": {}
        }
      ]
    },
    {
      "cell_type": "markdown",
      "source": [
        "<h4>1.1.2 Observations </h4>\n",
        "<h4>1.1.3 Approach </h4>"
      ],
      "metadata": {
        "id": "wdpWrB3HWel7"
      }
    },
    {
      "cell_type": "markdown",
      "source": [
        "<h3>1.2 Checking and Removing nan values</h3>"
      ],
      "metadata": {
        "id": "fPcTVTlE46vC"
      }
    },
    {
      "cell_type": "markdown",
      "source": [
        "<h4>1.2.1 Code </h4>"
      ],
      "metadata": {
        "id": "wbaWQwlpfyif"
      }
    },
    {
      "cell_type": "code",
      "source": [
        "## TODO \n",
        "## Yixin remove the wasted steps from the code and only keep the most important data cleaning steps\n",
        "cancer.dtypes.value_counts()"
      ],
      "metadata": {
        "colab": {
          "base_uri": "https://localhost:8080/"
        },
        "id": "dJclAfmh49KE",
        "outputId": "d2bb192a-768a-4b3b-a803-5e36b047dda6"
      },
      "execution_count": 10,
      "outputs": [
        {
          "output_type": "execute_result",
          "data": {
            "text/plain": [
              "int64     9\n",
              "object    1\n",
              "dtype: int64"
            ]
          },
          "metadata": {},
          "execution_count": 10
        }
      ]
    },
    {
      "cell_type": "code",
      "source": [
        "cancer.select_dtypes('object')"
      ],
      "metadata": {
        "colab": {
          "base_uri": "https://localhost:8080/",
          "height": 424
        },
        "id": "3DCa8TIj4_Ty",
        "outputId": "bb46389f-9c84-434d-e7a9-87b4f6004ecd"
      },
      "execution_count": 11,
      "outputs": [
        {
          "output_type": "execute_result",
          "data": {
            "text/html": [
              "\n",
              "  <div id=\"df-17af031d-6607-47bd-98ce-9da1299c1cb8\">\n",
              "    <div class=\"colab-df-container\">\n",
              "      <div>\n",
              "<style scoped>\n",
              "    .dataframe tbody tr th:only-of-type {\n",
              "        vertical-align: middle;\n",
              "    }\n",
              "\n",
              "    .dataframe tbody tr th {\n",
              "        vertical-align: top;\n",
              "    }\n",
              "\n",
              "    .dataframe thead th {\n",
              "        text-align: right;\n",
              "    }\n",
              "</style>\n",
              "<table border=\"1\" class=\"dataframe\">\n",
              "  <thead>\n",
              "    <tr style=\"text-align: right;\">\n",
              "      <th></th>\n",
              "      <th>BareNuclei</th>\n",
              "    </tr>\n",
              "  </thead>\n",
              "  <tbody>\n",
              "    <tr>\n",
              "      <th>0</th>\n",
              "      <td>1</td>\n",
              "    </tr>\n",
              "    <tr>\n",
              "      <th>1</th>\n",
              "      <td>2</td>\n",
              "    </tr>\n",
              "    <tr>\n",
              "      <th>2</th>\n",
              "      <td>4</td>\n",
              "    </tr>\n",
              "    <tr>\n",
              "      <th>3</th>\n",
              "      <td>10</td>\n",
              "    </tr>\n",
              "    <tr>\n",
              "      <th>4</th>\n",
              "      <td>10</td>\n",
              "    </tr>\n",
              "    <tr>\n",
              "      <th>...</th>\n",
              "      <td>...</td>\n",
              "    </tr>\n",
              "    <tr>\n",
              "      <th>475</th>\n",
              "      <td>1</td>\n",
              "    </tr>\n",
              "    <tr>\n",
              "      <th>476</th>\n",
              "      <td>1</td>\n",
              "    </tr>\n",
              "    <tr>\n",
              "      <th>477</th>\n",
              "      <td>3</td>\n",
              "    </tr>\n",
              "    <tr>\n",
              "      <th>478</th>\n",
              "      <td>4</td>\n",
              "    </tr>\n",
              "    <tr>\n",
              "      <th>479</th>\n",
              "      <td>5</td>\n",
              "    </tr>\n",
              "  </tbody>\n",
              "</table>\n",
              "<p>480 rows × 1 columns</p>\n",
              "</div>\n",
              "      <button class=\"colab-df-convert\" onclick=\"convertToInteractive('df-17af031d-6607-47bd-98ce-9da1299c1cb8')\"\n",
              "              title=\"Convert this dataframe to an interactive table.\"\n",
              "              style=\"display:none;\">\n",
              "        \n",
              "  <svg xmlns=\"http://www.w3.org/2000/svg\" height=\"24px\"viewBox=\"0 0 24 24\"\n",
              "       width=\"24px\">\n",
              "    <path d=\"M0 0h24v24H0V0z\" fill=\"none\"/>\n",
              "    <path d=\"M18.56 5.44l.94 2.06.94-2.06 2.06-.94-2.06-.94-.94-2.06-.94 2.06-2.06.94zm-11 1L8.5 8.5l.94-2.06 2.06-.94-2.06-.94L8.5 2.5l-.94 2.06-2.06.94zm10 10l.94 2.06.94-2.06 2.06-.94-2.06-.94-.94-2.06-.94 2.06-2.06.94z\"/><path d=\"M17.41 7.96l-1.37-1.37c-.4-.4-.92-.59-1.43-.59-.52 0-1.04.2-1.43.59L10.3 9.45l-7.72 7.72c-.78.78-.78 2.05 0 2.83L4 21.41c.39.39.9.59 1.41.59.51 0 1.02-.2 1.41-.59l7.78-7.78 2.81-2.81c.8-.78.8-2.07 0-2.86zM5.41 20L4 18.59l7.72-7.72 1.47 1.35L5.41 20z\"/>\n",
              "  </svg>\n",
              "      </button>\n",
              "      \n",
              "  <style>\n",
              "    .colab-df-container {\n",
              "      display:flex;\n",
              "      flex-wrap:wrap;\n",
              "      gap: 12px;\n",
              "    }\n",
              "\n",
              "    .colab-df-convert {\n",
              "      background-color: #E8F0FE;\n",
              "      border: none;\n",
              "      border-radius: 50%;\n",
              "      cursor: pointer;\n",
              "      display: none;\n",
              "      fill: #1967D2;\n",
              "      height: 32px;\n",
              "      padding: 0 0 0 0;\n",
              "      width: 32px;\n",
              "    }\n",
              "\n",
              "    .colab-df-convert:hover {\n",
              "      background-color: #E2EBFA;\n",
              "      box-shadow: 0px 1px 2px rgba(60, 64, 67, 0.3), 0px 1px 3px 1px rgba(60, 64, 67, 0.15);\n",
              "      fill: #174EA6;\n",
              "    }\n",
              "\n",
              "    [theme=dark] .colab-df-convert {\n",
              "      background-color: #3B4455;\n",
              "      fill: #D2E3FC;\n",
              "    }\n",
              "\n",
              "    [theme=dark] .colab-df-convert:hover {\n",
              "      background-color: #434B5C;\n",
              "      box-shadow: 0px 1px 3px 1px rgba(0, 0, 0, 0.15);\n",
              "      filter: drop-shadow(0px 1px 2px rgba(0, 0, 0, 0.3));\n",
              "      fill: #FFFFFF;\n",
              "    }\n",
              "  </style>\n",
              "\n",
              "      <script>\n",
              "        const buttonEl =\n",
              "          document.querySelector('#df-17af031d-6607-47bd-98ce-9da1299c1cb8 button.colab-df-convert');\n",
              "        buttonEl.style.display =\n",
              "          google.colab.kernel.accessAllowed ? 'block' : 'none';\n",
              "\n",
              "        async function convertToInteractive(key) {\n",
              "          const element = document.querySelector('#df-17af031d-6607-47bd-98ce-9da1299c1cb8');\n",
              "          const dataTable =\n",
              "            await google.colab.kernel.invokeFunction('convertToInteractive',\n",
              "                                                     [key], {});\n",
              "          if (!dataTable) return;\n",
              "\n",
              "          const docLinkHtml = 'Like what you see? Visit the ' +\n",
              "            '<a target=\"_blank\" href=https://colab.research.google.com/notebooks/data_table.ipynb>data table notebook</a>'\n",
              "            + ' to learn more about interactive tables.';\n",
              "          element.innerHTML = '';\n",
              "          dataTable['output_type'] = 'display_data';\n",
              "          await google.colab.output.renderOutput(dataTable, element);\n",
              "          const docLink = document.createElement('div');\n",
              "          docLink.innerHTML = docLinkHtml;\n",
              "          element.appendChild(docLink);\n",
              "        }\n",
              "      </script>\n",
              "    </div>\n",
              "  </div>\n",
              "  "
            ],
            "text/plain": [
              "    BareNuclei\n",
              "0            1\n",
              "1            2\n",
              "2            4\n",
              "3           10\n",
              "4           10\n",
              "..         ...\n",
              "475          1\n",
              "476          1\n",
              "477          3\n",
              "478          4\n",
              "479          5\n",
              "\n",
              "[480 rows x 1 columns]"
            ]
          },
          "metadata": {},
          "execution_count": 11
        }
      ]
    },
    {
      "cell_type": "code",
      "source": [
        "cancer = cancer.replace('?' ,np.nan)\n",
        "\n",
        "##Finding the the count and percentage of values that are missing in the dataframe.\n",
        "null1 = pd.DataFrame({'Count': cancer.isnull().sum(), 'Percent': 100*cancer.isnull().sum()/len(cancer)})\n",
        "\n",
        "##printing columns with null count more than 0\n",
        "null1[null1['Count'] > 0]"
      ],
      "metadata": {
        "colab": {
          "base_uri": "https://localhost:8080/",
          "height": 81
        },
        "id": "1CyRzBnb6XnU",
        "outputId": "d65f33fc-5640-4d27-e0cb-6796b8fa4128"
      },
      "execution_count": 12,
      "outputs": [
        {
          "output_type": "execute_result",
          "data": {
            "text/html": [
              "\n",
              "  <div id=\"df-b558001f-f01b-41b8-90fc-46e0a3167c26\">\n",
              "    <div class=\"colab-df-container\">\n",
              "      <div>\n",
              "<style scoped>\n",
              "    .dataframe tbody tr th:only-of-type {\n",
              "        vertical-align: middle;\n",
              "    }\n",
              "\n",
              "    .dataframe tbody tr th {\n",
              "        vertical-align: top;\n",
              "    }\n",
              "\n",
              "    .dataframe thead th {\n",
              "        text-align: right;\n",
              "    }\n",
              "</style>\n",
              "<table border=\"1\" class=\"dataframe\">\n",
              "  <thead>\n",
              "    <tr style=\"text-align: right;\">\n",
              "      <th></th>\n",
              "      <th>Count</th>\n",
              "      <th>Percent</th>\n",
              "    </tr>\n",
              "  </thead>\n",
              "  <tbody>\n",
              "    <tr>\n",
              "      <th>BareNuclei</th>\n",
              "      <td>10</td>\n",
              "      <td>2.083333</td>\n",
              "    </tr>\n",
              "  </tbody>\n",
              "</table>\n",
              "</div>\n",
              "      <button class=\"colab-df-convert\" onclick=\"convertToInteractive('df-b558001f-f01b-41b8-90fc-46e0a3167c26')\"\n",
              "              title=\"Convert this dataframe to an interactive table.\"\n",
              "              style=\"display:none;\">\n",
              "        \n",
              "  <svg xmlns=\"http://www.w3.org/2000/svg\" height=\"24px\"viewBox=\"0 0 24 24\"\n",
              "       width=\"24px\">\n",
              "    <path d=\"M0 0h24v24H0V0z\" fill=\"none\"/>\n",
              "    <path d=\"M18.56 5.44l.94 2.06.94-2.06 2.06-.94-2.06-.94-.94-2.06-.94 2.06-2.06.94zm-11 1L8.5 8.5l.94-2.06 2.06-.94-2.06-.94L8.5 2.5l-.94 2.06-2.06.94zm10 10l.94 2.06.94-2.06 2.06-.94-2.06-.94-.94-2.06-.94 2.06-2.06.94z\"/><path d=\"M17.41 7.96l-1.37-1.37c-.4-.4-.92-.59-1.43-.59-.52 0-1.04.2-1.43.59L10.3 9.45l-7.72 7.72c-.78.78-.78 2.05 0 2.83L4 21.41c.39.39.9.59 1.41.59.51 0 1.02-.2 1.41-.59l7.78-7.78 2.81-2.81c.8-.78.8-2.07 0-2.86zM5.41 20L4 18.59l7.72-7.72 1.47 1.35L5.41 20z\"/>\n",
              "  </svg>\n",
              "      </button>\n",
              "      \n",
              "  <style>\n",
              "    .colab-df-container {\n",
              "      display:flex;\n",
              "      flex-wrap:wrap;\n",
              "      gap: 12px;\n",
              "    }\n",
              "\n",
              "    .colab-df-convert {\n",
              "      background-color: #E8F0FE;\n",
              "      border: none;\n",
              "      border-radius: 50%;\n",
              "      cursor: pointer;\n",
              "      display: none;\n",
              "      fill: #1967D2;\n",
              "      height: 32px;\n",
              "      padding: 0 0 0 0;\n",
              "      width: 32px;\n",
              "    }\n",
              "\n",
              "    .colab-df-convert:hover {\n",
              "      background-color: #E2EBFA;\n",
              "      box-shadow: 0px 1px 2px rgba(60, 64, 67, 0.3), 0px 1px 3px 1px rgba(60, 64, 67, 0.15);\n",
              "      fill: #174EA6;\n",
              "    }\n",
              "\n",
              "    [theme=dark] .colab-df-convert {\n",
              "      background-color: #3B4455;\n",
              "      fill: #D2E3FC;\n",
              "    }\n",
              "\n",
              "    [theme=dark] .colab-df-convert:hover {\n",
              "      background-color: #434B5C;\n",
              "      box-shadow: 0px 1px 3px 1px rgba(0, 0, 0, 0.15);\n",
              "      filter: drop-shadow(0px 1px 2px rgba(0, 0, 0, 0.3));\n",
              "      fill: #FFFFFF;\n",
              "    }\n",
              "  </style>\n",
              "\n",
              "      <script>\n",
              "        const buttonEl =\n",
              "          document.querySelector('#df-b558001f-f01b-41b8-90fc-46e0a3167c26 button.colab-df-convert');\n",
              "        buttonEl.style.display =\n",
              "          google.colab.kernel.accessAllowed ? 'block' : 'none';\n",
              "\n",
              "        async function convertToInteractive(key) {\n",
              "          const element = document.querySelector('#df-b558001f-f01b-41b8-90fc-46e0a3167c26');\n",
              "          const dataTable =\n",
              "            await google.colab.kernel.invokeFunction('convertToInteractive',\n",
              "                                                     [key], {});\n",
              "          if (!dataTable) return;\n",
              "\n",
              "          const docLinkHtml = 'Like what you see? Visit the ' +\n",
              "            '<a target=\"_blank\" href=https://colab.research.google.com/notebooks/data_table.ipynb>data table notebook</a>'\n",
              "            + ' to learn more about interactive tables.';\n",
              "          element.innerHTML = '';\n",
              "          dataTable['output_type'] = 'display_data';\n",
              "          await google.colab.output.renderOutput(dataTable, element);\n",
              "          const docLink = document.createElement('div');\n",
              "          docLink.innerHTML = docLinkHtml;\n",
              "          element.appendChild(docLink);\n",
              "        }\n",
              "      </script>\n",
              "    </div>\n",
              "  </div>\n",
              "  "
            ],
            "text/plain": [
              "            Count   Percent\n",
              "BareNuclei     10  2.083333"
            ]
          },
          "metadata": {},
          "execution_count": 12
        }
      ]
    },
    {
      "cell_type": "code",
      "source": [
        "## Filling the columns with nan values with mean of the data\n",
        "cancer[\"BareNuclei\"]=cancer[\"BareNuclei\"].astype(float)\n",
        "cancer=cancer.fillna(cancer.mean())"
      ],
      "metadata": {
        "id": "mQKh6EdQ6Xrk"
      },
      "execution_count": 13,
      "outputs": []
    },
    {
      "cell_type": "markdown",
      "source": [
        "<h4>1.2.2 Observations </h4>\n",
        "<h4>1.2.3 Approach </h4>"
      ],
      "metadata": {
        "id": "PHIdqxDmWMPe"
      }
    },
    {
      "cell_type": "markdown",
      "source": [
        "<h3>1.3 Removing Useless Attributes </h3>"
      ],
      "metadata": {
        "id": "uf89AePf6nsZ"
      }
    },
    {
      "cell_type": "markdown",
      "source": [
        "<h4>1.3.1 Code </h4>"
      ],
      "metadata": {
        "id": "aF8wcn9Gf3au"
      }
    },
    {
      "cell_type": "code",
      "source": [
        "corr_list1=cancer.corr()['classes'].abs().sort_values(ascending=False)\n",
        "corr_list_new=corr_list1[corr_list1>0.01].index.values.tolist()\n",
        "corr_list1\n",
        "cancer=cancer[corr_list_new]\n",
        "cancer.head(3)"
      ],
      "metadata": {
        "colab": {
          "base_uri": "https://localhost:8080/",
          "height": 207
        },
        "id": "e1xo7hxe6Xv1",
        "outputId": "8d7ea27a-bd50-4e25-d805-d704c05da37f"
      },
      "execution_count": 14,
      "outputs": [
        {
          "output_type": "execute_result",
          "data": {
            "text/html": [
              "\n",
              "  <div id=\"df-30ea492c-08cf-4c5a-bab2-36f2b88f9c90\">\n",
              "    <div class=\"colab-df-container\">\n",
              "      <div>\n",
              "<style scoped>\n",
              "    .dataframe tbody tr th:only-of-type {\n",
              "        vertical-align: middle;\n",
              "    }\n",
              "\n",
              "    .dataframe tbody tr th {\n",
              "        vertical-align: top;\n",
              "    }\n",
              "\n",
              "    .dataframe thead th {\n",
              "        text-align: right;\n",
              "    }\n",
              "</style>\n",
              "<table border=\"1\" class=\"dataframe\">\n",
              "  <thead>\n",
              "    <tr style=\"text-align: right;\">\n",
              "      <th></th>\n",
              "      <th>classes</th>\n",
              "      <th>UniformityofCellShape</th>\n",
              "      <th>BareNuclei</th>\n",
              "      <th>UniformityofCellSize</th>\n",
              "      <th>BlandChromatin</th>\n",
              "      <th>ClumpThickness</th>\n",
              "      <th>NormalNucleoli</th>\n",
              "      <th>MarginalAdhesion</th>\n",
              "      <th>SingleEpithelialCellSize</th>\n",
              "      <th>Mitoses</th>\n",
              "    </tr>\n",
              "  </thead>\n",
              "  <tbody>\n",
              "    <tr>\n",
              "      <th>0</th>\n",
              "      <td>0</td>\n",
              "      <td>1</td>\n",
              "      <td>1.0</td>\n",
              "      <td>1</td>\n",
              "      <td>3</td>\n",
              "      <td>5</td>\n",
              "      <td>1</td>\n",
              "      <td>1</td>\n",
              "      <td>2</td>\n",
              "      <td>1</td>\n",
              "    </tr>\n",
              "    <tr>\n",
              "      <th>1</th>\n",
              "      <td>0</td>\n",
              "      <td>1</td>\n",
              "      <td>2.0</td>\n",
              "      <td>1</td>\n",
              "      <td>3</td>\n",
              "      <td>3</td>\n",
              "      <td>1</td>\n",
              "      <td>1</td>\n",
              "      <td>2</td>\n",
              "      <td>1</td>\n",
              "    </tr>\n",
              "    <tr>\n",
              "      <th>2</th>\n",
              "      <td>0</td>\n",
              "      <td>8</td>\n",
              "      <td>4.0</td>\n",
              "      <td>8</td>\n",
              "      <td>3</td>\n",
              "      <td>6</td>\n",
              "      <td>7</td>\n",
              "      <td>1</td>\n",
              "      <td>3</td>\n",
              "      <td>1</td>\n",
              "    </tr>\n",
              "  </tbody>\n",
              "</table>\n",
              "</div>\n",
              "      <button class=\"colab-df-convert\" onclick=\"convertToInteractive('df-30ea492c-08cf-4c5a-bab2-36f2b88f9c90')\"\n",
              "              title=\"Convert this dataframe to an interactive table.\"\n",
              "              style=\"display:none;\">\n",
              "        \n",
              "  <svg xmlns=\"http://www.w3.org/2000/svg\" height=\"24px\"viewBox=\"0 0 24 24\"\n",
              "       width=\"24px\">\n",
              "    <path d=\"M0 0h24v24H0V0z\" fill=\"none\"/>\n",
              "    <path d=\"M18.56 5.44l.94 2.06.94-2.06 2.06-.94-2.06-.94-.94-2.06-.94 2.06-2.06.94zm-11 1L8.5 8.5l.94-2.06 2.06-.94-2.06-.94L8.5 2.5l-.94 2.06-2.06.94zm10 10l.94 2.06.94-2.06 2.06-.94-2.06-.94-.94-2.06-.94 2.06-2.06.94z\"/><path d=\"M17.41 7.96l-1.37-1.37c-.4-.4-.92-.59-1.43-.59-.52 0-1.04.2-1.43.59L10.3 9.45l-7.72 7.72c-.78.78-.78 2.05 0 2.83L4 21.41c.39.39.9.59 1.41.59.51 0 1.02-.2 1.41-.59l7.78-7.78 2.81-2.81c.8-.78.8-2.07 0-2.86zM5.41 20L4 18.59l7.72-7.72 1.47 1.35L5.41 20z\"/>\n",
              "  </svg>\n",
              "      </button>\n",
              "      \n",
              "  <style>\n",
              "    .colab-df-container {\n",
              "      display:flex;\n",
              "      flex-wrap:wrap;\n",
              "      gap: 12px;\n",
              "    }\n",
              "\n",
              "    .colab-df-convert {\n",
              "      background-color: #E8F0FE;\n",
              "      border: none;\n",
              "      border-radius: 50%;\n",
              "      cursor: pointer;\n",
              "      display: none;\n",
              "      fill: #1967D2;\n",
              "      height: 32px;\n",
              "      padding: 0 0 0 0;\n",
              "      width: 32px;\n",
              "    }\n",
              "\n",
              "    .colab-df-convert:hover {\n",
              "      background-color: #E2EBFA;\n",
              "      box-shadow: 0px 1px 2px rgba(60, 64, 67, 0.3), 0px 1px 3px 1px rgba(60, 64, 67, 0.15);\n",
              "      fill: #174EA6;\n",
              "    }\n",
              "\n",
              "    [theme=dark] .colab-df-convert {\n",
              "      background-color: #3B4455;\n",
              "      fill: #D2E3FC;\n",
              "    }\n",
              "\n",
              "    [theme=dark] .colab-df-convert:hover {\n",
              "      background-color: #434B5C;\n",
              "      box-shadow: 0px 1px 3px 1px rgba(0, 0, 0, 0.15);\n",
              "      filter: drop-shadow(0px 1px 2px rgba(0, 0, 0, 0.3));\n",
              "      fill: #FFFFFF;\n",
              "    }\n",
              "  </style>\n",
              "\n",
              "      <script>\n",
              "        const buttonEl =\n",
              "          document.querySelector('#df-30ea492c-08cf-4c5a-bab2-36f2b88f9c90 button.colab-df-convert');\n",
              "        buttonEl.style.display =\n",
              "          google.colab.kernel.accessAllowed ? 'block' : 'none';\n",
              "\n",
              "        async function convertToInteractive(key) {\n",
              "          const element = document.querySelector('#df-30ea492c-08cf-4c5a-bab2-36f2b88f9c90');\n",
              "          const dataTable =\n",
              "            await google.colab.kernel.invokeFunction('convertToInteractive',\n",
              "                                                     [key], {});\n",
              "          if (!dataTable) return;\n",
              "\n",
              "          const docLinkHtml = 'Like what you see? Visit the ' +\n",
              "            '<a target=\"_blank\" href=https://colab.research.google.com/notebooks/data_table.ipynb>data table notebook</a>'\n",
              "            + ' to learn more about interactive tables.';\n",
              "          element.innerHTML = '';\n",
              "          dataTable['output_type'] = 'display_data';\n",
              "          await google.colab.output.renderOutput(dataTable, element);\n",
              "          const docLink = document.createElement('div');\n",
              "          docLink.innerHTML = docLinkHtml;\n",
              "          element.appendChild(docLink);\n",
              "        }\n",
              "      </script>\n",
              "    </div>\n",
              "  </div>\n",
              "  "
            ],
            "text/plain": [
              "   classes  UniformityofCellShape  ...  SingleEpithelialCellSize  Mitoses\n",
              "0        0                      1  ...                         2        1\n",
              "1        0                      1  ...                         2        1\n",
              "2        0                      8  ...                         3        1\n",
              "\n",
              "[3 rows x 10 columns]"
            ]
          },
          "metadata": {},
          "execution_count": 14
        }
      ]
    },
    {
      "cell_type": "code",
      "source": [
        "## To remove outliers first we have to find the correlation between attributes\n",
        "\n",
        "#find the variables with high correlations\n",
        "cor1 = cancer.corr().abs()\n",
        "list1 = cor1.stack().sort_values(ascending=False).drop_duplicates()  \n",
        "high_corr= list1[list1>0.70].index.values.tolist()\n",
        "high_corr.remove(high_corr[0])\n",
        "\n",
        "display(list1)"
      ],
      "metadata": {
        "colab": {
          "base_uri": "https://localhost:8080/",
          "height": 833
        },
        "id": "5MgSXzzR6XzR",
        "outputId": "f9334c44-821d-4d5f-a0e9-1cba314cebfc"
      },
      "execution_count": 15,
      "outputs": [
        {
          "output_type": "display_data",
          "data": {
            "text/plain": [
              "Mitoses                   Mitoses                     1.000000\n",
              "UniformityofCellShape     UniformityofCellSize        0.896247\n",
              "                          classes                     0.792938\n",
              "BareNuclei                classes                     0.790445\n",
              "classes                   UniformityofCellSize        0.788287\n",
              "BlandChromatin            classes                     0.743792\n",
              "                          UniformityofCellSize        0.739187\n",
              "SingleEpithelialCellSize  UniformityofCellSize        0.727007\n",
              "UniformityofCellShape     BlandChromatin              0.723369\n",
              "ClumpThickness            classes                     0.700758\n",
              "UniformityofCellShape     SingleEpithelialCellSize    0.694964\n",
              "                          NormalNucleoli              0.689423\n",
              "NormalNucleoli            UniformityofCellSize        0.687868\n",
              "classes                   NormalNucleoli              0.681094\n",
              "UniformityofCellSize      MarginalAdhesion            0.665752\n",
              "UniformityofCellShape     BareNuclei                  0.660165\n",
              "classes                   MarginalAdhesion            0.656360\n",
              "SingleEpithelialCellSize  classes                     0.654767\n",
              "BareNuclei                BlandChromatin              0.654529\n",
              "MarginalAdhesion          UniformityofCellShape       0.644394\n",
              "BlandChromatin            MarginalAdhesion            0.643434\n",
              "                          NormalNucleoli              0.637651\n",
              "BareNuclei                UniformityofCellSize        0.629151\n",
              "                          MarginalAdhesion            0.622432\n",
              "ClumpThickness            UniformityofCellShape       0.622228\n",
              "                          UniformityofCellSize        0.612454\n",
              "BlandChromatin            SingleEpithelialCellSize    0.589228\n",
              "NormalNucleoli            SingleEpithelialCellSize    0.584051\n",
              "MarginalAdhesion          NormalNucleoli              0.559391\n",
              "SingleEpithelialCellSize  MarginalAdhesion            0.552208\n",
              "BareNuclei                ClumpThickness              0.549224\n",
              "ClumpThickness            BlandChromatin              0.531366\n",
              "SingleEpithelialCellSize  BareNuclei                  0.523040\n",
              "BareNuclei                NormalNucleoli              0.519092\n",
              "ClumpThickness            NormalNucleoli              0.492265\n",
              "                          SingleEpithelialCellSize    0.488744\n",
              "Mitoses                   SingleEpithelialCellSize    0.458446\n",
              "MarginalAdhesion          ClumpThickness              0.429295\n",
              "UniformityofCellSize      Mitoses                     0.421713\n",
              "UniformityofCellShape     Mitoses                     0.402502\n",
              "NormalNucleoli            Mitoses                     0.397440\n",
              "MarginalAdhesion          Mitoses                     0.381081\n",
              "classes                   Mitoses                     0.374422\n",
              "ClumpThickness            Mitoses                     0.315082\n",
              "Mitoses                   BlandChromatin              0.305502\n",
              "BareNuclei                Mitoses                     0.285934\n",
              "dtype: float64"
            ]
          },
          "metadata": {}
        }
      ]
    },
    {
      "cell_type": "code",
      "source": [
        "# for variable pairs with high correlation, keep only one of them\n",
        "columnlist=list(cancer.columns)\n",
        "len(high_corr)\n",
        "for i in range(len(high_corr)):\n",
        "    if \"classes\" in high_corr[i]:\n",
        "        columnlist=columnlist\n",
        "    else:\n",
        "        if high_corr[i][0] in columnlist and high_corr[i][1] in columnlist:\n",
        "            columnlist.remove(high_corr[i][1])\n",
        "        else:\n",
        "            columnlist=columnlist\n",
        "cancer_final=cancer[columnlist]"
      ],
      "metadata": {
        "id": "x7OKFrzE6X3D"
      },
      "execution_count": 16,
      "outputs": []
    },
    {
      "cell_type": "code",
      "source": [
        "## Doing a test train split on the data \n",
        "import random\n",
        "from sklearn.model_selection import train_test_split\n",
        "training_data, test_data = train_test_split(cancer_final,random_state=None, shuffle=True)\n",
        "train_x=training_data.drop(['classes'], 1) \n",
        "train_y=training_data[['classes']]\n",
        "test_x=test_data.drop(['classes'], 1)\n",
        "test_y=test_data[['classes']]"
      ],
      "metadata": {
        "id": "ZJPMB2Tq6pOq"
      },
      "execution_count": 17,
      "outputs": []
    },
    {
      "cell_type": "markdown",
      "source": [
        "<h4>1.3.2 Observations </h4>\n",
        "\n",
        "\n",
        "<h4>1.3.3 Approach </h4>"
      ],
      "metadata": {
        "id": "P-oNBnzbV4lI"
      }
    },
    {
      "cell_type": "markdown",
      "source": [
        "<h3>1.4 Deleting Outliers and Data Normalizations</h3>"
      ],
      "metadata": {
        "id": "6mQKJvN27Bfu"
      }
    },
    {
      "cell_type": "markdown",
      "source": [
        "<h4>1.4.1 Code </h4>"
      ],
      "metadata": {
        "id": "tOcvGwDUf8fd"
      }
    },
    {
      "cell_type": "code",
      "source": [
        "# Remove outliers\n",
        "cancer_norm = cancer_final[(np.abs(scipy.stats.zscore(cancer_final)) < 3).all(axis=1)]\n",
        "# Zero mean normalisation\n",
        "cancer_norm.iloc[:,1:]=(cancer_norm.iloc[:,1:]-cancer_norm.iloc[:,1:].mean())/cancer_norm.iloc[:,1:].std()"
      ],
      "metadata": {
        "id": "9Z4bemp56pTY"
      },
      "execution_count": 18,
      "outputs": []
    },
    {
      "cell_type": "code",
      "source": [
        "cancer_norm.head()"
      ],
      "metadata": {
        "colab": {
          "base_uri": "https://localhost:8080/",
          "height": 206
        },
        "id": "MQpTYu396pXt",
        "outputId": "b9c7fe2f-ac7c-4a14-fb02-1db06cccac5f"
      },
      "execution_count": 19,
      "outputs": [
        {
          "output_type": "execute_result",
          "data": {
            "text/html": [
              "\n",
              "  <div id=\"df-39a11a6d-e305-4b0f-b9ef-90f9d63e936c\">\n",
              "    <div class=\"colab-df-container\">\n",
              "      <div>\n",
              "<style scoped>\n",
              "    .dataframe tbody tr th:only-of-type {\n",
              "        vertical-align: middle;\n",
              "    }\n",
              "\n",
              "    .dataframe tbody tr th {\n",
              "        vertical-align: top;\n",
              "    }\n",
              "\n",
              "    .dataframe thead th {\n",
              "        text-align: right;\n",
              "    }\n",
              "</style>\n",
              "<table border=\"1\" class=\"dataframe\">\n",
              "  <thead>\n",
              "    <tr style=\"text-align: right;\">\n",
              "      <th></th>\n",
              "      <th>classes</th>\n",
              "      <th>UniformityofCellShape</th>\n",
              "      <th>BareNuclei</th>\n",
              "      <th>ClumpThickness</th>\n",
              "      <th>NormalNucleoli</th>\n",
              "      <th>MarginalAdhesion</th>\n",
              "      <th>SingleEpithelialCellSize</th>\n",
              "      <th>Mitoses</th>\n",
              "    </tr>\n",
              "  </thead>\n",
              "  <tbody>\n",
              "    <tr>\n",
              "      <th>0</th>\n",
              "      <td>0</td>\n",
              "      <td>-0.908070</td>\n",
              "      <td>-0.884010</td>\n",
              "      <td>0.008162</td>\n",
              "      <td>-0.729231</td>\n",
              "      <td>-0.759450</td>\n",
              "      <td>-0.673628</td>\n",
              "      <td>-0.407001</td>\n",
              "    </tr>\n",
              "    <tr>\n",
              "      <th>1</th>\n",
              "      <td>0</td>\n",
              "      <td>-0.908070</td>\n",
              "      <td>-0.626162</td>\n",
              "      <td>-0.671541</td>\n",
              "      <td>-0.729231</td>\n",
              "      <td>-0.759450</td>\n",
              "      <td>-0.673628</td>\n",
              "      <td>-0.407001</td>\n",
              "    </tr>\n",
              "    <tr>\n",
              "      <th>2</th>\n",
              "      <td>0</td>\n",
              "      <td>1.334822</td>\n",
              "      <td>-0.110465</td>\n",
              "      <td>0.348014</td>\n",
              "      <td>1.099169</td>\n",
              "      <td>-0.759450</td>\n",
              "      <td>-0.238478</td>\n",
              "      <td>-0.407001</td>\n",
              "    </tr>\n",
              "    <tr>\n",
              "      <th>3</th>\n",
              "      <td>1</td>\n",
              "      <td>1.975648</td>\n",
              "      <td>1.436624</td>\n",
              "      <td>1.027718</td>\n",
              "      <td>1.099169</td>\n",
              "      <td>1.511816</td>\n",
              "      <td>1.502125</td>\n",
              "      <td>-0.407001</td>\n",
              "    </tr>\n",
              "    <tr>\n",
              "      <th>4</th>\n",
              "      <td>0</td>\n",
              "      <td>-0.908070</td>\n",
              "      <td>1.436624</td>\n",
              "      <td>-1.351245</td>\n",
              "      <td>-0.729231</td>\n",
              "      <td>-0.759450</td>\n",
              "      <td>-0.673628</td>\n",
              "      <td>-0.407001</td>\n",
              "    </tr>\n",
              "  </tbody>\n",
              "</table>\n",
              "</div>\n",
              "      <button class=\"colab-df-convert\" onclick=\"convertToInteractive('df-39a11a6d-e305-4b0f-b9ef-90f9d63e936c')\"\n",
              "              title=\"Convert this dataframe to an interactive table.\"\n",
              "              style=\"display:none;\">\n",
              "        \n",
              "  <svg xmlns=\"http://www.w3.org/2000/svg\" height=\"24px\"viewBox=\"0 0 24 24\"\n",
              "       width=\"24px\">\n",
              "    <path d=\"M0 0h24v24H0V0z\" fill=\"none\"/>\n",
              "    <path d=\"M18.56 5.44l.94 2.06.94-2.06 2.06-.94-2.06-.94-.94-2.06-.94 2.06-2.06.94zm-11 1L8.5 8.5l.94-2.06 2.06-.94-2.06-.94L8.5 2.5l-.94 2.06-2.06.94zm10 10l.94 2.06.94-2.06 2.06-.94-2.06-.94-.94-2.06-.94 2.06-2.06.94z\"/><path d=\"M17.41 7.96l-1.37-1.37c-.4-.4-.92-.59-1.43-.59-.52 0-1.04.2-1.43.59L10.3 9.45l-7.72 7.72c-.78.78-.78 2.05 0 2.83L4 21.41c.39.39.9.59 1.41.59.51 0 1.02-.2 1.41-.59l7.78-7.78 2.81-2.81c.8-.78.8-2.07 0-2.86zM5.41 20L4 18.59l7.72-7.72 1.47 1.35L5.41 20z\"/>\n",
              "  </svg>\n",
              "      </button>\n",
              "      \n",
              "  <style>\n",
              "    .colab-df-container {\n",
              "      display:flex;\n",
              "      flex-wrap:wrap;\n",
              "      gap: 12px;\n",
              "    }\n",
              "\n",
              "    .colab-df-convert {\n",
              "      background-color: #E8F0FE;\n",
              "      border: none;\n",
              "      border-radius: 50%;\n",
              "      cursor: pointer;\n",
              "      display: none;\n",
              "      fill: #1967D2;\n",
              "      height: 32px;\n",
              "      padding: 0 0 0 0;\n",
              "      width: 32px;\n",
              "    }\n",
              "\n",
              "    .colab-df-convert:hover {\n",
              "      background-color: #E2EBFA;\n",
              "      box-shadow: 0px 1px 2px rgba(60, 64, 67, 0.3), 0px 1px 3px 1px rgba(60, 64, 67, 0.15);\n",
              "      fill: #174EA6;\n",
              "    }\n",
              "\n",
              "    [theme=dark] .colab-df-convert {\n",
              "      background-color: #3B4455;\n",
              "      fill: #D2E3FC;\n",
              "    }\n",
              "\n",
              "    [theme=dark] .colab-df-convert:hover {\n",
              "      background-color: #434B5C;\n",
              "      box-shadow: 0px 1px 3px 1px rgba(0, 0, 0, 0.15);\n",
              "      filter: drop-shadow(0px 1px 2px rgba(0, 0, 0, 0.3));\n",
              "      fill: #FFFFFF;\n",
              "    }\n",
              "  </style>\n",
              "\n",
              "      <script>\n",
              "        const buttonEl =\n",
              "          document.querySelector('#df-39a11a6d-e305-4b0f-b9ef-90f9d63e936c button.colab-df-convert');\n",
              "        buttonEl.style.display =\n",
              "          google.colab.kernel.accessAllowed ? 'block' : 'none';\n",
              "\n",
              "        async function convertToInteractive(key) {\n",
              "          const element = document.querySelector('#df-39a11a6d-e305-4b0f-b9ef-90f9d63e936c');\n",
              "          const dataTable =\n",
              "            await google.colab.kernel.invokeFunction('convertToInteractive',\n",
              "                                                     [key], {});\n",
              "          if (!dataTable) return;\n",
              "\n",
              "          const docLinkHtml = 'Like what you see? Visit the ' +\n",
              "            '<a target=\"_blank\" href=https://colab.research.google.com/notebooks/data_table.ipynb>data table notebook</a>'\n",
              "            + ' to learn more about interactive tables.';\n",
              "          element.innerHTML = '';\n",
              "          dataTable['output_type'] = 'display_data';\n",
              "          await google.colab.output.renderOutput(dataTable, element);\n",
              "          const docLink = document.createElement('div');\n",
              "          docLink.innerHTML = docLinkHtml;\n",
              "          element.appendChild(docLink);\n",
              "        }\n",
              "      </script>\n",
              "    </div>\n",
              "  </div>\n",
              "  "
            ],
            "text/plain": [
              "   classes  UniformityofCellShape  ...  SingleEpithelialCellSize   Mitoses\n",
              "0        0              -0.908070  ...                 -0.673628 -0.407001\n",
              "1        0              -0.908070  ...                 -0.673628 -0.407001\n",
              "2        0               1.334822  ...                 -0.238478 -0.407001\n",
              "3        1               1.975648  ...                  1.502125 -0.407001\n",
              "4        0              -0.908070  ...                 -0.673628 -0.407001\n",
              "\n",
              "[5 rows x 8 columns]"
            ]
          },
          "metadata": {},
          "execution_count": 19
        }
      ]
    },
    {
      "cell_type": "code",
      "source": [
        "#split the new dataset\n",
        "training_data_norm, test_data_norm = train_test_split(cancer_norm,random_state=None, shuffle=True)\n",
        "train_x_norm=training_data_norm.drop(['classes'], 1) \n",
        "train_y_norm=training_data_norm[['classes']]\n",
        "test_x_norm=test_data_norm.drop(['classes'], 1)\n",
        "test_y_norm=test_data_norm[['classes']]"
      ],
      "metadata": {
        "id": "Wkh0puJu6pa3"
      },
      "execution_count": 20,
      "outputs": []
    },
    {
      "cell_type": "code",
      "source": [
        "x_train = np.array(train_x_norm)\n",
        "print(x_train.shape)\n",
        "y_train = np.array(train_y_norm)\n",
        "print(y_train.shape)\n",
        "x_test = np.array(test_x_norm)\n",
        "print(x_test.shape)\n",
        "y_test = np.array(test_y_norm)\n",
        "print(y_test.shape)"
      ],
      "metadata": {
        "colab": {
          "base_uri": "https://localhost:8080/"
        },
        "id": "xlkLRQkM6pee",
        "outputId": "8fc8fc33-4eb4-440d-dd77-37a6680cef4c"
      },
      "execution_count": 21,
      "outputs": [
        {
          "output_type": "stream",
          "name": "stdout",
          "text": [
            "(343, 7)\n",
            "(343, 1)\n",
            "(115, 7)\n",
            "(115, 1)\n"
          ]
        }
      ]
    },
    {
      "cell_type": "markdown",
      "source": [
        "<h4>1.4.2 Observations</h4>\n",
        "<!---> Here will add what are the observations of each and every chapter <--->\n",
        "<h4>1.4.3 Approach </h4>\n"
      ],
      "metadata": {
        "id": "uoxu8NW0VeWR"
      }
    },
    {
      "cell_type": "markdown",
      "source": [
        "<h3>1.5 Conclusion </h3>"
      ],
      "metadata": {
        "id": "ezxSeKxKWqBF"
      }
    },
    {
      "cell_type": "markdown",
      "source": [
        "<h2><center>2. Model Fiting on the clean data</center></h2>\n",
        "\n",
        "We have a cleaned and a normalized data now we just have to fit a model over the data and make predictions.\n",
        "We are going to implement 2 models that are implemented by us \n",
        "\n",
        "<ol>\n",
        "    <li>SGD Classifier with Log Loss</li>\n",
        "    <li>SVM with RBF kernel</li>\n",
        "</ol>\n"
      ],
      "metadata": {
        "id": "SNNGSB4Vb2CE"
      }
    },
    {
      "cell_type": "markdown",
      "source": [
        "<h3>2.1 SGD Classifier with Log Loss</h3>"
      ],
      "metadata": {
        "id": "LGeB6fiFYPuS"
      }
    },
    {
      "cell_type": "markdown",
      "source": [
        "<h4>2.1.1 Function Call</h4>"
      ],
      "metadata": {
        "id": "3NIP2zzzYi2e"
      }
    },
    {
      "cell_type": "code",
      "source": [
        "## importing self made SGD classifier as Classifier 1 \n",
        "import Sgd_classifier as classfier_1\n",
        "alpha=0.001\n",
        "eta0=0.01\n",
        "N=len(x_train)\n",
        "epochs=75\n",
        "p = 2\n",
        "w,b,train_loss,test_loss=classfier_1.train(x_train,y_train,x_test,y_test,epochs,alpha,eta0,p)"
      ],
      "metadata": {
        "colab": {
          "base_uri": "https://localhost:8080/"
        },
        "id": "qq2Z7Etj6yun",
        "outputId": "821a5a35-15fc-4c9f-a7cf-a69fb5012daa"
      },
      "execution_count": 22,
      "outputs": [
        {
          "output_type": "stream",
          "name": "stderr",
          "text": [
            " 13%|█▎        | 10/75 [00:00<00:00, 94.92it/s]"
          ]
        },
        {
          "output_type": "stream",
          "name": "stdout",
          "text": [
            "\n",
            "-- Epoch no(iteration no)  1 \n",
            " Train data set : \n",
            "W intercept: [0.0252197  0.03218974 0.02970047 0.03364922 0.02251102 0.02127198\n",
            " 0.0328594 ], B intercept: [-0.01897169], Train loss: 0.2741532827440075, Test loss: 0.27298293204370894\n",
            "\n",
            "-- Epoch no(iteration no)  2 \n",
            " Train data set : \n",
            "W intercept: [0.05239699 0.06368044 0.04546331 0.07846228 0.02734176 0.05331558\n",
            " 0.04845009], B intercept: [-0.0273399], Train loss: 0.2517539870654226, Test loss: 0.2501389983353478\n",
            "\n",
            "-- Epoch no(iteration no)  3 \n",
            " Train data set : \n",
            "W intercept: [0.0803882  0.10642189 0.0766831  0.09618192 0.04168131 0.07866651\n",
            " 0.05436581], B intercept: [-0.02557394], Train loss: 0.23081570888533368, Test loss: 0.2297080151904121\n",
            "\n",
            "-- Epoch no(iteration no)  4 \n",
            " Train data set : \n",
            "W intercept: [0.11919462 0.12754374 0.07864959 0.1279466  0.07451661 0.11580293\n",
            " 0.07853126], B intercept: [-0.02674225], Train loss: 0.2111395204998254, Test loss: 0.20957791075102192\n",
            "\n",
            "-- Epoch no(iteration no)  5 \n",
            " Train data set : \n",
            "W intercept: [0.1465704  0.15457902 0.12426426 0.13770146 0.08777973 0.1333128\n",
            " 0.08295928], B intercept: [-0.0201693], Train loss: 0.19570854117585332, Test loss: 0.19500631995166745\n",
            "\n",
            "-- Epoch no(iteration no)  6 \n",
            " Train data set : \n",
            "W intercept: [0.17523266 0.18761729 0.13931419 0.14165346 0.12728668 0.15713386\n",
            " 0.09191972], B intercept: [-0.00792143], Train loss: 0.1813093645929881, Test loss: 0.18112323705579048\n",
            "\n",
            "-- Epoch no(iteration no)  7 \n",
            " Train data set : \n",
            "W intercept: [0.2100899  0.2217659  0.15719784 0.16313952 0.1383222  0.1720139\n",
            " 0.0903386 ], B intercept: [0.00929783], Train loss: 0.16901129483018415, Test loss: 0.1695580979408138\n",
            "\n",
            "-- Epoch no(iteration no)  8 \n",
            " Train data set : \n",
            "W intercept: [0.22389797 0.25439314 0.18198834 0.18355649 0.14415255 0.18861464\n",
            " 0.09819661], B intercept: [0.01712418], Train loss: 0.159034229851536, Test loss: 0.16023740009117063\n",
            "\n",
            "-- Epoch no(iteration no)  9 \n",
            " Train data set : \n",
            "W intercept: [0.24239181 0.27848142 0.20074197 0.19834369 0.16245559 0.20716249\n",
            " 0.09830621], B intercept: [0.03645639], Train loss: 0.1503394462336777, Test loss: 0.1523155698348897\n",
            "\n",
            "-- Epoch no(iteration no)  10 \n",
            " Train data set : \n",
            "W intercept: [0.26274363 0.30624326 0.21594608 0.21214165 0.17537672 0.2265504\n",
            " 0.09249943], B intercept: [0.03603332], Train loss: 0.14245979777510076, Test loss: 0.14488900742227767\n",
            "\n",
            "-- Epoch no(iteration no)  11 \n",
            " Train data set : \n",
            "W intercept: [0.27648495 0.32673768 0.23274349 0.22744604 0.19423711 0.24031531\n",
            " 0.11617861], B intercept: [0.03330724], Train loss: 0.13510481028273924, Test loss: 0.1377674413701879\n",
            "\n",
            "-- Epoch no(iteration no)  12 \n",
            " Train data set : \n",
            "W intercept: [0.29038715 0.3386754  0.25321545 0.24451864 0.19953977 0.2577226\n",
            " 0.12454306], B intercept: [0.02387071], Train loss: 0.12942588871526345, Test loss: 0.1323269093401371\n",
            "\n",
            "-- Epoch no(iteration no)  13 \n",
            " Train data set : \n",
            "W intercept: [0.30575586 0.34983667 0.27092608 0.26210021 0.20984318 0.27236175\n",
            " 0.1320841 ], B intercept: [0.03005698], Train loss: 0.12411728179148541, Test loss: 0.1274707143716725\n",
            "\n",
            "-- Epoch no(iteration no)  14 \n",
            " Train data set : \n",
            "W intercept: [0.32827813 0.36932401 0.28573107 0.266299   0.21722951 0.28179996\n",
            " 0.13529543], B intercept: [0.02767994], Train loss: 0.11938320300611052, Test loss: 0.12303178572575145\n",
            "\n",
            "-- Epoch no(iteration no)  15 \n",
            " Train data set : \n",
            "W intercept: [0.34077481 0.38590879 0.30123698 0.27964554 0.23116835 0.29078568\n",
            " 0.14015116], B intercept: [0.01925663], Train loss: 0.11487119046721493, Test loss: 0.11875288465472172\n",
            "\n",
            "-- Epoch no(iteration no)  16 \n",
            " Train data set : \n",
            "W intercept: [0.35085771 0.4028465  0.31749203 0.29268515 0.24693624 0.3000898\n",
            " 0.14969509], B intercept: [0.00573395], Train loss: 0.11050937009211682, Test loss: 0.11457395040799039\n",
            "\n",
            "-- Epoch no(iteration no)  17 \n",
            " Train data set : \n",
            "W intercept: [0.36657719 0.41899253 0.3258063  0.30410209 0.25583744 0.31270338\n",
            " 0.15293612], B intercept: [-0.00051076], Train loss: 0.10687232292598, Test loss: 0.11116862073676313\n",
            "\n",
            "-- Epoch no(iteration no)  18 \n",
            " Train data set : \n",
            "W intercept: [0.37836406 0.43118058 0.33290794 0.3150194  0.26528951 0.32827503\n",
            " 0.1593886 ], B intercept: [-0.00490352], Train loss: 0.1037265620233378, Test loss: 0.1082629091662499\n",
            "\n",
            "-- Epoch no(iteration no)  19 \n",
            " Train data set : \n",
            "W intercept: [0.39492515 0.44334541 0.33862264 0.33132943 0.27809379 0.33532927\n",
            " 0.16474568], B intercept: [-0.01522053], Train loss: 0.1005796816679622, Test loss: 0.10523853466253424\n"
          ]
        },
        {
          "output_type": "stream",
          "name": "stderr",
          "text": [
            " 39%|███▊      | 29/75 [00:00<00:00, 86.76it/s]"
          ]
        },
        {
          "output_type": "stream",
          "name": "stdout",
          "text": [
            "\n",
            "-- Epoch no(iteration no)  20 \n",
            " Train data set : \n",
            "W intercept: [0.40729365 0.45834865 0.34712577 0.34065746 0.28963322 0.34411467\n",
            " 0.1662374 ], B intercept: [-0.01364862], Train loss: 0.09775719714554328, Test loss: 0.10274961950897128\n",
            "\n",
            "-- Epoch no(iteration no)  21 \n",
            " Train data set : \n",
            "W intercept: [0.41511264 0.47027886 0.35574949 0.34595822 0.29827909 0.35242891\n",
            " 0.17481717], B intercept: [-0.01160668], Train loss: 0.09553918172657369, Test loss: 0.10082065356679522\n",
            "\n",
            "-- Epoch no(iteration no)  22 \n",
            " Train data set : \n",
            "W intercept: [0.41886562 0.48043358 0.36098897 0.34834621 0.29591152 0.35940124\n",
            " 0.17033773], B intercept: [-0.00067559], Train loss: 0.09444003584928977, Test loss: 0.10004790092727266\n",
            "\n",
            "-- Epoch no(iteration no)  23 \n",
            " Train data set : \n",
            "W intercept: [0.4173784  0.49630257 0.35966079 0.35093643 0.30535715 0.36849646\n",
            " 0.17804944], B intercept: [-0.00903311], Train loss: 0.09302628615775897, Test loss: 0.09871165790060679\n",
            "\n",
            "-- Epoch no(iteration no)  24 \n",
            " Train data set : \n",
            "W intercept: [0.43298365 0.5104925  0.38002001 0.35909478 0.31250177 0.36294804\n",
            " 0.1826365 ], B intercept: [-0.01025507], Train loss: 0.0904944567745866, Test loss: 0.09648997569068599\n",
            "\n",
            "-- Epoch no(iteration no)  25 \n",
            " Train data set : \n",
            "W intercept: [0.43959126 0.52468021 0.39644535 0.36513604 0.32182253 0.36695201\n",
            " 0.18487985], B intercept: [-0.00500787], Train loss: 0.08830970809804813, Test loss: 0.09471538456882622\n",
            "\n",
            "-- Epoch no(iteration no)  26 \n",
            " Train data set : \n",
            "W intercept: [0.45099077 0.53021964 0.40614734 0.36943567 0.33058129 0.37832744\n",
            " 0.1843984 ], B intercept: [0.00264124], Train loss: 0.08656440580512113, Test loss: 0.09330843762826645\n",
            "\n",
            "-- Epoch no(iteration no)  27 \n",
            " Train data set : \n",
            "W intercept: [0.46250145 0.54135169 0.41349604 0.37916433 0.34042129 0.3901842\n",
            " 0.17715433], B intercept: [-0.0097142], Train loss: 0.08468282685345542, Test loss: 0.0915740025683474\n",
            "\n",
            "-- Epoch no(iteration no)  28 \n",
            " Train data set : \n",
            "W intercept: [0.46834746 0.54838916 0.42775944 0.38736029 0.33709871 0.39241988\n",
            " 0.19054523], B intercept: [-0.00354515], Train loss: 0.08327436113789131, Test loss: 0.09048002201198092\n",
            "\n",
            "-- Epoch no(iteration no)  29 \n",
            " Train data set : \n",
            "W intercept: [0.48333888 0.54708751 0.43605039 0.40129413 0.34084848 0.40419551\n",
            " 0.18757766], B intercept: [0.0040965], Train loss: 0.08178393988730437, Test loss: 0.08930115788938765\n",
            "\n",
            "-- Epoch no(iteration no)  30 \n",
            " Train data set : \n",
            "W intercept: [0.48850148 0.55396177 0.45101893 0.40792302 0.34796514 0.40496487\n",
            " 0.19354838], B intercept: [0.00471852], Train loss: 0.0803985650881892, Test loss: 0.08817764044038871\n",
            "\n",
            "-- Epoch no(iteration no)  31 \n",
            " Train data set : \n",
            "W intercept: [0.49693845 0.55931844 0.4652804  0.40723259 0.35102502 0.40568258\n",
            " 0.1934891 ], B intercept: [0.01251769], Train loss: 0.07935093116784325, Test loss: 0.08739504805724987\n",
            "\n",
            "-- Epoch no(iteration no)  32 \n",
            " Train data set : \n",
            "W intercept: [0.50540984 0.56757227 0.47478525 0.41169701 0.3577701  0.41413072\n",
            " 0.1968526 ], B intercept: [0.0120731], Train loss: 0.07797879177573948, Test loss: 0.08625803146754481\n",
            "\n",
            "-- Epoch no(iteration no)  33 \n",
            " Train data set : \n",
            "W intercept: [0.5077291  0.5743692  0.47908705 0.41567215 0.36355011 0.41158034\n",
            " 0.19918617], B intercept: [0.00633014], Train loss: 0.07734469573013701, Test loss: 0.08567346528465199\n",
            "\n",
            "-- Epoch no(iteration no)  34 \n",
            " Train data set : \n",
            "W intercept: [0.50748925 0.58541306 0.48374263 0.41520649 0.36958768 0.40646358\n",
            " 0.19765898], B intercept: [0.01004956], Train loss: 0.07678239519122532, Test loss: 0.08525388103418546\n",
            "\n",
            "-- Epoch no(iteration no)  35 \n",
            " Train data set : \n",
            "W intercept: [0.51212736 0.59427544 0.48915165 0.43607156 0.37466104 0.40804887\n",
            " 0.19647535], B intercept: [0.01289859], Train loss: 0.0755220559038143, Test loss: 0.08428111198944412\n",
            "\n",
            "-- Epoch no(iteration no)  36 \n",
            " Train data set : \n",
            "W intercept: [0.51903777 0.59801982 0.49841667 0.44701759 0.37369031 0.41731229\n",
            " 0.21922966], B intercept: [0.01658623], Train loss: 0.07426198567113851, Test loss: 0.08331153249837\n",
            "\n",
            "-- Epoch no(iteration no)  37 \n",
            " Train data set : \n",
            "W intercept: [0.52787092 0.61212159 0.50351949 0.45436671 0.3765733  0.42365112\n",
            " 0.22180845], B intercept: [0.01149572], Train loss: 0.07303331047316124, Test loss: 0.08226490424079339\n"
          ]
        },
        {
          "output_type": "stream",
          "name": "stderr",
          "text": [
            " 64%|██████▍   | 48/75 [00:00<00:00, 84.75it/s]"
          ]
        },
        {
          "output_type": "stream",
          "name": "stdout",
          "text": [
            "\n",
            "-- Epoch no(iteration no)  38 \n",
            " Train data set : \n",
            "W intercept: [0.53551718 0.62083015 0.51209892 0.45852617 0.37678429 0.42686045\n",
            " 0.22151645], B intercept: [0.01407837], Train loss: 0.07212775932475783, Test loss: 0.0815662232683026\n",
            "\n",
            "-- Epoch no(iteration no)  39 \n",
            " Train data set : \n",
            "W intercept: [0.53823278 0.62206893 0.52161041 0.45463591 0.38863693 0.43171518\n",
            " 0.22517267], B intercept: [0.01615127], Train loss: 0.07148606858725208, Test loss: 0.0810858187631279\n",
            "\n",
            "-- Epoch no(iteration no)  40 \n",
            " Train data set : \n",
            "W intercept: [0.5446557  0.62604172 0.52408915 0.45868664 0.40225059 0.43327551\n",
            " 0.22511108], B intercept: [0.02182318], Train loss: 0.0707404044970985, Test loss: 0.08052065771394493\n",
            "\n",
            "-- Epoch no(iteration no)  41 \n",
            " Train data set : \n",
            "W intercept: [0.55515312 0.63804558 0.52350258 0.46261811 0.40668721 0.43775361\n",
            " 0.22528132], B intercept: [0.02440204], Train loss: 0.06985080129485415, Test loss: 0.07979329704927038\n",
            "\n",
            "-- Epoch no(iteration no)  42 \n",
            " Train data set : \n",
            "W intercept: [0.5589818  0.6518766  0.53034299 0.46444038 0.40619925 0.44476633\n",
            " 0.22284007], B intercept: [0.03219402], Train loss: 0.06897604575775808, Test loss: 0.07919507641424689\n",
            "\n",
            "-- Epoch no(iteration no)  43 \n",
            " Train data set : \n",
            "W intercept: [0.55984153 0.66653287 0.53422792 0.46628397 0.41210395 0.45228719\n",
            " 0.2242722 ], B intercept: [0.03921117], Train loss: 0.0680984371113661, Test loss: 0.0785932772818284\n",
            "\n",
            "-- Epoch no(iteration no)  44 \n",
            " Train data set : \n",
            "W intercept: [0.57017608 0.67349211 0.53638849 0.46972427 0.41295377 0.46125763\n",
            " 0.22111819], B intercept: [0.04689963], Train loss: 0.06736056812012246, Test loss: 0.07805919581812282\n",
            "\n",
            "-- Epoch no(iteration no)  45 \n",
            " Train data set : \n",
            "W intercept: [0.57552662 0.68198802 0.54170749 0.47522005 0.4202876  0.4653765\n",
            " 0.22551055], B intercept: [0.0450942], Train loss: 0.0665439949223308, Test loss: 0.07741393440271147\n",
            "\n",
            "-- Epoch no(iteration no)  46 \n",
            " Train data set : \n",
            "W intercept: [0.57943704 0.68607132 0.54927297 0.47995868 0.4265553  0.47101649\n",
            " 0.22825112], B intercept: [0.04269195], Train loss: 0.06587821074576476, Test loss: 0.07690377413336248\n",
            "\n",
            "-- Epoch no(iteration no)  47 \n",
            " Train data set : \n",
            "W intercept: [0.58642603 0.69143524 0.55614234 0.48759356 0.41477573 0.47175341\n",
            " 0.23095486], B intercept: [0.03788821], Train loss: 0.06544057532899693, Test loss: 0.07653030402405411\n",
            "\n",
            "-- Epoch no(iteration no)  48 \n",
            " Train data set : \n",
            "W intercept: [0.59676243 0.7008059  0.56192469 0.4887817  0.41597704 0.47444463\n",
            " 0.23157   ], B intercept: [0.04077153], Train loss: 0.0647232311827994, Test loss: 0.07597086472237555\n",
            "\n",
            "-- Epoch no(iteration no)  49 \n",
            " Train data set : \n",
            "W intercept: [0.60072374 0.70819209 0.56717763 0.49306091 0.42169019 0.47704574\n",
            " 0.23322   ], B intercept: [0.03827668], Train loss: 0.06412245654096625, Test loss: 0.07550192224984857\n",
            "\n",
            "-- Epoch no(iteration no)  50 \n",
            " Train data set : \n",
            "W intercept: [0.60617255 0.71525309 0.57174489 0.49968614 0.42780196 0.48228515\n",
            " 0.23672826], B intercept: [0.02968084], Train loss: 0.06346590485795284, Test loss: 0.07494920687606087\n",
            "\n",
            "-- Epoch no(iteration no)  51 \n",
            " Train data set : \n",
            "W intercept: [0.61232955 0.72286657 0.57574017 0.50379489 0.43243167 0.48637476\n",
            " 0.23932909], B intercept: [0.02636566], Train loss: 0.06286705723391824, Test loss: 0.07447113474218485\n",
            "\n",
            "-- Epoch no(iteration no)  52 \n",
            " Train data set : \n",
            "W intercept: [0.61700411 0.72839164 0.57609376 0.50692751 0.43566978 0.49130021\n",
            " 0.24009177], B intercept: [0.02701618], Train loss: 0.062456356442216206, Test loss: 0.0741632418420597\n",
            "\n",
            "-- Epoch no(iteration no)  53 \n",
            " Train data set : \n",
            "W intercept: [0.62498244 0.73462166 0.57732967 0.5148442  0.44152198 0.49419926\n",
            " 0.24281031], B intercept: [0.02095393], Train loss: 0.061898214277643145, Test loss: 0.07369035329679995\n"
          ]
        },
        {
          "output_type": "stream",
          "name": "stderr",
          "text": [
            " 88%|████████▊ | 66/75 [00:00<00:00, 81.94it/s]"
          ]
        },
        {
          "output_type": "stream",
          "name": "stdout",
          "text": [
            "\n",
            "-- Epoch no(iteration no)  54 \n",
            " Train data set : \n",
            "W intercept: [0.631863   0.74198577 0.58014439 0.51629927 0.44853841 0.49579574\n",
            " 0.24322896], B intercept: [0.02192797], Train loss: 0.061385511979102615, Test loss: 0.07329606922890458\n",
            "\n",
            "-- Epoch no(iteration no)  55 \n",
            " Train data set : \n",
            "W intercept: [0.63572327 0.74539712 0.58861131 0.52237314 0.44818388 0.50041746\n",
            " 0.24786896], B intercept: [0.02425299], Train loss: 0.06086914888550016, Test loss: 0.07297000574242275\n",
            "\n",
            "-- Epoch no(iteration no)  56 \n",
            " Train data set : \n",
            "W intercept: [0.63214129 0.75017587 0.5904178  0.51762511 0.44597504 0.50457212\n",
            " 0.2427584 ], B intercept: [0.04084455], Train loss: 0.06076490065402511, Test loss: 0.07303219147205237\n",
            "\n",
            "-- Epoch no(iteration no)  57 \n",
            " Train data set : \n",
            "W intercept: [0.63424565 0.76468931 0.58638904 0.52102646 0.44805743 0.50898104\n",
            " 0.24585658], B intercept: [0.03803396], Train loss: 0.060317050746445874, Test loss: 0.07267638048921901\n",
            "\n",
            "-- Epoch no(iteration no)  58 \n",
            " Train data set : \n",
            "W intercept: [0.63197072 0.77011526 0.59370727 0.52174269 0.45607791 0.50679485\n",
            " 0.25061013], B intercept: [0.0303602], Train loss: 0.06001285829957135, Test loss: 0.07243498268228406\n",
            "\n",
            "-- Epoch no(iteration no)  59 \n",
            " Train data set : \n",
            "W intercept: [0.63808728 0.77746829 0.6023373  0.52061977 0.4594536  0.50795494\n",
            " 0.25150243], B intercept: [0.03083262], Train loss: 0.059514961877150045, Test loss: 0.07206770472850957\n",
            "\n",
            "-- Epoch no(iteration no)  60 \n",
            " Train data set : \n",
            "W intercept: [0.64452908 0.78131145 0.60837335 0.5249611  0.46397289 0.51256993\n",
            " 0.24990606], B intercept: [0.03831431], Train loss: 0.05900194841739398, Test loss: 0.07175530443801403\n",
            "\n",
            "-- Epoch no(iteration no)  61 \n",
            " Train data set : \n",
            "W intercept: [0.65037009 0.78612355 0.61347803 0.52891634 0.4674989  0.51874273\n",
            " 0.24400826], B intercept: [0.0329126], Train loss: 0.05860257159143522, Test loss: 0.07143508208575121\n",
            "\n",
            "-- Epoch no(iteration no)  62 \n",
            " Train data set : \n",
            "W intercept: [0.65428043 0.79082185 0.62106179 0.53629695 0.46996971 0.52212123\n",
            " 0.2489792 ], B intercept: [0.03047051], Train loss: 0.05811254864955282, Test loss: 0.07110524666464205\n",
            "\n",
            "-- Epoch no(iteration no)  63 \n",
            " Train data set : \n",
            "W intercept: [0.66130563 0.78798938 0.62656955 0.54343614 0.46488142 0.52769598\n",
            " 0.25439315], B intercept: [0.04442404], Train loss: 0.057751307192391015, Test loss: 0.07096158599624718\n",
            "\n",
            "-- Epoch no(iteration no)  64 \n",
            " Train data set : \n",
            "W intercept: [0.66383804 0.7899586  0.64032094 0.54695235 0.46632096 0.52645923\n",
            " 0.25709157], B intercept: [0.04953157], Train loss: 0.05732937077589574, Test loss: 0.07073286828303092\n",
            "\n",
            "-- Epoch no(iteration no)  65 \n",
            " Train data set : \n",
            "W intercept: [0.66889704 0.79057712 0.65149834 0.54456021 0.46689165 0.52549885\n",
            " 0.25595236], B intercept: [0.05364415], Train loss: 0.05705910184009434, Test loss: 0.07056127174782699\n",
            "\n",
            "-- Epoch no(iteration no)  66 \n",
            " Train data set : \n",
            "W intercept: [0.67303824 0.79475543 0.656036   0.5471984  0.46954036 0.5282324\n",
            " 0.25769944], B intercept: [0.05455494], Train loss: 0.05672129767689862, Test loss: 0.0703366336573234\n",
            "\n",
            "-- Epoch no(iteration no)  67 \n",
            " Train data set : \n",
            "W intercept: [0.66989774 0.79618107 0.65730179 0.55016754 0.46995949 0.52457264\n",
            " 0.26030248], B intercept: [0.04816152], Train loss: 0.05673218969785012, Test loss: 0.07032575191098756\n",
            "\n",
            "-- Epoch no(iteration no)  68 \n",
            " Train data set : \n",
            "W intercept: [0.66710996 0.8032281  0.6577697  0.54606997 0.47351919 0.51769954\n",
            " 0.25786187], B intercept: [0.05412864], Train loss: 0.056681539506953954, Test loss: 0.07030890877869633\n",
            "\n",
            "-- Epoch no(iteration no)  69 \n",
            " Train data set : \n",
            "W intercept: [0.67057671 0.80915489 0.6603265  0.55837537 0.47968434 0.51743796\n",
            " 0.25767524], B intercept: [0.05456376], Train loss: 0.05624724341220129, Test loss: 0.07003531847780618\n",
            "\n",
            "-- Epoch no(iteration no)  70 \n",
            " Train data set : \n",
            "W intercept: [0.67387862 0.81325786 0.66544125 0.56982959 0.47824726 0.52152972\n",
            " 0.26817039], B intercept: [0.0577846], Train loss: 0.0557860081829423, Test loss: 0.06979089293677264\n",
            "\n",
            "-- Epoch no(iteration no)  71 \n",
            " Train data set : \n",
            "W intercept: [0.67892864 0.81904991 0.67195529 0.57468982 0.4766253  0.52778837\n",
            " 0.27642381], B intercept: [0.05808787], Train loss: 0.055335581625625054, Test loss: 0.06951309715177545\n"
          ]
        },
        {
          "output_type": "stream",
          "name": "stderr",
          "text": [
            "100%|██████████| 75/75 [00:00<00:00, 84.75it/s]"
          ]
        },
        {
          "output_type": "stream",
          "name": "stdout",
          "text": [
            "\n",
            "-- Epoch no(iteration no)  72 \n",
            " Train data set : \n",
            "W intercept: [0.68459719 0.82403355 0.67908509 0.57667494 0.47563641 0.52752163\n",
            " 0.27552657], B intercept: [0.06096994], Train loss: 0.05501517554811754, Test loss: 0.06930052617613694\n",
            "\n",
            "-- Epoch no(iteration no)  73 \n",
            " Train data set : \n",
            "W intercept: [0.68565732 0.82418614 0.68332953 0.5718189  0.48709493 0.53070192\n",
            " 0.278825  ], B intercept: [0.06028153], Train loss: 0.054833849739667186, Test loss: 0.06918449618750709\n",
            "\n",
            "-- Epoch no(iteration no)  74 \n",
            " Train data set : \n",
            "W intercept: [0.68902538 0.82461759 0.68363218 0.57397958 0.4977845  0.53108271\n",
            " 0.27721975], B intercept: [0.06486911], Train loss: 0.054633724582407686, Test loss: 0.06907281878331185\n",
            "\n",
            "-- Epoch no(iteration no)  75 \n",
            " Train data set : \n",
            "W intercept: [0.69473251 0.83177087 0.68239984 0.5753644  0.50104027 0.53418075\n",
            " 0.27831324], B intercept: [0.06563523], Train loss: 0.054348177744162014, Test loss: 0.06886327543863523\n"
          ]
        },
        {
          "output_type": "stream",
          "name": "stderr",
          "text": [
            "\n"
          ]
        }
      ]
    },
    {
      "cell_type": "markdown",
      "source": [
        "<h>2.1.2 Coding Approach</h4>\n",
        "\n",
        "<!----> Will be going over the coding how it is done and stuff"
      ],
      "metadata": {
        "id": "PNjgLcYRYcIm"
      }
    },
    {
      "cell_type": "markdown",
      "source": [
        "<h3>2.2 SVM with RBF kernel </h3>"
      ],
      "metadata": {
        "id": "ndwbS6ZqaLr3"
      }
    },
    {
      "cell_type": "markdown",
      "source": [
        "<h4>2.2.1 Function Call</h4>"
      ],
      "metadata": {
        "id": "H-Qtsx6LaTN7"
      }
    },
    {
      "cell_type": "markdown",
      "source": [
        "<h4>2.2.2 Coding Approach</h4>\n",
        "\n",
        "<!----> Will be going over the coding how it is done and stuff"
      ],
      "metadata": {
        "id": "FUu-87k2aXIR"
      }
    },
    {
      "cell_type": "markdown",
      "source": [
        "<h2><center>3. Model Accuracy</center></h2>\n",
        "<em>\n",
        "Here we are going to talk about the model accuracies by using test and train loss graphs, in addition to Confussion Matrix and some ROC curves\n",
        "</em>"
      ],
      "metadata": {
        "id": "swzuVJ19S1Jr"
      }
    },
    {
      "cell_type": "markdown",
      "source": [
        "<h3>3.1 Model 1 SGD Classifier with Log Loss</h3>\n"
      ],
      "metadata": {
        "id": "qPy611dMa8Bu"
      }
    },
    {
      "cell_type": "markdown",
      "source": [
        "<h4>3.1.1 Prediction accuracies</h4>"
      ],
      "metadata": {
        "id": "rI7qXtftah1a"
      }
    },
    {
      "cell_type": "code",
      "source": [
        "y_train_pred = classfier_1.pred(w,b,x_train)\n",
        "y_test_pred = classfier_1.pred(w,b,x_test)\n",
        "\n",
        "y_train=y_train.reshape(y_train_pred.shape)\n",
        "print('Train_Accuracy : {:.3f}'.format(1-np.sum(y_train - y_train_pred)/len(x_train)))\n",
        "y_test=y_test.reshape(y_test_pred.shape)\n",
        "print('Test_Accuracy  : {:.3f}'.format(1-np.sum(y_test  - y_test_pred)/len(x_test)))"
      ],
      "metadata": {
        "colab": {
          "base_uri": "https://localhost:8080/"
        },
        "id": "057fGPgc6x3_",
        "outputId": "c841cc8b-3706-45a5-886f-2b89fe684824"
      },
      "execution_count": 23,
      "outputs": [
        {
          "output_type": "stream",
          "name": "stdout",
          "text": [
            "Train_Accuracy : 0.997\n",
            "Test_Accuracy  : 0.991\n"
          ]
        }
      ]
    },
    {
      "cell_type": "markdown",
      "source": [
        "<h4>3.1.2 Test and Train Loss over Epochs</h4>\n",
        "We will plot graph against the number of epochs with respect to the test and train loss. This will give us insight whehter our code is performing gradient descent in a correct manner."
      ],
      "metadata": {
        "id": "7pAXgaM_bjzs"
      }
    },
    {
      "cell_type": "code",
      "source": [
        "epochs = np.arange(1, epochs+1, 1)\n",
        "plt.figure(figsize=(15, 7))\n",
        "plt.plot(epochs, train_loss, label='Train Loss')\n",
        "plt.plot(epochs, test_loss, label='Test Loss')\n",
        "plt.title('Epoch vs Train,Test Loss')\n",
        "plt.xlabel(\"Epoch_no\")\n",
        "plt.ylabel('Loss')\n",
        "plt.legend()\n",
        "print(125*'=')\n"
      ],
      "metadata": {
        "colab": {
          "base_uri": "https://localhost:8080/",
          "height": 479
        },
        "id": "1gK7yssz073T",
        "outputId": "1e05ada0-94c4-4922-ee84-f977b749eb39"
      },
      "execution_count": 24,
      "outputs": [
        {
          "output_type": "stream",
          "name": "stdout",
          "text": [
            "=============================================================================================================================\n"
          ]
        },
        {
          "output_type": "display_data",
          "data": {
            "image/png": "[encoded data removed]",
            "text/plain": [
              "<Figure size 1080x504 with 1 Axes>"
            ]
          },
          "metadata": {}
        }
      ]
    },
    {
      "cell_type": "markdown",
      "source": [
        "<h4>3.1.3 Confusion Matrix </h4>\n",
        "Here well will print the confusion matrix for the Model with its Precision and Recall values"
      ],
      "metadata": {
        "id": "qcN8YgFwb0gH"
      }
    },
    {
      "cell_type": "code",
      "source": [
        "#from sklearn.metrics import confusion_matrix\n",
        "import confusion_matrix as cm\n",
        "cm,fpr,recall = cm.confusion_matrix(y_test, y_test_pred)\n",
        "# Accuracy is\n",
        "AUC_score = (cm[0][0] + cm[1][1])/(cm[0][1]+cm[1][0]+cm[0][0] + cm[1][1])\n",
        "print('Confusion Matrix\\n',cm)\n",
        "print('False Positive Rate :   {:.3f}'.format(fpr))\n",
        "print('True Positive Rate  :   {:.3f}'.format(recall))\n",
        "print('Area Under Curve (AUC): {:.3f}'.format(AUC_score))"
      ],
      "metadata": {
        "colab": {
          "base_uri": "https://localhost:8080/"
        },
        "id": "dwjOiXQsTjjO",
        "outputId": "a72b0d44-1e64-459b-e9d1-14f4a290b3e7"
      },
      "execution_count": 25,
      "outputs": [
        {
          "output_type": "stream",
          "name": "stdout",
          "text": [
            "Confusion Matrix\n",
            " [[62  3]\n",
            " [ 4 46]]\n",
            "False Positive Rate :   0.046\n",
            "True Positive Rate  :   0.920\n",
            "Area Under Curve (AUC): 0.939\n"
          ]
        }
      ]
    },
    {
      "cell_type": "markdown",
      "source": [
        "<h2><center>Conclusions</center></h2>\n",
        "<em>\n",
        "<ol>\n",
        "<li></li>\n",
        "<li></li>\n",
        "<li></li>\n",
        "</ol>\n",
        "</em>\n",
        "<h2><center>Code's Shortcomings</center></h2>\n",
        "This code works on assumption that #Gradient descents fault... \n",
        "<em>\n",
        "&emsp;<li>Very High Accuracy (Overfitting?) but still high precission and recall? Why?</li>\n",
        "<li>Really Low Data Points </li>\n",
        "<!---> Some shortcommings about the SVMs stuff? What assumptions we make with the SVM stuff?\n"
      ],
      "metadata": {
        "id": "XW2Czt08hhqg"
      }
    },
    {
      "cell_type": "markdown",
      "source": [
        "<h2><center>References</center></h2>\n"
      ],
      "metadata": {
        "id": "_tB9iqYfg-NA"
      }
    }
  ]
}