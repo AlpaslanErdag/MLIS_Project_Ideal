{
 "cells": [
  {
   "cell_type": "code",
   "execution_count": 1,
   "metadata": {
    "id": "e6rrsFyi4Bd9"
   },
   "outputs": [],
   "source": [
    "# This is the main jupyter notebook for the coursework of MLIS \n",
    "## Grp 4B\n",
    "## Authors\n",
    "## Alpaslan Erdag , Anshuman Singh , Yixin Fan\n",
    "## Date - 15/01/2022"
   ]
  },
  {
   "cell_type": "markdown",
   "metadata": {
    "id": "G-IY5zC537OU"
   },
   "source": [
    "<h1> <center> Abstract </center> </h1>\n",
    "​<em>\n",
    "\n",
    "Todo - Write some abstract about the data giving some information about.\n",
    "\n",
    "The data is obtanined from UCI repository which can be obtained from the [here](https://archive.ics.uci.edu/ml/datasets/breast+cancer+wisconsin+%28original%29)\n",
    "</em>"
   ]
  },
  {
   "cell_type": "code",
   "execution_count": 2,
   "metadata": {
    "colab": {
     "base_uri": "https://localhost:8080/"
    },
    "id": "3boaTk7A4FrC",
    "outputId": "28e07a26-0a3f-4422-b507-f887576fdaca"
   },
   "outputs": [
    {
     "name": "stdout",
     "output_type": "stream",
     "text": [
      "Citation Request:\n",
      "   This breast cancer databases was obtained from the University of Wisconsin\n",
      "   Hospitals, Madison from Dr. William H. Wolberg.  If you publish results\n",
      "   when using this database, then please include this information in your\n",
      "   acknowledgements.  Also, please cite one or more of:\n",
      "\n",
      "   1. O. L. Mangasarian and W. H. Wolberg: \"Cancer diagnosis via linear \n",
      "      programming\", SIAM News, Volume 23, Number 5, September 1990, pp 1 & 18.\n",
      "\n",
      "   2. William H. Wolberg and O.L. Mangasarian: \"Multisurface method of \n",
      "      pattern separation for medical diagnosis applied to breast cytology\", \n",
      "      Proceedings of the National Academy of Sciences, U.S.A., Volume 87, \n",
      "      December 1990, pp 9193-9196.\n",
      "\n",
      "   3. O. L. Mangasarian, R. Setiono, and W.H. Wolberg: \"Pattern recognition \n",
      "      via linear programming: Theory and application to medical diagnosis\", \n",
      "      in: \"Large-scale numerical optimization\", Thomas F. Coleman and Yuying\n",
      "      Li, editors, SIAM Publications, Philadelphia 1990, pp 22-30.\n",
      "\n",
      "   4. K. P. Bennett & O. L. Mangasarian: \"Robust linear programming \n",
      "      discrimination of two linearly inseparable sets\", Optimization Methods\n",
      "      and Software 1, 1992, 23-34 (Gordon & Breach Science Publishers).\n",
      "\n",
      "1. Title: Wisconsin Breast Cancer Database (January 8, 1991)\n",
      "\n",
      "2. Sources:\n",
      "   -- Dr. WIlliam H. Wolberg (physician)\n",
      "      University of Wisconsin Hospitals\n",
      "      Madison, Wisconsin\n",
      "      USA\n",
      "   -- Donor: Olvi Mangasarian (mangasarian@cs.wisc.edu)\n",
      "      Received by David W. Aha (aha@cs.jhu.edu)\n",
      "   -- Date: 15 July 1992\n",
      "\n",
      "3. Past Usage:\n",
      "\n",
      "   Attributes 2 through 10 have been used to represent instances.\n",
      "   Each instance has one of 2 possible classes: benign or malignant.\n",
      "\n",
      "   1. Wolberg,~W.~H., \\& Mangasarian,~O.~L. (1990). Multisurface method of \n",
      "      pattern separation for medical diagnosis applied to breast cytology. In\n",
      "      {\\it Proceedings of the National Academy of Sciences}, {\\it 87},\n",
      "      9193--9196.\n",
      "      -- Size of data set: only 369 instances (at that point in time)\n",
      "      -- Collected classification results: 1 trial only\n",
      "      -- Two pairs of parallel hyperplanes were found to be consistent with\n",
      "         50% of the data\n",
      "         -- Accuracy on remaining 50% of dataset: 93.5%\n",
      "      -- Three pairs of parallel hyperplanes were found to be consistent with\n",
      "         67% of data\n",
      "         -- Accuracy on remaining 33% of dataset: 95.9%\n",
      "\n",
      "   2. Zhang,~J. (1992). Selecting typical instances in instance-based\n",
      "      learning.  In {\\it Proceedings of the Ninth International Machine\n",
      "      Learning Conference} (pp. 470--479).  Aberdeen, Scotland: Morgan\n",
      "      Kaufmann.\n",
      "      -- Size of data set: only 369 instances (at that point in time)\n",
      "      -- Applied 4 instance-based learning algorithms \n",
      "      -- Collected classification results averaged over 10 trials\n",
      "      -- Best accuracy result: \n",
      "         -- 1-nearest neighbor: 93.7%\n",
      "         -- trained on 200 instances, tested on the other 169\n",
      "      -- Also of interest:\n",
      "         -- Using only typical instances: 92.2% (storing only 23.1 instances)\n",
      "         -- trained on 200 instances, tested on the other 169\n",
      "\n",
      "4. Relevant Information:\n",
      "\n",
      "   Samples arrive periodically as Dr. Wolberg reports his clinical cases.\n",
      "   The database therefore reflects this chronological grouping of the data.\n",
      "   This grouping information appears immediately below, having been removed\n",
      "   from the data itself:\n",
      "\n",
      "     Group 1: 367 instances (January 1989)\n",
      "     Group 2:  70 instances (October 1989)\n",
      "     Group 3:  31 instances (February 1990)\n",
      "     Group 4:  17 instances (April 1990)\n",
      "     Group 5:  48 instances (August 1990)\n",
      "     Group 6:  49 instances (Updated January 1991)\n",
      "     Group 7:  31 instances (June 1991)\n",
      "     Group 8:  86 instances (November 1991)\n",
      "     -----------------------------------------\n",
      "     Total:   699 points (as of the donated datbase on 15 July 1992)\n",
      "\n",
      "   Note that the results summarized above in Past Usage refer to a dataset\n",
      "   of size 369, while Group 1 has only 367 instances.  This is because it\n",
      "   originally contained 369 instances; 2 were removed.  The following\n",
      "   statements summarizes changes to the original Group 1's set of data:\n",
      "\n",
      "   #####  Group 1 : 367 points: 200B 167M (January 1989)\n",
      "   #####  Revised Jan 10, 1991: Replaced zero bare nuclei in 1080185 & 1187805\n",
      "   #####  Revised Nov 22,1991: Removed 765878,4,5,9,7,10,10,10,3,8,1 no record\n",
      "   #####                  : Removed 484201,2,7,8,8,4,3,10,3,4,1 zero epithelial\n",
      "   #####                  : Changed 0 to 1 in field 6 of sample 1219406\n",
      "   #####                  : Changed 0 to 1 in field 8 of following sample:\n",
      "   #####                  : 1182404,2,3,1,1,1,2,0,1,1,1\n",
      "\n",
      "5. Number of Instances: 699 (as of 15 July 1992)\n",
      "\n",
      "6. Number of Attributes: 10 plus the class attribute\n",
      "\n",
      "7. Attribute Information: (class attribute has been moved to last column)\n",
      "\n",
      "   #  Attribute                     Domain\n",
      "   -- -----------------------------------------\n",
      "   1. Sample code number            id number\n",
      "   2. Clump Thickness               1 - 10\n",
      "   3. Uniformity of Cell Size       1 - 10\n",
      "   4. Uniformity of Cell Shape      1 - 10\n",
      "   5. Marginal Adhesion             1 - 10\n",
      "   6. Single Epithelial Cell Size   1 - 10\n",
      "   7. Bare Nuclei                   1 - 10\n",
      "   8. Bland Chromatin               1 - 10\n",
      "   9. Normal Nucleoli               1 - 10\n",
      "  10. Mitoses                       1 - 10\n",
      "  11. Class:                        (2 for benign, 4 for malignant)\n",
      "\n",
      "8. Missing attribute values: 16\n",
      "\n",
      "   There are 16 instances in Groups 1 to 6 that contain a single missing \n",
      "   (i.e., unavailable) attribute value, now denoted by \"?\".  \n",
      "\n",
      "9. Class distribution:\n",
      " \n",
      "   Benign: 458 (65.5%)\n",
      "   Malignant: 241 (34.5%)\n",
      "\n"
     ]
    }
   ],
   "source": [
    "# Also should we show this ? tell me your thoughts\n",
    "about_data ='/Users/anshuman/Desktop/Project_Folder/MLIS_Project_Ideal/breast-cancer-wisconsin.names'\n",
    "#about_data = '/content/breast-cancer-wisconsin.names'\n",
    "with open(about_data) as f:\n",
    "    print(f.read())"
   ]
  },
  {
   "cell_type": "markdown",
   "metadata": {
    "id": "ZN6gh3N24R-W"
   },
   "source": [
    "<h1><center>About code (Suggest a good heading)</center></h1>\n",
    "\n",
    "<h2><em>The code is divided in the following modules/parts/chapters?</h2>\n",
    "<ol>\n",
    "<li> <h4> Data Cleaning and Data Preprocessing </h4></li> \n",
    "<li> <h4>Model Fiting on the clean data </h4></li> \n",
    "<li> <h4>Model Accuracy </h4></li>\n",
    "</ol>\n",
    "</em>"
   ]
  },
  {
   "cell_type": "markdown",
   "metadata": {
    "id": "0TONMQnQ4SDg"
   },
   "source": [
    "<h2><center>1. Data Cleaning and Data Preprocessing</center></h2>\n",
    "\n",
    "<p>To get a good result over model accuracies we are going to first clean the data and then used the cleaned and preprocessed data to train a model. </p>\n",
    "\n",
    "<p> We will be using a systematic approach to clean our data. That will be listed in the following steps</p>\n",
    "<em>\n",
    "&emsp; <li>Data Visulaization</li>\n",
    "&emsp; <li>Checking and Removing nan values</li>\n",
    "&emsp; <li>Removing Useless Attributes</li>\n",
    "&emsp; <li>Deleting Outliers and Data Normalizations</li>\n",
    "</em>"
   ]
  },
  {
   "cell_type": "markdown",
   "metadata": {
    "id": "-daRoybV4SJI"
   },
   "source": [
    "<h3>1.1 Data Visualization </h3>"
   ]
  },
  {
   "cell_type": "markdown",
   "metadata": {
    "id": "dRQhoFvkfl-R"
   },
   "source": [
    "<h4>1.1.1 Code </h4>"
   ]
  },
  {
   "cell_type": "code",
   "execution_count": 3,
   "metadata": {
    "id": "sK9S6Bky4RlC"
   },
   "outputs": [],
   "source": [
    "## Header Files \n",
    "import pandas as pd\n",
    "import numpy as np\n",
    "import warnings\n",
    "warnings.filterwarnings('ignore')\n",
    "import matplotlib.pyplot as plt\n",
    "import seaborn as sns\n",
    "plt.style.use('ggplot')\n",
    "import scipy\n",
    "\n",
    "## Loading Data \n",
    "data = '/Users/anshuman/Desktop/Project_Folder/MLIS_Project_Ideal/breast-cancer-wisconsin.data'\n",
    "#data = '/content/breast-cancer-wisconsin.data'"
   ]
  },
  {
   "cell_type": "code",
   "execution_count": 4,
   "metadata": {
    "id": "xL5c7NTs4omD"
   },
   "outputs": [
    {
     "data": {
      "text/html": [
       "<div>\n",
       "<style scoped>\n",
       "    .dataframe tbody tr th:only-of-type {\n",
       "        vertical-align: middle;\n",
       "    }\n",
       "\n",
       "    .dataframe tbody tr th {\n",
       "        vertical-align: top;\n",
       "    }\n",
       "\n",
       "    .dataframe thead th {\n",
       "        text-align: right;\n",
       "    }\n",
       "</style>\n",
       "<table border=\"1\" class=\"dataframe\">\n",
       "  <thead>\n",
       "    <tr style=\"text-align: right;\">\n",
       "      <th></th>\n",
       "      <th>Samplecodenumber</th>\n",
       "      <th>ClumpThickness</th>\n",
       "      <th>UniformityofCellSize</th>\n",
       "      <th>UniformityofCellShape</th>\n",
       "      <th>MarginalAdhesion</th>\n",
       "      <th>SingleEpithelialCellSize</th>\n",
       "      <th>BareNuclei</th>\n",
       "      <th>BlandChromatin</th>\n",
       "      <th>NormalNucleoli</th>\n",
       "      <th>Mitoses</th>\n",
       "      <th>Class</th>\n",
       "    </tr>\n",
       "  </thead>\n",
       "  <tbody>\n",
       "    <tr>\n",
       "      <th>0</th>\n",
       "      <td>1000025</td>\n",
       "      <td>5</td>\n",
       "      <td>1</td>\n",
       "      <td>1</td>\n",
       "      <td>1</td>\n",
       "      <td>2</td>\n",
       "      <td>1</td>\n",
       "      <td>3</td>\n",
       "      <td>1</td>\n",
       "      <td>1</td>\n",
       "      <td>2</td>\n",
       "    </tr>\n",
       "    <tr>\n",
       "      <th>1</th>\n",
       "      <td>1002945</td>\n",
       "      <td>5</td>\n",
       "      <td>4</td>\n",
       "      <td>4</td>\n",
       "      <td>5</td>\n",
       "      <td>7</td>\n",
       "      <td>10</td>\n",
       "      <td>3</td>\n",
       "      <td>2</td>\n",
       "      <td>1</td>\n",
       "      <td>2</td>\n",
       "    </tr>\n",
       "    <tr>\n",
       "      <th>2</th>\n",
       "      <td>1015425</td>\n",
       "      <td>3</td>\n",
       "      <td>1</td>\n",
       "      <td>1</td>\n",
       "      <td>1</td>\n",
       "      <td>2</td>\n",
       "      <td>2</td>\n",
       "      <td>3</td>\n",
       "      <td>1</td>\n",
       "      <td>1</td>\n",
       "      <td>2</td>\n",
       "    </tr>\n",
       "    <tr>\n",
       "      <th>3</th>\n",
       "      <td>1016277</td>\n",
       "      <td>6</td>\n",
       "      <td>8</td>\n",
       "      <td>8</td>\n",
       "      <td>1</td>\n",
       "      <td>3</td>\n",
       "      <td>4</td>\n",
       "      <td>3</td>\n",
       "      <td>7</td>\n",
       "      <td>1</td>\n",
       "      <td>2</td>\n",
       "    </tr>\n",
       "    <tr>\n",
       "      <th>4</th>\n",
       "      <td>1017023</td>\n",
       "      <td>4</td>\n",
       "      <td>1</td>\n",
       "      <td>1</td>\n",
       "      <td>3</td>\n",
       "      <td>2</td>\n",
       "      <td>1</td>\n",
       "      <td>3</td>\n",
       "      <td>1</td>\n",
       "      <td>1</td>\n",
       "      <td>2</td>\n",
       "    </tr>\n",
       "  </tbody>\n",
       "</table>\n",
       "</div>"
      ],
      "text/plain": [
       "   Samplecodenumber  ClumpThickness  UniformityofCellSize  \\\n",
       "0           1000025               5                     1   \n",
       "1           1002945               5                     4   \n",
       "2           1015425               3                     1   \n",
       "3           1016277               6                     8   \n",
       "4           1017023               4                     1   \n",
       "\n",
       "   UniformityofCellShape  MarginalAdhesion  SingleEpithelialCellSize  \\\n",
       "0                      1                 1                         2   \n",
       "1                      4                 5                         7   \n",
       "2                      1                 1                         2   \n",
       "3                      8                 1                         3   \n",
       "4                      1                 3                         2   \n",
       "\n",
       "  BareNuclei  BlandChromatin  NormalNucleoli  Mitoses  Class  \n",
       "0          1               3               1        1      2  \n",
       "1         10               3               2        1      2  \n",
       "2          2               3               1        1      2  \n",
       "3          4               3               7        1      2  \n",
       "4          1               3               1        1      2  "
      ]
     },
     "execution_count": 4,
     "metadata": {},
     "output_type": "execute_result"
    }
   ],
   "source": [
    "col_name = ['Samplecodenumber','ClumpThickness','UniformityofCellSize','UniformityofCellShape',\n",
    "            'MarginalAdhesion','SingleEpithelialCellSize','BareNuclei',\n",
    "            'BlandChromatin','NormalNucleoli','Mitoses','Class']\n",
    "cancerdata = pd.read_csv(data,low_memory=False,names=col_name)\n",
    "cancerdata.head()"
   ]
  },
  {
   "cell_type": "code",
   "execution_count": 5,
   "metadata": {
    "id": "oOGBeeDS4opZ"
   },
   "outputs": [],
   "source": [
    "## Removing attribute that is of no use\n",
    "cancerdata = cancerdata.drop(['Samplecodenumber'], 1)"
   ]
  },
  {
   "cell_type": "code",
   "execution_count": 6,
   "metadata": {
    "id": "nV7-qayy4orv"
   },
   "outputs": [
    {
     "data": {
      "text/plain": [
       "2    458\n",
       "4    241\n",
       "Name: Class, dtype: int64"
      ]
     },
     "execution_count": 6,
     "metadata": {},
     "output_type": "execute_result"
    }
   ],
   "source": [
    "# The number of samples present by class count\n",
    "cancerdata['Class'].value_counts()"
   ]
  },
  {
   "cell_type": "code",
   "execution_count": 7,
   "metadata": {
    "id": "iY_4Kw5F4ous"
   },
   "outputs": [
    {
     "data": {
      "text/html": [
       "<div>\n",
       "<style scoped>\n",
       "    .dataframe tbody tr th:only-of-type {\n",
       "        vertical-align: middle;\n",
       "    }\n",
       "\n",
       "    .dataframe tbody tr th {\n",
       "        vertical-align: top;\n",
       "    }\n",
       "\n",
       "    .dataframe thead th {\n",
       "        text-align: right;\n",
       "    }\n",
       "</style>\n",
       "<table border=\"1\" class=\"dataframe\">\n",
       "  <thead>\n",
       "    <tr style=\"text-align: right;\">\n",
       "      <th></th>\n",
       "      <th>ClumpThickness</th>\n",
       "      <th>UniformityofCellSize</th>\n",
       "      <th>UniformityofCellShape</th>\n",
       "      <th>MarginalAdhesion</th>\n",
       "      <th>SingleEpithelialCellSize</th>\n",
       "      <th>BareNuclei</th>\n",
       "      <th>BlandChromatin</th>\n",
       "      <th>NormalNucleoli</th>\n",
       "      <th>Mitoses</th>\n",
       "      <th>classes</th>\n",
       "    </tr>\n",
       "  </thead>\n",
       "  <tbody>\n",
       "    <tr>\n",
       "      <th>0</th>\n",
       "      <td>5</td>\n",
       "      <td>4</td>\n",
       "      <td>4</td>\n",
       "      <td>5</td>\n",
       "      <td>7</td>\n",
       "      <td>10</td>\n",
       "      <td>3</td>\n",
       "      <td>2</td>\n",
       "      <td>1</td>\n",
       "      <td>0</td>\n",
       "    </tr>\n",
       "    <tr>\n",
       "      <th>1</th>\n",
       "      <td>8</td>\n",
       "      <td>10</td>\n",
       "      <td>10</td>\n",
       "      <td>8</td>\n",
       "      <td>7</td>\n",
       "      <td>10</td>\n",
       "      <td>9</td>\n",
       "      <td>7</td>\n",
       "      <td>1</td>\n",
       "      <td>1</td>\n",
       "    </tr>\n",
       "    <tr>\n",
       "      <th>2</th>\n",
       "      <td>2</td>\n",
       "      <td>1</td>\n",
       "      <td>2</td>\n",
       "      <td>1</td>\n",
       "      <td>2</td>\n",
       "      <td>1</td>\n",
       "      <td>3</td>\n",
       "      <td>1</td>\n",
       "      <td>1</td>\n",
       "      <td>0</td>\n",
       "    </tr>\n",
       "    <tr>\n",
       "      <th>3</th>\n",
       "      <td>2</td>\n",
       "      <td>1</td>\n",
       "      <td>1</td>\n",
       "      <td>1</td>\n",
       "      <td>2</td>\n",
       "      <td>1</td>\n",
       "      <td>1</td>\n",
       "      <td>1</td>\n",
       "      <td>5</td>\n",
       "      <td>0</td>\n",
       "    </tr>\n",
       "    <tr>\n",
       "      <th>4</th>\n",
       "      <td>1</td>\n",
       "      <td>1</td>\n",
       "      <td>1</td>\n",
       "      <td>1</td>\n",
       "      <td>1</td>\n",
       "      <td>1</td>\n",
       "      <td>3</td>\n",
       "      <td>1</td>\n",
       "      <td>1</td>\n",
       "      <td>0</td>\n",
       "    </tr>\n",
       "  </tbody>\n",
       "</table>\n",
       "</div>"
      ],
      "text/plain": [
       "   ClumpThickness  UniformityofCellSize  UniformityofCellShape  \\\n",
       "0               5                     4                      4   \n",
       "1               8                    10                     10   \n",
       "2               2                     1                      2   \n",
       "3               2                     1                      1   \n",
       "4               1                     1                      1   \n",
       "\n",
       "   MarginalAdhesion  SingleEpithelialCellSize BareNuclei  BlandChromatin  \\\n",
       "0                 5                         7         10               3   \n",
       "1                 8                         7         10               9   \n",
       "2                 1                         2          1               3   \n",
       "3                 1                         2          1               1   \n",
       "4                 1                         1          1               3   \n",
       "\n",
       "   NormalNucleoli  Mitoses  classes  \n",
       "0               2        1        0  \n",
       "1               7        1        1  \n",
       "2               1        1        0  \n",
       "3               1        5        0  \n",
       "4               1        1        0  "
      ]
     },
     "execution_count": 7,
     "metadata": {},
     "output_type": "execute_result"
    }
   ],
   "source": [
    "# Making the class counts to similar size\n",
    "Benign = cancerdata[(cancerdata.Class == 2) ].sample(240).index\n",
    "Malignant = cancerdata[(cancerdata.Class == 4) ].sample(240).index\n",
    "cancer = cancerdata.loc[Benign|Malignant]\n",
    "cancer = cancer.reset_index(drop=True)\n",
    "\n",
    "# Making the classess from 2/4 to 0/1 \n",
    "cancer['classes'] = cancer.Class.map({2:0,4:1})\n",
    "cancer = cancer.drop(['Class'], 1)\n",
    "\n",
    "# Printing the updated dataframe\n",
    "cancer.head()"
   ]
  },
  {
   "cell_type": "code",
   "execution_count": 8,
   "metadata": {
    "id": "2gLfIN6F4oxH"
   },
   "outputs": [
    {
     "data": {
      "text/plain": [
       "0    240\n",
       "1    240\n",
       "Name: classes, dtype: int64"
      ]
     },
     "execution_count": 8,
     "metadata": {},
     "output_type": "execute_result"
    }
   ],
   "source": [
    "# Confirming that counts of the classes are similar \n",
    "cancer['classes'].value_counts()\n"
   ]
  },
  {
   "cell_type": "code",
   "execution_count": 9,
   "metadata": {
    "id": "FxwBcGnk429U"
   },
   "outputs": [
    {
     "data": {
      "image/png": "[encoded data removed]",
      "text/plain": [
       "<Figure size 1296x1296 with 9 Axes>"
      ]
     },
     "metadata": {},
     "output_type": "display_data"
    }
   ],
   "source": [
    "# plot date variables and find the variables with similar distributions, keep only one of them.\n",
    "#['ClumpThickness','UniformityofCellSize','UniformityofCellShape','MarginalAdhesion',\n",
    "#'SingleEpithelialCellSize','BareNuclei','BlandChromatin','NormalNucleoli','Mitoses']\n",
    "fig, axs = plt.subplots(3, 3, figsize=(18,18))\n",
    "axs[0,0].hist(cancer['ClumpThickness'])\n",
    "axs[0,0].set_title(\"ClumpThickness\")\n",
    "axs[0,1].hist(cancer['UniformityofCellSize'])\n",
    "axs[0,1].set_title(\"UniformityofCellSize\")\n",
    "axs[0,2].hist(cancer['UniformityofCellShape'])\n",
    "axs[0,2].set_title(\"UniformityofCellShape\")\n",
    "axs[1,0].hist(cancer['MarginalAdhesion'])\n",
    "axs[1,0].set_title(\"MarginalAdhesion\")\n",
    "axs[1,1].hist(cancer['SingleEpithelialCellSize'])\n",
    "axs[1,1].set_title(\"SingleEpithelialCellSize\")\n",
    "axs[1,2].hist(cancer['BareNuclei'])\n",
    "axs[1,2].set_title(\"BareNuclei\")\n",
    "axs[2,0].hist(cancer['BlandChromatin'])\n",
    "axs[2,0].set_title(\"BlandChromatin\")\n",
    "axs[2,1].hist(cancer['NormalNucleoli'])\n",
    "axs[2,1].set_title(\"NormalNucleoli\")\n",
    "axs[2,2].hist(cancer['Mitoses'])\n",
    "axs[2,2].set_title(\"Mitoses\")\n",
    "fig.tight_layout()"
   ]
  },
  {
   "cell_type": "markdown",
   "metadata": {
    "id": "wdpWrB3HWel7"
   },
   "source": [
    "<h4>1.1.2 Observations </h4>\n",
    "<h4>1.1.3 Approach </h4>"
   ]
  },
  {
   "cell_type": "markdown",
   "metadata": {
    "id": "fPcTVTlE46vC"
   },
   "source": [
    "<h3>1.2 Checking and Removing nan values</h3>"
   ]
  },
  {
   "cell_type": "markdown",
   "metadata": {
    "id": "wbaWQwlpfyif"
   },
   "source": [
    "<h4>1.2.1 Code </h4>"
   ]
  },
  {
   "cell_type": "code",
   "execution_count": 10,
   "metadata": {
    "id": "dJclAfmh49KE"
   },
   "outputs": [
    {
     "data": {
      "text/plain": [
       "int64     9\n",
       "object    1\n",
       "dtype: int64"
      ]
     },
     "execution_count": 10,
     "metadata": {},
     "output_type": "execute_result"
    }
   ],
   "source": [
    "## TODO \n",
    "## Yixin remove the wasted steps from the code and only keep the most important data cleaning steps\n",
    "cancer.dtypes.value_counts()"
   ]
  },
  {
   "cell_type": "code",
   "execution_count": 11,
   "metadata": {
    "id": "3DCa8TIj4_Ty"
   },
   "outputs": [
    {
     "data": {
      "text/html": [
       "<div>\n",
       "<style scoped>\n",
       "    .dataframe tbody tr th:only-of-type {\n",
       "        vertical-align: middle;\n",
       "    }\n",
       "\n",
       "    .dataframe tbody tr th {\n",
       "        vertical-align: top;\n",
       "    }\n",
       "\n",
       "    .dataframe thead th {\n",
       "        text-align: right;\n",
       "    }\n",
       "</style>\n",
       "<table border=\"1\" class=\"dataframe\">\n",
       "  <thead>\n",
       "    <tr style=\"text-align: right;\">\n",
       "      <th></th>\n",
       "      <th>BareNuclei</th>\n",
       "    </tr>\n",
       "  </thead>\n",
       "  <tbody>\n",
       "    <tr>\n",
       "      <th>0</th>\n",
       "      <td>10</td>\n",
       "    </tr>\n",
       "    <tr>\n",
       "      <th>1</th>\n",
       "      <td>10</td>\n",
       "    </tr>\n",
       "    <tr>\n",
       "      <th>2</th>\n",
       "      <td>1</td>\n",
       "    </tr>\n",
       "    <tr>\n",
       "      <th>3</th>\n",
       "      <td>1</td>\n",
       "    </tr>\n",
       "    <tr>\n",
       "      <th>4</th>\n",
       "      <td>1</td>\n",
       "    </tr>\n",
       "    <tr>\n",
       "      <th>...</th>\n",
       "      <td>...</td>\n",
       "    </tr>\n",
       "    <tr>\n",
       "      <th>475</th>\n",
       "      <td>1</td>\n",
       "    </tr>\n",
       "    <tr>\n",
       "      <th>476</th>\n",
       "      <td>2</td>\n",
       "    </tr>\n",
       "    <tr>\n",
       "      <th>477</th>\n",
       "      <td>3</td>\n",
       "    </tr>\n",
       "    <tr>\n",
       "      <th>478</th>\n",
       "      <td>4</td>\n",
       "    </tr>\n",
       "    <tr>\n",
       "      <th>479</th>\n",
       "      <td>5</td>\n",
       "    </tr>\n",
       "  </tbody>\n",
       "</table>\n",
       "<p>480 rows × 1 columns</p>\n",
       "</div>"
      ],
      "text/plain": [
       "    BareNuclei\n",
       "0           10\n",
       "1           10\n",
       "2            1\n",
       "3            1\n",
       "4            1\n",
       "..         ...\n",
       "475          1\n",
       "476          2\n",
       "477          3\n",
       "478          4\n",
       "479          5\n",
       "\n",
       "[480 rows x 1 columns]"
      ]
     },
     "execution_count": 11,
     "metadata": {},
     "output_type": "execute_result"
    }
   ],
   "source": [
    "cancer.select_dtypes('object')"
   ]
  },
  {
   "cell_type": "code",
   "execution_count": 12,
   "metadata": {
    "id": "1CyRzBnb6XnU"
   },
   "outputs": [
    {
     "data": {
      "text/html": [
       "<div>\n",
       "<style scoped>\n",
       "    .dataframe tbody tr th:only-of-type {\n",
       "        vertical-align: middle;\n",
       "    }\n",
       "\n",
       "    .dataframe tbody tr th {\n",
       "        vertical-align: top;\n",
       "    }\n",
       "\n",
       "    .dataframe thead th {\n",
       "        text-align: right;\n",
       "    }\n",
       "</style>\n",
       "<table border=\"1\" class=\"dataframe\">\n",
       "  <thead>\n",
       "    <tr style=\"text-align: right;\">\n",
       "      <th></th>\n",
       "      <th>Count</th>\n",
       "      <th>Percent</th>\n",
       "    </tr>\n",
       "  </thead>\n",
       "  <tbody>\n",
       "    <tr>\n",
       "      <th>BareNuclei</th>\n",
       "      <td>11</td>\n",
       "      <td>2.291667</td>\n",
       "    </tr>\n",
       "  </tbody>\n",
       "</table>\n",
       "</div>"
      ],
      "text/plain": [
       "            Count   Percent\n",
       "BareNuclei     11  2.291667"
      ]
     },
     "execution_count": 12,
     "metadata": {},
     "output_type": "execute_result"
    }
   ],
   "source": [
    "cancer = cancer.replace('?' ,np.nan)\n",
    "\n",
    "##Finding the the count and percentage of values that are missing in the dataframe.\n",
    "null1 = pd.DataFrame({'Count': cancer.isnull().sum(), 'Percent': 100*cancer.isnull().sum()/len(cancer)})\n",
    "\n",
    "##printing columns with null count more than 0\n",
    "null1[null1['Count'] > 0]"
   ]
  },
  {
   "cell_type": "code",
   "execution_count": 13,
   "metadata": {
    "id": "mQKh6EdQ6Xrk"
   },
   "outputs": [],
   "source": [
    "## Filling the columns with nan values with mean of the data\n",
    "cancer[\"BareNuclei\"]=cancer[\"BareNuclei\"].astype(float)\n",
    "cancer=cancer.fillna(cancer.mean())"
   ]
  },
  {
   "cell_type": "markdown",
   "metadata": {
    "id": "PHIdqxDmWMPe"
   },
   "source": [
    "<h4>1.2.2 Observations </h4>\n",
    "<h4>1.2.3 Approach </h4>"
   ]
  },
  {
   "cell_type": "markdown",
   "metadata": {
    "id": "uf89AePf6nsZ"
   },
   "source": [
    "<h3>1.3 Removing Useless Attributes </h3>"
   ]
  },
  {
   "cell_type": "markdown",
   "metadata": {
    "id": "aF8wcn9Gf3au"
   },
   "source": [
    "<h4>1.3.1 Code </h4>"
   ]
  },
  {
   "cell_type": "code",
   "execution_count": 14,
   "metadata": {
    "id": "e1xo7hxe6Xv1"
   },
   "outputs": [
    {
     "data": {
      "text/html": [
       "<div>\n",
       "<style scoped>\n",
       "    .dataframe tbody tr th:only-of-type {\n",
       "        vertical-align: middle;\n",
       "    }\n",
       "\n",
       "    .dataframe tbody tr th {\n",
       "        vertical-align: top;\n",
       "    }\n",
       "\n",
       "    .dataframe thead th {\n",
       "        text-align: right;\n",
       "    }\n",
       "</style>\n",
       "<table border=\"1\" class=\"dataframe\">\n",
       "  <thead>\n",
       "    <tr style=\"text-align: right;\">\n",
       "      <th></th>\n",
       "      <th>classes</th>\n",
       "      <th>UniformityofCellShape</th>\n",
       "      <th>BareNuclei</th>\n",
       "      <th>UniformityofCellSize</th>\n",
       "      <th>BlandChromatin</th>\n",
       "      <th>ClumpThickness</th>\n",
       "      <th>NormalNucleoli</th>\n",
       "      <th>MarginalAdhesion</th>\n",
       "      <th>SingleEpithelialCellSize</th>\n",
       "      <th>Mitoses</th>\n",
       "    </tr>\n",
       "  </thead>\n",
       "  <tbody>\n",
       "    <tr>\n",
       "      <th>0</th>\n",
       "      <td>0</td>\n",
       "      <td>4</td>\n",
       "      <td>10.0</td>\n",
       "      <td>4</td>\n",
       "      <td>3</td>\n",
       "      <td>5</td>\n",
       "      <td>2</td>\n",
       "      <td>5</td>\n",
       "      <td>7</td>\n",
       "      <td>1</td>\n",
       "    </tr>\n",
       "    <tr>\n",
       "      <th>1</th>\n",
       "      <td>1</td>\n",
       "      <td>10</td>\n",
       "      <td>10.0</td>\n",
       "      <td>10</td>\n",
       "      <td>9</td>\n",
       "      <td>8</td>\n",
       "      <td>7</td>\n",
       "      <td>8</td>\n",
       "      <td>7</td>\n",
       "      <td>1</td>\n",
       "    </tr>\n",
       "    <tr>\n",
       "      <th>2</th>\n",
       "      <td>0</td>\n",
       "      <td>2</td>\n",
       "      <td>1.0</td>\n",
       "      <td>1</td>\n",
       "      <td>3</td>\n",
       "      <td>2</td>\n",
       "      <td>1</td>\n",
       "      <td>1</td>\n",
       "      <td>2</td>\n",
       "      <td>1</td>\n",
       "    </tr>\n",
       "  </tbody>\n",
       "</table>\n",
       "</div>"
      ],
      "text/plain": [
       "   classes  UniformityofCellShape  BareNuclei  UniformityofCellSize  \\\n",
       "0        0                      4        10.0                     4   \n",
       "1        1                     10        10.0                    10   \n",
       "2        0                      2         1.0                     1   \n",
       "\n",
       "   BlandChromatin  ClumpThickness  NormalNucleoli  MarginalAdhesion  \\\n",
       "0               3               5               2                 5   \n",
       "1               9               8               7                 8   \n",
       "2               3               2               1                 1   \n",
       "\n",
       "   SingleEpithelialCellSize  Mitoses  \n",
       "0                         7        1  \n",
       "1                         7        1  \n",
       "2                         2        1  "
      ]
     },
     "execution_count": 14,
     "metadata": {},
     "output_type": "execute_result"
    }
   ],
   "source": [
    "corr_list1=cancer.corr()['classes'].abs().sort_values(ascending=False)\n",
    "corr_list_new=corr_list1[corr_list1>0.01].index.values.tolist()\n",
    "corr_list1\n",
    "cancer=cancer[corr_list_new]\n",
    "cancer.head(3)"
   ]
  },
  {
   "cell_type": "code",
   "execution_count": 15,
   "metadata": {
    "id": "5MgSXzzR6XzR"
   },
   "outputs": [
    {
     "data": {
      "text/plain": [
       "classes                   classes                     1.000000\n",
       "UniformityofCellShape     UniformityofCellSize        0.897413\n",
       "                          classes                     0.801801\n",
       "classes                   BareNuclei                  0.796580\n",
       "UniformityofCellSize      classes                     0.790544\n",
       "classes                   BlandChromatin              0.738124\n",
       "BlandChromatin            UniformityofCellSize        0.736438\n",
       "classes                   ClumpThickness              0.735498\n",
       "UniformityofCellSize      SingleEpithelialCellSize    0.727779\n",
       "UniformityofCellShape     BlandChromatin              0.721604\n",
       "SingleEpithelialCellSize  UniformityofCellShape       0.696569\n",
       "UniformityofCellShape     NormalNucleoli              0.689887\n",
       "NormalNucleoli            UniformityofCellSize        0.683213\n",
       "UniformityofCellSize      MarginalAdhesion            0.682236\n",
       "classes                   NormalNucleoli              0.682127\n",
       "UniformityofCellShape     BareNuclei                  0.671051\n",
       "classes                   MarginalAdhesion            0.666791\n",
       "UniformityofCellShape     MarginalAdhesion            0.660600\n",
       "BlandChromatin            MarginalAdhesion            0.654834\n",
       "ClumpThickness            UniformityofCellShape       0.649664\n",
       "BlandChromatin            BareNuclei                  0.645932\n",
       "classes                   SingleEpithelialCellSize    0.644824\n",
       "ClumpThickness            UniformityofCellSize        0.635706\n",
       "BlandChromatin            NormalNucleoli              0.635623\n",
       "UniformityofCellSize      BareNuclei                  0.633376\n",
       "BareNuclei                MarginalAdhesion            0.629482\n",
       "SingleEpithelialCellSize  NormalNucleoli              0.595630\n",
       "BlandChromatin            SingleEpithelialCellSize    0.582063\n",
       "BareNuclei                ClumpThickness              0.576265\n",
       "MarginalAdhesion          NormalNucleoli              0.568102\n",
       "SingleEpithelialCellSize  MarginalAdhesion            0.562728\n",
       "BlandChromatin            ClumpThickness              0.539616\n",
       "SingleEpithelialCellSize  BareNuclei                  0.524924\n",
       "NormalNucleoli            BareNuclei                  0.519538\n",
       "                          ClumpThickness              0.510893\n",
       "SingleEpithelialCellSize  ClumpThickness              0.500924\n",
       "Mitoses                   SingleEpithelialCellSize    0.457914\n",
       "ClumpThickness            MarginalAdhesion            0.451346\n",
       "UniformityofCellSize      Mitoses                     0.424776\n",
       "UniformityofCellShape     Mitoses                     0.407850\n",
       "NormalNucleoli            Mitoses                     0.398369\n",
       "MarginalAdhesion          Mitoses                     0.386583\n",
       "Mitoses                   classes                     0.380298\n",
       "ClumpThickness            Mitoses                     0.335888\n",
       "Mitoses                   BlandChromatin              0.304941\n",
       "                          BareNuclei                  0.283538\n",
       "dtype: float64"
      ]
     },
     "metadata": {},
     "output_type": "display_data"
    }
   ],
   "source": [
    "## To remove outliers first we have to find the correlation between attributes\n",
    "\n",
    "#find the variables with high correlations\n",
    "cor1 = cancer.corr().abs()\n",
    "list1 = cor1.stack().sort_values(ascending=False).drop_duplicates()  \n",
    "high_corr= list1[list1>0.70].index.values.tolist()\n",
    "high_corr.remove(high_corr[0])\n",
    "\n",
    "display(list1)"
   ]
  },
  {
   "cell_type": "code",
   "execution_count": 16,
   "metadata": {
    "id": "x7OKFrzE6X3D"
   },
   "outputs": [],
   "source": [
    "# for variable pairs with high correlation, keep only one of them\n",
    "columnlist=list(cancer.columns)\n",
    "len(high_corr)\n",
    "for i in range(len(high_corr)):\n",
    "    if \"classes\" in high_corr[i]:\n",
    "        columnlist=columnlist\n",
    "    else:\n",
    "        if high_corr[i][0] in columnlist and high_corr[i][1] in columnlist:\n",
    "            columnlist.remove(high_corr[i][1])\n",
    "        else:\n",
    "            columnlist=columnlist\n",
    "cancer_final=cancer[columnlist]"
   ]
  },
  {
   "cell_type": "code",
   "execution_count": 17,
   "metadata": {
    "id": "ZJPMB2Tq6pOq"
   },
   "outputs": [],
   "source": [
    "## Doing a test train split on the data \n",
    "import random\n",
    "from sklearn.model_selection import train_test_split\n",
    "training_data, test_data = train_test_split(cancer_final,random_state=None, shuffle=True)\n",
    "train_x=training_data.drop(['classes'], 1) \n",
    "train_y=training_data[['classes']]\n",
    "test_x=test_data.drop(['classes'], 1)\n",
    "test_y=test_data[['classes']]"
   ]
  },
  {
   "cell_type": "markdown",
   "metadata": {
    "id": "P-oNBnzbV4lI"
   },
   "source": [
    "<h4>1.3.2 Observations </h4>\n",
    "\n",
    "\n",
    "<h4>1.3.3 Approach </h4>"
   ]
  },
  {
   "cell_type": "markdown",
   "metadata": {
    "id": "6mQKJvN27Bfu"
   },
   "source": [
    "<h3>1.4 Deleting Outliers and Data Normalizations</h3>"
   ]
  },
  {
   "cell_type": "markdown",
   "metadata": {
    "id": "tOcvGwDUf8fd"
   },
   "source": [
    "<h4>1.4.1 Code </h4>"
   ]
  },
  {
   "cell_type": "code",
   "execution_count": 18,
   "metadata": {
    "id": "9Z4bemp56pTY"
   },
   "outputs": [],
   "source": [
    "# Remove outliers\n",
    "cancer_norm = cancer_final[(np.abs(scipy.stats.zscore(cancer_final)) < 3).all(axis=1)]\n",
    "# Zero mean normalisation\n",
    "cancer_norm.iloc[:,1:]=(cancer_norm.iloc[:,1:]-cancer_norm.iloc[:,1:].mean())/cancer_norm.iloc[:,1:].std()"
   ]
  },
  {
   "cell_type": "code",
   "execution_count": 19,
   "metadata": {
    "id": "MQpTYu396pXt"
   },
   "outputs": [
    {
     "data": {
      "text/html": [
       "<div>\n",
       "<style scoped>\n",
       "    .dataframe tbody tr th:only-of-type {\n",
       "        vertical-align: middle;\n",
       "    }\n",
       "\n",
       "    .dataframe tbody tr th {\n",
       "        vertical-align: top;\n",
       "    }\n",
       "\n",
       "    .dataframe thead th {\n",
       "        text-align: right;\n",
       "    }\n",
       "</style>\n",
       "<table border=\"1\" class=\"dataframe\">\n",
       "  <thead>\n",
       "    <tr style=\"text-align: right;\">\n",
       "      <th></th>\n",
       "      <th>classes</th>\n",
       "      <th>UniformityofCellShape</th>\n",
       "      <th>BareNuclei</th>\n",
       "      <th>ClumpThickness</th>\n",
       "      <th>NormalNucleoli</th>\n",
       "      <th>MarginalAdhesion</th>\n",
       "      <th>SingleEpithelialCellSize</th>\n",
       "      <th>Mitoses</th>\n",
       "    </tr>\n",
       "  </thead>\n",
       "  <tbody>\n",
       "    <tr>\n",
       "      <th>0</th>\n",
       "      <td>0</td>\n",
       "      <td>0.066552</td>\n",
       "      <td>1.442811</td>\n",
       "      <td>0.048500</td>\n",
       "      <td>-0.418402</td>\n",
       "      <td>0.557019</td>\n",
       "      <td>1.510334</td>\n",
       "      <td>-0.401350</td>\n",
       "    </tr>\n",
       "    <tr>\n",
       "      <th>1</th>\n",
       "      <td>1</td>\n",
       "      <td>1.991648</td>\n",
       "      <td>1.442811</td>\n",
       "      <td>1.058183</td>\n",
       "      <td>1.092862</td>\n",
       "      <td>1.533224</td>\n",
       "      <td>1.510334</td>\n",
       "      <td>-0.401350</td>\n",
       "    </tr>\n",
       "    <tr>\n",
       "      <th>2</th>\n",
       "      <td>0</td>\n",
       "      <td>-0.575147</td>\n",
       "      <td>-0.876211</td>\n",
       "      <td>-0.961183</td>\n",
       "      <td>-0.720655</td>\n",
       "      <td>-0.744587</td>\n",
       "      <td>-0.680081</td>\n",
       "      <td>-0.401350</td>\n",
       "    </tr>\n",
       "    <tr>\n",
       "      <th>3</th>\n",
       "      <td>0</td>\n",
       "      <td>-0.895996</td>\n",
       "      <td>-0.876211</td>\n",
       "      <td>-0.961183</td>\n",
       "      <td>-0.720655</td>\n",
       "      <td>-0.744587</td>\n",
       "      <td>-0.680081</td>\n",
       "      <td>3.066921</td>\n",
       "    </tr>\n",
       "    <tr>\n",
       "      <th>4</th>\n",
       "      <td>0</td>\n",
       "      <td>-0.895996</td>\n",
       "      <td>-0.876211</td>\n",
       "      <td>-1.297744</td>\n",
       "      <td>-0.720655</td>\n",
       "      <td>-0.744587</td>\n",
       "      <td>-1.118164</td>\n",
       "      <td>-0.401350</td>\n",
       "    </tr>\n",
       "  </tbody>\n",
       "</table>\n",
       "</div>"
      ],
      "text/plain": [
       "   classes  UniformityofCellShape  BareNuclei  ClumpThickness  NormalNucleoli  \\\n",
       "0        0               0.066552    1.442811        0.048500       -0.418402   \n",
       "1        1               1.991648    1.442811        1.058183        1.092862   \n",
       "2        0              -0.575147   -0.876211       -0.961183       -0.720655   \n",
       "3        0              -0.895996   -0.876211       -0.961183       -0.720655   \n",
       "4        0              -0.895996   -0.876211       -1.297744       -0.720655   \n",
       "\n",
       "   MarginalAdhesion  SingleEpithelialCellSize   Mitoses  \n",
       "0          0.557019                  1.510334 -0.401350  \n",
       "1          1.533224                  1.510334 -0.401350  \n",
       "2         -0.744587                 -0.680081 -0.401350  \n",
       "3         -0.744587                 -0.680081  3.066921  \n",
       "4         -0.744587                 -1.118164 -0.401350  "
      ]
     },
     "execution_count": 19,
     "metadata": {},
     "output_type": "execute_result"
    }
   ],
   "source": [
    "cancer_norm.head()"
   ]
  },
  {
   "cell_type": "code",
   "execution_count": 20,
   "metadata": {
    "id": "Wkh0puJu6pa3"
   },
   "outputs": [],
   "source": [
    "#split the new dataset\n",
    "training_data_norm, test_data_norm = train_test_split(cancer_norm,random_state=None, shuffle=True)\n",
    "train_x_norm=training_data_norm.drop(['classes'], 1) \n",
    "train_y_norm=training_data_norm[['classes']]\n",
    "test_x_norm=test_data_norm.drop(['classes'], 1)\n",
    "test_y_norm=test_data_norm[['classes']]"
   ]
  },
  {
   "cell_type": "code",
   "execution_count": 21,
   "metadata": {
    "colab": {
     "base_uri": "https://localhost:8080/"
    },
    "id": "xlkLRQkM6pee",
    "outputId": "8fc8fc33-4eb4-440d-dd77-37a6680cef4c"
   },
   "outputs": [
    {
     "name": "stdout",
     "output_type": "stream",
     "text": [
      "(343, 7)\n",
      "(343, 1)\n",
      "(115, 7)\n",
      "(115, 1)\n"
     ]
    }
   ],
   "source": [
    "x_train = np.array(train_x_norm)\n",
    "print(x_train.shape)\n",
    "y_train = np.array(train_y_norm)\n",
    "print(y_train.shape)\n",
    "x_test = np.array(test_x_norm)\n",
    "print(x_test.shape)\n",
    "y_test = np.array(test_y_norm)\n",
    "print(y_test.shape)"
   ]
  },
  {
   "cell_type": "markdown",
   "metadata": {
    "id": "uoxu8NW0VeWR"
   },
   "source": [
    "<h4>1.4.2 Observations</h4>\n",
    "<!---> Here will add what are the observations of each and every chapter <--->\n",
    "<h4>1.4.3 Approach </h4>\n"
   ]
  },
  {
   "cell_type": "markdown",
   "metadata": {
    "id": "ezxSeKxKWqBF"
   },
   "source": [
    "<h3>1.5 Conclusion </h3>"
   ]
  },
  {
   "cell_type": "markdown",
   "metadata": {
    "id": "SNNGSB4Vb2CE"
   },
   "source": [
    "<h2><center>2. Model Fiting on the clean data</center></h2>\n",
    "\n",
    "We have a cleaned and a normalized data now we just have to fit a model over the data and make predictions.\n",
    "We are going to implement 2 models that are implemented by us \n",
    "\n",
    "<ol>\n",
    "    <li>SGD Classifier with Log Loss</li>\n",
    "    <li>SVM with RBF kernel</li>\n",
    "</ol>\n"
   ]
  },
  {
   "cell_type": "markdown",
   "metadata": {
    "id": "LGeB6fiFYPuS"
   },
   "source": [
    "<h3>2.1 SGD Classifier with Log Loss</h3>"
   ]
  },
  {
   "cell_type": "markdown",
   "metadata": {
    "id": "3NIP2zzzYi2e"
   },
   "source": [
    "<h4>2.1.1 Function Call</h4>"
   ]
  },
  {
   "cell_type": "code",
   "execution_count": 22,
   "metadata": {
    "id": "qq2Z7Etj6yun"
   },
   "outputs": [
    {
     "name": "stderr",
     "output_type": "stream",
     "text": [
      " 20%|██        | 15/75 [00:00<00:00, 145.57it/s]"
     ]
    },
    {
     "name": "stdout",
     "output_type": "stream",
     "text": [
      "\n",
      "-- Epoch no(iteration no)  1\n",
      "W intercept: [0.07839663 0.07288058 0.0665996  0.06482336 0.06300629 0.051351\n",
      " 0.06438836], B intercept: [-0.00411848], Train loss: 0.23913, Test loss: 0.24101\n",
      "\n",
      "-- Epoch no(iteration no)  2\n",
      "W intercept: [0.14811485 0.12314138 0.13075304 0.12938937 0.11769355 0.09596064\n",
      " 0.07900863], B intercept: [-0.02502714], Train loss: 0.19784, Test loss: 0.20049\n",
      "\n",
      "-- Epoch no(iteration no)  3\n",
      "W intercept: [0.18489179 0.16854173 0.19180682 0.16899458 0.1568115  0.12770772\n",
      " 0.09871967], B intercept: [-0.00575664], Train loss: 0.17244, Test loss: 0.17521\n",
      "\n",
      "-- Epoch no(iteration no)  4\n",
      "W intercept: [0.22605826 0.21955283 0.23261405 0.20158939 0.17992223 0.15973496\n",
      " 0.09950886], B intercept: [-0.00238907], Train loss: 0.15367, Test loss: 0.15638\n",
      "\n",
      "-- Epoch no(iteration no)  5\n",
      "W intercept: [0.25285845 0.2604721  0.25720627 0.2253988  0.20782359 0.17639827\n",
      " 0.11896264], B intercept: [-0.0150972], Train loss: 0.14094, Test loss: 0.14331\n",
      "\n",
      "-- Epoch no(iteration no)  6\n",
      "W intercept: [0.28151664 0.29600254 0.28165495 0.25679476 0.23829976 0.2055582\n",
      " 0.12458749], B intercept: [-0.02078339], Train loss: 0.12911, Test loss: 0.13111\n",
      "\n",
      "-- Epoch no(iteration no)  7\n",
      "W intercept: [0.30476529 0.32105032 0.30634583 0.27408418 0.25704395 0.21959096\n",
      " 0.13862152], B intercept: [-0.04491812], Train loss: 0.12128, Test loss: 0.12316\n",
      "\n",
      "-- Epoch no(iteration no)  8\n",
      "W intercept: [0.33080687 0.3430862  0.34676779 0.29417984 0.26751973 0.24772428\n",
      " 0.1477185 ], B intercept: [-0.04198354], Train loss: 0.11309, Test loss: 0.11482\n",
      "\n",
      "-- Epoch no(iteration no)  9\n",
      "W intercept: [0.35261921 0.37182319 0.36805378 0.31318786 0.29071568 0.26167567\n",
      " 0.15878511], B intercept: [-0.05436063], Train loss: 0.10656, Test loss: 0.10795\n",
      "\n",
      "-- Epoch no(iteration no)  10\n",
      "W intercept: [0.37114806 0.40040843 0.38959247 0.32538693 0.31077147 0.27885133\n",
      " 0.16733175], B intercept: [-0.05142965], Train loss: 0.10104, Test loss: 0.10209\n",
      "\n",
      "-- Epoch no(iteration no)  11\n",
      "W intercept: [0.39605212 0.42458872 0.41014013 0.33433104 0.31231539 0.29414791\n",
      " 0.18123904], B intercept: [-0.03747697], Train loss: 0.09662, Test loss: 0.09730\n",
      "\n",
      "-- Epoch no(iteration no)  12\n",
      "W intercept: [0.41143402 0.43937076 0.42953325 0.34212395 0.32834471 0.30392241\n",
      " 0.18806946], B intercept: [-0.03212172], Train loss: 0.09325, Test loss: 0.09366\n",
      "\n",
      "-- Epoch no(iteration no)  13\n",
      "W intercept: [0.43172448 0.4683137  0.44368401 0.36324139 0.33867896 0.31383204\n",
      " 0.18828726], B intercept: [-0.02536535], Train loss: 0.08933, Test loss: 0.08930\n",
      "\n",
      "-- Epoch no(iteration no)  14\n",
      "W intercept: [0.45381097 0.48482192 0.46092354 0.37196327 0.35162254 0.32227509\n",
      " 0.19374051], B intercept: [-0.02788693], Train loss: 0.08626, Test loss: 0.08596\n",
      "\n",
      "-- Epoch no(iteration no)  15\n",
      "W intercept: [0.4717459  0.50427156 0.47620167 0.38216561 0.36791647 0.33106356\n",
      " 0.20581509], B intercept: [-0.0333594], Train loss: 0.08328, Test loss: 0.08267\n",
      "\n",
      "-- Epoch no(iteration no)  16\n",
      "W intercept: [0.48986417 0.51509314 0.49133562 0.39830403 0.38114483 0.34480032\n",
      " 0.21113183], B intercept: [-0.03617088], Train loss: 0.08074, Test loss: 0.07982\n",
      "\n",
      "-- Epoch no(iteration no)  17\n",
      "W intercept: [0.50082643 0.53631923 0.5211466  0.41084563 0.38717518 0.34694142\n",
      " 0.207099  ], B intercept: [-0.02476024], Train loss: 0.07821, Test loss: 0.07704\n",
      "\n",
      "-- Epoch no(iteration no)  18\n",
      "W intercept: [0.50763977 0.5535312  0.52844986 0.41365455 0.38148927 0.34354742\n",
      " 0.20865844], B intercept: [-0.02013802], Train loss: 0.07724, Test loss: 0.07598\n",
      "\n",
      "-- Epoch no(iteration no)  19\n",
      "W intercept: [0.52287057 0.57580234 0.53548285 0.42585329 0.39604065 0.35563725\n",
      " 0.21526547], B intercept: [-0.02188732], Train loss: 0.07505, Test loss: 0.07342\n",
      "\n",
      "-- Epoch no(iteration no)  20\n",
      "W intercept: [0.53011849 0.5853495  0.54590545 0.42245966 0.40861034 0.36583704\n",
      " 0.21822911], B intercept: [-0.0275397], Train loss: 0.07389, Test loss: 0.07220\n",
      "\n",
      "-- Epoch no(iteration no)  21\n",
      "W intercept: [0.53837766 0.59557899 0.56189113 0.43388949 0.41300926 0.37014275\n",
      " 0.22371815], B intercept: [-0.03578357], Train loss: 0.07252, Test loss: 0.07071\n",
      "\n",
      "-- Epoch no(iteration no)  22\n",
      "W intercept: [0.54978246 0.60382207 0.57789302 0.44491415 0.41793071 0.38503687\n",
      " 0.22822386], B intercept: [-0.03521127], Train loss: 0.07105, Test loss: 0.06902\n",
      "\n",
      "-- Epoch no(iteration no)  23\n",
      "W intercept: [0.5554818  0.6200141  0.58667567 0.44794052 0.42723511 0.38591859\n",
      " 0.23218777], B intercept: [-0.04100428], Train loss: 0.06998, Test loss: 0.06783\n",
      "\n",
      "-- Epoch no(iteration no)  24\n",
      "W intercept: [0.56766306 0.63704296 0.5967973  0.45467115 0.43832914 0.39538647\n",
      " 0.2360694 ], B intercept: [-0.03647962], Train loss: 0.06855, Test loss: 0.06610\n",
      "\n",
      "-- Epoch no(iteration no)  25\n",
      "W intercept: [0.57832867 0.64481487 0.6094556  0.46050936 0.43582799 0.39981897\n",
      " 0.24673628], B intercept: [-0.03416957], Train loss: 0.06760, Test loss: 0.06499\n"
     ]
    },
    {
     "name": "stderr",
     "output_type": "stream",
     "text": [
      "\r",
      " 43%|████▎     | 32/75 [00:00<00:00, 156.30it/s]"
     ]
    },
    {
     "name": "stdout",
     "output_type": "stream",
     "text": [
      "\n",
      "-- Epoch no(iteration no)  26\n",
      "W intercept: [0.58804627 0.6528805  0.61694546 0.46455696 0.44456684 0.40190253\n",
      " 0.24871539], B intercept: [-0.02666398], Train loss: 0.06677, Test loss: 0.06394\n",
      "\n",
      "-- Epoch no(iteration no)  27\n",
      "W intercept: [0.60126774 0.67335125 0.62741836 0.46925472 0.44975451 0.4003604\n",
      " 0.24757682], B intercept: [-0.02112254], Train loss: 0.06560, Test loss: 0.06256\n",
      "\n",
      "-- Epoch no(iteration no)  28\n",
      "W intercept: [0.61053132 0.67953453 0.63596395 0.47729097 0.45647362 0.40571292\n",
      " 0.24883043], B intercept: [-0.01680654], Train loss: 0.06482, Test loss: 0.06157\n",
      "\n",
      "-- Epoch no(iteration no)  29\n",
      "W intercept: [0.62261515 0.68929887 0.64810875 0.48439714 0.46490507 0.41085773\n",
      " 0.25643425], B intercept: [-0.02049194], Train loss: 0.06383, Test loss: 0.06038\n",
      "\n",
      "-- Epoch no(iteration no)  30\n",
      "W intercept: [0.62724132 0.70428876 0.66574542 0.49024321 0.46694586 0.41261628\n",
      " 0.25841814], B intercept: [-0.01198241], Train loss: 0.06287, Test loss: 0.05924\n",
      "\n",
      "-- Epoch no(iteration no)  31\n",
      "W intercept: [0.63797348 0.71371989 0.67843452 0.49999998 0.47437752 0.41769035\n",
      " 0.25562909], B intercept: [-0.00990407], Train loss: 0.06201, Test loss: 0.05817\n",
      "\n",
      "-- Epoch no(iteration no)  32\n",
      "W intercept: [0.64021573 0.72473647 0.67696853 0.49914969 0.46879866 0.41202399\n",
      " 0.25876032], B intercept: [-0.00795386], Train loss: 0.06183, Test loss: 0.05797\n",
      "\n",
      "-- Epoch no(iteration no)  33\n",
      "W intercept: [0.64926372 0.73901782 0.68617184 0.50287691 0.47200095 0.42142133\n",
      " 0.25881517], B intercept: [-0.00322586], Train loss: 0.06104, Test loss: 0.05698\n"
     ]
    },
    {
     "name": "stderr",
     "output_type": "stream",
     "text": [
      "\r",
      " 64%|██████▍   | 48/75 [00:00<00:00, 155.75it/s]"
     ]
    },
    {
     "name": "stdout",
     "output_type": "stream",
     "text": [
      "\n",
      "-- Epoch no(iteration no)  34\n",
      "W intercept: [0.64794323 0.73872332 0.6879193  0.50147795 0.47965511 0.41902872\n",
      " 0.26487635], B intercept: [-0.01670388], Train loss: 0.06100, Test loss: 0.05701\n",
      "\n",
      "-- Epoch no(iteration no)  35\n",
      "W intercept: [0.65687667 0.75104999 0.69624754 0.50854389 0.48442865 0.42975782\n",
      " 0.26506289], B intercept: [-0.01784474], Train loss: 0.06026, Test loss: 0.05609\n",
      "\n",
      "-- Epoch no(iteration no)  36\n",
      "W intercept: [0.6644284  0.75497474 0.70886511 0.51413544 0.48897835 0.43638411\n",
      " 0.26931213], B intercept: [-0.01642973], Train loss: 0.05968, Test loss: 0.05535\n",
      "\n",
      "-- Epoch no(iteration no)  37\n",
      "W intercept: [0.66687793 0.76621291 0.71747448 0.51277624 0.49298791 0.43372543\n",
      " 0.27229595], B intercept: [-0.01829187], Train loss: 0.05924, Test loss: 0.05488\n",
      "\n",
      "-- Epoch no(iteration no)  38\n",
      "W intercept: [0.67801701 0.76807445 0.72370086 0.51908076 0.49409402 0.43288539\n",
      " 0.28296964], B intercept: [-0.01794198], Train loss: 0.05882, Test loss: 0.05430\n",
      "\n",
      "-- Epoch no(iteration no)  39\n",
      "W intercept: [0.68176835 0.77755329 0.72877874 0.51442878 0.49774749 0.43524736\n",
      " 0.27947911], B intercept: [-0.00541837], Train loss: 0.05846, Test loss: 0.05383\n",
      "\n",
      "-- Epoch no(iteration no)  40\n",
      "W intercept: [0.68923912 0.78837823 0.7398034  0.52311817 0.50072316 0.43998933\n",
      " 0.28299837], B intercept: [-0.00584575], Train loss: 0.05783, Test loss: 0.05303\n",
      "\n",
      "-- Epoch no(iteration no)  41\n",
      "W intercept: [0.69807562 0.79945127 0.74518304 0.52695308 0.50581901 0.43670302\n",
      " 0.27976402], B intercept: [0.00318991], Train loss: 0.05735, Test loss: 0.05236\n",
      "\n",
      "-- Epoch no(iteration no)  42\n",
      "W intercept: [0.70811019 0.80850977 0.75313358 0.53127977 0.51195987 0.44015648\n",
      " 0.28643652], B intercept: [0.00326326], Train loss: 0.05681, Test loss: 0.05164\n",
      "\n",
      "-- Epoch no(iteration no)  43\n",
      "W intercept: [0.71598192 0.81457604 0.75824669 0.53752274 0.51688686 0.44613337\n",
      " 0.28772594], B intercept: [0.00077649], Train loss: 0.05643, Test loss: 0.05112\n",
      "\n",
      "-- Epoch no(iteration no)  44\n",
      "W intercept: [0.7179575  0.82638409 0.77395538 0.54027933 0.5198062  0.44680616\n",
      " 0.29008269], B intercept: [0.00735491], Train loss: 0.05588, Test loss: 0.05045\n",
      "\n",
      "-- Epoch no(iteration no)  45\n",
      "W intercept: [0.72731901 0.83500572 0.77847634 0.54956192 0.52302874 0.44664958\n",
      " 0.28452797], B intercept: [0.01588452], Train loss: 0.05548, Test loss: 0.04983\n",
      "\n",
      "-- Epoch no(iteration no)  46\n",
      "W intercept: [0.72677684 0.84083638 0.78058131 0.54653588 0.51712841 0.44181315\n",
      " 0.28975664], B intercept: [0.01278056], Train loss: 0.05541, Test loss: 0.04983\n",
      "\n",
      "-- Epoch no(iteration no)  47\n",
      "W intercept: [0.73309814 0.85093909 0.78487796 0.54850508 0.52428536 0.44901727\n",
      " 0.28719171], B intercept: [0.01966903], Train loss: 0.05502, Test loss: 0.04926\n",
      "\n",
      "-- Epoch no(iteration no)  48\n",
      "W intercept: [0.73106532 0.85014626 0.78822976 0.54433755 0.52239046 0.44560736\n",
      " 0.29431324], B intercept: [0.0031365], Train loss: 0.05508, Test loss: 0.04949\n",
      "\n",
      "-- Epoch no(iteration no)  49\n",
      "W intercept: [0.73693212 0.85886379 0.79505016 0.55103254 0.52566201 0.4548558\n",
      " 0.29408175], B intercept: [0.00353802], Train loss: 0.05470, Test loss: 0.04895\n",
      "\n",
      "-- Epoch no(iteration no)  50\n",
      "W intercept: [0.74146767 0.86390038 0.8060731  0.5510309  0.52994287 0.45323647\n",
      " 0.29901815], B intercept: [0.00148094], Train loss: 0.05438, Test loss: 0.04858\n",
      "\n",
      "-- Epoch no(iteration no)  51\n",
      "W intercept: [0.74297333 0.87270001 0.81136876 0.55105114 0.53344357 0.4569713\n",
      " 0.30039878], B intercept: [0.00389592], Train loss: 0.05412, Test loss: 0.04823\n",
      "\n",
      "-- Epoch no(iteration no)  52\n",
      "W intercept: [0.75177944 0.87478493 0.81799029 0.55609114 0.52967521 0.45747985\n",
      " 0.30746289], B intercept: [0.00678277], Train loss: 0.05385, Test loss: 0.04785\n",
      "\n",
      "-- Epoch no(iteration no)  53\n",
      "W intercept: [0.75558303 0.87876856 0.82006525 0.5521189  0.53525358 0.4548626\n",
      " 0.30573125], B intercept: [0.01530446], Train loss: 0.05370, Test loss: 0.04762\n",
      "\n",
      "-- Epoch no(iteration no)  54\n",
      "W intercept: [0.76124077 0.89064342 0.8265385  0.55837842 0.53540857 0.459167\n",
      " 0.3059417 ], B intercept: [0.0209266], Train loss: 0.05332, Test loss: 0.04707\n",
      "\n",
      "-- Epoch no(iteration no)  55\n",
      "W intercept: [0.76973469 0.89622936 0.83387948 0.5626488  0.53997389 0.45434454\n",
      " 0.30529479], B intercept: [0.02452194], Train loss: 0.05301, Test loss: 0.04664\n",
      "\n",
      "-- Epoch no(iteration no)  56\n",
      "W intercept: [0.77650971 0.90327822 0.83908433 0.56580461 0.54551326 0.45705628\n",
      " 0.31069171], B intercept: [0.02305194], Train loss: 0.05272, Test loss: 0.04622\n",
      "\n",
      "-- Epoch no(iteration no)  57\n",
      "W intercept: [0.78306558 0.90765925 0.8435329  0.57132774 0.55016272 0.4620828\n",
      " 0.31190575], B intercept: [0.02260078], Train loss: 0.05249, Test loss: 0.04586\n",
      "\n",
      "-- Epoch no(iteration no)  58\n",
      "W intercept: [0.78568649 0.91652498 0.85756351 0.57610858 0.55305338 0.46213712\n",
      " 0.31087918], B intercept: [0.02863084], Train loss: 0.05213, Test loss: 0.04536\n",
      "\n",
      "-- Epoch no(iteration no)  59\n",
      "W intercept: [0.7899557  0.92445589 0.85977608 0.580692   0.55399204 0.45810261\n",
      " 0.30662628], B intercept: [0.04193637], Train loss: 0.05191, Test loss: 0.04499\n",
      "\n",
      "-- Epoch no(iteration no)  60\n",
      "W intercept: [0.79166075 0.93464931 0.85890047 0.57468217 0.5450784  0.45449679\n",
      " 0.31123051], B intercept: [0.03607902], Train loss: 0.05184, Test loss: 0.04502\n"
     ]
    },
    {
     "name": "stderr",
     "output_type": "stream",
     "text": [
      "100%|██████████| 75/75 [00:00<00:00, 139.10it/s]"
     ]
    },
    {
     "name": "stdout",
     "output_type": "stream",
     "text": [
      "\n",
      "-- Epoch no(iteration no)  61\n",
      "W intercept: [0.79376175 0.9358746  0.86554693 0.56415117 0.5494928  0.4578911\n",
      " 0.31172516], B intercept: [0.03519291], Train loss: 0.05174, Test loss: 0.04498\n",
      "\n",
      "-- Epoch no(iteration no)  62\n",
      "W intercept: [0.79239212 0.93665679 0.8679202  0.57150758 0.54992452 0.45747834\n",
      " 0.31661569], B intercept: [0.02479946], Train loss: 0.05171, Test loss: 0.04494\n",
      "\n",
      "-- Epoch no(iteration no)  63\n",
      "W intercept: [0.79806834 0.94052733 0.87659315 0.57642354 0.55156161 0.46661223\n",
      " 0.31741366], B intercept: [0.02934049], Train loss: 0.05146, Test loss: 0.04453\n",
      "\n",
      "-- Epoch no(iteration no)  64\n",
      "W intercept: [0.80129424 0.94869561 0.88088148 0.577943   0.55749915 0.46392918\n",
      " 0.32096239], B intercept: [0.02158263], Train loss: 0.05127, Test loss: 0.04432\n",
      "\n",
      "-- Epoch no(iteration no)  65\n",
      "W intercept: [0.80135421 0.9561576  0.88679184 0.57602582 0.55745338 0.46764277\n",
      " 0.3209127 ], B intercept: [0.02719212], Train loss: 0.05109, Test loss: 0.04408\n",
      "\n",
      "-- Epoch no(iteration no)  66\n",
      "W intercept: [0.80799977 0.95567503 0.89261736 0.58074522 0.55403002 0.46498162\n",
      " 0.32839384], B intercept: [0.02823129], Train loss: 0.05095, Test loss: 0.04387\n",
      "\n",
      "-- Epoch no(iteration no)  67\n",
      "W intercept: [0.81124625 0.95746024 0.89648077 0.57780178 0.55758942 0.46164689\n",
      " 0.32709796], B intercept: [0.03750631], Train loss: 0.05083, Test loss: 0.04368\n",
      "\n",
      "-- Epoch no(iteration no)  68\n",
      "W intercept: [0.81996603 0.97155959 0.90081017 0.58140784 0.56053676 0.4594335\n",
      " 0.32590664], B intercept: [0.04133089], Train loss: 0.05051, Test loss: 0.04322\n",
      "\n",
      "-- Epoch no(iteration no)  69\n",
      "W intercept: [0.82340945 0.97301512 0.90471268 0.58571361 0.5632829  0.46033385\n",
      " 0.32538272], B intercept: [0.04573175], Train loss: 0.05039, Test loss: 0.04299\n",
      "\n",
      "-- Epoch no(iteration no)  70\n",
      "W intercept: [0.82916012 0.97876939 0.90913047 0.58843699 0.56807037 0.46299416\n",
      " 0.32955487], B intercept: [0.04394558], Train loss: 0.05020, Test loss: 0.04270\n",
      "\n",
      "-- Epoch no(iteration no)  71\n",
      "W intercept: [0.83340159 0.98435818 0.91449963 0.59322495 0.57106554 0.46601197\n",
      " 0.33004402], B intercept: [0.04560652], Train loss: 0.05002, Test loss: 0.04240\n",
      "\n",
      "-- Epoch no(iteration no)  72\n",
      "W intercept: [0.83762128 0.99065127 0.92747064 0.59723054 0.57128942 0.4655891\n",
      " 0.32829825], B intercept: [0.05269263], Train loss: 0.04975, Test loss: 0.04202\n",
      "\n",
      "-- Epoch no(iteration no)  73\n",
      "W intercept: [0.835917   0.99756529 0.92340285 0.59206039 0.56203632 0.45515565\n",
      " 0.32911874], B intercept: [0.05577016], Train loss: 0.04976, Test loss: 0.04213\n",
      "\n",
      "-- Epoch no(iteration no)  74\n",
      "W intercept: [0.84122411 1.00542344 0.92884999 0.59244644 0.56216933 0.46223616\n",
      " 0.32799081], B intercept: [0.06054934], Train loss: 0.04956, Test loss: 0.04182\n",
      "\n",
      "-- Epoch no(iteration no)  75\n",
      "W intercept: [0.83613599 1.00106724 0.92786398 0.58691791 0.56615798 0.45725839\n",
      " 0.33311873], B intercept: [0.04787485], Train loss: 0.04969, Test loss: 0.04210\n"
     ]
    },
    {
     "name": "stderr",
     "output_type": "stream",
     "text": [
      "\n"
     ]
    }
   ],
   "source": [
    "## importing self made SGD classifier as Classifier 1 \n",
    "import Sgd_classifier as classfier_1\n",
    "alpha=0.01\n",
    "t_rate=0.0075\n",
    "N=len(x_train)\n",
    "epochs=75\n",
    "w,b,loss_train,loss_test=classfier_1.train_classifier(x_train,y_train,x_test,y_test,epochs,alpha,t_rate)"
   ]
  },
  {
   "cell_type": "markdown",
   "metadata": {
    "id": "PNjgLcYRYcIm"
   },
   "source": [
    "<h>2.1.2 Coding Approach</h4>\n",
    "\n",
    "<!----> Will be going over the coding how it is done and stuff"
   ]
  },
  {
   "cell_type": "markdown",
   "metadata": {
    "id": "ndwbS6ZqaLr3"
   },
   "source": [
    "<h3>2.2 SVM with RBF kernel </h3>"
   ]
  },
  {
   "cell_type": "markdown",
   "metadata": {
    "id": "H-Qtsx6LaTN7"
   },
   "source": [
    "<h4>2.2.1 Function Call</h4>"
   ]
  },
  {
   "cell_type": "markdown",
   "metadata": {
    "id": "FUu-87k2aXIR"
   },
   "source": [
    "<h4>2.2.2 Coding Approach</h4>\n",
    "\n",
    "<!----> Will be going over the coding how it is done and stuff"
   ]
  },
  {
   "cell_type": "markdown",
   "metadata": {
    "id": "swzuVJ19S1Jr"
   },
   "source": [
    "<h2><center>3. Model Accuracy</center></h2>\n",
    "<em>\n",
    "Here we are going to talk about the model accuracies by using test and train loss graphs, in addition to Confussion Matrix and some ROC curves\n",
    "</em>"
   ]
  },
  {
   "cell_type": "markdown",
   "metadata": {
    "id": "qPy611dMa8Bu"
   },
   "source": [
    "<h3>3.1 Model 1 SGD Classifier with Log Loss</h3>\n"
   ]
  },
  {
   "cell_type": "markdown",
   "metadata": {
    "id": "rI7qXtftah1a"
   },
   "source": [
    "<h4>3.1.1 Prediction accuracies</h4>"
   ]
  },
  {
   "cell_type": "code",
   "execution_count": 23,
   "metadata": {
    "colab": {
     "base_uri": "https://localhost:8080/"
    },
    "id": "057fGPgc6x3_",
    "outputId": "c841cc8b-3706-45a5-886f-2b89fe684824"
   },
   "outputs": [
    {
     "name": "stdout",
     "output_type": "stream",
     "text": [
      "Train_Accuracy : 0.99\n",
      "Test_Accuracy  : 0.98\n"
     ]
    }
   ],
   "source": [
    "y_train_pred = classfier_1.predict(w,b,x_train)\n",
    "y_test_pred = classfier_1.predict(w,b,x_test)\n",
    "\n",
    "y_train=y_train.reshape(y_train_pred.shape)\n",
    "print('Train_Accuracy : {:.2f}'.format(1-np.sum(y_train - y_train_pred)/len(x_train)))\n",
    "y_test=y_test.reshape(y_test_pred.shape)\n",
    "print('Test_Accuracy  : {:.2f}'.format(1-np.sum(y_test  - y_test_pred)/len(x_test)))"
   ]
  },
  {
   "cell_type": "markdown",
   "metadata": {
    "id": "7pAXgaM_bjzs"
   },
   "source": [
    "<h4>3.1.2 Test and Train Loss over Epochs</h4>\n",
    "We will plot graph against the number of epochs with respect to the test and train loss. This will give us insight whehter our code is performing gradient descent in a correct manner."
   ]
  },
  {
   "cell_type": "code",
   "execution_count": 24,
   "metadata": {
    "id": "1gK7yssz073T"
   },
   "outputs": [
    {
     "name": "stdout",
     "output_type": "stream",
     "text": [
      "=============================================================================================================================\n"
     ]
    },
    {
     "data": {
      "image/png": "[encoded data removed]",
      "text/plain": [
       "<Figure size 1080x504 with 1 Axes>"
      ]
     },
     "metadata": {},
     "output_type": "display_data"
    }
   ],
   "source": [
    "epochs = np.arange(1, epochs+1, 1)\n",
    "plt.figure(figsize=(15, 7))\n",
    "plt.plot(epochs,loss_train, label='Train Loss', c = 'blue')\n",
    "plt.plot(epochs,loss_test, label='Test Loss',c = 'red')\n",
    "plt.title('Epoch vs Train,Test Loss')\n",
    "plt.xlabel(\"Epochs\")\n",
    "plt.ylabel('Loss')\n",
    "plt.legend()\n",
    "print(125*'=')\n"
   ]
  },
  {
   "cell_type": "markdown",
   "metadata": {
    "id": "qcN8YgFwb0gH"
   },
   "source": [
    "<h4>3.1.3 Confusion Matrix </h4>\n",
    "Here well will print the confusion matrix for the Model with its Precision and Recall values"
   ]
  },
  {
   "cell_type": "code",
   "execution_count": 25,
   "metadata": {
    "id": "dwjOiXQsTjjO",
    "scrolled": true
   },
   "outputs": [
    {
     "name": "stdout",
     "output_type": "stream",
     "text": [
      "Confusion Matrix\n",
      " [[59  1]\n",
      " [ 3 52]]\n",
      "False Positive Rate :   0.017\n",
      "True Positive Rate  :   0.945\n",
      "Area Under Curve (AUC): 0.965\n"
     ]
    }
   ],
   "source": [
    "#from sklearn.metrics import confusion_matrix\n",
    "import confusion_matrix as cm\n",
    "cm,fpr,recall = cm.confusion_matrix(y_test, y_test_pred)\n",
    "# Accuracy is\n",
    "AUC_score = (cm[0][0] + cm[1][1])/(cm[0][1]+cm[1][0]+cm[0][0] + cm[1][1])\n",
    "print('Confusion Matrix\\n',cm)\n",
    "print('False Positive Rate :   {:.3f}'.format(fpr))\n",
    "print('True Positive Rate  :   {:.3f}'.format(recall))\n",
    "print('Area Under Curve (AUC): {:.3f}'.format(AUC_score))"
   ]
  },
  {
   "cell_type": "markdown",
   "metadata": {
    "id": "XW2Czt08hhqg"
   },
   "source": [
    "<h2><center>Conclusions</center></h2>\n",
    "We were given a task to implement a model that will help classify between M/B(still have to refine these lines).\n",
    "To do this we first normalize and clean the data so that we can get maximum efficiency in our classification model.\n",
    "Then we implement the models that we created using python scripts and make a call back to then in our main IPython notebook.\n",
    "<br> </br>\n",
    "<p>\n",
    "<em>\n",
    "The following are the results obtained for the repesctive implemnted models :-\n",
    "</p>\n",
    "</em>\n",
    "<em>    \n",
    "\n",
    "<br><h4>1. Stochastic Gradient Descent Classifier </h4>\n",
    "<em>\n",
    "    <ol>\n",
    "    <li></li>\n",
    "    <li></li>\n",
    "    <li></li>\n",
    "    </ol>\n",
    "</em>\n",
    "</br>\n",
    "<br><h4>2. Support Vector Machine </h4>\n",
    "<em>\n",
    "    <ol>\n",
    "    <li></li>\n",
    "    <li></li>\n",
    "    <li></li>\n",
    "    </ol>\n",
    "</em>\n",
    "</br>\n",
    "</em>\n",
    "<h2><center>Code's Shortcomings</center></h2>\n",
    "This code works on assumption that #Gradient descents fault... \n",
    "<em>\n",
    "&emsp;<li>Very High Accuracy (Overfitting?) but still high precission and recall? Why?</li>\n",
    "<li>Really Low Data Points </li>\n",
    "<!---> Some shortcommings about the SVMs stuff? What assumptions we make with the SVM stuff?\n"
   ]
  },
  {
   "cell_type": "markdown",
   "metadata": {
    "id": "_tB9iqYfg-NA"
   },
   "source": [
    "<h2><center>References</center></h2>\n"
   ]
  }
 ],
 "metadata": {
  "colab": {
   "collapsed_sections": [],
   "name": "Main_Code.ipynb",
   "provenance": []
  },
  "kernelspec": {
   "display_name": "Python 3",
   "language": "python",
   "name": "python3"
  },
  "language_info": {
   "codemirror_mode": {
    "name": "ipython",
    "version": 3
   },
   "file_extension": ".py",
   "mimetype": "text/x-python",
   "name": "python",
   "nbconvert_exporter": "python",
   "pygments_lexer": "ipython3",
   "version": "3.8.8"
  }
 },
 "nbformat": 4,
 "nbformat_minor": 1
}
