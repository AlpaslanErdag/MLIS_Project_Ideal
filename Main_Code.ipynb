{
 "cells": [
  {
   "cell_type": "code",
   "execution_count": 1,
   "metadata": {
    "id": "e6rrsFyi4Bd9"
   },
   "outputs": [],
   "source": [
    "# This is the main jupyter notebook for the coursework of MLIS \n",
    "## Grp 4B\n",
    "## Authors\n",
    "## Alpaslan Erdag , Anshuman Singh , Yixin Fan\n",
    "## Date - 15/01/2022"
   ]
  },
  {
   "cell_type": "markdown",
   "metadata": {
    "id": "G-IY5zC537OU"
   },
   "source": [
    "<h1> <center> Abstract </center> </h1>\n",
    "​<em>\n",
    "\n",
    "Todo - Write some abstract about the data giving some information about.\n",
    "\n",
    "The data is obtanined from UCI repository which can be obtained from the [here](https://archive.ics.uci.edu/ml/datasets/breast+cancer+wisconsin+%28original%29)\n",
    "</em>"
   ]
  },
  {
   "cell_type": "code",
   "execution_count": 2,
   "metadata": {
    "colab": {
     "base_uri": "https://localhost:8080/"
    },
    "id": "3boaTk7A4FrC",
    "outputId": "28e07a26-0a3f-4422-b507-f887576fdaca"
   },
   "outputs": [
    {
     "name": "stdout",
     "output_type": "stream",
     "text": [
      "Citation Request:\n",
      "   This breast cancer databases was obtained from the University of Wisconsin\n",
      "   Hospitals, Madison from Dr. William H. Wolberg.  If you publish results\n",
      "   when using this database, then please include this information in your\n",
      "   acknowledgements.  Also, please cite one or more of:\n",
      "\n",
      "   1. O. L. Mangasarian and W. H. Wolberg: \"Cancer diagnosis via linear \n",
      "      programming\", SIAM News, Volume 23, Number 5, September 1990, pp 1 & 18.\n",
      "\n",
      "   2. William H. Wolberg and O.L. Mangasarian: \"Multisurface method of \n",
      "      pattern separation for medical diagnosis applied to breast cytology\", \n",
      "      Proceedings of the National Academy of Sciences, U.S.A., Volume 87, \n",
      "      December 1990, pp 9193-9196.\n",
      "\n",
      "   3. O. L. Mangasarian, R. Setiono, and W.H. Wolberg: \"Pattern recognition \n",
      "      via linear programming: Theory and application to medical diagnosis\", \n",
      "      in: \"Large-scale numerical optimization\", Thomas F. Coleman and Yuying\n",
      "      Li, editors, SIAM Publications, Philadelphia 1990, pp 22-30.\n",
      "\n",
      "   4. K. P. Bennett & O. L. Mangasarian: \"Robust linear programming \n",
      "      discrimination of two linearly inseparable sets\", Optimization Methods\n",
      "      and Software 1, 1992, 23-34 (Gordon & Breach Science Publishers).\n",
      "\n",
      "1. Title: Wisconsin Breast Cancer Database (January 8, 1991)\n",
      "\n",
      "2. Sources:\n",
      "   -- Dr. WIlliam H. Wolberg (physician)\n",
      "      University of Wisconsin Hospitals\n",
      "      Madison, Wisconsin\n",
      "      USA\n",
      "   -- Donor: Olvi Mangasarian (mangasarian@cs.wisc.edu)\n",
      "      Received by David W. Aha (aha@cs.jhu.edu)\n",
      "   -- Date: 15 July 1992\n",
      "\n",
      "3. Past Usage:\n",
      "\n",
      "   Attributes 2 through 10 have been used to represent instances.\n",
      "   Each instance has one of 2 possible classes: benign or malignant.\n",
      "\n",
      "   1. Wolberg,~W.~H., \\& Mangasarian,~O.~L. (1990). Multisurface method of \n",
      "      pattern separation for medical diagnosis applied to breast cytology. In\n",
      "      {\\it Proceedings of the National Academy of Sciences}, {\\it 87},\n",
      "      9193--9196.\n",
      "      -- Size of data set: only 369 instances (at that point in time)\n",
      "      -- Collected classification results: 1 trial only\n",
      "      -- Two pairs of parallel hyperplanes were found to be consistent with\n",
      "         50% of the data\n",
      "         -- Accuracy on remaining 50% of dataset: 93.5%\n",
      "      -- Three pairs of parallel hyperplanes were found to be consistent with\n",
      "         67% of data\n",
      "         -- Accuracy on remaining 33% of dataset: 95.9%\n",
      "\n",
      "   2. Zhang,~J. (1992). Selecting typical instances in instance-based\n",
      "      learning.  In {\\it Proceedings of the Ninth International Machine\n",
      "      Learning Conference} (pp. 470--479).  Aberdeen, Scotland: Morgan\n",
      "      Kaufmann.\n",
      "      -- Size of data set: only 369 instances (at that point in time)\n",
      "      -- Applied 4 instance-based learning algorithms \n",
      "      -- Collected classification results averaged over 10 trials\n",
      "      -- Best accuracy result: \n",
      "         -- 1-nearest neighbor: 93.7%\n",
      "         -- trained on 200 instances, tested on the other 169\n",
      "      -- Also of interest:\n",
      "         -- Using only typical instances: 92.2% (storing only 23.1 instances)\n",
      "         -- trained on 200 instances, tested on the other 169\n",
      "\n",
      "4. Relevant Information:\n",
      "\n",
      "   Samples arrive periodically as Dr. Wolberg reports his clinical cases.\n",
      "   The database therefore reflects this chronological grouping of the data.\n",
      "   This grouping information appears immediately below, having been removed\n",
      "   from the data itself:\n",
      "\n",
      "     Group 1: 367 instances (January 1989)\n",
      "     Group 2:  70 instances (October 1989)\n",
      "     Group 3:  31 instances (February 1990)\n",
      "     Group 4:  17 instances (April 1990)\n",
      "     Group 5:  48 instances (August 1990)\n",
      "     Group 6:  49 instances (Updated January 1991)\n",
      "     Group 7:  31 instances (June 1991)\n",
      "     Group 8:  86 instances (November 1991)\n",
      "     -----------------------------------------\n",
      "     Total:   699 points (as of the donated datbase on 15 July 1992)\n",
      "\n",
      "   Note that the results summarized above in Past Usage refer to a dataset\n",
      "   of size 369, while Group 1 has only 367 instances.  This is because it\n",
      "   originally contained 369 instances; 2 were removed.  The following\n",
      "   statements summarizes changes to the original Group 1's set of data:\n",
      "\n",
      "   #####  Group 1 : 367 points: 200B 167M (January 1989)\n",
      "   #####  Revised Jan 10, 1991: Replaced zero bare nuclei in 1080185 & 1187805\n",
      "   #####  Revised Nov 22,1991: Removed 765878,4,5,9,7,10,10,10,3,8,1 no record\n",
      "   #####                  : Removed 484201,2,7,8,8,4,3,10,3,4,1 zero epithelial\n",
      "   #####                  : Changed 0 to 1 in field 6 of sample 1219406\n",
      "   #####                  : Changed 0 to 1 in field 8 of following sample:\n",
      "   #####                  : 1182404,2,3,1,1,1,2,0,1,1,1\n",
      "\n",
      "5. Number of Instances: 699 (as of 15 July 1992)\n",
      "\n",
      "6. Number of Attributes: 10 plus the class attribute\n",
      "\n",
      "7. Attribute Information: (class attribute has been moved to last column)\n",
      "\n",
      "   #  Attribute                     Domain\n",
      "   -- -----------------------------------------\n",
      "   1. Sample code number            id number\n",
      "   2. Clump Thickness               1 - 10\n",
      "   3. Uniformity of Cell Size       1 - 10\n",
      "   4. Uniformity of Cell Shape      1 - 10\n",
      "   5. Marginal Adhesion             1 - 10\n",
      "   6. Single Epithelial Cell Size   1 - 10\n",
      "   7. Bare Nuclei                   1 - 10\n",
      "   8. Bland Chromatin               1 - 10\n",
      "   9. Normal Nucleoli               1 - 10\n",
      "  10. Mitoses                       1 - 10\n",
      "  11. Class:                        (2 for benign, 4 for malignant)\n",
      "\n",
      "8. Missing attribute values: 16\n",
      "\n",
      "   There are 16 instances in Groups 1 to 6 that contain a single missing \n",
      "   (i.e., unavailable) attribute value, now denoted by \"?\".  \n",
      "\n",
      "9. Class distribution:\n",
      " \n",
      "   Benign: 458 (65.5%)\n",
      "   Malignant: 241 (34.5%)\n",
      "\n"
     ]
    }
   ],
   "source": [
    "# Also should we show this ? tell me your thoughts\n",
    "about_data ='/Users/anshuman/Desktop/Project_Folder/MLIS_Project_Ideal/breast-cancer-wisconsin.names'\n",
    "#about_data = '/content/breast-cancer-wisconsin.names'\n",
    "with open(about_data) as f:\n",
    "    print(f.read())"
   ]
  },
  {
   "cell_type": "markdown",
   "metadata": {
    "id": "ZN6gh3N24R-W"
   },
   "source": [
    "<h1><center>About code (Suggest a good heading)</center></h1>\n",
    "\n",
    "<h2><em>The code is divided in the following modules/parts/chapters?</h2>\n",
    "<ol>\n",
    "<li> <h4> Data Cleaning and Data Preprocessing </h4></li> \n",
    "<li> <h4>Model Fiting on the clean data </h4></li> \n",
    "<li> <h4>Model Accuracy </h4></li>\n",
    "</ol>\n",
    "</em>"
   ]
  },
  {
   "cell_type": "markdown",
   "metadata": {
    "id": "0TONMQnQ4SDg"
   },
   "source": [
    "<h2><center>1. Data Cleaning and Data Preprocessing</center></h2>\n",
    "\n",
    "<p>To get a good result over model accuracies we are going to first clean the data and then used the cleaned and preprocessed data to train a model. </p>\n",
    "\n",
    "<p> We will be using a systematic approach to clean our data. That will be listed in the following steps</p>\n",
    "<em>\n",
    "&emsp; <li>Data Visulaization</li>\n",
    "&emsp; <li>Checking and Removing nan values</li>\n",
    "&emsp; <li>Removing Useless Attributes</li>\n",
    "&emsp; <li>Deleting Outliers and Data Normalizations</li>\n",
    "</em>"
   ]
  },
  {
   "cell_type": "markdown",
   "metadata": {
    "id": "-daRoybV4SJI"
   },
   "source": [
    "<h3>1.1 Data Visualization </h3>"
   ]
  },
  {
   "cell_type": "markdown",
   "metadata": {
    "id": "dRQhoFvkfl-R"
   },
   "source": [
    "<h4>1.1.1 Code </h4>"
   ]
  },
  {
   "cell_type": "code",
   "execution_count": 3,
   "metadata": {
    "id": "sK9S6Bky4RlC"
   },
   "outputs": [],
   "source": [
    "## Header Files \n",
    "import pandas as pd\n",
    "import numpy as np\n",
    "import warnings\n",
    "warnings.filterwarnings('ignore')\n",
    "import matplotlib.pyplot as plt\n",
    "import seaborn as sns\n",
    "plt.style.use('ggplot')\n",
    "import scipy\n",
    "\n",
    "## Loading Data \n",
    "data = '/Users/anshuman/Desktop/Project_Folder/MLIS_Project_Ideal/breast-cancer-wisconsin.data'\n",
    "#data = '/content/breast-cancer-wisconsin.data'"
   ]
  },
  {
   "cell_type": "code",
   "execution_count": 4,
   "metadata": {
    "id": "xL5c7NTs4omD",
    "scrolled": true
   },
   "outputs": [
    {
     "data": {
      "text/html": [
       "<div>\n",
       "<style scoped>\n",
       "    .dataframe tbody tr th:only-of-type {\n",
       "        vertical-align: middle;\n",
       "    }\n",
       "\n",
       "    .dataframe tbody tr th {\n",
       "        vertical-align: top;\n",
       "    }\n",
       "\n",
       "    .dataframe thead th {\n",
       "        text-align: right;\n",
       "    }\n",
       "</style>\n",
       "<table border=\"1\" class=\"dataframe\">\n",
       "  <thead>\n",
       "    <tr style=\"text-align: right;\">\n",
       "      <th></th>\n",
       "      <th>Samplecodenumber</th>\n",
       "      <th>ClumpThickness</th>\n",
       "      <th>UniformityofCellSize</th>\n",
       "      <th>UniformityofCellShape</th>\n",
       "      <th>MarginalAdhesion</th>\n",
       "      <th>SingleEpithelialCellSize</th>\n",
       "      <th>BareNuclei</th>\n",
       "      <th>BlandChromatin</th>\n",
       "      <th>NormalNucleoli</th>\n",
       "      <th>Mitoses</th>\n",
       "      <th>Class</th>\n",
       "    </tr>\n",
       "  </thead>\n",
       "  <tbody>\n",
       "    <tr>\n",
       "      <th>0</th>\n",
       "      <td>1000025</td>\n",
       "      <td>5</td>\n",
       "      <td>1</td>\n",
       "      <td>1</td>\n",
       "      <td>1</td>\n",
       "      <td>2</td>\n",
       "      <td>1</td>\n",
       "      <td>3</td>\n",
       "      <td>1</td>\n",
       "      <td>1</td>\n",
       "      <td>2</td>\n",
       "    </tr>\n",
       "    <tr>\n",
       "      <th>1</th>\n",
       "      <td>1002945</td>\n",
       "      <td>5</td>\n",
       "      <td>4</td>\n",
       "      <td>4</td>\n",
       "      <td>5</td>\n",
       "      <td>7</td>\n",
       "      <td>10</td>\n",
       "      <td>3</td>\n",
       "      <td>2</td>\n",
       "      <td>1</td>\n",
       "      <td>2</td>\n",
       "    </tr>\n",
       "    <tr>\n",
       "      <th>2</th>\n",
       "      <td>1015425</td>\n",
       "      <td>3</td>\n",
       "      <td>1</td>\n",
       "      <td>1</td>\n",
       "      <td>1</td>\n",
       "      <td>2</td>\n",
       "      <td>2</td>\n",
       "      <td>3</td>\n",
       "      <td>1</td>\n",
       "      <td>1</td>\n",
       "      <td>2</td>\n",
       "    </tr>\n",
       "    <tr>\n",
       "      <th>3</th>\n",
       "      <td>1016277</td>\n",
       "      <td>6</td>\n",
       "      <td>8</td>\n",
       "      <td>8</td>\n",
       "      <td>1</td>\n",
       "      <td>3</td>\n",
       "      <td>4</td>\n",
       "      <td>3</td>\n",
       "      <td>7</td>\n",
       "      <td>1</td>\n",
       "      <td>2</td>\n",
       "    </tr>\n",
       "    <tr>\n",
       "      <th>4</th>\n",
       "      <td>1017023</td>\n",
       "      <td>4</td>\n",
       "      <td>1</td>\n",
       "      <td>1</td>\n",
       "      <td>3</td>\n",
       "      <td>2</td>\n",
       "      <td>1</td>\n",
       "      <td>3</td>\n",
       "      <td>1</td>\n",
       "      <td>1</td>\n",
       "      <td>2</td>\n",
       "    </tr>\n",
       "  </tbody>\n",
       "</table>\n",
       "</div>"
      ],
      "text/plain": [
       "   Samplecodenumber  ClumpThickness  UniformityofCellSize  \\\n",
       "0           1000025               5                     1   \n",
       "1           1002945               5                     4   \n",
       "2           1015425               3                     1   \n",
       "3           1016277               6                     8   \n",
       "4           1017023               4                     1   \n",
       "\n",
       "   UniformityofCellShape  MarginalAdhesion  SingleEpithelialCellSize  \\\n",
       "0                      1                 1                         2   \n",
       "1                      4                 5                         7   \n",
       "2                      1                 1                         2   \n",
       "3                      8                 1                         3   \n",
       "4                      1                 3                         2   \n",
       "\n",
       "  BareNuclei  BlandChromatin  NormalNucleoli  Mitoses  Class  \n",
       "0          1               3               1        1      2  \n",
       "1         10               3               2        1      2  \n",
       "2          2               3               1        1      2  \n",
       "3          4               3               7        1      2  \n",
       "4          1               3               1        1      2  "
      ]
     },
     "execution_count": 4,
     "metadata": {},
     "output_type": "execute_result"
    }
   ],
   "source": [
    "# Nameing the columms\n",
    "col_name = ['Samplecodenumber','ClumpThickness','UniformityofCellSize','UniformityofCellShape',\n",
    "            'MarginalAdhesion','SingleEpithelialCellSize','BareNuclei',\n",
    "            'BlandChromatin','NormalNucleoli','Mitoses','Class']\n",
    "cancerdata = pd.read_csv(data,low_memory=False,names=col_name)\n",
    "cancerdata.head()"
   ]
  },
  {
   "cell_type": "code",
   "execution_count": 5,
   "metadata": {
    "id": "oOGBeeDS4opZ"
   },
   "outputs": [],
   "source": [
    "## Removing attribute that is of no use\n",
    "cancerdata = cancerdata.drop(['Samplecodenumber'], 1)"
   ]
  },
  {
   "cell_type": "code",
   "execution_count": 6,
   "metadata": {
    "id": "nV7-qayy4orv"
   },
   "outputs": [
    {
     "data": {
      "text/plain": [
       "2    458\n",
       "4    241\n",
       "Name: Class, dtype: int64"
      ]
     },
     "execution_count": 6,
     "metadata": {},
     "output_type": "execute_result"
    }
   ],
   "source": [
    "# The number of samples present by class count\n",
    "cancerdata['Class'].value_counts()"
   ]
  },
  {
   "cell_type": "code",
   "execution_count": 7,
   "metadata": {
    "id": "iY_4Kw5F4ous"
   },
   "outputs": [
    {
     "data": {
      "text/html": [
       "<div>\n",
       "<style scoped>\n",
       "    .dataframe tbody tr th:only-of-type {\n",
       "        vertical-align: middle;\n",
       "    }\n",
       "\n",
       "    .dataframe tbody tr th {\n",
       "        vertical-align: top;\n",
       "    }\n",
       "\n",
       "    .dataframe thead th {\n",
       "        text-align: right;\n",
       "    }\n",
       "</style>\n",
       "<table border=\"1\" class=\"dataframe\">\n",
       "  <thead>\n",
       "    <tr style=\"text-align: right;\">\n",
       "      <th></th>\n",
       "      <th>ClumpThickness</th>\n",
       "      <th>UniformityofCellSize</th>\n",
       "      <th>UniformityofCellShape</th>\n",
       "      <th>MarginalAdhesion</th>\n",
       "      <th>SingleEpithelialCellSize</th>\n",
       "      <th>BareNuclei</th>\n",
       "      <th>BlandChromatin</th>\n",
       "      <th>NormalNucleoli</th>\n",
       "      <th>Mitoses</th>\n",
       "      <th>classes</th>\n",
       "    </tr>\n",
       "  </thead>\n",
       "  <tbody>\n",
       "    <tr>\n",
       "      <th>0</th>\n",
       "      <td>5</td>\n",
       "      <td>4</td>\n",
       "      <td>4</td>\n",
       "      <td>5</td>\n",
       "      <td>7</td>\n",
       "      <td>10</td>\n",
       "      <td>3</td>\n",
       "      <td>2</td>\n",
       "      <td>1</td>\n",
       "      <td>0</td>\n",
       "    </tr>\n",
       "    <tr>\n",
       "      <th>1</th>\n",
       "      <td>6</td>\n",
       "      <td>8</td>\n",
       "      <td>8</td>\n",
       "      <td>1</td>\n",
       "      <td>3</td>\n",
       "      <td>4</td>\n",
       "      <td>3</td>\n",
       "      <td>7</td>\n",
       "      <td>1</td>\n",
       "      <td>0</td>\n",
       "    </tr>\n",
       "    <tr>\n",
       "      <th>2</th>\n",
       "      <td>8</td>\n",
       "      <td>10</td>\n",
       "      <td>10</td>\n",
       "      <td>8</td>\n",
       "      <td>7</td>\n",
       "      <td>10</td>\n",
       "      <td>9</td>\n",
       "      <td>7</td>\n",
       "      <td>1</td>\n",
       "      <td>1</td>\n",
       "    </tr>\n",
       "    <tr>\n",
       "      <th>3</th>\n",
       "      <td>2</td>\n",
       "      <td>1</td>\n",
       "      <td>2</td>\n",
       "      <td>1</td>\n",
       "      <td>2</td>\n",
       "      <td>1</td>\n",
       "      <td>3</td>\n",
       "      <td>1</td>\n",
       "      <td>1</td>\n",
       "      <td>0</td>\n",
       "    </tr>\n",
       "    <tr>\n",
       "      <th>4</th>\n",
       "      <td>2</td>\n",
       "      <td>1</td>\n",
       "      <td>1</td>\n",
       "      <td>1</td>\n",
       "      <td>2</td>\n",
       "      <td>1</td>\n",
       "      <td>1</td>\n",
       "      <td>1</td>\n",
       "      <td>5</td>\n",
       "      <td>0</td>\n",
       "    </tr>\n",
       "  </tbody>\n",
       "</table>\n",
       "</div>"
      ],
      "text/plain": [
       "   ClumpThickness  UniformityofCellSize  UniformityofCellShape  \\\n",
       "0               5                     4                      4   \n",
       "1               6                     8                      8   \n",
       "2               8                    10                     10   \n",
       "3               2                     1                      2   \n",
       "4               2                     1                      1   \n",
       "\n",
       "   MarginalAdhesion  SingleEpithelialCellSize BareNuclei  BlandChromatin  \\\n",
       "0                 5                         7         10               3   \n",
       "1                 1                         3          4               3   \n",
       "2                 8                         7         10               9   \n",
       "3                 1                         2          1               3   \n",
       "4                 1                         2          1               1   \n",
       "\n",
       "   NormalNucleoli  Mitoses  classes  \n",
       "0               2        1        0  \n",
       "1               7        1        0  \n",
       "2               7        1        1  \n",
       "3               1        1        0  \n",
       "4               1        5        0  "
      ]
     },
     "execution_count": 7,
     "metadata": {},
     "output_type": "execute_result"
    }
   ],
   "source": [
    "# Making the class counts to similar size\n",
    "Benign = cancerdata[(cancerdata.Class == 2) ].sample(240).index\n",
    "Malignant = cancerdata[(cancerdata.Class == 4) ].sample(240).index\n",
    "cancer = cancerdata.loc[Benign|Malignant]\n",
    "cancer = cancer.reset_index(drop=True)\n",
    "\n",
    "# Making the classess from 2/4 to 0/1 \n",
    "cancer['classes'] = cancer.Class.map({2:0,4:1})\n",
    "cancer = cancer.drop(['Class'], 1)\n",
    "\n",
    "# Printing the updated dataframe\n",
    "cancer.head()"
   ]
  },
  {
   "cell_type": "code",
   "execution_count": 8,
   "metadata": {
    "id": "2gLfIN6F4oxH"
   },
   "outputs": [
    {
     "data": {
      "text/plain": [
       "0    240\n",
       "1    240\n",
       "Name: classes, dtype: int64"
      ]
     },
     "execution_count": 8,
     "metadata": {},
     "output_type": "execute_result"
    }
   ],
   "source": [
    "# Confirming that counts of the classes are similar \n",
    "cancer['classes'].value_counts()\n"
   ]
  },
  {
   "cell_type": "code",
   "execution_count": 9,
   "metadata": {
    "id": "FxwBcGnk429U",
    "scrolled": false
   },
   "outputs": [
    {
     "data": {
      "image/png": "[encoded data removed]",
      "text/plain": [
       "<Figure size 1296x1296 with 9 Axes>"
      ]
     },
     "metadata": {},
     "output_type": "display_data"
    }
   ],
   "source": [
    "# plot date variables and find the variables with similar distributions, keep only one of them.\n",
    "#['ClumpThickness','UniformityofCellSize','UniformityofCellShape','MarginalAdhesion',\n",
    "#'SingleEpithelialCellSize','BareNuclei','BlandChromatin','NormalNucleoli','Mitoses']\n",
    "fig, axs = plt.subplots(3, 3, figsize=(18,18))\n",
    "axs[0,0].hist(cancer['ClumpThickness'])\n",
    "axs[0,0].set_title(\"ClumpThickness\")\n",
    "axs[0,1].hist(cancer['UniformityofCellSize'])\n",
    "axs[0,1].set_title(\"UniformityofCellSize\")\n",
    "axs[0,2].hist(cancer['UniformityofCellShape'])\n",
    "axs[0,2].set_title(\"UniformityofCellShape\")\n",
    "axs[1,0].hist(cancer['MarginalAdhesion'])\n",
    "axs[1,0].set_title(\"MarginalAdhesion\")\n",
    "axs[1,1].hist(cancer['SingleEpithelialCellSize'])\n",
    "axs[1,1].set_title(\"SingleEpithelialCellSize\")\n",
    "axs[1,2].hist(cancer['BareNuclei'])\n",
    "axs[1,2].set_title(\"BareNuclei\")\n",
    "axs[2,0].hist(cancer['BlandChromatin'])\n",
    "axs[2,0].set_title(\"BlandChromatin\")\n",
    "axs[2,1].hist(cancer['NormalNucleoli'])\n",
    "axs[2,1].set_title(\"NormalNucleoli\")\n",
    "axs[2,2].hist(cancer['Mitoses'])\n",
    "axs[2,2].set_title(\"Mitoses\")\n",
    "fig.tight_layout()"
   ]
  },
  {
   "cell_type": "markdown",
   "metadata": {
    "id": "wdpWrB3HWel7"
   },
   "source": [
    "<h4>1.1.2 Observations </h4>\n",
    "<ol>\n",
    "    <li>The class counts is in a 2:1 ratio with benign being 458 and malignant being 241</li>\n",
    "    <li>The graph shows that data is very skewed for every attribute</li>\n",
    "</ol>\n",
    "<h4>1.1.3 Approach </h4>\n",
    "<ol>\n",
    "    <li>First we make the class ratio 1:1 and making data points to 240 for each class</li>\n",
    "</ol>"
   ]
  },
  {
   "cell_type": "markdown",
   "metadata": {
    "id": "fPcTVTlE46vC"
   },
   "source": [
    "<h3>1.2 Checking and Removing nan values</h3>"
   ]
  },
  {
   "cell_type": "markdown",
   "metadata": {
    "id": "wbaWQwlpfyif"
   },
   "source": [
    "<h4>1.2.1 Code </h4>"
   ]
  },
  {
   "cell_type": "code",
   "execution_count": 10,
   "metadata": {
    "id": "dJclAfmh49KE"
   },
   "outputs": [
    {
     "data": {
      "text/plain": [
       "int64     9\n",
       "object    1\n",
       "dtype: int64"
      ]
     },
     "execution_count": 10,
     "metadata": {},
     "output_type": "execute_result"
    }
   ],
   "source": [
    "# Printing all the value counts \n",
    "cancer.dtypes.value_counts()"
   ]
  },
  {
   "cell_type": "code",
   "execution_count": 11,
   "metadata": {
    "id": "3DCa8TIj4_Ty"
   },
   "outputs": [
    {
     "data": {
      "text/html": [
       "<div>\n",
       "<style scoped>\n",
       "    .dataframe tbody tr th:only-of-type {\n",
       "        vertical-align: middle;\n",
       "    }\n",
       "\n",
       "    .dataframe tbody tr th {\n",
       "        vertical-align: top;\n",
       "    }\n",
       "\n",
       "    .dataframe thead th {\n",
       "        text-align: right;\n",
       "    }\n",
       "</style>\n",
       "<table border=\"1\" class=\"dataframe\">\n",
       "  <thead>\n",
       "    <tr style=\"text-align: right;\">\n",
       "      <th></th>\n",
       "      <th>BareNuclei</th>\n",
       "    </tr>\n",
       "  </thead>\n",
       "  <tbody>\n",
       "    <tr>\n",
       "      <th>0</th>\n",
       "      <td>10</td>\n",
       "    </tr>\n",
       "    <tr>\n",
       "      <th>1</th>\n",
       "      <td>4</td>\n",
       "    </tr>\n",
       "    <tr>\n",
       "      <th>2</th>\n",
       "      <td>10</td>\n",
       "    </tr>\n",
       "    <tr>\n",
       "      <th>3</th>\n",
       "      <td>1</td>\n",
       "    </tr>\n",
       "    <tr>\n",
       "      <th>4</th>\n",
       "      <td>1</td>\n",
       "    </tr>\n",
       "    <tr>\n",
       "      <th>...</th>\n",
       "      <td>...</td>\n",
       "    </tr>\n",
       "    <tr>\n",
       "      <th>475</th>\n",
       "      <td>2</td>\n",
       "    </tr>\n",
       "    <tr>\n",
       "      <th>476</th>\n",
       "      <td>1</td>\n",
       "    </tr>\n",
       "    <tr>\n",
       "      <th>477</th>\n",
       "      <td>3</td>\n",
       "    </tr>\n",
       "    <tr>\n",
       "      <th>478</th>\n",
       "      <td>4</td>\n",
       "    </tr>\n",
       "    <tr>\n",
       "      <th>479</th>\n",
       "      <td>5</td>\n",
       "    </tr>\n",
       "  </tbody>\n",
       "</table>\n",
       "<p>480 rows × 1 columns</p>\n",
       "</div>"
      ],
      "text/plain": [
       "    BareNuclei\n",
       "0           10\n",
       "1            4\n",
       "2           10\n",
       "3            1\n",
       "4            1\n",
       "..         ...\n",
       "475          2\n",
       "476          1\n",
       "477          3\n",
       "478          4\n",
       "479          5\n",
       "\n",
       "[480 rows x 1 columns]"
      ]
     },
     "execution_count": 11,
     "metadata": {},
     "output_type": "execute_result"
    }
   ],
   "source": [
    "# Printing data types\n",
    "cancer.select_dtypes('object')"
   ]
  },
  {
   "cell_type": "code",
   "execution_count": 12,
   "metadata": {
    "id": "1CyRzBnb6XnU"
   },
   "outputs": [
    {
     "data": {
      "text/html": [
       "<div>\n",
       "<style scoped>\n",
       "    .dataframe tbody tr th:only-of-type {\n",
       "        vertical-align: middle;\n",
       "    }\n",
       "\n",
       "    .dataframe tbody tr th {\n",
       "        vertical-align: top;\n",
       "    }\n",
       "\n",
       "    .dataframe thead th {\n",
       "        text-align: right;\n",
       "    }\n",
       "</style>\n",
       "<table border=\"1\" class=\"dataframe\">\n",
       "  <thead>\n",
       "    <tr style=\"text-align: right;\">\n",
       "      <th></th>\n",
       "      <th>Count</th>\n",
       "      <th>Percent</th>\n",
       "    </tr>\n",
       "  </thead>\n",
       "  <tbody>\n",
       "    <tr>\n",
       "      <th>BareNuclei</th>\n",
       "      <td>11</td>\n",
       "      <td>2.291667</td>\n",
       "    </tr>\n",
       "  </tbody>\n",
       "</table>\n",
       "</div>"
      ],
      "text/plain": [
       "            Count   Percent\n",
       "BareNuclei     11  2.291667"
      ]
     },
     "execution_count": 12,
     "metadata": {},
     "output_type": "execute_result"
    }
   ],
   "source": [
    "#Replacing nan Values\n",
    "cancer = cancer.replace('?' ,np.nan)\n",
    "\n",
    "##Finding the the count and percentage of values that are missing in the dataframe.\n",
    "null1 = pd.DataFrame({'Count': cancer.isnull().sum(), 'Percent': 100*cancer.isnull().sum()/len(cancer)})\n",
    "\n",
    "##printing columns with null count more than 0\n",
    "null1[null1['Count'] > 0]"
   ]
  },
  {
   "cell_type": "code",
   "execution_count": 13,
   "metadata": {
    "id": "mQKh6EdQ6Xrk"
   },
   "outputs": [],
   "source": [
    "## Filling the columns with nan values with mean of the data\n",
    "cancer[\"BareNuclei\"]=cancer[\"BareNuclei\"].astype(float)\n",
    "cancer=cancer.fillna(cancer.mean())"
   ]
  },
  {
   "cell_type": "markdown",
   "metadata": {
    "id": "PHIdqxDmWMPe"
   },
   "source": [
    "<h4>1.2.2 Observations </h4>\n",
    "<ol>\n",
    "    <li>We obsereve that there is one attribute that is not in integer format</li>\n",
    "    <li>We find that there are nan values in BareNuclei</li>\n",
    "</ol>\n",
    "<h4>1.2.3 Approach </h4>\n",
    "<ol>\n",
    "    <li>We find that BareNuclei is a object type attribute so we convert it to float</li>\n",
    "    <li>We replace nan values in BareNuclei with mean value of BareNuclei</li>\n",
    "</ol>"
   ]
  },
  {
   "cell_type": "markdown",
   "metadata": {
    "id": "uf89AePf6nsZ"
   },
   "source": [
    "<h3>1.3 Removing Useless Attributes </h3>"
   ]
  },
  {
   "cell_type": "markdown",
   "metadata": {
    "id": "aF8wcn9Gf3au"
   },
   "source": [
    "<h4>1.3.1 Code </h4>"
   ]
  },
  {
   "cell_type": "code",
   "execution_count": 14,
   "metadata": {
    "id": "e1xo7hxe6Xv1"
   },
   "outputs": [
    {
     "data": {
      "text/html": [
       "<div>\n",
       "<style scoped>\n",
       "    .dataframe tbody tr th:only-of-type {\n",
       "        vertical-align: middle;\n",
       "    }\n",
       "\n",
       "    .dataframe tbody tr th {\n",
       "        vertical-align: top;\n",
       "    }\n",
       "\n",
       "    .dataframe thead th {\n",
       "        text-align: right;\n",
       "    }\n",
       "</style>\n",
       "<table border=\"1\" class=\"dataframe\">\n",
       "  <thead>\n",
       "    <tr style=\"text-align: right;\">\n",
       "      <th></th>\n",
       "      <th>classes</th>\n",
       "      <th>UniformityofCellShape</th>\n",
       "      <th>BareNuclei</th>\n",
       "      <th>UniformityofCellSize</th>\n",
       "      <th>BlandChromatin</th>\n",
       "      <th>ClumpThickness</th>\n",
       "      <th>NormalNucleoli</th>\n",
       "      <th>MarginalAdhesion</th>\n",
       "      <th>SingleEpithelialCellSize</th>\n",
       "      <th>Mitoses</th>\n",
       "    </tr>\n",
       "  </thead>\n",
       "  <tbody>\n",
       "    <tr>\n",
       "      <th>0</th>\n",
       "      <td>0</td>\n",
       "      <td>4</td>\n",
       "      <td>10.0</td>\n",
       "      <td>4</td>\n",
       "      <td>3</td>\n",
       "      <td>5</td>\n",
       "      <td>2</td>\n",
       "      <td>5</td>\n",
       "      <td>7</td>\n",
       "      <td>1</td>\n",
       "    </tr>\n",
       "    <tr>\n",
       "      <th>1</th>\n",
       "      <td>0</td>\n",
       "      <td>8</td>\n",
       "      <td>4.0</td>\n",
       "      <td>8</td>\n",
       "      <td>3</td>\n",
       "      <td>6</td>\n",
       "      <td>7</td>\n",
       "      <td>1</td>\n",
       "      <td>3</td>\n",
       "      <td>1</td>\n",
       "    </tr>\n",
       "    <tr>\n",
       "      <th>2</th>\n",
       "      <td>1</td>\n",
       "      <td>10</td>\n",
       "      <td>10.0</td>\n",
       "      <td>10</td>\n",
       "      <td>9</td>\n",
       "      <td>8</td>\n",
       "      <td>7</td>\n",
       "      <td>8</td>\n",
       "      <td>7</td>\n",
       "      <td>1</td>\n",
       "    </tr>\n",
       "  </tbody>\n",
       "</table>\n",
       "</div>"
      ],
      "text/plain": [
       "   classes  UniformityofCellShape  BareNuclei  UniformityofCellSize  \\\n",
       "0        0                      4        10.0                     4   \n",
       "1        0                      8         4.0                     8   \n",
       "2        1                     10        10.0                    10   \n",
       "\n",
       "   BlandChromatin  ClumpThickness  NormalNucleoli  MarginalAdhesion  \\\n",
       "0               3               5               2                 5   \n",
       "1               3               6               7                 1   \n",
       "2               9               8               7                 8   \n",
       "\n",
       "   SingleEpithelialCellSize  Mitoses  \n",
       "0                         7        1  \n",
       "1                         3        1  \n",
       "2                         7        1  "
      ]
     },
     "execution_count": 14,
     "metadata": {},
     "output_type": "execute_result"
    }
   ],
   "source": [
    "#Sorting with correlation values\n",
    "corr_list1=cancer.corr()['classes'].abs().sort_values(ascending=False)\n",
    "corr_list_new=corr_list1[corr_list1>0.01].index.values.tolist()\n",
    "corr_list1\n",
    "cancer=cancer[corr_list_new]\n",
    "cancer.head(3)"
   ]
  },
  {
   "cell_type": "code",
   "execution_count": 15,
   "metadata": {
    "id": "5MgSXzzR6XzR"
   },
   "outputs": [
    {
     "data": {
      "text/plain": [
       "classes                   classes                     1.000000\n",
       "UniformityofCellShape     UniformityofCellSize        0.898708\n",
       "                          classes                     0.794093\n",
       "classes                   BareNuclei                  0.782816\n",
       "UniformityofCellSize      classes                     0.782492\n",
       "BlandChromatin            UniformityofCellSize        0.744338\n",
       "classes                   BlandChromatin              0.739412\n",
       "SingleEpithelialCellSize  UniformityofCellSize        0.723197\n",
       "UniformityofCellShape     BlandChromatin              0.721928\n",
       "classes                   ClumpThickness              0.706223\n",
       "UniformityofCellShape     NormalNucleoli              0.690061\n",
       "SingleEpithelialCellSize  UniformityofCellShape       0.689025\n",
       "UniformityofCellSize      NormalNucleoli              0.682060\n",
       "                          MarginalAdhesion            0.674693\n",
       "classes                   NormalNucleoli              0.667381\n",
       "UniformityofCellShape     BareNuclei                  0.666145\n",
       "classes                   MarginalAdhesion            0.651561\n",
       "BareNuclei                BlandChromatin              0.647625\n",
       "MarginalAdhesion          BlandChromatin              0.646226\n",
       "UniformityofCellShape     MarginalAdhesion            0.645424\n",
       "NormalNucleoli            BlandChromatin              0.639670\n",
       "classes                   SingleEpithelialCellSize    0.637436\n",
       "UniformityofCellSize      BareNuclei                  0.633218\n",
       "ClumpThickness            UniformityofCellShape       0.625615\n",
       "MarginalAdhesion          BareNuclei                  0.618897\n",
       "UniformityofCellSize      ClumpThickness              0.615725\n",
       "BlandChromatin            SingleEpithelialCellSize    0.583833\n",
       "NormalNucleoli            SingleEpithelialCellSize    0.573599\n",
       "BareNuclei                ClumpThickness              0.562335\n",
       "MarginalAdhesion          NormalNucleoli              0.561599\n",
       "SingleEpithelialCellSize  MarginalAdhesion            0.555282\n",
       "BlandChromatin            ClumpThickness              0.540227\n",
       "BareNuclei                SingleEpithelialCellSize    0.522082\n",
       "NormalNucleoli            BareNuclei                  0.520560\n",
       "                          ClumpThickness              0.492966\n",
       "SingleEpithelialCellSize  ClumpThickness              0.477901\n",
       "Mitoses                   SingleEpithelialCellSize    0.469434\n",
       "                          UniformityofCellSize        0.437695\n",
       "MarginalAdhesion          ClumpThickness              0.431946\n",
       "UniformityofCellShape     Mitoses                     0.415953\n",
       "NormalNucleoli            Mitoses                     0.406569\n",
       "MarginalAdhesion          Mitoses                     0.389971\n",
       "Mitoses                   classes                     0.388376\n",
       "                          ClumpThickness              0.338820\n",
       "                          BlandChromatin              0.318580\n",
       "                          BareNuclei                  0.291566\n",
       "dtype: float64"
      ]
     },
     "metadata": {},
     "output_type": "display_data"
    }
   ],
   "source": [
    "## To remove outliers first we have to find the correlation between attributes\n",
    "\n",
    "#find the variables with high correlations\n",
    "cor1 = cancer.corr().abs()\n",
    "list1 = cor1.stack().sort_values(ascending=False).drop_duplicates()  \n",
    "high_corr= list1[list1>0.70].index.values.tolist()\n",
    "high_corr.remove(high_corr[0])\n",
    "\n",
    "display(list1)"
   ]
  },
  {
   "cell_type": "code",
   "execution_count": 16,
   "metadata": {
    "id": "x7OKFrzE6X3D"
   },
   "outputs": [],
   "source": [
    "# for variable pairs with high correlation, keep only one of them\n",
    "columnlist=list(cancer.columns)\n",
    "len(high_corr)\n",
    "for i in range(len(high_corr)):\n",
    "    if \"classes\" in high_corr[i]:\n",
    "        columnlist=columnlist\n",
    "    else:\n",
    "        if high_corr[i][0] in columnlist and high_corr[i][1] in columnlist:\n",
    "            columnlist.remove(high_corr[i][1])\n",
    "        else:\n",
    "            columnlist=columnlist\n",
    "cancer_final=cancer[columnlist]"
   ]
  },
  {
   "cell_type": "code",
   "execution_count": 17,
   "metadata": {
    "id": "ZJPMB2Tq6pOq"
   },
   "outputs": [],
   "source": [
    "## Doing a test train split on the data \n",
    "import random\n",
    "from sklearn.model_selection import train_test_split\n",
    "training_data, test_data = train_test_split(cancer_final,random_state=None, shuffle=True)\n",
    "train_x=training_data.drop(['classes'], 1) \n",
    "train_y=training_data[['classes']]\n",
    "test_x=test_data.drop(['classes'], 1)\n",
    "test_y=test_data[['classes']]"
   ]
  },
  {
   "cell_type": "markdown",
   "metadata": {
    "id": "P-oNBnzbV4lI"
   },
   "source": [
    "<h4>1.3.2 Observations </h4>\n",
    "<ol>\n",
    "    <li>We find the correlation list of the attributes</li>\n",
    "</ol>\n",
    "\n",
    "<h4>1.3.3 Approach </h4>\n",
    "<ol>\n",
    "    <li>We remove the attributes that have low correlations from the data frame</li>\n",
    "    <li>we split the data in test and train split</li>\n",
    "</ol>"
   ]
  },
  {
   "cell_type": "markdown",
   "metadata": {
    "id": "6mQKJvN27Bfu"
   },
   "source": [
    "<h3>1.4 Deleting Outliers and Data Normalizations</h3>"
   ]
  },
  {
   "cell_type": "markdown",
   "metadata": {
    "id": "tOcvGwDUf8fd"
   },
   "source": [
    "<h4>1.4.1 Code </h4>"
   ]
  },
  {
   "cell_type": "code",
   "execution_count": 18,
   "metadata": {
    "id": "9Z4bemp56pTY"
   },
   "outputs": [],
   "source": [
    "# Remove outliers\n",
    "cancer_norm = cancer_final[(np.abs(scipy.stats.zscore(cancer_final)) < 3).all(axis=1)]\n",
    "# Zero mean normalisation\n",
    "cancer_norm.iloc[:,1:]=(cancer_norm.iloc[:,1:]-cancer_norm.iloc[:,1:].mean())/cancer_norm.iloc[:,1:].std()"
   ]
  },
  {
   "cell_type": "code",
   "execution_count": 19,
   "metadata": {
    "id": "MQpTYu396pXt"
   },
   "outputs": [
    {
     "data": {
      "text/html": [
       "<div>\n",
       "<style scoped>\n",
       "    .dataframe tbody tr th:only-of-type {\n",
       "        vertical-align: middle;\n",
       "    }\n",
       "\n",
       "    .dataframe tbody tr th {\n",
       "        vertical-align: top;\n",
       "    }\n",
       "\n",
       "    .dataframe thead th {\n",
       "        text-align: right;\n",
       "    }\n",
       "</style>\n",
       "<table border=\"1\" class=\"dataframe\">\n",
       "  <thead>\n",
       "    <tr style=\"text-align: right;\">\n",
       "      <th></th>\n",
       "      <th>classes</th>\n",
       "      <th>UniformityofCellShape</th>\n",
       "      <th>BareNuclei</th>\n",
       "      <th>ClumpThickness</th>\n",
       "      <th>NormalNucleoli</th>\n",
       "      <th>MarginalAdhesion</th>\n",
       "      <th>SingleEpithelialCellSize</th>\n",
       "      <th>Mitoses</th>\n",
       "    </tr>\n",
       "  </thead>\n",
       "  <tbody>\n",
       "    <tr>\n",
       "      <th>0</th>\n",
       "      <td>0</td>\n",
       "      <td>0.050946</td>\n",
       "      <td>1.423800</td>\n",
       "      <td>0.017016</td>\n",
       "      <td>-0.429527</td>\n",
       "      <td>0.536008</td>\n",
       "      <td>1.494333</td>\n",
       "      <td>-0.414155</td>\n",
       "    </tr>\n",
       "    <tr>\n",
       "      <th>1</th>\n",
       "      <td>0</td>\n",
       "      <td>1.332274</td>\n",
       "      <td>-0.123831</td>\n",
       "      <td>0.356591</td>\n",
       "      <td>1.084704</td>\n",
       "      <td>-0.767450</td>\n",
       "      <td>-0.255409</td>\n",
       "      <td>-0.414155</td>\n",
       "    </tr>\n",
       "    <tr>\n",
       "      <th>2</th>\n",
       "      <td>1</td>\n",
       "      <td>1.972938</td>\n",
       "      <td>1.423800</td>\n",
       "      <td>1.035743</td>\n",
       "      <td>1.084704</td>\n",
       "      <td>1.513602</td>\n",
       "      <td>1.494333</td>\n",
       "      <td>-0.414155</td>\n",
       "    </tr>\n",
       "    <tr>\n",
       "      <th>3</th>\n",
       "      <td>0</td>\n",
       "      <td>-0.589718</td>\n",
       "      <td>-0.897646</td>\n",
       "      <td>-1.001711</td>\n",
       "      <td>-0.732373</td>\n",
       "      <td>-0.767450</td>\n",
       "      <td>-0.692845</td>\n",
       "      <td>-0.414155</td>\n",
       "    </tr>\n",
       "    <tr>\n",
       "      <th>4</th>\n",
       "      <td>0</td>\n",
       "      <td>-0.910050</td>\n",
       "      <td>-0.897646</td>\n",
       "      <td>-1.001711</td>\n",
       "      <td>-0.732373</td>\n",
       "      <td>-0.767450</td>\n",
       "      <td>-0.692845</td>\n",
       "      <td>3.011016</td>\n",
       "    </tr>\n",
       "  </tbody>\n",
       "</table>\n",
       "</div>"
      ],
      "text/plain": [
       "   classes  UniformityofCellShape  BareNuclei  ClumpThickness  NormalNucleoli  \\\n",
       "0        0               0.050946    1.423800        0.017016       -0.429527   \n",
       "1        0               1.332274   -0.123831        0.356591        1.084704   \n",
       "2        1               1.972938    1.423800        1.035743        1.084704   \n",
       "3        0              -0.589718   -0.897646       -1.001711       -0.732373   \n",
       "4        0              -0.910050   -0.897646       -1.001711       -0.732373   \n",
       "\n",
       "   MarginalAdhesion  SingleEpithelialCellSize   Mitoses  \n",
       "0          0.536008                  1.494333 -0.414155  \n",
       "1         -0.767450                 -0.255409 -0.414155  \n",
       "2          1.513602                  1.494333 -0.414155  \n",
       "3         -0.767450                 -0.692845 -0.414155  \n",
       "4         -0.767450                 -0.692845  3.011016  "
      ]
     },
     "execution_count": 19,
     "metadata": {},
     "output_type": "execute_result"
    }
   ],
   "source": [
    "#printing the normalized head of the data\n",
    "cancer_norm.head()"
   ]
  },
  {
   "cell_type": "code",
   "execution_count": 20,
   "metadata": {
    "id": "Wkh0puJu6pa3"
   },
   "outputs": [],
   "source": [
    "#split the new dataset\n",
    "training_data_norm, test_data_norm = train_test_split(cancer_norm,random_state=None, shuffle=True)\n",
    "train_x_norm=training_data_norm.drop(['classes'], 1) \n",
    "train_y_norm=training_data_norm[['classes']]\n",
    "test_x_norm=test_data_norm.drop(['classes'], 1)\n",
    "test_y_norm=test_data_norm[['classes']]"
   ]
  },
  {
   "cell_type": "code",
   "execution_count": 21,
   "metadata": {
    "colab": {
     "base_uri": "https://localhost:8080/"
    },
    "id": "xlkLRQkM6pee",
    "outputId": "8fc8fc33-4eb4-440d-dd77-37a6680cef4c",
    "scrolled": true
   },
   "outputs": [
    {
     "name": "stdout",
     "output_type": "stream",
     "text": [
      "(344, 7)\n",
      "(344, 1)\n",
      "(115, 7)\n",
      "(115, 1)\n"
     ]
    }
   ],
   "source": [
    "# Print the shape of the data attributes\n",
    "x_train = np.array(train_x_norm)\n",
    "print(x_train.shape)\n",
    "y_train = np.array(train_y_norm)\n",
    "print(y_train.shape)\n",
    "x_test = np.array(test_x_norm)\n",
    "print(x_test.shape)\n",
    "y_test = np.array(test_y_norm)\n",
    "print(y_test.shape)"
   ]
  },
  {
   "cell_type": "markdown",
   "metadata": {
    "id": "ezxSeKxKWqBF"
   },
   "source": [
    "<h3>1.5 Conclusion </h3>\n",
    "<ol>\n",
    "    <li>We removed the NAN values from our data and replaced them with mean values</li>\n",
    "    <li>We only keep highly correlated attributes in our final attribute list</li>\n",
    "    <li>We filter our data using the zscores and then normalize it usind mean and standard deviation</li>\n",
    "</ol>"
   ]
  },
  {
   "cell_type": "markdown",
   "metadata": {
    "id": "SNNGSB4Vb2CE"
   },
   "source": [
    "<h2><center>2. Model Fiting on the clean data</center></h2>\n",
    "\n",
    "We have a cleaned and a normalized data now we just have to fit a model over the data and make predictions.\n",
    "We are going to implement 2 models that are implemented by us \n",
    "\n",
    "<ol>\n",
    "    <li>SGD Classifier with Log Loss</li>\n",
    "    <li>SVM with RBF kernel</li>\n",
    "</ol>\n"
   ]
  },
  {
   "cell_type": "markdown",
   "metadata": {
    "id": "LGeB6fiFYPuS"
   },
   "source": [
    "<h3>2.1 SGD Classifier with Log Loss</h3>"
   ]
  },
  {
   "cell_type": "markdown",
   "metadata": {
    "id": "3NIP2zzzYi2e"
   },
   "source": [
    "<h4>2.1.1 Function Call</h4>"
   ]
  },
  {
   "cell_type": "code",
   "execution_count": 22,
   "metadata": {
    "id": "qq2Z7Etj6yun"
   },
   "outputs": [
    {
     "name": "stderr",
     "output_type": "stream",
     "text": [
      "  5%|▌         | 8/150 [00:00<00:01, 77.48it/s]"
     ]
    },
    {
     "name": "stdout",
     "output_type": "stream",
     "text": [
      "\n",
      "-- Epoch no(iteration no)  1\n",
      "W intercept: [0.0641381  0.0799605  0.04147881 0.05887655 0.05919125 0.06269384\n",
      " 0.02261784], B intercept: [0.00930608], Train loss: 0.24549, Test loss: 0.25457\n",
      "\n",
      "-- Epoch no(iteration no)  2\n",
      "W intercept: [0.1188561  0.14397217 0.09875465 0.11607851 0.09218208 0.12800584\n",
      " 0.08361683], B intercept: [0.00042419], Train loss: 0.20188, Test loss: 0.21754\n",
      "\n",
      "-- Epoch no(iteration no)  3\n",
      "W intercept: [0.16338623 0.18892388 0.16829099 0.14723005 0.10983264 0.16467283\n",
      " 0.10359369], B intercept: [-0.00275559], Train loss: 0.17602, Test loss: 0.19505\n",
      "\n",
      "-- Epoch no(iteration no)  4\n",
      "W intercept: [0.20680098 0.22814092 0.20142037 0.18742736 0.14125902 0.19125677\n",
      " 0.12376213], B intercept: [-0.01900448], Train loss: 0.15648, Test loss: 0.17801\n",
      "\n",
      "-- Epoch no(iteration no)  5\n",
      "W intercept: [0.24897744 0.26642855 0.21880008 0.22187423 0.16855725 0.21555158\n",
      " 0.12843553], B intercept: [-0.02106568], Train loss: 0.14221, Test loss: 0.16554\n",
      "\n",
      "-- Epoch no(iteration no)  6\n",
      "W intercept: [0.27955599 0.30072102 0.24846615 0.23826838 0.19559128 0.22862612\n",
      " 0.14021442], B intercept: [-0.0295651], Train loss: 0.13125, Test loss: 0.15604\n",
      "\n",
      "-- Epoch no(iteration no)  7\n",
      "W intercept: [0.3017535  0.33723137 0.27881092 0.26717983 0.22204923 0.25109715\n",
      " 0.15830596], B intercept: [-0.02761407], Train loss: 0.12056, Test loss: 0.14692\n",
      "\n",
      "-- Epoch no(iteration no)  8\n",
      "W intercept: [0.33029391 0.36403488 0.3012247  0.29367747 0.25128958 0.27278116\n",
      " 0.16709259], B intercept: [-0.0289878], Train loss: 0.11199, Test loss: 0.13945\n",
      "\n",
      "-- Epoch no(iteration no)  9\n",
      "W intercept: [0.35489719 0.3911844  0.32115243 0.30886505 0.27104187 0.29089771\n",
      " 0.19230914], B intercept: [-0.03257319], Train loss: 0.10523, Test loss: 0.13367\n",
      "\n",
      "-- Epoch no(iteration no)  10\n",
      "W intercept: [0.37885627 0.42631108 0.3390629  0.32387244 0.29552863 0.30754852\n",
      " 0.20049047], B intercept: [-0.03587454], Train loss: 0.09895, Test loss: 0.12830\n",
      "\n",
      "-- Epoch no(iteration no)  11\n",
      "W intercept: [0.39845314 0.44101498 0.36630874 0.33979696 0.32107509 0.32378838\n",
      " 0.20624461], B intercept: [-0.01848777], Train loss: 0.09400, Test loss: 0.12427\n",
      "\n",
      "-- Epoch no(iteration no)  12\n",
      "W intercept: [0.42349727 0.46550527 0.38373546 0.35952209 0.33676353 0.33603379\n",
      " 0.20740872], B intercept: [-0.01787545], Train loss: 0.08955, Test loss: 0.12044\n",
      "\n",
      "-- Epoch no(iteration no)  13\n",
      "W intercept: [0.43721805 0.48838933 0.39689176 0.36644747 0.3529245  0.33644972\n",
      " 0.20334993], B intercept: [-0.00678804], Train loss: 0.08676, Test loss: 0.11830\n",
      "\n",
      "-- Epoch no(iteration no)  14\n",
      "W intercept: [0.44868615 0.50608306 0.42072494 0.36146257 0.35362608 0.33428821\n",
      " 0.2163708 ], B intercept: [-0.0059128], Train loss: 0.08459, Test loss: 0.11657\n"
     ]
    },
    {
     "name": "stderr",
     "output_type": "stream",
     "text": [
      "\r",
      " 13%|█▎        | 19/150 [00:00<00:01, 92.10it/s]"
     ]
    },
    {
     "name": "stdout",
     "output_type": "stream",
     "text": [
      "\n",
      "-- Epoch no(iteration no)  15\n",
      "W intercept: [0.46254926 0.53118529 0.42994532 0.37299003 0.36004122 0.35049182\n",
      " 0.21780583], B intercept: [-0.00120891], Train loss: 0.08180, Test loss: 0.11435\n",
      "\n",
      "-- Epoch no(iteration no)  16\n",
      "W intercept: [0.47386094 0.5527065  0.45233112 0.38614065 0.36374911 0.35917804\n",
      " 0.22663109], B intercept: [-0.00194873], Train loss: 0.07908, Test loss: 0.11210\n",
      "\n",
      "-- Epoch no(iteration no)  17\n",
      "W intercept: [0.49289268 0.56469727 0.47097467 0.3982825  0.36750179 0.38013349\n",
      " 0.23470486], B intercept: [0.00242421], Train loss: 0.07652, Test loss: 0.11001\n",
      "\n",
      "-- Epoch no(iteration no)  18\n",
      "W intercept: [0.5053758  0.57704179 0.48570982 0.40899402 0.37628563 0.38459762\n",
      " 0.24633523], B intercept: [-0.00872205], Train loss: 0.07468, Test loss: 0.10831\n",
      "\n",
      "-- Epoch no(iteration no)  19\n",
      "W intercept: [0.52431011 0.58536181 0.48421887 0.41949303 0.37803658 0.39560965\n",
      " 0.2355015 ], B intercept: [-0.00465163], Train loss: 0.07353, Test loss: 0.10737\n"
     ]
    },
    {
     "name": "stderr",
     "output_type": "stream",
     "text": [
      "\r",
      " 21%|██▏       | 32/150 [00:00<00:01, 106.64it/s]"
     ]
    },
    {
     "name": "stdout",
     "output_type": "stream",
     "text": [
      "\n",
      "-- Epoch no(iteration no)  20\n",
      "W intercept: [0.5344963  0.60568847 0.50106884 0.42597742 0.39348503 0.39338865\n",
      " 0.24220345], B intercept: [-0.0006142], Train loss: 0.07159, Test loss: 0.10593\n",
      "\n",
      "-- Epoch no(iteration no)  21\n",
      "W intercept: [0.54378754 0.62132712 0.51467989 0.43706651 0.4001227  0.40421634\n",
      " 0.2509187 ], B intercept: [-0.00077439], Train loss: 0.06989, Test loss: 0.10460\n",
      "\n",
      "-- Epoch no(iteration no)  22\n",
      "W intercept: [0.55560996 0.63333883 0.51969984 0.44825179 0.41227836 0.41328557\n",
      " 0.25300819], B intercept: [0.00038596], Train loss: 0.06853, Test loss: 0.10354\n",
      "\n",
      "-- Epoch no(iteration no)  23\n",
      "W intercept: [0.56548557 0.64811511 0.52870506 0.45159144 0.42059052 0.41900201\n",
      " 0.26776286], B intercept: [0.00135004], Train loss: 0.06721, Test loss: 0.10257\n",
      "\n",
      "-- Epoch no(iteration no)  24\n",
      "W intercept: [0.57856975 0.66683692 0.53685658 0.45898707 0.43028221 0.42600365\n",
      " 0.2701359 ], B intercept: [0.0002891], Train loss: 0.06580, Test loss: 0.10149\n",
      "\n",
      "-- Epoch no(iteration no)  25\n",
      "W intercept: [0.58755217 0.66954145 0.55176529 0.46558393 0.44574829 0.43753372\n",
      " 0.27127144], B intercept: [0.01101553], Train loss: 0.06464, Test loss: 0.10077\n",
      "\n",
      "-- Epoch no(iteration no)  26\n",
      "W intercept: [0.60203242 0.68376351 0.56106092 0.47635443 0.45441911 0.43998545\n",
      " 0.2673361 ], B intercept: [0.02271919], Train loss: 0.06339, Test loss: 0.10001\n",
      "\n",
      "-- Epoch no(iteration no)  27\n",
      "W intercept: [0.61036674 0.69910881 0.56880228 0.47481918 0.46037499 0.43844955\n",
      " 0.27010307], B intercept: [0.02927687], Train loss: 0.06254, Test loss: 0.09952\n",
      "\n",
      "-- Epoch no(iteration no)  28\n",
      "W intercept: [0.6082322  0.71075935 0.58565319 0.46198607 0.44958323 0.43113821\n",
      " 0.27170719], B intercept: [0.03466741], Train loss: 0.06224, Test loss: 0.09946\n",
      "\n",
      "-- Epoch no(iteration no)  29\n",
      "W intercept: [0.6189338  0.7244466  0.59107601 0.47301371 0.45932436 0.44083437\n",
      " 0.27479922], B intercept: [0.03257803], Train loss: 0.06120, Test loss: 0.09866\n",
      "\n",
      "-- Epoch no(iteration no)  30\n",
      "W intercept: [0.62518653 0.73521418 0.60833008 0.47996083 0.45737669 0.44560599\n",
      " 0.28515476], B intercept: [0.03559258], Train loss: 0.06026, Test loss: 0.09804\n",
      "\n",
      "-- Epoch no(iteration no)  31\n",
      "W intercept: [0.6381812  0.74472255 0.61735003 0.48839604 0.46184334 0.45961348\n",
      " 0.28429867], B intercept: [0.03837274], Train loss: 0.05932, Test loss: 0.09743\n",
      "\n",
      "-- Epoch no(iteration no)  32\n",
      "W intercept: [0.64712571 0.74915984 0.62679256 0.50004431 0.46317919 0.461943\n",
      " 0.29283998], B intercept: [0.0345893], Train loss: 0.05870, Test loss: 0.09688\n",
      "\n",
      "-- Epoch no(iteration no)  33\n",
      "W intercept: [0.66028048 0.75704087 0.6215203  0.5010803  0.46485441 0.46678242\n",
      " 0.28246764], B intercept: [0.03708569], Train loss: 0.05835, Test loss: 0.09669\n",
      "\n",
      "-- Epoch no(iteration no)  34\n",
      "W intercept: [0.66517826 0.76884975 0.63839877 0.50362898 0.4718705  0.46300489\n",
      " 0.29053467], B intercept: [0.03968208], Train loss: 0.05757, Test loss: 0.09619\n",
      "\n",
      "-- Epoch no(iteration no)  35\n",
      "W intercept: [0.66973377 0.7808142  0.64280823 0.5121344  0.47915184 0.47065292\n",
      " 0.29267169], B intercept: [0.03980296], Train loss: 0.05693, Test loss: 0.09580\n",
      "\n",
      "-- Epoch no(iteration no)  36\n",
      "W intercept: [0.67712562 0.78713409 0.64569414 0.51786242 0.48441262 0.47669619\n",
      " 0.29429795], B intercept: [0.03977719], Train loss: 0.05647, Test loss: 0.09549\n",
      "\n",
      "-- Epoch no(iteration no)  37\n",
      "W intercept: [0.68552932 0.8012214  0.64940429 0.5183346  0.49031172 0.48061276\n",
      " 0.30404323], B intercept: [0.04330176], Train loss: 0.05583, Test loss: 0.09515\n",
      "\n",
      "-- Epoch no(iteration no)  38\n",
      "W intercept: [0.69408828 0.81166564 0.65947878 0.5250807  0.49559536 0.48369307\n",
      " 0.30729934], B intercept: [0.04413338], Train loss: 0.05517, Test loss: 0.09474\n",
      "\n",
      "-- Epoch no(iteration no)  39\n",
      "W intercept: [0.70039298 0.81277621 0.66561459 0.53007488 0.50959965 0.4955551\n",
      " 0.3056495 ], B intercept: [0.04981509], Train loss: 0.05470, Test loss: 0.09455\n",
      "\n",
      "-- Epoch no(iteration no)  40\n",
      "W intercept: [0.71050494 0.82116056 0.67311418 0.53640884 0.51411447 0.49599037\n",
      " 0.30155479], B intercept: [0.06049139], Train loss: 0.05413, Test loss: 0.09437\n",
      "\n",
      "-- Epoch no(iteration no)  41\n",
      "W intercept: [0.71464013 0.83229419 0.67852801 0.53315735 0.51768542 0.49238193\n",
      " 0.30368877], B intercept: [0.06779758], Train loss: 0.05373, Test loss: 0.09426\n"
     ]
    },
    {
     "name": "stderr",
     "output_type": "stream",
     "text": [
      "\r",
      " 32%|███▏      | 48/150 [00:00<00:00, 126.67it/s]"
     ]
    },
    {
     "name": "stdout",
     "output_type": "stream",
     "text": [
      "\n",
      "-- Epoch no(iteration no)  42\n",
      "W intercept: [0.71231563 0.84263762 0.69400807 0.518575   0.50609879 0.48234237\n",
      " 0.30384907], B intercept: [0.07524856], Train loss: 0.05354, Test loss: 0.09429\n",
      "\n",
      "-- Epoch no(iteration no)  43\n",
      "W intercept: [0.71902696 0.85258978 0.69783131 0.52581852 0.51061214 0.48989136\n",
      " 0.30773205], B intercept: [0.07041508], Train loss: 0.05309, Test loss: 0.09395\n",
      "\n",
      "-- Epoch no(iteration no)  44\n",
      "W intercept: [0.72256503 0.85910098 0.71342787 0.53031577 0.5073242  0.49254949\n",
      " 0.31339844], B intercept: [0.07871675], Train loss: 0.05259, Test loss: 0.09379\n",
      "\n",
      "-- Epoch no(iteration no)  45\n",
      "W intercept: [0.73175778 0.86495616 0.71739621 0.53652995 0.5106382  0.50346982\n",
      " 0.32096047], B intercept: [0.08098274], Train loss: 0.05213, Test loss: 0.09356\n",
      "\n",
      "-- Epoch no(iteration no)  46\n",
      "W intercept: [0.74001585 0.86764149 0.72610766 0.54835341 0.51236075 0.50475184\n",
      " 0.32197934], B intercept: [0.07585258], Train loss: 0.05179, Test loss: 0.09325\n",
      "\n",
      "-- Epoch no(iteration no)  47\n",
      "W intercept: [0.75020818 0.87603603 0.71846061 0.54572557 0.51420281 0.50735508\n",
      " 0.3098046 ], B intercept: [0.08007205], Train loss: 0.05163, Test loss: 0.09327\n",
      "\n",
      "-- Epoch no(iteration no)  48\n",
      "W intercept: [0.75172358 0.88479121 0.728594   0.54914876 0.5185484  0.50719155\n",
      " 0.31764285], B intercept: [0.08315118], Train loss: 0.05123, Test loss: 0.09310\n",
      "\n",
      "-- Epoch no(iteration no)  49\n",
      "W intercept: [0.75688467 0.8928314  0.73331864 0.55483212 0.52356837 0.51080411\n",
      " 0.31820239], B intercept: [0.08285408], Train loss: 0.05089, Test loss: 0.09292\n",
      "\n",
      "-- Epoch no(iteration no)  50\n",
      "W intercept: [0.76180867 0.89699677 0.73730406 0.55914355 0.52782209 0.51463446\n",
      " 0.32049397], B intercept: [0.08033709], Train loss: 0.05066, Test loss: 0.09275\n"
     ]
    },
    {
     "name": "stderr",
     "output_type": "stream",
     "text": [
      "\r",
      " 44%|████▍     | 66/150 [00:00<00:00, 143.52it/s]"
     ]
    },
    {
     "name": "stdout",
     "output_type": "stream",
     "text": [
      "\n",
      "-- Epoch no(iteration no)  51\n",
      "W intercept: [0.76897941 0.90874311 0.73852857 0.55938329 0.53183166 0.51780284\n",
      " 0.32844339], B intercept: [0.08271938], Train loss: 0.05029, Test loss: 0.09261\n",
      "\n",
      "-- Epoch no(iteration no)  52\n",
      "W intercept: [0.77373412 0.91404895 0.75001718 0.56113438 0.53218284 0.52405782\n",
      " 0.32888289], B intercept: [0.08842609], Train loss: 0.04993, Test loss: 0.09253\n",
      "\n",
      "-- Epoch no(iteration no)  53\n",
      "W intercept: [0.77999849 0.91905701 0.75358224 0.56745373 0.54569356 0.52928949\n",
      " 0.32827168], B intercept: [0.09196171], Train loss: 0.04959, Test loss: 0.09244\n",
      "\n",
      "-- Epoch no(iteration no)  54\n",
      "W intercept: [0.78887368 0.92210842 0.75832269 0.5733242  0.55157447 0.5306895\n",
      " 0.32463854], B intercept: [0.09942276], Train loss: 0.04929, Test loss: 0.09241\n",
      "\n",
      "-- Epoch no(iteration no)  55\n",
      "W intercept: [0.78391395 0.93073125 0.76798782 0.55580647 0.54569889 0.50976034\n",
      " 0.3277429 ], B intercept: [0.10930805], Train loss: 0.04922, Test loss: 0.09249\n",
      "\n",
      "-- Epoch no(iteration no)  56\n",
      "W intercept: [0.78612849 0.94108886 0.77257099 0.55526583 0.54403982 0.51515403\n",
      " 0.32543084], B intercept: [0.11681848], Train loss: 0.04894, Test loss: 0.09253\n",
      "\n",
      "-- Epoch no(iteration no)  57\n",
      "W intercept: [0.79157432 0.94806759 0.77838213 0.559445   0.54419318 0.5203301\n",
      " 0.32969588], B intercept: [0.1117677], Train loss: 0.04869, Test loss: 0.09233\n",
      "\n",
      "-- Epoch no(iteration no)  58\n",
      "W intercept: [0.79682528 0.95130815 0.79293722 0.56119586 0.54258672 0.52785711\n",
      " 0.3328451 ], B intercept: [0.12001055], Train loss: 0.04832, Test loss: 0.09231\n",
      "\n",
      "-- Epoch no(iteration no)  59\n",
      "W intercept: [0.80258346 0.95655924 0.7957955  0.56904006 0.54283658 0.52753968\n",
      " 0.343498  ], B intercept: [0.11563325], Train loss: 0.04812, Test loss: 0.09210\n",
      "\n",
      "-- Epoch no(iteration no)  60\n",
      "W intercept: [0.81058891 0.96454839 0.79418987 0.57952194 0.54504356 0.5291295\n",
      " 0.33920974], B intercept: [0.12230942], Train loss: 0.04785, Test loss: 0.09212\n",
      "\n",
      "-- Epoch no(iteration no)  61\n",
      "W intercept: [0.81612477 0.96610932 0.79982978 0.57364122 0.54411206 0.52748804\n",
      " 0.33288145], B intercept: [0.11619157], Train loss: 0.04781, Test loss: 0.09199\n",
      "\n",
      "-- Epoch no(iteration no)  62\n",
      "W intercept: [0.81899917 0.97273427 0.80267456 0.57871384 0.54905135 0.53418174\n",
      " 0.33678259], B intercept: [0.12105565], Train loss: 0.04755, Test loss: 0.09199\n",
      "\n",
      "-- Epoch no(iteration no)  63\n",
      "W intercept: [0.82294851 0.97879234 0.8054129  0.58281586 0.55298173 0.53676948\n",
      " 0.33690112], B intercept: [0.12166651], Train loss: 0.04736, Test loss: 0.09194\n",
      "\n",
      "-- Epoch no(iteration no)  64\n",
      "W intercept: [0.82802475 0.98614511 0.80778429 0.58370182 0.55495637 0.53874571\n",
      " 0.34401225], B intercept: [0.12383761], Train loss: 0.04714, Test loss: 0.09188\n",
      "\n",
      "-- Epoch no(iteration no)  65\n",
      "W intercept: [0.8332836  0.99370988 0.81062711 0.58617461 0.55943035 0.54197573\n",
      " 0.34542842], B intercept: [0.12265057], Train loss: 0.04693, Test loss: 0.09179\n",
      "\n",
      "-- Epoch no(iteration no)  66\n",
      "W intercept: [0.83712633 0.99265618 0.81710667 0.58768036 0.56838261 0.55066358\n",
      " 0.34416376], B intercept: [0.13160494], Train loss: 0.04672, Test loss: 0.09189\n",
      "\n",
      "-- Epoch no(iteration no)  67\n",
      "W intercept: [0.84549828 1.00140811 0.82140053 0.59443378 0.57287832 0.55220942\n",
      " 0.34361425], B intercept: [0.13280695], Train loss: 0.04644, Test loss: 0.09182\n",
      "\n",
      "-- Epoch no(iteration no)  68\n",
      "W intercept: [0.84449949 1.00388219 0.82327021 0.59339743 0.5766     0.54629799\n",
      " 0.33786246], B intercept: [0.14538728], Train loss: 0.04634, Test loss: 0.09200\n",
      "\n",
      "-- Epoch no(iteration no)  69\n",
      "W intercept: [0.84440024 1.00994051 0.83527546 0.58065597 0.57076624 0.53329941\n",
      " 0.34368356], B intercept: [0.14674042], Train loss: 0.04623, Test loss: 0.09189\n",
      "\n",
      "-- Epoch no(iteration no)  70\n",
      "W intercept: [0.84577452 1.0197816  0.83830429 0.58051211 0.56848484 0.53841164\n",
      " 0.3420957 ], B intercept: [0.1523756], Train loss: 0.04603, Test loss: 0.09197\n",
      "\n",
      "-- Epoch no(iteration no)  71\n",
      "W intercept: [0.84854044 1.02676306 0.84592511 0.58307664 0.56739678 0.54035767\n",
      " 0.34459452], B intercept: [0.15033987], Train loss: 0.04585, Test loss: 0.09188\n",
      "\n",
      "-- Epoch no(iteration no)  72\n",
      "W intercept: [0.85647786 1.02879963 0.85373078 0.58850342 0.56719299 0.55073276\n",
      " 0.34812448], B intercept: [0.15655129], Train loss: 0.04558, Test loss: 0.09191\n",
      "\n",
      "-- Epoch no(iteration no)  73\n",
      "W intercept: [0.85958769 1.03161583 0.8596365  0.59211947 0.56745248 0.54839217\n",
      " 0.35773905], B intercept: [0.15092793], Train loss: 0.04548, Test loss: 0.09173\n",
      "\n",
      "-- Epoch no(iteration no)  74\n",
      "W intercept: [0.86702314 1.04043121 0.85452773 0.59868414 0.56675123 0.55133318\n",
      " 0.3530533 ], B intercept: [0.16254958], Train loss: 0.04528, Test loss: 0.09191\n",
      "\n",
      "-- Epoch no(iteration no)  75\n",
      "W intercept: [0.87087537 1.03848873 0.86121747 0.59563713 0.56881723 0.54695787\n",
      " 0.34752161], B intercept: [0.15584637], Train loss: 0.04527, Test loss: 0.09177\n",
      "\n",
      "-- Epoch no(iteration no)  76\n",
      "W intercept: [0.873207   1.0449084  0.86476471 0.59961494 0.57012101 0.55223864\n",
      " 0.35071077], B intercept: [0.15847639], Train loss: 0.04509, Test loss: 0.09179\n"
     ]
    },
    {
     "name": "stderr",
     "output_type": "stream",
     "text": [
      "\r",
      " 55%|█████▍    | 82/150 [00:00<00:00, 145.90it/s]"
     ]
    },
    {
     "name": "stdout",
     "output_type": "stream",
     "text": [
      "\n",
      "-- Epoch no(iteration no)  77\n",
      "W intercept: [0.87733512 1.04946234 0.86556642 0.60346539 0.57405944 0.55537692\n",
      " 0.35125446], B intercept: [0.15876256], Train loss: 0.04497, Test loss: 0.09178\n",
      "\n",
      "-- Epoch no(iteration no)  78\n",
      "W intercept: [0.88135358 1.05616111 0.86753595 0.60308516 0.57568869 0.55661385\n",
      " 0.35724992], B intercept: [0.16056102], Train loss: 0.04482, Test loss: 0.09176\n",
      "\n",
      "-- Epoch no(iteration no)  79\n",
      "W intercept: [0.88634239 1.06321528 0.86940091 0.60605733 0.57918691 0.55953606\n",
      " 0.35835249], B intercept: [0.15948347], Train loss: 0.04467, Test loss: 0.09172\n",
      "\n",
      "-- Epoch no(iteration no)  80\n",
      "W intercept: [0.88884592 1.06072735 0.87557196 0.60622216 0.58813692 0.56766262\n",
      " 0.35701253], B intercept: [0.16785645], Train loss: 0.04453, Test loss: 0.09185\n",
      "\n",
      "-- Epoch no(iteration no)  81\n",
      "W intercept: [0.89622865 1.06477646 0.88013779 0.61244921 0.59194073 0.56714929\n",
      " 0.35253516], B intercept: [0.17775167], Train loss: 0.04432, Test loss: 0.09198\n",
      "\n",
      "-- Epoch no(iteration no)  82\n",
      "W intercept: [0.89680552 1.07244426 0.88149818 0.60898683 0.59431521 0.56244105\n",
      " 0.35269514], B intercept: [0.1837677], Train loss: 0.04420, Test loss: 0.09204\n",
      "\n",
      "-- Epoch no(iteration no)  83\n",
      "W intercept: [0.89403211 1.078732   0.89116    0.59713897 0.58629727 0.55140786\n",
      " 0.35533978], B intercept: [0.18355347], Train loss: 0.04414, Test loss: 0.09195\n"
     ]
    },
    {
     "name": "stderr",
     "output_type": "stream",
     "text": [
      "\r",
      " 65%|██████▍   | 97/150 [00:00<00:00, 144.60it/s]"
     ]
    },
    {
     "name": "stdout",
     "output_type": "stream",
     "text": [
      "\n",
      "-- Epoch no(iteration no)  84\n",
      "W intercept: [0.89510217 1.0842267  0.8945231  0.59773421 0.58641454 0.55418947\n",
      " 0.35434013], B intercept: [0.18751983], Train loss: 0.04402, Test loss: 0.09202\n",
      "\n",
      "-- Epoch no(iteration no)  85\n",
      "W intercept: [0.89769126 1.08868777 0.90356833 0.60021999 0.58363071 0.55648799\n",
      " 0.36089036], B intercept: [0.18860779], Train loss: 0.04386, Test loss: 0.09198\n",
      "\n",
      "-- Epoch no(iteration no)  86\n",
      "W intercept: [0.90478741 1.09228952 0.90762693 0.60498378 0.58551819 0.5655401\n",
      " 0.35966742], B intercept: [0.19165892], Train loss: 0.04369, Test loss: 0.09205\n",
      "\n",
      "-- Epoch no(iteration no)  87\n",
      "W intercept: [0.9082345  1.09230556 0.91349758 0.61261425 0.58299158 0.56411011\n",
      " 0.36759449], B intercept: [0.19022004], Train loss: 0.04360, Test loss: 0.09196\n",
      "\n",
      "-- Epoch no(iteration no)  88\n",
      "W intercept: [0.91642238 1.09341638 0.9051891  0.61088974 0.58099503 0.56642989\n",
      " 0.35538818], B intercept: [0.19203619], Train loss: 0.04361, Test loss: 0.09204\n",
      "\n",
      "-- Epoch no(iteration no)  89\n",
      "W intercept: [0.91730774 1.09923628 0.91685929 0.61017068 0.58406594 0.56015473\n",
      " 0.36094278], B intercept: [0.19228153], Train loss: 0.04345, Test loss: 0.09196\n",
      "\n",
      "-- Epoch no(iteration no)  90\n",
      "W intercept: [0.91912588 1.10586703 0.91673731 0.61480863 0.58738286 0.56530245\n",
      " 0.36137153], B intercept: [0.19357912], Train loss: 0.04334, Test loss: 0.09202\n",
      "\n",
      "-- Epoch no(iteration no)  91\n",
      "W intercept: [0.92267843 1.10913713 0.91752491 0.61752493 0.58975918 0.56828245\n",
      " 0.36205222], B intercept: [0.19334393], Train loss: 0.04326, Test loss: 0.09202\n",
      "\n",
      "-- Epoch no(iteration no)  92\n",
      "W intercept: [0.92692594 1.1169608  0.91828829 0.61658588 0.59167798 0.56953823\n",
      " 0.36720482], B intercept: [0.19611936], Train loss: 0.04313, Test loss: 0.09203\n",
      "\n",
      "-- Epoch no(iteration no)  93\n",
      "W intercept: [0.93115633 1.12137396 0.92191687 0.62011243 0.59412963 0.57184375\n",
      " 0.3690883 ], B intercept: [0.19524604], Train loss: 0.04302, Test loss: 0.09202\n",
      "\n",
      "-- Epoch no(iteration no)  94\n",
      "W intercept: [0.93382846 1.1194025  0.92584149 0.62112941 0.60408343 0.58061087\n",
      " 0.36654652], B intercept: [0.20160624], Train loss: 0.04292, Test loss: 0.09216\n",
      "\n",
      "-- Epoch no(iteration no)  95\n",
      "W intercept: [0.94020351 1.12250487 0.9297707  0.62603694 0.60675187 0.57979704\n",
      " 0.36229476], B intercept: [0.21063486], Train loss: 0.04276, Test loss: 0.09231\n",
      "\n",
      "-- Epoch no(iteration no)  96\n",
      "W intercept: [0.9393878  1.12878451 0.9309687  0.62191207 0.60831858 0.57422477\n",
      " 0.36234189], B intercept: [0.21744043], Train loss: 0.04268, Test loss: 0.09238\n",
      "\n",
      "-- Epoch no(iteration no)  97\n",
      "W intercept: [0.93376194 1.13462311 0.94212154 0.60558131 0.59621846 0.56147517\n",
      " 0.36238739], B intercept: [0.22304986], Train loss: 0.04262, Test loss: 0.09238\n",
      "\n",
      "-- Epoch no(iteration no)  98\n",
      "W intercept: [0.93807523 1.14028942 0.94457891 0.60904825 0.59822887 0.56574528\n",
      " 0.36478062], B intercept: [0.21921544], Train loss: 0.04252, Test loss: 0.09233\n",
      "\n",
      "-- Epoch no(iteration no)  99\n",
      "W intercept: [0.93967552 1.14296074 0.95438092 0.61152766 0.59441433 0.56684096\n",
      " 0.36824274], B intercept: [0.22602572], Train loss: 0.04238, Test loss: 0.09241\n",
      "\n",
      "-- Epoch no(iteration no)  100\n",
      "W intercept: [0.94474659 1.14474765 0.95512415 0.6162549  0.59555121 0.57490812\n",
      " 0.37531208], B intercept: [0.22943712], Train loss: 0.04227, Test loss: 0.09248\n",
      "\n",
      "-- Epoch no(iteration no)  101\n",
      "W intercept: [0.94956216 1.14589069 0.96158321 0.62445444 0.59596445 0.57419389\n",
      " 0.37658254], B intercept: [0.22383447], Train loss: 0.04220, Test loss: 0.09237\n",
      "\n",
      "-- Epoch no(iteration no)  102\n",
      "W intercept: [0.95683391 1.14796088 0.95229945 0.62112755 0.59479636 0.57556055\n",
      " 0.3637359 ], B intercept: [0.22668697], Train loss: 0.04221, Test loss: 0.09248\n",
      "\n",
      "-- Epoch no(iteration no)  103\n",
      "W intercept: [0.95661114 1.15379916 0.95977692 0.6226917  0.59664194 0.57305018\n",
      " 0.36853566], B intercept: [0.22764982], Train loss: 0.04210, Test loss: 0.09246\n",
      "\n",
      "-- Epoch no(iteration no)  104\n",
      "W intercept: [0.959328   1.15863553 0.96158173 0.62542192 0.59990673 0.57532801\n",
      " 0.3693712 ], B intercept: [0.22784053], Train loss: 0.04201, Test loss: 0.09248\n",
      "\n",
      "-- Epoch no(iteration no)  105\n",
      "W intercept: [0.96208887 1.16069627 0.96334323 0.6279102  0.60189374 0.57753004\n",
      " 0.37058212], B intercept: [0.22602049], Train loss: 0.04196, Test loss: 0.09246\n",
      "\n",
      "-- Epoch no(iteration no)  106\n",
      "W intercept: [0.96652109 1.16861914 0.96349101 0.62742507 0.60410584 0.57922193\n",
      " 0.37557016], B intercept: [0.22789173], Train loss: 0.04185, Test loss: 0.09249\n",
      "\n",
      "-- Epoch no(iteration no)  107\n",
      "W intercept: [0.96846053 1.17044772 0.97072146 0.62721965 0.6029794  0.58433194\n",
      " 0.37519909], B intercept: [0.23204563], Train loss: 0.04175, Test loss: 0.09258\n",
      "\n",
      "-- Epoch no(iteration no)  108\n",
      "W intercept: [0.97262254 1.1719682  0.97188258 0.63107816 0.61462204 0.58865229\n",
      " 0.3739122 ], B intercept: [0.23496887], Train loss: 0.04166, Test loss: 0.09267\n",
      "\n",
      "-- Epoch no(iteration no)  109\n",
      "W intercept: [0.97829189 1.17235012 0.97435634 0.63576994 0.61824392 0.58848162\n",
      " 0.3703189 ], B intercept: [0.24241792], Train loss: 0.04156, Test loss: 0.09281\n",
      "\n",
      "-- Epoch no(iteration no)  110\n",
      "W intercept: [0.97353075 1.17792724 0.97895125 0.63009424 0.61801797 0.57742519\n",
      " 0.36905464], B intercept: [0.25706511], Train loss: 0.04146, Test loss: 0.09299\n"
     ]
    },
    {
     "name": "stderr",
     "output_type": "stream",
     "text": [
      " 87%|████████▋ | 130/150 [00:00<00:00, 148.67it/s]"
     ]
    },
    {
     "name": "stdout",
     "output_type": "stream",
     "text": [
      "\n",
      "-- Epoch no(iteration no)  111\n",
      "W intercept: [0.97067684 1.18429784 0.98443083 0.61619056 0.60898293 0.57001784\n",
      " 0.36958584], B intercept: [0.25672252], Train loss: 0.04143, Test loss: 0.09292\n",
      "\n",
      "-- Epoch no(iteration no)  112\n",
      "W intercept: [0.97454636 1.18881583 0.98800541 0.61846299 0.60855493 0.57341864\n",
      " 0.37241456], B intercept: [0.25228015], Train loss: 0.04136, Test loss: 0.09286\n",
      "\n",
      "-- Epoch no(iteration no)  113\n",
      "W intercept: [0.97770207 1.18918814 0.99772429 0.6189261  0.60675484 0.57951891\n",
      " 0.37468349], B intercept: [0.25949172], Train loss: 0.04123, Test loss: 0.09299\n",
      "\n",
      "-- Epoch no(iteration no)  114\n",
      "W intercept: [0.98107665 1.19190846 0.99935897 0.62492804 0.60551705 0.57716839\n",
      " 0.38491049], B intercept: [0.25562592], Train loss: 0.04119, Test loss: 0.09287\n",
      "\n",
      "-- Epoch no(iteration no)  115\n",
      "W intercept: [0.98663703 1.19758358 0.99645946 0.63336278 0.60655251 0.57737539\n",
      " 0.38079228], B intercept: [0.26264791], Train loss: 0.04109, Test loss: 0.09304\n",
      "\n",
      "-- Epoch no(iteration no)  116\n",
      "W intercept: [0.99036022 1.19597071 1.0002249  0.62688307 0.60426341 0.575183\n",
      " 0.37414305], B intercept: [0.25416882], Train loss: 0.04112, Test loss: 0.09289\n",
      "\n",
      "-- Epoch no(iteration no)  117\n",
      "W intercept: [0.9917813  1.20034488 1.00095342 0.63066531 0.60742556 0.5802893\n",
      " 0.37615769], B intercept: [0.25866419], Train loss: 0.04104, Test loss: 0.09301\n",
      "\n",
      "-- Epoch no(iteration no)  118\n",
      "W intercept: [0.99416703 1.20397899 1.00234399 0.63301532 0.60963878 0.58189224\n",
      " 0.37614793], B intercept: [0.25907713], Train loss: 0.04098, Test loss: 0.09304\n",
      "\n",
      "-- Epoch no(iteration no)  119\n",
      "W intercept: [0.99688898 1.20587273 1.00499827 0.63514336 0.61196054 0.58382171\n",
      " 0.38203882], B intercept: [0.25801932], Train loss: 0.04093, Test loss: 0.09301\n",
      "\n",
      "-- Epoch no(iteration no)  120\n",
      "W intercept: [1.0010206  1.21404491 1.00450954 0.63492019 0.61353189 0.58532948\n",
      " 0.38192293], B intercept: [0.25936657], Train loss: 0.04084, Test loss: 0.09307\n",
      "\n",
      "-- Epoch no(iteration no)  121\n",
      "W intercept: [1.00299233 1.21136723 1.00854841 0.63477907 0.62135532 0.59294274\n",
      " 0.3800397 ], B intercept: [0.26725264], Train loss: 0.04077, Test loss: 0.09325\n",
      "\n",
      "-- Epoch no(iteration no)  122\n",
      "W intercept: [1.00788413 1.2172192  1.01186289 0.63844188 0.62450476 0.59500865\n",
      " 0.38032508], B intercept: [0.26521407], Train loss: 0.04068, Test loss: 0.09326\n",
      "\n",
      "-- Epoch no(iteration no)  123\n",
      "W intercept: [1.00632476 1.21737558 1.01145452 0.63811737 0.6271604  0.58718949\n",
      " 0.37381983], B intercept: [0.27970068], Train loss: 0.04063, Test loss: 0.09348\n",
      "\n",
      "-- Epoch no(iteration no)  124\n",
      "W intercept: [1.00447853 1.22128379 1.02052812 0.6256334  0.6210413  0.5733132\n",
      " 0.37823094], B intercept: [0.28013432], Train loss: 0.04058, Test loss: 0.09335\n",
      "\n",
      "-- Epoch no(iteration no)  125\n",
      "W intercept: [1.00435501 1.22845938 1.02307567 0.62429114 0.61802793 0.57681689\n",
      " 0.37635853], B intercept: [0.2852269], Train loss: 0.04049, Test loss: 0.09349\n",
      "\n",
      "-- Epoch no(iteration no)  126\n",
      "W intercept: [1.00655    1.23299976 1.02815608 0.62557556 0.61680935 0.57818065\n",
      " 0.37813379], B intercept: [0.28296321], Train loss: 0.04043, Test loss: 0.09346\n",
      "\n",
      "-- Epoch no(iteration no)  127\n",
      "W intercept: [1.01201293 1.23248161 1.03558351 0.62912583 0.61521185 0.58566537\n",
      " 0.38030744], B intercept: [0.28987513], Train loss: 0.04031, Test loss: 0.09362\n",
      "\n",
      "-- Epoch no(iteration no)  128\n",
      "W intercept: [1.01390971 1.23468868 1.03820273 0.63241666 0.61545667 0.58329505\n",
      " 0.39038497], B intercept: [0.28344865], Train loss: 0.04029, Test loss: 0.09346\n",
      "\n",
      "-- Epoch no(iteration no)  129\n",
      "W intercept: [1.01960107 1.24187026 1.03256688 0.63829108 0.61457445 0.58515122\n",
      " 0.38600521], B intercept: [0.29404917], Train loss: 0.04020, Test loss: 0.09371\n",
      "\n",
      "-- Epoch no(iteration no)  130\n",
      "W intercept: [1.02160831 1.23801194 1.03755348 0.63249399 0.61344636 0.58028536\n",
      " 0.38022607], B intercept: [0.28464724], Train loss: 0.04024, Test loss: 0.09351\n",
      "\n",
      "-- Epoch no(iteration no)  131\n",
      "W intercept: [1.02350092 1.2420285  1.03892438 0.6370948  0.61550868 0.58488947\n",
      " 0.38173252], B intercept: [0.28799948], Train loss: 0.04017, Test loss: 0.09362\n",
      "\n",
      "-- Epoch no(iteration no)  132\n",
      "W intercept: [1.02612979 1.24529066 1.03926361 0.63948341 0.61814796 0.58688176\n",
      " 0.38202586], B intercept: [0.28792086], Train loss: 0.04013, Test loss: 0.09365\n",
      "\n",
      "-- Epoch no(iteration no)  133\n",
      "W intercept: [1.02906835 1.24998596 1.04015173 0.63895193 0.61879454 0.58766451\n",
      " 0.38626897], B intercept: [0.28988191], Train loss: 0.04007, Test loss: 0.09368\n",
      "\n",
      "-- Epoch no(iteration no)  134\n",
      "W intercept: [1.03266588 1.25481903 1.04107215 0.64130287 0.62134822 0.59002251\n",
      " 0.3872033 ], B intercept: [0.28836842], Train loss: 0.04002, Test loss: 0.09369\n",
      "\n",
      "-- Epoch no(iteration no)  135\n",
      "W intercept: [1.03369475 1.25129177 1.04505913 0.64029651 0.6291573  0.59715918\n",
      " 0.38527284], B intercept: [0.29625857], Train loss: 0.03996, Test loss: 0.09388\n",
      "\n",
      "-- Epoch no(iteration no)  136\n",
      "W intercept: [1.0394599  1.25250253 1.04834538 0.64603175 0.63225088 0.59655192\n",
      " 0.38133212], B intercept: [0.30407724], Train loss: 0.03987, Test loss: 0.09406\n",
      "\n",
      "-- Epoch no(iteration no)  137\n",
      "W intercept: [1.03812438 1.25854054 1.04818596 0.64228714 0.63408861 0.59115777\n",
      " 0.38040368], B intercept: [0.31012103], Train loss: 0.03981, Test loss: 0.09414\n",
      "\n",
      "-- Epoch no(iteration no)  138\n",
      "W intercept: [1.03484937 1.2630535  1.05615486 0.63022879 0.62632989 0.57915599\n",
      " 0.38274697], B intercept: [0.30925391], Train loss: 0.03978, Test loss: 0.09401\n",
      "\n",
      "-- Epoch no(iteration no)  139\n",
      "W intercept: [1.03454831 1.26705106 1.05882219 0.62970513 0.62543448 0.58092016\n",
      " 0.3815241 ], B intercept: [0.3132206], Train loss: 0.03972, Test loss: 0.09411\n",
      "\n",
      "-- Epoch no(iteration no)  140\n",
      "W intercept: [1.03661906 1.26967571 1.06547042 0.63105493 0.6227356  0.58284269\n",
      " 0.38694795], B intercept: [0.31356537], Train loss: 0.03965, Test loss: 0.09412\n",
      "\n",
      "-- Epoch no(iteration no)  141\n",
      "W intercept: [1.04218253 1.27190117 1.06804016 0.63492724 0.62432281 0.59061363\n",
      " 0.38589525], B intercept: [0.31613144], Train loss: 0.03958, Test loss: 0.09424\n",
      "\n",
      "-- Epoch no(iteration no)  142\n",
      "W intercept: [1.04370201 1.27119464 1.07313467 0.64176046 0.62106282 0.58835597\n",
      " 0.3941134 ], B intercept: [0.31419029], Train loss: 0.03955, Test loss: 0.09417\n",
      "\n",
      "-- Epoch no(iteration no)  143\n",
      "W intercept: [1.05105615 1.27008185 1.06430078 0.63955387 0.61849388 0.59004653\n",
      " 0.38128631], B intercept: [0.31540882], Train loss: 0.03958, Test loss: 0.09424\n",
      "\n",
      "-- Epoch no(iteration no)  144\n",
      "W intercept: [1.05118164 1.27441453 1.07385691 0.63833298 0.62090331 0.58342029\n",
      " 0.38631276], B intercept: [0.3143165], Train loss: 0.03950, Test loss: 0.09418\n",
      "\n",
      "-- Epoch no(iteration no)  145\n",
      "W intercept: [1.05231983 1.27940295 1.07276676 0.6419434  0.62313051 0.58787314\n",
      " 0.38627168], B intercept: [0.31600156], Train loss: 0.03946, Test loss: 0.09427\n"
     ]
    },
    {
     "name": "stderr",
     "output_type": "stream",
     "text": [
      "100%|██████████| 150/150 [00:01<00:00, 138.45it/s]"
     ]
    },
    {
     "name": "stdout",
     "output_type": "stream",
     "text": [
      "\n",
      "-- Epoch no(iteration no)  146\n",
      "W intercept: [1.05487927 1.28183033 1.07313431 0.64388187 0.62482351 0.59004592\n",
      " 0.38675433], B intercept: [0.31571834], Train loss: 0.03943, Test loss: 0.09430\n",
      "\n",
      "-- Epoch no(iteration no)  147\n",
      "W intercept: [1.0581558  1.28789964 1.07339551 0.64315967 0.62614107 0.59100154\n",
      " 0.39065269], B intercept: [0.31758863], Train loss: 0.03937, Test loss: 0.09434\n",
      "\n",
      "-- Epoch no(iteration no)  148\n",
      "W intercept: [1.0609184  1.29089108 1.07559975 0.64560305 0.62789322 0.59288894\n",
      " 0.39208523], B intercept: [0.31641079], Train loss: 0.03933, Test loss: 0.09435\n",
      "\n",
      "-- Epoch no(iteration no)  149\n",
      "W intercept: [1.06283817 1.28779556 1.07856588 0.64579366 0.63694237 0.60077581\n",
      " 0.38919291], B intercept: [0.32274733], Train loss: 0.03928, Test loss: 0.09454\n",
      "\n",
      "-- Epoch no(iteration no)  150\n",
      "W intercept: [1.06807425 1.28931381 1.08128655 0.65045782 0.63934887 0.59988325\n",
      " 0.38538468], B intercept: [0.33052688], Train loss: 0.03920, Test loss: 0.09472\n"
     ]
    },
    {
     "name": "stderr",
     "output_type": "stream",
     "text": [
      "\n"
     ]
    }
   ],
   "source": [
    "## importing self made SGD classifier as Classifier 1 \n",
    "import Sgd_classifier as classfier_1\n",
    "alpha=0.01\n",
    "t_rate=0.0075\n",
    "N=len(x_train)\n",
    "epochs=150\n",
    "w,b,loss_train,loss_test=classfier_1.train_classifier(x_train,y_train,x_test,y_test,epochs,alpha,t_rate)"
   ]
  },
  {
   "cell_type": "markdown",
   "metadata": {
    "id": "PNjgLcYRYcIm"
   },
   "source": [
    "<h4>2.1.2 Coding Approach</h4>\n",
    "We send our train data, test data, with learning rate and regularization rate to our classifier. The classifier uses Stochastic gradient descent and updates the weights and bais over the epochs. With each epoch we aim to reduce our loss, when we reach a point where the loss is similar to the loss that was in previous epoch we return then updated weights and bais. These weights and bais that are returned are optimal for making predictions."
   ]
  },
  {
   "cell_type": "markdown",
   "metadata": {
    "id": "ndwbS6ZqaLr3"
   },
   "source": [
    "<h3>2.2 SVM with RBF kernel </h3>"
   ]
  },
  {
   "cell_type": "markdown",
   "metadata": {
    "id": "H-Qtsx6LaTN7"
   },
   "source": [
    "<h4>2.2.1 Function Call</h4>"
   ]
  },
  {
   "cell_type": "code",
   "execution_count": 25,
   "metadata": {},
   "outputs": [],
   "source": [
    "import Svm_classifier as classfier_2\n",
    "\n",
    "a1=classfier_2.SVM(kernel='rbf', C=1.0, max_iter=10, gamma=0.001)\n",
    "a1.fit(x_train, y_train)"
   ]
  },
  {
   "cell_type": "markdown",
   "metadata": {
    "id": "FUu-87k2aXIR"
   },
   "source": [
    "<h4>2.2.2 Coding Approach</h4>\n",
    "\n",
    "<!----> Will be going over the coding how it is done and stuff"
   ]
  },
  {
   "cell_type": "markdown",
   "metadata": {
    "id": "swzuVJ19S1Jr"
   },
   "source": [
    "<h2><center>3. Model Accuracy</center></h2>\n",
    "<em>\n",
    "Here we are going to talk about the model accuracies by using test and train loss graphs, in addition to Confussion Matrix and some ROC curves\n",
    "</em>"
   ]
  },
  {
   "cell_type": "markdown",
   "metadata": {
    "id": "qPy611dMa8Bu"
   },
   "source": [
    "<h3>3.1 Model 1 SGD Classifier with Log Loss</h3>\n"
   ]
  },
  {
   "cell_type": "markdown",
   "metadata": {
    "id": "rI7qXtftah1a"
   },
   "source": [
    "<h4>3.1.1 Prediction accuracies</h4>"
   ]
  },
  {
   "cell_type": "code",
   "execution_count": 24,
   "metadata": {
    "colab": {
     "base_uri": "https://localhost:8080/"
    },
    "id": "057fGPgc6x3_",
    "outputId": "c841cc8b-3706-45a5-886f-2b89fe684824",
    "scrolled": false
   },
   "outputs": [
    {
     "name": "stdout",
     "output_type": "stream",
     "text": [
      "Train_Accuracy : 0.97093\n",
      "Test_Accuracy  : 0.94783\n"
     ]
    }
   ],
   "source": [
    "y_train_pred = classfier_1.predict(w,b,x_train)\n",
    "y_test_pred = classfier_1.predict(w,b,x_test)\n",
    "\n",
    "y_train=y_train.reshape(y_train_pred.shape)\n",
    "print('Train_Accuracy : {:.5f}'.format((y_train ==  y_train_pred).sum() / len(x_train)))\n",
    "y_test=y_test.reshape(y_test_pred.shape)\n",
    "print('Test_Accuracy  : {:.5f}'.format((y_test ==  y_test_pred).sum() / len(x_test)))"
   ]
  },
  {
   "cell_type": "markdown",
   "metadata": {
    "id": "7pAXgaM_bjzs"
   },
   "source": [
    "<h4>3.1.2 Test and Train Loss over Epochs</h4>\n",
    "We will plot graph against the number of epochs with respect to the test and train loss. This will give us insight whehter our code is performing gradient descent in a correct manner."
   ]
  },
  {
   "cell_type": "code",
   "execution_count": 26,
   "metadata": {
    "id": "1gK7yssz073T",
    "scrolled": true
   },
   "outputs": [
    {
     "name": "stdout",
     "output_type": "stream",
     "text": [
      "==============================================================================================================\n"
     ]
    },
    {
     "data": {
      "image/png": "[encoded data removed]",
      "text/plain": [
       "<Figure size 1080x504 with 1 Axes>"
      ]
     },
     "metadata": {},
     "output_type": "display_data"
    }
   ],
   "source": [
    "epochs = np.arange(1, epochs+1, 1)\n",
    "plt.figure(figsize=(15, 7))\n",
    "plt.plot(epochs,loss_train, label='Train Loss', c = 'blue')\n",
    "plt.plot(epochs,loss_test, label='Test Loss',c = 'red')\n",
    "plt.title('Epoch vs Train,Test Loss')\n",
    "plt.xlabel(\"Epochs\")\n",
    "plt.ylabel('Loss')\n",
    "plt.legend()\n",
    "print(110*'=')\n"
   ]
  },
  {
   "cell_type": "markdown",
   "metadata": {
    "id": "qcN8YgFwb0gH"
   },
   "source": [
    "<h4>3.1.3 Confusion Matrix </h4>\n",
    "The AUC score with True Positive Rate and False Positive Rate of the model is mentioned here"
   ]
  },
  {
   "cell_type": "code",
   "execution_count": 27,
   "metadata": {
    "id": "dwjOiXQsTjjO",
    "scrolled": false
   },
   "outputs": [
    {
     "name": "stdout",
     "output_type": "stream",
     "text": [
      "Confusion Matrix\n",
      " [[56  6]\n",
      " [ 0 53]]\n",
      "False Positive Rate :   0.097\n",
      "True Positive Rate  :   1.000\n",
      "Area Under Curve (AUC): 0.948\n"
     ]
    }
   ],
   "source": [
    "#from sklearn.metrics import confusion_matrix\n",
    "import confusion_matrix as cm\n",
    "cm,fpr,recall = cm.confusion_matrix(y_test, y_test_pred)\n",
    "# Accuracy is\n",
    "AUC_score = (cm[0][0] + cm[1][1])/(cm[0][1]+cm[1][0]+cm[0][0] + cm[1][1])\n",
    "print('Confusion Matrix\\n',cm)\n",
    "print('False Positive Rate :   {:.3f}'.format(fpr))\n",
    "print('True Positive Rate  :   {:.3f}'.format(recall))\n",
    "print('Area Under Curve (AUC): {:.3f}'.format(AUC_score))"
   ]
  },
  {
   "cell_type": "markdown",
   "metadata": {},
   "source": [
    "<h3> 3.2 Model 2 SVM with RBF Kernel</h3>"
   ]
  },
  {
   "cell_type": "markdown",
   "metadata": {},
   "source": [
    "<h4>3.2.1 Prediction accuracies</h4>"
   ]
  },
  {
   "cell_type": "code",
   "execution_count": 28,
   "metadata": {},
   "outputs": [
    {
     "name": "stdout",
     "output_type": "stream",
     "text": [
      "Train_Accuracy : 1.0\n",
      "Test_Accuracy  : 0.93913\n"
     ]
    }
   ],
   "source": [
    "y_train_pred_svm = a1.predict(x_train)\n",
    "y_test_pred_svm= a1.predict(x_test)\n",
    "print('Train_Accuracy : {:.1f}'.format((y_train ==  y_train_pred_svm).sum() / len(x_train)))\n",
    "print('Test_Accuracy  : {:.5f}'.format((y_test ==  y_test_pred_svm).sum() / len(x_test)))\n"
   ]
  },
  {
   "cell_type": "markdown",
   "metadata": {},
   "source": [
    "<h4>3.2.2 </h4>\n",
    "<!--->Some grpah here ALP <--->"
   ]
  },
  {
   "cell_type": "code",
   "execution_count": null,
   "metadata": {},
   "outputs": [],
   "source": []
  },
  {
   "cell_type": "markdown",
   "metadata": {},
   "source": [
    "<h4>3.2.3 Confusion Matrix </h4> \n",
    "The AUC score with True Positive Rate and False Positive Rate of the model is mentioned here"
   ]
  },
  {
   "cell_type": "code",
   "execution_count": null,
   "metadata": {},
   "outputs": [],
   "source": [
    "import confusion_matrix as cm\n",
    "cm,fpr,recall = cm.confusion_matrix(y_test, y_fit)\n",
    "# Accuracy is\n",
    "AUC_score = (cm[0][0] + cm[1][1])/(cm[0][1]+cm[1][0]+cm[0][0] + cm[1][1])\n",
    "print('Confusion Matrix\\n',cm)\n",
    "print('False Positive Rate :   {:.3f}'.format(fpr))\n",
    "print('True Positive Rate  :   {:.3f}'.format(recall))\n",
    "print('Area Under Curve (AUC): {:.3f}'.format(AUC_score))"
   ]
  },
  {
   "cell_type": "markdown",
   "metadata": {
    "id": "XW2Czt08hhqg"
   },
   "source": [
    "<h2><center>Conclusions</center></h2>\n",
    "We were given a task to implement a model that will help classify between M/B(still have to refine these lines).\n",
    "To do this we first normalize and clean the data so that we can get maximum efficiency in our classification model.\n",
    "Then we implement the models that we created using python scripts and make a call back to then in our main IPython notebook.\n",
    "<br> </br>\n",
    "<p>\n",
    "<em>\n",
    "The following are the results obtained for the repesctive implemnted models :-\n",
    "</p>\n",
    "</em>\n",
    "<em>    \n",
    "\n",
    "<br><h4>1. Stochastic Gradient Descent Classifier </h4>\n",
    "<em>\n",
    "    <ol>\n",
    "    <li></li>\n",
    "    <li></li>\n",
    "    <li></li>\n",
    "    </ol>\n",
    "</em>\n",
    "</br>\n",
    "<br><h4>2. Support Vector Machine </h4>\n",
    "<em>\n",
    "    <ol>\n",
    "    <li></li>\n",
    "    <li></li>\n",
    "    <li></li>\n",
    "    </ol>\n",
    "</em>\n",
    "</br>\n",
    "</em>\n",
    "<h2><center>Code's Shortcomings</center></h2>\n",
    "This code works on assumption that #Gradient descents fault... \n",
    "<em>\n",
    "&emsp;<li>Very High Accuracy (Overfitting?) but still high precission and recall? Why?</li>\n",
    "<li>Really Low Data Points </li>\n",
    "<!---> Some shortcommings about the SVMs stuff? What assumptions we make with the SVM stuff?\n"
   ]
  },
  {
   "cell_type": "markdown",
   "metadata": {
    "id": "_tB9iqYfg-NA"
   },
   "source": [
    "<h2><center>References</center></h2>\n"
   ]
  },
  {
   "cell_type": "markdown",
   "metadata": {},
   "source": []
  }
 ],
 "metadata": {
  "colab": {
   "collapsed_sections": [],
   "name": "Main_Code.ipynb",
   "provenance": []
  },
  "kernelspec": {
   "display_name": "Python 3",
   "language": "python",
   "name": "python3"
  },
  "language_info": {
   "codemirror_mode": {
    "name": "ipython",
    "version": 3
   },
   "file_extension": ".py",
   "mimetype": "text/x-python",
   "name": "python",
   "nbconvert_exporter": "python",
   "pygments_lexer": "ipython3",
   "version": "3.8.8"
  }
 },
 "nbformat": 4,
 "nbformat_minor": 1
}
