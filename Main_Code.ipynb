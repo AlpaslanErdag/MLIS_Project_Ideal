{
 "cells": [
  {
   "cell_type": "markdown",
   "metadata": {
    "colab_type": "text",
    "id": "view-in-github"
   },
   "source": [
    "<a href=\"https://colab.research.google.com/github/Anshuman-37/MLIS_Project_Ideal/blob/main/Main_Code.ipynb\" target=\"_parent\"><img src=\"https://colab.research.google.com/assets/colab-badge.svg\" alt=\"Open In Colab\"/></a>"
   ]
  },
  {
   "cell_type": "code",
   "execution_count": 1,
   "metadata": {
    "id": "e6rrsFyi4Bd9"
   },
   "outputs": [],
   "source": [
    "# This is the main jupyter notebook for the coursework of MLIS \n",
    "## Grp 1A \n",
    "## Authors\n",
    "## Alpaslan Erdag , Anshuman Singh , Yixin Fan\n",
    "## Date - 15/01/2022"
   ]
  },
  {
   "cell_type": "markdown",
   "metadata": {
    "id": "G-IY5zC537OU"
   },
   "source": [
    "# <center> Abstract </center>\n",
    "​\n",
    " Todo - Write some abstract about the data giving some information about\n",
    " \n",
    " The data is obtanined from UCI repository which can be obtained from the [here](https://archive.ics.uci.edu/ml/datasets/breast+cancer+wisconsin+%28original%29)\n",
    "\n"
   ]
  },
  {
   "cell_type": "code",
   "execution_count": 2,
   "metadata": {
    "colab": {
<<<<<<< HEAD
     "base_uri": "https://localhost:8080/"
=======
      "name": "Main_Code.ipynb",
      "provenance": [],
      "collapsed_sections": [],
      "authorship_tag": "ABX9TyMjnAbfBLomCttAtB0ax1Ed",
      "include_colab_link": true
    },
    "kernelspec": {
      "name": "python3",
      "display_name": "Python 3"
>>>>>>> 1fdae7ab27c8fdc4322ee72fe30f24c5a20d354b
    },
    "id": "3boaTk7A4FrC",
    "outputId": "9fba8893-0760-4c23-b766-15c1148d77ee"
   },
   "outputs": [
    {
     "name": "stdout",
     "output_type": "stream",
     "text": [
      "Citation Request:\n",
      "   This breast cancer databases was obtained from the University of Wisconsin\n",
      "   Hospitals, Madison from Dr. William H. Wolberg.  If you publish results\n",
      "   when using this database, then please include this information in your\n",
      "   acknowledgements.  Also, please cite one or more of:\n",
      "\n",
      "   1. O. L. Mangasarian and W. H. Wolberg: \"Cancer diagnosis via linear \n",
      "      programming\", SIAM News, Volume 23, Number 5, September 1990, pp 1 & 18.\n",
      "\n",
      "   2. William H. Wolberg and O.L. Mangasarian: \"Multisurface method of \n",
      "      pattern separation for medical diagnosis applied to breast cytology\", \n",
      "      Proceedings of the National Academy of Sciences, U.S.A., Volume 87, \n",
      "      December 1990, pp 9193-9196.\n",
      "\n",
      "   3. O. L. Mangasarian, R. Setiono, and W.H. Wolberg: \"Pattern recognition \n",
      "      via linear programming: Theory and application to medical diagnosis\", \n",
      "      in: \"Large-scale numerical optimization\", Thomas F. Coleman and Yuying\n",
      "      Li, editors, SIAM Publications, Philadelphia 1990, pp 22-30.\n",
      "\n",
      "   4. K. P. Bennett & O. L. Mangasarian: \"Robust linear programming \n",
      "      discrimination of two linearly inseparable sets\", Optimization Methods\n",
      "      and Software 1, 1992, 23-34 (Gordon & Breach Science Publishers).\n",
      "\n",
      "1. Title: Wisconsin Breast Cancer Database (January 8, 1991)\n",
      "\n",
      "2. Sources:\n",
      "   -- Dr. WIlliam H. Wolberg (physician)\n",
      "      University of Wisconsin Hospitals\n",
      "      Madison, Wisconsin\n",
      "      USA\n",
      "   -- Donor: Olvi Mangasarian (mangasarian@cs.wisc.edu)\n",
      "      Received by David W. Aha (aha@cs.jhu.edu)\n",
      "   -- Date: 15 July 1992\n",
      "\n",
      "3. Past Usage:\n",
      "\n",
      "   Attributes 2 through 10 have been used to represent instances.\n",
      "   Each instance has one of 2 possible classes: benign or malignant.\n",
      "\n",
      "   1. Wolberg,~W.~H., \\& Mangasarian,~O.~L. (1990). Multisurface method of \n",
      "      pattern separation for medical diagnosis applied to breast cytology. In\n",
      "      {\\it Proceedings of the National Academy of Sciences}, {\\it 87},\n",
      "      9193--9196.\n",
      "      -- Size of data set: only 369 instances (at that point in time)\n",
      "      -- Collected classification results: 1 trial only\n",
      "      -- Two pairs of parallel hyperplanes were found to be consistent with\n",
      "         50% of the data\n",
      "         -- Accuracy on remaining 50% of dataset: 93.5%\n",
      "      -- Three pairs of parallel hyperplanes were found to be consistent with\n",
      "         67% of data\n",
      "         -- Accuracy on remaining 33% of dataset: 95.9%\n",
      "\n",
      "   2. Zhang,~J. (1992). Selecting typical instances in instance-based\n",
      "      learning.  In {\\it Proceedings of the Ninth International Machine\n",
      "      Learning Conference} (pp. 470--479).  Aberdeen, Scotland: Morgan\n",
      "      Kaufmann.\n",
      "      -- Size of data set: only 369 instances (at that point in time)\n",
      "      -- Applied 4 instance-based learning algorithms \n",
      "      -- Collected classification results averaged over 10 trials\n",
      "      -- Best accuracy result: \n",
      "         -- 1-nearest neighbor: 93.7%\n",
      "         -- trained on 200 instances, tested on the other 169\n",
      "      -- Also of interest:\n",
      "         -- Using only typical instances: 92.2% (storing only 23.1 instances)\n",
      "         -- trained on 200 instances, tested on the other 169\n",
      "\n",
      "4. Relevant Information:\n",
      "\n",
      "   Samples arrive periodically as Dr. Wolberg reports his clinical cases.\n",
      "   The database therefore reflects this chronological grouping of the data.\n",
      "   This grouping information appears immediately below, having been removed\n",
      "   from the data itself:\n",
      "\n",
      "     Group 1: 367 instances (January 1989)\n",
      "     Group 2:  70 instances (October 1989)\n",
      "     Group 3:  31 instances (February 1990)\n",
      "     Group 4:  17 instances (April 1990)\n",
      "     Group 5:  48 instances (August 1990)\n",
      "     Group 6:  49 instances (Updated January 1991)\n",
      "     Group 7:  31 instances (June 1991)\n",
      "     Group 8:  86 instances (November 1991)\n",
      "     -----------------------------------------\n",
      "     Total:   699 points (as of the donated datbase on 15 July 1992)\n",
      "\n",
      "   Note that the results summarized above in Past Usage refer to a dataset\n",
      "   of size 369, while Group 1 has only 367 instances.  This is because it\n",
      "   originally contained 369 instances; 2 were removed.  The following\n",
      "   statements summarizes changes to the original Group 1's set of data:\n",
      "\n",
      "   #####  Group 1 : 367 points: 200B 167M (January 1989)\n",
      "   #####  Revised Jan 10, 1991: Replaced zero bare nuclei in 1080185 & 1187805\n",
      "   #####  Revised Nov 22,1991: Removed 765878,4,5,9,7,10,10,10,3,8,1 no record\n",
      "   #####                  : Removed 484201,2,7,8,8,4,3,10,3,4,1 zero epithelial\n",
      "   #####                  : Changed 0 to 1 in field 6 of sample 1219406\n",
      "   #####                  : Changed 0 to 1 in field 8 of following sample:\n",
      "   #####                  : 1182404,2,3,1,1,1,2,0,1,1,1\n",
      "\n",
      "5. Number of Instances: 699 (as of 15 July 1992)\n",
      "\n",
      "6. Number of Attributes: 10 plus the class attribute\n",
      "\n",
      "7. Attribute Information: (class attribute has been moved to last column)\n",
      "\n",
      "   #  Attribute                     Domain\n",
      "   -- -----------------------------------------\n",
      "   1. Sample code number            id number\n",
      "   2. Clump Thickness               1 - 10\n",
      "   3. Uniformity of Cell Size       1 - 10\n",
      "   4. Uniformity of Cell Shape      1 - 10\n",
      "   5. Marginal Adhesion             1 - 10\n",
      "   6. Single Epithelial Cell Size   1 - 10\n",
      "   7. Bare Nuclei                   1 - 10\n",
      "   8. Bland Chromatin               1 - 10\n",
      "   9. Normal Nucleoli               1 - 10\n",
      "  10. Mitoses                       1 - 10\n",
      "  11. Class:                        (2 for benign, 4 for malignant)\n",
      "\n",
      "8. Missing attribute values: 16\n",
      "\n",
      "   There are 16 instances in Groups 1 to 6 that contain a single missing \n",
      "   (i.e., unavailable) attribute value, now denoted by \"?\".  \n",
      "\n",
      "9. Class distribution:\n",
      " \n",
      "   Benign: 458 (65.5%)\n",
      "   Malignant: 241 (34.5%)\n",
      "\n"
     ]
    }
   ],
   "source": [
    "# Also should we show this ? tell me your thoughts\n",
    "# about_data ='/Users/anshuman/Desktop/Project_Folder/MLIS_Project_Ideal/breast-cancer-wisconsin.names'\n",
    "about_data = '/Users/anshuman/Desktop/Project_Folder/MLIS_Project_Ideal/breast-cancer-wisconsin.names'\n",
    "with open(about_data) as f:\n",
    "    print(f.read())"
   ]
  },
<<<<<<< HEAD
  {
   "cell_type": "markdown",
   "metadata": {
    "id": "ZN6gh3N24R-W"
   },
   "source": [
    "<h1><center>About code (Suggest a good heading)</center></h1>\n",
    "\n",
    "<h2><em>The code is divided in the following modules/parts/chapters?</h2>\n",
    "<ol>\n",
    "<li> <h4> Data Cleaning and Data Preprocessing </h4></li> \n",
    "<li> <h4>Model Fiting on the clean data </h4></li> \n",
    "<li> <h4>Model Accuracy </h4></li>\n",
    "</ol>\n",
    "</em>"
   ]
  },
  {
   "cell_type": "markdown",
   "metadata": {
    "id": "0TONMQnQ4SDg"
   },
   "source": [
    "<h2><center>1. Data Cleaning and Data Preprocessing</center></h2>\n",
    "\n",
    "<p>To get a good result over model accuracies we are going to first clean the data and then used the cleaned and preprocessed data to train a model. </p>\n",
    "\n",
    "<p> We will be using a systematic approach to clean our data. That will be listed in the following steps</p>\n",
    "<em>\n",
    "&emsp; <li>Data Visulaization</li>\n",
    "&emsp; <li>Checking and Removing nan values</li>\n",
    "&emsp; <li>Removing Useless Attributes</li>\n",
    "&emsp; <li>Deleting Outliers and Data Normalizations</li>\n",
    "</em>"
   ]
  },
  {
   "cell_type": "markdown",
   "metadata": {
    "id": "-daRoybV4SJI"
   },
   "source": [
    "<h3>1.1 Data Visualization </h3>"
   ]
  },
  {
   "cell_type": "code",
   "execution_count": 3,
   "metadata": {
    "id": "sK9S6Bky4RlC"
   },
   "outputs": [],
   "source": [
    "## Header Files \n",
    "import pandas as pd\n",
    "import numpy as np\n",
    "import warnings\n",
    "warnings.filterwarnings('ignore')\n",
    "import matplotlib.pyplot as plt\n",
    "import seaborn as sns\n",
    "plt.style.use('ggplot')\n",
    "import scipy\n",
    "\n",
    "## Loading Data \n",
    "#data = '/Users/anshuman/Desktop/Project_Folder/MLIS_Project_Ideal/breast-cancer-wisconsin.data'\n",
    "#data = '/content/breast-cancer-wisconsin.data'\n",
    "data = '/Users/anshuman/Desktop/Project_Folder/MLIS_Project_Ideal/breast-cancer-wisconsin.data'"
   ]
  },
  {
   "cell_type": "code",
   "execution_count": 4,
   "metadata": {
    "id": "xL5c7NTs4omD"
   },
   "outputs": [
=======
  "cells": [
    {
      "cell_type": "markdown",
      "metadata": {
        "id": "view-in-github",
        "colab_type": "text"
      },
      "source": [
        "<a href=\"https://colab.research.google.com/github/Anshuman-37/MLIS_Project_Ideal/blob/main/Main_Code.ipynb\" target=\"_parent\"><img src=\"https://colab.research.google.com/assets/colab-badge.svg\" alt=\"Open In Colab\"/></a>"
      ]
    },
    {
      "cell_type": "code",
      "source": [
        "# This is the main jupyter notebook for the coursework of MLIS \n",
        "## Grp 1A \n",
        "## Authors\n",
        "## Alpaslan Erdag , Anshuman Singh , Yixin Fan\n",
        "## Date - 15/01/2022"
      ],
      "metadata": {
        "id": "e6rrsFyi4Bd9"
      },
      "execution_count": 1,
      "outputs": []
    },
    {
      "cell_type": "markdown",
      "source": [
        "<h1> <center> Abstract </center> </h1>\n",
        "​<em>\n",
        "\n",
        "Todo - Write some abstract about the data giving some information about.\n",
        "\n",
        "The data is obtanined from UCI repository which can be obtained from the [here](https://archive.ics.uci.edu/ml/datasets/breast+cancer+wisconsin+%28original%29)\n",
        "</em>"
      ],
      "metadata": {
        "id": "G-IY5zC537OU"
      }
    },
>>>>>>> 1fdae7ab27c8fdc4322ee72fe30f24c5a20d354b
    {
     "data": {
      "text/html": [
       "<div>\n",
       "<style scoped>\n",
       "    .dataframe tbody tr th:only-of-type {\n",
       "        vertical-align: middle;\n",
       "    }\n",
       "\n",
       "    .dataframe tbody tr th {\n",
       "        vertical-align: top;\n",
       "    }\n",
       "\n",
       "    .dataframe thead th {\n",
       "        text-align: right;\n",
       "    }\n",
       "</style>\n",
       "<table border=\"1\" class=\"dataframe\">\n",
       "  <thead>\n",
       "    <tr style=\"text-align: right;\">\n",
       "      <th></th>\n",
       "      <th>Samplecodenumber</th>\n",
       "      <th>ClumpThickness</th>\n",
       "      <th>UniformityofCellSize</th>\n",
       "      <th>UniformityofCellShape</th>\n",
       "      <th>MarginalAdhesion</th>\n",
       "      <th>SingleEpithelialCellSize</th>\n",
       "      <th>BareNuclei</th>\n",
       "      <th>BlandChromatin</th>\n",
       "      <th>NormalNucleoli</th>\n",
       "      <th>Mitoses</th>\n",
       "      <th>Class</th>\n",
       "    </tr>\n",
       "  </thead>\n",
       "  <tbody>\n",
       "    <tr>\n",
       "      <th>0</th>\n",
       "      <td>1000025</td>\n",
       "      <td>5</td>\n",
       "      <td>1</td>\n",
       "      <td>1</td>\n",
       "      <td>1</td>\n",
       "      <td>2</td>\n",
       "      <td>1</td>\n",
       "      <td>3</td>\n",
       "      <td>1</td>\n",
       "      <td>1</td>\n",
       "      <td>2</td>\n",
       "    </tr>\n",
       "    <tr>\n",
       "      <th>1</th>\n",
       "      <td>1002945</td>\n",
       "      <td>5</td>\n",
       "      <td>4</td>\n",
       "      <td>4</td>\n",
       "      <td>5</td>\n",
       "      <td>7</td>\n",
       "      <td>10</td>\n",
       "      <td>3</td>\n",
       "      <td>2</td>\n",
       "      <td>1</td>\n",
       "      <td>2</td>\n",
       "    </tr>\n",
       "    <tr>\n",
       "      <th>2</th>\n",
       "      <td>1015425</td>\n",
       "      <td>3</td>\n",
       "      <td>1</td>\n",
       "      <td>1</td>\n",
       "      <td>1</td>\n",
       "      <td>2</td>\n",
       "      <td>2</td>\n",
       "      <td>3</td>\n",
       "      <td>1</td>\n",
       "      <td>1</td>\n",
       "      <td>2</td>\n",
       "    </tr>\n",
       "    <tr>\n",
       "      <th>3</th>\n",
       "      <td>1016277</td>\n",
       "      <td>6</td>\n",
       "      <td>8</td>\n",
       "      <td>8</td>\n",
       "      <td>1</td>\n",
       "      <td>3</td>\n",
       "      <td>4</td>\n",
       "      <td>3</td>\n",
       "      <td>7</td>\n",
       "      <td>1</td>\n",
       "      <td>2</td>\n",
       "    </tr>\n",
       "    <tr>\n",
       "      <th>4</th>\n",
       "      <td>1017023</td>\n",
       "      <td>4</td>\n",
       "      <td>1</td>\n",
       "      <td>1</td>\n",
       "      <td>3</td>\n",
       "      <td>2</td>\n",
       "      <td>1</td>\n",
       "      <td>3</td>\n",
       "      <td>1</td>\n",
       "      <td>1</td>\n",
       "      <td>2</td>\n",
       "    </tr>\n",
       "  </tbody>\n",
       "</table>\n",
       "</div>"
      ],
<<<<<<< HEAD
      "text/plain": [
       "   Samplecodenumber  ClumpThickness  UniformityofCellSize  \\\n",
       "0           1000025               5                     1   \n",
       "1           1002945               5                     4   \n",
       "2           1015425               3                     1   \n",
       "3           1016277               6                     8   \n",
       "4           1017023               4                     1   \n",
       "\n",
       "   UniformityofCellShape  MarginalAdhesion  SingleEpithelialCellSize  \\\n",
       "0                      1                 1                         2   \n",
       "1                      4                 5                         7   \n",
       "2                      1                 1                         2   \n",
       "3                      8                 1                         3   \n",
       "4                      1                 3                         2   \n",
       "\n",
       "  BareNuclei  BlandChromatin  NormalNucleoli  Mitoses  Class  \n",
       "0          1               3               1        1      2  \n",
       "1         10               3               2        1      2  \n",
       "2          2               3               1        1      2  \n",
       "3          4               3               7        1      2  \n",
       "4          1               3               1        1      2  "
      ]
     },
     "execution_count": 4,
     "metadata": {},
     "output_type": "execute_result"
    }
   ],
   "source": [
    "col_name = ['Samplecodenumber','ClumpThickness','UniformityofCellSize','UniformityofCellShape',\n",
    "            'MarginalAdhesion','SingleEpithelialCellSize','BareNuclei',\n",
    "            'BlandChromatin','NormalNucleoli','Mitoses','Class']\n",
    "cancerdata = pd.read_csv(data,low_memory=False,names=col_name)\n",
    "cancerdata.head()"
   ]
  },
  {
   "cell_type": "code",
   "execution_count": 5,
   "metadata": {
    "id": "oOGBeeDS4opZ"
   },
   "outputs": [],
   "source": [
    "## Removing attribute that is of no use\n",
    "cancerdata = cancerdata.drop(['Samplecodenumber'], 1)"
   ]
  },
  {
   "cell_type": "code",
   "execution_count": 6,
   "metadata": {
    "id": "nV7-qayy4orv"
   },
   "outputs": [
    {
     "data": {
      "text/plain": [
       "2    458\n",
       "4    241\n",
       "Name: Class, dtype: int64"
      ]
     },
     "execution_count": 6,
     "metadata": {},
     "output_type": "execute_result"
    }
   ],
   "source": [
    "# The number of samples present by class count\n",
    "cancerdata['Class'].value_counts()"
   ]
  },
  {
   "cell_type": "code",
   "execution_count": 7,
   "metadata": {
    "id": "iY_4Kw5F4ous"
   },
   "outputs": [
=======
      "metadata": {
        "colab": {
          "base_uri": "https://localhost:8080/"
        },
        "id": "3boaTk7A4FrC",
        "outputId": "762b371d-9a11-4e4d-e508-4356577888ff"
      },
      "execution_count": 2,
      "outputs": [
        {
          "output_type": "stream",
          "name": "stdout",
          "text": [
            "Citation Request:\n",
            "   This breast cancer databases was obtained from the University of Wisconsin\n",
            "   Hospitals, Madison from Dr. William H. Wolberg.  If you publish results\n",
            "   when using this database, then please include this information in your\n",
            "   acknowledgements.  Also, please cite one or more of:\n",
            "\n",
            "   1. O. L. Mangasarian and W. H. Wolberg: \"Cancer diagnosis via linear \n",
            "      programming\", SIAM News, Volume 23, Number 5, September 1990, pp 1 & 18.\n",
            "\n",
            "   2. William H. Wolberg and O.L. Mangasarian: \"Multisurface method of \n",
            "      pattern separation for medical diagnosis applied to breast cytology\", \n",
            "      Proceedings of the National Academy of Sciences, U.S.A., Volume 87, \n",
            "      December 1990, pp 9193-9196.\n",
            "\n",
            "   3. O. L. Mangasarian, R. Setiono, and W.H. Wolberg: \"Pattern recognition \n",
            "      via linear programming: Theory and application to medical diagnosis\", \n",
            "      in: \"Large-scale numerical optimization\", Thomas F. Coleman and Yuying\n",
            "      Li, editors, SIAM Publications, Philadelphia 1990, pp 22-30.\n",
            "\n",
            "   4. K. P. Bennett & O. L. Mangasarian: \"Robust linear programming \n",
            "      discrimination of two linearly inseparable sets\", Optimization Methods\n",
            "      and Software 1, 1992, 23-34 (Gordon & Breach Science Publishers).\n",
            "\n",
            "1. Title: Wisconsin Breast Cancer Database (January 8, 1991)\n",
            "\n",
            "2. Sources:\n",
            "   -- Dr. WIlliam H. Wolberg (physician)\n",
            "      University of Wisconsin Hospitals\n",
            "      Madison, Wisconsin\n",
            "      USA\n",
            "   -- Donor: Olvi Mangasarian (mangasarian@cs.wisc.edu)\n",
            "      Received by David W. Aha (aha@cs.jhu.edu)\n",
            "   -- Date: 15 July 1992\n",
            "\n",
            "3. Past Usage:\n",
            "\n",
            "   Attributes 2 through 10 have been used to represent instances.\n",
            "   Each instance has one of 2 possible classes: benign or malignant.\n",
            "\n",
            "   1. Wolberg,~W.~H., \\& Mangasarian,~O.~L. (1990). Multisurface method of \n",
            "      pattern separation for medical diagnosis applied to breast cytology. In\n",
            "      {\\it Proceedings of the National Academy of Sciences}, {\\it 87},\n",
            "      9193--9196.\n",
            "      -- Size of data set: only 369 instances (at that point in time)\n",
            "      -- Collected classification results: 1 trial only\n",
            "      -- Two pairs of parallel hyperplanes were found to be consistent with\n",
            "         50% of the data\n",
            "         -- Accuracy on remaining 50% of dataset: 93.5%\n",
            "      -- Three pairs of parallel hyperplanes were found to be consistent with\n",
            "         67% of data\n",
            "         -- Accuracy on remaining 33% of dataset: 95.9%\n",
            "\n",
            "   2. Zhang,~J. (1992). Selecting typical instances in instance-based\n",
            "      learning.  In {\\it Proceedings of the Ninth International Machine\n",
            "      Learning Conference} (pp. 470--479).  Aberdeen, Scotland: Morgan\n",
            "      Kaufmann.\n",
            "      -- Size of data set: only 369 instances (at that point in time)\n",
            "      -- Applied 4 instance-based learning algorithms \n",
            "      -- Collected classification results averaged over 10 trials\n",
            "      -- Best accuracy result: \n",
            "         -- 1-nearest neighbor: 93.7%\n",
            "         -- trained on 200 instances, tested on the other 169\n",
            "      -- Also of interest:\n",
            "         -- Using only typical instances: 92.2% (storing only 23.1 instances)\n",
            "         -- trained on 200 instances, tested on the other 169\n",
            "\n",
            "4. Relevant Information:\n",
            "\n",
            "   Samples arrive periodically as Dr. Wolberg reports his clinical cases.\n",
            "   The database therefore reflects this chronological grouping of the data.\n",
            "   This grouping information appears immediately below, having been removed\n",
            "   from the data itself:\n",
            "\n",
            "     Group 1: 367 instances (January 1989)\n",
            "     Group 2:  70 instances (October 1989)\n",
            "     Group 3:  31 instances (February 1990)\n",
            "     Group 4:  17 instances (April 1990)\n",
            "     Group 5:  48 instances (August 1990)\n",
            "     Group 6:  49 instances (Updated January 1991)\n",
            "     Group 7:  31 instances (June 1991)\n",
            "     Group 8:  86 instances (November 1991)\n",
            "     -----------------------------------------\n",
            "     Total:   699 points (as of the donated datbase on 15 July 1992)\n",
            "\n",
            "   Note that the results summarized above in Past Usage refer to a dataset\n",
            "   of size 369, while Group 1 has only 367 instances.  This is because it\n",
            "   originally contained 369 instances; 2 were removed.  The following\n",
            "   statements summarizes changes to the original Group 1's set of data:\n",
            "\n",
            "   #####  Group 1 : 367 points: 200B 167M (January 1989)\n",
            "   #####  Revised Jan 10, 1991: Replaced zero bare nuclei in 1080185 & 1187805\n",
            "   #####  Revised Nov 22,1991: Removed 765878,4,5,9,7,10,10,10,3,8,1 no record\n",
            "   #####                  : Removed 484201,2,7,8,8,4,3,10,3,4,1 zero epithelial\n",
            "   #####                  : Changed 0 to 1 in field 6 of sample 1219406\n",
            "   #####                  : Changed 0 to 1 in field 8 of following sample:\n",
            "   #####                  : 1182404,2,3,1,1,1,2,0,1,1,1\n",
            "\n",
            "5. Number of Instances: 699 (as of 15 July 1992)\n",
            "\n",
            "6. Number of Attributes: 10 plus the class attribute\n",
            "\n",
            "7. Attribute Information: (class attribute has been moved to last column)\n",
            "\n",
            "   #  Attribute                     Domain\n",
            "   -- -----------------------------------------\n",
            "   1. Sample code number            id number\n",
            "   2. Clump Thickness               1 - 10\n",
            "   3. Uniformity of Cell Size       1 - 10\n",
            "   4. Uniformity of Cell Shape      1 - 10\n",
            "   5. Marginal Adhesion             1 - 10\n",
            "   6. Single Epithelial Cell Size   1 - 10\n",
            "   7. Bare Nuclei                   1 - 10\n",
            "   8. Bland Chromatin               1 - 10\n",
            "   9. Normal Nucleoli               1 - 10\n",
            "  10. Mitoses                       1 - 10\n",
            "  11. Class:                        (2 for benign, 4 for malignant)\n",
            "\n",
            "8. Missing attribute values: 16\n",
            "\n",
            "   There are 16 instances in Groups 1 to 6 that contain a single missing \n",
            "   (i.e., unavailable) attribute value, now denoted by \"?\".  \n",
            "\n",
            "9. Class distribution:\n",
            " \n",
            "   Benign: 458 (65.5%)\n",
            "   Malignant: 241 (34.5%)\n",
            "\n"
          ]
        }
      ]
    },
    {
      "cell_type": "markdown",
      "source": [
        "<h1><center>About code (Suggest a good heading)</center></h1>\n",
        "\n",
        "<h2><em>The code is divided in the following modules/parts/chapters?</h2>\n",
        "<ol>\n",
        "<li> <h4> Data Cleaning and Data Preprocessing </h4></li> \n",
        "<li> <h4>Model Fiting on the clean data </h4></li> \n",
        "<li> <h4>Model Accuracy </h4></li>\n",
        "</ol>\n",
        "</em>"
      ],
      "metadata": {
        "id": "ZN6gh3N24R-W"
      }
    },
    {
      "cell_type": "markdown",
      "source": [
        "<h2><center>1. Data Cleaning and Data Preprocessing</center></h2>\n",
        "\n",
        "<p>To get a good result over model accuracies we are going to first clean the data and then used the cleaned and preprocessed data to train a model. </p>\n",
        "\n",
        "<p> We will be using a systematic approach to clean our data. That will be listed in the following steps</p>\n",
        "<em>\n",
        "&emsp; <li>Data Visulaization</li>\n",
        "&emsp; <li>Checking and Removing nan values</li>\n",
        "&emsp; <li>Removing Useless Attributes</li>\n",
        "&emsp; <li>Deleting Outliers and Data Normalizations</li>\n",
        "</em>"
      ],
      "metadata": {
        "id": "0TONMQnQ4SDg"
      }
    },
    {
      "cell_type": "markdown",
      "source": [
        "<h3>1.1 Data Visualization </h3>"
      ],
      "metadata": {
        "id": "-daRoybV4SJI"
      }
    },
    {
      "cell_type": "markdown",
      "source": [
        "<h4>1.1.1 Code </h4>"
      ],
      "metadata": {
        "id": "dRQhoFvkfl-R"
      }
    },
    {
      "cell_type": "code",
      "source": [
        "## Header Files \n",
        "import pandas as pd\n",
        "import numpy as np\n",
        "import warnings\n",
        "warnings.filterwarnings('ignore')\n",
        "import matplotlib.pyplot as plt\n",
        "import seaborn as sns\n",
        "plt.style.use('ggplot')\n",
        "import scipy\n",
        "\n",
        "## Loading Data \n",
        "#data = '/Users/anshuman/Desktop/Project_Folder/MLIS_Project_Ideal/breast-cancer-wisconsin.data'\n",
        "data = '/content/breast-cancer-wisconsin.data'"
      ],
      "metadata": {
        "id": "sK9S6Bky4RlC"
      },
      "execution_count": 3,
      "outputs": []
    },
    {
      "cell_type": "code",
      "source": [
        "col_name = ['Samplecodenumber','ClumpThickness','UniformityofCellSize','UniformityofCellShape',\n",
        "            'MarginalAdhesion','SingleEpithelialCellSize','BareNuclei',\n",
        "            'BlandChromatin','NormalNucleoli','Mitoses','Class']\n",
        "cancerdata = pd.read_csv(data,low_memory=False,names=col_name)\n",
        "cancerdata.head()"
      ],
      "metadata": {
        "colab": {
          "base_uri": "https://localhost:8080/",
          "height": 270
        },
        "id": "xL5c7NTs4omD",
        "outputId": "b8d0b987-bee4-43f6-a50f-2289fa3f4420"
      },
      "execution_count": 4,
      "outputs": [
        {
          "output_type": "execute_result",
          "data": {
            "text/html": [
              "\n",
              "  <div id=\"df-94ec7399-030d-48b2-bfda-4464022f7faa\">\n",
              "    <div class=\"colab-df-container\">\n",
              "      <div>\n",
              "<style scoped>\n",
              "    .dataframe tbody tr th:only-of-type {\n",
              "        vertical-align: middle;\n",
              "    }\n",
              "\n",
              "    .dataframe tbody tr th {\n",
              "        vertical-align: top;\n",
              "    }\n",
              "\n",
              "    .dataframe thead th {\n",
              "        text-align: right;\n",
              "    }\n",
              "</style>\n",
              "<table border=\"1\" class=\"dataframe\">\n",
              "  <thead>\n",
              "    <tr style=\"text-align: right;\">\n",
              "      <th></th>\n",
              "      <th>Samplecodenumber</th>\n",
              "      <th>ClumpThickness</th>\n",
              "      <th>UniformityofCellSize</th>\n",
              "      <th>UniformityofCellShape</th>\n",
              "      <th>MarginalAdhesion</th>\n",
              "      <th>SingleEpithelialCellSize</th>\n",
              "      <th>BareNuclei</th>\n",
              "      <th>BlandChromatin</th>\n",
              "      <th>NormalNucleoli</th>\n",
              "      <th>Mitoses</th>\n",
              "      <th>Class</th>\n",
              "    </tr>\n",
              "  </thead>\n",
              "  <tbody>\n",
              "    <tr>\n",
              "      <th>0</th>\n",
              "      <td>1000025</td>\n",
              "      <td>5</td>\n",
              "      <td>1</td>\n",
              "      <td>1</td>\n",
              "      <td>1</td>\n",
              "      <td>2</td>\n",
              "      <td>1</td>\n",
              "      <td>3</td>\n",
              "      <td>1</td>\n",
              "      <td>1</td>\n",
              "      <td>2</td>\n",
              "    </tr>\n",
              "    <tr>\n",
              "      <th>1</th>\n",
              "      <td>1002945</td>\n",
              "      <td>5</td>\n",
              "      <td>4</td>\n",
              "      <td>4</td>\n",
              "      <td>5</td>\n",
              "      <td>7</td>\n",
              "      <td>10</td>\n",
              "      <td>3</td>\n",
              "      <td>2</td>\n",
              "      <td>1</td>\n",
              "      <td>2</td>\n",
              "    </tr>\n",
              "    <tr>\n",
              "      <th>2</th>\n",
              "      <td>1015425</td>\n",
              "      <td>3</td>\n",
              "      <td>1</td>\n",
              "      <td>1</td>\n",
              "      <td>1</td>\n",
              "      <td>2</td>\n",
              "      <td>2</td>\n",
              "      <td>3</td>\n",
              "      <td>1</td>\n",
              "      <td>1</td>\n",
              "      <td>2</td>\n",
              "    </tr>\n",
              "    <tr>\n",
              "      <th>3</th>\n",
              "      <td>1016277</td>\n",
              "      <td>6</td>\n",
              "      <td>8</td>\n",
              "      <td>8</td>\n",
              "      <td>1</td>\n",
              "      <td>3</td>\n",
              "      <td>4</td>\n",
              "      <td>3</td>\n",
              "      <td>7</td>\n",
              "      <td>1</td>\n",
              "      <td>2</td>\n",
              "    </tr>\n",
              "    <tr>\n",
              "      <th>4</th>\n",
              "      <td>1017023</td>\n",
              "      <td>4</td>\n",
              "      <td>1</td>\n",
              "      <td>1</td>\n",
              "      <td>3</td>\n",
              "      <td>2</td>\n",
              "      <td>1</td>\n",
              "      <td>3</td>\n",
              "      <td>1</td>\n",
              "      <td>1</td>\n",
              "      <td>2</td>\n",
              "    </tr>\n",
              "  </tbody>\n",
              "</table>\n",
              "</div>\n",
              "      <button class=\"colab-df-convert\" onclick=\"convertToInteractive('df-94ec7399-030d-48b2-bfda-4464022f7faa')\"\n",
              "              title=\"Convert this dataframe to an interactive table.\"\n",
              "              style=\"display:none;\">\n",
              "        \n",
              "  <svg xmlns=\"http://www.w3.org/2000/svg\" height=\"24px\"viewBox=\"0 0 24 24\"\n",
              "       width=\"24px\">\n",
              "    <path d=\"M0 0h24v24H0V0z\" fill=\"none\"/>\n",
              "    <path d=\"M18.56 5.44l.94 2.06.94-2.06 2.06-.94-2.06-.94-.94-2.06-.94 2.06-2.06.94zm-11 1L8.5 8.5l.94-2.06 2.06-.94-2.06-.94L8.5 2.5l-.94 2.06-2.06.94zm10 10l.94 2.06.94-2.06 2.06-.94-2.06-.94-.94-2.06-.94 2.06-2.06.94z\"/><path d=\"M17.41 7.96l-1.37-1.37c-.4-.4-.92-.59-1.43-.59-.52 0-1.04.2-1.43.59L10.3 9.45l-7.72 7.72c-.78.78-.78 2.05 0 2.83L4 21.41c.39.39.9.59 1.41.59.51 0 1.02-.2 1.41-.59l7.78-7.78 2.81-2.81c.8-.78.8-2.07 0-2.86zM5.41 20L4 18.59l7.72-7.72 1.47 1.35L5.41 20z\"/>\n",
              "  </svg>\n",
              "      </button>\n",
              "      \n",
              "  <style>\n",
              "    .colab-df-container {\n",
              "      display:flex;\n",
              "      flex-wrap:wrap;\n",
              "      gap: 12px;\n",
              "    }\n",
              "\n",
              "    .colab-df-convert {\n",
              "      background-color: #E8F0FE;\n",
              "      border: none;\n",
              "      border-radius: 50%;\n",
              "      cursor: pointer;\n",
              "      display: none;\n",
              "      fill: #1967D2;\n",
              "      height: 32px;\n",
              "      padding: 0 0 0 0;\n",
              "      width: 32px;\n",
              "    }\n",
              "\n",
              "    .colab-df-convert:hover {\n",
              "      background-color: #E2EBFA;\n",
              "      box-shadow: 0px 1px 2px rgba(60, 64, 67, 0.3), 0px 1px 3px 1px rgba(60, 64, 67, 0.15);\n",
              "      fill: #174EA6;\n",
              "    }\n",
              "\n",
              "    [theme=dark] .colab-df-convert {\n",
              "      background-color: #3B4455;\n",
              "      fill: #D2E3FC;\n",
              "    }\n",
              "\n",
              "    [theme=dark] .colab-df-convert:hover {\n",
              "      background-color: #434B5C;\n",
              "      box-shadow: 0px 1px 3px 1px rgba(0, 0, 0, 0.15);\n",
              "      filter: drop-shadow(0px 1px 2px rgba(0, 0, 0, 0.3));\n",
              "      fill: #FFFFFF;\n",
              "    }\n",
              "  </style>\n",
              "\n",
              "      <script>\n",
              "        const buttonEl =\n",
              "          document.querySelector('#df-94ec7399-030d-48b2-bfda-4464022f7faa button.colab-df-convert');\n",
              "        buttonEl.style.display =\n",
              "          google.colab.kernel.accessAllowed ? 'block' : 'none';\n",
              "\n",
              "        async function convertToInteractive(key) {\n",
              "          const element = document.querySelector('#df-94ec7399-030d-48b2-bfda-4464022f7faa');\n",
              "          const dataTable =\n",
              "            await google.colab.kernel.invokeFunction('convertToInteractive',\n",
              "                                                     [key], {});\n",
              "          if (!dataTable) return;\n",
              "\n",
              "          const docLinkHtml = 'Like what you see? Visit the ' +\n",
              "            '<a target=\"_blank\" href=https://colab.research.google.com/notebooks/data_table.ipynb>data table notebook</a>'\n",
              "            + ' to learn more about interactive tables.';\n",
              "          element.innerHTML = '';\n",
              "          dataTable['output_type'] = 'display_data';\n",
              "          await google.colab.output.renderOutput(dataTable, element);\n",
              "          const docLink = document.createElement('div');\n",
              "          docLink.innerHTML = docLinkHtml;\n",
              "          element.appendChild(docLink);\n",
              "        }\n",
              "      </script>\n",
              "    </div>\n",
              "  </div>\n",
              "  "
            ],
            "text/plain": [
              "   Samplecodenumber  ClumpThickness  ...  Mitoses  Class\n",
              "0           1000025               5  ...        1      2\n",
              "1           1002945               5  ...        1      2\n",
              "2           1015425               3  ...        1      2\n",
              "3           1016277               6  ...        1      2\n",
              "4           1017023               4  ...        1      2\n",
              "\n",
              "[5 rows x 11 columns]"
            ]
          },
          "metadata": {},
          "execution_count": 4
        }
      ]
    },
    {
      "cell_type": "code",
      "source": [
        "## Removing attribute that is of no use\n",
        "cancerdata = cancerdata.drop(['Samplecodenumber'], 1)"
      ],
      "metadata": {
        "id": "oOGBeeDS4opZ"
      },
      "execution_count": 5,
      "outputs": []
    },
    {
      "cell_type": "code",
      "source": [
        "# The number of samples present by class count\n",
        "cancerdata['Class'].value_counts()"
      ],
      "metadata": {
        "colab": {
          "base_uri": "https://localhost:8080/"
        },
        "id": "nV7-qayy4orv",
        "outputId": "8d3f71a9-01c1-4cea-f247-ec52ef0d2bcd"
      },
      "execution_count": 6,
      "outputs": [
        {
          "output_type": "execute_result",
          "data": {
            "text/plain": [
              "2    458\n",
              "4    241\n",
              "Name: Class, dtype: int64"
            ]
          },
          "metadata": {},
          "execution_count": 6
        }
      ]
    },
    {
      "cell_type": "code",
      "source": [
        "# Making the class counts to similar size\n",
        "Benign = cancerdata[(cancerdata.Class == 2) ].sample(240).index\n",
        "Malignant = cancerdata[(cancerdata.Class == 4) ].sample(240).index\n",
        "cancer = cancerdata.loc[Benign|Malignant]\n",
        "cancer = cancer.reset_index(drop=True)\n",
        "\n",
        "# Making the classess from 2/4 to 0/1 \n",
        "cancer['classes'] = cancer.Class.map({2:0,4:1})\n",
        "cancer = cancer.drop(['Class'], 1)\n",
        "\n",
        "# Printing the updated dataframe\n",
        "cancer.head()"
      ],
      "metadata": {
        "colab": {
          "base_uri": "https://localhost:8080/",
          "height": 270
        },
        "id": "iY_4Kw5F4ous",
        "outputId": "59bf7950-9dc4-4c5d-f002-14c2aae95745"
      },
      "execution_count": 7,
      "outputs": [
        {
          "output_type": "execute_result",
          "data": {
            "text/html": [
              "\n",
              "  <div id=\"df-dbdcfaee-8b91-4ee3-b276-e05e1bb268e5\">\n",
              "    <div class=\"colab-df-container\">\n",
              "      <div>\n",
              "<style scoped>\n",
              "    .dataframe tbody tr th:only-of-type {\n",
              "        vertical-align: middle;\n",
              "    }\n",
              "\n",
              "    .dataframe tbody tr th {\n",
              "        vertical-align: top;\n",
              "    }\n",
              "\n",
              "    .dataframe thead th {\n",
              "        text-align: right;\n",
              "    }\n",
              "</style>\n",
              "<table border=\"1\" class=\"dataframe\">\n",
              "  <thead>\n",
              "    <tr style=\"text-align: right;\">\n",
              "      <th></th>\n",
              "      <th>ClumpThickness</th>\n",
              "      <th>UniformityofCellSize</th>\n",
              "      <th>UniformityofCellShape</th>\n",
              "      <th>MarginalAdhesion</th>\n",
              "      <th>SingleEpithelialCellSize</th>\n",
              "      <th>BareNuclei</th>\n",
              "      <th>BlandChromatin</th>\n",
              "      <th>NormalNucleoli</th>\n",
              "      <th>Mitoses</th>\n",
              "      <th>classes</th>\n",
              "    </tr>\n",
              "  </thead>\n",
              "  <tbody>\n",
              "    <tr>\n",
              "      <th>0</th>\n",
              "      <td>5</td>\n",
              "      <td>1</td>\n",
              "      <td>1</td>\n",
              "      <td>1</td>\n",
              "      <td>2</td>\n",
              "      <td>1</td>\n",
              "      <td>3</td>\n",
              "      <td>1</td>\n",
              "      <td>1</td>\n",
              "      <td>0</td>\n",
              "    </tr>\n",
              "    <tr>\n",
              "      <th>1</th>\n",
              "      <td>5</td>\n",
              "      <td>4</td>\n",
              "      <td>4</td>\n",
              "      <td>5</td>\n",
              "      <td>7</td>\n",
              "      <td>10</td>\n",
              "      <td>3</td>\n",
              "      <td>2</td>\n",
              "      <td>1</td>\n",
              "      <td>0</td>\n",
              "    </tr>\n",
              "    <tr>\n",
              "      <th>2</th>\n",
              "      <td>3</td>\n",
              "      <td>1</td>\n",
              "      <td>1</td>\n",
              "      <td>1</td>\n",
              "      <td>2</td>\n",
              "      <td>2</td>\n",
              "      <td>3</td>\n",
              "      <td>1</td>\n",
              "      <td>1</td>\n",
              "      <td>0</td>\n",
              "    </tr>\n",
              "    <tr>\n",
              "      <th>3</th>\n",
              "      <td>4</td>\n",
              "      <td>1</td>\n",
              "      <td>1</td>\n",
              "      <td>3</td>\n",
              "      <td>2</td>\n",
              "      <td>1</td>\n",
              "      <td>3</td>\n",
              "      <td>1</td>\n",
              "      <td>1</td>\n",
              "      <td>0</td>\n",
              "    </tr>\n",
              "    <tr>\n",
              "      <th>4</th>\n",
              "      <td>8</td>\n",
              "      <td>10</td>\n",
              "      <td>10</td>\n",
              "      <td>8</td>\n",
              "      <td>7</td>\n",
              "      <td>10</td>\n",
              "      <td>9</td>\n",
              "      <td>7</td>\n",
              "      <td>1</td>\n",
              "      <td>1</td>\n",
              "    </tr>\n",
              "  </tbody>\n",
              "</table>\n",
              "</div>\n",
              "      <button class=\"colab-df-convert\" onclick=\"convertToInteractive('df-dbdcfaee-8b91-4ee3-b276-e05e1bb268e5')\"\n",
              "              title=\"Convert this dataframe to an interactive table.\"\n",
              "              style=\"display:none;\">\n",
              "        \n",
              "  <svg xmlns=\"http://www.w3.org/2000/svg\" height=\"24px\"viewBox=\"0 0 24 24\"\n",
              "       width=\"24px\">\n",
              "    <path d=\"M0 0h24v24H0V0z\" fill=\"none\"/>\n",
              "    <path d=\"M18.56 5.44l.94 2.06.94-2.06 2.06-.94-2.06-.94-.94-2.06-.94 2.06-2.06.94zm-11 1L8.5 8.5l.94-2.06 2.06-.94-2.06-.94L8.5 2.5l-.94 2.06-2.06.94zm10 10l.94 2.06.94-2.06 2.06-.94-2.06-.94-.94-2.06-.94 2.06-2.06.94z\"/><path d=\"M17.41 7.96l-1.37-1.37c-.4-.4-.92-.59-1.43-.59-.52 0-1.04.2-1.43.59L10.3 9.45l-7.72 7.72c-.78.78-.78 2.05 0 2.83L4 21.41c.39.39.9.59 1.41.59.51 0 1.02-.2 1.41-.59l7.78-7.78 2.81-2.81c.8-.78.8-2.07 0-2.86zM5.41 20L4 18.59l7.72-7.72 1.47 1.35L5.41 20z\"/>\n",
              "  </svg>\n",
              "      </button>\n",
              "      \n",
              "  <style>\n",
              "    .colab-df-container {\n",
              "      display:flex;\n",
              "      flex-wrap:wrap;\n",
              "      gap: 12px;\n",
              "    }\n",
              "\n",
              "    .colab-df-convert {\n",
              "      background-color: #E8F0FE;\n",
              "      border: none;\n",
              "      border-radius: 50%;\n",
              "      cursor: pointer;\n",
              "      display: none;\n",
              "      fill: #1967D2;\n",
              "      height: 32px;\n",
              "      padding: 0 0 0 0;\n",
              "      width: 32px;\n",
              "    }\n",
              "\n",
              "    .colab-df-convert:hover {\n",
              "      background-color: #E2EBFA;\n",
              "      box-shadow: 0px 1px 2px rgba(60, 64, 67, 0.3), 0px 1px 3px 1px rgba(60, 64, 67, 0.15);\n",
              "      fill: #174EA6;\n",
              "    }\n",
              "\n",
              "    [theme=dark] .colab-df-convert {\n",
              "      background-color: #3B4455;\n",
              "      fill: #D2E3FC;\n",
              "    }\n",
              "\n",
              "    [theme=dark] .colab-df-convert:hover {\n",
              "      background-color: #434B5C;\n",
              "      box-shadow: 0px 1px 3px 1px rgba(0, 0, 0, 0.15);\n",
              "      filter: drop-shadow(0px 1px 2px rgba(0, 0, 0, 0.3));\n",
              "      fill: #FFFFFF;\n",
              "    }\n",
              "  </style>\n",
              "\n",
              "      <script>\n",
              "        const buttonEl =\n",
              "          document.querySelector('#df-dbdcfaee-8b91-4ee3-b276-e05e1bb268e5 button.colab-df-convert');\n",
              "        buttonEl.style.display =\n",
              "          google.colab.kernel.accessAllowed ? 'block' : 'none';\n",
              "\n",
              "        async function convertToInteractive(key) {\n",
              "          const element = document.querySelector('#df-dbdcfaee-8b91-4ee3-b276-e05e1bb268e5');\n",
              "          const dataTable =\n",
              "            await google.colab.kernel.invokeFunction('convertToInteractive',\n",
              "                                                     [key], {});\n",
              "          if (!dataTable) return;\n",
              "\n",
              "          const docLinkHtml = 'Like what you see? Visit the ' +\n",
              "            '<a target=\"_blank\" href=https://colab.research.google.com/notebooks/data_table.ipynb>data table notebook</a>'\n",
              "            + ' to learn more about interactive tables.';\n",
              "          element.innerHTML = '';\n",
              "          dataTable['output_type'] = 'display_data';\n",
              "          await google.colab.output.renderOutput(dataTable, element);\n",
              "          const docLink = document.createElement('div');\n",
              "          docLink.innerHTML = docLinkHtml;\n",
              "          element.appendChild(docLink);\n",
              "        }\n",
              "      </script>\n",
              "    </div>\n",
              "  </div>\n",
              "  "
            ],
            "text/plain": [
              "   ClumpThickness  UniformityofCellSize  ...  Mitoses  classes\n",
              "0               5                     1  ...        1        0\n",
              "1               5                     4  ...        1        0\n",
              "2               3                     1  ...        1        0\n",
              "3               4                     1  ...        1        0\n",
              "4               8                    10  ...        1        1\n",
              "\n",
              "[5 rows x 10 columns]"
            ]
          },
          "metadata": {},
          "execution_count": 7
        }
      ]
    },
    {
      "cell_type": "code",
      "source": [
        "# Confirming that counts of the classes are similar \n",
        "cancer['classes'].value_counts()\n"
      ],
      "metadata": {
        "colab": {
          "base_uri": "https://localhost:8080/"
        },
        "id": "2gLfIN6F4oxH",
        "outputId": "1e687505-e8f4-4143-9559-3c223302c2f7"
      },
      "execution_count": 8,
      "outputs": [
        {
          "output_type": "execute_result",
          "data": {
            "text/plain": [
              "1    240\n",
              "0    240\n",
              "Name: classes, dtype: int64"
            ]
          },
          "metadata": {},
          "execution_count": 8
        }
      ]
    },
    {
      "cell_type": "code",
      "source": [
        "# plot date variables and find the variables with similar distributions, keep only one of them.\n",
        "#['ClumpThickness','UniformityofCellSize','UniformityofCellShape','MarginalAdhesion',\n",
        "#'SingleEpithelialCellSize','BareNuclei','BlandChromatin','NormalNucleoli','Mitoses']\n",
        "fig, axs = plt.subplots(3, 3, figsize=(18,18))\n",
        "axs[0,0].hist(cancer['ClumpThickness'])\n",
        "axs[0,0].set_title(\"ClumpThickness\")\n",
        "axs[0,1].hist(cancer['UniformityofCellSize'])\n",
        "axs[0,1].set_title(\"UniformityofCellSize\")\n",
        "axs[0,2].hist(cancer['UniformityofCellShape'])\n",
        "axs[0,2].set_title(\"UniformityofCellShape\")\n",
        "axs[1,0].hist(cancer['MarginalAdhesion'])\n",
        "axs[1,0].set_title(\"MarginalAdhesion\")\n",
        "axs[1,1].hist(cancer['SingleEpithelialCellSize'])\n",
        "axs[1,1].set_title(\"SingleEpithelialCellSize\")\n",
        "axs[1,2].hist(cancer['BareNuclei'])\n",
        "axs[1,2].set_title(\"BareNuclei\")\n",
        "axs[2,0].hist(cancer['BlandChromatin'])\n",
        "axs[2,0].set_title(\"BlandChromatin\")\n",
        "axs[2,1].hist(cancer['NormalNucleoli'])\n",
        "axs[2,1].set_title(\"NormalNucleoli\")\n",
        "axs[2,2].hist(cancer['Mitoses'])\n",
        "axs[2,2].set_title(\"Mitoses\")\n",
        "fig.tight_layout()"
      ],
      "metadata": {
        "colab": {
          "base_uri": "https://localhost:8080/",
          "height": 1000
        },
        "id": "FxwBcGnk429U",
        "outputId": "b0039df0-bbc5-484e-edab-490fcfbd77b9"
      },
      "execution_count": 9,
      "outputs": [
        {
          "output_type": "display_data",
          "data": {
            "image/png": "iVBORw0KGgoAAAANSUhEUgAABQgAAAUICAYAAADnYD1uAAAABHNCSVQICAgIfAhkiAAAAAlwSFlzAAALEgAACxIB0t1+/AAAADh0RVh0U29mdHdhcmUAbWF0cGxvdGxpYiB2ZXJzaW9uMy4yLjIsIGh0dHA6Ly9tYXRwbG90bGliLm9yZy+WH4yJAAAgAElEQVR4nOzdfVRVdb7H8c95QAWRJw9Cx+yB1NIumoZGmmJ6MhvLMa9DD5rlqGR0M2lMZ7o362YP3EsIY1fqjt5sjDuVa0zqNpnNiYSZtETBfMDMx1ZdUUQIUTND9v3D5bkdINPDgYNnv19ruRb7d/bD9/eFxZbP2Xsfi2EYhgAAAAAAAACYkjXQBQAAAAAAAAAIHAJCAAAAAAAAwMQICAEAAAAAAAATIyAEAAAAAAAATIyAEAAAAAAAADAxAkIAAAAAAADAxAgIEXQeeOABuVyuQJdxQUaMGKHp06efc52nn35aPXv2PO99Xox9AIBgZrFYlJ+f71k+evSo7rzzTkVGRspisWj//v1tXtOFnlta6qWXXtKll14qq9Wqp59+2q/7bjyX1157TXa7/YL2sX//flksFv3973/3a20A0J5wPmr/56O1a9fKYrHom2++8WttwLkQEOKic+TIEc2dO1dXX321OnXqpG7dumn48OFavny56uvrA12elyuuuEIWi+Wc/87XnDlz9Omnn7ZitQCAxn7qDRxfgqSKigpNnDjRs/zyyy9r/fr1+vvf/66Kigr16NHDLzVfiMbnlmeffVZXXHFFqxzrwIEDmj17tn73u9/pf//3fzVnzhxJUn19vV566SUNHjxYXbp0UUREhAYMGKDnnntONTU1fq3h3Xff1U033aSYmBh17txZPXv21KRJk3T06FFJUo8ePVRRUaEbbrjBr8cFgJbifOQ/F8P5CAiEC4uxgQD7+uuvddNNN8lut+uZZ57RgAEDFBISonXr1unFF19Uv379Al2il5KSEp0+fVrSmdoHDx6sd955R4MHD77gfYWHhys8PNzfJQIA2kh8fLzX8q5du3TttdcqMTGxRfs9deqUOnTo4NO2bXlu2bt3rxoaGjRu3DhdcsklkqQffvhBt99+u9avX6/58+crJSVFsbGxKi8v18svv6zOnTtr9uzZfjl+YWGhJkyYoCeffFJ/+MMf1LFjR+3evVsFBQX6/vvvJUk2m63J9wkAgg3no/Z/PgICwgAuIrfffrsRFxdnfPvtt01eO3XqlHHs2DHj/vvvN0aNGuUZb7xsGIbx+uuvGz/+8X/qqaeMq666ynjrrbeMnj17GqGhocYvf/lLo7a21li5cqXRu3dvIzw83PjHf/xHr2Of3ffChQsNp9NphIaGGhMnTjSOHDnSpL59+/YZkoy//e1vTV5LSUkxpk2bZjzzzDNGXFycER0dbdx3331GXV1dkxp/7K9//atx0003GaGhoUZERIQxfPhwY/fu3c3Oe//+/cY111xj3HXXXcb3339vfPzxx4Yk48MPPzSGDRtmhIaGGn369DHef/99r2McPHjQuP/++w2Hw2GEh4cbQ4YMMYqKirz6npGRYXTv3t3o0KGDER8fb9x1112e17dt22aMHj3aiIyMNMLCwoxrrrnGWL58eZMeAEB7dPb3c2M//p1+vr9PJRmvv/66YRiGcfnllxuSPP9SUlIMwzCMo0ePGmlpaYbD4TA6dOhgXH/99caaNWuaHDc/P9+47bbbjLCwMGPu3Lk+n8d+fG5ZtmyZV02SjKeeesp46qmnjN69ezfpwdSpU42RI0d6lv/yl78YAwcONDp06GDExsYaDz30kHHs2DHPcRrve9++fcaLL75oWCwWY926dc32v7q62vP1hx9+aAwZMsTo1KmT4XQ6jQceeMCoqqpqdi5n52Oz2TzLjz76qHH99dc3e5zG/T17rr7//vub1H22L2e98cYbRv/+/Y2OHTsal19+uZGRkeGZNwD4C+cjc52Pzvd7+cQTTxjXXHONERoaalx66aXGgw8+6NXXs8f+61//avTt29fo2LGjMXjwYKOsrMxrPxs3bjRuueUWo3PnzobD4TDuvPNOY//+/eesEcGHW4xx0aiurtb777+vf/qnf1JkZGST10NCQtS5c2ef919RUaE//vGPWrlypVavXq1PPvlEEydO1NKlS7VixQqtXr1af/vb3/T88897bbdhwwZ9/PHH+uCDD/T+++9r8+bNmjZt2gUf/89//rOqq6u1du1avfnmm3rvvff0b//2bz+5vtvt1q233qrrr79e69ev12effaYpU6bohx9+aLLu559/rhtvvFG33nqr3njjDa939ubMmaMnnnhCn3/+uW644Qbdddddnkvov/vuO918882qq6vT6tWrVVZWpl/84he65ZZbtGPHDklnnt+xYsUK5efna9euXXr33XeVnJzs2f8999yjrl27at26ddq6dasWLlyo6OjoC+4PALR35/p92lhJSYlSU1M1bNgwVVRU6O2335Yk/frXv9aaNWuUn5+vzZs3a+jQobr99tv1xRdfeG0/b948TZo0Sdu2bdPMmTMl+X4eO+uuu+7SvHnzdOmll6qiokIVFRWaM2eOpk+frj179qioqMizbl1dnVasWKG0tDRJ0pYtWzRu3DgNHz5cn3/+uf74xz/qvffe89Q2Z84crVy5UpJUWlrquYXt9ddf18iRI3XjjTc2W9PZ80VhYaF++ctf6u6779aWLVtUUFCg/fv3a8KECTIM47y+P5dccol2796tDRs2nNf6kvT73//e04uKigr953/+p2w2m4YNGybpzHOlHnroIf3mN79ReXm5li9fLrfb7Zk3AAQC56PgOR/93PcyNDRUf/jDH1ReXq7XXntNa9eu1axZs7z20dDQoLlz5yovL08bNmxQbGysxo4dq++++06SVF5erpSUFN14443auHGjCgsLZbPZdMstt+jkyZPnNScEiUAnlMD5+uyzzwxJxsqVK8+5nq9XENpsNuPw4cOesfT0dMNqtRqVlZWesVmzZnm923P//fcbnTt39nqXZs2aNYYkY9euXV7H/LkrCPv16+c1NnPmTCM5Odmrxh+/E3XTTTcZY8eO/dk+fPTRR0ZkZKSRmZnp9frZd6V+3M+DBw8akowPPvjAMIwz7zh1797d+OGHH7y2vfnmm41HH33U05Obb77ZaGhoaLaOiIgIY9myZT9ZJwC0Zxdyxca5fp8ahvcVG4bR9Py0a9cuQ5Lxl7/8xetYAwYMMKZOnep13GeeecZrHV/PY43PLQsWLDAuv/zyJvO94447jEmTJnmWX3nlFcPhcBjff/+9YRiGMXnyZGPQoEFe2xQUFBgWi8VzBcLZPn399deedUJDQ41HHnmkyfEaS0lJMebNm+c19tVXXxmSPFdB/NwVG8ePHzfuuOMOQ5IRHx9vjBs3zsjNzfW66uNc5+qysjKjc+fOxuLFiz1jl19+ufHyyy97rVdUVGRI8rraBABaivPRGWY5H53v97Kxt99+2+jQoYNx+vRpz7ElGW6327NOdXW10blzZ2Pp0qWGYZz5/v/4DjDDMIyTJ08aoaGhxqpVq362JwgeXEGIi4Zxnu/I+Kp79+5yOBye5fj4eMXHxys2NtZrrLKy0mu7vn37el3ROHToUEln3om5EP379/dadjqdOnTo0E+uv2nTJo0ePfqc+9y6datuu+02Pffcc5o3b16z61x33XWer+Pi4mSz2TzHLSkp0cGDBxUVFeV5Lkh4eLj+9re/adeuXZKkqVOnauvWrerZs6dmzpyplStX6tSpU559nn23b8SIEXr66adVWlp67kYAwEXqXL9Pz8fZ88bw4cO9xocPH67t27d7jTX3LFtfz2Pn48EHH9TKlSs9Vy0sWbJE999/v+eK9O3btzepOyUlRYZhnPN8eL7n9pKSEuXm5nqdi/r27StJnvPRzwkLC9O7776rffv26YUXXlD37t31wgsv6Oqrr/ZcFf9TKioqdMcdd2j69OlKT0+XJB0+fFhfffWVHnvsMa+6brvtNknS7t27z6suAPA3zkfBcz76ue/l22+/reHDh8vpdCo8PFyTJk3SqVOndPDgQa/9/PjKyOjoaPXp08fzvSwpKdGqVau85tS1a1edPHnyvOeE4EBAiItGr169ZLVaLzh4s1qtTX7hN3cbbkhIiNeyxWJpdqyhoeGCjn++Gj/Q1x/Huuyyy3TdddcpPz9ftbW153VcSZ7jNjQ0qE+fPtq8ebPXvx07dmjJkiWSzpy09u3bpxdffFEdOnTQo48+quuuu87zCVxPPvmkvvzyS6Wmpmrbtm1KTk7Wv/zLv7RoXgDQViIjI5v9/fntt99Kkjp16uQZO9fvU39r7pEarXkeu+2229StWze9/vrr2rx5szZt2qQZM2Zc8H4au/rqq8/rvN7Q0KB58+Y1OR/t2rXLE8idryuuuEIPPPCA8vLytGPHDlksFv37v//7T65/4sQJjRs3TgMGDNDChQu9apLO3Ib845o+//xz7dq1q8UP+weAH+N8dIbZzkfn+l5+9tln+tWvfqXhw4dr1apVKi0t1SuvvCJJXhdsnM+c7rvvviZz+vLLL5v95GwELwJCXDRiYmJ022236T/+4z+aPTn+8MMPOn78eJPxbt266cCBA15j/ryKbceOHV4fR79u3TpJ8ryT1Fquv/56ffjhh+dcJzIyUn/9619ltVrlcrl+8tkjPyUpKUl79+5VRESEevbs6fXP6XR61gsPD9edd96pRYsWaePGjdqxY4fXs0ESEhKUnp6uP//5z3rmmWf08ssvX9hkASBArrnmGm3atMnzifRnbdiwQTabTT179vTbsa699lpJUnFxsdd4cXGx/uEf/sFvxzmXDh06NJmrdObNthkzZmjJkiVasmSJhg8frquvvtrz+rXXXtuk7qKiIlksFs+8mjN58mQVFhZq/fr1zb5+9ryVlJSk7du3NzkX9ezZs0WfehkdHX3Oq1gMw9CUKVNUX1+vN954Q1br///XOS4uTj169NDOnTubrevHf6wDQEtxPjrDrOej5vz973+Xw+HQs88+qxtuuEG9e/fWN9980+y6n376qefrb7/9Vjt27PD8vZqUlKQtW7boqquuajInnh1vLgSEuKjk5eUpJCRE119/vf70pz+pvLxcu3fvVn5+vpKSkpq9BNrlcumLL77Q4sWLtWfPHi1ZskQrVqzwW00Wi0VTpkzRtm3bVFxcrIcffljjxo3z60m6OU8++aRWr16t2bNna8uWLdq5c6dee+017dy502u9iIgIrVmzRmFhYRo1apSOHDly3seYNGmSrrzySo0dO1Yffvih9u/fr88++0wvvPCCCgoKJElZWVn67//+b23fvl379u3Tq6++KpvNpt69e+vYsWN6+OGHVVhYqH379qmsrEwffPBBq4enAOAv6enpOnTokKZOnapNmzZpz549euONN/Tkk09q6tSpioqK8tuxrrrqKv3qV79Senq61qxZoy+++EKPPvqotm3bpscff9xvxzmXK6+8UgcPHtT69etVVVWlEydOeF6bNm2avvjiCy1dutTzMPizHn/8cZWWliojI0NffPGFPvjgAz3yyCOaNGmSLrvssp883qOPPqpRo0bp1ltv1YsvvqiNGzfqq6++0gcffKDx48dr+fLlkqRnnnlG77zzjh577DFt3rxZe/bs0QcffKBp06Z5HrL+c55++mnNmTNHH3/8sfbt26etW7dqzpw52rZtm+68885mt/nXf/1XFRYWaunSpaqrq9PBgwd18OBBHTt2TJL03HPPadGiRXruuee0bds27dy5UwUFBXrwwQfPqyYAOF+cj8x9PmrO1VdfrcOHD+u//uu/tHfvXi1fvlx5eXlN1rNYLJo7d66Ki4u1detWTZkyRV26dNG9994rSXriiSe0Y8cOTZ48WRs2bNC+ffv08ccf69FHH9XevXvPux5c/AgIcVG57LLLVFpaqvHjx+vpp5/WwIEDNWTIEC1ZskSPP/54s+9ouVwuPfvss3r++efVv39/FRYWav78+X6rafDgwbrpppt0yy23aMyYMUpMTNSrr77qt/3/lNGjR+v999/XZ599phtuuEGDBw/WH//4xyaX70tnrvBbvXq1oqOjdfPNN5/3O1OdOnVSUVGRkpKSNHXqVPXu3VsTJkzQhg0bdPnll0s6E0AuXLhQN954oxITE7Vq1SqtXLlSV199tex2u2pqajRt2jT16dNHt956q+Li4vSnP/3Jr70AgNZy+eWXa926daqpqdEdd9yhfv366fnnn9fjjz/e7H/CW2rp0qW69dZbNXnyZPXv31+ffPKJ3nvvPV1zzTV+P1Zzxo8fr1/96lcaO3asYmNjvW51uuSSS3T77bcrPDxcEydO9NquX79+evfdd1VcXKz+/fvrvvvu09ixYz23Ov2UkJAQrV69WgsWLNCbb76plJQUJSYm6ne/+50GDx6s+++/X5J08803q7CwUFu2bNGwYcPUr18/ZWRkqEuXLs2e95qTkpKir7/+WlOnTlWfPn108803a/369crPz//JW6jWrl2rmpoaJSUl6ZJLLvH8e/HFFyVJ9913n1asWKH33ntPgwcP1qBBg/T000+re/fu51UTAJwvzkfmPh815/bbb9c///M/64knnlBiYqLefPNNZWVlNVnParXq+eef14MPPqikpCQdPHhQf/nLXxQWFiZJ6tOnj9atW6djx47p1ltvVd++fTVjxgx99913fg2e0f5ZjNb+5AcgiD3wwAP65ptv5Ha7A10KAACtbvDgwRo6dKhycnICXQoAwMQ4H52f1157TdOnT1d9fX2gS8FFwB7oAgAAANC+VVVV6b333lNpaanefPPNQJcDADApzkdA6yEgBAAAwDnFxsYqOjpaixYtUkJCQqDLAQCYFOcjoPVwizEAAAAAAABgYnxICQAAAAAAAGBiBIQAAAAAAACAibWbZxAeOHAg0CW0OofDoaqqqkCXcVGid76jd76jd77zV++cTqcfqvG/YD9n8bPvO3rnO3rnO3rnO85XFzd+9luG/vmO3vmO3vmutc9ZXEEIAAAAAAAAmBgBIQAAAAAAAGBiBIQAAAAAAACAiREQAgAAAAAAACZGQAgAAAAAAACYGAEhAAAAAAAAYGIEhAAAAAAAAICJERACAAAAAAAAJkZACAAAAAAAAJgYASEAAAAAAABgYgSEAAAAAAAAgIkREAIAAAAAAAAmRkAIAAAAAAAAmJg90AUAAOAvVVVVWrx4sb799ltZLBa5XC794he/0LFjx5STk6PDhw8rNjZWGRkZCg8Pl2EYWrZsmcrKytSxY0elp6crISEh0NMAAAAAgDbFFYQAgKBhs9l03333KScnR88995zWrFmjb775RgUFBUpMTNSiRYuUmJiogoICSVJZWZkOHjyoRYsWKS0tTUuXLg3wDAAAAACg7REQAgCCRnR0tOcKwNDQUHXv3l3V1dUqKSlRSkqKJCklJUUlJSWSpI0bN2r48OGyWCzq3bu3jh8/rpqamoDVDwAAAACBQEAIAAhKlZWV2rdvn3r27Kna2lpFR0dLkqKiolRbWytJqq6ulsPh8GzTtWtXVVdXB6ReAAAAAAgUnkEI0zs9Y1ygS/BiW/JuoEsALnonT55Udna2HnjgAYWFhXm9ZrFYZLFYLmh/brdbbrdbkpSZmekVKvri0J1DWrS9v8WtWue1bLfbWzxHs6J3vqN3vqN3vqN3P689/V+Z/ycDQOshIAQABJX6+nplZ2dr2LBhuuGGGyRJkZGRqqmpUXR0tGpqahQRESFJiomJUVVVlWfbI0eOKCYmpsk+XS6XXC6XZ/nH2wSDxvNxOBxBN8e2Qu98R+98R+9856/eOZ1OP1QDAEDgcIsxACBoGIahV155Rd27d9ftt9/uGU9KSlJRUZEkqaioSIMGDfKMFxcXyzAMffnllwoLC/PcigwAAAAAZsEVhACAoLFz504VFxfrsssu0+OPPy5JuueeezR+/Hjl5OSosLBQsbGxysjIkCQNGDBApaWlmjVrljp06KD09PRAlg8AAAAAAUFACAAIGtdcc41WrFjR7Gvz589vMmaxWDR9+vTWLgsAAAAA2jVuMQYAAAAAAABMjIAQAAAAAAAAMDECQgAAAAAAAMDECAgBAAAAAAAAEyMgBAAAAAAAAEyMgBAAAAAAAAAwMQJCAAAAAAAAwMQICAEAAAAAAAATIyAEAAAAAAAATMwe6AIAAAAAwEzy8vJUWlqqyMhIZWdnS5JycnJ04MABSdKJEycUFhamrKwsVVZWKiMjQ06nU5LUq1cvpaWlBax2AEBwIiAEAAAAgDY0YsQIjRkzRosXL/aMZWRkeL5evny5wsLCPMvx8fHKyspq0xoBAObCLcYAAAAA0Ib69u2r8PDwZl8zDEPr16/X0KFD27gqAICZcQUhAAAAALQTO3bsUGRkpC655BLPWGVlpebOnavQ0FDdfffd6tOnTwArBAAEIwJCAAAAAGgnPvnkE6+rB6Ojo5WXl6cuXbpo7969ysrKUnZ2ttctyGe53W653W5JUmZmphwOR4vrOdTiPfhP4/nY7Xa/zNGs6J/v6J3v6J3vWrt3BIQAAAAA0A6cPn1aGzZsUGZmpmcsJCREISEhkqSEhATFxcWpoqJCV111VZPtXS6XXC6XZ7mqqqr1i25DjefjcDiCbo5tif75jt75jt75zl+9O/uhV43xDEIAAAAAaAe2bt0qp9Oprl27esaOHj2qhoYGSdKhQ4dUUVGhuLi4QJUIAAhSXEEIAAAAAG0oNzdX5eXlqqur08yZM5WamqqRI0c2ub1YksrLy7VixQrZbDZZrVbNmDHjJz/gBAAAXxEQAgAAAEAbmj17drPjDz/8cJOx5ORkJScnt3ZJAACT4xZjAAAAAAAAwMQICAEAAAAAAAATIyAEAAAAAAAATIyAEAAAAAAAADAxAkIAAAAAAADAxAgIAQAAAAAAABMjIAQAAAAAAABMjIAQAAAAAAAAMDECQgAAAAAAAMDECAgBAAAAAAAAEyMgBAAAAAAAAEyMgBAAAAAAAAAwMQJCAAAAAAAAwMQICAEAAAAAAAATIyAEAAAAAAAATIyAEAAAAAAAADAxAkIAAAAAAADAxAgIAQAAAAAAABMjIAQAAAAAAABMzB7oAgAA8Je8vDyVlpYqMjJS2dnZkqScnBwdOHBAknTixAmFhYUpKytLlZWVysjIkNPplCT16tVLaWlpAasdAAAAAAKFgBAAEDRGjBihMWPGaPHixZ6xjIwMz9fLly9XWFiYZzk+Pl5ZWVltWiMAAAAAtDfcYgwACBp9+/ZVeHh4s68ZhqH169dr6NChbVwVAAAAALRvXEEIADCFHTt2KDIyUpdccolnrLKyUnPnzlVoaKjuvvtu9enTp9lt3W633G63JCkzM1MOh6NFtRxq0db+13g+dru9xXM0K3rnO3rnO3rnO3oHAMAZBIQAAFP45JNPvK4ejI6OVl5enrp06aK9e/cqKytL2dnZXrcgn+VyueRyuTzLVVVVbVJzW2k8H4fDEXRzbCv0znf0znf0znf+6t3Z59kCAHCx4hZjAEDQO336tDZs2KAhQ4Z4xkJCQtSlSxdJUkJCguLi4lRRURGoEgEAAAAgYAgIAQBBb+vWrXI6neratatn7OjRo2poaJAkHTp0SBUVFYqLiwtUiQAAAAAQMNxiDAAIGrm5uSovL1ddXZ1mzpyp1NRUjRw5ssntxZJUXl6uFStWyGazyWq1asaMGT/5AScAAAAAEMwICAEAQWP27NnNjj/88MNNxpKTk5WcnNzaJQEAAABAu9eigPC9995TYWGhLBaLevToofT0dH377bfKzc1VXV2dEhIS9Mgjj8huJ4cEAAAAAAAA2iOfn0FYXV2t1atXKzMzU9nZ2WpoaNC6deuUn5+vsWPH6qWXXlLnzp1VWFjoz3oBAAAAAAAA+FGLPqSkoaFBp06d0unTp3Xq1ClFRUVp+/btnlu2RowYoZKSEr8UCgAAAAAAAMD/fL73NyYmRnfccYceeughdejQQf3791dCQoLCwsJks9k861RXVze7vdvtltvtliRlZmbK4XD4WspFw263m2KeraE1e3eoVfbqO3/Pk58739E739E7AAAAALh4+BwQHjt2TCUlJVq8eLHCwsK0cOFCbd68+by3d7lccrlcnuWqqipfS7loOBwOU8yzNZipd/6ep5l652/0znf+6p3T6fRDNQAAAACAc/E5INy6dau6deumiIgISdINN9ygnTt36sSJEzp9+rRsNpuqq6sVExPjt2IBAAAAAAAA+JfPzyB0OBzatWuXvv/+exmGoa1bt+rSSy/Vtddeq08//VSStHbtWiUlJfmtWAAAAAAAAAD+5fMVhL169VJycrLmzZsnm82mK664Qi6XSwMHDlRubq7efPNNXXnllRo5cqQ/6wUAAAAAAADgRz4HhJKUmpqq1NRUr7G4uDi98MILLSoKAAAAAAAAQNvw+RZjAAAAAAAAABc/AkIAAAAAAADAxAgIAQAAAAAAABMjIAQAAAAAAABMrEUfUgIAAAAAuDB5eXkqLS1VZGSksrOzJUkrVqzQRx99pIiICEnSPffco4EDB0qSVq1apcLCQlmtVk2dOlXXXXddwGoHAAQnAkIAAAAAaEMjRozQmDFjtHjxYq/xsWPHaty4cV5j33zzjdatW6eFCxeqpqZGCxYs0O9//3tZrdwMBgDwn6AKCE/PGPfzK7Uh25J3A10CAAAAgHamb9++qqysPK91S0pKNGTIEIWEhKhbt26Kj4/X7t271bt371auEgBgJkEVEAIAAADAxWrNmjUqLi5WQkKCpkyZovDwcFVXV6tXr16edWJiYlRdXd3s9m63W263W5KUmZkph8PR4poOtXgP/tN4Pna73S9zNCv65zt65zt657vW7h0BIQAAAAAE2OjRozVx4kRJ0ltvvaXly5crPT39gvbhcrnkcrk8y1VVVX6tMdAaz8fhcATdHNsS/fMdvfMdvfOdv3rndDqbHefBFQAAAAAQYFFRUbJarbJarRo1apT27Nkj6cwVg0eOHPGsV11drZiYmECVCQAIUgSEAAAAABBgNTU1nq83bNigHr3nN3YAACAASURBVD16SJKSkpK0bt06/fDDD6qsrFRFRYV69uwZqDIBAEGKW4wBAAAAoA3l5uaqvLxcdXV1mjlzplJTU7V9+3bt379fFotFsbGxSktLkyT16NFDN954ox577DFZrVZNmzaNTzAGAPgdASEAAAAAtKHZs2c3GRs5cuRPrj9hwgRNmDChNUsCAJgcbz0BAAAAAAAAJkZACAAAAAAAAJgYASEAAAAAAABgYgSEAAAAAAAAgIkREAIAAAAAAAAmRkAIAAAAAAAAmBgBIQAAAAAAAGBiBIQAAAAAAACAiREQAgAAAAAAACZGQAgAAAAAAACYGAEhAAAAAAAAYGIEhAAAAAAAAICJERACAAAAAAAAJkZACAAAAAAAAJgYASEAAAAAAABgYvZAFwAAgL/k5eWptLRUkZGRys7OliStWLFCH330kSIiIiRJ99xzjwYOHChJWrVqlQoLC2W1WjV16lRdd911AasdAAAAAAKFgBAAEDRGjBihMWPGaPHixV7jY8eO1bhx47zGvvnmG61bt04LFy5UTU2NFixYoN///veyWrm4HgAAAIC58FcQACBo9O3bV+Hh4ee1bklJiYYMGaKQkBB169ZN8fHx2r17dytXCAAAAADtD1cQAgCC3po1a1RcXKyEhARNmTJF4eHhqq6uVq9evTzrxMTEqLq6utnt3W633G63JCkzM1MOh6NF9Rxq0db+13g+dru9xXM0K3rnO3rnO3rnO3oHAMAZBIQAgKA2evRoTZw4UZL01ltvafny5UpPT7+gfbhcLrlcLs9yVVWVX2sMtMbzcTgcQTfHtkLvfEfvfEfvfOev3jmdTj9UAwBA4HCLMQAgqEVFRclqtcpqtWrUqFHas2ePpDNXDB45csSzXnV1tWJiYgJVJgAAAAAEDAEhACCo1dTUeL7esGGDevToIUlKSkrSunXr9MMPP6iyslIVFRXq2bNnoMoEAAAAgIDhFmMAQNDIzc1VeXm56urqNHPmTKWmpmr79u3av3+/LBaLYmNjlZaWJknq0aOHbrzxRj322GOyWq2aNm0an2AMAAAAwJQICAEAQWP27NlNxkaOHPmT60+YMEETJkxozZIAAAAAoN3jUgkAAAAAAADAxAgIAQAAAAAAABMjIAQAAAAAAABMjIAQAAAAAAAAMDE+pAQAgsDpGeMCXYK3VesCXQEAAAAA4DxxBSEAAAAAAABgYgSEAAAAAAAAgIkREAIAAAAAAAAmRkAIAAAAAAAAmBgBIQAAAAAAAGBiBIQAAAAAAACAiREQAgAAAAAAACZGQAgAAAAAAACYGAEhAAAAAAAAYGIEhAAAAAAAAICJERACAAAAAAAAJkZACAAAAAAAAJiYPdAFAAAAAICZ5OXlqbS0VJGRkcrOzpYkvf7669q0aZPsdrvi4uKUnp6uzp07q7KyUhkZGXI6nZKkXr16KS0tLZDlAwCCEAEhAAAAALShESNGaMyYMVq8eLFnrF+/frr33ntls9mUn5+vVatWafLkyZKk+Ph4ZWVlBapcAIAJcIsxAAAAALShvn37Kjw83Gusf//+stlskqTevXururo6EKUBAEyKKwgBAAAAoB0pLCzUkCFDPMuVlZWaO3euQkNDdffdd6tPnz7Nbud2u+V2uyVJmZmZcjgcLa7lUIv34D+N52O32/0yR7Oif76jd76jd75r7d4REAIAAABAO/H222/LZrNp2LBhkqTo6Gjl5eWpS5cu2rt3r7KyspSdna2wsLAm27pcLrlcLs9yVVVVm9XdFhrPx+FwBN0c2xL98x298x29852/enf2mbaNcYsxAAAAALQDa9eu1aZNmzRr1ixZLBZJUkhIiLp06SJJSkhIUFxcnCoqKgJZJgAgCBEQAgAAAECAbd68We+8847mzZunjh07esaPHj2qhoYGSdKhQ4dUUVGhuLi4QJUJAAhS3GIMAAAAAG0oNzdX5eXlqqur08yZM5WamqpVq1apvr5eCxYskCT16tVLaWlpKi8v14oVK2Sz2WS1WjVjxowmH3ACAEBLERACAAAAQBuaPXt2k7GRI0c2u25ycrKSk5NbuyQAgMlxizEAAAAAAABgYgSEAAAAAAAAgIkREAIAAAAAAAAmRkAIAAAAAAAAmBgBIQAAAAAAAGBiBIQAAAAAAACAidlbsvHx48f1yiuv6Ouvv5bFYtFDDz0kp9OpnJwcHT58WLGxscrIyFB4eLi/6gUAAAAAAADgRy0KCJctW6brrrtOv/nNb1RfX6/vv/9eq1atUmJiosaPH6+CggIVFBRo8uTJ/qoXAAAAAAAAgB/5fIvxiRMntGPHDo0cOVKSZLfb1blzZ5WUlCglJUWSlJKSopKSEv9UCgAAAAAAAMDvfL6CsLKyUhEREcrLy9NXX32lhIQEPfDAA6qtrVV0dLQkKSoqSrW1tc1u73a75Xa7JUmZmZlyOBy+luJxqMV78K/Gc7Lb7X6Zpxm1Zu/a+89NS/Fz57uLqXft7ef4YuodAAAAAJidzwHh6dOntW/fPv36179Wr169tGzZMhUUFHitY7FYZLFYmt3e5XLJ5XJ5lquqqnwtpd1qPCeHwxGU82wLZuqdv+dppt75G73zXX19vV9653Q6L2j9vLw8lZaWKjIyUtnZ2ZKk119/XZs2bZLdbldcXJzS09PVuXNnVVZWKiMjw3OMXr16KS0trcU1AwAAAMDFxueAsGvXruratat69eolSUpOTlZBQYEiIyNVU1Oj6Oho1dTUKCIiwm/FAgBwLiNGjNCYMWO0ePFiz1i/fv107733ymazKT8/X6tWrfI8Gzc+Pl5ZWVmBKhcAAAAA2gWfn0EYFRWlrl276sCBA5KkrVu36tJLL1VSUpKKiookSUVFRRo0aJB/KgUA4Gf07dtX4eHhXmP9+/eXzWaTJPXu3VvV1dWBKA0AAAAA2q0WfYrxr3/9ay1atEj19fXq1q2b0tPTZRiGcnJyVFhYqNjYWGVkZPirVrTA6RnjAl2CF9uSdwNdAgATKiws1JAhQzzLlZWVmjt3rkJDQ3X33XerT58+AawOAAAAAAKjRQHhFVdcoczMzCbj8+fPb8luAQDwu7fffls2m03Dhg2TJEVHRysvL09dunTR3r17lZWVpezsbIWFhTXZ1t8frNXePlSGD9XyH3rnO3rnO3rnO3oHAMAZLQoIAQC4GKxdu1abNm3S/PnzPR+eFRISopCQEElSQkKC4uLiVFFRoauuuqrJ9sH+wVp8qJb/0Dvf0Tvf0Tvf+at3F/qhWgAAtDc+P4MQAICLwebNm/XOO+9o3rx56tixo2f86NGjamhokCQdOnRIFRUViouLC1SZAAAAABAwXEEIAAgaubm5Ki8vV11dnWbOnKnU1FStWrVK9fX1WrBggSSpV69eSktLU3l5uVasWCGbzSar1aoZM2Y0+YATAAAAADADAkIAQNCYPXt2k7GRI0c2u25ycrKSk5NbuyQAAAAAaPe4xRgAAAAAAAAwMQJCAAAAAAAAwMQICAEAAAAAAAATIyAEAAAAAAAATIyAEAAAAAAAADAxAkIAAAAAAADAxAgIAQAAAAAAABMjIAQAAAAAAABMjIAQAAAAAAAAMDECQgAAAAAAAMDECAgBAAAAAAAAEyMgBAAAAAAAAEyMgBAAAAAAAAAwMQJCAAAAAAAAwMQICAEAAAAAAAATIyAEAAAAAAAATIyAEAAAAAAAADAxAkIAAAAAAADAxAgIAQAAAAAAABMjIAQAAAAAAABMjIAQAAAAAAAAMDF7oAsAAAAAADPJy8tTaWmpIiMjlZ2dLUk6duyYcnJydPjwYcXGxiojI0Ph4eEyDEPLli1TWVmZOnbsqPT0dCUkJAR4BgCAYMMVhAAAAADQhkaMGKEnnnjCa6ygoECJiYlatGiREhMTVVBQIEkqKyvTwYMHtWjRIqWlpWnp0qWBKBkAEOQICAEAAACgDfXt21fh4eFeYyUlJUpJSZEkpaSkqKSkRJK0ceNGDR8+XBaLRb1799bx48dVU1PT5jUDAIIbtxgDAAAAQIDV1tYqOjpakhQVFaXa2lpJUnV1tRwOh2e9rl27qrq62rPuj7ndbrndbklSZmam13a+OtTiPfhP4/nY7Xa/zNGs6J/v6J3v6J3vWrt3BIQAAAAA0I5YLBZZLJYL3s7lcsnlcnmWq6qq/FlWwDWej8PhCLo5tiX65zt65zt65zt/9c7pdDY7zi3GAAAAABBgkZGRnluHa2pqFBERIUmKiYnx+oPwyJEjiomJCUiNAIDgRUAIAAAAAAGWlJSkoqIiSVJRUZEGDRrkGS8uLpZhGPryyy8VFhbW7O3FAAC0BLcYAwAAAEAbys3NVXl5uerq6jRz5kylpqZq/PjxysnJUWFhoWJjY5WRkSFJGjBggEpLSzVr1ix16NBB6enpAa4eABCMCAgBAAAAoA3Nnj272fH58+c3GbNYLJo+fXprlwQAMDluMQYAAAAAAABMjIAQAAAAAAAAMDECQgAAAAAAAMDECAgBAAAAAAAAEyMgBAAAAAAAAEyMgBAAAAAAAAAwMXugC4A5nZ4x7oLWP9RKdQAAAAAAAJgdASEAIGjk5eWptLRUkZGRys7OliQdO3ZMOTk5Onz4sGJjY5WRkaHw8HAZhqFly5aprKxMHTt2VHp6uhISEgI8AwAAAABoe9xiDAAIGiNGjNATTzzhNVZQUKDExEQtWrRIiYmJKigokCSVlZXp4MGDWrRokdLS0rR06dJAlAwAAAAAAUdACAAIGn379lV4eLjXWElJiVJSUiRJKSkpKikpkSRt3LhRw4cPl8ViUe/evXX8+HHV1NS0ec0AAAAAEGjcYgwACGq1tbWKjo6WJEVFRam2tlaSVF1dLYfD4Vmva9euqq6u9qz7Y263W263W5KUmZnptZ0v2ttzVRvPx263t3iOZkXvfEfvfEfvfEfvAAA4g4AQAGAaFotFFovlgrdzuVxyuVye5aqqKn+WFXCN5+NwOIJujm2F3vmO3vmO3vnOX71zOp1+qAYAgMDhFmMAQFCLjIz03DpcU1OjiIgISVJMTIzXH4VHjhxRTExMQGoEAAAAgEAiIAQABLWkpCQVFRVJkoqKijRo0CDPeHFxsQzD0JdffqmwsLBmby8GAAAAgGDHLcYALhqnZ4xr0+P93HPibEvebZM6cP5yc3NVXl6uuro6zZw5U6mpqRo/frxycnJUWFio2NhYZWRkSJIGDBig0tJSzZo1Sx06dFB6enqAqwcAAACAwCAgBAAEjdmzZzc7Pn/+/CZjFotF06dPb+2SAAAAAKDd4xZjAAAAAAAAwMQICAEAAAAAAAATIyAEAAAAAAAATIyAEAAAAAAAADAxAkIAAAAAAADAxAgIAQAAAAAAABMjIAQAAAAAAABMjIAQAAAAAAAAMDECQgAAAAAAAMDECAgBAAAAAAAAEyMgBAAAAAAAAEyMgBAAAAAAAAAwMQJCAAAAAAAAwMQICAEAAAAAAAATIyAEAAAAAAAATIyAEAAAAAAAADAxAkIAAAAAAADAxAgIAQAAAAAAABOzt3QHDQ0N+u1vf6uYmBj99re/VWVlpXJzc1VXV6eEhAQ98sgjsttbfBgAAAAAAAAAraDFVxC+//776t69u2c5Pz9fY8eO1UsvvaTOnTursLCwpYcAAAAAAAAA0EpaFBAeOXJEpaWlGjVqlCTJMAxt375dycnJkqQRI0aopKSk5VUCAAAAAAAAaBUtCghfe+01TZ48WRaLRZJUV1ensLAw2Ww2SVJMTIyqq6tbXiUAAAAAAACAVuHzwwE3bdqkyMhIJSQkaPv27Re8vdvtltvtliRlZmbK4XD4WorHoRbvwb8az8lut/tlnr5ob73BT/P3z0ggf+78rb39HLenvra33gTTzx0AAAAABDufA8KdO3dq48aNKisr06lTp/Tdd9/ptdde04kTJ3T69GnZbDZVV1crJiam2e1dLpdcLpdnuaqqytdS2q3Gc3I4HEE5T/iXv39G+LlrPfT1p9XX1/ulP06n0w/VAAAAAADOxeeA8N5779W9994rSdq+fbv+53/+R7NmzdLChQv16aefaujQoVq7dq2SkpL8ViwAAAAAAAAA//I5IPwpkyZNUm5urt58801deeWVGjlypL8PAQAAAABB58CBA8rJyfEsV1ZWKjU1VcePH9dHH32kiIgISdI999yjgQMHBqpMAEAQ8ktAeO211+raa6+VJMXFxemFF17wx24BAAAAwDScTqeysrIkSQ0NDXrwwQc1ePBgffzxxxo7dqzGjRsX4AoBAMGqRZ9iDAAAAADwv61btyo+Pl6xsbGBLgUAYAJ+v8UYAAAAANAyn3zyiYYOHepZXrNmjYqLi5WQkKApU6YoPDy8yTZut1tut1uSlJmZKYfD0eI6DrV4D/7TeD52u90vczQr+uc7euc7eue71u4dASEAAAAAtCP19fXatGmT50MhR48erYkTJ0qS3nrrLS1fvlzp6elNtnO5XHK5XJ7lqqqqtim4jTSej8PhCLo5tiX65zt65zt65zt/9c7pdDY7zi3GAAAAANCOlJWV6corr1RUVJQkKSoqSlarVVarVaNGjdKePXsCXCEAINgQEAIAAABAO9L49uKamhrP1xs2bFCPHj0CURYAIIhxizEAAAAAtBMnT57Uli1blJaW5hnLz8/X/v37ZbFYFBsb6/UaAAD+QEAIAAAAAO1Ep06d9Oqrr3qNPfLIIwGqBgBgFtxiDAAAAAAAAJgYASEAAAAAAABgYgSEAAAAAAAAgInxDEIAQNA7cOCAcnJyPMuVlZVKTU3V8ePH9dFHHykiIkKSdM8992jgwIGBKhMAAAAAAoKAEAAQ9JxOp7KysiRJDQ0NevDBBzV48GB9/PHHGjt2rMaNGxfgCgEAAAAgcLjFGABgKlu3blV8fLxiY2MDXQoAAAAAtAtcQQgAMJVPPvlEQ4cO9SyvWbNGxcXFSkhI0JQpUxQeHt5kG7fbLbfbLUnKzMyUw+FoUQ2HWrS1/zWej91ub/EczYre+Y7e+Y7e+Y7eAQBwBgEhAMA06uvrtWnTJt17772SpNGjR2vixImSpLfeekvLly9Xenp6k+1cLpdcLpdnuaqqqm0KbiON5+NwOIJujm2F3vmO3vmO3vnOX71zOp1+qAYAgMDhFmMAgGmUlZXpyiuvVFRUlCQpKipKVqtVVqtVo0aN0p49ewJcIQAAAAC0PQJCAIBpNL69uKamxvP1hg0b1KNHj0CUBQAAAAABxS3GAABTOHnypLZs2aK0tDTPWH5+vvbv3y+LxaLY2Fiv1wAAAADALAgIAQCm0KlTJ7366qteY4888kiAqgEAAACA9oNbjAEAAAAAAAATIyAEAAAAAAAATIyAEAAAAAAAADAxAkIAAAAAAADAxAgIAQAAAAAAABMjIAQAAAAAAABMjIAQAAAAAAAAMDECQgAAAAAAAMDECAgBAAAAAAAAE7MHugAAAAAA5nF6xrhAl/D/Vq0LdAUAALQLXEEIAAAAAAAAmBgBIQAAAAAAAGBiBIQAAAAAAACAiREQAgAAAAAAACZGQAgAAAAAAACYGAEhAAAAAAAAYGL2QBcAAAAAAAAAtCenZ4wLdAneVq1r1d1zBSEAAAAAAABgYgSEAAAAAAAAgIkREAIAAAAAAAAmRkAIAAAAAAAAmBgBIQAAAAAAAGBiBIQAAAAAAACAiREQAgAAAAAAACZGQAgAAAAAAACYGAEhAAAAAAAAYGIEhAAAAAAAAICJERACAAAAAAAAJkZACAAAAAAAAJiYPdAFAAAAAADOePjhh9WpUydZrVbZbDZlZmbq2LFjysnJ0eHDhxUbG6uMjAyFh4cHulQAQBAhIATamdMzxvl1f4dauL1tybt+qQMAAADn56mnnlJERIRnuaCgQImJiRo/frwKCgpUUFCgyZMnB7BCAECw4RZjAAAAAGjHSkpKlJKSIklKSUlRSUlJgCsCAAQbriAEAAAAgHbkueeekyTdcsstcrlcqq2tVXR0tCQpKipKtbW1zW7ndrvldrslSZmZmXI4HC2upaV3o/hT4/nY7Xa/zNGs6J/v6J3vLqbetafff1Lr946AEAAAAADaiQULFigmJka1tbV69tln5XQ6vV63WCyyWCzNbutyueRyuTzLVVVVrVprW2s8H4fDEXRzbEv0z3f0znf0znf19fV+6V3j88pZBIStqPGz5Npb+gwAAACgfYmJiZEkRUZGatCgQdq9e7ciIyNVU1Oj6Oho1dTUeD2fEAAAf+AZhAAAAADQDpw8eVLfffed5+stW7bosssuU1JSkoqKiiRJRUVFGjRoUCDLBAAEIa4gBACYwsMPP6xOnTrJarXKZrMpMzNTx44dU05Ojg4fPqzY2FhlZGQoPDw80KUC/8fevcdZVdd7A/9sIAVELiMogaIi3kjwEnhLwMuoSWrk8XTEQDHTCp9jBzumeRIxb2QSpg8eLxhqeR6lU+Kl1A4ikJo5ireEvIW30hAZST2gDuznj15MjoDAMMPMsN7v14tX7rXX5bt/2v6yPnut3wIKavHixbnsssuSJMuWLcsBBxyQPfbYIzvssEMmTpyYGTNm1PYrAGhIAkIACuO8886rc1vWtGnT0q9fvwwbNizTpk3LtGnTMmLEiCasEIAi22qrrfLDH/5wpeWbb755xo4d2wQVAVAUbjEGoLCqqqoyZMiQJMmQIUNSVVXVxBUBAABseK4gBKAwLrrooiTJoYcemsrKyixevDhdunRJknTu3DmLFy9uyvIAAACahIAQgEK44IILUlFRkcWLF+fCCy9Mjx496rxfKpVSKpVWue306dMzffr0JMn48ePTtWvX9aqluT3V/uOfp02bNuv9GYvK2NWfsau/ljZ2zek7sKWNHQA0FgEhAIVQUVGRJOnUqVMGDhyYF154IZ06dUp1dXW6dOmS6urqOvMTflRlZWUqKytrXy9cuHCD1LyhfPzzdO3adaP7jBuKsas/Y1d/xq7+ampqGmTsPv6jEwC0NAJC4BMtO+Xopi4B1tvSpUtTLpfTrl27LF26NE899VSOPfbYDBgwILNmzcqwYcMya9asDBw4sKlLBQAA2OAEhABs9BYvXpzLLrssSbJs2bIccMAB2WOPPbLDDjtk4sSJmTFjRrp165YxY8Y0caUAAAAbnoAQgI3eVlttlR/+8IcrLd98880zduzYJqgIAACg+WjV1AUAAAAAAE1HQAgAAAAABSYgBAAAAIACExACAAAAQIEJCAEAAACgwOr9FOOFCxdm0qRJefvtt1MqlVJZWZmhQ4fm3XffzcSJE/Pmm2+mW7duGTNmTDp06NCQNQMAAECTWnbK0U1dwnr5ayPuu/V1dzTi3oHGUO+AsHXr1hk5cmR69+6dJUuW5Oyzz07//v0zc+bM9OvXL8OGDcu0adMybdq0jBgxoiFrBgAAAAAaSL1vMe7SpUt69+6dJGnXrl169uyZRYsWpaqqKkOGDEmSDBkyJFVVVQ1TKQAAAADQ4Op9BeFHLViwIPPnz0+fPn2yePHidOnSJUnSuXPnLF68eJXbTJ8+PdOnT0+SjB8/Pl27dl3vOhrzEmmAj2uI762G0ty+/9q0adOsxgcAAIDVW++AcOnSpZkwYUJGjRqV9u3b13mvVCqlVCqtcrvKyspUVlbWvl64cOH6lgKwQfneWr2ampoGGZ8ePXo0QDUAAAB8kvV6inFNTU0mTJiQQYMGZZ999kmSdOrUKdXV1UmS6urqdOzYcf2rBAAAAAAaRb0DwnK5nKuvvjo9e/bMkUceWbt8wIABmTVrVpJk1qxZGThw4PpXCQAAAAA0inrfYvzss89m9uzZ6dWrV84888wkyfDhwzNs2LBMnDgxM2bMSLdu3TJmzJgGKxYAAAAAaFj1Dgh32WWXTJ06dZXvjR07tt4FAQDFtuyUo5u6hFqtr7ujqUsAAIBGt15zEAIAAAAALZuAEAAAAAAKTEAIAAAAAAVW7zkIAQA2dus6H+JfG6mOFcyJCABAY3AFIQAAAAAUmIAQAAAAAArMLcYAAABAg1nXKToamyk6YM1cQQgAAAAABeYKQgAAAJq9j1+V1tgPhgIoElcQAgAAAECBCQgBAAAAoMAEhAAAAABQYAJCAAAAACgwASEAAAAAFJinGAMAAAAbrY8/AXt9bUxP0G593R1NXQLNhCsIAQAAAKDABIQAAAAAUGACQgAAAAAoMHMQAtRTQ89lAgAAAE1BQAgA0EI0px8mTGoODW/hwoWZNGlS3n777ZRKpVRWVmbo0KGZOnVq7rvvvnTs2DFJMnz48Oy1115NXC0AGxMBIQAAQDPQunXrjBw5Mr17986SJUty9tlnp3///kmSL3zhCzn66ObzIwGwcdjQPz6u6QnQfoBsOgJCACi4j//FcE1/cQPWbEOecDnZ2nh06dIlXbp0SZK0a9cuPXv2zKJFi5q4KgCKQEAIAADQzCxYsCDz589Pnz598sc//jH33ntvZs+end69e+eEE05Ihw4dVtpm+vTpmT59epJk/Pjx6dq163rX4UcjYENqiO+thtLcvv/atGnTqOMjIARgo2dOJwBakqVLl2bChAkZNWpU2rdvn8MOOyzHHntskuTWW2/NTTfdlNGjR6+0XWVlZSorK2tfL1y4cIPVDNAQfG+tXk1NTYOMT48ePVa5XEAIwEbPnE4AtBQ1NTWZMGFCBg0alH322SdJ0rlz59r3DznkkPzgBz9oqvIA2EgJCAHY6JnTCRpeQ8+xt7638Zhnj41BuVzO1VdfnZ49e+bII4+sXV5dXV3bxx555JFss802TVUiABspASEAhdIc5nRqbvOZwMagOc1ZlDSv/58bm9Vr7Pmc1tWzzz6b2bNnp1evXjnzzDOT/H36iwcffDAvvfRSSqVSunXrllNPPbWJKwVgYyMgBKAwzOkEGy//v1w9Y7N6jT2f07raZZddMnXq1JWWmx8XgMbWJku5gQAAIABJREFUqqkLAIANYXVzOrVq1SqtWrXKIYcckhdffLGJqwQAANjwBIQAbPQ+aU6nFczpBAAAFJVbjAHY6JnTCQAAYPUEhABs9MzpBAAAsHpuMQYAAACAAhMQAgAAAECBCQgBAAAAoMAEhAAAAABQYAJCAAAAACgwASEAAAAAFJiAEAAAAAAKrE1TFwAAAOtr2SlHN3UJAAAtlisIAQAAAKDABIQAAAAAUGACQgAAAAAoMAEhAAAAABSYgBAAAAAACkxACAAAAAAFJiAEAAAAgAITEAIAAABAgQkIAQAAAKDABIQAAAAAUGACQgAAAAAoMAEhAAAAABSYgBAAAAAACkxACAAAAAAFJiAEAAAAgAITEAIAAABAgQkIAQAAAKDABIQAAAAAUGBtmroAAAAAAFh2ytFNXUJhuYIQAAAAAApMQAgAAAAABeYWYwAA2Ii5XQsAWBNXEAIAAABAgQkIAQAAAKDABIQAAAAAUGACQgAAAAAoMAEhAAAAABSYgBAAAAAACkxACAAAAAAF1qaxdvzEE09kypQpWb58eQ455JAMGzassQ4FAPWmXwHQEuhXADSmRrmCcPny5bn++utzzjnnZOLEiXnwwQfz2muvNcahAKDe9CsAWgL9CoDG1igB4QsvvJDu3btnq622Sps2bbL//vunqqqqMQ4FAPWmXwHQEuhXADS2RrnFeNGiRdliiy1qX2+xxRZ5/vnn66wzffr0TJ8+PUkyfvz49OjRY/0P/KtH138fADSIBvleb2Rr06+SRuhZ+hVAs6FfrYGeBdBsNGbParKHlFRWVmb8+PEZP358U5WwwZ199tlNXUKLZezqz9jVn7Grv41t7IrWsza2f38bkrGrP2NXf8au/ja2sdOvWBfGr/6MXf0Zu/pr7LFrlICwoqIib731Vu3rt956KxUVFY1xKACoN/0KgJZAvwKgsTVKQLjDDjvk9ddfz4IFC1JTU5OHHnooAwYMaIxDAUC96VcAtAT6FQCNrfW4cePGNfROW7Vqle7du+fKK6/MPffck0GDBmXfffdt6MO0SL17927qElosY1d/xq7+jF39tYSx069WryX8+2uujF39Gbv6M3b11xLGTr9avZbw7685M371Z+zqz9jVX2OOXalcLpcbbe8AAAAAQLPWZA8pAQAAAACanoAQAAAAAAqsTVMXsLFbuHBhJk2alLfffjulUimVlZUZOnRoU5fVoixfvjxnn312KioqPBJ9Hbz33nu5+uqr8+qrr6ZUKuWb3/xmdtppp6Yuq0W46667MmPGjJRKpWyzzTYZPXp0Ntlkk6Yuq9m66qqrMmfOnHTq1CkTJkxIkrz77ruZOHFi3nzzzXTr1i1jxoxJhw4dmrhS1kTPWj/6Vf3pWfWnZ609/WrjoV+tPz2rfvSr+tOv1k1T9KxGeUgJ//D+++9np512yvDhwzN48OBcc8016devXzp27NjUpbUYv/rVr1JTU5OampoccMABTV1Oi3HttdemX79+GT16dCorK9O+fXtfwGth0aJFufbaa3PZZZdl6NCheeihh1JTU5PtttuuqUtrtjbbbLMcdNBBqaqqyuGHH54kmTp1arbZZpuMGTMm1dXVeeqpp9K/f/8mrpQ10bPWj35Vf3pW/ehZ60a/2njoV+tPz6of/ap+9Kt11xQ9yy3GjaxLly61T5lp165devbsmUWLFjVxVS3HW2+9lTlz5uSQQw5p6lJalP/93//NvHnzcvDBBydJ2rRpk80226yJq2o5li9fng8++CDLli3LBx98kC5dujR1Sc1a3759V/rlqqqqKkOGDEmSDBkyJFVVVU1RGutIz6o//ar+9Kz1o2etPf1q46FfrR89q370q/WjX62bpuhZbjHegBYsWJD58+enT58+TV1Ki3HDDTdkxIgRWbJkSVOX0qIsWLAgHTt2zFVXXZWXX345vXv3zqhRo9K2bdumLq3Zq6ioyFFHHZVvfvOb2WSTTbL77rtn9913b+qyWpzFixfXNv3OnTtn8eLFTVwR60rPWjf6Vf3pWfWnZ60//arl06/WnZ5VP/pV/elXDaOxe5YrCDeQpUuXZsKECRk1alTat2/f1OW0CI899lg6depU++sga2/ZsmWZP39+DjvssFx66aXZdNNNM23atKYuq0V49913U1VVlUmTJuWaa67J0qVLM3v27KYuq0UrlUoplUpNXQbrQM9aN/rV+tGz6k/Palj6VcujX607Pav+9Kv6068aXmP0LAHhBlBTU5MJEyZk0KBB2WeffZq6nBbj2WefzaOPPprTTjstl19+ef7whz/kiiuuaOqyWoQtttgiW2yxRXbcccckyb777pv58+c3cVUtw9NPP50tt9wyHTt2TJs2bbLPPvvkueeea+qyWpxOnTqluro6SVJdXW1OoBZEz1p3+tX60bPqT89af/pVy6Vf1Y+eVX/6Vf3pVw2jsXuWW4wbWblcztVXX52ePXvmyCOPbOpyWpTjjz8+xx9/fJLkmWeeyZ133pnTTz+9iatqGTp37pwtttgif/nLX9KjR488/fTT2XrrrZu6rBaha9euef755/P+++9nk002ydNPP50ddtihqctqcQYMGJBZs2Zl2LBhmTVrVgYOHNjUJbEW9Kz60a/Wj55Vf3rW+tOvWib9qv70rPrTr+pPv2oYjd2zSuVyudyge6SOP/7xjxk7dmx69epVe/nn8OHDs9deezVxZS3LiuZ19tlnN3UpLcZLL72Uq6++OjU1Ndlyyy0zevToBn0E+sZs6tSpeeihh9K6detst912+cY3vpFPfepTTV1Ws3X55Zdn7ty5eeedd9KpU6d8+ctfzsCBAzNx4sQsXLgw3bp1y5gxY/z31wLoWetPv6ofPav+9Ky1p19tPPSrhqFnrTv9qv70q3XTFD1LQAgAAAAABWYOQgAAAAAoMAEhAAAAABSYgBAAAAAACkxACAAAAAAFJiAEAAAAgAITEAIAAABAgQkIAQAAAKDABIQAAAAAUGACQgAAAAAoMAEhAAAAABSYgBAAAAAACkxACAAAAAAFJiCENTjwwAPzta99rVnvd7vttsuFF15Y+7pUKuVnP/tZg+x7dWbOnJlSqZTXXnutUY8DsKGNGzcuffr0afD9vvTSSymVSnnggQcafN8NdeyG+uw33HBD2rRpU/u6Pj3j4/toSA1RX7Jh+i0AzVN9+npT/l0A1kRASLM0atSolEqlHHPMMSu9d/vtt6dUKjXaScPH/fKXv8yPfvSjDXKsJPnzn/+cTTfdND169EhNTc0GO+662n///fP666+nR48eTV0KwFpbsmRJzj333Oy4445p165dKioqMnDgwFxxxRW16/z7v/97Hn744Sas8h9WnEis6s9ll1221vvZZptt8vrrr2efffZJkrz22msplUqZOXNmI1VeV0P2jJ/97GcZPHhwOnXqlM022yy77bZbvvOd7+TPf/5zA1T6Dw888EAOO+ywdOvWLW3bts22226bY489Ni+//HLtOq+//nqOPfbYBj0uQEu24jxuxZ9OnTplv/32y69//esNcvwDDzwwpVIpV111VZ3lDzzwQEqlUl566aUNUsfqfLwfQ3MiIKTZ6tWrV+6666789a9/rbP8mmuuybbbbrte+/7www/Xet2Kiop07NhxvY63Lq6//voceeSR6dy5c+68884Ndtx1tckmm6R79+5p1crXCNByfPOb38xNN92UH/7wh5k7d27uv//+nHbaaXn77bdr1+nQoUO6du3ahFWu7Pbbb8/rr79e58/o0aPXevvWrVune/fu+dSnPtWIVa5eQ/WMk08+OSeffHIGDx6cu+++O3Pnzs0VV1yRN954IxMmTGigapN58+bl0EMPzY477pjp06dn3rx5ueGGG7Lddtvlb3/7W+163bt3T9u2bRvsuAAbg0GDBtX2qocffjh77bVXhg0blhdffLHe+1yX87e2bdvm/PPPzzvvvFPv4zWWpu7H8Emc2dNs7bjjjtl3331zww031C575ZVX8j//8z856aSTapdVV1dnxIgR6dWrV9q1a5edd945EyZMSLlcrl1n1KhRqayszJVXXpntttsum266aZYsWZL58+fnsMMOS9u2bbPNNttk0qRJK936u7rXF1xwQbp3756KioqccMIJeffdd2vXmTNnTo444ohsueWW6dChQwYOHJh77rlnjZ95+fLluf766zNq1KiceOKJufbaa1da58knn8z++++fTTfdNDvuuGOmTp26yn397W9/y8iRI7P55ptn6623ziWXXFLn/Q8//DDjxo3L9ttvn7Zt2+Yzn/lMrrnmmjrrTJ48Obvuumvatm2bioqKDB48uPb2q1XdjvXwww9n8ODBadeuXbp06ZLjjz8+CxYsqH1/xa1rt99+e3bZZZdsttlmOfDAA/P888+vcWwAGsK0adNy5plnZtiwYdl+++2z++67Z9SoURk7dmztOh+/zXZtv7v+3//7f9lhhx3Stm3b7L///rnrrrvWeBvRX//614waNSrdunXL5ptvns997nOZPXv2SutVVFSke/fudf60b98+yT++j++8887svffeadu2bXbbbbfMmDGjdvuP39K0zTbbJEkOOuiglEqlbLfddnWOt6bP+thjj+Wwww5Lhw4d0q1btxxzzDF1rqz7uI/3jHK5nFNOOSU77LBD2rVrl969e+ecc87J+++/v9p9/OIXv8hPfvKT3Hjjjbnwwguz//77Z9ttt83BBx+cm266Keeee2696/u4e++9Nx06dMikSZOy++67Z/vtt89BBx2Uyy67LP369atd76O3GI8bN26VV3qOGjWqdv3/+Z//yec+97m0a9cuPXv2zEknnZS33nprresCaAlW/CjUvXv37Lrrrhk/fnw+/PDDPPXUU0mSH//4x9ljjz3SoUOHdO/ePccdd1xef/312u1X9Ixf/epXOeCAA9K2bdtMnjw5SXLllVdml112Sdu2bbPjjjvmoosuWumuq3/6p3/KpptumvHjx6+2xtVNLdGmTZs6558LFizISSedlK222ipt27bNzjvvnJ/85Cer3e+a+rpbjGnOBIQ0a6eeemomT55cG/ZNnjw5hxxySJ0rCN9///3stttumTZtWubOnZtzzz035513Xp0v9iR55JFHMmPGjNx+++158skns8kmm+RLX/pSFi9enNmzZ+fOO+/Mr371qzz++ONrrOu///u/s2jRosycOTO33HJL7rrrrvzgBz+off9vf/tb/uVf/iX3339/5syZk8MPPzxHH310nnvuuU/c79133533338/RxxxREaOHJn77ruvzmXwS5YsydChQ9O5c+c88sgjtVfBfDSEW+H888/P4MGD88QTT+S73/1uzjnnnNx33321759yyin55S9/mWuuuSbz5s3L2LFjc9ZZZ+X6669P8veTq2984xv57ne/m2effTazZs3KCSecsNra33jjjRx22GHZeuut88gjj+TOO+/MH/7wh5VuvXr99dfzn//5n7n55pvz0EMP5Z133slXv/rVTxwXgIby6U9/Ovfcc08WLVq0Ttut6bvrsccey1e+8pUMHz48Tz75ZL7zne/k3/7t3z5xn0uWLMlBBx2Ud955J3fffXcef/zxDB06NIceemjmzZu3zp/tjDPOyNixY/P4449nn332yVFHHVXnhOuj5syZk+Tvodvrr7+eqqqqtf6sc+fOzZAhQ7Lffvvl0UcfzYwZM9K6desceuihWbp06VrVWi6Xs+WWW+a//uu/Mm/evFx++eWZMmVKLr744tVu89Of/jR9+vTJcccdt8r3u3Tp0mD1ffrTn051dXXuvvvutVo/+fut6R+9wvOOO+5ImzZtctBBByVJZsyYkS9+8Ys57rjj8tRTT2XatGl56aWXcswxx9T5URNgY/LBBx/kuuuuy6abbpq99tqrdvlll12Wp59+OrfddlteeeWVVX63f/vb385ZZ52VefPm5aijjsq4ceNy2WWX5ZJLLsm8efPy4x//ONdcc03OP//8Otu1bds2F110USZOnLhe86UvWbIkQ4YMyZNPPpmbb745c+fOzZVXXln7A92q1m/Ivg4bXBmaoRNPPLF8yCGHlJcsWVKuqKgoz5gxo1xTU1Pu2bNn+Re/+EV5ypQp5datW692+9NPP71cWVlZZ3+dOnUqv/POO7XLfvOb35STlJ9//vnaZW+99Va5Xbt25ZNPPrl22ZAhQ1Z63b9//zrH+8Y3vlHed999P/Ez9e/fv3zhhReudr/lcrl89NFHl88444za14cffnj5P/7jP2pfX3fddeXNNtusvGjRotplTz/9dDlJ+YILLqhdlqT8r//6r3X2vcsuu5TPPvvscrlcLv/pT38ql0ql8rx58+qsc/7555d33333crlcLv/yl78sd+zYsbx48eJVfp7777+/nKT86quvlsvlcvl73/teuWfPnuX333+/dp0nnniinKQ8a9ascrlcLp933nnl1q1blxcsWFC7zi233FIulUrlJUuWrPI4AA3pgQceKPfq1avcqlWrcr9+/cqnnHJK+bbbbisvX768dp3zzjuvvMMOO9R5vabvruOPP758wAEH1DnWf/7nf5aTlH/729+Wy+Vyef78+XVeT5kypdyzZ8/yhx9+WGe7gw46qPytb32rzjbt2rUrb7bZZnX+PPTQQ+Vy+R/fx5MnT67dx4cfflju1atX+Xvf+94qj/3qq6+Wk5Tvv//+Osdem8964oknlv/lX/6lznZLly4tt2vXrnzbbbfVfraP9umP94xV+dGPflTu06dP7euP72PXXXctH3XUUavdfoWGqG/ZsmXlk08+uVwqlcoVFRXlww8/vDx+/PjyK6+8Ume/Sco//elPV6rhlVdeKXfv3r185pln1i4bMmRI+ayzzqqz3ssvv1xOUn788cfX+LkAWoITTzyx3Lp169peVSqVyptttln5F7/4xWq3mTNnTjlJ+bXXXiuXy//4Tr7ppptq13nvvffK7dq1K9999911tr3xxhvLnTp1qn294hxr+fLl5b322qt8wgknlMvlcvm3v/1tOUl5/vz5dY7x8b7UunXr8pQpU8rlcrk8efLk8qabbrra3rU+fX3FNtCcbJinPEA9tW3bNiNHjsx1112Xd955JzU1NTnqqKNy8803166zfPnyXHrppbnlllvy2muvZenSpfnwww9Xmqdw1113TYcOHWpfz507N127dq1zG1lFRUV23nnnNda1++6713ndo0eP3HvvvbWv33zzzZx33nmZMWNG3njjjdTU1GTp0qWfeHvTn//855WuYDzxxBPz7W9/O+PGjUubNm0yd+7c7LrrrrVXSSTJbrvtlk6dOq20vz322GOlGlfM5/joo4+mXC5nwIABddapqalJ69atkySHHnpoevfune233z6HHnpoDj744BxzzDGrnZfrmWeeyb777ptNNtmkzjh16tQpzzzzTAYPHlxbR7du3erUVS6Xs2DBgvTq1Wu14wPQED73uc/lxRdfzCOPPJLf/e53mT17do499tgcccQRueOOO1IqlVa53Zq+u+bOnZvKyso62+y3336fWEtVVVXeeOONdO7cuc7y999/P+3atauzbMqUKfnsZz9bZ9nWW2+92uO1adMme++9d5555plPrGFV1vRZq6qq8sILL9TpqUmydOnSdZoy4rrrrsvkyZPz0ksv5b333ktNTU2WL1++2vXLa3mVXUPU16pVq0yePDkXXnhh7r///lRVVeWaa67JBRdckLvuuisHHnjgard99913c9RRR2W//farc3dBVVVVHn744fzf//t/V9rm+eefX6lvA7RU++yzT2688cYkf7+z6tZbb80JJ5yQXr16ZcCAAZk5c2YuueSSzJ07N2+//Xbtd//LL7+cnj171u5n7733rv3nZ555JkuWLMk//dM/1enVy5Yty9KlS/Pmm2/W6V2lUik//OEPc+ihh2bMmDH1+hyPPfZY+vbtu1K/XZ116evQHAkIafZOPfXU7LXXXnn11Vdz0kknrTSh64QJE3LJJZdk4sSJ2XPPPbP55ptn4sSJ+dWvflVnvc0222ylfa/uRHBNPhqCrdjPR09qRo0alVdeeSWXXnpptt9++7Rr1y7HHXdcPvjgg9Xu8/rrr8+yZcuy55571lm+bNmy3HnnnfnSl77UYDWu+N+HHnpopUvkV4xJhw4d8uijj+bBBx/M9OnTc/XVV+c73/lO7rvvvpVOUte3ro/WBNDY2rRpk/333z/7779/vv3tb+dnP/tZRo4cmdmzZ2fIkCGr3GZtvrvWtacsX748u+66a2677baV3vv4d3PPnj3r/KDVmNb0WZcvX56RI0fm7LPPXmnbLbbYYq2O8fOf/zynnXZaxo8fnyFDhqRjx475+c9/nv/4j/9Y7TY777zzWgWeDVHfCt27d8/w4cMzfPjwjB8/PnvuuWfOP//81QaEy5cvz/Dhw/OpT30qP/vZz+r8N7F8+fKcddZZGTly5CqPA7CxaNeuXZ2etddee+X222/P5ZdfnosvvjhDhw7NyJEjM3bs2HTt2jWvvfZaKisrVzpX+uj524oe9POf/zw77bTTSsesqKhYadnBBx+cI444ImeeeWbOO++8Ou+teGjWR398WrZs2Xqdk6xLX4fmSEBIs9e3b98MHDgwDz744ErzCibJ7Nmz8/nPf77O/Ehrc4VA37598+abb+bFF1/MDjvskOTvDzx57rnn1isAW1HTpZdemqOPPjpJ8t577+VPf/pTdtttt1Wuv+LhJOecc06GDx9e572LL7441157bb70pS+lb9++ufbaa/P222/X/jL1zDPPZPHixetU34rP98orr+TII49c7XqtW7fO4MGDM3jw4Jx//vnp27dv/uu//muV4/OZz3wmU6ZMyQcffFB7cvnkk09m8eLFq/3cAM3BrrvumiSrnM91bfXt2ze/+93v6ix7+OGHP3GbAQMG5KabbkrHjh2z5ZZb1vvYHz1e3759k/z9ivBHHnlklWFU8o8QcNmyZet8nAEDBuSpp57KDjvsUO8f2mbPnp0999wzZ5xxRu2yj865uyojRozIP//zP+eWW25Z5VxV1dXV6dKlS4PUtyqbbLJJevfunT/96U+rXeff//3f8+STT+aRRx5Z6WRwwIABeeaZZzZY0AvQnLRu3TpLlixJVVVVlixZkssvv7z2qrrHHntsjdt/5jOfSdu2bfOnP/0pQ4cOXevjXnrppenfv38GDhxYZ/mKvvuXv/yl9sFdTzzxRJ3A8LOf/Wx+8pOf5LXXXlurqwgbuq/DhuYhJbQI9957bxYuXFgb5H3UzjvvnJkzZ+b+++/Pc889l+9973v5/e9/v8Z9VlZWZvfdd8/IkSNTVVWVJ598MiNHjkybNm3W+4Ri5513zs0335ynn346TzzxRIYPH/6JJ2F33313Xn311Xz961/PbrvtVufPqFGj8pvf/CYvvfRSjj/++Gy++eYZMWJEnnzyyTz88MP56le/us6XrPfp0ydf/epXc8opp+SnP/1pXnjhhTz55JP5yU9+Uns71O23356JEyfmscceyyuvvJJp06bl1VdfrT35/Lj/83/+T/72t79l1KhR+cMf/pAHHnggI0eOzKBBgzJo0KB1qg+gsQwZMiRXX311Hn300bz88su57777Mnr06HTu3Ln2YRL1ccYZZ+TBBx/M2LFj89xzz+WOO+7IhAkTkqz+ysKvfOUr2X777fOFL3yh9nv+97//fS655JJMmzatzrqLFi3KG2+8UefPO++8U2ed8ePH59e//nXmzZuXb37zm3nzzTczevToVR67a9eu6dChQ37zm9/kjTfeSHV19Vp/1nPOOSfz5s3LiBEj8sgjj2T+/Pm5//77861vfesTw7OP2nnnnfP000/n9ttvz4svvpgf//jH+eUvf/mJ2xx77LE54YQTcuKJJ+bcc8/N7373u7zyyiuZNWtWTjrppFxwwQUNVt8111yTr3/967n33nvzwgsvZN68efnBD36Qu+++e7VX9N9www256qqrap+0ueLf04of8b7//e/n9ttvzxlnnJEnnngiL774Yu65556cfPLJWbJkyVrVBdASfPDBB7Xfgc8//3wuuOCCzJ07N1/60pey4447plQqZcKECZk/f36mTZuW73//+2vcZ4cOHXLOOefknHPOyaRJk/Lss8/mmWeeyS233JKzzjprtdv17ds3J598ci6//PI6y/v06ZNtt90248aNyx//+Mc88MADGTNmTJ2ePXz48Gy77bY5+uijM3369MyfPz/33Xdfbr311lUea136OjRHAkJahPbt26/ysvEkOffcczNkyJB88YtfzH777Zfq6uqcfvrpa9xnqVTKbbfdls022yyDBg3KkUcemSOOOCI777xz2rZtu171TpkyJcuXL8/ee++dYcOG5fOf//xKv1p91LXXXpt99tlnlXPwHXzwwamoqMjkyZPTvn37/PrXv85bb72VvffeO1/5ylcyZsyYev1Cde2112bMmDG56KKL0rdv3xxyyCG58cYb07t37yR/fxrknXfemc9//vPZaaed8p3vfCff+973cvLJJ69yf1tttVV+85vf5LXXXsvAgQNz5JFHZrfddst///d/r3NtAI3liCOOyM0335yhQ4dm5513zkknnZQdd9wxDz744GrnWF0bn/3sZ3PzzTfn5ptvTr9+/XLJJZfkwgsvTJLV9pS2bdtm1qxZGTBgQE466aTstNNOOeaYY/LII4+sNI/uF7/4xXz605+u8+e73/1unXUuu+yynHvuudljjz3y4IMP5vbbb0+PHj1WeexWrVpl0qRJmTp1arbeeuuVprf4JLvuumseeuihvPvuuzn88MPTt2/fnHLKKVmyZMlK8y6tzte//vWMHDkyJ510Uvbcc8/8/ve/z7hx49a43Y033phrr702M2fOzOGHH55dd901p50muEj1AAAgAElEQVR2WrbaaquceeaZDVbf3nvvnffffz+nnXZa+vfvn/333z9Tp07N5ZdfvtoT2ZkzZ+b999/P4YcfXuff07e+9a0kyUEHHZQZM2bkqaeeyqBBg9K/f/+MGTMmm2+++UrTpwC0ZL/97W9rvwP32muv/OIXv8h1112XESNGpH///rnyyitzzTXXpG/fvrnssstWCu9W59xzz82PfvSjXHfdddl9991zwAEHZOLEidluu+0+cbvvf//7tfOsr9CmTZvceuutWbBgQfbcc8+cdtppueiii2pvPU7+fg46a9as7LbbbjnuuONqe87qftRZl74OzVGpvLYzPkMBvPPOO9l6661z4YUX5l//9V+buhwAWrCbbropJ510Ut566621DqbqY+bMmTnooIPy6quvrvVE6gAA8FHmIKTQ7rjjjrRp0ya77rprFixYkPPPPz+lUilf/vKXm7o0AFqYyy67LAcddFAqKipSVVWVs846K//8z//cqOEgAAA0BAEhhfa///u/+f73v5+XXnopm222WT772c/mgQceyFZbbdXUpQHQwjz11FOZMGFCFi1alG222SYjRozI+eef39RlAQDAGrnFGAAAAAAKzENKAAAAAKDABIQAAAAAUGDNZg7Cv/zlL01dQqPr2rVrFi5c2NRltEjGrv6MXf0Zu/prqLHr0aNHA1TT8Db2nuW//fozdvVn7OrP2NWffrVmzem/r+ZUS6KeT9KcakmaVz3NqZZEPZ+kOdWSNH7PcgUhAAAAABSYgBAAAAAACkxACAAAAAAFJiAEAAAAgAITEAIAAABAgQkIAQAAAKDABIQAAAAAUGACQgAAAAAoMAEhAAAAABSYgBAAAAAACkxACAAAAAAFJiAEAAAAgAITEAIAAABAgQkIAQAAAKDABIQAAAAAUGACQgAAAAAosDZNXUBDWnbK0U1dQh2tr7ujqUsAgDX6eP/8axPVsYL+CdB8/PVL+zd1Cf9w20NNXQHARssVhAAAAABQYAJCAAAAACgwASEAAAAAFJiAEAAAAAAKTEAIAAAAAAUmIAQAAACAAhMQAgAAAECBCQgBAAAAoMAEhAAAAABQYAJCAAAAACgwASEAAAAAFJiAEAAAAAAKTEAIAAAAAAUmIAQAAACAAhMQAgAAAECBCQgBAAAAoMAEhAAAAABQYAJCAAAAACgwASEAAAAAFJiAEAAAAAAKTEAIAAAAAAUmIAQAAACAAhMQAgAAAECBtWnqAgAAAIpk4cKFmTRpUt5+++2USqVUVlZm6NCheffddzNx4sS8+eab6datW8aMGZMOHTqkXC5nypQpefzxx7Pppptm9OjR6d27d1N/DAA2IgJCADYaTrgAaAlat26dkSNHpnfv3lmyZEnOPvvs9O/fPzNnzky/fv0ybNiwTJs2LdOmTcuIESPy+OOP54033sgVV1yR559/PpMnT87FF1/c1B8DgI2IW4wB2GisOOGaOHFiLrrootx777157bXXMm3atPTr1y9XXHFF+vXrl2nTpiVJnROuU089NZMnT27iTwBAEXTp0qX2B6l27dqlZ8+eWbRoUaqqqjJkyJAkyZAhQ1JVVZUkefTRRzN48OCUSqXstNNOee+991JdXd1k9QOw8XEFIQAbjS5duqRLly5JVj7hGjduXJK/n3CNGzcuI0aMWO0J14p9AEBjW7BgQebPn58+ffpk8eLFtT2oc+fOWbx4cZJk0aJF6dq1a+02W2yxRRYtWrRSv5o+fXqmT5+eJBk/fnydberrr+u9h4bTpk2bBvlMDUU9q9ecakmaVz3NqZZEPZ+kOdWSNH49AkIANkoNecIFAI1h6dKlmTBhQkaNGpX27dvXea9UKqVUKq3T/iorK1NZWVn7euHChQ1SZ3NRU1PTrD5T165d1bMazamWpHnV05xqSdTzSZpTLUnD1dOjR49VLhcQArDRaegTrsa4IqM5aU5XhyRp0ePb3H5pbkmMXf0Zu/pryrGrqanJhAkTMmjQoOyzzz5Jkk6dOtVeyV5dXZ2OHTsmSSoqKuqcFL711lupqKhokroB2DgJCAHYqDTGCdfGfkVGc9OSx7e5/dLckhi7+jN29dfYV2OsTrlcztVXX52ePXvmyCOPrF0+YMCAzJo1K8OGDcusWbMycODA2uX33HNPPve5z+X5559P+/btXe0OQIPykBIANhprOuFKstIJ1+zZs1Mul/Pcc8854QJgg3j22Wcze/bs/OEPf8iZZ56ZM888M3PmzMmwYcPy1FNP5fTTT8/TTz+dYcOGJUn23HPPbLnlljn99NNzzTXX5Gtf+1oTfwIANjZrvIJw4cKFmTRpUt5+++2USqVUVlZm6NCheffddzNx4sS8+eab6datW8aMGZMOHTqkXC5nypQpefzxx7Pppptm9OjRtU/oAoDGtOKEq1evXjnzzDOTJMOHD8+wYcMyceLEzJgxo7ZnJX8/4ZozZ05OP/30bLLJJhk9enRTlg9AQeyyyy6ZOnXqKt8bO3bsSstKpZJQEIBGtcaAsHXr1hk5cmR69+6dJUuW5Oyzz07//v0zc+bM9OvXL8OGDcu0adMybdq0jBgxIo8//njeeOONXHHFFXn++eczefLkXHzxxRviswBQcE64AAAA1t0abzHu0qVL7RWA7dq1S8+ePbNo0aJUVVVlyJAhSZIhQ4akqqoqSfLoo49m8ODBKZVK2WmnnfLee++lurq6ET8CAAAAAFBf6/SQkgULFmT+/Pnp06dPFi9eXDtPU+fOnbN48eIkyaJFi+o8CWyLLbbIokWLVprTqTGeCNncn8LoCXP1Z+zqz9jVn7GrP2MHAADQcqx1QLh06dJMmDAho0aNSvv27eu8VyqVUiqV1unARXgi5Mc/kyfM1Z+xqz9jV3/Grv6a6qmQAAAArLu1eopxTU1NJkyYkEGDBmWfffZJknTq1Kn21uHq6up07NgxSVJRUVHnpPCtt95KRUVFQ9cNAAAAADSANQaE5XI5V199dXr27JkjjzyydvmAAQMya9asJMmsWbMycODA2uWzZ89OuVzOc889l/bt2690ezEAAAAA0Dys8RbjZ599NrNnz06vXr1y5plnJkmGDx+eYcOGZeLEiZkxY0a6deuWMWPGJEn23HPPzJkzJ6effno22WSTjB49unE/AQAAAABQb2sMCHfZZZdMnTp1le+NHTt2pWWlUilf+9rX1r8yAAAAAKDRrdUchAAAAADAxklACAAAAAAFJiAEAAAAgAITEAIAAABAgQkIAQAAAKDABIQAAAAAUGACQgAAAAAoMAEhAAAAABSYgBAAAAAACkxACAAAAAAFJiAEAAAAgAITEAIAAABAgQkIAQAAAKDABIQAAAAAUGACQgAAAAAoMAEhAAAAABSYgBAAAAAACkxACAAAAAAFJiAEAAAAgAITEAIAAABAgQkIAQAAAKDABIQAAAAAUGACQgAAAAAoMAEhAAAAABSYgBAAAAAACkxACAAAAAAFJiAEAAAAgAITEAIAAABAgQkIAQAAAKDABIQAAAAAUGACQgAAAAAoMAEhAAAAABSYgBAAAAAACkxACAAAAAAFJiAEAAAAgAITEAIAAABAgQkIAQAAAKDABIQAAAAAUGACQgAAAAAoMAEhAAAAABSYgBAAAAAACkxACAAAAAAFJiAEAAAAgAITEAIAAABAgQkIAQAAAKDABIQAAAAAUGACQgAAAAAoMAEhAAAAABSYgBAAAAAACkxACAAAAAAFJiAEAAAAgAITEAIAAABAgQkIAQAAAKDABIQAAAAAUGACQgAAAAAoMAEhAAAAABSYgBAAAAAACkxACAAAAAAFJiAEAAAAgAITEAIAAABAgQkIAQAAAKDABIQAAAAAUGACQgAAAAAoMAEhAAAAABSYgBAAAAAACkxACAAAAAAFJiAEAAAAgAJr09QFAAAAFMlVV12VOXPmpFOnTpkwYUKSZOrUqbnvvvvSsWPHJMnw4cOz1157JUluu+22zJgxI61atcpJJ52UPfbYo8lqB2DjJCAEAADYgA488MB8/vOfz6RJk+os/8IXvpCjjz66zrLXXnstDz30UH70ox+luro6F1xwQX784x+nVSs3gwHQcASEAGw0XJEBQEvQt2/fLFiwYK3Wraqqyv77759PfepT2XLLLdO9e/e88MIL2WmnnRq5SgCKREAIwEbDFRkAtGT33ntvZs+end69e+eEE05Ihw4dsmjRouy4446161RUVGTRokVNWCUAGyMBIQAbDVdkANBSHXbYYTn22GOTJLfeemtuuummjB49ep32MX369EyfPj1JMn78+HTt2nW96/rreu+h4bRp06ZBPlNDUc/qNadakuZVT3OqJVHPJ2lOtSSNX4+AEICN3vpekdEYJ1zNSXM6+UvSose3uf1FsiUxdvVn7OqvOY1d586da//5kEMOyQ9+8IMkf+9Pb731Vu17ixYtSkVFxSr3UVlZmcrKytrXCxcubKRqm0ZNTU2z+kxdu3ZVz2o0p1qS5lVPc6olUc8naU61JA1XT48ePVa5fI0BofmcAGjJGuKKjI39hKu5acnj29z+ItmSGLv6M3b119gnW+uiuro6Xbp0SZI88sgj2WabbZIkAwYMyBVXXJEjjzwy1dXVef3119OnT5/1Ph4AfNQaA0LzOQHQkjXEFRkA0JAuv/zyzJ07N++8806+8Y1v5Mtf/nKeeeaZvPTSSymVSunWrVtOPfXUJMk222yT/fbbL2eccUZatWqVk08+2fkVAA1ujQGh+ZwAaMlckQFAc/Nv//ZvKy07+OCDV7v+Mccck2OOOaYxSwKg4Oo9B2FznM+puc+h1JzmOGlpjF39Gbv6M3b111Rj54oMAACAdVevgNB8Tmvn45/J/DD1Z+zqz9jVn7Grv6aa08kVGQAAAOuuXpdKdO7cOa1atUqrVq1yyCGH5MUXX0xiPicAAAAAaGnqFRBWV1fX/vPH53N66KGH8uGHH2bBggXmcwIAAACAZm6NtxibzwkAAAAANl5rDAjN5wQAAAAAGy+X9wEAAABAgQkIAQAAAKDABIQAAAAAUGACQgAAAAAoMAEhAAAAABSYgBAAAAAACkxACAAAAAAFJiAEAAAAgAITEAIAAABAgQkIAQAAAKDABIQAAAAAUGACQgAAAAAoMAEhAAAAABSYgBAAAAAACkxACAAAAAAFJiAEAAAAgAITEAIAAABAgQkIAQAAAKDABIQAAAAAUGACQgAAAAAoMAEhAAAAABRYm6YuAAAAANbkr1/av6lLqOu2h5q6AoAG4wpCAAAAACgwASEAAAAAFJiAEAAAAAAKTEAIAAAAAAUmIAQAAACAAhMQAgAAAECBCQgBAAAAoMAEhAAAAABQYAJCAAAAACgwASEAAAAAFJiAEAAAAAAKTEAIAAAAAAUmIAQAAACAAhMQAgAAAECBCQgBAAAAoMAEhAAAAABQYAJCAAAAACgwASEAAAAAFJiAEAAAAAAKTEAIAAAAAAUmIAQAAACAAhMQAgAAAECBCQgBAAAAoMAEhAAAAABQYAJCAAAAACgwASEAAAAAFJiAEAAAAAAKTEAIAAAAAAUmIAQAAACAAhMQAgAAAECBCQgBAAAAoMAEhAAAAABQYAJCAAAAACgwASEAAAAAFJiAEAAAAAAKTEAIAAAAAAUmIAQAAACAAhMQAgAAAECBCQgBAAAAoMAEhAAAAABQYAJCAAAAACgwASEAAAAAFJiAEAAAAAAKTEAIAAAAAAUmIAQAAACAAhMQAgAAAECBCQgBAAAAoMAEhAAAAABQYG2augAAAIAiueqqqzJnzpx06tQpEyZMSJK8++67mThxYt58881069YtY8aMSYcOHVIulzNlypQ8/vjj2XTTTTN69Oj07v3/2bv36KjKe43jz86EEJJAkiEhkIBAuCnhJgSJVEiOpOARxGg5KAqKFamGSqEW4WAFbCyNAoaCWDzQoqe2thwvkVrRGpCES9FgSEGoECyIVCCExEC4iEn2+YPFLIZ7JjPZM9nfz1qu5ezs2fPbb8L8Zp553z2JFp8BAKCxYQYhAKDReOmllzRhwgQ98cQTrm1VVVXKysrS5MmTlZWVpaqqKkmSaZr63e9+p8cff1w/+9nP9K9//cuqsgEANpOWlqaZM2e6bcvNzVXPnj21aNEi9ezZU7m5uZKkrVu36tChQ1q0aJEmTpyo5cuXW1EyAKCRIyAEADQavOECAASC7t27KyIiwm1bYWGhUlNTJUmpqakqLCyUJG3ZskWDBw+WYRjq2rWrTpw4oYqKigavGQDQuLHEGADQaHTv3l2lpaVu2woLCzVnzhxJZ99wzZkzR2PHjr3sG67o6GgLKgcA2F1lZaWrB0VFRamyslKSVF5erpiYGNd+LVu2VHl5+SX7VV5envLy8iRJ2dnZbvfz1OF6H6HxCg4O9soYe4s/1eNPtUj+VY8/1SJRz5X4Uy2S7+u5akDI9TEAAIHMX99w+RN/e/MXyOPrby8kAwlj5znGznP+OnaGYcgwjDrfLz09Xenp6a7bZWVl3iwLF6iurvarMY6JifGbevypFsm/6vGnWiTquRJ/qkXyXj3x8fGX3H7VgDAtLU233XablixZ4tp2brlWRkaGcnNzlZubq7Fjx7ot1yopKdHy5cs1d+7cehcPAIA38IYrMATy+PrbC8lAwth5jrHznK/fbNVFZGSkayZ7RUWFWrRoIUlyOp1uNR49elROp7PejwcAwPmueg1Cro8BAAhk595wSeINFwDAbyUnJys/P1+SlJ+fr/79+7u2FxQUyDRN7d69W2FhYVwOAwDgdR5dg9Bfl2v5+xIpf13CEAgYO88xdp5j7DznT2N37g1XRkbGRW+43n//fX3ve99TSUkJb7gAAA1m4cKF2rlzp44fP65HH31Uo0ePVkZGhnJycrR27VrXZZwk6cYbb1RRUZEmT56skJAQZWZmWlw9AKAxqveXlLBc6/IuPCeWf3iOsfMcY+c5xs5zVi3Z4g0XACAQTJky5ZLbZ82addE2wzA0YcIEX5cEALA5jwJCro8BAPBHvOECAAAAgLq76jUIL4XrYwAAAAAAAACNw1VnELJcCwAAAAAAAGi8rhoQslwLAAAAAAAAaLw8WmIMAAAAAAAAoHEgIAQAAAAAAABsjIAQAAAAAAAAsDECQgAAAAAAAMDGCAgBAAAAAAAAGyMgBAAAAAAAAGyMgBAAAAAAAACwMQJCAAAAAAAAwMYICAEAAAAAAAAbIyAEAAAAAAAAbIyAEAAAAAAAALAxAkIAAAAAAADAxggIAQAAAAAAABsjIAQAAAAAAABsjIAQAAAAAAAAsDECQgAAAAAAAMDGCAgBAAAAAAAAGyMgBAAAAAAAAGyMgBAAAAAAAACwMQJCAAAAAAAAwMYICAEAAAAAAAAbIyAEAAAAAAAAbIyAEAAAAAAAALAxAkIAAAAAAADAxggIAQAAAAAAABsjIAQAAAAAAABsjIAQAAAAAAAAsDECQgAAAAAAAMDGCAgBAAAAAAAAGyMgBAAAAAAAAGyMgBAAAAAAAACwMQJCAAAAAAAAwMYICAEAAAAAAAAbIyAEAAAAAAAAbIyAEAAAAAAAALAxAkIAAAAAAADAxggIAQAAAAAAABsjIAQAAAAAAABsjIAQAAAAAAAAsDECQgAAAAAAAMDGCAgBAAAAAAAAGyMgBAAAAAAAAGyMgBAAAAAAAACwMQJCAAAAAAAAwMYICAEAAAAAAAAbIyAEAAAAAAAAbIyAEAAAAAAAALAxAkIAAAAAAADAxggIAQAAAAAAABsjIAQAAAAAAABsjIAQAAAAAAAAsDECQgAAAAAAAMDGCAgBAAAAAAAAGyMgBAAAAAAAAGyMgBAAAAAAAACwMQJCAAAAAAAAwMYICAEAAAAAAAAbIyAEAAAAAAAAbIyAEAAAAAAAALAxAkIAAAAAAADAxggIAQAAAAAAABsjIAQAAAAAAABsjIAQAAAAAAAAsDECQgAAAAAAAMDGCAgBAAAAAAAAGyMgBAAAAAAAAGyMgBAAAAAAAACwMQJCAAAAAAAAwMYICAEAAAAAAAAbIyAEAAAAAAAAbCzY6gIAAPVX88hIq0tw9/YmqytAAPOnv2fHslVWlwAAAAD4HDMIAQAAAAAAABtjBiEAwBYmTZqk0NBQBQUFyeFwKDs7W1VVVcrJydGRI0cUGxurqVOnKiIiwupSAQA2Rr8CAFiBgBAAYBuzZ89WixYtXLdzc3PVs2dPZWRkKDc3V7m5uRo7dqyFFQIAQL8CADS8ei0xnjRpkp544glNmzZNM2bMkCRVVVUpKytLkydPVlZWlqqqqrxSKAAA3lZYWKjU1FRJUmpqqgoLCy2uCACAi9GvAAC+Vu8ZhHy6BQAIFL/85S8lSd///veVnp6uyspKRUdHS5KioqJUWVl5yfvl5eUpLy9PkpSdna2YmJiGKbiBHLa6AD9W1991cHBwo/v7aCiMnecYO8/569j5U7+iR1yev/39+FM9/lSL5F/1+FMtEvVciT/VIvm+Hq8vMS4sLNScOXMknf10a86cOQSEAADLZWVlyel0qrKyUs8++6zi4+Pdfm4YhgzDuOR909PTlZ6e7rpdVlbm01rhP+r6u46JieHvw0OMnecYO895a+wu7Cn1Qb8KHNXV1X41xv70XOBPtUj+VY8/1SJRz5X4Uy2S73tWvQNCPt26vAvPyd/S50DC2HmOsfNcII2dvz3/+ePYOZ1OSVJkZKT69++vPXv2KDIyUhUVFYqOjlZFRYXbjHgAAKxAvwIAWKFeASGfbl3Zhefkb+lzIGHsPMfYeY6x85y3PlH31oyM06dPyzRNNWvWTKdPn9a2bds0atQoJScnKz8/XxkZGcrPz1f//v298ngAAHiCfgUAsEq9AkI+3QIABILKykrNnz9fklRTU6NbbrlFffr0UadOnZSTk6O1a9cqNjZWU6dOtbhSAICd0a8AAFbxOCDk063AUvPISKtLcONYtsrqEgDYSFxcnObNm3fR9ubNm2vWrFkWVAQAwMXoVwAAq3gcEPLpFgAAAAAAABD4PA4I+XQLAAAAAAAACHxBVhcAAAAAAAAAwDr1+pISAACAxqyu1/A97KM6zuEavgAAAPAFZhACAAAAAAAANkZACAAAAAAAANgYASEAAAAAAABgYwSEAAAAAAAAgI0REAIAAAAAAAA2RkAIAAAAAAAA2BgBIQAAAAAAAGBjwVYXAAAAgMBT88hIrx7vcD3v71i2yit1AAAA2BEBoQ9d+MK5vi98AQAAAAAAAG9jiTEAAAAAAABgYwSEAAAAAAAAgI0REAIAAAAAAAA2xjUIAQAAAoS3vxgEAAAAkJhBCAAAAAAAANgaASEAAAAAAABgYwSEAAAAAAAAgI0REAIAAAAAAAA2RkAIAAAAAAAA2BgBIQAAAAAAAGBjBIQAAAAAAACAjREQAgAAAAAAADZGQAgAAAAAAADYWLDVBcCeah4ZWaf9D/uoDklyLFvlw6MDAAAAAAD4N2YQAgAAAAAAADbGDEIAAAAADaauK0l86u1NVlcAAIBfYAYhAAAAAAAAYGMEhAAAAAAAAICNERACAAAAAAAANkZACAAAAAAAANgYX1ICAAAAAABgQ4fvGmh1Ce748ijLMIMQAAAAAAAAsDECQgAAAAAAAMDGCAgBAAAAAAAAG+MahAACRs0jIxv08Q5f5eeOZasapA4AAAAAAHyJgBAAgAbW0GE3AAAAAFwJS4wBAAAAAAAAG2MGIWzP32bysGwVAAAAAAA0JGYQAgAAAAAAADZGQAgAAAAAAADYGEuMAQAAAC9ryEuYHL7Kz7l8CeAbh+8aaHUJ7t7eZHUFAAIYMwgBAAAAAAAAG2MGIeBnvD3j4GqzCq6GWQcAAAAAgIbgVzNzbTYrl4AQAAAAAIAAR7ACoD5YYgwAAAAAAADYGDMIAQAAAAAAgPP41axcyeczc5lBCAAAAAAAANgYASEAAAAAAABgYwSEAAAAAAAAgI0REAIAAAAAAAA2RkAIAAAAAAAA2BgBIQAAAAAAAGBjBIQAAAAAAACAjREQAgAAAAAAADYWbHUBAPxbzSMjrS4BAAAAAAD4EDMIAQAAAAAAABsjIAQAAAAAAABsjCXGAAAACHhcEgMAEAgO3zXQ6hKAS2IGIQAAAAAAAGBjBIQAAAAAAACAjbHEGAAAAAAAeI3fLaN9e5PVFQB+jxmEAAAAAAAAgI0xgxAAAAAAADRafjejEfBDzCAEAAAAAAAAbIyAEAAAAAAAALAxAkIAAAAAAADAxggIAQAAAAAAABsjIAQAAAAAAABsjIAQAAAAAAAAsLFgqwsAgEBV88hIq0sAAAAAAKDemEEIAAAAAAAA2BgBIQAAAAAAAGBjPltiXFxcrBUrVqi2tlZDhgxRRkaGrx4KAACP0a8ANHZcEqNxoF8BAHzJJzMIa2tr9dvf/lYzZ85UTk6ONm7cqAMHDvjioQAA8Bj9CgAQCOhXAABf80lAuGfPHrVu3VpxcXEKDg7WwIEDVVhY6IuHAgDAY/QrAEAgoF8BAHzNJ0uMy8vL1bJlS9ftli1bqqSkxG2fvLw85eXlSZKys7MVHx9f/wf+65b6HwMA4BVeeV73sWvpV5IPehb9CgD8Bv3qKuhZAOA3fNmzLPuSkvT0dGVnZys7O9uqEhrcjBkzrC4hYDF2nmPsPMfYea6xjZ3delZj+/01JMbOc4yd5xg7zzW2sfNFv/KnMfKnWiTquRJ/qkXyr3r8qRaJeq7En2qRfF+PTwJCp9Opo0ePum4fPXpUTqfTFw8FAIDH6FcAgEBAvwIA+JpPAsJOnTrp4MGDKi0tVXV1tTZt2qTk5GRfPBQAAB6jXwEAAgH9CgDga445c+bM8fZBg4KC1Lp1ay1evFjvv/++Bg0apJSUFG8/TEBKTEy0uoSAxdh5jrHzHGPnuUAYO/rV5QXC789fMXaeY+w8x9h5LtPBzG4AACAASURBVBDGzup+5U9j5E+1SNRzJf5Ui+Rf9fhTLRL1XIk/1SL5th7DNE3TZ0cHAAAAAAAA4Ncs+5ISAAAAAAAAANYjIAQAAAAAAABsLNjqAhq7srIyLVmyRN98840Mw1B6erpuv/12q8sKKLW1tZoxY4acTqfffc24Pztx4oSWLl2qr776SoZh6LHHHlPXrl2tLisgvPvuu1q7dq0Mw1C7du2UmZmpkJAQq8vyWy+99JKKiooUGRmpBQsWSJKqqqqUk5OjI0eOKDY2VlOnTlVERITFleJq6Fn1Q7/yHD3Lc/Ssa0e/qptLjZfVj+8vvy9/6pdnzpzR7NmzVV1drZqaGqWkpGj06NGW1HLOe++9pzVr1sg0TQ0ZMkTDhw+3pI6vv/5aOTk5rtulpaUaPXq0ZfX8+9//1m9+8xudOnVKEREReuKJJ9SiRQtLajln0qRJCg0NVVBQkBwOh7Kzsy2rxR/7mb+8tmuo10kEhD7mcDg0btw4JSYm6tSpU5oxY4Z69eqltm3bWl1awHjvvfeUkJCgU6dOWV1KQFmxYoX69OmjJ554QtXV1fr222+tLikglJeXa/Xq1crJyVFISIheeOEFbdq0SWlpaVaX5rfS0tJ02223acmSJa5tubm56tmzpzIyMpSbm6vc3FyNHTvWwipxLehZ9UO/8hw9yzP0rLqhX9XNpcbL6sf3l9+XP/XLJk2aaPbs2QoNDVV1dbVmzZqlPn36WPYhy/79+7VmzRrNnTtXwcHBmjt3rvr166fWrVs3eC3x8fGaN2+epLNBz49+9CPddNNNDV7H+R5//HHFxcXpj3/8oz788EP94Ac/sLQeSZo9e7blQaW/9jN/eW3XUK+TWGLsY9HR0a5vmWnWrJkSEhJUXl5ucVWB4+jRoyoqKtKQIUOsLiWgnDx5Uv/85z916623SpKCg4MVHh5ucVWBo7a2VmfOnFFNTY3OnDmj6Ohoq0vya927d7/o0/vCwkKlpqZKklJTU1VYWGhFaagjepbn6Feeo2fVDz3r2tGv6uZS42X14/vL78uf+qVhGAoNDZUk1dTUqKamRoZhWFKLdHaWXOfOndW0aVM5HA7dcMMN+vjjjy2r55zt27erdevWio2NtayGhIQExcXFSZK+++47NWnSxLJa/JG/9TN/eW3XkK+TmEHYgEpLS7V371517tzZ6lICxiuvvKKxY8dantgHmtLSUrVo0UIvvfSSvvzySyUmJmr8+PGuFw+4PKfTqTvuuEOPPfaYQkJC1Lt3b/Xu3dvqsgJOZWWlq6lHRUWpsrLS4opQV/SsuqFfeY6e5Tl6Vv3RrwKLP/6+/KFf1tbWavr06Tp06JCGDRumLl26WFZLu3bt9Kc//UnHjx9XSEiItm7dqk6dOllWzzkbN27U9773PavLkCQVFxeruLhYzz77rNWlSJJ++ctfSpK+//3vKz093ZIa/LGf+ctru4Z8ncQMwgZy+vRpLViwQOPHj1dYWJjV5QSETz/9VJGRka5P53DtampqtHfvXg0dOlTPP/+8mjZtqtzcXKvLCghVVVUqLCzUkiVL9PLLL+v06dMqKCiwuqyAZhiGpZ9ko+7oWXVDv6ofepbn6FneRb8KLP7w+/KXfhkUFKR58+Zp6dKl+uKLL7R//37Lamnbtq3uvPNOPfvss5o7d646dOigoCBrY4fq6mp9+umnSklJsbQO6WyYu3TpUj355JN+MVs+KytLzz33nGbOnKkPPvhAO3futKQOf+tn/vTariFfJxEQNoDq6motWLBAgwYN0oABA6wuJ2Ds2rVLW7Zs0aRJk7Rw4UJ99tlnWrRokdVlBYSWLVuqZcuWrk8PU1JStHfvXourCgzbt29Xq1at1KJFCwUHB2vAgAHavXu31WUFnMjISFVUVEiSKioqLL+uCa4dPavu6Ff1Q8/yHD2r/uhXgcWffl/+2C/Dw8OVlJSk4uJiS+u49dZb9dxzz+mZZ55ReHi42rRpY2k9W7duVceOHRUVFWVpHdLZv9uwsDDLx+Qcp9Mp6ey/rf79+2vPnj2W1OFv/cyfXts15OskAkIfM01TS5cuVUJCgkaMGGF1OQHlvvvu09KlS7VkyRJNmTJFPXr00OTJk60uKyBERUWpZcuW+vrrryWdfcLlSwauTUxMjEpKSvTtt9/KNE1t375dCQkJVpcVcJKTk5Wfny9Jys/PV//+/S2uCNeCnuUZ+lX90LM8R8+qP/pVYPGX35c/9ctjx47pxIkTks5+o/G2bdssfx44t/S7rKxMn3zyiW655RZL6/Gn5cXh4eF64IEHrC5D0tkZsOeWz54+fVrbtm3TddddZ0kt/tbP/Om1XUO+TuIahD62a9cuFRQU6LrrrtO0adMkSWPGjFHfvn0trgyN3Q9/+EMtWrRI1dXVatWqlTIzM60uKSB06dJFKSkpmj59uhwOhzp06GDZtTgCxcKFC7Vz504dP35cjz76qEaPHq2MjAzl5ORo7dq1io2N1dSpU60uE9eAngWr0LM8Q8+qG/pV3VxqvM5dJN+qx/eX35c/9cuKigotWbJEtbW1Mk1TN998s/r169fgdZxvwYIFOn78uIKDg/Xwww9bupT2XPA1ceJEy2o438mTJ7VmzRr16dPH6lJUWVmp+fPnSzq7jPWWW26xrC762ZU11OskwzRN0ydHBgAAAAAAAOD3WGIMAAAAAAAA2BgBIQAAAAAAAGBjBIQAAAAAAACAjREQAgAAAAAAADZGQAgAAAAAAADYGAEhAAAAAAAAYGMEhAAAAAAAAICNERACAAAAAAAANkZACAAAAAAAANgYASEAAAAAAABgYwSEAAAAAAAAgI0REAIAAAAAAAA2RkCIRqdDhw569tlnG+Sx0tLSNGHChDrfryFr9LV9+/bJMAxt2LDB6lIAAD5gGIZee+01Sx573bp1MgxDBw4c8Opx58yZo86dO7tuv/LKKwoODvbqYwAAvMtXPQHAWQSECCjjx4+XYRiu/yIjI3XzzTfrvffes7o0l/379+uxxx5Tx44d1bRpUyUkJGjYsGHKzc2VaZpWl1cvnTt31pw5c9y2tWvXTgcPHtSAAQOsKQoAAsC5/vXkk0+6bT9w4IAMw9C6deusKcwDHTp0kGEYF/Xe1157TYZhWFRV/dxzzz3697//bXUZAGA75/rj3XfffdHP3nnnHRmG4foAZ+DAgTp48KDi4+MlSRs2bJBhGNq3b19Dlgw0WgSECDiDBg3SwYMHdfDgQW3evFl9+/ZVRkaGvvjiC6tLU3Fxsfr06aOPP/5YL7zwgrZv3668vDyNHDlSU6dOVWVlpcfHPnPmjBcr9R6Hw6HWrVurSZMmVpcCAH4tNDRUixYt0pdffum1Y5qmqe+++85rx7tWoaGhevLJJ1VTU9Pgj+0LzZo1U1xcnNVlAIAtXXfddXr33Xd1+PBht+0vv/yy2rdv77odEhKi1q1bKyiIGAPwBf5lIeCcawytW7fWDTfcoOzsbH333Xfatm3bJff/4x//qAEDBigyMlIxMTEaPny4du/e7fr5uSWyK1eu1IgRIxQWFqbExES98sorbsf58ssvddttt6lZs2Zq166dFi9e7PZz0zT14IMPKiEhQZ988onuuusude3aVTfccIMmTZqk7du3KyIiwrX/mTNn9JOf/EROp1NxcXGaOnWqqqurXT9PS0vTww8/rKefflpt2rTRddddJ0navHmzBg8erGbNmik6Olr33XefSktLXfc7t2xq5cqV6tKli8LCwpSRkaFjx47prbfeUrdu3dS8eXONGjXKLbAsKirSf/7nf6pVq1aKiIhQ//799f7777vV88UXX+iZZ55xzeDct2/fRUuMr3U8AcBuBg4cqN69e2vmzJmX3WfXrl0aPny4IiIiFBERoTvuuEN79uxx/fzcUtiPPvpIN954o5o2baq8vDxXz/j5z3+uVq1aKSoqSk899ZRqa2v1i1/8QnFxcYqNjdVTTz3l9nhX65GXM2HCBH355Zf63e9+d9l9LrVs91IzJr/44guNGjVKTqdTYWFh6tWrl959993LHnfPnj36wQ9+oKioKEVHR2vo0KHavn272z7vvfee+vXrp6ZNm6pVq1bKzMzUiRMn6lQrAKBhdOnSRSkpKW7vF/bv368PP/xQDz30kGvb+UuM9+3bp0GDBkmSOnbsKMMwlJaWJuns+7L58+crMTFRISEh6tSpkxYuXOj2mO+8845uvPFGhYWFKSoqSjfddJO2bt3q+vnVes2xY8f00EMPqXXr1mratKnatWunn/70pz4YHaDhEBAioJ05c0bLli1T06ZN1bdv30vu8+233+rnP/+5ioqK9OGHH8rhcGj48OEXzcibMWOGHnjgAW3btk333nuvJkyY4HqTZJqm7rrrLh09elTr1q3TX/7yF61atUpFRUWu+//jH//Qtm3bNH369Eu+yYiIiHDbvnjxYrVp00Yff/yxFi9erBdffFGvvvqq231WrlypI0eOaM2aNfrwww916NAhDR06VG3bttUnn3yiv/zlL/rss880atQot/sdPHhQr776qt58802tXr1aGzdu1KhRo7R8+XKtXLlSq1ev1vr16zV37lzXfY4dO6Z77rlHH330kYqKijRs2DCNHDnSNQZvvfWWOnTooCeeeMI1g7Ndu3aX/d1caTwBwI4Mw9D8+fP1+uuva8uWLRf9/NSpUxo6dKhOnz6t/Px85efnq6qqSrfddptbz6qtrdX06dP1wgsv6PPPP1dycrIk6Y033tB3332nDRs26IUXXtDcuXM1fPhwVVVVaf369Zo/f77mzp2r1atXu451rT3yQnFxcXryySc1a9asKwZvV3Po0CENHDhQ33zzjVatWqXt27crKyvrsrNDDh8+rFtuuUWtWrXS+vXrtXnzZnXr1k1paWk6cuSIJGnbtm0aOXKkBg8erH/84x969dVX9e677+rRRx/1uE4AgG9NnDhRy5cvd12Safny5RoyZIjbDMLztWvXTu+8844k6ZNPPtHBgwf11ltvSZJeeuklPf3005oxY4Z27NihadOmacaMGfrtb38r6Wzv+a//+i+NGTNGO3bs0N///ndNmTLF9V7tWnrNud75zjvvqKSkRH/+8591ww03+HSMAJ8zgQDy4IMPmg6HwwwPDzfDw8NNwzDM8PBw880333Tt0759ezMrK+uyxzh69KgpydywYYNpmqa5d+9eU5K5YMEC1z7V1dVmRESEuXTpUtM0TfPDDz80JZm7du1y7VNaWmqGhoaaDz/8sGmapvnnP//ZlGR++umnVz2P9u3bm3fccYfbtttuu8289957XbdTU1PNLl26mDU1Na5tP//5z82EhATz22+/dW0rLi42JZn5+fmmaZrm7NmzTYfDYR45csS1T2ZmphkUFGSWlpa6tk2ePNns16/fFevs1auX+eyzz7pud+rUyZw9e7bbPufGb/369W63rzSeAGA3Dz74oDlkyBDTNE0zIyPDTE1NNU3TNL/66itTkvnRRx+Zy5cvN5s1a+b2/H3o0CEzNDTUfPXVV03TNM0VK1aYksyCggK346emppq9e/d229a9e3ezR48ebtt69eplPvHEE5et88IeaZqmKcn8/e9/77p9rs+eOHHCjI+PN2fNmmWapmn+/ve/N89/ablixQrT4XC4Hf/88zXNs30tLi7OrKqqumQ9H330kSnJ/Oqrr0zTPNvjBgwY4LZPbW2tmZiYaObk5JimaZpjx441+/fv77ZPbm6uaRiGuW/fPtdxOnXqdMVaAQC+d64/njp1ynQ6nebatWvN6upqMyEhwXzzzTfdnp8v7Anr1683JZl79+51O2bbtm3NadOmuW2bMmWK2bFjR9M0TbOoqOiS9zvnWnrNyJEjzQcffLCeZw/4F2YQIuAMGDBAxcXFKi4u1pYtWzRp0iQ98MADl5yNIZ29LuBdd92ljh07qnnz5q6luhdeA6pPnz6u/3c4HGrVqpXrOhg7d+5UTEyMunbt6tonNjZW3bp1c9026/gFJOc/niTFx8dfdN2Nfv36uc2i2LFjh1JSUhQSEuLa1rt3b0VGRmrHjh2ubQkJCYqJiXHdPrckOzY21m3b+UuTjxw5oszMTF1//fWKiopSRESEduzY4fG1sq40ngBgZ88995w2btyoVatWuW3fsWOHunfv7vb8HRcXp27durk9x0tS//79Lzpu79693W63bt1avXr1umjb+c/919ojLyUsLExZWVlasGCBDh48eNX9L+XTTz/VwIEDFR4efk37FxYW6tNPP3UtwY6IiFDz5s21b98+lZSUSDo7joMHD3a7X2pqqkzT1M6dOz2qEwDgW6GhoRo3bpyWLVumv/71r6qurtYdd9xR5+McO3ZMBw4cuGQf2Ldvn06ePKlevXpp2LBh6tGjh+666y79+te/1ldffeXa91p6TWZmpt544w316NFDP/nJT7R69WrV1tbWbxAAi3GxFQScZs2aqXPnzq7bffv21TvvvKOFCxfqtddec9v35MmTGjp0qG655RatWLHCdQHypKSki5ZPnR+6SWeXgtXlSf5cWLhz587LLneu6+Nd6xumC134hSGGYVxy2/mPN378eO3fv1/PP/+8OnbsqGbNmunee+/1+MtR6jueANBYde3aVT/60Y80ffp0t+W+18rhcCg0NPSi7XV97q9Lj7yc8ePH69e//rWefvpp17WfzrnUMuH6fqFKbW2thgwZohdffPGin0VGRtbr2AAAa02cOFF9+/bVV199pYceeshnX4LocDi0evVqFRYWKi8vT2+++aZmzJih//u//9OIESOuqdcMGzZM+/fv1wcffKB169Zp7Nix6tmzp9asWSOHw+GTugFfYwYhGgWHw6FTp05dtP2f//ynjhw5ol/+8pdKS0vTDTfcoIqKijrP9uvevbvKyspcnxhJUllZmXbt2uW63bt3b/Xs2VPPPfec25eNnFNVVXXJ7XWRlJSkzZs3u71x+8c//qHKykr16NGjXscuKChQZmamRo4cqZ49e6pNmzb617/+5bZPSEhIo/nGSgCw0uzZs/X111/rf/7nf1zbkpKStHPnTpWVlbm2HT58WLt27ar3c/yleKNHBgUFad68eXrllVf02Wefuf2sVatWqqmpcZs9fv61e6WzM+U3bdp0zdcxTE5O1o4dO9S2bVt17tzZ7b9zs+STkpJUUFDgdr/8/HwZhqGkpKRrPjcAQMPq3r27+vfvr40bN2rChAlX3f/chITz35+0aNFCbdu2vWQf6Nixo8LCwiSd/cDspptu0syZM1VQUKDU1FStWLFC0rX1GklyOp0aM2aMXn75Zf31r39Vfn4+M9UR0AgIEXDOnDmjQ4cO6dChQyopKVFWVpZ27typu+6666J927dvr6ZNm2rx4sX64osvtGbNGv3kJz+RYRh1eswhQ4aod+/eGjt2rD755BMVFxfr/vvvd/tUyzAMvfLKKzpw4IAGDBig3NxclZSU6PPPP9fLL7+sXr16qaqqql7n/uMf/1jHjh3T+PHj9dlnn2nDhg0aN26cBg0a5PoWL09169ZNf/jDH7R9+3YVFxdrzJgxF4WBHTt21MaNG7V//36VlZUxIxAAPBQbG6sZM2a4favifffdp9jYWN1zzz0qKirSp59+qnvvvVcJCQm65557vF6Dt3rk0KFDNWTIEC1atMht+0033aTmzZtrxowZKikp0fvvv69f/OIXbvtkZmaqtrZWd955pzZu3Ki9e/fq3XffvezMyh//+MeqqanRnXfeqfXr12vfvn3asGGDnnrqKW3atEmSNG3aNBUVFWnq1Kn6/PPP9f777+vxxx/X/fff71pCDQDwTx988IHKysrUqVOnq+7bvn17BQUF6b333lNpaakqKyslSf/93/+txYsXa9myZSopKdHLL7+s3/zmN5o5c6YkadOmTcrKytLHH3+s/fv3a82aNdq2bZu6d+8u6dp6zVNPPaW33npLu3btUklJif7whz8oIiKCPoOARkCIgLN+/Xq1adNGbdq0Ud++ffXmm29q2bJlGjt27EX7xsTE6LXXXtOHH36opKQk/exnP9P8+fMv++2Il2MYhnJzcxUZGanBgwdrxIgRuv322y9aSty3b19t3bpVycnJmjJlipKSknTrrbfq7bff1sKFC+u9/CkuLk5/+9vfdODAAfXv318jRoxQjx499MYbb9TruJK0YsUK1dbW6qabblJGRoZuu+22i65x9cwzz+ibb75Rt27dFBsbq/3799f7cQHArqZOnep2vcFmzZrpb3/7m5o2barBgwcrNTVV4eHhev/99y+6bIM3eKtHStL8+fP17bffum1zOp16/fXXtXnzZvXq1UtZWVl6/vnn3fZp06aNNmzYoObNm+v2229XUlKSnnrqqcvOYoyLi9Pf//53xcTE6O6771a3bt10//3368svv1SbNm0kSb169dKqVatUUFCg3r17a9y4cRo+fLiWLl1a5/MCADSssLAwOZ3Oa9o3Li5Ov/rVr5Sdna02bdrozjvvlCQ99thj+sUvfqG5c+eqe/fueu6555Sdna2HH35Y0tllwn//+9915513qkuXLvrhD3+o+++/X08//bTruFfrNaGhoZo1a5b69eun5ORkbdu2TatXr+ZyFwhohlnXtZYAAAAAAAAAGg1mEAIAAAAAAAA2RkAIAAAAAAAA2BgBIQAAAAAAAGBjBIQAAAAAAACAjREQAgAAAAAAADYWbHUB53z99ddWl+BzMTExKisrs7qMgMTYeY6x8xxj5zlvjV18fLwXqvG+xt6z+Nv3HGPnOcbOc4yd5+hXgY2//fph/DzH2HmOsfOcr3sWMwgBAAAAAAAAGyMgBAAAAAAAAGyMgBAAAAAAAACwMQJCAAAAAAAAwMYICAEAAAAAAAAbIyAEAAAAAAAAbIyAEAAAAAAAALAxAkIAAAAAAADAxggIAQAAAAAAABsjIAQAAAAAAABsjIAQAAAAAAAAsDECQgAAAAAAAMDGCAgBAAAAAAAAGyMgBAAAAAAAAGyMgBAAAAAAAACwsWCrCwAAwBvKysq0ZMkSffPNNzIMQ+np6br99tu1cuVKrVmzRi1atJAkjRkzRn379pUkvf3221q7dq2CgoL00EMPqU+fPlaeAgAAAABYgoDQJmoeGWl1CW4cy1ZZXQKARsbhcGjcuHFKTEzUqVOnNGPGDPXq1UuSNHz4cI0c6f48eODAAW3atEkvvPCCKioqlJWVpV//+tcKCvL95HqekwEAgcKfehb9CgB8hyXGAIBGITo6WomJiZKkZs2aKSEhQeXl5Zfdv7CwUAMHDlSTJk3UqlUrtW7dWnv27GmocgEAAADAbzCDEADQ6JSWlmrv3r3q3LmzPv/8c33wwQcqKChQYmKiHnjgAUVERKi8vFxdunRx3cfpdF42UMzLy1NeXp4kKTs7WzExMfWq73C97u19F55PcHBwvc/Rrhg7zzF2nmPsPMfYAQBwFgEhAKBROX36tBYsWKDx48crLCxMQ4cO1ahRoyRJf/7zn/W///u/yszMrNMx09PTlZ6e7rpdVlbm1ZqtduH5xMTENLpzbCiMnecYO88xdp7z1tjFx8d7oRoAAKzDEmMAQKNRXV2tBQsWaNCgQRowYIAkKSoqSkFBQQoKCtKQIUP0xRdfSDo7Y/Do0aOu+5aXl8vpdFpSNwAAAABYiYAQANAomKappUuXKiEhQSNGjHBtr6iocP3/J598onbt2kmSkpOTtWnTJn333XcqLS3VwYMH1blz5wavGwAAAACsxhJjAECjsGvXLhUUFOi6667TtGnTJEljxozRxo0btW/fPhmGodjYWE2cOFGS1K5dO91888366U9/qqCgID388MMN8g3GAAAAAOBvCAgBAI3C9ddfr5UrV160vW/fvpe9z9133627777bl2UBAAAAgN9jqgQAAAAAAABgYwSEAAAAAAAAgI0REAIAAAAAAAA2RkAIAAAAAAAA2BgBIQAAAAAAAGBjBIQAAAAAAACAjREQAgAAAAAAADYWbHUBAAAAAGAnZ86c0ezZs1VdXa2amhqlpKRo9OjRWrJkiXbu3KmwsDBJ0qRJk9ShQweZpqkVK1Zo69atatq0qTIzM5WYmGjxWQAAGhMCQgAAAABoQE2aNNHs2bMVGhqq6upqzZo1S3369JEkjRs3TikpKW77b926VYcOHdKiRYtUUlKi5cuXa+7cuVaUDgBopFhiDAAAAAANyDAMhYaGSpJqampUU1MjwzAuu/+WLVs0ePBgGYahrl276sSJE6qoqGiocgEANsAMQgAAAABoYLW1tZo+fboOHTqkYcOGqUuXLvrb3/6m119/XW+88YZ69Oih+++/X02aNFF5ebliYmJc923ZsqXKy8sVHR3tdsy8vDzl5eVJkrKzs93u46nD9T6C91x4PsHBwV45R7ti/DzH2HmOsfOcr8eOgBAAAAAAGlhQUJDmzZunEydOaP78+dq/f7/uu+8+RUVFqbq6Wi+//LLeeecdjRo16pqPmZ6ervT0dNftsrIyX5RumQvPJyYmptGdY0Ni/DzH2HmOsfOct8YuPj7+kttZYgwAAAAAFgkPD1dSUpKKi4sVHR0twzDUpEkT/cd//If27NkjSXI6nW5vCo8ePSqn02lVyQCARoiAEAAAAAAa0LFjx3TixAlJZ7/ReNu2bUpISHBdV9A0TRUWFqpdu3aSpOTkZBUUFMg0Te3evVthYWEXLS8GAKA+WGIMAAAAAA2ooqJCS5YsUW1trUzT1M0336x+/frpmWee0bFjxyRJ7du318SJEyVJN954o4qKijR58mSFhIQoMzPTyvIBAI0QASEAAAAANKD27dvr+eefv2j77NmzL7m/YRiaMGGCr8sCANjYVQPCl156SUVFRYqMjNSCBQskSVVVVcrJydGRI0cUGxurqVOnKiIiQqZpasWKFdq6dauaNm2qzMxMJSYmeJk2iQAAIABJREFU+vwkAAAAAAAAAHjmqtcgTEtL08yZM9225ebmqmfPnlq0aJF69uyp3NxcSdLWrVt16NAhLVq0SBMnTtTy5ct9UzUAAAAAAAAAr7hqQNi9e3dFRES4bSssLFRqaqokKTU1VYWFhZKkLVu2aPDgwTIMQ127dtWJEydcF9oFAAAAAAAA4H88+hbjyspK17dmRUVFqbKyUpJUXl6umJgY134tW7ZUeXm5F8oEAAAAAAAA4Av1/pISwzBkGEad75eXl6e8vDxJUnZ2tluw2FgFBwdbdp6HLXnUy6vrOFg5doGOsfMcY+c5xg4AAAAAAodHAWFkZKQqKioUHR2tiooKtWjRQpLkdDpVVlbm2u/o0aNyOp2XPEZ6errS09Ndt8+/X2MVExNji/O8FnUdB8bOc4yd5xg7z3lr7OLj471QDQAAAADgSjxaYpycnKz8/HxJUn5+vvr37+/aXlBQINM0tXv3boWFhbmWIgMAAAAAAADwP1edQbhw4ULt3LlTx48f16OPPqrRo0crIyNDOTk5Wrt2rWJjYzV16lRJ0o033qiioiJNnjxZISEhyszM9PkJAAAAAAAAAPDcVQPCKVOmXHL7rFmzLtpmGIYmTJhQ/6oAAAAAAAAANAiPlhgDAAAAAAAAaBwICAEAAAAAAAAbIyAEAAAAAAAAbIyAEAAAAAAAALAxAkIAAAAAAADAxggIAQAAAAAAABsjIAQAAAAAAABsjIAQAAAAAAAAsDECQgAAAAAAAMDGCAgBAAAAAAAAGyMgBAAAAAAAAGyMgBAAAAAAAACwMQJCAAAAAAAAwMYICAEAAAAAAAAbIyAEAAAAAAAAbIyAEAAAAAAAALAxAkIAAAAAAADAxggIAQAAAAAAABsjIAQAAAAAAABsjIAQAAAAAAAAsDECQgAAAAAAAMDGCAgBAAAAAAAAGyMgBAAAAAAAAGyMgBAAAAAAAACwMQJCAAAAAAAAwMYICAEAAAAAAAAbIyAEAAAAAAAAbIyAEAAAAAAAALAxAkIAAAAAAADAxggIAQAAAAAAABsjIAQAAAAAAABsjIAQAAAAAAAAsLFgqwsAAAAAADs5c+aMZs+ererqatXU1CglJUWjR49WaWmpFi5cqOPHjysxMVGPP/64goOD9d133+nFF1/Uv/71LzVv3lxTpkxRq1atrD4NAEAjwgxCAAAAAGhATZo00ezZszVv3jw9//zzKi4u1u7du/Xaa69p+PDhWrx4scLDw7V27VpJ0tq1axUeHq7Fixdr+PDh+sMf/mDxGQAAGhsCQgAAAABoQIZhKDQ0VJJUU1OjmpoaGYahHTt2KCUlRZKUlpamwsJCSdKWLVuUlpYmSUpJSdFnn30m0zQtqR0A0DixxBgAAAAAGlhtba2mT5+uQ4cOadiwYYqLi1NYWJgcDockyel0qry8XJJUXl6uli1bSpIcDofCwsJ0/PhxtWjRwu2YeXl5ysvLkyRlZ2crJiam3nUervcRvOfC8wkODvbKOdoV4+c5xs5zjJ3nfD12BIQAAAAA0MCCgoI0b948nThxQvPnz9fXX39d72Omp6crPT3ddbusrKzex/QnF55PTExMozvHhsT4eY6x8xxj5zlvjV18fPwlt7PEGAAAAAAsEh4erqSkJO3evVsnT55UTU2NpLOzBp1Op6SzswmPHj0q6eyS5JMnT6p58+aW1QwAaHyYQQgAaDTKysq0ZMkSffPNNzIMQ+np6br99ttVVVWlnJwcHTlyRLGxsZo6daoiIiJkmqZWrFihrVu3qmnTpsrMzFRiYqLVpwEAaOSOHTsmh8Oh8PBwnTlzRtu2bdOdd96ppKQkbd68Wd/73ve0bt06JScnS5L69eundevWqWvXrtq8ebOSkpJkGIbFZwEAaEwICAEAjYbD4dC4ceOUmJioU6dOacaMGerVq5fWrVunnj17KiMjQ7m5ucrNzdXYsWO1detWHTp0SIsWLVJJSYmWL1+uuXPnWn0aAIBGrqKiQkuWLFFtba1M09TNN9+sfv36qW3btlq4cKH+9Kc/qWPHjrr11lslSbfeeqtefPFFPf7444qIiNCUKVMsPgMAQGNDQAgAaDSio6MVHR0tSWrWrJkSEhJUXl6uwsJCzZkzR5KUmpqqOXPmaOzYsdqyZYsGDx4swzDUtWtXnThxQhUVFa5jAADgC+3bt9fzzz9/0fa4uDj96le/umh7SEiIfvrTnzZEaQAAm+IahACARqm0tFR79+5V586dVVlZ6Qr9oqKiVFlZKens9Z3O/yawli1bur4xEgAAAADsghmEAIBG5/Tp01qwYIHGjx+vsLAwt58ZhlHn6zbl5eUpLy9PkpSdne0WKnricL3u7X0Xnk9wcHC9z9GuGDvPMXaeY+w8x9gBAHAWASEAoFGprq7WggULNGjQIA0YMECSFBkZ6Vo6XFFRoRYtWkg6+62QZWVlrvsePXrU9Y2R50tPT1d6errr9vn3aQwuPJ+YmJhGd44NhbHzHGPnOcbOc94au/j4eC9UAwCAdVhiDABoNEzT1NKlS5WQkKARI0a4ticnJys/P1+SlJ+fr/79+7u2FxQUyDRN7d69W2FhYVx/EAAAAIDtMIMQANBo7Nq1SwUFBbruuus0bdo0SdKYMWOUkZGhnJwcrV27VrGxsZo6daok6cYbb1RRUZEmT56skJAQZWZmWlk+AAAAAFiCgBAA0Ghcf/31Wrly5SV/NmvWrIu2GYahCRMm+LosAAAAAPBrLDEGAAAAAAAAbIyAEAAAAAAAALAxAkIAAAAAAADAxggIAQAAAAAAABsjIAQAAAAAAABsjIAQAAAAAAAAsDECQgAAAAAAAMDGCAgBAAAAAAAAGwu2ugBvqnlkpNUluHEsW2V1CQAAAAAAAMAVMYMQAAAAAAAAsDECQgAAAAAAAMDGCAgBAAAAAAAAG6vXNQjfffddrV27VoZhqF27dsrMzNQ333yjhQsX6vjx40pMTNTjjz+u4OBGdalDAAAAAAAAoNHweAZheXm5Vq9erezsbC1YsEC1tbXatGmTXnvtNQ0fPlyLFy9WeHi41q5d6816AQAAAAAAAHhRvZYY19bW6syZM6qpqdGZM2cUFRWlHTt2KCUlRZKUlpamwsJCrxQKAAAAAAAAwPs8XvvrdDp1xx136LHHHlNISIh69+6txMREhYWFyeFwuPYpLy+/5P3z8vKUl5cnScrOzlZMTIynpbgcrvcRvKvmkZFut/2tPivV9fcdHBzslb8RO2LsPMfYeY6xAwAAAIDA4XFAWFVVpcLCQi1ZskRhYWF64YUXVFxcfM33T09PV3p6uut2WVmZp6UgANX19x0TE8PfiIcYO88xdp7z1tjFx8d7oRoAAAAAwJV4HBBu375drVq1UosWLSRJAwYM0K5du3Ty5EnV1NTI4XCovLxcTqfTa8UCAAAAAAAA8C6Pr0EYExOjkpISffvttzJNU9u3b1fbtm2VlJSkzZs3S5LWrVun5ORkrxULAAAAAAAAwLs8nkHYpUsXpaSkaPr06XI4HOrQoYPS09PVt29fLVy4UH/605/UsWNH3Xrrrd6sFwAAAAAAAIAXeRwQStLo0aM1evRot21xcXH/3979x1Zd3/sDf55SUZG19BcaGGapaIwLG5oSf1y1Xum8i3oNX2JM8OKC0xmtmRHvNSH7g5k473rvrEUWCNu8wZj7j/xjs+3eXJNKbklGbqyDG724q7LgMjIVSmsDCjqw3z/Mei+Id3J62tP283j8xTk9P16fVwuv9Mn7/T754Q9/OK6iAAAAAIDJUfYWYwAAAABg+hMQAgAAAECBCQgBAAAAoMAEhAAAAABQYAJCAAAAACgwASEAAAAAFJiAEAAAAAAKTEAIAAAAAAUmIAQAAACAAhMQAgAAAECBCQgBAAAAoMAEhAAAAABQYAJCAAAAACiw2moXAAAAUCSDg4PZtGlT3n///ZRKpXR0dOTmm2/Otm3b8tJLL6Wuri5JsmrVqlxxxRVJkhdeeCHbt29PTU1N7r777ixdurSalwDADCMgBAAAmESzZs3KXXfdldbW1hw9ejTr1q3L1772tSTJLbfckttuu+2kx+/fvz87d+7MU089leHh4Tz++ON5+umnU1NjQxgAlWGiAAAATKKGhoa0trYmSc4999wsXLgwQ0NDn/v4gYGBXHPNNTnrrLMyf/78XHDBBdm7d+9klQtAAQgIAQAAquTAgQPZt29fFi9enCR58cUX83d/93fZvHlzjhw5kiQZGhpKU1PT2HMaGxv/z0ARAM6ULcYAAABVcOzYsXR3d2fNmjWZM2dObrrpptx+++1Jkueffz7PPfdcOjs7v/Dr9fX1pa+vL0nS1dWV5ubmcdf43rhfoXJOvZ7a2tqKXGNR6V/59K58ele+ie6dgBAAAGCSHT9+PN3d3bnuuuty5ZVXJknmzZs39vXly5fnH/7hH5J8umLw0KFDY18bGhpKY2PjZ16zo6MjHR0dY7cHBwcnqvyqOPV6mpubZ9w1Tib9K5/elU/vylep3i1YsOC099tiDAAAMIlGR0ezZcuWLFy4MLfeeuvY/cPDw2N/fvnll7No0aIkSVtbW3bu3Jk//vGPOXDgQN55552xLckAUAlWEAIAAEyiN954Izt27MiFF16YRx99NEmyatWq/OpXv8rbb7+dUqmUlpaW3HfffUmSRYsW5eqrr84jjzySmpqa3HPPPT7BGICKEhACAABMoksvvTTbtm37zP1XXHHF5z5n5cqVWbly5USWBUCB+W8nAAAAACgwASEAAAAAFJiAEAAAAAAKzBmEwP/pxHduq3YJY2b97OfVLgEAAABmHCsIAQAAAKDABIQAAAAAUGACQgAAAAAoMAEhAAAAABSYgBAAAAAACkxACAAAAAAFJiAEAAAAgAITEAIAAABAgQkIAQAAAKDABIQAAAAAUGACQgAAAAAoMAEhAAAAABSYgBAAAAAACkxACAAAAAAFJiAEAAAAgAITEAIAAABAgQkIAQAAAKDAaqtdAABUyubNm7Nr167U19enu7s7SbJt27a89NJLqaurS5KsWrUqV1xxRZLkhRdeyPbt21NTU5O77747S5curVrtAAAA1SIgBGDGuOGGG/LNb34zmzZtOun+W265JbfddttJ9+3fvz87d+7MU089leHh4Tz++ON5+umnU1NjcT0AAFAsfgsCYMa47LLLMnfu3C/02IGBgVxzzTU566yzMn/+/FxwwQXZu3fvBFcIAAAw9VhBCMCM9+KLL2bHjh1pbW3Nt771rcydOzdDQ0O5+OKLxx7T2NiYoaGh0z6/r68vfX19SZKurq40NzePq573xvXsyjv1empra8d9jUWld+XTu/LpXfn0DgA+JSAEYEa76aabcvvttydJnn/++Tz33HPp7Ow8o9fo6OhIR0fH2O3BwcGK1lhtp15Pc3PzjLvGyaJ35dO78uld+SrVuwULFlSgGgCoHluMAZjR5s2bl5qamtTU1GT58uX57W9/m+TTFYOHDh0ae9zQ0FAaGxurVSYAAEDVCAgBmNGGh4fH/vzyyy9n0aJFSZK2trbs3Lkzf/zjH3PgwIG88847Wbx4cbXKBAAAqBpbjAGYMTZs2JDXX389hw8fzv3335877rgje/bsydtvv51SqZSWlpbcd999SZJFixbl6quvziOPPJKamprcc889PsEYAAAoJAEhADPGww8//Jn7brzxxs99/MqVK7Ny5cqJLAkAAGDKs1QCAAAAAApMQAgAAAAABSYgBAAAAIACExACAAAAQIEJCAEAAACgwASEAAAAAFBgAkIAAAAAKLDa8Tz5gw8+yJYtW/L73/8+pVIpDzzwQBYsWJCenp4cPHgwLS0tWbt2bebOnVupegEAAACAChpXQLh169YsXbo0f/u3f5vjx4/no48+ygsvvJAlS5ZkxYoV6e3tTW9vb1avXl2pegEAAACACip7i/GHH36Y3/zmN7nxxhuTJLW1tTnvvPMyMDCQ9vb2JEl7e3sGBgYqUykAAAAAUHFlryA8cOBA6urqsnnz5vzud79La2tr1qxZk5GRkTQ0NCRJ5s2bl5GRkdM+v6+vL319fUmSrq6uNDc3l1vKmPfG/QpMljP9ftfW1lbkZ6SIxtu7qfT3arJ/BvzclU/vAAAApo+yA8ITJ05k3759+fa3v52LL744W7duTW9v70mPKZVKKZVKp31+R0dHOjo6xm4PDg6WWwrT0Jl+v5ubm/2MlGkm9W6yr2Mm9W6yVap3CxYsqEA1ADC1DA4OZtOmTXn//fdTKpXS0dGRm2++OUeOHDntee6jo6PZunVrdu/enbPPPjudnZ1pbW2t9mUAMIOUvcW4qakpTU1Nufjii5MkV111Vfbt25f6+voMDw8nSYaHh1NXV1eZSgEAAGaAWbNm5a677kpPT0+eeOKJvPjii9m/f396e3uzZMmSbNy4MUuWLBlbgLF79+68++672bhxY+67774888wzVb4CAGaasgPCefPmpampKX/4wx+SJK+99lq+/OUvp62tLf39/UmS/v7+LFu2rDKVAgAAzAANDQ1jKwDPPffcLFy4MENDQ597nvsrr7yS66+/PqVSKZdcckk++OCDsUUZAFAJ4/oU429/+9vZuHFjjh8/nvnz56ezszOjo6Pp6enJ9u3bx5bFAwAA8FkHDhzIvn37snjx4s89z31oaOiks32bmpoyNDQ09tg/mennvJ96Pc48Hh/9K5/elU/vyjfRvRtXQPiVr3wlXV1dn7l//fr143lZAACAGe/YsWPp7u7OmjVrMmfOnJO+9n+d5/55Zvo576dej/Oix0f/yqd35dO78k30Oe9lbzEGAACgPMePH093d3euu+66XHnllUnyuee5NzY2nvRL4aFDh9LY2Dj5RQMwYwkIAQAAJtHo6Gi2bNmShQsX5tZbbx27//POc29ra8uOHTsyOjqaN998M3PmzPnM9mIAGI9xbTEGAADgzLzxxhvZsWNHLrzwwjz66KNJklWrVmXFihWnPc/98ssvz65du/LQQw9l9uzZ6ezsrGb5AMxAAkIAAIBJdOmll2bbtm2n/drpznMvlUq59957J7osAArMFmMAAAAAKDABIQAAAAAUmIAQAAAAAApMQAgAAAAABSYgBAAAAIACExACAAAAQIEJCAEAAACgwASEAAAAAFBgAkIAAAAAKDABIQAAAAAUmIAQAAAAAApMQAgAAAAABSYgBAAAAIACExACAAAAQIEJCAEAAACgwASEAAAAAFBgAkIAAAAAKDABIQAAAAAUmIAQAAAAAApMQAgAAAAABSYgBAAAAIACExACAAAAQIEJCAEAAACgwASEAAAAAFBgAkIAAAAAKDABIQAAAAAUmIAQAAAAAApMQAgAAAAABSYgBAAAAIACExACAAAAQIEJCAEAAACgwASEAAAAAFBgAkIAAAAAKDABIQAAAAAUmIAQAAAAAApMQAgAAAAABSYgBAAAAIACExACAAAAQIEJCAEAAACgwASEAAAAAFBgAkIAAAAAKLDaahcAAABQJJs3b86uXbtSX1+f7u7uJMm2bdvy0ksvpa6uLkmyatWqXHHFFUmSF154Idu3b09NTU3uvvvuLF26tGq1AzAzCQgBAAAm0Q033JBvfvOb2bRp00n333LLLbnttttOum///v3ZuXNnnnrqqQwPD+fxxx/P008/nZoam8EAqBxTBQAAYBJddtllmTt37hd67MDAQK655pqcddZZmT9/fi644ILs3bt3gisEoGisIARgxjjdlq0jR46kp6cnBw8eTEtLS9auXZu5c+dmdHQ0W7duze7du3P22Wens7Mzra2tVb4CAIrsxRdfzI4dO9La2ppvfetbmTt3boaGhnLxxRePPaaxsTFDQ0OnfX5fX1/6+vqSJF1dXWlubh53Te+N+xUq59Trqa2trcg1FpX+lU/vyqd35Zvo3gkIAZgxTrdlq7e3N0uWLMmKFSvS29ub3t7erF69Ort37867776bjRs35q233sozzzyTv//7v69i9QAU2U033ZTbb789SfL888/nueeeS2dn5xm9RkdHRzo6OsZuDw4OVrTGajv1epqbm2fcNU4m/Suf3pVP78pXqd4tWLDgtPfbYgzAjHG6LVsDAwNpb29PkrS3t2dgYCBJ8sorr+T6669PqVTKJZdckg8++CDDw8OTXjMAJMm8efNSU1OTmpqaLF++PL/97W+TfLpi8NChQ2OPGxoaSmNjY7XKBGCGsoIQgBltZGQkDQ0NST795WtkZCTJp79g/e8l+k1NTRkaGhp77P9W6S1bU2m7VmLLViXpXfn0rnx6V76p1Lvh4eGxGfTyyy9n0aJFSZK2trZs3Lgxt956a4aHh/POO+9k8eLF1SwVgBlIQAhAYZRKpZRKpTN+ni1bfFF6Vz69K5/elW+it2t9ng0bNuT111/P4cOHc//99+eOO+7Inj178vbbb6dUKqWlpSX33XdfkmTRokW5+uqr88gjj6Smpib33HOPTzAGoOIEhADMaPX19WOrMoaHh1NXV5fk0y1b//uXwkOHDtmyBcCkePjhhz9z34033vi5j1+5cmVWrlw5kSUBUHD+6wmAGa2trS39/f1Jkv7+/ixbtmzs/h07dmR0dDRvvvlm5syZc9rtxQAAADOdFYQAzBin27K1YsWK9PT0ZPv27WlpacnatWuTJJdffnl27dqVhx56KLNnzz7jT4oEAACYKQSEAMwYp9uylSTr16//zH2lUin33nvvRJcEAAAw5dliDAAAAAAFNu4VhJ988knWrVuXxsbGrFu3LgcOHMiGDRty+PDhtLa25rvf/W5qay1UBAAAAICpaNwrCP/1X/81CxcuHLv9z//8z7nlllvy4x//OOedd162b98+3rcAAAAAACbIuALCQ4cOZdeuXVm+fHmSZHR0NHv27MlVV12VJLnhhhsyMDAw/ioBAAAAgAkxrr2/zz77bFavXp2jR48mSQ4fPpw5c+Zk1qxZSZLGxsYMDQ2d9rl9fX3p6+tLknR1daW5uXk8pSRJ3hv3KzBZzvT7XVtbW5GfkSIab++m0t+ryf4Z8HNXPr0DAACYPsoOCH/961+nvr4+ra2t2bNnzxk/v6OjIx0dHWO3BwcHyy2FaehMv9/Nzc1+Rso0k3o32dcxk3o32SrVuwULFlSgGgAAAP4vZQeEb7zxRl555ZXs3r07H3/8cY4ePZpnn302H374YU6cOJFZs2ZlaGgojY2NlawXAAAAAKigsgPCO++8M3feeWeSZM+ePfnFL36Rhx56KE899VT+4z/+I3/xF3+Rf//3f09bW1vFigUAAAAAKmvcn2J8qr/5m7/JL3/5y3z3u9/NkSNHcuONN1b6LQAAAACAChnXh5T8yVe/+tV89atfTZKcf/75+eEPf1iJlwUAAAAAJljFVxACAAAAANNHRVYQwpk68Z3bzujx701QHUky62c/n8BXBwAAAJjarCAEAAAAgAITEAIAAABAgQkIAQAAAKDABIQAAAAAUGACQgAAAAAoMAEhAAAAABSYgBAAAAAACkxACAAAAAAFJiAEAAAAgAITEAIAAABAgQkIAQAAAKDABIQAAAAAUGACQgAAAAAoMAEhAAAAABSYgBAAAAAACkxACAAAAAAFJiAEAAAAgAITEAIAAABAgQkIAQAAAKDABIQAAAAAUGC11S4Aqu3Ed26rdgknmfWzn1e7BAAAAKBArCAEAAAAgAITEAIAAABAgQkIAQAAAKDABIQAAAAAUGA+pAQAAGASbd68Obt27Up9fX26u7uTJEeOHElPT08OHjyYlpaWrF27NnPnzs3o6Gi2bt2a3bt35+yzz05nZ2daW1urfAUAzDRWEAIAAEyiG264Id/73vdOuq+3tzdLlizJxo0bs2TJkvT29iZJdu/enXfffTcbN27Mfffdl2eeeaYaJQMwwwkIAQAAJtFll12WuXPnnnTfwMBA2tvbkyTt7e0ZGBhIkrzyyiu5/vrrUyqVcskll+SDDz7I8PDwpNcMwMwmIAQAAKiykZGRNDQ0JEnmzZuXkZGRJMnQ0FCam5vHHtfU1JShoaGq1AjAzOUMQgAAgCmkVCqlVCqd8fP6+vrS19eXJOnq6jopWCzXe+N+hco59Xpqa2srco1FpX/l07vy6V35Jrp3AkIAAIAqq6+vz/DwcBoaGjI8PJy6urokSWNjYwYHB8ced+jQoTQ2Np72NTo6OtLR0TF2+38/byY49Xqam5tn3DVOJv0rn96VT+/KV6neLViw4LT322IMAABQZW1tbenv70+S9Pf3Z9myZWP379ixI6Ojo3nzzTczZ86csa3IAFApVhACAABMog0bNuT111/P4cOHc//99+eOO+7IihUr0tPTk+3bt6elpSVr165Nklx++eXZtWtXHnroocyePTudnZ1Vrh6AmUhACEwbJ75z26S+3587c2fWz34+KXUAADPLww8/fNr7169f/5n7SqVS7r333okuCYCCs8UYAAAAAApMQAgAAAAABSYgBAAAAIACExACAAAAQIEJCAEAAACgwHyKMQAAMGlOfOe2apfwP17YWe0KAGBKsIIQAAAAAApMQAgAAAAABSYgBAAAAIACExACAAAAQIEJCAEAAACgwASEAAAAAFBgAkIAAAAAKDABIQAAAAAUmIAQAAAAAApMQAgAAAAABSYgBAAAAIACExACAAAAQIHVVrsAAJgMDz74YM4555zU1NRk1qxZ6erqypEjR9LT05ODBw+mpaUla9euzdy5c6tdKgAAwKQSEAJQGN///vdTV1c3dru3tzdLlizJihUr0tvbm97e3qxevbqKFQIAAEw+W4wBKKyBgYG0t7cnSdrb2zMwMFDligAAACafFYQAFMYTTzyRJPnGN76Rjo6OjIyMpKGhIUkyb968jIyMnPZ5fX196evrS5J0dXWlubl5XHW8N65nV96p11NbWzvuaywqvSvYAMtqAAANUUlEQVSf3pVvuvVuKv0bON16BwATRUAIQCE8/vjjaWxszMjISH7wgx9kwYIFJ329VCqlVCqd9rkdHR3p6OgYuz04ODihtU62U6+nubl5xl3jZNG78uld+fSufMePH69I706dKQAw3ZQdEA4ODmbTpk15//33UyqV0tHRkZtvvtmB7wBMSY2NjUmS+vr6LFu2LHv37k19fX2Gh4fT0NCQ4eHhk84nBAAAKIqyzyCcNWtW7rrrrvT09OSJJ57Iiy++mP37948d+L5x48YsWbIkvb29lawXAM7YsWPHcvTo0bE/v/rqq7nwwgvT1taW/v7+JEl/f3+WLVtWzTIBAACqouwVhA0NDWPnNp177rlZuHBhhoaGMjAwkMceeyzJpwe+P/bYYz4REoCqGhkZyZNPPpkkOXHiRK699tosXbo0F110UXp6erJ9+/axVe8AAABFU5EzCA8cOJB9+/Zl8eLFVTvwPZlaBx5DuSp9UPZ4D9/29+rzTaVDzd/7f9dUu4ST1P7i5SnVn/PPPz8/+tGPPnP/l770paxfv74KFQEAAEwd4w4Ijx07lu7u7qxZsyZz5sw56WtFPvAdylXpvwsOLp84+vr5HPoOAAAwfZR9BmHy6S+A3d3due6663LllVcmydiB70kc+A4AAAAAU1zZAeHo6Gi2bNmShQsX5tZbbx2734HvAAAAADB9lL3F+I033siOHTty4YUX5tFHH02SrFq1KitWrHDgOwAAAABME2UHhJdeemm2bdt22q858B0AAAAApodxnUEIAAAAAExvAkIAAAAAKDABIQAAAAAUmIAQAAAAAAqs7A8pAQCYCCe+c1u1Sxgz62c/r3YJAAAw4awgBAAAAIACExACAAAAQIEJCAEAAACgwASEAAAAAFBgPqQEAABginjwwQdzzjnnpKamJrNmzUpXV1eOHDmSnp6eHDx4MC0tLVm7dm3mzp1b7VIBmEEEhAAAAFPI97///dTV1Y3d7u3tzZIlS7JixYr09vamt7c3q1evrmKFAMw0thgDAABMYQMDA2lvb0+StLe3Z2BgoMoVATDTWEEIAAAwhTzxxBNJkm984xvp6OjIyMhIGhoakiTz5s3LyMjIaZ/X19eXvr6+JElXV1eam5vHXct7436Fyjn1empraytyjUWlf+XTu/LpXfkmuncCQgAAgCni8ccfT2NjY0ZGRvKDH/wgCxYsOOnrpVIppVLptM/t6OhIR0fH2O3BwcEJrXWynXo9zc3NM+4aJ5P+lU/vyqd35atU706dK39iizEAAMAU0djYmCSpr6/PsmXLsnfv3tTX12d4eDhJMjw8fNL5hABQCQJCAACAKeDYsWM5evTo2J9fffXVXHjhhWlra0t/f3+SpL+/P8uWLatmmQDMQLYYAwAATAEjIyN58sknkyQnTpzItddem6VLl+aiiy5KT09Ptm/fnpaWlqxdu7bKlQIw0wgIAQAApoDzzz8/P/rRjz5z/5e+9KWsX7++ChUBUBS2GAMAAABAgQkIAQAAAKDABIQAAAAAUGACQgAAAAAoMAEhAAAAABSYgBAAAAAACkxACAAAAAAFVlvtAgCmqxPfua3aJQAAAMC4WUEIAAAAAAUmIAQAAACAArPFGKaYSm9bfa+irwYAfBGTeQzFn5v1s37280mpAwCYvqwgBAAAAIACExACAAAAQIHZYgwAAMCUd+rWfUfpnMxxAsB4WEEIAAAAAAVmBSEAAGdsqn2olpUzAADlExACQMHZsgUAAMVmizEAAAAAFJgVhAAA00Slt/UCAEAiIAQA+FxnGsjZng0AwHRkizEAAAAAFJgVhAAAMIPZmg4A/DkCQgAApj0hGABA+WwxBgAAAIACExACAAAAQIEJCAEAAACgwASEAAAAAFBgAkIAAAAAKDABIQAAAAAUmIAQAAAAAAqsttoFAAAAAMBUcuI7t1W7hJO9sHNCX94KQgAAAAAoMCsIAQAAYJo709VO701QHUky62c/n8BXByaCFYQAAAAAUGACQgAAAAAoMAEhAAAAABSYMwgBAAAAJsFU+2Rc50XyJwJCAAAAgAKa7MDyz304jsCyegSEAAAAQMVYJQfTjzMIAQAAAKDABIQAAAAAUGATtsX4P//zP7N169Z88sknWb58eVasWDFRbwUAZTOvAJgOzCsoX6W3PP+5c/RgOpqQFYSffPJJ/umf/inf+9730tPTk1/96lfZv3//RLwVAJTNvAJgOjCvAJhoExIQ7t27NxdccEHOP//81NbW5pprrsnAwMBEvBUAlM28AmA6MK8AmGgTssV4aGgoTU1NY7ebmpry1ltvnfSYvr6+9PX1JUm6urqyYMGC8b/xv7wy/tcAoCIq8u/6BPsi8yqZgJllXgFMGebVn2FmAUU1Bf/9m8iZVbUPKeno6EhXV1e6urqqVcKkW7duXbVLmLb0rnx6Vz69K99M613RZtZM+/5NJr0rn96VT+/KN9N6Z15xJvSvfHpXPr0r30T3bkICwsbGxhw6dGjs9qFDh9LY2DgRbwUAZTOvAJgOzCsAJtqEBIQXXXRR3nnnnRw4cCDHjx/Pzp0709bWNhFvBQBlM68AmA7MKwAm2qzHHnvssUq/aE1NTS644IL8+Mc/zr/927/luuuuy1VXXVXpt5mWWltbq13CtKV35dO78uld+aZD78yrzzcdvn9Tld6VT+/Kp3flmw69M68+33T4/k1l+lc+vSuf3pVvIntXGh0dHZ2wVwcAAAAAprSqfUgJAAAAAFB9AkIAAAAAKLDaahcw0w0ODmbTpk15//33UyqV0tHRkZtvvrnaZU0rn3zySdatW5fGxkYfiX4GPvjgg2zZsiW///3vUyqV8sADD+SSSy6pdlnTwi9/+cts3749pVIpixYtSmdnZ2bPnl3tsqaszZs3Z9euXamvr093d3eS5MiRI+np6cnBgwfT0tKStWvXZu7cuVWulD/HzBof86p8Zlb5zKwvzryaOcyr8TOzymNelc+8OjPVmFkT8iEl/I+PPvool1xySVatWpXrr78+P/nJT7JkyZLU1dVVu7Rp41/+5V9y/PjxHD9+PNdee221y5k2fvrTn2bJkiXp7OxMR0dH5syZ4x/gL2BoaCg//elP8+STT+bmm2/Ozp07c/z48XzlK1+pdmlT1nnnnZe//Mu/zMDAQP7qr/4qSbJt27YsWrQoa9euzfDwcF599dV87Wtfq3Kl/Dlm1viYV+Uzs8pjZp0Z82rmMK/Gz8wqj3lVHvPqzFVjZtliPMEaGhrGPmXm3HPPzcKFCzM0NFTlqqaPQ4cOZdeuXVm+fHm1S5lWPvzww/zmN7/JjTfemCSpra3NeeedV+Wqpo9PPvkkH3/8cU6cOJGPP/44DQ0N1S5pSrvssss+8z9XAwMDaW9vT5K0t7dnYGCgGqVxhsys8plX5TOzxsfM+uLMq5nDvBofM6s85tX4mFdnphozyxbjSXTgwIHs27cvixcvrnYp08azzz6b1atX5+jRo9UuZVo5cOBA6urqsnnz5vzud79La2tr1qxZk3POOafapU15jY2N+eu//us88MADmT17dr7+9a/n61//erXLmnZGRkbGhv68efMyMjJS5Yo4U2bWmTGvymdmlc/MGj/zavozr86cmVUe86p85lVlTPTMsoJwkhw7dizd3d1Zs2ZN5syZU+1ypoVf//rXqa+vH/vfQb64EydOZN++fbnpppvyj//4jzn77LPT29tb7bKmhSNHjmRgYCCbNm3KT37ykxw7diw7duyodlnTWqlUSqlUqnYZnAEz68yYV+NjZpXPzKos82r6Ma/OnJlVPvOqfOZV5U3EzBIQToLjx4+nu7s71113Xa688spqlzNtvPHGG3nllVfy4IMPZsOGDfmv//qvbNy4sdplTQtNTU1pamrKxRdfnCS56qqrsm/fvipXNT289tprmT9/furq6lJbW5srr7wyb775ZrXLmnbq6+szPDycJBkeHnYm0DRiZp0582p8zKzymVnjZ15NX+ZVecys8plX5TOvKmOiZ5YtxhNsdHQ0W7ZsycKFC3PrrbdWu5xp5c4778ydd96ZJNmzZ09+8Ytf5KGHHqpyVdPDvHnz0tTUlD/84Q9ZsGBBXnvttXz5y1+udlnTQnNzc95666189NFHmT17dl577bVcdNFF1S5r2mlra0t/f39WrFiR/v7+LFu2rNol8QWYWeUxr8bHzCqfmTV+5tX0ZF6Vz8wqn3lVPvOqMiZ6ZpVGR0dHK/qKnOS///u/s379+lx44YVjyz9XrVqVK664osqVTS9/Gl7r1q2rdinTxttvv50tW7bk+PHjmT9/fjo7Oyv6Eegz2bZt27Jz587MmjUrX/nKV3L//ffnrLPOqnZZU9aGDRvy+uuv5/Dhw6mvr88dd9yRZcuWpaenJ4ODg2lpacnatWv9/E0DZtb4mVflMbPKZ2Z9cebVzGFeVYaZdebMq/KZV2emGjNLQAgAAAAABeYMQgAAAAAoMAEhAAAAABSYgBAAAAAACkxACAAAAAAFJiAEAAAAgAITEAIAAABAgQkIAQAAAKDA/j8+c3zOIjFUaAAAAABJRU5ErkJggg==\n",
            "text/plain": [
              "<Figure size 1296x1296 with 9 Axes>"
            ]
          },
          "metadata": {}
        }
      ]
    },
    {
      "cell_type": "markdown",
      "source": [
        "<h4>1.1.2 Observations </h4>\n",
        "<h4>1.1.3 Approach </h4>"
      ],
      "metadata": {
        "id": "wdpWrB3HWel7"
      }
    },
    {
      "cell_type": "markdown",
      "source": [
        "<h3>1.2 Checking and Removing nan values</h3>"
      ],
      "metadata": {
        "id": "fPcTVTlE46vC"
      }
    },
    {
      "cell_type": "markdown",
      "source": [
        "<h4>1.2.1 Code </h4>"
      ],
      "metadata": {
        "id": "wbaWQwlpfyif"
      }
    },
    {
      "cell_type": "code",
      "source": [
        "## TODO \n",
        "## Yixin remove the wasted steps from the code and only keep the most important data cleaning steps\n",
        "cancer.dtypes.value_counts()"
      ],
      "metadata": {
        "colab": {
          "base_uri": "https://localhost:8080/"
        },
        "id": "dJclAfmh49KE",
        "outputId": "e42d1227-ec7d-4aa5-e0b1-486933175511"
      },
      "execution_count": 10,
      "outputs": [
        {
          "output_type": "execute_result",
          "data": {
            "text/plain": [
              "int64     9\n",
              "object    1\n",
              "dtype: int64"
            ]
          },
          "metadata": {},
          "execution_count": 10
        }
      ]
    },
    {
      "cell_type": "code",
      "source": [
        "cancer.select_dtypes('object')"
      ],
      "metadata": {
        "colab": {
          "base_uri": "https://localhost:8080/",
          "height": 424
        },
        "id": "3DCa8TIj4_Ty",
        "outputId": "12ec25e5-e920-4f21-c19f-30108e8c11e0"
      },
      "execution_count": 11,
      "outputs": [
        {
          "output_type": "execute_result",
          "data": {
            "text/html": [
              "\n",
              "  <div id=\"df-5a2a34fa-b50f-4d12-9473-1cd1425b01d3\">\n",
              "    <div class=\"colab-df-container\">\n",
              "      <div>\n",
              "<style scoped>\n",
              "    .dataframe tbody tr th:only-of-type {\n",
              "        vertical-align: middle;\n",
              "    }\n",
              "\n",
              "    .dataframe tbody tr th {\n",
              "        vertical-align: top;\n",
              "    }\n",
              "\n",
              "    .dataframe thead th {\n",
              "        text-align: right;\n",
              "    }\n",
              "</style>\n",
              "<table border=\"1\" class=\"dataframe\">\n",
              "  <thead>\n",
              "    <tr style=\"text-align: right;\">\n",
              "      <th></th>\n",
              "      <th>BareNuclei</th>\n",
              "    </tr>\n",
              "  </thead>\n",
              "  <tbody>\n",
              "    <tr>\n",
              "      <th>0</th>\n",
              "      <td>1</td>\n",
              "    </tr>\n",
              "    <tr>\n",
              "      <th>1</th>\n",
              "      <td>10</td>\n",
              "    </tr>\n",
              "    <tr>\n",
              "      <th>2</th>\n",
              "      <td>2</td>\n",
              "    </tr>\n",
              "    <tr>\n",
              "      <th>3</th>\n",
              "      <td>1</td>\n",
              "    </tr>\n",
              "    <tr>\n",
              "      <th>4</th>\n",
              "      <td>10</td>\n",
              "    </tr>\n",
              "    <tr>\n",
              "      <th>...</th>\n",
              "      <td>...</td>\n",
              "    </tr>\n",
              "    <tr>\n",
              "      <th>475</th>\n",
              "      <td>1</td>\n",
              "    </tr>\n",
              "    <tr>\n",
              "      <th>476</th>\n",
              "      <td>5</td>\n",
              "    </tr>\n",
              "    <tr>\n",
              "      <th>477</th>\n",
              "      <td>3</td>\n",
              "    </tr>\n",
              "    <tr>\n",
              "      <th>478</th>\n",
              "      <td>4</td>\n",
              "    </tr>\n",
              "    <tr>\n",
              "      <th>479</th>\n",
              "      <td>5</td>\n",
              "    </tr>\n",
              "  </tbody>\n",
              "</table>\n",
              "<p>480 rows × 1 columns</p>\n",
              "</div>\n",
              "      <button class=\"colab-df-convert\" onclick=\"convertToInteractive('df-5a2a34fa-b50f-4d12-9473-1cd1425b01d3')\"\n",
              "              title=\"Convert this dataframe to an interactive table.\"\n",
              "              style=\"display:none;\">\n",
              "        \n",
              "  <svg xmlns=\"http://www.w3.org/2000/svg\" height=\"24px\"viewBox=\"0 0 24 24\"\n",
              "       width=\"24px\">\n",
              "    <path d=\"M0 0h24v24H0V0z\" fill=\"none\"/>\n",
              "    <path d=\"M18.56 5.44l.94 2.06.94-2.06 2.06-.94-2.06-.94-.94-2.06-.94 2.06-2.06.94zm-11 1L8.5 8.5l.94-2.06 2.06-.94-2.06-.94L8.5 2.5l-.94 2.06-2.06.94zm10 10l.94 2.06.94-2.06 2.06-.94-2.06-.94-.94-2.06-.94 2.06-2.06.94z\"/><path d=\"M17.41 7.96l-1.37-1.37c-.4-.4-.92-.59-1.43-.59-.52 0-1.04.2-1.43.59L10.3 9.45l-7.72 7.72c-.78.78-.78 2.05 0 2.83L4 21.41c.39.39.9.59 1.41.59.51 0 1.02-.2 1.41-.59l7.78-7.78 2.81-2.81c.8-.78.8-2.07 0-2.86zM5.41 20L4 18.59l7.72-7.72 1.47 1.35L5.41 20z\"/>\n",
              "  </svg>\n",
              "      </button>\n",
              "      \n",
              "  <style>\n",
              "    .colab-df-container {\n",
              "      display:flex;\n",
              "      flex-wrap:wrap;\n",
              "      gap: 12px;\n",
              "    }\n",
              "\n",
              "    .colab-df-convert {\n",
              "      background-color: #E8F0FE;\n",
              "      border: none;\n",
              "      border-radius: 50%;\n",
              "      cursor: pointer;\n",
              "      display: none;\n",
              "      fill: #1967D2;\n",
              "      height: 32px;\n",
              "      padding: 0 0 0 0;\n",
              "      width: 32px;\n",
              "    }\n",
              "\n",
              "    .colab-df-convert:hover {\n",
              "      background-color: #E2EBFA;\n",
              "      box-shadow: 0px 1px 2px rgba(60, 64, 67, 0.3), 0px 1px 3px 1px rgba(60, 64, 67, 0.15);\n",
              "      fill: #174EA6;\n",
              "    }\n",
              "\n",
              "    [theme=dark] .colab-df-convert {\n",
              "      background-color: #3B4455;\n",
              "      fill: #D2E3FC;\n",
              "    }\n",
              "\n",
              "    [theme=dark] .colab-df-convert:hover {\n",
              "      background-color: #434B5C;\n",
              "      box-shadow: 0px 1px 3px 1px rgba(0, 0, 0, 0.15);\n",
              "      filter: drop-shadow(0px 1px 2px rgba(0, 0, 0, 0.3));\n",
              "      fill: #FFFFFF;\n",
              "    }\n",
              "  </style>\n",
              "\n",
              "      <script>\n",
              "        const buttonEl =\n",
              "          document.querySelector('#df-5a2a34fa-b50f-4d12-9473-1cd1425b01d3 button.colab-df-convert');\n",
              "        buttonEl.style.display =\n",
              "          google.colab.kernel.accessAllowed ? 'block' : 'none';\n",
              "\n",
              "        async function convertToInteractive(key) {\n",
              "          const element = document.querySelector('#df-5a2a34fa-b50f-4d12-9473-1cd1425b01d3');\n",
              "          const dataTable =\n",
              "            await google.colab.kernel.invokeFunction('convertToInteractive',\n",
              "                                                     [key], {});\n",
              "          if (!dataTable) return;\n",
              "\n",
              "          const docLinkHtml = 'Like what you see? Visit the ' +\n",
              "            '<a target=\"_blank\" href=https://colab.research.google.com/notebooks/data_table.ipynb>data table notebook</a>'\n",
              "            + ' to learn more about interactive tables.';\n",
              "          element.innerHTML = '';\n",
              "          dataTable['output_type'] = 'display_data';\n",
              "          await google.colab.output.renderOutput(dataTable, element);\n",
              "          const docLink = document.createElement('div');\n",
              "          docLink.innerHTML = docLinkHtml;\n",
              "          element.appendChild(docLink);\n",
              "        }\n",
              "      </script>\n",
              "    </div>\n",
              "  </div>\n",
              "  "
            ],
            "text/plain": [
              "    BareNuclei\n",
              "0            1\n",
              "1           10\n",
              "2            2\n",
              "3            1\n",
              "4           10\n",
              "..         ...\n",
              "475          1\n",
              "476          5\n",
              "477          3\n",
              "478          4\n",
              "479          5\n",
              "\n",
              "[480 rows x 1 columns]"
            ]
          },
          "metadata": {},
          "execution_count": 11
        }
      ]
    },
    {
      "cell_type": "code",
      "source": [
        "cancer = cancer.replace('?' ,np.nan)\n",
        "\n",
        "##Finding the the count and percentage of values that are missing in the dataframe.\n",
        "null1 = pd.DataFrame({'Count': cancer.isnull().sum(), 'Percent': 100*cancer.isnull().sum()/len(cancer)})\n",
        "\n",
        "##printing columns with null count more than 0\n",
        "null1[null1['Count'] > 0]"
      ],
      "metadata": {
        "colab": {
          "base_uri": "https://localhost:8080/",
          "height": 81
        },
        "id": "1CyRzBnb6XnU",
        "outputId": "23be338c-55db-4b00-d63c-741017f652e2"
      },
      "execution_count": 12,
      "outputs": [
        {
          "output_type": "execute_result",
          "data": {
            "text/html": [
              "\n",
              "  <div id=\"df-a0d2f03a-5aeb-485a-9a8c-64d8e170e031\">\n",
              "    <div class=\"colab-df-container\">\n",
              "      <div>\n",
              "<style scoped>\n",
              "    .dataframe tbody tr th:only-of-type {\n",
              "        vertical-align: middle;\n",
              "    }\n",
              "\n",
              "    .dataframe tbody tr th {\n",
              "        vertical-align: top;\n",
              "    }\n",
              "\n",
              "    .dataframe thead th {\n",
              "        text-align: right;\n",
              "    }\n",
              "</style>\n",
              "<table border=\"1\" class=\"dataframe\">\n",
              "  <thead>\n",
              "    <tr style=\"text-align: right;\">\n",
              "      <th></th>\n",
              "      <th>Count</th>\n",
              "      <th>Percent</th>\n",
              "    </tr>\n",
              "  </thead>\n",
              "  <tbody>\n",
              "    <tr>\n",
              "      <th>BareNuclei</th>\n",
              "      <td>11</td>\n",
              "      <td>2.291667</td>\n",
              "    </tr>\n",
              "  </tbody>\n",
              "</table>\n",
              "</div>\n",
              "      <button class=\"colab-df-convert\" onclick=\"convertToInteractive('df-a0d2f03a-5aeb-485a-9a8c-64d8e170e031')\"\n",
              "              title=\"Convert this dataframe to an interactive table.\"\n",
              "              style=\"display:none;\">\n",
              "        \n",
              "  <svg xmlns=\"http://www.w3.org/2000/svg\" height=\"24px\"viewBox=\"0 0 24 24\"\n",
              "       width=\"24px\">\n",
              "    <path d=\"M0 0h24v24H0V0z\" fill=\"none\"/>\n",
              "    <path d=\"M18.56 5.44l.94 2.06.94-2.06 2.06-.94-2.06-.94-.94-2.06-.94 2.06-2.06.94zm-11 1L8.5 8.5l.94-2.06 2.06-.94-2.06-.94L8.5 2.5l-.94 2.06-2.06.94zm10 10l.94 2.06.94-2.06 2.06-.94-2.06-.94-.94-2.06-.94 2.06-2.06.94z\"/><path d=\"M17.41 7.96l-1.37-1.37c-.4-.4-.92-.59-1.43-.59-.52 0-1.04.2-1.43.59L10.3 9.45l-7.72 7.72c-.78.78-.78 2.05 0 2.83L4 21.41c.39.39.9.59 1.41.59.51 0 1.02-.2 1.41-.59l7.78-7.78 2.81-2.81c.8-.78.8-2.07 0-2.86zM5.41 20L4 18.59l7.72-7.72 1.47 1.35L5.41 20z\"/>\n",
              "  </svg>\n",
              "      </button>\n",
              "      \n",
              "  <style>\n",
              "    .colab-df-container {\n",
              "      display:flex;\n",
              "      flex-wrap:wrap;\n",
              "      gap: 12px;\n",
              "    }\n",
              "\n",
              "    .colab-df-convert {\n",
              "      background-color: #E8F0FE;\n",
              "      border: none;\n",
              "      border-radius: 50%;\n",
              "      cursor: pointer;\n",
              "      display: none;\n",
              "      fill: #1967D2;\n",
              "      height: 32px;\n",
              "      padding: 0 0 0 0;\n",
              "      width: 32px;\n",
              "    }\n",
              "\n",
              "    .colab-df-convert:hover {\n",
              "      background-color: #E2EBFA;\n",
              "      box-shadow: 0px 1px 2px rgba(60, 64, 67, 0.3), 0px 1px 3px 1px rgba(60, 64, 67, 0.15);\n",
              "      fill: #174EA6;\n",
              "    }\n",
              "\n",
              "    [theme=dark] .colab-df-convert {\n",
              "      background-color: #3B4455;\n",
              "      fill: #D2E3FC;\n",
              "    }\n",
              "\n",
              "    [theme=dark] .colab-df-convert:hover {\n",
              "      background-color: #434B5C;\n",
              "      box-shadow: 0px 1px 3px 1px rgba(0, 0, 0, 0.15);\n",
              "      filter: drop-shadow(0px 1px 2px rgba(0, 0, 0, 0.3));\n",
              "      fill: #FFFFFF;\n",
              "    }\n",
              "  </style>\n",
              "\n",
              "      <script>\n",
              "        const buttonEl =\n",
              "          document.querySelector('#df-a0d2f03a-5aeb-485a-9a8c-64d8e170e031 button.colab-df-convert');\n",
              "        buttonEl.style.display =\n",
              "          google.colab.kernel.accessAllowed ? 'block' : 'none';\n",
              "\n",
              "        async function convertToInteractive(key) {\n",
              "          const element = document.querySelector('#df-a0d2f03a-5aeb-485a-9a8c-64d8e170e031');\n",
              "          const dataTable =\n",
              "            await google.colab.kernel.invokeFunction('convertToInteractive',\n",
              "                                                     [key], {});\n",
              "          if (!dataTable) return;\n",
              "\n",
              "          const docLinkHtml = 'Like what you see? Visit the ' +\n",
              "            '<a target=\"_blank\" href=https://colab.research.google.com/notebooks/data_table.ipynb>data table notebook</a>'\n",
              "            + ' to learn more about interactive tables.';\n",
              "          element.innerHTML = '';\n",
              "          dataTable['output_type'] = 'display_data';\n",
              "          await google.colab.output.renderOutput(dataTable, element);\n",
              "          const docLink = document.createElement('div');\n",
              "          docLink.innerHTML = docLinkHtml;\n",
              "          element.appendChild(docLink);\n",
              "        }\n",
              "      </script>\n",
              "    </div>\n",
              "  </div>\n",
              "  "
            ],
            "text/plain": [
              "            Count   Percent\n",
              "BareNuclei     11  2.291667"
            ]
          },
          "metadata": {},
          "execution_count": 12
        }
      ]
    },
    {
      "cell_type": "code",
      "source": [
        "## Filling the columns with nan values with mean of the data\n",
        "cancer[\"BareNuclei\"]=cancer[\"BareNuclei\"].astype(float)\n",
        "cancer=cancer.fillna(cancer.mean())"
      ],
      "metadata": {
        "id": "mQKh6EdQ6Xrk"
      },
      "execution_count": 13,
      "outputs": []
    },
    {
      "cell_type": "markdown",
      "source": [
        "<h4>1.2.2 Observations </h4>\n",
        "<h4>1.2.3 Approach </h4>"
      ],
      "metadata": {
        "id": "PHIdqxDmWMPe"
      }
    },
    {
      "cell_type": "markdown",
      "source": [
        "<h3>1.3 Removing Useless Attributes </h3>"
      ],
      "metadata": {
        "id": "uf89AePf6nsZ"
      }
    },
    {
      "cell_type": "markdown",
      "source": [
        "<h4>1.3.1 Code </h4>"
      ],
      "metadata": {
        "id": "aF8wcn9Gf3au"
      }
    },
    {
      "cell_type": "code",
      "source": [
        "corr_list1=cancer.corr()['classes'].abs().sort_values(ascending=False)\n",
        "corr_list_new=corr_list1[corr_list1>0.01].index.values.tolist()\n",
        "corr_list1\n",
        "cancer=cancer[corr_list_new]\n",
        "cancer.head(3)"
      ],
      "metadata": {
        "colab": {
          "base_uri": "https://localhost:8080/",
          "height": 207
        },
        "id": "e1xo7hxe6Xv1",
        "outputId": "e949748c-c76d-4487-a454-2a00bdbd845c"
      },
      "execution_count": 14,
      "outputs": [
        {
          "output_type": "execute_result",
          "data": {
            "text/html": [
              "\n",
              "  <div id=\"df-7e81c6c1-6d59-4a4c-9e55-6dbc3e459eb9\">\n",
              "    <div class=\"colab-df-container\">\n",
              "      <div>\n",
              "<style scoped>\n",
              "    .dataframe tbody tr th:only-of-type {\n",
              "        vertical-align: middle;\n",
              "    }\n",
              "\n",
              "    .dataframe tbody tr th {\n",
              "        vertical-align: top;\n",
              "    }\n",
              "\n",
              "    .dataframe thead th {\n",
              "        text-align: right;\n",
              "    }\n",
              "</style>\n",
              "<table border=\"1\" class=\"dataframe\">\n",
              "  <thead>\n",
              "    <tr style=\"text-align: right;\">\n",
              "      <th></th>\n",
              "      <th>classes</th>\n",
              "      <th>UniformityofCellShape</th>\n",
              "      <th>UniformityofCellSize</th>\n",
              "      <th>BareNuclei</th>\n",
              "      <th>BlandChromatin</th>\n",
              "      <th>ClumpThickness</th>\n",
              "      <th>NormalNucleoli</th>\n",
              "      <th>SingleEpithelialCellSize</th>\n",
              "      <th>MarginalAdhesion</th>\n",
              "      <th>Mitoses</th>\n",
              "    </tr>\n",
              "  </thead>\n",
              "  <tbody>\n",
              "    <tr>\n",
              "      <th>0</th>\n",
              "      <td>0</td>\n",
              "      <td>1</td>\n",
              "      <td>1</td>\n",
              "      <td>1.0</td>\n",
              "      <td>3</td>\n",
              "      <td>5</td>\n",
              "      <td>1</td>\n",
              "      <td>2</td>\n",
              "      <td>1</td>\n",
              "      <td>1</td>\n",
              "    </tr>\n",
              "    <tr>\n",
              "      <th>1</th>\n",
              "      <td>0</td>\n",
              "      <td>4</td>\n",
              "      <td>4</td>\n",
              "      <td>10.0</td>\n",
              "      <td>3</td>\n",
              "      <td>5</td>\n",
              "      <td>2</td>\n",
              "      <td>7</td>\n",
              "      <td>5</td>\n",
              "      <td>1</td>\n",
              "    </tr>\n",
              "    <tr>\n",
              "      <th>2</th>\n",
              "      <td>0</td>\n",
              "      <td>1</td>\n",
              "      <td>1</td>\n",
              "      <td>2.0</td>\n",
              "      <td>3</td>\n",
              "      <td>3</td>\n",
              "      <td>1</td>\n",
              "      <td>2</td>\n",
              "      <td>1</td>\n",
              "      <td>1</td>\n",
              "    </tr>\n",
              "  </tbody>\n",
              "</table>\n",
              "</div>\n",
              "      <button class=\"colab-df-convert\" onclick=\"convertToInteractive('df-7e81c6c1-6d59-4a4c-9e55-6dbc3e459eb9')\"\n",
              "              title=\"Convert this dataframe to an interactive table.\"\n",
              "              style=\"display:none;\">\n",
              "        \n",
              "  <svg xmlns=\"http://www.w3.org/2000/svg\" height=\"24px\"viewBox=\"0 0 24 24\"\n",
              "       width=\"24px\">\n",
              "    <path d=\"M0 0h24v24H0V0z\" fill=\"none\"/>\n",
              "    <path d=\"M18.56 5.44l.94 2.06.94-2.06 2.06-.94-2.06-.94-.94-2.06-.94 2.06-2.06.94zm-11 1L8.5 8.5l.94-2.06 2.06-.94-2.06-.94L8.5 2.5l-.94 2.06-2.06.94zm10 10l.94 2.06.94-2.06 2.06-.94-2.06-.94-.94-2.06-.94 2.06-2.06.94z\"/><path d=\"M17.41 7.96l-1.37-1.37c-.4-.4-.92-.59-1.43-.59-.52 0-1.04.2-1.43.59L10.3 9.45l-7.72 7.72c-.78.78-.78 2.05 0 2.83L4 21.41c.39.39.9.59 1.41.59.51 0 1.02-.2 1.41-.59l7.78-7.78 2.81-2.81c.8-.78.8-2.07 0-2.86zM5.41 20L4 18.59l7.72-7.72 1.47 1.35L5.41 20z\"/>\n",
              "  </svg>\n",
              "      </button>\n",
              "      \n",
              "  <style>\n",
              "    .colab-df-container {\n",
              "      display:flex;\n",
              "      flex-wrap:wrap;\n",
              "      gap: 12px;\n",
              "    }\n",
              "\n",
              "    .colab-df-convert {\n",
              "      background-color: #E8F0FE;\n",
              "      border: none;\n",
              "      border-radius: 50%;\n",
              "      cursor: pointer;\n",
              "      display: none;\n",
              "      fill: #1967D2;\n",
              "      height: 32px;\n",
              "      padding: 0 0 0 0;\n",
              "      width: 32px;\n",
              "    }\n",
              "\n",
              "    .colab-df-convert:hover {\n",
              "      background-color: #E2EBFA;\n",
              "      box-shadow: 0px 1px 2px rgba(60, 64, 67, 0.3), 0px 1px 3px 1px rgba(60, 64, 67, 0.15);\n",
              "      fill: #174EA6;\n",
              "    }\n",
              "\n",
              "    [theme=dark] .colab-df-convert {\n",
              "      background-color: #3B4455;\n",
              "      fill: #D2E3FC;\n",
              "    }\n",
              "\n",
              "    [theme=dark] .colab-df-convert:hover {\n",
              "      background-color: #434B5C;\n",
              "      box-shadow: 0px 1px 3px 1px rgba(0, 0, 0, 0.15);\n",
              "      filter: drop-shadow(0px 1px 2px rgba(0, 0, 0, 0.3));\n",
              "      fill: #FFFFFF;\n",
              "    }\n",
              "  </style>\n",
              "\n",
              "      <script>\n",
              "        const buttonEl =\n",
              "          document.querySelector('#df-7e81c6c1-6d59-4a4c-9e55-6dbc3e459eb9 button.colab-df-convert');\n",
              "        buttonEl.style.display =\n",
              "          google.colab.kernel.accessAllowed ? 'block' : 'none';\n",
              "\n",
              "        async function convertToInteractive(key) {\n",
              "          const element = document.querySelector('#df-7e81c6c1-6d59-4a4c-9e55-6dbc3e459eb9');\n",
              "          const dataTable =\n",
              "            await google.colab.kernel.invokeFunction('convertToInteractive',\n",
              "                                                     [key], {});\n",
              "          if (!dataTable) return;\n",
              "\n",
              "          const docLinkHtml = 'Like what you see? Visit the ' +\n",
              "            '<a target=\"_blank\" href=https://colab.research.google.com/notebooks/data_table.ipynb>data table notebook</a>'\n",
              "            + ' to learn more about interactive tables.';\n",
              "          element.innerHTML = '';\n",
              "          dataTable['output_type'] = 'display_data';\n",
              "          await google.colab.output.renderOutput(dataTable, element);\n",
              "          const docLink = document.createElement('div');\n",
              "          docLink.innerHTML = docLinkHtml;\n",
              "          element.appendChild(docLink);\n",
              "        }\n",
              "      </script>\n",
              "    </div>\n",
              "  </div>\n",
              "  "
            ],
            "text/plain": [
              "   classes  UniformityofCellShape  ...  MarginalAdhesion  Mitoses\n",
              "0        0                      1  ...                 1        1\n",
              "1        0                      4  ...                 5        1\n",
              "2        0                      1  ...                 1        1\n",
              "\n",
              "[3 rows x 10 columns]"
            ]
          },
          "metadata": {},
          "execution_count": 14
        }
      ]
    },
>>>>>>> 1fdae7ab27c8fdc4322ee72fe30f24c5a20d354b
    {
     "data": {
      "text/html": [
       "<div>\n",
       "<style scoped>\n",
       "    .dataframe tbody tr th:only-of-type {\n",
       "        vertical-align: middle;\n",
       "    }\n",
       "\n",
       "    .dataframe tbody tr th {\n",
       "        vertical-align: top;\n",
       "    }\n",
       "\n",
       "    .dataframe thead th {\n",
       "        text-align: right;\n",
       "    }\n",
       "</style>\n",
       "<table border=\"1\" class=\"dataframe\">\n",
       "  <thead>\n",
       "    <tr style=\"text-align: right;\">\n",
       "      <th></th>\n",
       "      <th>ClumpThickness</th>\n",
       "      <th>UniformityofCellSize</th>\n",
       "      <th>UniformityofCellShape</th>\n",
       "      <th>MarginalAdhesion</th>\n",
       "      <th>SingleEpithelialCellSize</th>\n",
       "      <th>BareNuclei</th>\n",
       "      <th>BlandChromatin</th>\n",
       "      <th>NormalNucleoli</th>\n",
       "      <th>Mitoses</th>\n",
       "      <th>classes</th>\n",
       "    </tr>\n",
       "  </thead>\n",
       "  <tbody>\n",
       "    <tr>\n",
       "      <th>0</th>\n",
       "      <td>6</td>\n",
       "      <td>8</td>\n",
       "      <td>8</td>\n",
       "      <td>1</td>\n",
       "      <td>3</td>\n",
       "      <td>4</td>\n",
       "      <td>3</td>\n",
       "      <td>7</td>\n",
       "      <td>1</td>\n",
       "      <td>0</td>\n",
       "    </tr>\n",
       "    <tr>\n",
       "      <th>1</th>\n",
       "      <td>8</td>\n",
       "      <td>10</td>\n",
       "      <td>10</td>\n",
       "      <td>8</td>\n",
       "      <td>7</td>\n",
       "      <td>10</td>\n",
       "      <td>9</td>\n",
       "      <td>7</td>\n",
       "      <td>1</td>\n",
       "      <td>1</td>\n",
       "    </tr>\n",
       "    <tr>\n",
       "      <th>2</th>\n",
       "      <td>2</td>\n",
       "      <td>1</td>\n",
       "      <td>2</td>\n",
       "      <td>1</td>\n",
       "      <td>2</td>\n",
       "      <td>1</td>\n",
       "      <td>3</td>\n",
       "      <td>1</td>\n",
       "      <td>1</td>\n",
       "      <td>0</td>\n",
       "    </tr>\n",
       "    <tr>\n",
       "      <th>3</th>\n",
       "      <td>2</td>\n",
       "      <td>1</td>\n",
       "      <td>1</td>\n",
       "      <td>1</td>\n",
       "      <td>2</td>\n",
       "      <td>1</td>\n",
       "      <td>1</td>\n",
       "      <td>1</td>\n",
       "      <td>5</td>\n",
       "      <td>0</td>\n",
       "    </tr>\n",
       "    <tr>\n",
       "      <th>4</th>\n",
       "      <td>1</td>\n",
       "      <td>1</td>\n",
       "      <td>1</td>\n",
       "      <td>1</td>\n",
       "      <td>1</td>\n",
       "      <td>1</td>\n",
       "      <td>3</td>\n",
       "      <td>1</td>\n",
       "      <td>1</td>\n",
       "      <td>0</td>\n",
       "    </tr>\n",
       "  </tbody>\n",
       "</table>\n",
       "</div>"
      ],
      "text/plain": [
       "   ClumpThickness  UniformityofCellSize  UniformityofCellShape  \\\n",
       "0               6                     8                      8   \n",
       "1               8                    10                     10   \n",
       "2               2                     1                      2   \n",
       "3               2                     1                      1   \n",
       "4               1                     1                      1   \n",
       "\n",
       "   MarginalAdhesion  SingleEpithelialCellSize BareNuclei  BlandChromatin  \\\n",
       "0                 1                         3          4               3   \n",
       "1                 8                         7         10               9   \n",
       "2                 1                         2          1               3   \n",
       "3                 1                         2          1               1   \n",
       "4                 1                         1          1               3   \n",
       "\n",
       "   NormalNucleoli  Mitoses  classes  \n",
       "0               7        1        0  \n",
       "1               7        1        1  \n",
       "2               1        1        0  \n",
       "3               1        5        0  \n",
       "4               1        1        0  "
      ]
     },
     "execution_count": 7,
     "metadata": {},
     "output_type": "execute_result"
    }
   ],
   "source": [
    "# Making the class counts to similar size\n",
    "Benign = cancerdata[(cancerdata.Class == 2) ].sample(240).index\n",
    "Malignant = cancerdata[(cancerdata.Class == 4) ].sample(240).index\n",
    "cancer = cancerdata.loc[Benign|Malignant]\n",
    "cancer = cancer.reset_index(drop=True)\n",
    "\n",
    "# Making the classess from 2/4 to 0/1 \n",
    "cancer['classes'] = cancer.Class.map({2:0,4:1})\n",
    "cancer = cancer.drop(['Class'], 1)\n",
    "\n",
    "# Printing the updated dataframe\n",
    "cancer.head()"
   ]
  },
  {
   "cell_type": "code",
   "execution_count": 8,
   "metadata": {
    "id": "2gLfIN6F4oxH"
   },
   "outputs": [
    {
     "data": {
      "text/plain": [
       "0    240\n",
       "1    240\n",
       "Name: classes, dtype: int64"
      ]
     },
     "execution_count": 8,
     "metadata": {},
     "output_type": "execute_result"
    }
   ],
   "source": [
    "# Confirming that counts of the classes are similar \n",
    "cancer['classes'].value_counts()\n"
   ]
  },
  {
   "cell_type": "code",
   "execution_count": 9,
   "metadata": {
    "id": "FxwBcGnk429U"
   },
   "outputs": [
    {
     "data": {
      "image/png": "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\n",
      "text/plain": [
       "<Figure size 1296x1296 with 9 Axes>"
      ]
     },
     "metadata": {},
     "output_type": "display_data"
    }
   ],
   "source": [
    "# plot date variables and find the variables with similar distributions, keep only one of them.\n",
    "#['ClumpThickness','UniformityofCellSize','UniformityofCellShape','MarginalAdhesion',\n",
    "#'SingleEpithelialCellSize','BareNuclei','BlandChromatin','NormalNucleoli','Mitoses']\n",
    "fig, axs = plt.subplots(3, 3, figsize=(18,18))\n",
    "axs[0,0].hist(cancer['ClumpThickness'])\n",
    "axs[0,0].set_title(\"ClumpThickness\")\n",
    "axs[0,1].hist(cancer['UniformityofCellSize'])\n",
    "axs[0,1].set_title(\"UniformityofCellSize\")\n",
    "axs[0,2].hist(cancer['UniformityofCellShape'])\n",
    "axs[0,2].set_title(\"UniformityofCellShape\")\n",
    "axs[1,0].hist(cancer['MarginalAdhesion'])\n",
    "axs[1,0].set_title(\"MarginalAdhesion\")\n",
    "axs[1,1].hist(cancer['SingleEpithelialCellSize'])\n",
    "axs[1,1].set_title(\"SingleEpithelialCellSize\")\n",
    "axs[1,2].hist(cancer['BareNuclei'])\n",
    "axs[1,2].set_title(\"BareNuclei\")\n",
    "axs[2,0].hist(cancer['BlandChromatin'])\n",
    "axs[2,0].set_title(\"BlandChromatin\")\n",
    "axs[2,1].hist(cancer['NormalNucleoli'])\n",
    "axs[2,1].set_title(\"NormalNucleoli\")\n",
    "axs[2,2].hist(cancer['Mitoses'])\n",
    "axs[2,2].set_title(\"Mitoses\")\n",
    "fig.tight_layout()"
   ]
  },
  {
   "cell_type": "markdown",
   "metadata": {
    "id": "wdpWrB3HWel7"
   },
   "source": [
    "<h3>1.1.2 Observations </h3>\n",
    "<h3>1.1.3 Approach </h3>"
   ]
  },
  {
   "cell_type": "markdown",
   "metadata": {
    "id": "fPcTVTlE46vC"
   },
   "source": [
    "<h3>1.2 Checking and Removing nan values</h3>"
   ]
  },
  {
   "cell_type": "code",
   "execution_count": 10,
   "metadata": {
    "id": "dJclAfmh49KE"
   },
   "outputs": [
    {
<<<<<<< HEAD
     "data": {
      "text/plain": [
       "int64     9\n",
       "object    1\n",
       "dtype: int64"
      ]
     },
     "execution_count": 10,
     "metadata": {},
     "output_type": "execute_result"
    }
   ],
   "source": [
    "## TODO \n",
    "## Yixin remove the wasted steps from the code and only keep the most important data cleaning steps\n",
    "cancer.dtypes.value_counts()"
   ]
  },
  {
   "cell_type": "code",
   "execution_count": 11,
   "metadata": {
    "id": "3DCa8TIj4_Ty"
   },
   "outputs": [
=======
      "cell_type": "markdown",
      "source": [
        "<h4>1.3.2 Observations </h4>\n",
        "\n",
        "\n",
        "<h4>1.3.3 Approach </h4>"
      ],
      "metadata": {
        "id": "P-oNBnzbV4lI"
      }
    },
>>>>>>> 1fdae7ab27c8fdc4322ee72fe30f24c5a20d354b
    {
     "data": {
      "text/html": [
       "<div>\n",
       "<style scoped>\n",
       "    .dataframe tbody tr th:only-of-type {\n",
       "        vertical-align: middle;\n",
       "    }\n",
       "\n",
       "    .dataframe tbody tr th {\n",
       "        vertical-align: top;\n",
       "    }\n",
       "\n",
       "    .dataframe thead th {\n",
       "        text-align: right;\n",
       "    }\n",
       "</style>\n",
       "<table border=\"1\" class=\"dataframe\">\n",
       "  <thead>\n",
       "    <tr style=\"text-align: right;\">\n",
       "      <th></th>\n",
       "      <th>BareNuclei</th>\n",
       "    </tr>\n",
       "  </thead>\n",
       "  <tbody>\n",
       "    <tr>\n",
       "      <th>0</th>\n",
       "      <td>4</td>\n",
       "    </tr>\n",
       "    <tr>\n",
       "      <th>1</th>\n",
       "      <td>10</td>\n",
       "    </tr>\n",
       "    <tr>\n",
       "      <th>2</th>\n",
       "      <td>1</td>\n",
       "    </tr>\n",
       "    <tr>\n",
       "      <th>3</th>\n",
       "      <td>1</td>\n",
       "    </tr>\n",
       "    <tr>\n",
       "      <th>4</th>\n",
       "      <td>1</td>\n",
       "    </tr>\n",
       "    <tr>\n",
       "      <th>...</th>\n",
       "      <td>...</td>\n",
       "    </tr>\n",
       "    <tr>\n",
       "      <th>475</th>\n",
       "      <td>2</td>\n",
       "    </tr>\n",
       "    <tr>\n",
       "      <th>476</th>\n",
       "      <td>1</td>\n",
       "    </tr>\n",
       "    <tr>\n",
       "      <th>477</th>\n",
       "      <td>3</td>\n",
       "    </tr>\n",
       "    <tr>\n",
       "      <th>478</th>\n",
       "      <td>4</td>\n",
       "    </tr>\n",
       "    <tr>\n",
       "      <th>479</th>\n",
       "      <td>5</td>\n",
       "    </tr>\n",
       "  </tbody>\n",
       "</table>\n",
       "<p>480 rows × 1 columns</p>\n",
       "</div>"
      ],
      "text/plain": [
       "    BareNuclei\n",
       "0            4\n",
       "1           10\n",
       "2            1\n",
       "3            1\n",
       "4            1\n",
       "..         ...\n",
       "475          2\n",
       "476          1\n",
       "477          3\n",
       "478          4\n",
       "479          5\n",
       "\n",
       "[480 rows x 1 columns]"
      ]
     },
     "execution_count": 11,
     "metadata": {},
     "output_type": "execute_result"
    }
   ],
   "source": [
    "cancer.select_dtypes('object')"
   ]
  },
  {
   "cell_type": "code",
   "execution_count": 12,
   "metadata": {
    "id": "1CyRzBnb6XnU"
   },
   "outputs": [
    {
<<<<<<< HEAD
     "data": {
      "text/html": [
       "<div>\n",
       "<style scoped>\n",
       "    .dataframe tbody tr th:only-of-type {\n",
       "        vertical-align: middle;\n",
       "    }\n",
       "\n",
       "    .dataframe tbody tr th {\n",
       "        vertical-align: top;\n",
       "    }\n",
       "\n",
       "    .dataframe thead th {\n",
       "        text-align: right;\n",
       "    }\n",
       "</style>\n",
       "<table border=\"1\" class=\"dataframe\">\n",
       "  <thead>\n",
       "    <tr style=\"text-align: right;\">\n",
       "      <th></th>\n",
       "      <th>Count</th>\n",
       "      <th>Percent</th>\n",
       "    </tr>\n",
       "  </thead>\n",
       "  <tbody>\n",
       "    <tr>\n",
       "      <th>BareNuclei</th>\n",
       "      <td>9</td>\n",
       "      <td>1.875</td>\n",
       "    </tr>\n",
       "  </tbody>\n",
       "</table>\n",
       "</div>"
=======
      "cell_type": "markdown",
      "source": [
        "<h4>1.4.1 Code </h4>"
      ],
      "metadata": {
        "id": "tOcvGwDUf8fd"
      }
    },
    {
      "cell_type": "code",
      "source": [
        "# Remove outliers\n",
        "cancer_norm = cancer_final[(np.abs(scipy.stats.zscore(cancer_final)) < 3).all(axis=1)]\n",
        "# Zero mean normalisation\n",
        "cancer_norm.iloc[:,1:]=(cancer_norm.iloc[:,1:]-cancer_norm.iloc[:,1:].mean())/cancer_norm.iloc[:,1:].std()"
>>>>>>> 1fdae7ab27c8fdc4322ee72fe30f24c5a20d354b
      ],
      "text/plain": [
       "            Count  Percent\n",
       "BareNuclei      9    1.875"
      ]
     },
     "execution_count": 12,
     "metadata": {},
     "output_type": "execute_result"
    }
   ],
   "source": [
    "cancer = cancer.replace('?' ,np.nan)\n",
    "\n",
    "##Finding the the count and percentage of values that are missing in the dataframe.\n",
    "null1 = pd.DataFrame({'Count': cancer.isnull().sum(), 'Percent': 100*cancer.isnull().sum()/len(cancer)})\n",
    "\n",
    "##printing columns with null count more than 0\n",
    "null1[null1['Count'] > 0]"
   ]
  },
  {
   "cell_type": "code",
   "execution_count": 13,
   "metadata": {
    "id": "mQKh6EdQ6Xrk"
   },
   "outputs": [],
   "source": [
    "## Filling the columns with nan values with mean of the data\n",
    "cancer[\"BareNuclei\"]=cancer[\"BareNuclei\"].astype(float)\n",
    "cancer=cancer.fillna(cancer.mean())"
   ]
  },
  {
   "cell_type": "markdown",
   "metadata": {
    "id": "PHIdqxDmWMPe"
   },
   "source": [
    "<h3>1.2.2 Observations </h3>\n",
    "<h3>1.2.3 Approach </h3>"
   ]
  },
  {
   "cell_type": "markdown",
   "metadata": {
    "id": "uf89AePf6nsZ"
   },
   "source": [
    "<h3>1.3 Removing Useless Attributes </h3>"
   ]
  },
  {
   "cell_type": "code",
   "execution_count": 14,
   "metadata": {
    "id": "e1xo7hxe6Xv1"
   },
   "outputs": [
    {
     "data": {
      "text/html": [
       "<div>\n",
       "<style scoped>\n",
       "    .dataframe tbody tr th:only-of-type {\n",
       "        vertical-align: middle;\n",
       "    }\n",
       "\n",
       "    .dataframe tbody tr th {\n",
       "        vertical-align: top;\n",
       "    }\n",
       "\n",
       "    .dataframe thead th {\n",
       "        text-align: right;\n",
       "    }\n",
       "</style>\n",
       "<table border=\"1\" class=\"dataframe\">\n",
       "  <thead>\n",
       "    <tr style=\"text-align: right;\">\n",
       "      <th></th>\n",
       "      <th>classes</th>\n",
       "      <th>BareNuclei</th>\n",
       "      <th>UniformityofCellShape</th>\n",
       "      <th>UniformityofCellSize</th>\n",
       "      <th>BlandChromatin</th>\n",
       "      <th>ClumpThickness</th>\n",
       "      <th>NormalNucleoli</th>\n",
       "      <th>MarginalAdhesion</th>\n",
       "      <th>SingleEpithelialCellSize</th>\n",
       "      <th>Mitoses</th>\n",
       "    </tr>\n",
       "  </thead>\n",
       "  <tbody>\n",
       "    <tr>\n",
       "      <th>0</th>\n",
       "      <td>0</td>\n",
       "      <td>4.0</td>\n",
       "      <td>8</td>\n",
       "      <td>8</td>\n",
       "      <td>3</td>\n",
       "      <td>6</td>\n",
       "      <td>7</td>\n",
       "      <td>1</td>\n",
       "      <td>3</td>\n",
       "      <td>1</td>\n",
       "    </tr>\n",
       "    <tr>\n",
       "      <th>1</th>\n",
       "      <td>1</td>\n",
       "      <td>10.0</td>\n",
       "      <td>10</td>\n",
       "      <td>10</td>\n",
       "      <td>9</td>\n",
       "      <td>8</td>\n",
       "      <td>7</td>\n",
       "      <td>8</td>\n",
       "      <td>7</td>\n",
       "      <td>1</td>\n",
       "    </tr>\n",
       "    <tr>\n",
       "      <th>2</th>\n",
       "      <td>0</td>\n",
       "      <td>1.0</td>\n",
       "      <td>2</td>\n",
       "      <td>1</td>\n",
       "      <td>3</td>\n",
       "      <td>2</td>\n",
       "      <td>1</td>\n",
       "      <td>1</td>\n",
       "      <td>2</td>\n",
       "      <td>1</td>\n",
       "    </tr>\n",
       "  </tbody>\n",
       "</table>\n",
       "</div>"
      ],
<<<<<<< HEAD
      "text/plain": [
       "   classes  BareNuclei  UniformityofCellShape  UniformityofCellSize  \\\n",
       "0        0         4.0                      8                     8   \n",
       "1        1        10.0                     10                    10   \n",
       "2        0         1.0                      2                     1   \n",
       "\n",
       "   BlandChromatin  ClumpThickness  NormalNucleoli  MarginalAdhesion  \\\n",
       "0               3               6               7                 1   \n",
       "1               9               8               7                 8   \n",
       "2               3               2               1                 1   \n",
       "\n",
       "   SingleEpithelialCellSize  Mitoses  \n",
       "0                         3        1  \n",
       "1                         7        1  \n",
       "2                         2        1  "
=======
      "metadata": {
        "colab": {
          "base_uri": "https://localhost:8080/",
          "height": 206
        },
        "id": "MQpTYu396pXt",
        "outputId": "d23a1679-cf54-4383-ebb2-2635443845be"
      },
      "execution_count": 19,
      "outputs": [
        {
          "output_type": "execute_result",
          "data": {
            "text/html": [
              "\n",
              "  <div id=\"df-8b8cf9b0-3d70-4d09-82c1-73df61770ed2\">\n",
              "    <div class=\"colab-df-container\">\n",
              "      <div>\n",
              "<style scoped>\n",
              "    .dataframe tbody tr th:only-of-type {\n",
              "        vertical-align: middle;\n",
              "    }\n",
              "\n",
              "    .dataframe tbody tr th {\n",
              "        vertical-align: top;\n",
              "    }\n",
              "\n",
              "    .dataframe thead th {\n",
              "        text-align: right;\n",
              "    }\n",
              "</style>\n",
              "<table border=\"1\" class=\"dataframe\">\n",
              "  <thead>\n",
              "    <tr style=\"text-align: right;\">\n",
              "      <th></th>\n",
              "      <th>classes</th>\n",
              "      <th>BareNuclei</th>\n",
              "      <th>BlandChromatin</th>\n",
              "      <th>ClumpThickness</th>\n",
              "      <th>NormalNucleoli</th>\n",
              "      <th>SingleEpithelialCellSize</th>\n",
              "      <th>MarginalAdhesion</th>\n",
              "      <th>Mitoses</th>\n",
              "    </tr>\n",
              "  </thead>\n",
              "  <tbody>\n",
              "    <tr>\n",
              "      <th>0</th>\n",
              "      <td>0</td>\n",
              "      <td>-0.889357</td>\n",
              "      <td>-0.376944</td>\n",
              "      <td>0.005228</td>\n",
              "      <td>-0.736032</td>\n",
              "      <td>-0.675853</td>\n",
              "      <td>-0.769081</td>\n",
              "      <td>-0.404347</td>\n",
              "    </tr>\n",
              "    <tr>\n",
              "      <th>1</th>\n",
              "      <td>0</td>\n",
              "      <td>1.425484</td>\n",
              "      <td>-0.376944</td>\n",
              "      <td>0.005228</td>\n",
              "      <td>-0.433580</td>\n",
              "      <td>1.499577</td>\n",
              "      <td>0.544438</td>\n",
              "      <td>-0.404347</td>\n",
              "    </tr>\n",
              "    <tr>\n",
              "      <th>2</th>\n",
              "      <td>0</td>\n",
              "      <td>-0.632153</td>\n",
              "      <td>-0.376944</td>\n",
              "      <td>-0.680423</td>\n",
              "      <td>-0.736032</td>\n",
              "      <td>-0.675853</td>\n",
              "      <td>-0.769081</td>\n",
              "      <td>-0.404347</td>\n",
              "    </tr>\n",
              "    <tr>\n",
              "      <th>3</th>\n",
              "      <td>0</td>\n",
              "      <td>-0.889357</td>\n",
              "      <td>-0.376944</td>\n",
              "      <td>-0.337598</td>\n",
              "      <td>-0.736032</td>\n",
              "      <td>-0.675853</td>\n",
              "      <td>-0.112322</td>\n",
              "      <td>-0.404347</td>\n",
              "    </tr>\n",
              "    <tr>\n",
              "      <th>4</th>\n",
              "      <td>1</td>\n",
              "      <td>1.425484</td>\n",
              "      <td>1.940252</td>\n",
              "      <td>1.033706</td>\n",
              "      <td>1.078678</td>\n",
              "      <td>1.499577</td>\n",
              "      <td>1.529577</td>\n",
              "      <td>-0.404347</td>\n",
              "    </tr>\n",
              "  </tbody>\n",
              "</table>\n",
              "</div>\n",
              "      <button class=\"colab-df-convert\" onclick=\"convertToInteractive('df-8b8cf9b0-3d70-4d09-82c1-73df61770ed2')\"\n",
              "              title=\"Convert this dataframe to an interactive table.\"\n",
              "              style=\"display:none;\">\n",
              "        \n",
              "  <svg xmlns=\"http://www.w3.org/2000/svg\" height=\"24px\"viewBox=\"0 0 24 24\"\n",
              "       width=\"24px\">\n",
              "    <path d=\"M0 0h24v24H0V0z\" fill=\"none\"/>\n",
              "    <path d=\"M18.56 5.44l.94 2.06.94-2.06 2.06-.94-2.06-.94-.94-2.06-.94 2.06-2.06.94zm-11 1L8.5 8.5l.94-2.06 2.06-.94-2.06-.94L8.5 2.5l-.94 2.06-2.06.94zm10 10l.94 2.06.94-2.06 2.06-.94-2.06-.94-.94-2.06-.94 2.06-2.06.94z\"/><path d=\"M17.41 7.96l-1.37-1.37c-.4-.4-.92-.59-1.43-.59-.52 0-1.04.2-1.43.59L10.3 9.45l-7.72 7.72c-.78.78-.78 2.05 0 2.83L4 21.41c.39.39.9.59 1.41.59.51 0 1.02-.2 1.41-.59l7.78-7.78 2.81-2.81c.8-.78.8-2.07 0-2.86zM5.41 20L4 18.59l7.72-7.72 1.47 1.35L5.41 20z\"/>\n",
              "  </svg>\n",
              "      </button>\n",
              "      \n",
              "  <style>\n",
              "    .colab-df-container {\n",
              "      display:flex;\n",
              "      flex-wrap:wrap;\n",
              "      gap: 12px;\n",
              "    }\n",
              "\n",
              "    .colab-df-convert {\n",
              "      background-color: #E8F0FE;\n",
              "      border: none;\n",
              "      border-radius: 50%;\n",
              "      cursor: pointer;\n",
              "      display: none;\n",
              "      fill: #1967D2;\n",
              "      height: 32px;\n",
              "      padding: 0 0 0 0;\n",
              "      width: 32px;\n",
              "    }\n",
              "\n",
              "    .colab-df-convert:hover {\n",
              "      background-color: #E2EBFA;\n",
              "      box-shadow: 0px 1px 2px rgba(60, 64, 67, 0.3), 0px 1px 3px 1px rgba(60, 64, 67, 0.15);\n",
              "      fill: #174EA6;\n",
              "    }\n",
              "\n",
              "    [theme=dark] .colab-df-convert {\n",
              "      background-color: #3B4455;\n",
              "      fill: #D2E3FC;\n",
              "    }\n",
              "\n",
              "    [theme=dark] .colab-df-convert:hover {\n",
              "      background-color: #434B5C;\n",
              "      box-shadow: 0px 1px 3px 1px rgba(0, 0, 0, 0.15);\n",
              "      filter: drop-shadow(0px 1px 2px rgba(0, 0, 0, 0.3));\n",
              "      fill: #FFFFFF;\n",
              "    }\n",
              "  </style>\n",
              "\n",
              "      <script>\n",
              "        const buttonEl =\n",
              "          document.querySelector('#df-8b8cf9b0-3d70-4d09-82c1-73df61770ed2 button.colab-df-convert');\n",
              "        buttonEl.style.display =\n",
              "          google.colab.kernel.accessAllowed ? 'block' : 'none';\n",
              "\n",
              "        async function convertToInteractive(key) {\n",
              "          const element = document.querySelector('#df-8b8cf9b0-3d70-4d09-82c1-73df61770ed2');\n",
              "          const dataTable =\n",
              "            await google.colab.kernel.invokeFunction('convertToInteractive',\n",
              "                                                     [key], {});\n",
              "          if (!dataTable) return;\n",
              "\n",
              "          const docLinkHtml = 'Like what you see? Visit the ' +\n",
              "            '<a target=\"_blank\" href=https://colab.research.google.com/notebooks/data_table.ipynb>data table notebook</a>'\n",
              "            + ' to learn more about interactive tables.';\n",
              "          element.innerHTML = '';\n",
              "          dataTable['output_type'] = 'display_data';\n",
              "          await google.colab.output.renderOutput(dataTable, element);\n",
              "          const docLink = document.createElement('div');\n",
              "          docLink.innerHTML = docLinkHtml;\n",
              "          element.appendChild(docLink);\n",
              "        }\n",
              "      </script>\n",
              "    </div>\n",
              "  </div>\n",
              "  "
            ],
            "text/plain": [
              "   classes  BareNuclei  ...  MarginalAdhesion   Mitoses\n",
              "0        0   -0.889357  ...         -0.769081 -0.404347\n",
              "1        0    1.425484  ...          0.544438 -0.404347\n",
              "2        0   -0.632153  ...         -0.769081 -0.404347\n",
              "3        0   -0.889357  ...         -0.112322 -0.404347\n",
              "4        1    1.425484  ...          1.529577 -0.404347\n",
              "\n",
              "[5 rows x 8 columns]"
            ]
          },
          "metadata": {},
          "execution_count": 19
        }
>>>>>>> 1fdae7ab27c8fdc4322ee72fe30f24c5a20d354b
      ]
     },
     "execution_count": 14,
     "metadata": {},
     "output_type": "execute_result"
    }
   ],
   "source": [
    "corr_list1=cancer.corr()['classes'].abs().sort_values(ascending=False)\n",
    "corr_list_new=corr_list1[corr_list1>0.01].index.values.tolist()\n",
    "corr_list1\n",
    "cancer=cancer[corr_list_new]\n",
    "cancer.head(3)"
   ]
  },
  {
   "cell_type": "code",
   "execution_count": 15,
   "metadata": {
    "id": "5MgSXzzR6XzR"
   },
   "outputs": [
    {
     "data": {
      "text/plain": [
       "classes                   classes                     1.000000\n",
       "UniformityofCellShape     UniformityofCellSize        0.898337\n",
       "BareNuclei                classes                     0.807094\n",
       "classes                   UniformityofCellShape       0.800917\n",
       "                          UniformityofCellSize        0.798326\n",
       "                          BlandChromatin              0.738348\n",
       "BlandChromatin            UniformityofCellSize        0.737284\n",
       "classes                   ClumpThickness              0.728639\n",
       "SingleEpithelialCellSize  UniformityofCellSize        0.724716\n",
       "UniformityofCellShape     BlandChromatin              0.714699\n",
       "                          NormalNucleoli              0.693236\n",
       "NormalNucleoli            UniformityofCellSize        0.691315\n",
       "UniformityofCellShape     SingleEpithelialCellSize    0.690709\n",
       "classes                   NormalNucleoli              0.689144\n",
       "MarginalAdhesion          UniformityofCellSize        0.673641\n",
       "                          classes                     0.670098\n",
       "UniformityofCellShape     BareNuclei                  0.668392\n",
       "SingleEpithelialCellSize  classes                     0.656300\n",
       "MarginalAdhesion          UniformityofCellShape       0.649631\n",
       "BareNuclei                BlandChromatin              0.648271\n",
       "UniformityofCellShape     ClumpThickness              0.646226\n",
       "BlandChromatin            MarginalAdhesion            0.642952\n",
       "UniformityofCellSize      BareNuclei                  0.637054\n",
       "ClumpThickness            UniformityofCellSize        0.634178\n",
       "NormalNucleoli            BlandChromatin              0.633998\n",
       "BareNuclei                MarginalAdhesion            0.626874\n",
       "SingleEpithelialCellSize  NormalNucleoli              0.579677\n",
       "                          BlandChromatin              0.576917\n",
       "ClumpThickness            BareNuclei                  0.574053\n",
       "NormalNucleoli            MarginalAdhesion            0.558261\n",
       "MarginalAdhesion          SingleEpithelialCellSize    0.548284\n",
       "BlandChromatin            ClumpThickness              0.541109\n",
       "BareNuclei                NormalNucleoli              0.530779\n",
       "                          SingleEpithelialCellSize    0.524467\n",
       "NormalNucleoli            ClumpThickness              0.516307\n",
       "SingleEpithelialCellSize  ClumpThickness              0.491795\n",
       "                          Mitoses                     0.479045\n",
       "MarginalAdhesion          ClumpThickness              0.444961\n",
       "Mitoses                   UniformityofCellSize        0.444223\n",
       "UniformityofCellShape     Mitoses                     0.426055\n",
       "NormalNucleoli            Mitoses                     0.415196\n",
       "MarginalAdhesion          Mitoses                     0.402216\n",
       "classes                   Mitoses                     0.394706\n",
       "Mitoses                   ClumpThickness              0.348053\n",
       "BlandChromatin            Mitoses                     0.326189\n",
       "Mitoses                   BareNuclei                  0.304523\n",
       "dtype: float64"
      ]
     },
     "metadata": {},
     "output_type": "display_data"
    }
   ],
   "source": [
    "## To remove outliers first we have to find the correlation between attributes\n",
    "\n",
    "#find the variables with high correlations\n",
    "cor1 = cancer.corr().abs()\n",
    "list1 = cor1.stack().sort_values(ascending=False).drop_duplicates()  \n",
    "high_corr= list1[list1>0.70].index.values.tolist()\n",
    "high_corr.remove(high_corr[0])\n",
    "\n",
    "display(list1)"
   ]
  },
  {
   "cell_type": "code",
   "execution_count": 16,
   "metadata": {
    "id": "x7OKFrzE6X3D"
   },
   "outputs": [],
   "source": [
    "# for variable pairs with high correlation, keep only one of them\n",
    "columnlist=list(cancer.columns)\n",
    "len(high_corr)\n",
    "for i in range(len(high_corr)):\n",
    "    if \"classes\" in high_corr[i]:\n",
    "        columnlist=columnlist\n",
    "    else:\n",
    "        if high_corr[i][0] in columnlist and high_corr[i][1] in columnlist:\n",
    "            columnlist.remove(high_corr[i][1])\n",
    "        else:\n",
    "            columnlist=columnlist\n",
    "cancer_final=cancer[columnlist]"
   ]
  },
  {
   "cell_type": "code",
   "execution_count": 17,
   "metadata": {
    "id": "ZJPMB2Tq6pOq"
   },
   "outputs": [],
   "source": [
    "## Doing a test train split on the data \n",
    "import random\n",
    "from sklearn.model_selection import train_test_split\n",
    "training_data, test_data = train_test_split(cancer_final,random_state=None, shuffle=True)\n",
    "train_x=training_data.drop(['classes'], 1) \n",
    "train_y=training_data[['classes']]\n",
    "test_x=test_data.drop(['classes'], 1)\n",
    "test_y=test_data[['classes']]"
   ]
  },
  {
   "cell_type": "markdown",
   "metadata": {
    "id": "P-oNBnzbV4lI"
   },
   "source": [
    "<h3>1.3.2 Observations </h3>\n",
    "\n",
    "\n",
    "<h3>1.3.3 Approach </h3>"
   ]
  },
  {
   "cell_type": "markdown",
   "metadata": {
    "id": "6mQKJvN27Bfu"
   },
   "source": [
    "<h3>1.4 Deleting Outliers and Data Normalizations</h3>"
   ]
  },
  {
   "cell_type": "code",
   "execution_count": 18,
   "metadata": {
    "id": "9Z4bemp56pTY"
   },
   "outputs": [],
   "source": [
    "# Remove outliers\n",
    "cancer_norm = cancer_final[(np.abs(scipy.stats.zscore(cancer_final)) < 3).all(axis=1)]\n",
    "# Zero mean normalisation\n",
    "cancer_norm.iloc[:,1:]=(cancer_norm.iloc[:,1:]-cancer_norm.iloc[:,1:].mean())/cancer_norm.iloc[:,1:].std()"
   ]
  },
  {
   "cell_type": "code",
   "execution_count": 19,
   "metadata": {
    "colab": {
     "base_uri": "https://localhost:8080/",
     "height": 206
    },
    "id": "MQpTYu396pXt",
    "outputId": "823e94a8-b643-4b09-fb02-c208778f5250"
   },
   "outputs": [
    {
     "data": {
      "text/html": [
       "<div>\n",
       "<style scoped>\n",
       "    .dataframe tbody tr th:only-of-type {\n",
       "        vertical-align: middle;\n",
       "    }\n",
       "\n",
       "    .dataframe tbody tr th {\n",
       "        vertical-align: top;\n",
       "    }\n",
       "\n",
       "    .dataframe thead th {\n",
       "        text-align: right;\n",
       "    }\n",
       "</style>\n",
       "<table border=\"1\" class=\"dataframe\">\n",
       "  <thead>\n",
       "    <tr style=\"text-align: right;\">\n",
       "      <th></th>\n",
       "      <th>classes</th>\n",
       "      <th>BareNuclei</th>\n",
       "      <th>UniformityofCellShape</th>\n",
       "      <th>ClumpThickness</th>\n",
       "      <th>NormalNucleoli</th>\n",
       "      <th>MarginalAdhesion</th>\n",
       "      <th>SingleEpithelialCellSize</th>\n",
       "      <th>Mitoses</th>\n",
       "    </tr>\n",
       "  </thead>\n",
       "  <tbody>\n",
       "    <tr>\n",
       "      <th>0</th>\n",
       "      <td>0</td>\n",
       "      <td>-0.089238</td>\n",
       "      <td>1.350078</td>\n",
       "      <td>0.378015</td>\n",
       "      <td>1.102880</td>\n",
       "      <td>-0.751985</td>\n",
       "      <td>-0.235368</td>\n",
       "      <td>-0.404347</td>\n",
       "    </tr>\n",
       "    <tr>\n",
       "      <th>1</th>\n",
       "      <td>1</td>\n",
       "      <td>1.455944</td>\n",
       "      <td>1.990580</td>\n",
       "      <td>1.054464</td>\n",
       "      <td>1.102880</td>\n",
       "      <td>1.546900</td>\n",
       "      <td>1.514169</td>\n",
       "      <td>-0.404347</td>\n",
       "    </tr>\n",
       "    <tr>\n",
       "      <th>2</th>\n",
       "      <td>0</td>\n",
       "      <td>-0.861830</td>\n",
       "      <td>-0.571428</td>\n",
       "      <td>-0.974882</td>\n",
       "      <td>-0.718062</td>\n",
       "      <td>-0.751985</td>\n",
       "      <td>-0.672752</td>\n",
       "      <td>-0.404347</td>\n",
       "    </tr>\n",
       "    <tr>\n",
       "      <th>3</th>\n",
       "      <td>0</td>\n",
       "      <td>-0.861830</td>\n",
       "      <td>-0.891679</td>\n",
       "      <td>-0.974882</td>\n",
       "      <td>-0.718062</td>\n",
       "      <td>-0.751985</td>\n",
       "      <td>-0.672752</td>\n",
       "      <td>3.032604</td>\n",
       "    </tr>\n",
       "    <tr>\n",
       "      <th>4</th>\n",
       "      <td>0</td>\n",
       "      <td>-0.861830</td>\n",
       "      <td>-0.891679</td>\n",
       "      <td>-1.313106</td>\n",
       "      <td>-0.718062</td>\n",
       "      <td>-0.751985</td>\n",
       "      <td>-1.110137</td>\n",
       "      <td>-0.404347</td>\n",
       "    </tr>\n",
       "  </tbody>\n",
       "</table>\n",
       "</div>"
      ],
<<<<<<< HEAD
      "text/plain": [
       "   classes  BareNuclei  UniformityofCellShape  ClumpThickness  NormalNucleoli  \\\n",
       "0        0   -0.089238               1.350078        0.378015        1.102880   \n",
       "1        1    1.455944               1.990580        1.054464        1.102880   \n",
       "2        0   -0.861830              -0.571428       -0.974882       -0.718062   \n",
       "3        0   -0.861830              -0.891679       -0.974882       -0.718062   \n",
       "4        0   -0.861830              -0.891679       -1.313106       -0.718062   \n",
       "\n",
       "   MarginalAdhesion  SingleEpithelialCellSize   Mitoses  \n",
       "0         -0.751985                 -0.235368 -0.404347  \n",
       "1          1.546900                  1.514169 -0.404347  \n",
       "2         -0.751985                 -0.672752 -0.404347  \n",
       "3         -0.751985                 -0.672752  3.032604  \n",
       "4         -0.751985                 -1.110137 -0.404347  "
=======
      "metadata": {
        "colab": {
          "base_uri": "https://localhost:8080/"
        },
        "id": "xlkLRQkM6pee",
        "outputId": "ae91e762-18d9-45ca-a9f4-9ee506ae3b1f"
      },
      "execution_count": 21,
      "outputs": [
        {
          "output_type": "stream",
          "name": "stdout",
          "text": [
            "(344, 7)\n",
            "(344, 1)\n",
            "(115, 7)\n",
            "(115, 1)\n"
          ]
        }
>>>>>>> 1fdae7ab27c8fdc4322ee72fe30f24c5a20d354b
      ]
     },
     "execution_count": 19,
     "metadata": {},
     "output_type": "execute_result"
    }
   ],
   "source": [
    "cancer_norm.head()"
   ]
  },
  {
   "cell_type": "code",
   "execution_count": 20,
   "metadata": {
    "id": "Wkh0puJu6pa3"
   },
   "outputs": [],
   "source": [
    "#split the new dataset\n",
    "training_data_norm, test_data_norm = train_test_split(cancer_norm,random_state=None, shuffle=True)\n",
    "train_x_norm=training_data_norm.drop(['classes'], 1) \n",
    "train_y_norm=training_data_norm[['classes']]\n",
    "test_x_norm=test_data_norm.drop(['classes'], 1)\n",
    "test_y_norm=test_data_norm[['classes']]"
   ]
  },
  {
   "cell_type": "code",
   "execution_count": 21,
   "metadata": {
    "colab": {
     "base_uri": "https://localhost:8080/"
    },
    "id": "xlkLRQkM6pee",
    "outputId": "82135065-365e-44ed-84fe-e4a25cc48739"
   },
   "outputs": [
    {
<<<<<<< HEAD
     "name": "stdout",
     "output_type": "stream",
     "text": [
      "(344, 7)\n",
      "(344, 1)\n",
      "(115, 7)\n",
      "(115, 1)\n"
     ]
    }
   ],
   "source": [
    "x_train = np.array(train_x_norm)\n",
    "print(x_train.shape)\n",
    "y_train = np.array(train_y_norm)\n",
    "print(y_train.shape)\n",
    "x_test = np.array(test_x_norm)\n",
    "print(x_test.shape)\n",
    "y_test = np.array(test_y_norm)\n",
    "print(y_test.shape)"
   ]
  },
  {
   "cell_type": "markdown",
   "metadata": {
    "id": "uoxu8NW0VeWR"
   },
   "source": [
    "<h3>1.4.2 Observations</h3>\n",
    "<!---> Here will add what are the observations of each and every chapter <--->\n",
    "<h3>1.4.3 Approach </h3>\n"
   ]
  },
  {
   "cell_type": "markdown",
   "metadata": {
    "id": "ezxSeKxKWqBF"
   },
   "source": [
    "<h3>1.5 Conclusion </h3>"
   ]
  },
  {
   "cell_type": "markdown",
   "metadata": {
    "id": "SNNGSB4Vb2CE"
   },
   "source": [
    "<h2><center>2. Model Fiting on the clean data</center></h2>\n",
    "\n",
    "We have a cleaned and a normalized data now we just have to fit a model over the data and make predictions.\n",
    "We are going to implement 2 models that are implemented by us \n",
    "\n",
    "<ol>\n",
    "    <li>SGD Classifier with Log Loss</li>\n",
    "    <li>SVM with RBF kernel</li>\n",
    "</ol>\n"
   ]
  },
  {
   "cell_type": "markdown",
   "metadata": {
    "id": "LGeB6fiFYPuS"
   },
   "source": [
    "<h3>2.1 SGD Classifier with Log Loss</h3>"
   ]
  },
  {
   "cell_type": "markdown",
   "metadata": {
    "id": "3NIP2zzzYi2e"
   },
   "source": [
    "<h4>2.1.1 Function Call</h4>"
   ]
  },
  {
   "cell_type": "code",
   "execution_count": 22,
   "metadata": {
    "id": "qq2Z7Etj6yun"
   },
   "outputs": [
=======
      "cell_type": "markdown",
      "source": [
        "<h4>1.4.2 Observations</h4>\n",
        "<!---> Here will add what are the observations of each and every chapter <--->\n",
        "<h4>1.4.3 Approach </h4>\n"
      ],
      "metadata": {
        "id": "uoxu8NW0VeWR"
      }
    },
>>>>>>> 1fdae7ab27c8fdc4322ee72fe30f24c5a20d354b
    {
     "name": "stderr",
     "output_type": "stream",
     "text": [
      " 12%|█▏        | 9/75 [00:00<00:00, 89.17it/s]"
     ]
    },
    {
     "name": "stdout",
     "output_type": "stream",
     "text": [
      "\n",
      "-- Epoch no(iteration no)  1 \n",
      " Train data set : \n",
      "W intercept: [0.0972246  0.08530624 0.07554367 0.0698289  0.07623768 0.07383376\n",
      " 0.04321369], B intercept: [-0.02195136], Train loss: 0.23058084764601675, Test loss: 0.22889049396668087\n",
      "\n",
      "-- Epoch no(iteration no)  2 \n",
      " Train data set : \n",
      "W intercept: [0.16127311 0.16958349 0.16346297 0.13282603 0.10829376 0.14582613\n",
      " 0.05797147], B intercept: [-0.00968502], Train loss: 0.18506620796895412, Test loss: 0.18359552550369035\n",
      "\n",
      "-- Epoch no(iteration no)  3 \n",
      " Train data set : \n",
      "W intercept: [0.23106148 0.22649795 0.19763329 0.17855046 0.15383624 0.20370847\n",
      " 0.08939665], B intercept: [-0.01421422], Train loss: 0.1561128731369699, Test loss: 0.15401302283952734\n",
      "\n",
      "-- Epoch no(iteration no)  4 \n",
      " Train data set : \n",
      "W intercept: [0.27519796 0.28106968 0.24707548 0.22725461 0.18654964 0.25659733\n",
      " 0.11443373], B intercept: [-0.00722061], Train loss: 0.13465635377967167, Test loss: 0.13239870743144602\n",
      "\n",
      "-- Epoch no(iteration no)  5 \n",
      " Train data set : \n",
      "W intercept: [0.32740408 0.30406954 0.29196707 0.25755652 0.21721798 0.28290659\n",
      " 0.13950074], B intercept: [-0.00838081], Train loss: 0.12083618009440822, Test loss: 0.11793226807247281\n",
      "\n",
      "-- Epoch no(iteration no)  6 \n",
      " Train data set : \n",
      "W intercept: [0.36375619 0.33764722 0.32803685 0.28413745 0.23385021 0.31033927\n",
      " 0.14902462], B intercept: [0.01412803], Train loss: 0.11068828480123612, Test loss: 0.10800710576387655\n",
      "\n",
      "-- Epoch no(iteration no)  7 \n",
      " Train data set : \n",
      "W intercept: [0.40912599 0.37296482 0.3603186  0.30716422 0.25164315 0.33736853\n",
      " 0.14099978], B intercept: [0.01532936], Train loss: 0.10164233752738518, Test loss: 0.0989763815036667\n",
      "\n",
      "-- Epoch no(iteration no)  8 \n",
      " Train data set : \n",
      "W intercept: [0.44158667 0.40713985 0.37057754 0.32039568 0.26866884 0.34128595\n",
      " 0.1494943 ], B intercept: [0.02397549], Train loss: 0.09618317675128027, Test loss: 0.09348188783156434\n",
      "\n",
      "-- Epoch no(iteration no)  9 \n",
      " Train data set : \n",
      "W intercept: [0.47991641 0.43762702 0.38456554 0.34963848 0.29013676 0.35524796\n",
      " 0.15519426], B intercept: [0.01855224], Train loss: 0.08989168998834136, Test loss: 0.08700198212300496\n",
      "\n",
      "-- Epoch no(iteration no)  10 \n",
      " Train data set : \n",
      "W intercept: [0.4998919  0.45582384 0.40588535 0.36360628 0.31764999 0.36018383\n",
      " 0.16077634], B intercept: [0.03578295], Train loss: 0.08577636472844032, Test loss: 0.08279678560272347\n",
      "\n",
      "-- Epoch no(iteration no)  11 \n",
      " Train data set : \n",
      "W intercept: [0.52510425 0.4861108  0.43495846 0.38744356 0.3392496  0.370158\n",
      " 0.16683701], B intercept: [0.02690002], Train loss: 0.08078687193480573, Test loss: 0.07753123134396707\n",
      "\n",
      "-- Epoch no(iteration no)  12 \n",
      " Train data set : \n",
      "W intercept: [0.54964408 0.51057152 0.44926669 0.41056973 0.35941569 0.3842333\n",
      " 0.17884408], B intercept: [0.0063884], Train loss: 0.07692054248816614, Test loss: 0.07323954265709665\n",
      "\n",
      "-- Epoch no(iteration no)  13 \n",
      " Train data set : \n",
      "W intercept: [0.57370367 0.52613508 0.47071732 0.42674219 0.37468276 0.39860897\n",
      " 0.18685923], B intercept: [0.00605851], Train loss: 0.07367839421221169, Test loss: 0.06982582473366437\n",
      "\n",
      "-- Epoch no(iteration no)  14 \n",
      " Train data set : \n",
      "W intercept: [0.5841822  0.53650735 0.49415199 0.43209605 0.37994801 0.41253342\n",
      " 0.2014776 ], B intercept: [0.0115162], Train loss: 0.07160883398439387, Test loss: 0.0676633108980789\n"
     ]
    },
    {
     "name": "stderr",
     "output_type": "stream",
     "text": [
      "\r",
      " 25%|██▌       | 19/75 [00:00<00:00, 93.66it/s]"
     ]
    },
    {
     "name": "stdout",
     "output_type": "stream",
     "text": [
      "\n",
      "-- Epoch no(iteration no)  15 \n",
      " Train data set : \n",
      "W intercept: [0.60435051 0.55422536 0.50876562 0.44635711 0.39230634 0.42034107\n",
      " 0.2025638 ], B intercept: [0.01255045], Train loss: 0.06925927578812875, Test loss: 0.06526729160101666\n",
      "\n",
      "-- Epoch no(iteration no)  16 \n",
      " Train data set : \n",
      "W intercept: [0.6200653  0.57110041 0.53050209 0.45866177 0.39369926 0.43709403\n",
      " 0.2013372 ], B intercept: [0.02179589], Train loss: 0.06706606485368387, Test loss: 0.06325789594127879\n",
      "\n",
      "-- Epoch no(iteration no)  17 \n",
      " Train data set : \n",
      "W intercept: [0.64497594 0.58505399 0.53814199 0.47331979 0.40292722 0.45569297\n",
      " 0.2064203 ], B intercept: [0.02591643], Train loss: 0.06489987495525312, Test loss: 0.06109195743098568\n",
      "\n",
      "-- Epoch no(iteration no)  18 \n",
      " Train data set : \n",
      "W intercept: [0.65300962 0.5988804  0.55232584 0.48859077 0.41410985 0.47659626\n",
      " 0.21378741], B intercept: [0.02750594], Train loss: 0.06314002470132096, Test loss: 0.05930441753804758\n",
      "\n",
      "-- Epoch no(iteration no)  19 \n",
      " Train data set : \n",
      "W intercept: [0.67806987 0.60200774 0.56103521 0.49696556 0.42632463 0.48831871\n",
      " 0.21676991], B intercept: [0.02908962], Train loss: 0.06162319875839831, Test loss: 0.057637446131964705\n"
     ]
    },
    {
<<<<<<< HEAD
     "name": "stderr",
     "output_type": "stream",
     "text": [
      "\r",
      " 39%|███▊      | 29/75 [00:00<00:00, 92.52it/s]"
     ]
    },
    {
     "name": "stdout",
     "output_type": "stream",
     "text": [
      "\n",
      "-- Epoch no(iteration no)  20 \n",
      " Train data set : \n",
      "W intercept: [0.69693892 0.61917987 0.57989752 0.50771019 0.42749506 0.49420247\n",
      " 0.22118755], B intercept: [0.05126348], Train loss: 0.05986458670727317, Test loss: 0.05613825279518439\n",
      "\n",
      "-- Epoch no(iteration no)  21 \n",
      " Train data set : \n",
      "W intercept: [0.72024309 0.63517151 0.59447069 0.51022078 0.43137424 0.50559815\n",
      " 0.21988153], B intercept: [0.05504797], Train loss: 0.05835963676131535, Test loss: 0.054635576106398284\n",
      "\n",
      "-- Epoch no(iteration no)  22 \n",
      " Train data set : \n",
      "W intercept: [0.72793785 0.65227358 0.59557272 0.51134134 0.43204011 0.50088327\n",
      " 0.21938581], B intercept: [0.06603228], Train loss: 0.057754231649537406, Test loss: 0.05420613525856412\n",
      "\n",
      "-- Epoch no(iteration no)  23 \n",
      " Train data set : \n",
      "W intercept: [0.74610699 0.65957149 0.60213038 0.51781433 0.45037395 0.49682394\n",
      " 0.222111  ], B intercept: [0.07690675], Train loss: 0.05667509101540983, Test loss: 0.05304188688609343\n",
      "\n",
      "-- Epoch no(iteration no)  24 \n",
      " Train data set : \n",
      "W intercept: [0.75880211 0.67419338 0.6097287  0.52886208 0.46189288 0.50298737\n",
      " 0.22383975], B intercept: [0.07712803], Train loss: 0.055572967240014655, Test loss: 0.05188866450076512\n",
      "\n",
      "-- Epoch no(iteration no)  25 \n",
      " Train data set : \n",
      "W intercept: [0.76968485 0.68725975 0.62452827 0.54147696 0.4703306  0.50790252\n",
      " 0.22761666], B intercept: [0.07090868], Train loss: 0.054527347061850376, Test loss: 0.05072216066452393\n",
      "\n",
      "-- Epoch no(iteration no)  26 \n",
      " Train data set : \n",
      "W intercept: [0.78286556 0.70234658 0.6345005  0.55544071 0.48113142 0.51344882\n",
      " 0.23444809], B intercept: [0.06008806], Train loss: 0.053505708341859776, Test loss: 0.0495031727919335\n",
      "\n",
      "-- Epoch no(iteration no)  27 \n",
      " Train data set : \n",
      "W intercept: [0.79677088 0.7080473  0.64527548 0.56236873 0.4890185  0.51966774\n",
      " 0.23680649], B intercept: [0.05796192], Train loss: 0.052723632361197335, Test loss: 0.04860320200503606\n",
      "\n",
      "-- Epoch no(iteration no)  28 \n",
      " Train data set : \n",
      "W intercept: [0.80245979 0.71068498 0.66013931 0.56348223 0.48747515 0.52548396\n",
      " 0.24470325], B intercept: [0.06768386], Train loss: 0.052168111328880266, Test loss: 0.04809531129630402\n",
      "\n",
      "-- Epoch no(iteration no)  29 \n",
      " Train data set : \n",
      "W intercept: [0.81215213 0.72082496 0.66736597 0.56617873 0.48682954 0.52951332\n",
      " 0.24049068], B intercept: [0.07950588], Train loss: 0.05155950167973547, Test loss: 0.047673920755459856\n",
      "\n",
      "-- Epoch no(iteration no)  30 \n",
      " Train data set : \n",
      "W intercept: [0.8234146  0.73193243 0.67958505 0.57629081 0.49015871 0.5397497\n",
      " 0.2414783 ], B intercept: [0.08217061], Train loss: 0.05072211332857717, Test loss: 0.04687692398307667\n",
      "\n",
      "-- Epoch no(iteration no)  31 \n",
      " Train data set : \n",
      "W intercept: [0.8361     0.7377295  0.68538488 0.58797897 0.49683739 0.55211977\n",
      " 0.246734  ], B intercept: [0.08590582], Train loss: 0.04997222561778613, Test loss: 0.046115579775546055\n",
      "\n",
      "-- Epoch no(iteration no)  32 \n",
      " Train data set : \n",
      "W intercept: [0.84632995 0.73925239 0.68812863 0.59501242 0.50484845 0.56284804\n",
      " 0.25006529], B intercept: [0.08928449], Train loss: 0.049456710956951026, Test loss: 0.04555407715048924\n",
      "\n",
      "-- Epoch no(iteration no)  33 \n",
      " Train data set : \n",
      "W intercept: [0.85763936 0.74202072 0.70203467 0.59872931 0.50276378 0.56817737\n",
      " 0.26072034], B intercept: [0.09749032], Train loss: 0.04886481607140061, Test loss: 0.044977604444500434\n",
      "\n",
      "-- Epoch no(iteration no)  34 \n",
      " Train data set : \n",
      "W intercept: [0.86821354 0.76065863 0.71539637 0.60373241 0.50696736 0.57405689\n",
      " 0.25264185], B intercept: [0.11392323], Train loss: 0.048022089064778076, Test loss: 0.04438240874162666\n",
      "\n",
      "-- Epoch no(iteration no)  35 \n",
      " Train data set : \n",
      "W intercept: [0.89014656 0.77157256 0.72195945 0.60874199 0.50980208 0.57926179\n",
      " 0.2585884 ], B intercept: [0.11719793], Train loss: 0.047271150436811384, Test loss: 0.04359438436062285\n",
      "\n",
      "-- Epoch no(iteration no)  36 \n",
      " Train data set : \n",
      "W intercept: [0.89452457 0.78475954 0.71618914 0.60571325 0.50946455 0.57607486\n",
      " 0.25037989], B intercept: [0.12215314], Train loss: 0.04713701279962226, Test loss: 0.04360697722395804\n",
      "\n",
      "-- Epoch no(iteration no)  37 \n",
      " Train data set : \n",
      "W intercept: [0.90283255 0.78535872 0.71973709 0.6070917  0.52272601 0.57116284\n",
      " 0.25158054], B intercept: [0.13304822], Train loss: 0.046795268330137696, Test loss: 0.043227726230095666\n",
      "\n",
      "-- Epoch no(iteration no)  38 \n",
      " Train data set : \n",
      "W intercept: [0.91130056 0.79694858 0.72939634 0.61717438 0.53065772 0.57327506\n",
      " 0.25208441], B intercept: [0.13402757], Train loss: 0.04623170752037835, Test loss: 0.04265276706812882\n",
      "\n",
      "-- Epoch no(iteration no) "
     ]
=======
      "cell_type": "code",
      "source": [
        "## importing self made SGD classifier as Classifier 1 \n",
        "\n",
        "import Sgd_classifier as classfier_1\n",
        "alpha=0.001\n",
        "eta0=0.01\n",
        "N=len(x_train)\n",
        "epochs=75\n",
        "p = 2\n",
        "w,b,train_loss,test_loss=classfier_1.train(x_train,y_train,x_test,y_test,epochs,alpha,eta0,p)"
      ],
      "metadata": {
        "colab": {
          "base_uri": "https://localhost:8080/"
        },
        "id": "qq2Z7Etj6yun",
        "outputId": "ee3fefda-859e-4bb9-90e5-8a44bf92338b"
      },
      "execution_count": 26,
      "outputs": [
        {
          "output_type": "stream",
          "name": "stderr",
          "text": [
            " 32%|███▏      | 24/75 [00:00<00:00, 228.06it/s]"
          ]
        },
        {
          "output_type": "stream",
          "name": "stdout",
          "text": [
            "\n",
            "-- Epoch no(iteration no)  1 \n",
            " Train data set : \n",
            "W intercept: [0.07599762 0.1029051  0.05192586 0.07325745 0.07598194 0.08146279\n",
            " 0.05862858], B intercept: 0.02904695945906103, Train loss: 0.23487276707126456, Test loss: 0.2356563766544198\n",
            "\n",
            "-- Epoch no(iteration no)  2 \n",
            " Train data set : \n",
            "W intercept: [0.14314385 0.1807683  0.11868802 0.10956889 0.13748309 0.17534624\n",
            " 0.0773144 ], B intercept: 0.03565634090685422, Train loss: 0.1915453600721396, Test loss: 0.19197979967621157\n",
            "\n",
            "-- Epoch no(iteration no)  3 \n",
            " Train data set : \n",
            "W intercept: [0.20637529 0.24591782 0.16670657 0.13746618 0.19961458 0.21462561\n",
            " 0.09091846], B intercept: 0.017973596372832842, Train loss: 0.16457687224733666, Test loss: 0.16439281325948307\n",
            "\n",
            "-- Epoch no(iteration no)  4 \n",
            " Train data set : \n",
            "W intercept: [0.26391568 0.28196458 0.21513808 0.18170977 0.23136286 0.25440897\n",
            " 0.10059894], B intercept: 0.028766266626038546, Train loss: 0.1457990765721, Test loss: 0.1447389294436211\n",
            "\n",
            "-- Epoch no(iteration no)  5 \n",
            " Train data set : \n",
            "W intercept: [0.32730276 0.32507825 0.25747072 0.20333544 0.24795791 0.2898673\n",
            " 0.12192162], B intercept: 0.006638210850835959, Train loss: 0.13111508045680034, Test loss: 0.12910867928405492\n",
            "\n",
            "-- Epoch no(iteration no)  6 \n",
            " Train data set : \n",
            "W intercept: [0.37305756 0.35350748 0.29646402 0.2354248  0.27225065 0.32267864\n",
            " 0.1386116 ], B intercept: -0.004906866015799794, Train loss: 0.12006739813986461, Test loss: 0.11692101056708591\n",
            "\n",
            "-- Epoch no(iteration no)  7 \n",
            " Train data set : \n",
            "W intercept: [0.4203165  0.38154491 0.3321855  0.25560799 0.30290171 0.33960432\n",
            " 0.15026129], B intercept: -0.013300414439419785, Train loss: 0.11139690641819258, Test loss: 0.10755585068532256\n",
            "\n",
            "-- Epoch no(iteration no)  8 \n",
            " Train data set : \n",
            "W intercept: [0.43974212 0.38727759 0.33797818 0.26968722 0.31270217 0.34035252\n",
            " 0.1638695 ], B intercept: -0.021110559883767522, Train loss: 0.10873959891850173, Test loss: 0.10447582332904662\n",
            "\n",
            "-- Epoch no(iteration no)  9 \n",
            " Train data set : \n",
            "W intercept: [0.46206627 0.41116789 0.36148206 0.29761946 0.33357279 0.36077629\n",
            " 0.17535764], B intercept: -0.020779984059991756, Train loss: 0.10324126129720176, Test loss: 0.09826896798481208\n",
            "\n",
            "-- Epoch no(iteration no)  10 \n",
            " Train data set : \n",
            "W intercept: [0.47819628 0.4286892  0.39002668 0.31341921 0.3396101  0.35934338\n",
            " 0.19802308], B intercept: -0.028109967746399924, Train loss: 0.09977364757180905, Test loss: 0.09412529203053478\n",
            "\n",
            "-- Epoch no(iteration no)  11 \n",
            " Train data set : \n",
            "W intercept: [0.51333084 0.44573615 0.41796037 0.32585041 0.36123996 0.36705761\n",
            " 0.21213283], B intercept: -0.007862333146432771, Train loss: 0.09522858089735906, Test loss: 0.08934917002436189\n",
            "\n",
            "-- Epoch no(iteration no)  12 \n",
            " Train data set : \n",
            "W intercept: [0.53711528 0.46403288 0.43828547 0.36047263 0.38246343 0.37759849\n",
            " 0.21836978], B intercept: -0.006121362351201627, Train loss: 0.09128802189747896, Test loss: 0.08481789700399318\n",
            "\n",
            "-- Epoch no(iteration no)  13 \n",
            " Train data set : \n",
            "W intercept: [0.55016436 0.48659132 0.45312952 0.38529136 0.3960378  0.39038474\n",
            " 0.21700628], B intercept: 0.005866038299442408, Train loss: 0.08849786116886456, Test loss: 0.08183361840775255\n",
            "\n",
            "-- Epoch no(iteration no)  14 \n",
            " Train data set : \n",
            "W intercept: [0.57688857 0.51230766 0.47250759 0.40739619 0.39996313 0.40122617\n",
            " 0.21757477], B intercept: 0.012932106500092645, Train loss: 0.08546896278601591, Test loss: 0.0786474805400161\n",
            "\n",
            "-- Epoch no(iteration no)  15 \n",
            " Train data set : \n",
            "W intercept: [0.58721163 0.52692103 0.48492294 0.39749817 0.42007594 0.42048553\n",
            " 0.21684477], B intercept: 0.027872970958596418, Train loss: 0.08385133421969179, Test loss: 0.07711394703497854\n",
            "\n",
            "-- Epoch no(iteration no)  16 \n",
            " Train data set : \n",
            "W intercept: [0.59037894 0.54998271 0.49572839 0.39926536 0.42989706 0.43068722\n",
            " 0.20776535], B intercept: 0.020878532010493854, Train loss: 0.08261116935165307, Test loss: 0.07586994491548212\n",
            "\n",
            "-- Epoch no(iteration no)  17 \n",
            " Train data set : \n",
            "W intercept: [0.61535901 0.56839042 0.51700855 0.40862765 0.44525249 0.44201962\n",
            " 0.21071932], B intercept: 0.02470956990464774, Train loss: 0.08023155077536398, Test loss: 0.07327333774110642\n",
            "\n",
            "-- Epoch no(iteration no)  18 \n",
            " Train data set : \n",
            "W intercept: [0.64355083 0.58332731 0.5309204  0.42248286 0.45572367 0.45827081\n",
            " 0.20731125], B intercept: 0.03528066461022839, Train loss: 0.07812930556635264, Test loss: 0.07109862825302662\n",
            "\n",
            "-- Epoch no(iteration no)  19 \n",
            " Train data set : \n",
            "W intercept: [0.67364466 0.59599836 0.54692498 0.42055716 0.44852252 0.47349959\n",
            " 0.21589255], B intercept: 0.028618114551517363, Train loss: 0.07657548751693143, Test loss: 0.06930142559752528\n",
            "\n",
            "-- Epoch no(iteration no)  20 \n",
            " Train data set : \n",
            "W intercept: [0.69421517 0.60713396 0.56770733 0.43328092 0.45760061 0.48048391\n",
            " 0.22230363], B intercept: 0.021862864023366412, Train loss: 0.07498099382329465, Test loss: 0.0672922757661027\n",
            "\n",
            "-- Epoch no(iteration no)  21 \n",
            " Train data set : \n",
            "W intercept: [0.71235944 0.62067978 0.58059506 0.44537075 0.47072229 0.47487802\n",
            " 0.23003272], B intercept: 0.013177229458696597, Train loss: 0.07375688893186597, Test loss: 0.06578637789382169\n",
            "\n",
            "-- Epoch no(iteration no)  22 \n",
            " Train data set : \n",
            "W intercept: [0.71805682 0.60716052 0.56854478 0.43972623 0.46680448 0.4771841\n",
            " 0.23302403], B intercept: 0.016113843648440086, Train loss: 0.07418323368192427, Test loss: 0.06626603697449465\n",
            "\n",
            "-- Epoch no(iteration no)  23 \n",
            " Train data set : \n",
            "W intercept: [0.72006019 0.61140167 0.59859383 0.44741843 0.45418716 0.47486918\n",
            " 0.2469992 ], B intercept: 0.01856118413635687, Train loss: 0.07341440999078924, Test loss: 0.06510257069694445\n",
            "\n",
            "-- Epoch no(iteration no)  24 \n",
            " Train data set : \n",
            "W intercept: [0.73860932 0.62023901 0.60400733 0.46273777 0.46943625 0.47234923\n",
            " 0.25385589], B intercept: 0.01031392800528658, Train loss: 0.07240215923084739, Test loss: 0.06380077671988096\n",
            "\n",
            "-- Epoch no(iteration no)  25 \n",
            " Train data set : \n",
            "W intercept: [0.7515996  0.63264948 0.61605506 0.46881215 0.47994439 0.47679307\n",
            " 0.26726884], B intercept: 0.018879182626927393, Train loss: 0.07135558350401175, Test loss: 0.06256017907631332\n",
            "\n",
            "-- Epoch no(iteration no)  26 \n",
            " Train data set : \n",
            "W intercept: [0.76662066 0.63903363 0.62888686 0.49167892 0.488644   0.48025189\n",
            " 0.26719035], B intercept: 0.030111918957581384, Train loss: 0.07028177388913402, Test loss: 0.061322567837375275\n",
            "\n",
            "-- Epoch no(iteration no)  27 \n",
            " Train data set : \n",
            "W intercept: [0.77357705 0.65775207 0.64043843 0.50043518 0.49719321 0.48372914\n",
            " 0.26390017], B intercept: 0.04367814606791754, Train loss: 0.06940289285437679, Test loss: 0.06054735706914971\n",
            "\n",
            "-- Epoch no(iteration no)  28 \n",
            " Train data set : \n",
            "W intercept: [0.78455692 0.66833282 0.6453329  0.51289444 0.50839982 0.49588139\n",
            " 0.26094352], B intercept: 0.05594656860549918, Train loss: 0.06860128738389139, Test loss: 0.05974072233420637\n",
            "\n",
            "-- Epoch no(iteration no)  29 \n",
            " Train data set : \n",
            "W intercept: [0.79221391 0.68208473 0.65120729 0.50087605 0.51100001 0.50562245\n",
            " 0.25891228], B intercept: 0.06461520186611437, Train loss: 0.06815164364011861, Test loss: 0.0594784666445872\n",
            "\n",
            "-- Epoch no(iteration no)  30 \n",
            " Train data set : \n",
            "W intercept: [0.78884585 0.69675183 0.6640246  0.49847216 0.51776769 0.50972407\n",
            " 0.24582221], B intercept: 0.06100330033739953, Train loss: 0.06781165374284298, Test loss: 0.05924020800805299\n",
            "\n",
            "-- Epoch no(iteration no)  31 \n",
            " Train data set : \n",
            "W intercept: [0.80149486 0.70699441 0.67418847 0.50503678 0.52682847 0.51912191\n",
            " 0.2472572 ], B intercept: 0.06627655002893722, Train loss: 0.06707105069059469, Test loss: 0.058395156038178755\n",
            "\n",
            "-- Epoch no(iteration no)  32 \n",
            " Train data set : \n",
            "W intercept: [0.82189668 0.71840264 0.68457415 0.51651876 0.5325823  0.52758156\n",
            " 0.24678643], B intercept: 0.06913383738756897, Train loss: 0.06621347037204438, Test loss: 0.05742959025875213\n",
            "\n",
            "-- Epoch no(iteration no)  33 \n",
            " Train data set : \n",
            "W intercept: [0.84198201 0.72560922 0.70060288 0.51301985 0.52398017 0.53770488\n",
            " 0.25424536], B intercept: 0.06197323477252298, Train loss: 0.06558099618020563, Test loss: 0.05654823720226436\n",
            "\n",
            "-- Epoch no(iteration no)  34 \n",
            " Train data set : \n",
            "W intercept: [0.85880603 0.73158256 0.71041143 0.51918614 0.52919538 0.54350009\n",
            " 0.25700259], B intercept: 0.05745489021160482, Train loss: 0.06500889570079822, Test loss: 0.05577352120991668\n",
            "\n",
            "-- Epoch no(iteration no)  35 \n",
            " Train data set : \n",
            "W intercept: [0.87292853 0.74115766 0.7138402  0.52928217 0.53876149 0.53413985\n",
            " 0.26462172], B intercept: 0.0488028733952703, Train loss: 0.06458186297914877, Test loss: 0.05516607176543096\n",
            "\n",
            "-- Epoch no(iteration no)  36 \n",
            " Train data set : \n",
            "W intercept: [0.87723888 0.72446058 0.70096545 0.51445262 0.52020757 0.53772126\n",
            " 0.2643163 ], B intercept: 0.0510395439134674, Train loss: 0.06506358390662646, Test loss: 0.055796616547244646\n",
            "\n",
            "-- Epoch no(iteration no)  37 \n",
            " Train data set : \n",
            "W intercept: [0.86347494 0.72771356 0.72507865 0.52681148 0.5085044  0.52398987\n",
            " 0.27914818], B intercept: 0.04643860417867833, Train loss: 0.06492564571380774, Test loss: 0.05528765360404967\n"
          ]
        },
        {
          "output_type": "stream",
          "name": "stderr",
          "text": [
            "\r 63%|██████▎   | 47/75 [00:00<00:00, 146.76it/s]"
          ]
        },
        {
          "output_type": "stream",
          "name": "stdout",
          "text": [
            "\n",
            "-- Epoch no(iteration no)  38 \n",
            " Train data set : \n",
            "W intercept: [0.88270659 0.73458655 0.73231084 0.53629139 0.52351668 0.52373308\n",
            " 0.28276683], B intercept: 0.04985590149496096, Train loss: 0.06428411268510939, Test loss: 0.05452081903068388\n",
            "\n",
            "-- Epoch no(iteration no)  39 \n",
            " Train data set : \n",
            "W intercept: [0.89030033 0.73626816 0.74239771 0.54209602 0.53149294 0.52097173\n",
            " 0.29277734], B intercept: 0.06417024084948884, Train loss: 0.0638623477606736, Test loss: 0.05400117558827591\n",
            "\n",
            "-- Epoch no(iteration no)  40 \n",
            " Train data set : \n",
            "W intercept: [0.8995309  0.7517644  0.74728529 0.55420417 0.5377013  0.53017372\n",
            " 0.29084917], B intercept: 0.06930825540770158, Train loss: 0.06333174900125821, Test loss: 0.05345455120727377\n",
            "\n",
            "-- Epoch no(iteration no)  41 \n",
            " Train data set : \n",
            "W intercept: [0.90717563 0.75637013 0.7588923  0.56494762 0.53806572 0.53123359\n",
            " 0.2858195 ], B intercept: 0.08557268170597782, Train loss: 0.06289984838067743, Test loss: 0.053110111686499144\n",
            "\n",
            "-- Epoch no(iteration no)  42 \n",
            " Train data set : \n",
            "W intercept: [0.91342428 0.76958361 0.76262675 0.5653757  0.5494013  0.53953554\n",
            " 0.28671173], B intercept: 0.08640382615085358, Train loss: 0.0625494003241078, Test loss: 0.05272802658716862\n",
            "\n",
            "-- Epoch no(iteration no)  43 \n",
            " Train data set : \n",
            "W intercept: [0.91421533 0.77931558 0.771594   0.55618326 0.55111508 0.54883885\n",
            " 0.27993306], B intercept: 0.1053288404986919, Train loss: 0.06228214353102888, Test loss: 0.05271982083839987\n",
            "\n",
            "-- Epoch no(iteration no)  44 \n",
            " Train data set : \n",
            "W intercept: [0.91249609 0.79019168 0.77296616 0.55603582 0.55985299 0.55111531\n",
            " 0.26870885], B intercept: 0.09549504792994659, Train loss: 0.06221059124995598, Test loss: 0.052725942043026046\n",
            "\n",
            "-- Epoch no(iteration no)  45 \n",
            " Train data set : \n",
            "W intercept: [0.92578162 0.79466389 0.78457927 0.56569344 0.56308122 0.55819299\n",
            " 0.26643744], B intercept: 0.10789770808317764, Train loss: 0.06173036283610301, Test loss: 0.05222343106358013\n",
            "\n",
            "-- Epoch no(iteration no)  46 \n",
            " Train data set : \n",
            "W intercept: [0.94048346 0.80681785 0.78957981 0.56931361 0.56996751 0.56451331\n",
            " 0.26913041], B intercept: 0.10485460425420405, Train loss: 0.06132964181720819, Test loss: 0.051719377779086605\n",
            "\n",
            "-- Epoch no(iteration no)  47 \n",
            " Train data set : \n",
            "W intercept: [0.95823119 0.80919229 0.80347615 0.56361311 0.55993322 0.57563004\n",
            " 0.27417447], B intercept: 0.098573919388348, Train loss: 0.06098668601183352, Test loss: 0.05115480629095991\n",
            "\n",
            "-- Epoch no(iteration no)  48 \n",
            " Train data set : \n",
            "W intercept: [0.9707063  0.81429053 0.81120474 0.56987127 0.56592105 0.57650094\n",
            " 0.27751408], B intercept: 0.09515707640975675, Train loss: 0.0606804745334208, Test loss: 0.05068664705377362\n",
            "\n",
            "-- Epoch no(iteration no)  49 \n",
            " Train data set : \n",
            "W intercept: [0.97768395 0.82377565 0.81509795 0.57857771 0.57336398 0.5648535\n",
            " 0.28953766], B intercept: 0.08687168573493635, Train loss: 0.060478156728146444, Test loss: 0.050275259460466314\n",
            "\n",
            "-- Epoch no(iteration no)  50 \n",
            " Train data set : \n",
            "W intercept: [0.97881909 0.80600264 0.80077579 0.56535116 0.55497677 0.56855832\n",
            " 0.2797679 ], B intercept: 0.09298086172266978, Train loss: 0.060850828982982705, Test loss: 0.05092602995370577\n",
            "\n",
            "-- Epoch no(iteration no)  51 \n",
            " Train data set : \n",
            "W intercept: [0.96983971 0.80801986 0.81775682 0.5719009  0.54086308 0.5541003\n",
            " 0.29561458], B intercept: 0.0833605343529662, Train loss: 0.060823360567585874, Test loss: 0.050584138499902856\n",
            "\n",
            "-- Epoch no(iteration no)  52 \n",
            " Train data set : \n",
            "W intercept: [0.98369393 0.81113409 0.82418801 0.58049507 0.55051951 0.55615761\n",
            " 0.29924925], B intercept: 0.08572390203521509, Train loss: 0.060486001787727714, Test loss: 0.05010036507653961\n",
            "\n",
            "-- Epoch no(iteration no)  53 \n",
            " Train data set : \n",
            "W intercept: [0.99196645 0.81304255 0.83030518 0.5872367  0.55918737 0.55058981\n",
            " 0.30823593], B intercept: 0.09953490960826528, Train loss: 0.06020874446397229, Test loss: 0.04976982471283764\n",
            "\n",
            "-- Epoch no(iteration no)  54 \n",
            " Train data set : \n",
            "W intercept: [0.99346753 0.82397646 0.83752402 0.60338487 0.56481084 0.55419122\n",
            " 0.30470524], B intercept: 0.10933214812060227, Train loss: 0.05990589461974887, Test loss: 0.04949177709796777\n",
            "\n",
            "-- Epoch no(iteration no)  55 \n",
            " Train data set : \n",
            "W intercept: [1.00433722 0.83023118 0.8450803  0.60497404 0.56061687 0.55936757\n",
            " 0.30190635], B intercept: 0.11816908099807738, Train loss: 0.059629204553860476, Test loss: 0.04928228930889094\n",
            "\n",
            "-- Epoch no(iteration no)  56 \n",
            " Train data set : \n",
            "W intercept: [1.00625268 0.84011241 0.85031689 0.59822107 0.57104045 0.56141567\n",
            " 0.29935936], B intercept: 0.1265175268680767, Train loss: 0.05945751743988432, Test loss: 0.04923801531536434\n",
            "\n",
            "-- Epoch no(iteration no)  57 \n",
            " Train data set : \n",
            "W intercept: [1.00592404 0.84798274 0.85503422 0.5954489  0.57422621 0.57746303\n",
            " 0.29540232], B intercept: 0.13786402067880874, Train loss: 0.059285430574281955, Test loss: 0.04915248408568338\n",
            "\n",
            "-- Epoch no(iteration no)  58 \n",
            " Train data set : \n",
            "W intercept: [1.0030371  0.85916448 0.85554327 0.59353135 0.58191433 0.57644417\n",
            " 0.28364155], B intercept: 0.1283702833281568, Train loss: 0.05927864311383559, Test loss: 0.04927541796887272\n",
            "\n",
            "-- Epoch no(iteration no)  59 \n",
            " Train data set : \n",
            "W intercept: [1.01612917 0.86437595 0.86466442 0.60116685 0.58390456 0.58169178\n",
            " 0.28099164], B intercept: 0.14054547029858183, Train loss: 0.05894898357944917, Test loss: 0.04897188375892492\n",
            "\n",
            "-- Epoch no(iteration no)  60 \n",
            " Train data set : \n",
            "W intercept: [1.03180683 0.86865024 0.87482316 0.59519794 0.575867   0.58868911\n",
            " 0.28638414], B intercept: 0.1308634469176259, Train loss: 0.05873072527144127, Test loss: 0.048548380565831564\n"
          ]
        },
        {
          "output_type": "stream",
          "name": "stderr",
          "text": [
            "100%|██████████| 75/75 [00:00<00:00, 140.29it/s]"
          ]
        },
        {
          "output_type": "stream",
          "name": "stdout",
          "text": [
            "\n",
            "-- Epoch no(iteration no)  61 \n",
            " Train data set : \n",
            "W intercept: [1.04289371 0.87236043 0.8827238  0.60027941 0.57959843 0.59583148\n",
            " 0.2892912 ], B intercept: 0.1294784136766575, Train loss: 0.05850311735036295, Test loss: 0.04815279106480352\n",
            "\n",
            "-- Epoch no(iteration no)  62 \n",
            " Train data set : \n",
            "W intercept: [1.05162846 0.87698254 0.88782229 0.60461547 0.5849007  0.59843867\n",
            " 0.29181459], B intercept: 0.1269601765655732, Train loss: 0.05833628432878804, Test loss: 0.04786518496113784\n",
            "\n",
            "-- Epoch no(iteration no)  63 \n",
            " Train data set : \n",
            "W intercept: [1.05291284 0.86701934 0.87253422 0.60239908 0.58320136 0.58322626\n",
            " 0.29451847], B intercept: 0.1175108270758476, Train loss: 0.0585939877843052, Test loss: 0.04814403073940464\n",
            "\n",
            "-- Epoch no(iteration no)  64 \n",
            " Train data set : \n",
            "W intercept: [1.05911436 0.86583969 0.87704734 0.59906138 0.57295489 0.58796655\n",
            " 0.29273588], B intercept: 0.12623577042685444, Train loss: 0.05849258687254415, Test loss: 0.04811345299282381\n",
            "\n",
            "-- Epoch no(iteration no)  65 \n",
            " Train data set : \n",
            "W intercept: [1.04861192 0.86859594 0.88974501 0.60547513 0.55745747 0.57380402\n",
            " 0.30806903], B intercept: 0.11379087233616052, Train loss: 0.05851721694216735, Test loss: 0.04785671425924798\n",
            "\n",
            "-- Epoch no(iteration no)  66 \n",
            " Train data set : \n",
            "W intercept: [1.05881284 0.86861331 0.89518474 0.61003875 0.56605316 0.57151568\n",
            " 0.3194093 ], B intercept: 0.1249754095703299, Train loss: 0.05830170939331413, Test loss: 0.047518625886989165\n",
            "\n",
            "-- Epoch no(iteration no)  67 \n",
            " Train data set : \n",
            "W intercept: [1.06548558 0.87228825 0.90385123 0.61999913 0.57244716 0.57024022\n",
            " 0.31952467], B intercept: 0.13046142504806818, Train loss: 0.058092520618875106, Test loss: 0.04725251450082876\n",
            "\n",
            "-- Epoch no(iteration no)  68 \n",
            " Train data set : \n",
            "W intercept: [1.06591701 0.88079991 0.90786933 0.62998254 0.57410497 0.57349277\n",
            " 0.31435097], B intercept: 0.14395588563677164, Train loss: 0.05791814258763451, Test loss: 0.04721503739853767\n",
            "\n",
            "-- Epoch no(iteration no)  69 \n",
            " Train data set : \n",
            "W intercept: [1.0736257  0.88764869 0.91486101 0.63803904 0.57300788 0.57752754\n",
            " 0.31245386], B intercept: 0.15098209325723047, Train loss: 0.057706143333102075, Test loss: 0.04701478517743946\n",
            "\n",
            "-- Epoch no(iteration no)  70 \n",
            " Train data set : \n",
            "W intercept: [1.07118749 0.8919245  0.91460192 0.62437853 0.5861906  0.59179788\n",
            " 0.30828652], B intercept: 0.1622359466488253, Train loss: 0.057668057187580335, Test loss: 0.04711631045276012\n",
            "\n",
            "-- Epoch no(iteration no)  71 \n",
            " Train data set : \n",
            "W intercept: [1.07573774 0.90124624 0.92228518 0.62277791 0.58589195 0.59517573\n",
            " 0.30691276], B intercept: 0.16696407915903752, Train loss: 0.05750354903421343, Test loss: 0.04699788620349222\n",
            "\n",
            "-- Epoch no(iteration no)  72 \n",
            " Train data set : \n",
            "W intercept: [1.07108484 0.91068566 0.92594257 0.62103658 0.59285006 0.5931209\n",
            " 0.29558796], B intercept: 0.16020586251165236, Train loss: 0.05749675236575084, Test loss: 0.04711564336296537\n",
            "\n",
            "-- Epoch no(iteration no)  73 \n",
            " Train data set : \n",
            "W intercept: [1.0840802  0.91671168 0.93150312 0.62798153 0.59614457 0.60061526\n",
            " 0.29222471], B intercept: 0.16870363316157552, Train loss: 0.05726665376891511, Test loss: 0.046903130773389826\n",
            "\n",
            "-- Epoch no(iteration no)  74 \n",
            " Train data set : \n",
            "W intercept: [1.09745896 0.91929097 0.93930213 0.62136714 0.58562757 0.60435987\n",
            " 0.29729684], B intercept: 0.16021904124978667, Train loss: 0.05713779364229679, Test loss: 0.04661200816309858\n",
            "\n",
            "-- Epoch no(iteration no)  75 \n",
            " Train data set : \n",
            "W intercept: [1.1080588  0.92269545 0.9475469  0.62558594 0.58866757 0.60989711\n",
            " 0.29957944], B intercept: 0.15856727714743896, Train loss: 0.05696966229802216, Test loss: 0.046293241745681314\n"
          ]
        },
        {
          "output_type": "stream",
          "name": "stderr",
          "text": [
            "\n"
          ]
        }
      ]
    },
    {
      "cell_type": "markdown",
      "source": [
        "<h>2.1.2 Coding Approach</h4>\n",
        "\n",
        "<!----> Will be going over the coding how it is done and stuff"
      ],
      "metadata": {
        "id": "PNjgLcYRYcIm"
      }
>>>>>>> 1fdae7ab27c8fdc4322ee72fe30f24c5a20d354b
    },
    {
     "name": "stderr",
     "output_type": "stream",
     "text": [
      " 65%|██████▌   | 49/75 [00:00<00:00, 90.45it/s]"
     ]
    },
    {
     "name": "stdout",
     "output_type": "stream",
     "text": [
      " 39 \n",
      " Train data set : \n",
      "W intercept: [0.92068446 0.80512174 0.73353136 0.62533287 0.53766268 0.57946256\n",
      " 0.25575337], B intercept: [0.12652354], Train loss: 0.045826626116648096, Test loss: 0.04211409253457016\n",
      "\n",
      "-- Epoch no(iteration no)  40 \n",
      " Train data set : \n",
      "W intercept: [0.92989729 0.81493513 0.74223637 0.63388972 0.54680052 0.58217822\n",
      " 0.26079478], B intercept: [0.11859228], Train loss: 0.04537974560482068, Test loss: 0.04149986504405119\n",
      "\n",
      "-- Epoch no(iteration no)  41 \n",
      " Train data set : \n",
      "W intercept: [0.93574608 0.81746038 0.75312269 0.63806856 0.54709035 0.58645629\n",
      " 0.26830366], B intercept: [0.12172337], Train loss: 0.045041831417141534, Test loss: 0.041143618748195394\n",
      "\n",
      "-- Epoch no(iteration no)  42 \n",
      " Train data set : \n",
      "W intercept: [0.94023779 0.81727409 0.76198403 0.6392456  0.54623736 0.58409171\n",
      " 0.26585634], B intercept: [0.13255985], Train loss: 0.0448142861229828, Test loss: 0.041035400908646956\n",
      "\n",
      "-- Epoch no(iteration no)  43 \n",
      " Train data set : \n",
      "W intercept: [0.94923205 0.82622448 0.76860707 0.63966555 0.54373137 0.59027319\n",
      " 0.26340766], B intercept: [0.13937979], Train loss: 0.04444068997344779, Test loss: 0.04077933644972544\n",
      "\n",
      "-- Epoch no(iteration no)  44 \n",
      " Train data set : \n",
      "W intercept: [0.95859235 0.8334479  0.77447747 0.64766555 0.54822712 0.59796297\n",
      " 0.26340844], B intercept: [0.14304024], Train loss: 0.04401161294612103, Test loss: 0.04038232069995405\n",
      "\n",
      "-- Epoch no(iteration no)  45 \n",
      " Train data set : \n",
      "W intercept: [0.96584588 0.83809692 0.78090158 0.65671299 0.55082553 0.60730914\n",
      " 0.26848902], B intercept: [0.14487821], Train loss: 0.043642610138999983, Test loss: 0.040012396031932684\n",
      "\n",
      "-- Epoch no(iteration no)  46 \n",
      " Train data set : \n",
      "W intercept: [0.97516755 0.83759058 0.78154456 0.66193567 0.55798091 0.61675741\n",
      " 0.2697747 ], B intercept: [0.14640555], Train loss: 0.04337588525268394, Test loss: 0.03968364799596336\n",
      "\n",
      "-- Epoch no(iteration no)  47 \n",
      " Train data set : \n",
      "W intercept: [0.98502598 0.83838842 0.79217955 0.66732725 0.55149649 0.62023415\n",
      " 0.27840192], B intercept: [0.16138302], Train loss: 0.042981982126232304, Test loss: 0.039448133137872925\n",
      "\n",
      "-- Epoch no(iteration no)  48 \n",
      " Train data set : \n",
      "W intercept: [0.99345177 0.85336218 0.80258852 0.66521197 0.55483634 0.6263649\n",
      " 0.2718042 ], B intercept: [0.17478028], Train loss: 0.042504024404981945, Test loss: 0.03913714244328091\n",
      "\n",
      "-- Epoch no(iteration no)  49 \n",
      " Train data set : \n",
      "W intercept: [1.01108512 0.86260397 0.80776745 0.67122168 0.55863523 0.62688495\n",
      " 0.27751651], B intercept: [0.17801925], Train loss: 0.04204713067141083, Test loss: 0.03864886099897242\n",
      "\n",
      "-- Epoch no(iteration no)  50 \n",
      " Train data set : \n",
      "W intercept: [1.01198912 0.87418895 0.79930423 0.6671075  0.55868987 0.624575\n",
      " 0.26997843], B intercept: [0.17690809], Train loss: 0.042059703440346194, Test loss: 0.03873129162692282\n",
      "\n",
      "-- Epoch no(iteration no)  51 \n",
      " Train data set : \n",
      "W intercept: [1.01839577 0.87364254 0.80318158 0.66709456 0.56921974 0.61594015\n",
      " 0.26863062], B intercept: [0.19224291], Train loss: 0.04183436747977154, Test loss: 0.03855425526837852\n",
      "\n",
      "-- Epoch no(iteration no)  52 \n",
      " Train data set : \n",
      "W intercept: [1.02469903 0.88126708 0.80949842 0.67402984 0.5753709  0.61852587\n",
      " 0.2708153 ], B intercept: [0.18837902], Train loss: 0.0415695614037144, Test loss: 0.03821171483581819\n",
      "\n",
      "-- Epoch no(iteration no)  53 \n",
      " Train data set : \n",
      "W intercept: [1.03170947 0.88846658 0.81413183 0.68033575 0.5810661  0.61968517\n",
      " 0.27369157], B intercept: [0.18225086], Train loss: 0.041351273582107884, Test loss: 0.03788598106767068\n",
      "\n",
      "-- Epoch no(iteration no)  54 \n",
      " Train data set : \n",
      "W intercept: [1.03823409 0.89511986 0.81915162 0.68640936 0.58764372 0.6253132\n",
      " 0.2776734 ], B intercept: [0.17723857], Train loss: 0.041117106481113636, Test loss: 0.03754062472254618\n",
      "\n",
      "-- Epoch no(iteration no)  55 \n",
      " Train data set : \n",
      "W intercept: [1.04204419 0.89691537 0.82913212 0.68975797 0.58749015 0.62857498\n",
      " 0.28496675], B intercept: [0.18031663], Train loss: 0.040908221344046966, Test loss: 0.03732181853613746\n",
      "\n",
      "-- Epoch no(iteration no)  56 \n",
      " Train data set : \n",
      "W intercept: [1.04503606 0.89570549 0.8363562  0.68957595 0.58501146 0.62564344\n",
      " 0.28085852], B intercept: [0.19122178], Train loss: 0.040773158647378384, Test loss: 0.03732821696355823\n"
     ]
    },
    {
     "name": "stderr",
     "output_type": "stream",
     "text": [
      " 92%|█████████▏| 69/75 [00:00<00:00, 92.04it/s]"
     ]
    },
    {
     "name": "stdout",
     "output_type": "stream",
     "text": [
      "\n",
      "-- Epoch no(iteration no)  57 \n",
      " Train data set : \n",
      "W intercept: [1.05190306 0.9028484  0.84397421 0.6890093  0.58197108 0.63022098\n",
      " 0.27778055], B intercept: [0.19939981], Train loss: 0.04051325884158474, Test loss: 0.037199958997898235\n",
      "\n",
      "-- Epoch no(iteration no)  58 \n",
      " Train data set : \n",
      "W intercept: [1.06073965 0.90819788 0.84630861 0.69917089 0.58377626 0.64104646\n",
      " 0.28021506], B intercept: [0.20447698], Train loss: 0.04020532600550463, Test loss: 0.036958099393798016\n",
      "\n",
      "-- Epoch no(iteration no)  59 \n",
      " Train data set : \n",
      "W intercept: [1.06536815 0.91260331 0.85109374 0.70440774 0.58715578 0.64520854\n",
      " 0.28305501], B intercept: [0.20320816], Train loss: 0.04003070419006765, Test loss: 0.036743398862966944\n",
      "\n",
      "-- Epoch no(iteration no)  60 \n",
      " Train data set : \n",
      "W intercept: [1.07414845 0.91060989 0.85104558 0.70832585 0.59363448 0.65293115\n",
      " 0.28333963], B intercept: [0.20347224], Train loss: 0.039876203492544296, Test loss: 0.03651200332981189\n",
      "\n",
      "-- Epoch no(iteration no)  61 \n",
      " Train data set : \n",
      "W intercept: [1.07879095 0.91704963 0.85793495 0.71005483 0.58974157 0.65722657\n",
      " 0.29095513], B intercept: [0.22242643], Train loss: 0.03956643348803837, Test loss: 0.03641495032553444\n",
      "\n",
      "-- Epoch no(iteration no)  62 \n",
      " Train data set : \n",
      "W intercept: [1.08899578 0.92469485 0.86905841 0.71061503 0.58974116 0.66097375\n",
      " 0.28642471], B intercept: [0.22912922], Train loss: 0.03926003842475992, Test loss: 0.03619428797211082\n",
      "\n",
      "-- Epoch no(iteration no)  63 \n",
      " Train data set : \n",
      "W intercept: [1.09782276 0.93353939 0.85584136 0.70433443 0.58942628 0.65418851\n",
      " 0.28340818], B intercept: [0.23066265], Train loss: 0.03924275712629668, Test loss: 0.036209374256019215\n",
      "\n",
      "-- Epoch no(iteration no)  64 \n",
      " Train data set : \n",
      "W intercept: [1.10421117 0.94262647 0.86324665 0.71008563 0.59173579 0.65773705\n",
      " 0.28293085], B intercept: [0.23226284], Train loss: 0.038996097251203385, Test loss: 0.03599622312751178\n",
      "\n",
      "-- Epoch no(iteration no)  65 \n",
      " Train data set : \n",
      "W intercept: [1.10852121 0.94027698 0.86577403 0.70863263 0.60135524 0.64840727\n",
      " 0.28154854], B intercept: [0.24688216], Train loss: 0.03885914260812707, Test loss: 0.035903117493319675\n",
      "\n",
      "-- Epoch no(iteration no)  66 \n",
      " Train data set : \n",
      "W intercept: [1.11414644 0.94697183 0.87210179 0.71500091 0.60748859 0.65064242\n",
      " 0.28367569], B intercept: [0.24232151], Train loss: 0.03867857959195108, Test loss: 0.035634438254809414\n",
      "\n",
      "-- Epoch no(iteration no)  67 \n",
      " Train data set : \n",
      "W intercept: [1.12073064 0.9532696  0.87503014 0.72092369 0.61239233 0.65174661\n",
      " 0.2865298 ], B intercept: [0.23587731], Train loss: 0.03854344771575057, Test loss: 0.03539559839806609\n",
      "\n",
      "-- Epoch no(iteration no)  68 \n",
      " Train data set : \n",
      "W intercept: [1.12774476 0.95651533 0.88208547 0.72502013 0.61587903 0.65477726\n",
      " 0.28839721], B intercept: [0.2351471], Train loss: 0.038369489475264015, Test loss: 0.03517127246679324\n",
      "\n",
      "-- Epoch no(iteration no)  69 \n",
      " Train data set : \n",
      "W intercept: [1.12684018 0.95451219 0.89080653 0.72161134 0.61008483 0.65667035\n",
      " 0.29273651], B intercept: [0.24432933], Train loss: 0.03829031017311093, Test loss: 0.03518985872642697\n",
      "\n",
      "-- Epoch no(iteration no)  70 \n",
      " Train data set : \n",
      "W intercept: [1.13043332 0.95814656 0.89398107 0.72599709 0.61256881 0.65513021\n",
      " 0.29108594], B intercept: [0.24877821], Train loss: 0.0381592231097337, Test loss: 0.03511405271380051\n",
      "\n",
      "-- Epoch no(iteration no)  71 \n",
      " Train data set : \n",
      "W intercept: [1.135523   0.96331842 0.90207536 0.72982403 0.60865973 0.66121351\n",
      " 0.28811652], B intercept: [0.25803117], Train loss: 0.03793998691470342, Test loss: 0.035062634530319096\n"
     ]
    },
    {
     "name": "stderr",
     "output_type": "stream",
     "text": [
      "\r",
      "100%|██████████| 75/75 [00:00<00:00, 91.91it/s]"
     ]
    },
    {
     "name": "stdout",
     "output_type": "stream",
     "text": [
      "\n",
      "-- Epoch no(iteration no)  72 \n",
      " Train data set : \n",
      "W intercept: [1.14369507 0.96786888 0.90338903 0.73574324 0.61094886 0.66895461\n",
      " 0.29072212], B intercept: [0.2599848], Train loss: 0.03775358292519701, Test loss: 0.03487968857638966\n",
      "\n",
      "-- Epoch no(iteration no)  73 \n",
      " Train data set : \n",
      "W intercept: [1.14472154 0.9718272  0.9074629  0.73948383 0.61512512 0.67779717\n",
      " 0.29211715], B intercept: [0.26096386], Train loss: 0.03763257844470498, Test loss: 0.03474754184728843\n",
      "\n",
      "-- Epoch no(iteration no)  74 \n",
      " Train data set : \n",
      "W intercept: [1.15710841 0.96840257 0.9033576  0.74456643 0.61992319 0.68243488\n",
      " 0.29184097], B intercept: [0.26098857], Train loss: 0.03752161112426247, Test loss: 0.03456664743628254\n",
      "\n",
      "-- Epoch no(iteration no)  75 \n",
      " Train data set : \n",
      "W intercept: [1.16243419 0.97591455 0.91140767 0.74601971 0.61710047 0.68289204\n",
      " 0.29864226], B intercept: [0.27796181], Train loss: 0.03725388888332643, Test loss: 0.03448410073898851\n"
     ]
    },
    {
<<<<<<< HEAD
     "name": "stderr",
     "output_type": "stream",
     "text": [
      "\n"
     ]
    }
   ],
   "source": [
    "import Sgd_classifier as classfier_1\n",
    "alpha=0.0001\n",
    "eta0=0.01\n",
    "N=len(x_train)\n",
    "epochs=75\n",
    "p = 2\n",
    "w,b,train_loss,test_loss=classfier_1.train(x_train,y_train,x_test,y_test,epochs,alpha,eta0,p)\n"
   ]
  },
  {
   "cell_type": "markdown",
   "metadata": {
    "id": "PNjgLcYRYcIm"
   },
   "source": [
    "<h4>2.1.2 Coding Approach</h4>\n",
    "\n",
    "<!----> Will be going over the coding how it is done and stuff"
   ]
  },
  {
   "cell_type": "markdown",
   "metadata": {
    "id": "ndwbS6ZqaLr3"
   },
   "source": [
    "<h3>2.2 SVM with RBF kernel </h3>"
   ]
  },
  {
   "cell_type": "markdown",
   "metadata": {
    "id": "H-Qtsx6LaTN7"
   },
   "source": [
    "<h4>2.2.1 Function Call</h4>"
   ]
  },
  {
   "cell_type": "markdown",
   "metadata": {
    "id": "FUu-87k2aXIR"
   },
   "source": [
    "<h4>2.2.2 Coding Approach</h4>\n",
    "\n",
    "<!----> Will be going over the coding how it is done and stuff"
   ]
  },
  {
   "cell_type": "markdown",
   "metadata": {
    "id": "swzuVJ19S1Jr"
   },
   "source": [
    "<h2><center>3. Model Accuracy</center></h2>\n",
    "<em>\n",
    "Here we are going to talk about the model accuracies by using test and train loss graphs, in addition to Confussion Matrix and some ROC curves\n",
    "</em>"
   ]
  },
  {
   "cell_type": "markdown",
   "metadata": {
    "id": "qPy611dMa8Bu"
   },
   "source": [
    "<h3>3.1 Model 1 SGD Classifier with Log Loss</h3>\n"
   ]
  },
  {
   "cell_type": "markdown",
   "metadata": {
    "id": "rI7qXtftah1a"
   },
   "source": [
    "<h4>3.1.1 Prediction accuracies</h4>"
   ]
  },
  {
   "cell_type": "code",
   "execution_count": 23,
   "metadata": {
    "colab": {
     "base_uri": "https://localhost:8080/"
=======
      "cell_type": "code",
      "source": [
        "y_train_pred = classfier_1.pred(w,b,x_train)\n",
        "y_test_pred = classfier_1.pred(w,b,x_test)\n",
        "\n",
        "y_train=y_train.reshape(y_train_pred.shape)\n",
        "print('Train_Accuracy',1-np.sum(y_train - y_train_pred)/len(x_train))\n",
        "y_test=y_test.reshape(y_test_pred.shape)\n",
        "print('Test_Accuracy',1-np.sum(y_test  - y_test_pred)/len(x_test))"
      ],
      "metadata": {
        "colab": {
          "base_uri": "https://localhost:8080/"
        },
        "id": "057fGPgc6x3_",
        "outputId": "db52412a-5980-4e87-a5d6-07f0a41f1f66"
      },
      "execution_count": 27,
      "outputs": [
        {
          "output_type": "stream",
          "name": "stdout",
          "text": [
            "Train_Accuracy 0.9912790697674418\n",
            "Test_Accuracy 1.0\n"
          ]
        }
      ]
>>>>>>> 1fdae7ab27c8fdc4322ee72fe30f24c5a20d354b
    },
    "id": "057fGPgc6x3_",
    "outputId": "6278f8ac-f169-40eb-fe47-42622514f8ec"
   },
   "outputs": [
    {
     "name": "stdout",
     "output_type": "stream",
     "text": [
      "Train_Accuracy 0.9854651162790697\n",
      "Test_Accuracy 1.017391304347826\n"
     ]
    }
   ],
   "source": [
    "y_train_pred = classfier_1.pred(w,b,x_train)\n",
    "y_test_pred = classfier_1.pred(w,b,x_test)\n",
    "\n",
    "y_train=y_train.reshape(y_train_pred.shape)\n",
    "print('Train_Accuracy',1-np.sum(y_train - y_train_pred)/len(x_train))\n",
    "y_test=y_test.reshape(y_test_pred.shape)\n",
    "print('Test_Accuracy',1-np.sum(y_test  - y_test_pred)/len(x_test))"
   ]
  },
  {
   "cell_type": "markdown",
   "metadata": {
    "id": "7pAXgaM_bjzs"
   },
   "source": [
    "<h4>3.1.2 Test and Train Loss over Epochs</h4>\n",
    "We will plot graph against the number of epochs with respect to the test and train loss. This will give us insight whehter our code is performing gradient descent in a correct manner."
   ]
  },
  {
   "cell_type": "code",
   "execution_count": 24,
   "metadata": {
    "colab": {
     "base_uri": "https://localhost:8080/",
     "height": 391
    },
    "id": "1gK7yssz073T",
    "outputId": "1169a448-0cf7-4dde-af79-aba1d5d278b7"
   },
   "outputs": [
    {
<<<<<<< HEAD
     "name": "stdout",
     "output_type": "stream",
     "text": [
      "========================================================================================================================================================================================================\n"
     ]
=======
      "cell_type": "code",
      "source": [
        "epochs = np.arange(1, epochs+1, 1)\n",
        "plt.figure(figsize=(10, 5))\n",
        "plt.plot(epochs, train_loss, label='Train Loss')\n",
        "plt.plot(epochs, test_loss, label='Test Loss')\n",
        "plt.title('Epoch vs Train,Test Loss')\n",
        "plt.xlabel(\"Epoch_no\")\n",
        "plt.ylabel('Loss')\n",
        "plt.legend()\n",
        "print(125*'=')\n"
      ],
      "metadata": {
        "colab": {
          "base_uri": "https://localhost:8080/",
          "height": 371
        },
        "id": "1gK7yssz073T",
        "outputId": "f39d3e04-bf8b-4471-afd3-856a41baf5c8"
      },
      "execution_count": 28,
      "outputs": [
        {
          "output_type": "stream",
          "name": "stdout",
          "text": [
            "=============================================================================================================================\n"
          ]
        },
        {
          "output_type": "display_data",
          "data": {
            "image/png": "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\n",
            "text/plain": [
              "<Figure size 720x360 with 1 Axes>"
            ]
          },
          "metadata": {}
        }
      ]
>>>>>>> 1fdae7ab27c8fdc4322ee72fe30f24c5a20d354b
    },
    {
     "data": {
      "image/png": "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\n",
      "text/plain": [
       "<Figure size 720x360 with 1 Axes>"
      ]
     },
     "metadata": {},
     "output_type": "display_data"
    }
   ],
   "source": [
    "epochs = np.arange(1, epochs+1, 1)\n",
    "plt.figure(figsize=(10, 5))\n",
    "plt.plot(epochs, train_loss, label='Train Loss')\n",
    "plt.plot(epochs, test_loss, label='Test Loss')\n",
    "plt.title('Epoch vs Train,Test Loss')\n",
    "plt.xlabel(\"Epoch_no\")\n",
    "plt.ylabel('Loss')\n",
    "plt.legend()\n",
    "print(100*'==')\n"
   ]
  },
  {
   "cell_type": "markdown",
   "metadata": {
    "id": "qcN8YgFwb0gH"
   },
   "source": [
    "<h4>3.1.3 Confusion Matrix </h4>\n",
    "Here well will print the confusion matrix for the Model with its Precision and Recall values"
   ]
  },
  {
   "cell_type": "code",
   "execution_count": 25,
   "metadata": {
    "colab": {
     "base_uri": "https://localhost:8080/"
    },
    "id": "dwjOiXQsTjjO",
    "outputId": "86891ef1-a794-41e0-d6cf-a6b196890147"
   },
   "outputs": [
    {
<<<<<<< HEAD
     "data": {
      "text/plain": [
       "array([[173,   2],\n",
       "       [  7, 162]])"
      ]
     },
     "execution_count": 25,
     "metadata": {},
     "output_type": "execute_result"
=======
      "cell_type": "code",
      "source": [
        "#from sklearn.metrics import confusion_matrix\n",
        "import confusion_matrix as cm\n",
        "cm,fpr,recall = cm.confusion_matrix(y_test, y_test_pred)\n",
        "print(cm)\n",
        "print(fpr)\n",
        "print(recall)"
      ],
      "metadata": {
        "colab": {
          "base_uri": "https://localhost:8080/"
        },
        "id": "dwjOiXQsTjjO",
        "outputId": "f0300252-74e0-4830-da56-06505d536c85"
      },
      "execution_count": 25,
      "outputs": [
        {
          "output_type": "stream",
          "name": "stdout",
          "text": [
            "[[62  2]\n",
            " [ 2 49]]\n",
            "0.03125\n",
            "0.9607843137254902\n",
            "0.9607843137254902\n"
          ]
        }
      ]
    },
    {
      "cell_type": "markdown",
      "source": [
        "<h2><center>Conclusions</center></h2>\n"
      ],
      "metadata": {
        "id": "XW2Czt08hhqg"
      }
    },
    {
      "cell_type": "markdown",
      "source": [
        "<h2><center>References</center></h2>\n"
      ],
      "metadata": {
        "id": "_tB9iqYfg-NA"
      }
>>>>>>> 1fdae7ab27c8fdc4322ee72fe30f24c5a20d354b
    }
   ],
   "source": [
    "from sklearn.metrics import confusion_matrix\n",
    "confusion_matrix(y_train, y_train_pred)"
   ]
  }
 ],
 "metadata": {
  "colab": {
   "authorship_tag": "ABX9TyO1iYE82wR3j5a32b3bELA2",
   "collapsed_sections": [
    "O6LmdMvEbb8A",
    "vpvqEHIDqJYc",
    "wTTnJFrVbfkC"
   ],
   "include_colab_link": true,
   "name": "Main_Code.ipynb",
   "provenance": []
  },
  "kernelspec": {
   "display_name": "Python 3",
   "language": "python",
   "name": "python3"
  },
  "language_info": {
   "codemirror_mode": {
    "name": "ipython",
    "version": 3
   },
   "file_extension": ".py",
   "mimetype": "text/x-python",
   "name": "python",
   "nbconvert_exporter": "python",
   "pygments_lexer": "ipython3",
   "version": "3.8.8"
  }
 },
 "nbformat": 4,
 "nbformat_minor": 1
}
