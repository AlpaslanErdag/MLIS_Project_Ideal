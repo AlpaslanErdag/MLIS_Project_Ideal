{
 "cells": [
  {
   "cell_type": "code",
   "execution_count": 1,
   "metadata": {
    "id": "e6rrsFyi4Bd9"
   },
   "outputs": [],
   "source": [
    "# This is the main jupyter notebook for the coursework of MLIS \n",
    "## Grp 4B\n",
    "## Authors\n",
    "## Alpaslan Erdag , Anshuman Singh , Yixin Fan\n",
    "## Date - 15/01/2022"
   ]
  },
  {
   "cell_type": "markdown",
   "metadata": {
    "id": "G-IY5zC537OU"
   },
   "source": [
    "<h1> <center> Abstract </center> </h1>\n",
    "​<em>\n",
    "\n",
    "Todo - Write some abstract about the data giving some information about.\n",
    "\n",
    "The data is obtanined from UCI repository which can be obtained from the [here](https://archive.ics.uci.edu/ml/datasets/breast+cancer+wisconsin+%28original%29)\n",
    "</em>"
   ]
  },
  {
   "cell_type": "code",
   "execution_count": 2,
   "metadata": {
    "colab": {
     "base_uri": "https://localhost:8080/"
    },
    "id": "3boaTk7A4FrC",
    "outputId": "28e07a26-0a3f-4422-b507-f887576fdaca"
   },
   "outputs": [
    {
     "name": "stdout",
     "output_type": "stream",
     "text": [
      "Citation Request:\n",
      "   This breast cancer databases was obtained from the University of Wisconsin\n",
      "   Hospitals, Madison from Dr. William H. Wolberg.  If you publish results\n",
      "   when using this database, then please include this information in your\n",
      "   acknowledgements.  Also, please cite one or more of:\n",
      "\n",
      "   1. O. L. Mangasarian and W. H. Wolberg: \"Cancer diagnosis via linear \n",
      "      programming\", SIAM News, Volume 23, Number 5, September 1990, pp 1 & 18.\n",
      "\n",
      "   2. William H. Wolberg and O.L. Mangasarian: \"Multisurface method of \n",
      "      pattern separation for medical diagnosis applied to breast cytology\", \n",
      "      Proceedings of the National Academy of Sciences, U.S.A., Volume 87, \n",
      "      December 1990, pp 9193-9196.\n",
      "\n",
      "   3. O. L. Mangasarian, R. Setiono, and W.H. Wolberg: \"Pattern recognition \n",
      "      via linear programming: Theory and application to medical diagnosis\", \n",
      "      in: \"Large-scale numerical optimization\", Thomas F. Coleman and Yuying\n",
      "      Li, editors, SIAM Publications, Philadelphia 1990, pp 22-30.\n",
      "\n",
      "   4. K. P. Bennett & O. L. Mangasarian: \"Robust linear programming \n",
      "      discrimination of two linearly inseparable sets\", Optimization Methods\n",
      "      and Software 1, 1992, 23-34 (Gordon & Breach Science Publishers).\n",
      "\n",
      "1. Title: Wisconsin Breast Cancer Database (January 8, 1991)\n",
      "\n",
      "2. Sources:\n",
      "   -- Dr. WIlliam H. Wolberg (physician)\n",
      "      University of Wisconsin Hospitals\n",
      "      Madison, Wisconsin\n",
      "      USA\n",
      "   -- Donor: Olvi Mangasarian (mangasarian@cs.wisc.edu)\n",
      "      Received by David W. Aha (aha@cs.jhu.edu)\n",
      "   -- Date: 15 July 1992\n",
      "\n",
      "3. Past Usage:\n",
      "\n",
      "   Attributes 2 through 10 have been used to represent instances.\n",
      "   Each instance has one of 2 possible classes: benign or malignant.\n",
      "\n",
      "   1. Wolberg,~W.~H., \\& Mangasarian,~O.~L. (1990). Multisurface method of \n",
      "      pattern separation for medical diagnosis applied to breast cytology. In\n",
      "      {\\it Proceedings of the National Academy of Sciences}, {\\it 87},\n",
      "      9193--9196.\n",
      "      -- Size of data set: only 369 instances (at that point in time)\n",
      "      -- Collected classification results: 1 trial only\n",
      "      -- Two pairs of parallel hyperplanes were found to be consistent with\n",
      "         50% of the data\n",
      "         -- Accuracy on remaining 50% of dataset: 93.5%\n",
      "      -- Three pairs of parallel hyperplanes were found to be consistent with\n",
      "         67% of data\n",
      "         -- Accuracy on remaining 33% of dataset: 95.9%\n",
      "\n",
      "   2. Zhang,~J. (1992). Selecting typical instances in instance-based\n",
      "      learning.  In {\\it Proceedings of the Ninth International Machine\n",
      "      Learning Conference} (pp. 470--479).  Aberdeen, Scotland: Morgan\n",
      "      Kaufmann.\n",
      "      -- Size of data set: only 369 instances (at that point in time)\n",
      "      -- Applied 4 instance-based learning algorithms \n",
      "      -- Collected classification results averaged over 10 trials\n",
      "      -- Best accuracy result: \n",
      "         -- 1-nearest neighbor: 93.7%\n",
      "         -- trained on 200 instances, tested on the other 169\n",
      "      -- Also of interest:\n",
      "         -- Using only typical instances: 92.2% (storing only 23.1 instances)\n",
      "         -- trained on 200 instances, tested on the other 169\n",
      "\n",
      "4. Relevant Information:\n",
      "\n",
      "   Samples arrive periodically as Dr. Wolberg reports his clinical cases.\n",
      "   The database therefore reflects this chronological grouping of the data.\n",
      "   This grouping information appears immediately below, having been removed\n",
      "   from the data itself:\n",
      "\n",
      "     Group 1: 367 instances (January 1989)\n",
      "     Group 2:  70 instances (October 1989)\n",
      "     Group 3:  31 instances (February 1990)\n",
      "     Group 4:  17 instances (April 1990)\n",
      "     Group 5:  48 instances (August 1990)\n",
      "     Group 6:  49 instances (Updated January 1991)\n",
      "     Group 7:  31 instances (June 1991)\n",
      "     Group 8:  86 instances (November 1991)\n",
      "     -----------------------------------------\n",
      "     Total:   699 points (as of the donated datbase on 15 July 1992)\n",
      "\n",
      "   Note that the results summarized above in Past Usage refer to a dataset\n",
      "   of size 369, while Group 1 has only 367 instances.  This is because it\n",
      "   originally contained 369 instances; 2 were removed.  The following\n",
      "   statements summarizes changes to the original Group 1's set of data:\n",
      "\n",
      "   #####  Group 1 : 367 points: 200B 167M (January 1989)\n",
      "   #####  Revised Jan 10, 1991: Replaced zero bare nuclei in 1080185 & 1187805\n",
      "   #####  Revised Nov 22,1991: Removed 765878,4,5,9,7,10,10,10,3,8,1 no record\n",
      "   #####                  : Removed 484201,2,7,8,8,4,3,10,3,4,1 zero epithelial\n",
      "   #####                  : Changed 0 to 1 in field 6 of sample 1219406\n",
      "   #####                  : Changed 0 to 1 in field 8 of following sample:\n",
      "   #####                  : 1182404,2,3,1,1,1,2,0,1,1,1\n",
      "\n",
      "5. Number of Instances: 699 (as of 15 July 1992)\n",
      "\n",
      "6. Number of Attributes: 10 plus the class attribute\n",
      "\n",
      "7. Attribute Information: (class attribute has been moved to last column)\n",
      "\n",
      "   #  Attribute                     Domain\n",
      "   -- -----------------------------------------\n",
      "   1. Sample code number            id number\n",
      "   2. Clump Thickness               1 - 10\n",
      "   3. Uniformity of Cell Size       1 - 10\n",
      "   4. Uniformity of Cell Shape      1 - 10\n",
      "   5. Marginal Adhesion             1 - 10\n",
      "   6. Single Epithelial Cell Size   1 - 10\n",
      "   7. Bare Nuclei                   1 - 10\n",
      "   8. Bland Chromatin               1 - 10\n",
      "   9. Normal Nucleoli               1 - 10\n",
      "  10. Mitoses                       1 - 10\n",
      "  11. Class:                        (2 for benign, 4 for malignant)\n",
      "\n",
      "8. Missing attribute values: 16\n",
      "\n",
      "   There are 16 instances in Groups 1 to 6 that contain a single missing \n",
      "   (i.e., unavailable) attribute value, now denoted by \"?\".  \n",
      "\n",
      "9. Class distribution:\n",
      " \n",
      "   Benign: 458 (65.5%)\n",
      "   Malignant: 241 (34.5%)\n",
      "\n"
     ]
    }
   ],
   "source": [
    "# Also should we show this ? tell me your thoughts\n",
    "about_data ='/Users/anshuman/Desktop/Project_Folder/MLIS_Project_Ideal/breast-cancer-wisconsin.names'\n",
    "#about_data = '/content/breast-cancer-wisconsin.names'\n",
    "with open(about_data) as f:\n",
    "    print(f.read())"
   ]
  },
  {
   "cell_type": "markdown",
   "metadata": {
    "id": "ZN6gh3N24R-W"
   },
   "source": [
    "<h1><center>About code (Suggest a good heading)</center></h1>\n",
    "\n",
    "<h2><em>The code is divided in the following modules/parts/chapters?</h2>\n",
    "<ol>\n",
    "<li> <h4> Data Cleaning and Data Preprocessing </h4></li> \n",
    "<li> <h4>Model Fiting on the clean data </h4></li> \n",
    "<li> <h4>Model Accuracy </h4></li>\n",
    "</ol>\n",
    "</em>"
   ]
  },
  {
   "cell_type": "markdown",
   "metadata": {
    "id": "0TONMQnQ4SDg"
   },
   "source": [
    "<h2><center>1. Data Cleaning and Data Preprocessing</center></h2>\n",
    "\n",
    "<p>To get a good result over model accuracies we are going to first clean the data and then used the cleaned and preprocessed data to train a model. </p>\n",
    "\n",
    "<p> We will be using a systematic approach to clean our data. That will be listed in the following steps</p>\n",
    "<em>\n",
    "&emsp; <li>Data Visulaization</li>\n",
    "&emsp; <li>Checking and Removing nan values</li>\n",
    "&emsp; <li>Removing Useless Attributes</li>\n",
    "&emsp; <li>Deleting Outliers and Data Normalizations</li>\n",
    "</em>"
   ]
  },
  {
   "cell_type": "markdown",
   "metadata": {
    "id": "-daRoybV4SJI"
   },
   "source": [
    "<h3>1.1 Data Visualization </h3>"
   ]
  },
  {
   "cell_type": "markdown",
   "metadata": {
    "id": "dRQhoFvkfl-R"
   },
   "source": [
    "<h4>1.1.1 Code </h4>"
   ]
  },
  {
   "cell_type": "code",
   "execution_count": 3,
   "metadata": {
    "id": "sK9S6Bky4RlC"
   },
   "outputs": [],
   "source": [
    "## Header Files \n",
    "import pandas as pd\n",
    "import numpy as np\n",
    "import warnings\n",
    "warnings.filterwarnings('ignore')\n",
    "import matplotlib.pyplot as plt\n",
    "import seaborn as sns\n",
    "plt.style.use('ggplot')\n",
    "import scipy\n",
    "\n",
    "## Loading Data \n",
    "data = '/Users/anshuman/Desktop/Project_Folder/MLIS_Project_Ideal/breast-cancer-wisconsin.data'\n",
    "#data = '/content/breast-cancer-wisconsin.data'"
   ]
  },
  {
   "cell_type": "code",
   "execution_count": 4,
   "metadata": {
    "id": "xL5c7NTs4omD",
    "scrolled": true
   },
   "outputs": [
    {
     "data": {
      "text/html": [
       "<div>\n",
       "<style scoped>\n",
       "    .dataframe tbody tr th:only-of-type {\n",
       "        vertical-align: middle;\n",
       "    }\n",
       "\n",
       "    .dataframe tbody tr th {\n",
       "        vertical-align: top;\n",
       "    }\n",
       "\n",
       "    .dataframe thead th {\n",
       "        text-align: right;\n",
       "    }\n",
       "</style>\n",
       "<table border=\"1\" class=\"dataframe\">\n",
       "  <thead>\n",
       "    <tr style=\"text-align: right;\">\n",
       "      <th></th>\n",
       "      <th>Samplecodenumber</th>\n",
       "      <th>ClumpThickness</th>\n",
       "      <th>UniformityofCellSize</th>\n",
       "      <th>UniformityofCellShape</th>\n",
       "      <th>MarginalAdhesion</th>\n",
       "      <th>SingleEpithelialCellSize</th>\n",
       "      <th>BareNuclei</th>\n",
       "      <th>BlandChromatin</th>\n",
       "      <th>NormalNucleoli</th>\n",
       "      <th>Mitoses</th>\n",
       "      <th>Class</th>\n",
       "    </tr>\n",
       "  </thead>\n",
       "  <tbody>\n",
       "    <tr>\n",
       "      <th>0</th>\n",
       "      <td>1000025</td>\n",
       "      <td>5</td>\n",
       "      <td>1</td>\n",
       "      <td>1</td>\n",
       "      <td>1</td>\n",
       "      <td>2</td>\n",
       "      <td>1</td>\n",
       "      <td>3</td>\n",
       "      <td>1</td>\n",
       "      <td>1</td>\n",
       "      <td>2</td>\n",
       "    </tr>\n",
       "    <tr>\n",
       "      <th>1</th>\n",
       "      <td>1002945</td>\n",
       "      <td>5</td>\n",
       "      <td>4</td>\n",
       "      <td>4</td>\n",
       "      <td>5</td>\n",
       "      <td>7</td>\n",
       "      <td>10</td>\n",
       "      <td>3</td>\n",
       "      <td>2</td>\n",
       "      <td>1</td>\n",
       "      <td>2</td>\n",
       "    </tr>\n",
       "    <tr>\n",
       "      <th>2</th>\n",
       "      <td>1015425</td>\n",
       "      <td>3</td>\n",
       "      <td>1</td>\n",
       "      <td>1</td>\n",
       "      <td>1</td>\n",
       "      <td>2</td>\n",
       "      <td>2</td>\n",
       "      <td>3</td>\n",
       "      <td>1</td>\n",
       "      <td>1</td>\n",
       "      <td>2</td>\n",
       "    </tr>\n",
       "    <tr>\n",
       "      <th>3</th>\n",
       "      <td>1016277</td>\n",
       "      <td>6</td>\n",
       "      <td>8</td>\n",
       "      <td>8</td>\n",
       "      <td>1</td>\n",
       "      <td>3</td>\n",
       "      <td>4</td>\n",
       "      <td>3</td>\n",
       "      <td>7</td>\n",
       "      <td>1</td>\n",
       "      <td>2</td>\n",
       "    </tr>\n",
       "    <tr>\n",
       "      <th>4</th>\n",
       "      <td>1017023</td>\n",
       "      <td>4</td>\n",
       "      <td>1</td>\n",
       "      <td>1</td>\n",
       "      <td>3</td>\n",
       "      <td>2</td>\n",
       "      <td>1</td>\n",
       "      <td>3</td>\n",
       "      <td>1</td>\n",
       "      <td>1</td>\n",
       "      <td>2</td>\n",
       "    </tr>\n",
       "  </tbody>\n",
       "</table>\n",
       "</div>"
      ],
      "text/plain": [
       "   Samplecodenumber  ClumpThickness  UniformityofCellSize  \\\n",
       "0           1000025               5                     1   \n",
       "1           1002945               5                     4   \n",
       "2           1015425               3                     1   \n",
       "3           1016277               6                     8   \n",
       "4           1017023               4                     1   \n",
       "\n",
       "   UniformityofCellShape  MarginalAdhesion  SingleEpithelialCellSize  \\\n",
       "0                      1                 1                         2   \n",
       "1                      4                 5                         7   \n",
       "2                      1                 1                         2   \n",
       "3                      8                 1                         3   \n",
       "4                      1                 3                         2   \n",
       "\n",
       "  BareNuclei  BlandChromatin  NormalNucleoli  Mitoses  Class  \n",
       "0          1               3               1        1      2  \n",
       "1         10               3               2        1      2  \n",
       "2          2               3               1        1      2  \n",
       "3          4               3               7        1      2  \n",
       "4          1               3               1        1      2  "
      ]
     },
     "execution_count": 4,
     "metadata": {},
     "output_type": "execute_result"
    }
   ],
   "source": [
    "# Nameing the columms\n",
    "col_name = ['Samplecodenumber','ClumpThickness','UniformityofCellSize','UniformityofCellShape',\n",
    "            'MarginalAdhesion','SingleEpithelialCellSize','BareNuclei',\n",
    "            'BlandChromatin','NormalNucleoli','Mitoses','Class']\n",
    "cancerdata = pd.read_csv(data,low_memory=False,names=col_name)\n",
    "cancerdata.head()"
   ]
  },
  {
   "cell_type": "code",
   "execution_count": 5,
   "metadata": {
    "id": "oOGBeeDS4opZ"
   },
   "outputs": [],
   "source": [
    "## Removing attribute that is of no use\n",
    "cancerdata = cancerdata.drop(['Samplecodenumber'], 1)"
   ]
  },
  {
   "cell_type": "code",
   "execution_count": 6,
   "metadata": {
    "id": "nV7-qayy4orv"
   },
   "outputs": [
    {
     "data": {
      "text/plain": [
       "2    458\n",
       "4    241\n",
       "Name: Class, dtype: int64"
      ]
     },
     "execution_count": 6,
     "metadata": {},
     "output_type": "execute_result"
    }
   ],
   "source": [
    "# The number of samples present by class count\n",
    "cancerdata['Class'].value_counts()"
   ]
  },
  {
   "cell_type": "code",
   "execution_count": 7,
   "metadata": {
    "id": "iY_4Kw5F4ous"
   },
   "outputs": [
    {
     "data": {
      "text/html": [
       "<div>\n",
       "<style scoped>\n",
       "    .dataframe tbody tr th:only-of-type {\n",
       "        vertical-align: middle;\n",
       "    }\n",
       "\n",
       "    .dataframe tbody tr th {\n",
       "        vertical-align: top;\n",
       "    }\n",
       "\n",
       "    .dataframe thead th {\n",
       "        text-align: right;\n",
       "    }\n",
       "</style>\n",
       "<table border=\"1\" class=\"dataframe\">\n",
       "  <thead>\n",
       "    <tr style=\"text-align: right;\">\n",
       "      <th></th>\n",
       "      <th>ClumpThickness</th>\n",
       "      <th>UniformityofCellSize</th>\n",
       "      <th>UniformityofCellShape</th>\n",
       "      <th>MarginalAdhesion</th>\n",
       "      <th>SingleEpithelialCellSize</th>\n",
       "      <th>BareNuclei</th>\n",
       "      <th>BlandChromatin</th>\n",
       "      <th>NormalNucleoli</th>\n",
       "      <th>Mitoses</th>\n",
       "      <th>classes</th>\n",
       "    </tr>\n",
       "  </thead>\n",
       "  <tbody>\n",
       "    <tr>\n",
       "      <th>0</th>\n",
       "      <td>5</td>\n",
       "      <td>4</td>\n",
       "      <td>4</td>\n",
       "      <td>5</td>\n",
       "      <td>7</td>\n",
       "      <td>10</td>\n",
       "      <td>3</td>\n",
       "      <td>2</td>\n",
       "      <td>1</td>\n",
       "      <td>0</td>\n",
       "    </tr>\n",
       "    <tr>\n",
       "      <th>1</th>\n",
       "      <td>8</td>\n",
       "      <td>10</td>\n",
       "      <td>10</td>\n",
       "      <td>8</td>\n",
       "      <td>7</td>\n",
       "      <td>10</td>\n",
       "      <td>9</td>\n",
       "      <td>7</td>\n",
       "      <td>1</td>\n",
       "      <td>1</td>\n",
       "    </tr>\n",
       "    <tr>\n",
       "      <th>2</th>\n",
       "      <td>5</td>\n",
       "      <td>3</td>\n",
       "      <td>3</td>\n",
       "      <td>3</td>\n",
       "      <td>2</td>\n",
       "      <td>3</td>\n",
       "      <td>4</td>\n",
       "      <td>4</td>\n",
       "      <td>1</td>\n",
       "      <td>1</td>\n",
       "    </tr>\n",
       "    <tr>\n",
       "      <th>3</th>\n",
       "      <td>1</td>\n",
       "      <td>1</td>\n",
       "      <td>1</td>\n",
       "      <td>1</td>\n",
       "      <td>2</td>\n",
       "      <td>3</td>\n",
       "      <td>3</td>\n",
       "      <td>1</td>\n",
       "      <td>1</td>\n",
       "      <td>0</td>\n",
       "    </tr>\n",
       "    <tr>\n",
       "      <th>4</th>\n",
       "      <td>8</td>\n",
       "      <td>7</td>\n",
       "      <td>5</td>\n",
       "      <td>10</td>\n",
       "      <td>7</td>\n",
       "      <td>9</td>\n",
       "      <td>5</td>\n",
       "      <td>5</td>\n",
       "      <td>4</td>\n",
       "      <td>1</td>\n",
       "    </tr>\n",
       "  </tbody>\n",
       "</table>\n",
       "</div>"
      ],
      "text/plain": [
       "   ClumpThickness  UniformityofCellSize  UniformityofCellShape  \\\n",
       "0               5                     4                      4   \n",
       "1               8                    10                     10   \n",
       "2               5                     3                      3   \n",
       "3               1                     1                      1   \n",
       "4               8                     7                      5   \n",
       "\n",
       "   MarginalAdhesion  SingleEpithelialCellSize BareNuclei  BlandChromatin  \\\n",
       "0                 5                         7         10               3   \n",
       "1                 8                         7         10               9   \n",
       "2                 3                         2          3               4   \n",
       "3                 1                         2          3               3   \n",
       "4                10                         7          9               5   \n",
       "\n",
       "   NormalNucleoli  Mitoses  classes  \n",
       "0               2        1        0  \n",
       "1               7        1        1  \n",
       "2               4        1        1  \n",
       "3               1        1        0  \n",
       "4               5        4        1  "
      ]
     },
     "execution_count": 7,
     "metadata": {},
     "output_type": "execute_result"
    }
   ],
   "source": [
    "# Making the class counts to similar size\n",
    "Benign = cancerdata[(cancerdata.Class == 2) ].sample(240).index\n",
    "Malignant = cancerdata[(cancerdata.Class == 4) ].sample(240).index\n",
    "cancer = cancerdata.loc[Benign|Malignant]\n",
    "cancer = cancer.reset_index(drop=True)\n",
    "\n",
    "# Making the classess from 2/4 to 0/1 \n",
    "cancer['classes'] = cancer.Class.map({2:0,4:1})\n",
    "cancer = cancer.drop(['Class'], 1)\n",
    "\n",
    "# Printing the updated dataframe\n",
    "cancer.head()"
   ]
  },
  {
   "cell_type": "code",
   "execution_count": 8,
   "metadata": {
    "id": "2gLfIN6F4oxH"
   },
   "outputs": [
    {
     "data": {
      "text/plain": [
       "0    240\n",
       "1    240\n",
       "Name: classes, dtype: int64"
      ]
     },
     "execution_count": 8,
     "metadata": {},
     "output_type": "execute_result"
    }
   ],
   "source": [
    "# Confirming that counts of the classes are similar \n",
    "cancer['classes'].value_counts()\n"
   ]
  },
  {
   "cell_type": "code",
   "execution_count": 9,
   "metadata": {
    "id": "FxwBcGnk429U",
    "scrolled": false
   },
   "outputs": [
    {
     "data": {
      "image/png": "[encoded data removed]",
      "text/plain": [
       "<Figure size 1296x1296 with 9 Axes>"
      ]
     },
     "metadata": {},
     "output_type": "display_data"
    }
   ],
   "source": [
    "# plot date variables and find the variables with similar distributions, keep only one of them.\n",
    "#['ClumpThickness','UniformityofCellSize','UniformityofCellShape','MarginalAdhesion',\n",
    "#'SingleEpithelialCellSize','BareNuclei','BlandChromatin','NormalNucleoli','Mitoses']\n",
    "fig, axs = plt.subplots(3, 3, figsize=(18,18))\n",
    "axs[0,0].hist(cancer['ClumpThickness'])\n",
    "axs[0,0].set_title(\"ClumpThickness\")\n",
    "axs[0,1].hist(cancer['UniformityofCellSize'])\n",
    "axs[0,1].set_title(\"UniformityofCellSize\")\n",
    "axs[0,2].hist(cancer['UniformityofCellShape'])\n",
    "axs[0,2].set_title(\"UniformityofCellShape\")\n",
    "axs[1,0].hist(cancer['MarginalAdhesion'])\n",
    "axs[1,0].set_title(\"MarginalAdhesion\")\n",
    "axs[1,1].hist(cancer['SingleEpithelialCellSize'])\n",
    "axs[1,1].set_title(\"SingleEpithelialCellSize\")\n",
    "axs[1,2].hist(cancer['BareNuclei'])\n",
    "axs[1,2].set_title(\"BareNuclei\")\n",
    "axs[2,0].hist(cancer['BlandChromatin'])\n",
    "axs[2,0].set_title(\"BlandChromatin\")\n",
    "axs[2,1].hist(cancer['NormalNucleoli'])\n",
    "axs[2,1].set_title(\"NormalNucleoli\")\n",
    "axs[2,2].hist(cancer['Mitoses'])\n",
    "axs[2,2].set_title(\"Mitoses\")\n",
    "fig.tight_layout()"
   ]
  },
  {
   "cell_type": "markdown",
   "metadata": {
    "id": "wdpWrB3HWel7"
   },
   "source": [
    "<h4>1.1.2 Observations </h4>\n",
    "<ol>\n",
    "    <li>The class counts is in a 2:1 ratio with benign being 458 and malignant being 241</li>\n",
    "    <li>The graph shows that data is very skewed for every attribute</li>\n",
    "</ol>\n",
    "<h4>1.1.3 Approach </h4>\n",
    "<ol>\n",
    "    <li>First we make the class ratio 1:1 and making data points to 240 for each class</li>\n",
    "</ol>"
   ]
  },
  {
   "cell_type": "markdown",
   "metadata": {
    "id": "fPcTVTlE46vC"
   },
   "source": [
    "<h3>1.2 Checking and Removing nan values</h3>"
   ]
  },
  {
   "cell_type": "markdown",
   "metadata": {
    "id": "wbaWQwlpfyif"
   },
   "source": [
    "<h4>1.2.1 Code </h4>"
   ]
  },
  {
   "cell_type": "code",
   "execution_count": 10,
   "metadata": {
    "id": "dJclAfmh49KE"
   },
   "outputs": [
    {
     "data": {
      "text/plain": [
       "int64     9\n",
       "object    1\n",
       "dtype: int64"
      ]
     },
     "execution_count": 10,
     "metadata": {},
     "output_type": "execute_result"
    }
   ],
   "source": [
    "# Printing all the value counts \n",
    "cancer.dtypes.value_counts()"
   ]
  },
  {
   "cell_type": "code",
   "execution_count": 11,
   "metadata": {
    "id": "3DCa8TIj4_Ty"
   },
   "outputs": [
    {
     "data": {
      "text/html": [
       "<div>\n",
       "<style scoped>\n",
       "    .dataframe tbody tr th:only-of-type {\n",
       "        vertical-align: middle;\n",
       "    }\n",
       "\n",
       "    .dataframe tbody tr th {\n",
       "        vertical-align: top;\n",
       "    }\n",
       "\n",
       "    .dataframe thead th {\n",
       "        text-align: right;\n",
       "    }\n",
       "</style>\n",
       "<table border=\"1\" class=\"dataframe\">\n",
       "  <thead>\n",
       "    <tr style=\"text-align: right;\">\n",
       "      <th></th>\n",
       "      <th>BareNuclei</th>\n",
       "    </tr>\n",
       "  </thead>\n",
       "  <tbody>\n",
       "    <tr>\n",
       "      <th>0</th>\n",
       "      <td>10</td>\n",
       "    </tr>\n",
       "    <tr>\n",
       "      <th>1</th>\n",
       "      <td>10</td>\n",
       "    </tr>\n",
       "    <tr>\n",
       "      <th>2</th>\n",
       "      <td>3</td>\n",
       "    </tr>\n",
       "    <tr>\n",
       "      <th>3</th>\n",
       "      <td>3</td>\n",
       "    </tr>\n",
       "    <tr>\n",
       "      <th>4</th>\n",
       "      <td>9</td>\n",
       "    </tr>\n",
       "    <tr>\n",
       "      <th>...</th>\n",
       "      <td>...</td>\n",
       "    </tr>\n",
       "    <tr>\n",
       "      <th>475</th>\n",
       "      <td>2</td>\n",
       "    </tr>\n",
       "    <tr>\n",
       "      <th>476</th>\n",
       "      <td>1</td>\n",
       "    </tr>\n",
       "    <tr>\n",
       "      <th>477</th>\n",
       "      <td>3</td>\n",
       "    </tr>\n",
       "    <tr>\n",
       "      <th>478</th>\n",
       "      <td>4</td>\n",
       "    </tr>\n",
       "    <tr>\n",
       "      <th>479</th>\n",
       "      <td>5</td>\n",
       "    </tr>\n",
       "  </tbody>\n",
       "</table>\n",
       "<p>480 rows × 1 columns</p>\n",
       "</div>"
      ],
      "text/plain": [
       "    BareNuclei\n",
       "0           10\n",
       "1           10\n",
       "2            3\n",
       "3            3\n",
       "4            9\n",
       "..         ...\n",
       "475          2\n",
       "476          1\n",
       "477          3\n",
       "478          4\n",
       "479          5\n",
       "\n",
       "[480 rows x 1 columns]"
      ]
     },
     "execution_count": 11,
     "metadata": {},
     "output_type": "execute_result"
    }
   ],
   "source": [
    "# Printing data types\n",
    "cancer.select_dtypes('object')"
   ]
  },
  {
   "cell_type": "code",
   "execution_count": 12,
   "metadata": {
    "id": "1CyRzBnb6XnU"
   },
   "outputs": [
    {
     "data": {
      "text/html": [
       "<div>\n",
       "<style scoped>\n",
       "    .dataframe tbody tr th:only-of-type {\n",
       "        vertical-align: middle;\n",
       "    }\n",
       "\n",
       "    .dataframe tbody tr th {\n",
       "        vertical-align: top;\n",
       "    }\n",
       "\n",
       "    .dataframe thead th {\n",
       "        text-align: right;\n",
       "    }\n",
       "</style>\n",
       "<table border=\"1\" class=\"dataframe\">\n",
       "  <thead>\n",
       "    <tr style=\"text-align: right;\">\n",
       "      <th></th>\n",
       "      <th>Count</th>\n",
       "      <th>Percent</th>\n",
       "    </tr>\n",
       "  </thead>\n",
       "  <tbody>\n",
       "    <tr>\n",
       "      <th>BareNuclei</th>\n",
       "      <td>6</td>\n",
       "      <td>1.25</td>\n",
       "    </tr>\n",
       "  </tbody>\n",
       "</table>\n",
       "</div>"
      ],
      "text/plain": [
       "            Count  Percent\n",
       "BareNuclei      6     1.25"
      ]
     },
     "execution_count": 12,
     "metadata": {},
     "output_type": "execute_result"
    }
   ],
   "source": [
    "#Replacing nan Values\n",
    "cancer = cancer.replace('?' ,np.nan)\n",
    "\n",
    "##Finding the the count and percentage of values that are missing in the dataframe.\n",
    "null1 = pd.DataFrame({'Count': cancer.isnull().sum(), 'Percent': 100*cancer.isnull().sum()/len(cancer)})\n",
    "\n",
    "##printing columns with null count more than 0\n",
    "null1[null1['Count'] > 0]"
   ]
  },
  {
   "cell_type": "code",
   "execution_count": 13,
   "metadata": {
    "id": "mQKh6EdQ6Xrk"
   },
   "outputs": [],
   "source": [
    "## Filling the columns with nan values with mean of the data\n",
    "cancer[\"BareNuclei\"]=cancer[\"BareNuclei\"].astype(float)\n",
    "cancer=cancer.fillna(cancer.mean())"
   ]
  },
  {
   "cell_type": "markdown",
   "metadata": {
    "id": "PHIdqxDmWMPe"
   },
   "source": [
    "<h4>1.2.2 Observations </h4>\n",
    "<ol>\n",
    "    <li>We obsereve that there is one attribute that is not in integer format</li>\n",
    "    <li>We find that there are nan values in BareNuclei</li>\n",
    "</ol>\n",
    "<h4>1.2.3 Approach </h4>\n",
    "<ol>\n",
    "    <li>We find that BareNuclei is a object type attribute so we convert it to float</li>\n",
    "    <li>We replace nan values in BareNuclei with mean value of BareNuclei</li>\n",
    "</ol>"
   ]
  },
  {
   "cell_type": "markdown",
   "metadata": {
    "id": "uf89AePf6nsZ"
   },
   "source": [
    "<h3>1.3 Removing Useless Attributes </h3>"
   ]
  },
  {
   "cell_type": "markdown",
   "metadata": {
    "id": "aF8wcn9Gf3au"
   },
   "source": [
    "<h4>1.3.1 Code </h4>"
   ]
  },
  {
   "cell_type": "code",
   "execution_count": 14,
   "metadata": {
    "id": "e1xo7hxe6Xv1"
   },
   "outputs": [
    {
     "data": {
      "text/html": [
       "<div>\n",
       "<style scoped>\n",
       "    .dataframe tbody tr th:only-of-type {\n",
       "        vertical-align: middle;\n",
       "    }\n",
       "\n",
       "    .dataframe tbody tr th {\n",
       "        vertical-align: top;\n",
       "    }\n",
       "\n",
       "    .dataframe thead th {\n",
       "        text-align: right;\n",
       "    }\n",
       "</style>\n",
       "<table border=\"1\" class=\"dataframe\">\n",
       "  <thead>\n",
       "    <tr style=\"text-align: right;\">\n",
       "      <th></th>\n",
       "      <th>classes</th>\n",
       "      <th>UniformityofCellShape</th>\n",
       "      <th>UniformityofCellSize</th>\n",
       "      <th>BareNuclei</th>\n",
       "      <th>BlandChromatin</th>\n",
       "      <th>ClumpThickness</th>\n",
       "      <th>NormalNucleoli</th>\n",
       "      <th>MarginalAdhesion</th>\n",
       "      <th>SingleEpithelialCellSize</th>\n",
       "      <th>Mitoses</th>\n",
       "    </tr>\n",
       "  </thead>\n",
       "  <tbody>\n",
       "    <tr>\n",
       "      <th>0</th>\n",
       "      <td>0</td>\n",
       "      <td>4</td>\n",
       "      <td>4</td>\n",
       "      <td>10.0</td>\n",
       "      <td>3</td>\n",
       "      <td>5</td>\n",
       "      <td>2</td>\n",
       "      <td>5</td>\n",
       "      <td>7</td>\n",
       "      <td>1</td>\n",
       "    </tr>\n",
       "    <tr>\n",
       "      <th>1</th>\n",
       "      <td>1</td>\n",
       "      <td>10</td>\n",
       "      <td>10</td>\n",
       "      <td>10.0</td>\n",
       "      <td>9</td>\n",
       "      <td>8</td>\n",
       "      <td>7</td>\n",
       "      <td>8</td>\n",
       "      <td>7</td>\n",
       "      <td>1</td>\n",
       "    </tr>\n",
       "    <tr>\n",
       "      <th>2</th>\n",
       "      <td>1</td>\n",
       "      <td>3</td>\n",
       "      <td>3</td>\n",
       "      <td>3.0</td>\n",
       "      <td>4</td>\n",
       "      <td>5</td>\n",
       "      <td>4</td>\n",
       "      <td>3</td>\n",
       "      <td>2</td>\n",
       "      <td>1</td>\n",
       "    </tr>\n",
       "  </tbody>\n",
       "</table>\n",
       "</div>"
      ],
      "text/plain": [
       "   classes  UniformityofCellShape  UniformityofCellSize  BareNuclei  \\\n",
       "0        0                      4                     4        10.0   \n",
       "1        1                     10                    10        10.0   \n",
       "2        1                      3                     3         3.0   \n",
       "\n",
       "   BlandChromatin  ClumpThickness  NormalNucleoli  MarginalAdhesion  \\\n",
       "0               3               5               2                 5   \n",
       "1               9               8               7                 8   \n",
       "2               4               5               4                 3   \n",
       "\n",
       "   SingleEpithelialCellSize  Mitoses  \n",
       "0                         7        1  \n",
       "1                         7        1  \n",
       "2                         2        1  "
      ]
     },
     "execution_count": 14,
     "metadata": {},
     "output_type": "execute_result"
    }
   ],
   "source": [
    "#Sorting with correlation values\n",
    "corr_list1=cancer.corr()['classes'].abs().sort_values(ascending=False)\n",
    "corr_list_new=corr_list1[corr_list1>0.01].index.values.tolist()\n",
    "corr_list1\n",
    "cancer=cancer[corr_list_new]\n",
    "cancer.head(3)"
   ]
  },
  {
   "cell_type": "code",
   "execution_count": 15,
   "metadata": {
    "id": "5MgSXzzR6XzR"
   },
   "outputs": [
    {
     "data": {
      "text/plain": [
       "classes                   classes                     1.000000\n",
       "UniformityofCellShape     UniformityofCellSize        0.898244\n",
       "                          classes                     0.799093\n",
       "classes                   UniformityofCellSize        0.792280\n",
       "                          BareNuclei                  0.789211\n",
       "                          BlandChromatin              0.736787\n",
       "UniformityofCellSize      BlandChromatin              0.734422\n",
       "SingleEpithelialCellSize  UniformityofCellSize        0.732162\n",
       "classes                   ClumpThickness              0.719440\n",
       "BlandChromatin            UniformityofCellShape       0.714471\n",
       "SingleEpithelialCellSize  UniformityofCellShape       0.701687\n",
       "NormalNucleoli            classes                     0.687332\n",
       "UniformityofCellShape     NormalNucleoli              0.686787\n",
       "UniformityofCellSize      NormalNucleoli              0.682597\n",
       "MarginalAdhesion          UniformityofCellSize        0.670077\n",
       "UniformityofCellShape     BareNuclei                  0.668737\n",
       "classes                   MarginalAdhesion            0.665401\n",
       "                          SingleEpithelialCellSize    0.662263\n",
       "UniformityofCellShape     MarginalAdhesion            0.649309\n",
       "BlandChromatin            MarginalAdhesion            0.638888\n",
       "BareNuclei                BlandChromatin              0.637443\n",
       "                          UniformityofCellSize        0.636508\n",
       "UniformityofCellShape     ClumpThickness              0.633044\n",
       "BlandChromatin            NormalNucleoli              0.629664\n",
       "MarginalAdhesion          BareNuclei                  0.628638\n",
       "ClumpThickness            UniformityofCellSize        0.623307\n",
       "SingleEpithelialCellSize  NormalNucleoli              0.595491\n",
       "                          BlandChromatin              0.589907\n",
       "BareNuclei                ClumpThickness              0.565635\n",
       "SingleEpithelialCellSize  MarginalAdhesion            0.561623\n",
       "MarginalAdhesion          NormalNucleoli              0.555759\n",
       "BareNuclei                SingleEpithelialCellSize    0.537269\n",
       "BlandChromatin            ClumpThickness              0.529033\n",
       "NormalNucleoli            BareNuclei                  0.521684\n",
       "ClumpThickness            NormalNucleoli              0.502797\n",
       "                          SingleEpithelialCellSize    0.496446\n",
       "Mitoses                   SingleEpithelialCellSize    0.479981\n",
       "UniformityofCellSize      Mitoses                     0.443338\n",
       "MarginalAdhesion          ClumpThickness              0.439770\n",
       "UniformityofCellShape     Mitoses                     0.425585\n",
       "NormalNucleoli            Mitoses                     0.416301\n",
       "MarginalAdhesion          Mitoses                     0.400499\n",
       "Mitoses                   classes                     0.394560\n",
       "                          ClumpThickness              0.348196\n",
       "BlandChromatin            Mitoses                     0.324656\n",
       "BareNuclei                Mitoses                     0.299901\n",
       "dtype: float64"
      ]
     },
     "metadata": {},
     "output_type": "display_data"
    }
   ],
   "source": [
    "## To remove outliers first we have to find the correlation between attributes\n",
    "\n",
    "#find the variables with high correlations\n",
    "cor1 = cancer.corr().abs()\n",
    "list1 = cor1.stack().sort_values(ascending=False).drop_duplicates()  \n",
    "high_corr= list1[list1>0.70].index.values.tolist()\n",
    "high_corr.remove(high_corr[0])\n",
    "\n",
    "display(list1)"
   ]
  },
  {
   "cell_type": "code",
   "execution_count": 16,
   "metadata": {
    "id": "x7OKFrzE6X3D"
   },
   "outputs": [],
   "source": [
    "# for variable pairs with high correlation, keep only one of them\n",
    "columnlist=list(cancer.columns)\n",
    "len(high_corr)\n",
    "for i in range(len(high_corr)):\n",
    "    if \"classes\" in high_corr[i]:\n",
    "        columnlist=columnlist\n",
    "    else:\n",
    "        if high_corr[i][0] in columnlist and high_corr[i][1] in columnlist:\n",
    "            columnlist.remove(high_corr[i][1])\n",
    "        else:\n",
    "            columnlist=columnlist\n",
    "cancer_final=cancer[columnlist]"
   ]
  },
  {
   "cell_type": "code",
   "execution_count": 17,
   "metadata": {
    "id": "ZJPMB2Tq6pOq"
   },
   "outputs": [],
   "source": [
    "## Doing a test train split on the data \n",
    "import random\n",
    "from sklearn.model_selection import train_test_split\n",
    "training_data, test_data = train_test_split(cancer_final,random_state=None, shuffle=True)\n",
    "train_x=training_data.drop(['classes'], 1) \n",
    "train_y=training_data[['classes']]\n",
    "test_x=test_data.drop(['classes'], 1)\n",
    "test_y=test_data[['classes']]"
   ]
  },
  {
   "cell_type": "markdown",
   "metadata": {
    "id": "P-oNBnzbV4lI"
   },
   "source": [
    "<h4>1.3.2 Observations </h4>\n",
    "<ol>\n",
    "    <li>We find the correlation list of the attributes</li>\n",
    "</ol>\n",
    "\n",
    "<h4>1.3.3 Approach </h4>\n",
    "<ol>\n",
    "    <li>We remove the attributes that have low correlations from the data frame</li>\n",
    "    <li>We split the data in test and train datasets</li>\n",
    "</ol>"
   ]
  },
  {
   "cell_type": "markdown",
   "metadata": {
    "id": "6mQKJvN27Bfu"
   },
   "source": [
    "<h3>1.4 Deleting Outliers and Data Normalizations</h3>"
   ]
  },
  {
   "cell_type": "markdown",
   "metadata": {
    "id": "tOcvGwDUf8fd"
   },
   "source": [
    "<h4>1.4.1 Code </h4>"
   ]
  },
  {
   "cell_type": "code",
   "execution_count": 18,
   "metadata": {
    "id": "9Z4bemp56pTY"
   },
   "outputs": [],
   "source": [
    "# Remove outliers\n",
    "cancer_norm = cancer_final[(np.abs(scipy.stats.zscore(cancer_final)) < 3).all(axis=1)]\n",
    "# Zero mean normalisation\n",
    "cancer_norm.iloc[:,1:]=(cancer_norm.iloc[:,1:]-cancer_norm.iloc[:,1:].mean())/cancer_norm.iloc[:,1:].std()"
   ]
  },
  {
   "cell_type": "code",
   "execution_count": 19,
   "metadata": {
    "id": "MQpTYu396pXt"
   },
   "outputs": [
    {
     "data": {
      "text/html": [
       "<div>\n",
       "<style scoped>\n",
       "    .dataframe tbody tr th:only-of-type {\n",
       "        vertical-align: middle;\n",
       "    }\n",
       "\n",
       "    .dataframe tbody tr th {\n",
       "        vertical-align: top;\n",
       "    }\n",
       "\n",
       "    .dataframe thead th {\n",
       "        text-align: right;\n",
       "    }\n",
       "</style>\n",
       "<table border=\"1\" class=\"dataframe\">\n",
       "  <thead>\n",
       "    <tr style=\"text-align: right;\">\n",
       "      <th></th>\n",
       "      <th>classes</th>\n",
       "      <th>BareNuclei</th>\n",
       "      <th>BlandChromatin</th>\n",
       "      <th>ClumpThickness</th>\n",
       "      <th>NormalNucleoli</th>\n",
       "      <th>MarginalAdhesion</th>\n",
       "      <th>SingleEpithelialCellSize</th>\n",
       "      <th>Mitoses</th>\n",
       "    </tr>\n",
       "  </thead>\n",
       "  <tbody>\n",
       "    <tr>\n",
       "      <th>0</th>\n",
       "      <td>0</td>\n",
       "      <td>1.431243</td>\n",
       "      <td>-0.358981</td>\n",
       "      <td>0.034544</td>\n",
       "      <td>-0.417363</td>\n",
       "      <td>0.554591</td>\n",
       "      <td>1.510954</td>\n",
       "      <td>-0.408845</td>\n",
       "    </tr>\n",
       "    <tr>\n",
       "      <th>1</th>\n",
       "      <td>1</td>\n",
       "      <td>1.431243</td>\n",
       "      <td>1.956319</td>\n",
       "      <td>1.046625</td>\n",
       "      <td>1.103030</td>\n",
       "      <td>1.529906</td>\n",
       "      <td>1.510954</td>\n",
       "      <td>-0.408845</td>\n",
       "    </tr>\n",
       "    <tr>\n",
       "      <th>2</th>\n",
       "      <td>1</td>\n",
       "      <td>-0.365887</td>\n",
       "      <td>0.026903</td>\n",
       "      <td>0.034544</td>\n",
       "      <td>0.190794</td>\n",
       "      <td>-0.095619</td>\n",
       "      <td>-0.660392</td>\n",
       "      <td>-0.408845</td>\n",
       "    </tr>\n",
       "    <tr>\n",
       "      <th>3</th>\n",
       "      <td>0</td>\n",
       "      <td>-0.365887</td>\n",
       "      <td>-0.358981</td>\n",
       "      <td>-1.314896</td>\n",
       "      <td>-0.721441</td>\n",
       "      <td>-0.745829</td>\n",
       "      <td>-0.660392</td>\n",
       "      <td>-0.408845</td>\n",
       "    </tr>\n",
       "    <tr>\n",
       "      <th>4</th>\n",
       "      <td>1</td>\n",
       "      <td>1.174510</td>\n",
       "      <td>0.412786</td>\n",
       "      <td>1.046625</td>\n",
       "      <td>0.494873</td>\n",
       "      <td>2.180116</td>\n",
       "      <td>1.510954</td>\n",
       "      <td>2.185531</td>\n",
       "    </tr>\n",
       "  </tbody>\n",
       "</table>\n",
       "</div>"
      ],
      "text/plain": [
       "   classes  BareNuclei  BlandChromatin  ClumpThickness  NormalNucleoli  \\\n",
       "0        0    1.431243       -0.358981        0.034544       -0.417363   \n",
       "1        1    1.431243        1.956319        1.046625        1.103030   \n",
       "2        1   -0.365887        0.026903        0.034544        0.190794   \n",
       "3        0   -0.365887       -0.358981       -1.314896       -0.721441   \n",
       "4        1    1.174510        0.412786        1.046625        0.494873   \n",
       "\n",
       "   MarginalAdhesion  SingleEpithelialCellSize   Mitoses  \n",
       "0          0.554591                  1.510954 -0.408845  \n",
       "1          1.529906                  1.510954 -0.408845  \n",
       "2         -0.095619                 -0.660392 -0.408845  \n",
       "3         -0.745829                 -0.660392 -0.408845  \n",
       "4          2.180116                  1.510954  2.185531  "
      ]
     },
     "execution_count": 19,
     "metadata": {},
     "output_type": "execute_result"
    }
   ],
   "source": [
    "#printing the normalized head of the data\n",
    "cancer_norm.head()"
   ]
  },
  {
   "cell_type": "code",
   "execution_count": 20,
   "metadata": {
    "id": "Wkh0puJu6pa3"
   },
   "outputs": [],
   "source": [
    "#split the new dataset\n",
    "training_data_norm, test_data_norm = train_test_split(cancer_norm,random_state=None, shuffle=True)\n",
    "train_x_norm=training_data_norm.drop(['classes'], 1) \n",
    "train_y_norm=training_data_norm[['classes']]\n",
    "test_x_norm=test_data_norm.drop(['classes'], 1)\n",
    "test_y_norm=test_data_norm[['classes']]"
   ]
  },
  {
   "cell_type": "code",
   "execution_count": 21,
   "metadata": {
    "colab": {
     "base_uri": "https://localhost:8080/"
    },
    "id": "xlkLRQkM6pee",
    "outputId": "8fc8fc33-4eb4-440d-dd77-37a6680cef4c",
    "scrolled": true
   },
   "outputs": [
    {
     "name": "stdout",
     "output_type": "stream",
     "text": [
      "X_train Shape : (344, 7)\n",
      "Y_train Shape : (344, 1)\n",
      "X_test Shape  : (115, 7)\n",
      "Y_test Shape  : (115, 1)\n"
     ]
    }
   ],
   "source": [
    "# Print the shape of the data attributes\n",
    "x_train = np.array(train_x_norm)\n",
    "print('X_train Shape :',x_train.shape)\n",
    "y_train = np.array(train_y_norm)\n",
    "print('Y_train Shape :',y_train.shape)\n",
    "x_test = np.array(test_x_norm)\n",
    "print('X_test Shape  :',x_test.shape)\n",
    "y_test = np.array(test_y_norm)\n",
    "print('Y_test Shape  :',y_test.shape)"
   ]
  },
  {
   "cell_type": "code",
   "execution_count": 22,
   "metadata": {},
   "outputs": [
    {
     "name": "stdout",
     "output_type": "stream",
     "text": [
      "(344,)\n",
      "(115,)\n"
     ]
    }
   ],
   "source": [
    "y_train=y_train.reshape(len(y_train))\n",
    "print(y_train.shape)\n",
    "y_test=y_test.reshape(len(y_test))\n",
    "print(y_test.shape)"
   ]
  },
  {
   "cell_type": "markdown",
   "metadata": {
    "id": "ezxSeKxKWqBF"
   },
   "source": [
    "<h3>1.5 Conclusion </h3>\n",
    "<ol>\n",
    "    <li>We removed the NAN values from our data and replaced them with mean values</li>\n",
    "    <li>We only keep highly correlated attributes in our final attribute list</li>\n",
    "    <li>We filter our data using the zscores and then normalize it usind mean and standard deviation</li>\n",
    "</ol>"
   ]
  },
  {
   "cell_type": "markdown",
   "metadata": {
    "id": "SNNGSB4Vb2CE"
   },
   "source": [
    "<h2><center>2. Model Fiting on the clean data</center></h2>\n",
    "\n",
    "We have a cleaned and a normalized data now we just have to fit a model over the data and make predictions.\n",
    "We are going to implement 2 models that are implemented by us \n",
    "\n",
    "<ol>\n",
    "    <li>SGD Classifier with Log Loss</li>\n",
    "    <li>SVM with RBF kernel</li>\n",
    "</ol>\n"
   ]
  },
  {
   "cell_type": "markdown",
   "metadata": {
    "id": "LGeB6fiFYPuS"
   },
   "source": [
    "<h3>2.1 SGD Classifier with Log Loss</h3>"
   ]
  },
  {
   "cell_type": "markdown",
   "metadata": {
    "id": "3NIP2zzzYi2e"
   },
   "source": [
    "<h4>2.1.1 Function Call</h4>"
   ]
  },
  {
   "cell_type": "code",
   "execution_count": 23,
   "metadata": {
    "id": "qq2Z7Etj6yun"
   },
   "outputs": [
    {
     "name": "stderr",
     "output_type": "stream",
     "text": [
      " 16%|█▌        | 24/150 [00:00<00:00, 230.98it/s]"
     ]
    },
    {
     "name": "stdout",
     "output_type": "stream",
     "text": [
      "\n",
      "-- Epoch no(iteration no)  1\n",
      "W intercept: [0.07502089 0.05823258 0.0410035  0.07026032 0.06873091 0.05971625\n",
      " 0.0479361 ], B intercept: 0.002872674046482243, Train loss: 0.24565, Test loss: 0.24286\n",
      "\n",
      "-- Epoch no(iteration no)  2\n",
      "W intercept: [0.1260959  0.1131575  0.09843815 0.12151304 0.10988689 0.11175261\n",
      " 0.10061349], B intercept: -0.009217024408728073, Train loss: 0.20710, Test loss: 0.20213\n",
      "\n",
      "-- Epoch no(iteration no)  3\n",
      "W intercept: [0.16619049 0.16539176 0.14626731 0.16724446 0.15253031 0.14300389\n",
      " 0.12181412], B intercept: -0.01747312366310106, Train loss: 0.18080, Test loss: 0.17455\n",
      "\n",
      "-- Epoch no(iteration no)  4\n",
      "W intercept: [0.21417948 0.21229802 0.18346918 0.19147286 0.1918154  0.1724919\n",
      " 0.13690684], B intercept: -0.02719211096829105, Train loss: 0.16117, Test loss: 0.15361\n",
      "\n",
      "-- Epoch no(iteration no)  5\n",
      "W intercept: [0.25242808 0.25629823 0.21338121 0.2274476  0.22378997 0.19306087\n",
      " 0.14545512], B intercept: -0.02212756915428828, Train loss: 0.14608, Test loss: 0.13791\n",
      "\n",
      "-- Epoch no(iteration no)  6\n",
      "W intercept: [0.2852244  0.2799983  0.24881501 0.2433254  0.24524777 0.21134777\n",
      " 0.16713902], B intercept: -0.012520517730550604, Train loss: 0.13557, Test loss: 0.12698\n",
      "\n",
      "-- Epoch no(iteration no)  7\n",
      "W intercept: [0.31447157 0.31059896 0.2695013  0.26856423 0.26718685 0.23590679\n",
      " 0.16420208], B intercept: -0.002575955920290988, Train loss: 0.12660, Test loss: 0.11766\n",
      "\n",
      "-- Epoch no(iteration no)  8\n",
      "W intercept: [0.34097027 0.32842933 0.30737076 0.29216358 0.28915764 0.25049046\n",
      " 0.18287427], B intercept: 0.008606077728214612, Train loss: 0.11835, Test loss: 0.10909\n",
      "\n",
      "-- Epoch no(iteration no)  9\n",
      "W intercept: [0.35513564 0.35493298 0.33068401 0.31272508 0.31754853 0.28013469\n",
      " 0.18510731], B intercept: 0.011107320557782817, Train loss: 0.11152, Test loss: 0.10191\n",
      "\n",
      "-- Epoch no(iteration no)  10\n",
      "W intercept: [0.37677665 0.37222141 0.35731307 0.33039805 0.31759753 0.28828409\n",
      " 0.18931379], B intercept: 0.02062217603686935, Train loss: 0.10700, Test loss: 0.09725\n",
      "\n",
      "-- Epoch no(iteration no)  11\n",
      "W intercept: [0.39918362 0.39137579 0.3795874  0.35114766 0.33104214 0.30532085\n",
      " 0.19585704], B intercept: 0.015780556437276737, Train loss: 0.10200, Test loss: 0.09163\n",
      "\n",
      "-- Epoch no(iteration no)  12\n",
      "W intercept: [0.41862505 0.40959107 0.40495336 0.35663805 0.3435013  0.31752007\n",
      " 0.20572901], B intercept: 0.022340734956462244, Train loss: 0.09801, Test loss: 0.08740\n",
      "\n",
      "-- Epoch no(iteration no)  13\n",
      "W intercept: [0.43676814 0.41920192 0.42280232 0.37507404 0.34849212 0.32674916\n",
      " 0.21618042], B intercept: 0.022261693360757544, Train loss: 0.09487, Test loss: 0.08386\n",
      "\n",
      "-- Epoch no(iteration no)  14\n",
      "W intercept: [0.46064935 0.43152997 0.43845288 0.39592192 0.36855311 0.3440003\n",
      " 0.21837576], B intercept: 0.019791756815354486, Train loss: 0.09110, Test loss: 0.07946\n",
      "\n",
      "-- Epoch no(iteration no)  15\n",
      "W intercept: [0.48242475 0.44739609 0.44750542 0.40570907 0.38003229 0.36117965\n",
      " 0.22285446], B intercept: 0.01662234918353753, Train loss: 0.08830, Test loss: 0.07614\n",
      "\n",
      "-- Epoch no(iteration no)  16\n",
      "W intercept: [0.49307772 0.46467925 0.46609722 0.42073931 0.38873048 0.37264291\n",
      " 0.23446772], B intercept: 0.013948039106156692, Train loss: 0.08566, Test loss: 0.07318\n",
      "\n",
      "-- Epoch no(iteration no)  17\n",
      "W intercept: [0.50896736 0.47924883 0.47774257 0.43207703 0.39795575 0.38049215\n",
      " 0.24168555], B intercept: 0.008381283416761465, Train loss: 0.08354, Test loss: 0.07063\n",
      "\n",
      "-- Epoch no(iteration no)  18\n",
      "W intercept: [0.52730515 0.49674336 0.49092859 0.44037823 0.41211225 0.39136115\n",
      " 0.24558026], B intercept: 0.0027841792127874894, Train loss: 0.08126, Test loss: 0.06786\n",
      "\n",
      "-- Epoch no(iteration no)  19\n",
      "W intercept: [0.54007336 0.51399048 0.50958588 0.44951314 0.42024423 0.39372222\n",
      " 0.25811591], B intercept: 0.013686121953663859, Train loss: 0.07917, Test loss: 0.06574\n",
      "\n",
      "-- Epoch no(iteration no)  20\n",
      "W intercept: [0.55779574 0.52559214 0.51995365 0.44821929 0.42959168 0.40048098\n",
      " 0.25560764], B intercept: 0.02841511369164499, Train loss: 0.07767, Test loss: 0.06420\n",
      "\n",
      "-- Epoch no(iteration no)  21\n",
      "W intercept: [0.56470034 0.5367674  0.52395571 0.46253564 0.43747714 0.407685\n",
      " 0.24877467], B intercept: 0.03306717619119569, Train loss: 0.07652, Test loss: 0.06298\n",
      "\n",
      "-- Epoch no(iteration no)  22\n",
      "W intercept: [0.57887276 0.54637307 0.54414441 0.47110938 0.44803463 0.4127127\n",
      " 0.2572791 ], B intercept: 0.03927265952920025, Train loss: 0.07476, Test loss: 0.06101\n",
      "\n",
      "-- Epoch no(iteration no)  23\n",
      "W intercept: [0.57715017 0.55098296 0.56109841 0.48306055 0.45543871 0.43652\n",
      " 0.25246018], B intercept: 0.05512986056681081, Train loss: 0.07343, Test loss: 0.05986\n",
      "\n",
      "-- Epoch no(iteration no)  24\n",
      "W intercept: [0.59012101 0.56534536 0.5720605  0.49106782 0.45844555 0.43018302\n",
      " 0.25965714], B intercept: 0.04815212586149645, Train loss: 0.07237, Test loss: 0.05847\n",
      "\n",
      "-- Epoch no(iteration no)  25\n",
      "W intercept: [0.6053911  0.57296501 0.58177186 0.49832188 0.46551058 0.43681962\n",
      " 0.26262489], B intercept: 0.04896978005995849, Train loss: 0.07121, Test loss: 0.05702\n",
      "\n",
      "-- Epoch no(iteration no)  26\n",
      "W intercept: [0.61309807 0.57354609 0.5999889  0.50284659 0.46503369 0.43505503\n",
      " 0.26887456], B intercept: 0.06677467623283898, Train loss: 0.07036, Test loss: 0.05631\n",
      "\n",
      "-- Epoch no(iteration no)  27\n",
      "W intercept: [0.62210429 0.58684648 0.61015591 0.51274666 0.46665468 0.4464891\n",
      " 0.27523545], B intercept: 0.053697137952409435, Train loss: 0.06931, Test loss: 0.05485\n",
      "\n",
      "-- Epoch no(iteration no)  28\n",
      "W intercept: [0.63461931 0.59290644 0.61926515 0.52231369 0.47948023 0.45002362\n",
      " 0.27531284], B intercept: 0.05900661259384422, Train loss: 0.06829, Test loss: 0.05363\n",
      "\n",
      "-- Epoch no(iteration no)  29\n",
      "W intercept: [0.64844449 0.60168356 0.6223835  0.52848522 0.4859377  0.46311908\n",
      " 0.27651057], B intercept: 0.05550830829413789, Train loss: 0.06743, Test loss: 0.05242\n",
      "\n",
      "-- Epoch no(iteration no)  30\n",
      "W intercept: [0.65275199 0.61266494 0.63412545 0.53553908 0.49146764 0.46949912\n",
      " 0.28739273], B intercept: 0.052459843698165094, Train loss: 0.06658, Test loss: 0.05139\n",
      "\n",
      "-- Epoch no(iteration no)  31\n",
      "W intercept: [0.66220123 0.618173   0.63906606 0.54460478 0.49445036 0.47411417\n",
      " 0.29085923], B intercept: 0.04564214844880723, Train loss: 0.06599, Test loss: 0.05051\n",
      "\n",
      "-- Epoch no(iteration no)  32\n",
      "W intercept: [0.67388067 0.63556031 0.64994095 0.54927175 0.50253058 0.47958653\n",
      " 0.29176603], B intercept: 0.04710704845099521, Train loss: 0.06500, Test loss: 0.04932\n",
      "\n",
      "-- Epoch no(iteration no)  33\n",
      "W intercept: [0.68007931 0.64343812 0.66238422 0.55441265 0.50806443 0.48111703\n",
      " 0.30358839], B intercept: 0.05393437667609268, Train loss: 0.06424, Test loss: 0.04850\n",
      "\n",
      "-- Epoch no(iteration no)  34\n",
      "W intercept: [0.68534151 0.65490162 0.66431386 0.54757865 0.5084035  0.48413301\n",
      " 0.29096173], B intercept: 0.06152764495851337, Train loss: 0.06398, Test loss: 0.04832\n",
      "\n",
      "-- Epoch no(iteration no)  35\n",
      "W intercept: [0.69526205 0.65812249 0.66853397 0.55899271 0.51601132 0.48656744\n",
      " 0.29087885], B intercept: 0.07083757954182307, Train loss: 0.06336, Test loss: 0.04762\n",
      "\n",
      "-- Epoch no(iteration no)  36\n",
      "W intercept: [0.70024527 0.6640974  0.68148474 0.56424719 0.53053874 0.49173107\n",
      " 0.2959957 ], B intercept: 0.080324033740943, Train loss: 0.06258, Test loss: 0.04678\n",
      "\n",
      "-- Epoch no(iteration no)  37\n",
      "W intercept: [0.70493107 0.6687164  0.69534071 0.57018203 0.52713211 0.51121498\n",
      " 0.29267954], B intercept: 0.09555346172678611, Train loss: 0.06188, Test loss: 0.04618\n",
      "\n",
      "-- Epoch no(iteration no)  38\n",
      "W intercept: [0.70935697 0.67772858 0.70155679 0.57787716 0.53035666 0.49934763\n",
      " 0.29881354], B intercept: 0.08366324216126761, Train loss: 0.06158, Test loss: 0.04564\n",
      "\n",
      "-- Epoch no(iteration no)  39\n",
      "W intercept: [0.71992261 0.68273822 0.71004849 0.58171426 0.533733   0.5040149\n",
      " 0.29903289], B intercept: 0.08909858401939239, Train loss: 0.06103, Test loss: 0.04497\n",
      "\n",
      "-- Epoch no(iteration no)  40\n",
      "W intercept: [0.72790701 0.67852241 0.72486032 0.58453697 0.53293234 0.49932161\n",
      " 0.3055998 ], B intercept: 0.10600448715100383, Train loss: 0.06059, Test loss: 0.04462\n",
      "\n",
      "-- Epoch no(iteration no)  41\n",
      "W intercept: [0.73120752 0.69136076 0.73141041 0.59216786 0.53075309 0.50685055\n",
      " 0.3103007 ], B intercept: 0.09201970729807596, Train loss: 0.06017, Test loss: 0.04394\n",
      "\n",
      "-- Epoch no(iteration no)  42\n",
      "W intercept: [0.74229454 0.69429475 0.73393505 0.59624462 0.54011724 0.51225085\n",
      " 0.30900287], B intercept: 0.10066666963219695, Train loss: 0.05972, Test loss: 0.04336\n",
      "\n",
      "-- Epoch no(iteration no)  43\n",
      "W intercept: [0.74931737 0.70112448 0.73828346 0.5986599  0.54614245 0.518124\n",
      " 0.31263681], B intercept: 0.09043910928029184, Train loss: 0.05938, Test loss: 0.04273\n",
      "\n",
      "-- Epoch no(iteration no)  44\n",
      "W intercept: [0.75638272 0.70843424 0.75015364 0.60670434 0.54777043 0.52201181\n",
      " 0.31867334], B intercept: 0.09322484581529947, Train loss: 0.05883, Test loss: 0.04205\n",
      "\n",
      "-- Epoch no(iteration no)  45\n",
      "W intercept: [0.75779855 0.71748328 0.74951329 0.61198977 0.5528118  0.52590794\n",
      " 0.32125031], B intercept: 0.08797662258358176, Train loss: 0.05861, Test loss: 0.04171\n",
      "\n",
      "-- Epoch no(iteration no)  46\n",
      "W intercept: [0.76641854 0.72924023 0.75724519 0.61928079 0.55655685 0.52700049\n",
      " 0.32101644], B intercept: 0.09127352946610919, Train loss: 0.05809, Test loss: 0.04109\n",
      "\n",
      "-- Epoch no(iteration no)  47\n",
      "W intercept: [0.77430231 0.72771193 0.76834875 0.61564599 0.55984428 0.5226593\n",
      " 0.33107478], B intercept: 0.1008940798320023, Train loss: 0.05777, Test loss: 0.04074\n",
      "\n",
      "-- Epoch no(iteration no)  48\n",
      "W intercept: [0.7786598  0.74024436 0.76786113 0.61536295 0.5604536  0.53207173\n",
      " 0.31855905], B intercept: 0.1050732866071017, Train loss: 0.05753, Test loss: 0.04050\n",
      "\n",
      "-- Epoch no(iteration no) "
     ]
    },
    {
     "name": "stderr",
     "output_type": "stream",
     "text": [
      " 49%|████▊     | 73/150 [00:00<00:00, 238.41it/s]"
     ]
    },
    {
     "name": "stdout",
     "output_type": "stream",
     "text": [
      " 49\n",
      "W intercept: [0.78131761 0.74119532 0.77593174 0.62074849 0.56678277 0.53345468\n",
      " 0.32591436], B intercept: 0.11298601151317461, Train loss: 0.05719, Test loss: 0.04014\n",
      "\n",
      "-- Epoch no(iteration no)  50\n",
      "W intercept: [0.78294303 0.74634078 0.78086949 0.62419804 0.580245   0.54480627\n",
      " 0.32339438], B intercept: 0.11916153271963671, Train loss: 0.05682, Test loss: 0.03972\n",
      "\n",
      "-- Epoch no(iteration no)  51\n",
      "W intercept: [0.79229269 0.75138151 0.79292544 0.6275499  0.576621   0.54592299\n",
      " 0.32244578], B intercept: 0.12871351287251073, Train loss: 0.05641, Test loss: 0.03929\n",
      "\n",
      "-- Epoch no(iteration no)  52\n",
      "W intercept: [0.7900069  0.75826623 0.79678262 0.63629046 0.57617338 0.54071894\n",
      " 0.32629392], B intercept: 0.12100581575001508, Train loss: 0.05629, Test loss: 0.03911\n",
      "\n",
      "-- Epoch no(iteration no)  53\n",
      "W intercept: [0.79623199 0.76255326 0.8106886  0.6357674  0.57734285 0.54146294\n",
      " 0.3244251 ], B intercept: 0.1293482808313726, Train loss: 0.05592, Test loss: 0.03873\n",
      "\n",
      "-- Epoch no(iteration no)  54\n",
      "W intercept: [0.80444482 0.75943351 0.81685177 0.64386739 0.5663165  0.53749474\n",
      " 0.33391522], B intercept: 0.1384209983408364, Train loss: 0.05572, Test loss: 0.03855\n",
      "\n",
      "-- Epoch no(iteration no)  55\n",
      "W intercept: [0.80701164 0.76742828 0.82238176 0.64640402 0.5738957  0.54324882\n",
      " 0.33630499], B intercept: 0.12989630089285273, Train loss: 0.05547, Test loss: 0.03809\n",
      "\n",
      "-- Epoch no(iteration no)  56\n",
      "W intercept: [0.81716359 0.77144107 0.82238793 0.65100639 0.58243281 0.54893647\n",
      " 0.33516748], B intercept: 0.13563080296096855, Train loss: 0.05517, Test loss: 0.03765\n",
      "\n",
      "-- Epoch no(iteration no)  57\n",
      "W intercept: [0.82035882 0.77727904 0.82914991 0.65191271 0.58541053 0.55396353\n",
      " 0.34207528], B intercept: 0.1290941389182468, Train loss: 0.05495, Test loss: 0.03726\n",
      "\n",
      "-- Epoch no(iteration no)  58\n",
      "W intercept: [0.82123835 0.7819769  0.83324908 0.65947856 0.58546459 0.55206938\n",
      " 0.34476978], B intercept: 0.12593415503236477, Train loss: 0.05481, Test loss: 0.03705\n",
      "\n",
      "-- Epoch no(iteration no)  59\n",
      "W intercept: [0.83001422 0.79096428 0.83618405 0.66233732 0.59022323 0.55884101\n",
      " 0.34546486], B intercept: 0.12446350835438157, Train loss: 0.05452, Test loss: 0.03657\n",
      "\n",
      "-- Epoch no(iteration no)  60\n",
      "W intercept: [0.83572622 0.79917001 0.84145992 0.66825286 0.59533543 0.5586832\n",
      " 0.3445563 ], B intercept: 0.12874767972987655, Train loss: 0.05422, Test loss: 0.03621\n",
      "\n",
      "-- Epoch no(iteration no)  61\n",
      "W intercept: [0.84442242 0.7987423  0.84824922 0.6620671  0.59536857 0.55307806\n",
      " 0.35344994], B intercept: 0.13950957833697503, Train loss: 0.05403, Test loss: 0.03601\n",
      "\n",
      "-- Epoch no(iteration no)  62\n",
      "W intercept: [0.84272397 0.80777276 0.84910757 0.66462901 0.59611128 0.56308948\n",
      " 0.34265463], B intercept: 0.14149937664610313, Train loss: 0.05390, Test loss: 0.03593\n",
      "\n",
      "-- Epoch no(iteration no)  63\n",
      "W intercept: [0.84586811 0.80813692 0.85787449 0.66891616 0.60021952 0.56195114\n",
      " 0.34731443], B intercept: 0.14930736605835013, Train loss: 0.05366, Test loss: 0.03568\n",
      "\n",
      "-- Epoch no(iteration no)  64\n",
      "W intercept: [0.84507663 0.81220395 0.85957371 0.66993596 0.61427177 0.57407658\n",
      " 0.34580167], B intercept: 0.1537774054815014, Train loss: 0.05346, Test loss: 0.03544\n",
      "\n",
      "-- Epoch no(iteration no)  65\n",
      "W intercept: [0.84421495 0.81825003 0.86978433 0.67430734 0.60699383 0.56347441\n",
      " 0.3467473 ], B intercept: 0.15706320371136048, Train loss: 0.05332, Test loss: 0.03539\n",
      "\n",
      "-- Epoch no(iteration no)  66\n",
      "W intercept: [0.85075885 0.81998635 0.87669318 0.67914603 0.60600944 0.5661093\n",
      " 0.34638587], B intercept: 0.1605262631543188, Train loss: 0.05311, Test loss: 0.03511\n",
      "\n",
      "-- Epoch no(iteration no)  67\n",
      "W intercept: [0.8548319  0.82365607 0.88677146 0.67724151 0.60568755 0.56627339\n",
      " 0.35177926], B intercept: 0.16938318079974368, Train loss: 0.05287, Test loss: 0.03489\n",
      "\n",
      "-- Epoch no(iteration no)  68\n",
      "W intercept: [0.85749935 0.82470686 0.89191781 0.68389506 0.60058049 0.56166054\n",
      " 0.35633518], B intercept: 0.16915947450158855, Train loss: 0.05276, Test loss: 0.03476\n",
      "\n",
      "-- Epoch no(iteration no)  69\n",
      "W intercept: [0.86342737 0.82744025 0.89285768 0.6897904  0.61238425 0.56659778\n",
      " 0.35610587], B intercept: 0.16776343375869987, Train loss: 0.05258, Test loss: 0.03438\n",
      "\n",
      "-- Epoch no(iteration no)  70\n",
      "W intercept: [0.8726876  0.83246578 0.89489204 0.69303751 0.61335872 0.57391981\n",
      " 0.35518186], B intercept: 0.1689347175071662, Train loss: 0.05238, Test loss: 0.03404\n",
      "\n",
      "-- Epoch no(iteration no)  71\n",
      "W intercept: [0.87473874 0.83774396 0.90056268 0.6933827  0.61567914 0.57666839\n",
      " 0.36132272], B intercept: 0.16561704603004684, Train loss: 0.05224, Test loss: 0.03379\n",
      "\n",
      "-- Epoch no(iteration no)  72\n",
      "W intercept: [0.87768092 0.84128311 0.9029766  0.69827464 0.61421359 0.5753652\n",
      " 0.36410463], B intercept: 0.16119152650877064, Train loss: 0.05215, Test loss: 0.03362\n",
      "\n",
      "-- Epoch no(iteration no)  73\n",
      "W intercept: [0.88456753 0.84890689 0.90613105 0.70153402 0.62015109 0.58119306\n",
      " 0.3660045 ], B intercept: 0.15739920861088308, Train loss: 0.05196, Test loss: 0.03323\n",
      "\n",
      "-- Epoch no(iteration no)  74\n",
      "W intercept: [0.88762851 0.8537406  0.91569107 0.70321118 0.62096732 0.5782045\n",
      " 0.37506256], B intercept: 0.16631505535065716, Train loss: 0.05171, Test loss: 0.03301\n",
      "\n",
      "-- Epoch no(iteration no)  75\n",
      "W intercept: [0.89505374 0.85592382 0.91753075 0.69800714 0.62352986 0.57683407\n",
      " 0.370983  ], B intercept: 0.17814157485111926, Train loss: 0.05159, Test loss: 0.03291\n",
      "\n",
      "-- Epoch no(iteration no)  76\n",
      "W intercept: [0.89172169 0.86063889 0.9155479  0.70184087 0.62400365 0.57970042\n",
      " 0.35991837], B intercept: 0.1799200244155015, Train loss: 0.05158, Test loss: 0.03299\n",
      "\n",
      "-- Epoch no(iteration no)  77\n",
      "W intercept: [0.89656145 0.86384967 0.92341442 0.7044274  0.62772907 0.58112405\n",
      " 0.36495272], B intercept: 0.18330899273252602, Train loss: 0.05138, Test loss: 0.03270\n",
      "\n",
      "-- Epoch no(iteration no)  78\n",
      "W intercept: [0.89084445 0.86255111 0.93133588 0.708086   0.63251479 0.59644248\n",
      " 0.35905117], B intercept: 0.19853619002502587, Train loss: 0.05121, Test loss: 0.03269\n",
      "\n",
      "-- Epoch no(iteration no)  79\n",
      "W intercept: [0.89414261 0.87118355 0.93384965 0.71049152 0.63231058 0.58202456\n",
      " 0.36416804], B intercept: 0.1905970604116097, Train loss: 0.05114, Test loss: 0.03252\n",
      "\n",
      "-- Epoch no(iteration no)  80\n",
      "W intercept: [0.90162746 0.87275599 0.93889843 0.71263978 0.63373939 0.58415741\n",
      " 0.36389789], B intercept: 0.19344228856025047, Train loss: 0.05099, Test loss: 0.03227\n",
      "\n",
      "-- Epoch no(iteration no)  81\n",
      "W intercept: [0.90260316 0.87182486 0.94277851 0.71572766 0.63283306 0.58018212\n",
      " 0.36742546], B intercept: 0.20718253942503229, Train loss: 0.05087, Test loss: 0.03228\n",
      "\n",
      "-- Epoch no(iteration no)  82\n",
      "W intercept: [0.90410218 0.87677267 0.95343286 0.71815313 0.62610186 0.57983462\n",
      " 0.37432246], B intercept: 0.2001499747984131, Train loss: 0.05075, Test loss: 0.03207\n",
      "\n",
      "-- Epoch no(iteration no)  83\n",
      "W intercept: [0.90817753 0.8778077  0.95495835 0.72409309 0.63582168 0.58198622\n",
      " 0.37295405], B intercept: 0.2016319480977476, Train loss: 0.05062, Test loss: 0.03183\n",
      "\n",
      "-- Epoch no(iteration no)  84\n",
      "W intercept: [0.9174045  0.88307683 0.9553201  0.72507366 0.63800664 0.58949508\n",
      " 0.372062  ], B intercept: 0.2020524819220643, Train loss: 0.05049, Test loss: 0.03154\n",
      "\n",
      "-- Epoch no(iteration no)  85\n",
      "W intercept: [0.91808691 0.88783466 0.96062155 0.72480458 0.63974469 0.5916091\n",
      " 0.37843273], B intercept: 0.19725122312025367, Train loss: 0.05040, Test loss: 0.03136\n",
      "\n",
      "-- Epoch no(iteration no)  86\n",
      "W intercept: [0.92145983 0.88830094 0.96115839 0.73063171 0.63899379 0.59201975\n",
      " 0.38166571], B intercept: 0.19099166398399758, Train loss: 0.05037, Test loss: 0.03120\n",
      "\n",
      "-- Epoch no(iteration no)  87\n",
      "W intercept: [0.92677456 0.89869542 0.96571432 0.73244256 0.64293276 0.59508706\n",
      " 0.38226076], B intercept: 0.19084282808337752, Train loss: 0.05019, Test loss: 0.03091\n",
      "\n",
      "-- Epoch no(iteration no)  88\n",
      "W intercept: [0.92817354 0.90141856 0.97355258 0.73384809 0.6440509  0.5930366\n",
      " 0.3912492 ], B intercept: 0.1979790268864351, Train loss: 0.05003, Test loss: 0.03077\n",
      "\n",
      "-- Epoch no(iteration no)  89\n",
      "W intercept: [0.92627152 0.90696645 0.97116129 0.72562637 0.6418323  0.59294153\n",
      " 0.37766587], B intercept: 0.20298615532862216, Train loss: 0.05007, Test loss: 0.03095\n",
      "\n",
      "-- Epoch no(iteration no)  90\n",
      "W intercept: [0.93114411 0.90718113 0.97204538 0.73139715 0.64554316 0.59283125\n",
      " 0.37585404], B intercept: 0.21099323096718414, Train loss: 0.04996, Test loss: 0.03083\n",
      "\n",
      "-- Epoch no(iteration no)  91\n",
      "W intercept: [0.93180819 0.90918214 0.97721369 0.73353901 0.6570663  0.59656358\n",
      " 0.37893066], B intercept: 0.2176916594081328, Train loss: 0.04980, Test loss: 0.03064\n",
      "\n",
      "-- Epoch no(iteration no)  92\n",
      "W intercept: [0.9330708  0.91127317 0.98529518 0.73546084 0.65331805 0.60922622\n",
      " 0.37483476], B intercept: 0.23089072872577274, Train loss: 0.04963, Test loss: 0.03057\n",
      "\n",
      "-- Epoch no(iteration no)  93\n",
      "W intercept: [0.93242128 0.91697053 0.98821916 0.7390963  0.65381063 0.59447087\n",
      " 0.37993684], B intercept: 0.2199196290835769, Train loss: 0.04962, Test loss: 0.03047\n",
      "\n",
      "-- Epoch no(iteration no)  94\n",
      "W intercept: [0.93893631 0.91895959 0.99270297 0.74032585 0.65463848 0.59572085\n",
      " 0.3791557 ], B intercept: 0.22432278861049856, Train loss: 0.04950, Test loss: 0.03028\n",
      "\n",
      "-- Epoch no(iteration no)  95\n",
      "W intercept: [0.94191328 0.91259991 1.00245633 0.74087659 0.65139316 0.5893599\n",
      " 0.38431501], B intercept: 0.2408935616671723, Train loss: 0.04937, Test loss: 0.03029\n",
      "\n",
      "-- Epoch no(iteration no)  96\n",
      "W intercept: [0.94175992 0.92209977 1.00605022 0.74657966 0.6472437  0.59184389\n",
      " 0.38872308], B intercept: 0.22805682951189415, Train loss: 0.04931, Test loss: 0.03009\n",
      "\n",
      "-- Epoch no(iteration no)  97\n",
      "W intercept: [0.94827174 0.92302974 1.00495499 0.74794752 0.65440762 0.595938\n",
      " 0.38643833], B intercept: 0.235555834784309, Train loss: 0.04922, Test loss: 0.02994\n",
      "\n",
      "-- Epoch no(iteration no)  98\n",
      "W intercept: [0.95165185 0.92689173 1.00689897 0.74610271 0.65808777 0.59876336\n",
      " 0.38938483], B intercept: 0.22666603804572574, Train loss: 0.04918, Test loss: 0.02973\n",
      "\n",
      "-- Epoch no(iteration no)  99\n",
      "W intercept: [0.95613687 0.93064586 1.01399135 0.75065594 0.65828435 0.60057017\n",
      " 0.39280188], B intercept: 0.22874258227475394, Train loss: 0.04904, Test loss: 0.02951\n"
     ]
    },
    {
     "name": "stderr",
     "output_type": "stream",
     "text": [
      " 85%|████████▌ | 128/150 [00:00<00:00, 257.51it/s]"
     ]
    },
    {
     "name": "stdout",
     "output_type": "stream",
     "text": [
      "\n",
      "-- Epoch no(iteration no)  100\n",
      "W intercept: [0.95468437 0.93574253 1.01145953 0.75507483 0.6599736  0.60201387\n",
      " 0.39547137], B intercept: 0.22252461439814503, Train loss: 0.04903, Test loss: 0.02946\n",
      "\n",
      "-- Epoch no(iteration no)  101\n",
      "W intercept: [0.96106648 0.94249281 1.01551794 0.75903839 0.662277   0.60481792\n",
      " 0.39685631], B intercept: 0.22031845119033716, Train loss: 0.04891, Test loss: 0.02919\n",
      "\n",
      "-- Epoch no(iteration no)  102\n",
      "W intercept: [0.96328927 0.93855396 1.02148721 0.75495711 0.66247857 0.59540161\n",
      " 0.40303964], B intercept: 0.23345692182606936, Train loss: 0.04882, Test loss: 0.02920\n",
      "\n",
      "-- Epoch no(iteration no)  103\n",
      "W intercept: [0.96261112 0.94764587 1.01952945 0.7524987  0.66118127 0.602847\n",
      " 0.39039171], B intercept: 0.23537733960061527, Train loss: 0.04881, Test loss: 0.02924\n",
      "\n",
      "-- Epoch no(iteration no)  104\n",
      "W intercept: [0.96310073 0.94728801 1.02386654 0.75599164 0.66490673 0.60211452\n",
      " 0.39446138], B intercept: 0.24169140237684894, Train loss: 0.04871, Test loss: 0.02916\n",
      "\n",
      "-- Epoch no(iteration no)  105\n",
      "W intercept: [0.96411666 0.94996908 1.02553636 0.75835865 0.67495447 0.60559431\n",
      " 0.39288656], B intercept: 0.24551979783655317, Train loss: 0.04862, Test loss: 0.02903\n",
      "\n",
      "-- Epoch no(iteration no)  106\n",
      "W intercept: [0.96888786 0.95258563 1.03358801 0.75665477 0.67360938 0.60987004\n",
      " 0.39029629], B intercept: 0.25572916022125897, Train loss: 0.04848, Test loss: 0.02891\n",
      "\n",
      "-- Epoch no(iteration no)  107\n",
      "W intercept: [0.96365596 0.95725607 1.03551795 0.76293742 0.67160594 0.60228904\n",
      " 0.39369504], B intercept: 0.2478596393167716, Train loss: 0.04848, Test loss: 0.02892\n",
      "\n",
      "-- Epoch no(iteration no)  108\n",
      "W intercept: [0.9673357  0.95995264 1.04538304 0.76120498 0.67041599 0.60133401\n",
      " 0.39104085], B intercept: 0.2565149730361485, Train loss: 0.04835, Test loss: 0.02882\n",
      "\n",
      "-- Epoch no(iteration no)  109\n",
      "W intercept: [0.9718714  0.95515267 1.04907052 0.76810049 0.6580677  0.59603876\n",
      " 0.39993053], B intercept: 0.26454752460702824, Train loss: 0.04829, Test loss: 0.02882\n",
      "\n",
      "-- Epoch no(iteration no)  110\n",
      "W intercept: [0.97176463 0.96128804 1.05231052 0.76961006 0.66448076 0.59876295\n",
      " 0.40207703], B intercept: 0.25615215079777065, Train loss: 0.04824, Test loss: 0.02863\n",
      "\n",
      "-- Epoch no(iteration no)  111\n",
      "W intercept: [0.97876642 0.96339549 1.05019982 0.77180865 0.67185827 0.60343866\n",
      " 0.40031611], B intercept: 0.26191239611412725, Train loss: 0.04816, Test loss: 0.02846\n",
      "\n",
      "-- Epoch no(iteration no)  112\n",
      "W intercept: [0.98017043 0.96691992 1.05447962 0.76964601 0.67401843 0.60617841\n",
      " 0.40564065], B intercept: 0.25522965141440457, Train loss: 0.04812, Test loss: 0.02830\n",
      "\n",
      "-- Epoch no(iteration no)  113\n",
      "W intercept: [0.98489383 0.96982588 1.05855783 0.77285671 0.67583405 0.60720689\n",
      " 0.40558042], B intercept: 0.2570502801864461, Train loss: 0.04803, Test loss: 0.02814\n",
      "\n",
      "-- Epoch no(iteration no)  114\n",
      "W intercept: [0.98471172 0.97523353 1.05669839 0.7782777  0.67542841 0.60845667\n",
      " 0.40914462], B intercept: 0.24841640835348416, Train loss: 0.04802, Test loss: 0.02805\n",
      "\n",
      "-- Epoch no(iteration no)  115\n",
      "W intercept: [0.98820495 0.98037097 1.06009092 0.78194667 0.67857539 0.60747461\n",
      " 0.40778864], B intercept: 0.2527516462987851, Train loss: 0.04792, Test loss: 0.02792\n",
      "\n",
      "-- Epoch no(iteration no)  116\n",
      "W intercept: [0.99180063 0.97585771 1.06550707 0.77660249 0.67871867 0.60115974\n",
      " 0.41571155], B intercept: 0.2605878947487985, Train loss: 0.04786, Test loss: 0.02788\n",
      "\n",
      "-- Epoch no(iteration no)  117\n",
      "W intercept: [0.98936226 0.98488529 1.06322137 0.77537605 0.67675656 0.60872431\n",
      " 0.40361786], B intercept: 0.2627688158422356, Train loss: 0.04785, Test loss: 0.02795\n",
      "\n",
      "-- Epoch no(iteration no)  118\n",
      "W intercept: [0.99095279 0.98402475 1.06813497 0.77731752 0.68020576 0.60743418\n",
      " 0.40657229], B intercept: 0.2685413138294893, Train loss: 0.04777, Test loss: 0.02787\n",
      "\n",
      "-- Epoch no(iteration no)  119\n",
      "W intercept: [0.98835614 0.9859172  1.06852578 0.77789285 0.69249178 0.61812481\n",
      " 0.40441786], B intercept: 0.27407987424806646, Train loss: 0.04771, Test loss: 0.02781\n",
      "\n",
      "-- Epoch no(iteration no)  120\n",
      "W intercept: [0.9855776  0.99139275 1.07581591 0.78029864 0.68540753 0.60469709\n",
      " 0.40540362], B intercept: 0.27503145625203845, Train loss: 0.04765, Test loss: 0.02785\n",
      "\n",
      "-- Epoch no(iteration no)  121\n",
      "W intercept: [0.98979941 0.99181449 1.08111025 0.78335387 0.68357537 0.60605356\n",
      " 0.40451898], B intercept: 0.27873273695947454, Train loss: 0.04758, Test loss: 0.02774\n",
      "\n",
      "-- Epoch no(iteration no)  122\n",
      "W intercept: [0.99186887 0.9935994  1.0888353  0.78115159 0.68206209 0.60514206\n",
      " 0.4098014 ], B intercept: 0.2869742724425425, Train loss: 0.04747, Test loss: 0.02767\n",
      "\n",
      "-- Epoch no(iteration no)  123\n",
      "W intercept: [0.99723411 0.99220934 1.09157765 0.78789275 0.67242515 0.60214769\n",
      " 0.41181002], B intercept: 0.2909247426378444, Train loss: 0.04743, Test loss: 0.02763\n",
      "\n",
      "-- Epoch no(iteration no)  124\n",
      "W intercept: [0.99761755 0.99687736 1.09323062 0.79065625 0.67931664 0.60300532\n",
      " 0.41457457], B intercept: 0.2816878987634987, Train loss: 0.04740, Test loss: 0.02745\n",
      "\n",
      "-- Epoch no(iteration no)  125\n",
      "W intercept: [1.00335115 0.99907558 1.0911853  0.79258385 0.686938   0.60815462\n",
      " 0.41180155], B intercept: 0.286997708300118, Train loss: 0.04733, Test loss: 0.02732\n",
      "\n",
      "-- Epoch no(iteration no)  126\n",
      "W intercept: [1.00434257 1.00216062 1.09524085 0.79044539 0.68857237 0.61018553\n",
      " 0.41736557], B intercept: 0.28137563509660396, Train loss: 0.04730, Test loss: 0.02719\n",
      "\n",
      "-- Epoch no(iteration no)  127\n",
      "W intercept: [1.00512337 1.00472527 1.09590961 0.79491951 0.68600032 0.60747743\n",
      " 0.41968704], B intercept: 0.2769921446146688, Train loss: 0.04729, Test loss: 0.02713\n",
      "\n",
      "-- Epoch no(iteration no)  128\n",
      "W intercept: [1.01009186 1.0097819  1.09743288 0.79755617 0.69025427 0.61232619\n",
      " 0.42123949], B intercept: 0.27365259130414565, Train loss: 0.04723, Test loss: 0.02693\n",
      "\n",
      "-- Epoch no(iteration no)  129\n",
      "W intercept: [1.01160548 1.01232683 1.10467806 0.79845776 0.69050953 0.6091522\n",
      " 0.42903936], B intercept: 0.28090325529626786, Train loss: 0.04712, Test loss: 0.02684\n",
      "\n",
      "-- Epoch no(iteration no)  130\n",
      "W intercept: [1.01691922 1.01273681 1.10489447 0.79320384 0.69238196 0.60648141\n",
      " 0.42490254], B intercept: 0.2913194336616052, Train loss: 0.04707, Test loss: 0.02683\n",
      "\n",
      "-- Epoch no(iteration no)  131\n",
      "W intercept: [1.01173013 1.01641398 1.10203708 0.79501913 0.69149013 0.60867919\n",
      " 0.41331568], B intercept: 0.29229525453037636, Train loss: 0.04710, Test loss: 0.02697\n",
      "\n",
      "-- Epoch no(iteration no)  132\n",
      "W intercept: [1.01381608 1.01764136 1.10715167 0.79705547 0.69383076 0.60983616\n",
      " 0.4174593 ], B intercept: 0.29381297253794664, Train loss: 0.04703, Test loss: 0.02684\n",
      "\n",
      "-- Epoch no(iteration no)  133\n",
      "W intercept: [1.00743023 1.01676842 1.11180962 0.79895457 0.69900242 0.62276345\n",
      " 0.41170752], B intercept: 0.3081986006875511, Train loss: 0.04696, Test loss: 0.02693\n",
      "\n",
      "-- Epoch no(iteration no)  134\n",
      "W intercept: [1.00959142 1.02395552 1.11389957 0.79968858 0.69834253 0.60749673\n",
      " 0.41612666], B intercept: 0.3003714447918491, Train loss: 0.04693, Test loss: 0.02683\n",
      "\n",
      "-- Epoch no(iteration no)  135\n",
      "W intercept: [1.01446389 1.02383835 1.11879159 0.80017508 0.69871813 0.60808933\n",
      " 0.41497116], B intercept: 0.30457437177638996, Train loss: 0.04686, Test loss: 0.02672\n",
      "\n",
      "-- Epoch no(iteration no)  136\n",
      "W intercept: [1.01451161 1.02666357 1.12563197 0.80052948 0.69604239 0.60809068\n",
      " 0.4212379 ], B intercept: 0.3106133001731601, Train loss: 0.04678, Test loss: 0.02668\n",
      "\n",
      "-- Epoch no(iteration no)  137\n",
      "W intercept: [1.01476551 1.02660385 1.12829792 0.80527036 0.68975453 0.60185517\n",
      " 0.42514465], B intercept: 0.30938606123000434, Train loss: 0.04676, Test loss: 0.02668\n",
      "\n",
      "-- Epoch no(iteration no)  138\n",
      "W intercept: [1.01773286 1.02719406 1.1286426  0.81009539 0.6990199  0.60363395\n",
      " 0.4237647 ], B intercept: 0.3103394012909392, Train loss: 0.04671, Test loss: 0.02654\n",
      "\n",
      "-- Epoch no(iteration no)  139\n",
      "W intercept: [1.0252154  1.03111903 1.12806011 0.81029852 0.70036686 0.61024153\n",
      " 0.42267626], B intercept: 0.3112546101813158, Train loss: 0.04666, Test loss: 0.02638\n",
      "\n",
      "-- Epoch no(iteration no)  140\n",
      "W intercept: [1.02549981 1.03428379 1.13143342 0.80786257 0.70169596 0.61153963\n",
      " 0.42802737], B intercept: 0.30572932242534684, Train loss: 0.04664, Test loss: 0.02628\n",
      "\n",
      "-- Epoch no(iteration no)  141\n",
      "W intercept: [1.0253348  1.03629188 1.13192328 0.81190591 0.69872281 0.6088157\n",
      " 0.43046933], B intercept: 0.30077408374656733, Train loss: 0.04664, Test loss: 0.02624\n",
      "\n",
      "-- Epoch no(iteration no)  142\n",
      "W intercept: [1.03057239 1.04135973 1.13301716 0.8153136  0.7033777  0.61402824\n",
      " 0.43217993], B intercept: 0.29738519432528115, Train loss: 0.04659, Test loss: 0.02604\n",
      "\n",
      "-- Epoch no(iteration no)  143\n",
      "W intercept: [1.03147373 1.04336087 1.1401725  0.81565172 0.70357756 0.61122134\n",
      " 0.43957623], B intercept: 0.30431872839915947, Train loss: 0.04650, Test loss: 0.02597\n",
      "\n"
     ]
    },
    {
     "name": "stdout",
     "output_type": "stream",
     "text": [
      "-- Epoch no(iteration no)  144\n",
      "W intercept: [1.0376404  1.04452161 1.13951193 0.81072901 0.70465433 0.60854599\n",
      " 0.43534194], B intercept: 0.31554565844202925, Train loss: 0.04645, Test loss: 0.02596\n",
      "\n",
      "-- Epoch no(iteration no)  145\n",
      "W intercept: [1.0310547  1.04668571 1.13700747 0.81154751 0.70355305 0.60953504\n",
      " 0.42378265], B intercept: 0.31571966529733025, Train loss: 0.04649, Test loss: 0.02613\n",
      "\n",
      "-- Epoch no(iteration no)  146\n",
      "W intercept: [1.03037858 1.04752779 1.13965166 0.81272591 0.71424158 0.61293457\n",
      " 0.42573306], B intercept: 0.3215194108980803, Train loss: 0.04642, Test loss: 0.02605\n",
      "\n",
      "-- Epoch no(iteration no)  147\n",
      "W intercept: [1.03017382 1.04869016 1.14650396 0.81292666 0.7101314  0.62383509\n",
      " 0.42124845], B intercept: 0.3345058552053423, Train loss: 0.04635, Test loss: 0.02608\n",
      "\n",
      "-- Epoch no(iteration no)  148\n",
      "W intercept: [1.02841109 1.05395376 1.14797958 0.81578096 0.71043951 0.6081552\n",
      " 0.42634197], B intercept: 0.32309053960707274, Train loss: 0.04634, Test loss: 0.02602\n"
     ]
    },
    {
     "name": "stderr",
     "output_type": "stream",
     "text": [
      "\r",
      "100%|██████████| 150/150 [00:00<00:00, 255.57it/s]"
     ]
    },
    {
     "name": "stdout",
     "output_type": "stream",
     "text": [
      "\n",
      "-- Epoch no(iteration no)  149\n",
      "W intercept: [1.0338136  1.0551011  1.15171965 0.81671907 0.71075615 0.60910684\n",
      " 0.42542062], B intercept: 0.32693159846533576, Train loss: 0.04629, Test loss: 0.02591\n",
      "\n",
      "-- Epoch no(iteration no)  150\n",
      "W intercept: [1.03571715 1.04811292 1.15903591 0.81712199 0.70729945 0.60237102\n",
      " 0.43031593], B intercept: 0.34283103555078326, Train loss: 0.04622, Test loss: 0.02596\n"
     ]
    },
    {
     "name": "stderr",
     "output_type": "stream",
     "text": [
      "\n"
     ]
    }
   ],
   "source": [
    "## importing self made SGD classifier as Classifier 1 \n",
    "import Sgd_classifier as classfier_1\n",
    "alpha=0.01\n",
    "t_rate=0.0075\n",
    "N=len(x_train)\n",
    "epochs=150\n",
    "w,b,loss_train,loss_test=classfier_1.train_classifier(x_train,y_train,x_test,y_test,epochs,alpha,t_rate)"
   ]
  },
  {
   "cell_type": "markdown",
   "metadata": {
    "id": "PNjgLcYRYcIm"
   },
   "source": [
    "<h4>2.1.2 Coding Approach</h4>\n",
    "We send our train data, test data, with learning rate and regularization rate to our classifier. The classifier uses Stochastic gradient descent and updates the weights and bais over the epochs. With each epoch we aim to reduce our loss, when we reach a point where the loss is similar to the loss that was in previous epoch we return then updated weights and bais. These weights and bais that are returned are optimal for making predictions."
   ]
  },
  {
   "cell_type": "markdown",
   "metadata": {
    "id": "ndwbS6ZqaLr3"
   },
   "source": [
    "<h3>2.2 SVM with RBF kernel </h3>"
   ]
  },
  {
   "cell_type": "markdown",
   "metadata": {
    "id": "H-Qtsx6LaTN7"
   },
   "source": [
    "<h4>2.2.1 Function Call</h4>"
   ]
  },
  {
   "cell_type": "code",
   "execution_count": 29,
   "metadata": {},
   "outputs": [],
   "source": [
    "import Svm_classifier as classfier_2\n",
    "\n",
    "a1=classfier_2.SVM(kernel='rbf', C=1.0, max_iter=10, gamma=0.001)\n",
    "a1.fit(x_train,y_train)"
   ]
  },
  {
   "cell_type": "markdown",
   "metadata": {
    "id": "FUu-87k2aXIR"
   },
   "source": [
    "<h4>2.2.2 Coding Approach</h4>\n",
    "\n",
    "<!----> Will be going over the coding how it is done and stuff"
   ]
  },
  {
   "cell_type": "markdown",
   "metadata": {
    "id": "swzuVJ19S1Jr"
   },
   "source": [
    "<h2><center>3. Model Accuracy</center></h2>\n",
    "<em>\n",
    "Here we are going to talk about the model accuracies by using test and train loss graphs, in addition to Confussion Matrix and some ROC curves\n",
    "</em>"
   ]
  },
  {
   "cell_type": "markdown",
   "metadata": {
    "id": "qPy611dMa8Bu"
   },
   "source": [
    "<h3>3.1 Model 1 SGD Classifier with Log Loss</h3>\n"
   ]
  },
  {
   "cell_type": "markdown",
   "metadata": {
    "id": "rI7qXtftah1a"
   },
   "source": [
    "<h4>3.1.1 Prediction accuracies</h4>"
   ]
  },
  {
   "cell_type": "code",
   "execution_count": 25,
   "metadata": {
    "colab": {
     "base_uri": "https://localhost:8080/"
    },
    "id": "057fGPgc6x3_",
    "outputId": "c841cc8b-3706-45a5-886f-2b89fe684824",
    "scrolled": true
   },
   "outputs": [
    {
     "name": "stdout",
     "output_type": "stream",
     "text": [
      "Train_Accuracy : 0.95640\n",
      "Test_Accuracy  : 0.99130\n"
     ]
    }
   ],
   "source": [
    "y_train_pred = classfier_1.predict(w,b,x_train)\n",
    "y_test_pred = classfier_1.predict(w,b,x_test)\n",
    "\n",
    "y_train=y_train.reshape(y_train_pred.shape)\n",
    "print('Train_Accuracy : {:.5f}'.format((y_train ==  y_train_pred).sum() / len(x_train)))\n",
    "y_test=y_test.reshape(y_test_pred.shape)\n",
    "print('Test_Accuracy  : {:.5f}'.format((y_test ==  y_test_pred).sum() / len(x_test)))"
   ]
  },
  {
   "cell_type": "markdown",
   "metadata": {
    "id": "7pAXgaM_bjzs"
   },
   "source": [
    "<h4>3.1.2 Test and Train Loss over Epochs</h4>\n",
    "We will plot graph against the number of epochs with respect to the test and train loss. This will give us insight whehter our code is performing gradient descent in a correct manner."
   ]
  },
  {
   "cell_type": "code",
   "execution_count": 26,
   "metadata": {
    "id": "1gK7yssz073T",
    "scrolled": true
   },
   "outputs": [
    {
     "name": "stdout",
     "output_type": "stream",
     "text": [
      "==============================================================================================================\n"
     ]
    },
    {
     "data": {
      "image/png": "[encoded data removed]",
      "text/plain": [
       "<Figure size 1080x504 with 1 Axes>"
      ]
     },
     "metadata": {},
     "output_type": "display_data"
    }
   ],
   "source": [
    "epochs = np.arange(1, epochs+1, 1)\n",
    "plt.figure(figsize=(15, 7))\n",
    "plt.plot(epochs,loss_train, label='Train Loss', c = 'blue')\n",
    "plt.plot(epochs,loss_test, label='Test Loss',c = 'red')\n",
    "plt.title('Epoch vs Train,Test Loss')\n",
    "plt.xlabel(\"Epochs\")\n",
    "plt.ylabel('Loss')\n",
    "plt.legend()\n",
    "print(110*'=')\n"
   ]
  },
  {
   "cell_type": "markdown",
   "metadata": {
    "id": "qcN8YgFwb0gH"
   },
   "source": [
    "<h4>3.1.3 Confusion Matrix </h4>\n",
    "The AUC score with True Positive Rate and False Positive Rate of the model is mentioned here"
   ]
  },
  {
   "cell_type": "code",
   "execution_count": 27,
   "metadata": {
    "id": "dwjOiXQsTjjO",
    "scrolled": false
   },
   "outputs": [
    {
     "name": "stdout",
     "output_type": "stream",
     "text": [
      "Confusion Matrix\n",
      " [[67  1]\n",
      " [ 0 47]]\n",
      "False Positive Rate :   0.015\n",
      "True Positive Rate  :   1.000\n",
      "Area Under Curve (AUC): 0.991\n"
     ]
    }
   ],
   "source": [
    "#from sklearn.metrics import confusion_matrix\n",
    "import confusion_matrix as cm\n",
    "cm,fpr,recall = cm.confusion_matrix(y_test, y_test_pred)\n",
    "# Accuracy is\n",
    "AUC_score = (cm[0][0] + cm[1][1])/(cm[0][1]+cm[1][0]+cm[0][0] + cm[1][1])\n",
    "print('Confusion Matrix\\n',cm)\n",
    "print('False Positive Rate :   {:.3f}'.format(fpr))\n",
    "print('True Positive Rate  :   {:.3f}'.format(recall))\n",
    "print('Area Under Curve (AUC): {:.3f}'.format(AUC_score))"
   ]
  },
  {
   "cell_type": "markdown",
   "metadata": {},
   "source": [
    "<h3> 3.2 Model 2 SVM with RBF Kernel</h3>"
   ]
  },
  {
   "cell_type": "markdown",
   "metadata": {},
   "source": [
    "<h4>3.2.1 Prediction accuracies</h4>"
   ]
  },
  {
   "cell_type": "code",
   "execution_count": 30,
   "metadata": {},
   "outputs": [
    {
     "name": "stdout",
     "output_type": "stream",
     "text": [
      "Train_Accuracy : 1.0\n",
      "Test_Accuracy  : 0.99130\n"
     ]
    }
   ],
   "source": [
    "\n",
    "y_train_pred_svm = a1.predict(x_train)\n",
    "y_test_pred_svm= a1.predict(x_test)\n",
    "print('Train_Accuracy : {:.1f}'.format((y_train ==  y_train_pred_svm).sum() / len(x_train)))\n",
    "print('Test_Accuracy  : {:.5f}'.format((y_test ==  y_test_pred_svm).sum() / len(x_test)))\n"
   ]
  },
  {
   "cell_type": "markdown",
   "metadata": {},
   "source": [
    "<h4>3.2.2 </h4>\n",
    "<!--->Some grpah here ALP <--->"
   ]
  },
  {
   "cell_type": "code",
   "execution_count": null,
   "metadata": {},
   "outputs": [],
   "source": []
  },
  {
   "cell_type": "markdown",
   "metadata": {},
   "source": [
    "<h4>3.2.3 Confusion Matrix </h4> \n",
    "The AUC score with True Positive Rate and False Positive Rate of the model is mentioned here"
   ]
  },
  {
   "cell_type": "code",
   "execution_count": 31,
   "metadata": {},
   "outputs": [
    {
     "name": "stdout",
     "output_type": "stream",
     "text": [
      "Confusion Matrix\n",
      " [[67  1]\n",
      " [ 0 47]]\n",
      "False Positive Rate :   0.015\n",
      "True Positive Rate  :   1.000\n",
      "Area Under Curve (AUC): 0.991\n"
     ]
    }
   ],
   "source": [
    "import confusion_matrix as cm\n",
    "cm,fpr,recall = cm.confusion_matrix(y_test, y_test_pred_svm)\n",
    "# Accuracy is\n",
    "AUC_score = (cm[0][0] + cm[1][1])/(cm[0][1]+cm[1][0]+cm[0][0] + cm[1][1])\n",
    "print('Confusion Matrix\\n',cm)\n",
    "print('False Positive Rate :   {:.3f}'.format(fpr))\n",
    "print('True Positive Rate  :   {:.3f}'.format(recall))\n",
    "print('Area Under Curve (AUC): {:.3f}'.format(AUC_score))"
   ]
  },
  {
   "cell_type": "markdown",
   "metadata": {
    "id": "XW2Czt08hhqg"
   },
   "source": [
    "<h2><center>Conclusions</center></h2>\n",
    "We were given a task to implement a model that will help classify between M/B(still have to refine these lines).\n",
    "To do this we first normalize and clean the data so that we can get maximum efficiency in our classification model.\n",
    "Then we implement the models that we created using python scripts and make a call back to then in our main IPython notebook.\n",
    "<br> </br>\n",
    "<p>\n",
    "<em>\n",
    "The following are the results obtained for the repesctive implemnted models :-\n",
    "</p>\n",
    "</em>\n",
    "<em>    \n",
    "\n",
    "<br><h4>1. Stochastic Gradient Descent Classifier </h4>\n",
    "<em>\n",
    "    <ol>\n",
    "    <li></li>\n",
    "    <li></li>\n",
    "    <li></li>\n",
    "    </ol>\n",
    "</em>\n",
    "</br>\n",
    "<br><h4>2. Support Vector Machine </h4>\n",
    "<em>\n",
    "    <ol>\n",
    "    <li></li>\n",
    "    <li></li>\n",
    "    <li></li>\n",
    "    </ol>\n",
    "</em>\n",
    "</br>\n",
    "</em>\n",
    "<h2><center>Code's Shortcomings</center></h2>\n",
    "This code works on assumption that #Gradient descents fault... \n",
    "<em>\n",
    "&emsp;<li>Very High Accuracy (Overfitting?) but still high precission and recall? Why?</li>\n",
    "<li>Really Low Data Points </li>\n",
    "<!---> Some shortcommings about the SVMs stuff? What assumptions we make with the SVM stuff?\n"
   ]
  },
  {
   "cell_type": "markdown",
   "metadata": {
    "id": "_tB9iqYfg-NA"
   },
   "source": [
    "<h2><center>References</center></h2>\n"
   ]
  },
  {
   "cell_type": "markdown",
   "metadata": {},
   "source": []
  }
 ],
 "metadata": {
  "colab": {
   "collapsed_sections": [],
   "name": "Main_Code.ipynb",
   "provenance": []
  },
  "kernelspec": {
   "display_name": "Python 3",
   "language": "python",
   "name": "python3"
  },
  "language_info": {
   "codemirror_mode": {
    "name": "ipython",
    "version": 3
   },
   "file_extension": ".py",
   "mimetype": "text/x-python",
   "name": "python",
   "nbconvert_exporter": "python",
   "pygments_lexer": "ipython3",
   "version": "3.8.8"
  }
 },
 "nbformat": 4,
 "nbformat_minor": 1
}
