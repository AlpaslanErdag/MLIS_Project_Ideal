{
 "cells": [
  {
   "cell_type": "code",
   "execution_count": 1,
   "metadata": {
    "id": "e6rrsFyi4Bd9"
   },
   "outputs": [],
   "source": [
    "# This is the main jupyter notebook for the coursework of MLIS \n",
    "## Grp 4B\n",
    "## Authors\n",
    "## Alpaslan Erdag , Anshuman Singh , Yixin Fan\n",
    "## Date - 15/01/2022"
   ]
  },
  {
   "cell_type": "markdown",
   "metadata": {
    "id": "G-IY5zC537OU"
   },
   "source": [
    "<h1> <center> Abstract </center> </h1>\n",
    "​<em>\n",
    "\n",
    "Todo - Write some abstract about the data giving some information about.\n",
    "\n",
    "The data is obtanined from UCI repository which can be obtained from the [here](https://archive.ics.uci.edu/ml/datasets/breast+cancer+wisconsin+%28original%29)\n",
    "</em>"
   ]
  },
  {
   "cell_type": "code",
   "execution_count": 2,
   "metadata": {
    "colab": {
     "base_uri": "https://localhost:8080/"
    },
    "id": "3boaTk7A4FrC",
    "outputId": "28e07a26-0a3f-4422-b507-f887576fdaca"
   },
   "outputs": [
    {
     "name": "stdout",
     "output_type": "stream",
     "text": [
      "Citation Request:\n",
      "   This breast cancer databases was obtained from the University of Wisconsin\n",
      "   Hospitals, Madison from Dr. William H. Wolberg.  If you publish results\n",
      "   when using this database, then please include this information in your\n",
      "   acknowledgements.  Also, please cite one or more of:\n",
      "\n",
      "   1. O. L. Mangasarian and W. H. Wolberg: \"Cancer diagnosis via linear \n",
      "      programming\", SIAM News, Volume 23, Number 5, September 1990, pp 1 & 18.\n",
      "\n",
      "   2. William H. Wolberg and O.L. Mangasarian: \"Multisurface method of \n",
      "      pattern separation for medical diagnosis applied to breast cytology\", \n",
      "      Proceedings of the National Academy of Sciences, U.S.A., Volume 87, \n",
      "      December 1990, pp 9193-9196.\n",
      "\n",
      "   3. O. L. Mangasarian, R. Setiono, and W.H. Wolberg: \"Pattern recognition \n",
      "      via linear programming: Theory and application to medical diagnosis\", \n",
      "      in: \"Large-scale numerical optimization\", Thomas F. Coleman and Yuying\n",
      "      Li, editors, SIAM Publications, Philadelphia 1990, pp 22-30.\n",
      "\n",
      "   4. K. P. Bennett & O. L. Mangasarian: \"Robust linear programming \n",
      "      discrimination of two linearly inseparable sets\", Optimization Methods\n",
      "      and Software 1, 1992, 23-34 (Gordon & Breach Science Publishers).\n",
      "\n",
      "1. Title: Wisconsin Breast Cancer Database (January 8, 1991)\n",
      "\n",
      "2. Sources:\n",
      "   -- Dr. WIlliam H. Wolberg (physician)\n",
      "      University of Wisconsin Hospitals\n",
      "      Madison, Wisconsin\n",
      "      USA\n",
      "   -- Donor: Olvi Mangasarian (mangasarian@cs.wisc.edu)\n",
      "      Received by David W. Aha (aha@cs.jhu.edu)\n",
      "   -- Date: 15 July 1992\n",
      "\n",
      "3. Past Usage:\n",
      "\n",
      "   Attributes 2 through 10 have been used to represent instances.\n",
      "   Each instance has one of 2 possible classes: benign or malignant.\n",
      "\n",
      "   1. Wolberg,~W.~H., \\& Mangasarian,~O.~L. (1990). Multisurface method of \n",
      "      pattern separation for medical diagnosis applied to breast cytology. In\n",
      "      {\\it Proceedings of the National Academy of Sciences}, {\\it 87},\n",
      "      9193--9196.\n",
      "      -- Size of data set: only 369 instances (at that point in time)\n",
      "      -- Collected classification results: 1 trial only\n",
      "      -- Two pairs of parallel hyperplanes were found to be consistent with\n",
      "         50% of the data\n",
      "         -- Accuracy on remaining 50% of dataset: 93.5%\n",
      "      -- Three pairs of parallel hyperplanes were found to be consistent with\n",
      "         67% of data\n",
      "         -- Accuracy on remaining 33% of dataset: 95.9%\n",
      "\n",
      "   2. Zhang,~J. (1992). Selecting typical instances in instance-based\n",
      "      learning.  In {\\it Proceedings of the Ninth International Machine\n",
      "      Learning Conference} (pp. 470--479).  Aberdeen, Scotland: Morgan\n",
      "      Kaufmann.\n",
      "      -- Size of data set: only 369 instances (at that point in time)\n",
      "      -- Applied 4 instance-based learning algorithms \n",
      "      -- Collected classification results averaged over 10 trials\n",
      "      -- Best accuracy result: \n",
      "         -- 1-nearest neighbor: 93.7%\n",
      "         -- trained on 200 instances, tested on the other 169\n",
      "      -- Also of interest:\n",
      "         -- Using only typical instances: 92.2% (storing only 23.1 instances)\n",
      "         -- trained on 200 instances, tested on the other 169\n",
      "\n",
      "4. Relevant Information:\n",
      "\n",
      "   Samples arrive periodically as Dr. Wolberg reports his clinical cases.\n",
      "   The database therefore reflects this chronological grouping of the data.\n",
      "   This grouping information appears immediately below, having been removed\n",
      "   from the data itself:\n",
      "\n",
      "     Group 1: 367 instances (January 1989)\n",
      "     Group 2:  70 instances (October 1989)\n",
      "     Group 3:  31 instances (February 1990)\n",
      "     Group 4:  17 instances (April 1990)\n",
      "     Group 5:  48 instances (August 1990)\n",
      "     Group 6:  49 instances (Updated January 1991)\n",
      "     Group 7:  31 instances (June 1991)\n",
      "     Group 8:  86 instances (November 1991)\n",
      "     -----------------------------------------\n",
      "     Total:   699 points (as of the donated datbase on 15 July 1992)\n",
      "\n",
      "   Note that the results summarized above in Past Usage refer to a dataset\n",
      "   of size 369, while Group 1 has only 367 instances.  This is because it\n",
      "   originally contained 369 instances; 2 were removed.  The following\n",
      "   statements summarizes changes to the original Group 1's set of data:\n",
      "\n",
      "   #####  Group 1 : 367 points: 200B 167M (January 1989)\n",
      "   #####  Revised Jan 10, 1991: Replaced zero bare nuclei in 1080185 & 1187805\n",
      "   #####  Revised Nov 22,1991: Removed 765878,4,5,9,7,10,10,10,3,8,1 no record\n",
      "   #####                  : Removed 484201,2,7,8,8,4,3,10,3,4,1 zero epithelial\n",
      "   #####                  : Changed 0 to 1 in field 6 of sample 1219406\n",
      "   #####                  : Changed 0 to 1 in field 8 of following sample:\n",
      "   #####                  : 1182404,2,3,1,1,1,2,0,1,1,1\n",
      "\n",
      "5. Number of Instances: 699 (as of 15 July 1992)\n",
      "\n",
      "6. Number of Attributes: 10 plus the class attribute\n",
      "\n",
      "7. Attribute Information: (class attribute has been moved to last column)\n",
      "\n",
      "   #  Attribute                     Domain\n",
      "   -- -----------------------------------------\n",
      "   1. Sample code number            id number\n",
      "   2. Clump Thickness               1 - 10\n",
      "   3. Uniformity of Cell Size       1 - 10\n",
      "   4. Uniformity of Cell Shape      1 - 10\n",
      "   5. Marginal Adhesion             1 - 10\n",
      "   6. Single Epithelial Cell Size   1 - 10\n",
      "   7. Bare Nuclei                   1 - 10\n",
      "   8. Bland Chromatin               1 - 10\n",
      "   9. Normal Nucleoli               1 - 10\n",
      "  10. Mitoses                       1 - 10\n",
      "  11. Class:                        (2 for benign, 4 for malignant)\n",
      "\n",
      "8. Missing attribute values: 16\n",
      "\n",
      "   There are 16 instances in Groups 1 to 6 that contain a single missing \n",
      "   (i.e., unavailable) attribute value, now denoted by \"?\".  \n",
      "\n",
      "9. Class distribution:\n",
      " \n",
      "   Benign: 458 (65.5%)\n",
      "   Malignant: 241 (34.5%)\n",
      "\n"
     ]
    }
   ],
   "source": [
    "# Also should we show this ? tell me your thoughts\n",
    "about_data ='/Users/anshuman/Desktop/Project_Folder/MLIS_Project_Ideal/breast-cancer-wisconsin.names'\n",
    "#about_data = '/content/breast-cancer-wisconsin.names'\n",
    "with open(about_data) as f:\n",
    "    print(f.read())"
   ]
  },
  {
   "cell_type": "markdown",
   "metadata": {
    "id": "ZN6gh3N24R-W"
   },
   "source": [
    "<h1><center>About code (Suggest a good heading)</center></h1>\n",
    "\n",
    "<h2><em>The code is divided in the following modules/parts/chapters?</h2>\n",
    "<ol>\n",
    "<li> <h4> Data Cleaning and Data Preprocessing </h4></li> \n",
    "<li> <h4>Model Fiting on the clean data </h4></li> \n",
    "<li> <h4>Model Accuracy </h4></li>\n",
    "</ol>\n",
    "</em>"
   ]
  },
  {
   "cell_type": "markdown",
   "metadata": {
    "id": "0TONMQnQ4SDg"
   },
   "source": [
    "<h2><center>1. Data Cleaning and Data Preprocessing</center></h2>\n",
    "\n",
    "<p>To get a good result over model accuracies we are going to first clean the data and then used the cleaned and preprocessed data to train a model. </p>\n",
    "\n",
    "<p> We will be using a systematic approach to clean our data. That will be listed in the following steps</p>\n",
    "<em>\n",
    "&emsp; <li>Data Visulaization</li>\n",
    "&emsp; <li>Checking and Removing nan values</li>\n",
    "&emsp; <li>Removing Useless Attributes</li>\n",
    "&emsp; <li>Deleting Outliers and Data Normalizations</li>\n",
    "</em>"
   ]
  },
  {
   "cell_type": "markdown",
   "metadata": {
    "id": "-daRoybV4SJI"
   },
   "source": [
    "<h3>1.1 Data Visualization </h3>"
   ]
  },
  {
   "cell_type": "markdown",
   "metadata": {
    "id": "dRQhoFvkfl-R"
   },
   "source": [
    "<h4>1.1.1 Code </h4>"
   ]
  },
  {
   "cell_type": "code",
   "execution_count": 3,
   "metadata": {
    "id": "sK9S6Bky4RlC"
   },
   "outputs": [],
   "source": [
    "## Header Files \n",
    "import pandas as pd\n",
    "import numpy as np\n",
    "import warnings\n",
    "warnings.filterwarnings('ignore')\n",
    "import matplotlib.pyplot as plt\n",
    "import seaborn as sns\n",
    "plt.style.use('ggplot')\n",
    "import scipy\n",
    "\n",
    "## Loading Data \n",
    "data = '/Users/anshuman/Desktop/Project_Folder/MLIS_Project_Ideal/breast-cancer-wisconsin.data'\n",
    "#data = '/content/breast-cancer-wisconsin.data'"
   ]
  },
  {
   "cell_type": "code",
   "execution_count": 4,
   "metadata": {
    "id": "xL5c7NTs4omD",
    "scrolled": true
   },
   "outputs": [
    {
     "data": {
      "text/html": [
       "<div>\n",
       "<style scoped>\n",
       "    .dataframe tbody tr th:only-of-type {\n",
       "        vertical-align: middle;\n",
       "    }\n",
       "\n",
       "    .dataframe tbody tr th {\n",
       "        vertical-align: top;\n",
       "    }\n",
       "\n",
       "    .dataframe thead th {\n",
       "        text-align: right;\n",
       "    }\n",
       "</style>\n",
       "<table border=\"1\" class=\"dataframe\">\n",
       "  <thead>\n",
       "    <tr style=\"text-align: right;\">\n",
       "      <th></th>\n",
       "      <th>Samplecodenumber</th>\n",
       "      <th>ClumpThickness</th>\n",
       "      <th>UniformityofCellSize</th>\n",
       "      <th>UniformityofCellShape</th>\n",
       "      <th>MarginalAdhesion</th>\n",
       "      <th>SingleEpithelialCellSize</th>\n",
       "      <th>BareNuclei</th>\n",
       "      <th>BlandChromatin</th>\n",
       "      <th>NormalNucleoli</th>\n",
       "      <th>Mitoses</th>\n",
       "      <th>Class</th>\n",
       "    </tr>\n",
       "  </thead>\n",
       "  <tbody>\n",
       "    <tr>\n",
       "      <th>0</th>\n",
       "      <td>1000025</td>\n",
       "      <td>5</td>\n",
       "      <td>1</td>\n",
       "      <td>1</td>\n",
       "      <td>1</td>\n",
       "      <td>2</td>\n",
       "      <td>1</td>\n",
       "      <td>3</td>\n",
       "      <td>1</td>\n",
       "      <td>1</td>\n",
       "      <td>2</td>\n",
       "    </tr>\n",
       "    <tr>\n",
       "      <th>1</th>\n",
       "      <td>1002945</td>\n",
       "      <td>5</td>\n",
       "      <td>4</td>\n",
       "      <td>4</td>\n",
       "      <td>5</td>\n",
       "      <td>7</td>\n",
       "      <td>10</td>\n",
       "      <td>3</td>\n",
       "      <td>2</td>\n",
       "      <td>1</td>\n",
       "      <td>2</td>\n",
       "    </tr>\n",
       "    <tr>\n",
       "      <th>2</th>\n",
       "      <td>1015425</td>\n",
       "      <td>3</td>\n",
       "      <td>1</td>\n",
       "      <td>1</td>\n",
       "      <td>1</td>\n",
       "      <td>2</td>\n",
       "      <td>2</td>\n",
       "      <td>3</td>\n",
       "      <td>1</td>\n",
       "      <td>1</td>\n",
       "      <td>2</td>\n",
       "    </tr>\n",
       "    <tr>\n",
       "      <th>3</th>\n",
       "      <td>1016277</td>\n",
       "      <td>6</td>\n",
       "      <td>8</td>\n",
       "      <td>8</td>\n",
       "      <td>1</td>\n",
       "      <td>3</td>\n",
       "      <td>4</td>\n",
       "      <td>3</td>\n",
       "      <td>7</td>\n",
       "      <td>1</td>\n",
       "      <td>2</td>\n",
       "    </tr>\n",
       "    <tr>\n",
       "      <th>4</th>\n",
       "      <td>1017023</td>\n",
       "      <td>4</td>\n",
       "      <td>1</td>\n",
       "      <td>1</td>\n",
       "      <td>3</td>\n",
       "      <td>2</td>\n",
       "      <td>1</td>\n",
       "      <td>3</td>\n",
       "      <td>1</td>\n",
       "      <td>1</td>\n",
       "      <td>2</td>\n",
       "    </tr>\n",
       "  </tbody>\n",
       "</table>\n",
       "</div>"
      ],
      "text/plain": [
       "   Samplecodenumber  ClumpThickness  UniformityofCellSize  \\\n",
       "0           1000025               5                     1   \n",
       "1           1002945               5                     4   \n",
       "2           1015425               3                     1   \n",
       "3           1016277               6                     8   \n",
       "4           1017023               4                     1   \n",
       "\n",
       "   UniformityofCellShape  MarginalAdhesion  SingleEpithelialCellSize  \\\n",
       "0                      1                 1                         2   \n",
       "1                      4                 5                         7   \n",
       "2                      1                 1                         2   \n",
       "3                      8                 1                         3   \n",
       "4                      1                 3                         2   \n",
       "\n",
       "  BareNuclei  BlandChromatin  NormalNucleoli  Mitoses  Class  \n",
       "0          1               3               1        1      2  \n",
       "1         10               3               2        1      2  \n",
       "2          2               3               1        1      2  \n",
       "3          4               3               7        1      2  \n",
       "4          1               3               1        1      2  "
      ]
     },
     "execution_count": 4,
     "metadata": {},
     "output_type": "execute_result"
    }
   ],
   "source": [
    "# Nameing the columms\n",
    "col_name = ['Samplecodenumber','ClumpThickness','UniformityofCellSize','UniformityofCellShape',\n",
    "            'MarginalAdhesion','SingleEpithelialCellSize','BareNuclei',\n",
    "            'BlandChromatin','NormalNucleoli','Mitoses','Class']\n",
    "cancerdata = pd.read_csv(data,low_memory=False,names=col_name)\n",
    "cancerdata.head()"
   ]
  },
  {
   "cell_type": "code",
   "execution_count": 5,
   "metadata": {
    "id": "oOGBeeDS4opZ"
   },
   "outputs": [],
   "source": [
    "## Removing attribute that is of no use\n",
    "cancerdata = cancerdata.drop(['Samplecodenumber'], 1)"
   ]
  },
  {
   "cell_type": "code",
   "execution_count": 6,
   "metadata": {
    "id": "nV7-qayy4orv"
   },
   "outputs": [
    {
     "data": {
      "text/plain": [
       "2    458\n",
       "4    241\n",
       "Name: Class, dtype: int64"
      ]
     },
     "execution_count": 6,
     "metadata": {},
     "output_type": "execute_result"
    }
   ],
   "source": [
    "# The number of samples present by class count\n",
    "cancerdata['Class'].value_counts()"
   ]
  },
  {
   "cell_type": "code",
   "execution_count": 7,
   "metadata": {
    "id": "iY_4Kw5F4ous"
   },
   "outputs": [
    {
     "data": {
      "text/html": [
       "<div>\n",
       "<style scoped>\n",
       "    .dataframe tbody tr th:only-of-type {\n",
       "        vertical-align: middle;\n",
       "    }\n",
       "\n",
       "    .dataframe tbody tr th {\n",
       "        vertical-align: top;\n",
       "    }\n",
       "\n",
       "    .dataframe thead th {\n",
       "        text-align: right;\n",
       "    }\n",
       "</style>\n",
       "<table border=\"1\" class=\"dataframe\">\n",
       "  <thead>\n",
       "    <tr style=\"text-align: right;\">\n",
       "      <th></th>\n",
       "      <th>ClumpThickness</th>\n",
       "      <th>UniformityofCellSize</th>\n",
       "      <th>UniformityofCellShape</th>\n",
       "      <th>MarginalAdhesion</th>\n",
       "      <th>SingleEpithelialCellSize</th>\n",
       "      <th>BareNuclei</th>\n",
       "      <th>BlandChromatin</th>\n",
       "      <th>NormalNucleoli</th>\n",
       "      <th>Mitoses</th>\n",
       "      <th>classes</th>\n",
       "    </tr>\n",
       "  </thead>\n",
       "  <tbody>\n",
       "    <tr>\n",
       "      <th>0</th>\n",
       "      <td>5</td>\n",
       "      <td>1</td>\n",
       "      <td>1</td>\n",
       "      <td>1</td>\n",
       "      <td>2</td>\n",
       "      <td>1</td>\n",
       "      <td>3</td>\n",
       "      <td>1</td>\n",
       "      <td>1</td>\n",
       "      <td>0</td>\n",
       "    </tr>\n",
       "    <tr>\n",
       "      <th>1</th>\n",
       "      <td>4</td>\n",
       "      <td>1</td>\n",
       "      <td>1</td>\n",
       "      <td>3</td>\n",
       "      <td>2</td>\n",
       "      <td>1</td>\n",
       "      <td>3</td>\n",
       "      <td>1</td>\n",
       "      <td>1</td>\n",
       "      <td>0</td>\n",
       "    </tr>\n",
       "    <tr>\n",
       "      <th>2</th>\n",
       "      <td>8</td>\n",
       "      <td>10</td>\n",
       "      <td>10</td>\n",
       "      <td>8</td>\n",
       "      <td>7</td>\n",
       "      <td>10</td>\n",
       "      <td>9</td>\n",
       "      <td>7</td>\n",
       "      <td>1</td>\n",
       "      <td>1</td>\n",
       "    </tr>\n",
       "    <tr>\n",
       "      <th>3</th>\n",
       "      <td>2</td>\n",
       "      <td>1</td>\n",
       "      <td>1</td>\n",
       "      <td>1</td>\n",
       "      <td>2</td>\n",
       "      <td>1</td>\n",
       "      <td>1</td>\n",
       "      <td>1</td>\n",
       "      <td>5</td>\n",
       "      <td>0</td>\n",
       "    </tr>\n",
       "    <tr>\n",
       "      <th>4</th>\n",
       "      <td>4</td>\n",
       "      <td>2</td>\n",
       "      <td>1</td>\n",
       "      <td>1</td>\n",
       "      <td>2</td>\n",
       "      <td>1</td>\n",
       "      <td>2</td>\n",
       "      <td>1</td>\n",
       "      <td>1</td>\n",
       "      <td>0</td>\n",
       "    </tr>\n",
       "  </tbody>\n",
       "</table>\n",
       "</div>"
      ],
      "text/plain": [
       "   ClumpThickness  UniformityofCellSize  UniformityofCellShape  \\\n",
       "0               5                     1                      1   \n",
       "1               4                     1                      1   \n",
       "2               8                    10                     10   \n",
       "3               2                     1                      1   \n",
       "4               4                     2                      1   \n",
       "\n",
       "   MarginalAdhesion  SingleEpithelialCellSize BareNuclei  BlandChromatin  \\\n",
       "0                 1                         2          1               3   \n",
       "1                 3                         2          1               3   \n",
       "2                 8                         7         10               9   \n",
       "3                 1                         2          1               1   \n",
       "4                 1                         2          1               2   \n",
       "\n",
       "   NormalNucleoli  Mitoses  classes  \n",
       "0               1        1        0  \n",
       "1               1        1        0  \n",
       "2               7        1        1  \n",
       "3               1        5        0  \n",
       "4               1        1        0  "
      ]
     },
     "execution_count": 7,
     "metadata": {},
     "output_type": "execute_result"
    }
   ],
   "source": [
    "# Making the class counts to similar size\n",
    "Benign = cancerdata[(cancerdata.Class == 2) ].sample(240).index\n",
    "Malignant = cancerdata[(cancerdata.Class == 4) ].sample(240).index\n",
    "cancer = cancerdata.loc[Benign|Malignant]\n",
    "cancer = cancer.reset_index(drop=True)\n",
    "\n",
    "# Making the classess from 2/4 to 0/1 \n",
    "cancer['classes'] = cancer.Class.map({2:0,4:1})\n",
    "cancer = cancer.drop(['Class'], 1)\n",
    "\n",
    "# Printing the updated dataframe\n",
    "cancer.head()"
   ]
  },
  {
   "cell_type": "code",
   "execution_count": 8,
   "metadata": {
    "id": "2gLfIN6F4oxH"
   },
   "outputs": [
    {
     "data": {
      "text/plain": [
       "0    240\n",
       "1    240\n",
       "Name: classes, dtype: int64"
      ]
     },
     "execution_count": 8,
     "metadata": {},
     "output_type": "execute_result"
    }
   ],
   "source": [
    "# Confirming that counts of the classes are similar \n",
    "cancer['classes'].value_counts()\n"
   ]
  },
  {
   "cell_type": "code",
   "execution_count": 9,
   "metadata": {
    "id": "FxwBcGnk429U",
    "scrolled": false
   },
   "outputs": [
    {
     "data": {
      "image/png": "[encoded data removed]",
      "text/plain": [
       "<Figure size 1296x1296 with 9 Axes>"
      ]
     },
     "metadata": {},
     "output_type": "display_data"
    }
   ],
   "source": [
    "# plot date variables and find the variables with similar distributions, keep only one of them.\n",
    "#['ClumpThickness','UniformityofCellSize','UniformityofCellShape','MarginalAdhesion',\n",
    "#'SingleEpithelialCellSize','BareNuclei','BlandChromatin','NormalNucleoli','Mitoses']\n",
    "fig, axs = plt.subplots(3, 3, figsize=(18,18))\n",
    "axs[0,0].hist(cancer['ClumpThickness'])\n",
    "axs[0,0].set_title(\"ClumpThickness\")\n",
    "axs[0,1].hist(cancer['UniformityofCellSize'])\n",
    "axs[0,1].set_title(\"UniformityofCellSize\")\n",
    "axs[0,2].hist(cancer['UniformityofCellShape'])\n",
    "axs[0,2].set_title(\"UniformityofCellShape\")\n",
    "axs[1,0].hist(cancer['MarginalAdhesion'])\n",
    "axs[1,0].set_title(\"MarginalAdhesion\")\n",
    "axs[1,1].hist(cancer['SingleEpithelialCellSize'])\n",
    "axs[1,1].set_title(\"SingleEpithelialCellSize\")\n",
    "axs[1,2].hist(cancer['BareNuclei'])\n",
    "axs[1,2].set_title(\"BareNuclei\")\n",
    "axs[2,0].hist(cancer['BlandChromatin'])\n",
    "axs[2,0].set_title(\"BlandChromatin\")\n",
    "axs[2,1].hist(cancer['NormalNucleoli'])\n",
    "axs[2,1].set_title(\"NormalNucleoli\")\n",
    "axs[2,2].hist(cancer['Mitoses'])\n",
    "axs[2,2].set_title(\"Mitoses\")\n",
    "fig.tight_layout()"
   ]
  },
  {
   "cell_type": "markdown",
   "metadata": {
    "id": "wdpWrB3HWel7"
   },
   "source": [
    "<h4>1.1.2 Observations </h4>\n",
    "<ol>\n",
    "    <li>The class counts is in a 2:1 ratio with benign being 458 and malignant being 241</li>\n",
    "    <li>The graph shows that data is very skewed for every attribute</li>\n",
    "</ol>\n",
    "<h4>1.1.3 Approach </h4>\n",
    "<ol>\n",
    "    <li>First we make the class ratio 1:1 and making data points to 240 for each class</li>\n",
    "</ol>"
   ]
  },
  {
   "cell_type": "markdown",
   "metadata": {
    "id": "fPcTVTlE46vC"
   },
   "source": [
    "<h3>1.2 Checking and Removing nan values</h3>"
   ]
  },
  {
   "cell_type": "markdown",
   "metadata": {
    "id": "wbaWQwlpfyif"
   },
   "source": [
    "<h4>1.2.1 Code </h4>"
   ]
  },
  {
   "cell_type": "code",
   "execution_count": 10,
   "metadata": {
    "id": "dJclAfmh49KE"
   },
   "outputs": [
    {
     "data": {
      "text/plain": [
       "int64     9\n",
       "object    1\n",
       "dtype: int64"
      ]
     },
     "execution_count": 10,
     "metadata": {},
     "output_type": "execute_result"
    }
   ],
   "source": [
    "# Printing all the value counts \n",
    "cancer.dtypes.value_counts()"
   ]
  },
  {
   "cell_type": "code",
   "execution_count": 11,
   "metadata": {
    "id": "3DCa8TIj4_Ty"
   },
   "outputs": [
    {
     "data": {
      "text/html": [
       "<div>\n",
       "<style scoped>\n",
       "    .dataframe tbody tr th:only-of-type {\n",
       "        vertical-align: middle;\n",
       "    }\n",
       "\n",
       "    .dataframe tbody tr th {\n",
       "        vertical-align: top;\n",
       "    }\n",
       "\n",
       "    .dataframe thead th {\n",
       "        text-align: right;\n",
       "    }\n",
       "</style>\n",
       "<table border=\"1\" class=\"dataframe\">\n",
       "  <thead>\n",
       "    <tr style=\"text-align: right;\">\n",
       "      <th></th>\n",
       "      <th>BareNuclei</th>\n",
       "    </tr>\n",
       "  </thead>\n",
       "  <tbody>\n",
       "    <tr>\n",
       "      <th>0</th>\n",
       "      <td>1</td>\n",
       "    </tr>\n",
       "    <tr>\n",
       "      <th>1</th>\n",
       "      <td>1</td>\n",
       "    </tr>\n",
       "    <tr>\n",
       "      <th>2</th>\n",
       "      <td>10</td>\n",
       "    </tr>\n",
       "    <tr>\n",
       "      <th>3</th>\n",
       "      <td>1</td>\n",
       "    </tr>\n",
       "    <tr>\n",
       "      <th>4</th>\n",
       "      <td>1</td>\n",
       "    </tr>\n",
       "    <tr>\n",
       "      <th>...</th>\n",
       "      <td>...</td>\n",
       "    </tr>\n",
       "    <tr>\n",
       "      <th>475</th>\n",
       "      <td>1</td>\n",
       "    </tr>\n",
       "    <tr>\n",
       "      <th>476</th>\n",
       "      <td>1</td>\n",
       "    </tr>\n",
       "    <tr>\n",
       "      <th>477</th>\n",
       "      <td>3</td>\n",
       "    </tr>\n",
       "    <tr>\n",
       "      <th>478</th>\n",
       "      <td>4</td>\n",
       "    </tr>\n",
       "    <tr>\n",
       "      <th>479</th>\n",
       "      <td>5</td>\n",
       "    </tr>\n",
       "  </tbody>\n",
       "</table>\n",
       "<p>480 rows × 1 columns</p>\n",
       "</div>"
      ],
      "text/plain": [
       "    BareNuclei\n",
       "0            1\n",
       "1            1\n",
       "2           10\n",
       "3            1\n",
       "4            1\n",
       "..         ...\n",
       "475          1\n",
       "476          1\n",
       "477          3\n",
       "478          4\n",
       "479          5\n",
       "\n",
       "[480 rows x 1 columns]"
      ]
     },
     "execution_count": 11,
     "metadata": {},
     "output_type": "execute_result"
    }
   ],
   "source": [
    "# Printing data types\n",
    "cancer.select_dtypes('object')"
   ]
  },
  {
   "cell_type": "code",
   "execution_count": 12,
   "metadata": {
    "id": "1CyRzBnb6XnU"
   },
   "outputs": [
    {
     "data": {
      "text/html": [
       "<div>\n",
       "<style scoped>\n",
       "    .dataframe tbody tr th:only-of-type {\n",
       "        vertical-align: middle;\n",
       "    }\n",
       "\n",
       "    .dataframe tbody tr th {\n",
       "        vertical-align: top;\n",
       "    }\n",
       "\n",
       "    .dataframe thead th {\n",
       "        text-align: right;\n",
       "    }\n",
       "</style>\n",
       "<table border=\"1\" class=\"dataframe\">\n",
       "  <thead>\n",
       "    <tr style=\"text-align: right;\">\n",
       "      <th></th>\n",
       "      <th>Count</th>\n",
       "      <th>Percent</th>\n",
       "    </tr>\n",
       "  </thead>\n",
       "  <tbody>\n",
       "    <tr>\n",
       "      <th>BareNuclei</th>\n",
       "      <td>13</td>\n",
       "      <td>2.708333</td>\n",
       "    </tr>\n",
       "  </tbody>\n",
       "</table>\n",
       "</div>"
      ],
      "text/plain": [
       "            Count   Percent\n",
       "BareNuclei     13  2.708333"
      ]
     },
     "execution_count": 12,
     "metadata": {},
     "output_type": "execute_result"
    }
   ],
   "source": [
    "#Replacing nan Values\n",
    "cancer = cancer.replace('?' ,np.nan)\n",
    "\n",
    "##Finding the the count and percentage of values that are missing in the dataframe.\n",
    "null1 = pd.DataFrame({'Count': cancer.isnull().sum(), 'Percent': 100*cancer.isnull().sum()/len(cancer)})\n",
    "\n",
    "##printing columns with null count more than 0\n",
    "null1[null1['Count'] > 0]"
   ]
  },
  {
   "cell_type": "code",
   "execution_count": 13,
   "metadata": {
    "id": "mQKh6EdQ6Xrk"
   },
   "outputs": [],
   "source": [
    "## Filling the columns with nan values with mean of the data\n",
    "cancer[\"BareNuclei\"]=cancer[\"BareNuclei\"].astype(float)\n",
    "cancer=cancer.fillna(cancer.mean())"
   ]
  },
  {
   "cell_type": "markdown",
   "metadata": {
    "id": "PHIdqxDmWMPe"
   },
   "source": [
    "<h4>1.2.2 Observations </h4>\n",
    "<ol>\n",
    "    <li>We obsereve that there is one attribute that is not in integer format</li>\n",
    "    <li>We find that there are nan values in BareNuclei</li>\n",
    "</ol>\n",
    "<h4>1.2.3 Approach </h4>\n",
    "<ol>\n",
    "    <li>We find that BareNuclei is a object type attribute so we convert it to float</li>\n",
    "    <li>We replace nan values in BareNuclei with mean value of BareNuclei</li>\n",
    "</ol>"
   ]
  },
  {
   "cell_type": "markdown",
   "metadata": {
    "id": "uf89AePf6nsZ"
   },
   "source": [
    "<h3>1.3 Removing Useless Attributes </h3>"
   ]
  },
  {
   "cell_type": "markdown",
   "metadata": {
    "id": "aF8wcn9Gf3au"
   },
   "source": [
    "<h4>1.3.1 Code </h4>"
   ]
  },
  {
   "cell_type": "code",
   "execution_count": 14,
   "metadata": {
    "id": "e1xo7hxe6Xv1"
   },
   "outputs": [
    {
     "data": {
      "text/html": [
       "<div>\n",
       "<style scoped>\n",
       "    .dataframe tbody tr th:only-of-type {\n",
       "        vertical-align: middle;\n",
       "    }\n",
       "\n",
       "    .dataframe tbody tr th {\n",
       "        vertical-align: top;\n",
       "    }\n",
       "\n",
       "    .dataframe thead th {\n",
       "        text-align: right;\n",
       "    }\n",
       "</style>\n",
       "<table border=\"1\" class=\"dataframe\">\n",
       "  <thead>\n",
       "    <tr style=\"text-align: right;\">\n",
       "      <th></th>\n",
       "      <th>classes</th>\n",
       "      <th>UniformityofCellSize</th>\n",
       "      <th>UniformityofCellShape</th>\n",
       "      <th>BareNuclei</th>\n",
       "      <th>BlandChromatin</th>\n",
       "      <th>ClumpThickness</th>\n",
       "      <th>NormalNucleoli</th>\n",
       "      <th>MarginalAdhesion</th>\n",
       "      <th>SingleEpithelialCellSize</th>\n",
       "      <th>Mitoses</th>\n",
       "    </tr>\n",
       "  </thead>\n",
       "  <tbody>\n",
       "    <tr>\n",
       "      <th>0</th>\n",
       "      <td>0</td>\n",
       "      <td>1</td>\n",
       "      <td>1</td>\n",
       "      <td>1.0</td>\n",
       "      <td>3</td>\n",
       "      <td>5</td>\n",
       "      <td>1</td>\n",
       "      <td>1</td>\n",
       "      <td>2</td>\n",
       "      <td>1</td>\n",
       "    </tr>\n",
       "    <tr>\n",
       "      <th>1</th>\n",
       "      <td>0</td>\n",
       "      <td>1</td>\n",
       "      <td>1</td>\n",
       "      <td>1.0</td>\n",
       "      <td>3</td>\n",
       "      <td>4</td>\n",
       "      <td>1</td>\n",
       "      <td>3</td>\n",
       "      <td>2</td>\n",
       "      <td>1</td>\n",
       "    </tr>\n",
       "    <tr>\n",
       "      <th>2</th>\n",
       "      <td>1</td>\n",
       "      <td>10</td>\n",
       "      <td>10</td>\n",
       "      <td>10.0</td>\n",
       "      <td>9</td>\n",
       "      <td>8</td>\n",
       "      <td>7</td>\n",
       "      <td>8</td>\n",
       "      <td>7</td>\n",
       "      <td>1</td>\n",
       "    </tr>\n",
       "  </tbody>\n",
       "</table>\n",
       "</div>"
      ],
      "text/plain": [
       "   classes  UniformityofCellSize  UniformityofCellShape  BareNuclei  \\\n",
       "0        0                     1                      1         1.0   \n",
       "1        0                     1                      1         1.0   \n",
       "2        1                    10                     10        10.0   \n",
       "\n",
       "   BlandChromatin  ClumpThickness  NormalNucleoli  MarginalAdhesion  \\\n",
       "0               3               5               1                 1   \n",
       "1               3               4               1                 3   \n",
       "2               9               8               7                 8   \n",
       "\n",
       "   SingleEpithelialCellSize  Mitoses  \n",
       "0                         2        1  \n",
       "1                         2        1  \n",
       "2                         7        1  "
      ]
     },
     "execution_count": 14,
     "metadata": {},
     "output_type": "execute_result"
    }
   ],
   "source": [
    "#Sorting with correlation values\n",
    "corr_list1=cancer.corr()['classes'].abs().sort_values(ascending=False)\n",
    "corr_list_new=corr_list1[corr_list1>0.01].index.values.tolist()\n",
    "corr_list1\n",
    "cancer=cancer[corr_list_new]\n",
    "cancer.head(3)"
   ]
  },
  {
   "cell_type": "code",
   "execution_count": 15,
   "metadata": {
    "id": "5MgSXzzR6XzR"
   },
   "outputs": [
    {
     "data": {
      "text/plain": [
       "classes                   classes                     1.000000\n",
       "UniformityofCellSize      UniformityofCellShape       0.894945\n",
       "                          classes                     0.799191\n",
       "classes                   UniformityofCellShape       0.798359\n",
       "BareNuclei                classes                     0.796208\n",
       "UniformityofCellSize      BlandChromatin              0.735457\n",
       "SingleEpithelialCellSize  UniformityofCellSize        0.734656\n",
       "classes                   BlandChromatin              0.728180\n",
       "                          ClumpThickness              0.716137\n",
       "BlandChromatin            UniformityofCellShape       0.709379\n",
       "SingleEpithelialCellSize  UniformityofCellShape       0.698541\n",
       "UniformityofCellSize      NormalNucleoli              0.685051\n",
       "MarginalAdhesion          UniformityofCellSize        0.680102\n",
       "UniformityofCellShape     NormalNucleoli              0.677870\n",
       "NormalNucleoli            classes                     0.667507\n",
       "BareNuclei                UniformityofCellShape       0.665698\n",
       "classes                   MarginalAdhesion            0.661858\n",
       "SingleEpithelialCellSize  classes                     0.657415\n",
       "UniformityofCellShape     MarginalAdhesion            0.653364\n",
       "BlandChromatin            MarginalAdhesion            0.643954\n",
       "                          BareNuclei                  0.643052\n",
       "UniformityofCellSize      BareNuclei                  0.633939\n",
       "ClumpThickness            UniformityofCellShape       0.630599\n",
       "BlandChromatin            NormalNucleoli              0.628036\n",
       "MarginalAdhesion          BareNuclei                  0.625566\n",
       "ClumpThickness            UniformityofCellSize        0.622301\n",
       "SingleEpithelialCellSize  NormalNucleoli              0.596655\n",
       "                          BlandChromatin              0.593076\n",
       "MarginalAdhesion          NormalNucleoli              0.563960\n",
       "SingleEpithelialCellSize  MarginalAdhesion            0.563546\n",
       "BareNuclei                ClumpThickness              0.563311\n",
       "BlandChromatin            ClumpThickness              0.529723\n",
       "BareNuclei                SingleEpithelialCellSize    0.526156\n",
       "NormalNucleoli            BareNuclei                  0.515998\n",
       "ClumpThickness            SingleEpithelialCellSize    0.496810\n",
       "                          NormalNucleoli              0.490331\n",
       "Mitoses                   SingleEpithelialCellSize    0.466116\n",
       "ClumpThickness            MarginalAdhesion            0.438082\n",
       "UniformityofCellSize      Mitoses                     0.429665\n",
       "UniformityofCellShape     Mitoses                     0.408919\n",
       "NormalNucleoli            Mitoses                     0.395068\n",
       "MarginalAdhesion          Mitoses                     0.385559\n",
       "classes                   Mitoses                     0.379298\n",
       "Mitoses                   ClumpThickness              0.329280\n",
       "                          BlandChromatin              0.305096\n",
       "BareNuclei                Mitoses                     0.288322\n",
       "dtype: float64"
      ]
     },
     "metadata": {},
     "output_type": "display_data"
    }
   ],
   "source": [
    "## To remove outliers first we have to find the correlation between attributes\n",
    "\n",
    "#find the variables with high correlations\n",
    "cor1 = cancer.corr().abs()\n",
    "list1 = cor1.stack().sort_values(ascending=False).drop_duplicates()  \n",
    "high_corr= list1[list1>0.70].index.values.tolist()\n",
    "high_corr.remove(high_corr[0])\n",
    "\n",
    "display(list1)"
   ]
  },
  {
   "cell_type": "code",
   "execution_count": 16,
   "metadata": {
    "id": "x7OKFrzE6X3D"
   },
   "outputs": [],
   "source": [
    "# for variable pairs with high correlation, keep only one of them\n",
    "columnlist=list(cancer.columns)\n",
    "len(high_corr)\n",
    "for i in range(len(high_corr)):\n",
    "    if \"classes\" in high_corr[i]:\n",
    "        columnlist=columnlist\n",
    "    else:\n",
    "        if high_corr[i][0] in columnlist and high_corr[i][1] in columnlist:\n",
    "            columnlist.remove(high_corr[i][1])\n",
    "        else:\n",
    "            columnlist=columnlist\n",
    "cancer_final=cancer[columnlist]"
   ]
  },
  {
   "cell_type": "code",
   "execution_count": 17,
   "metadata": {
    "id": "ZJPMB2Tq6pOq"
   },
   "outputs": [],
   "source": [
    "## Doing a test train split on the data \n",
    "import random\n",
    "from sklearn.model_selection import train_test_split\n",
    "training_data, test_data = train_test_split(cancer_final,random_state=None, shuffle=True)\n",
    "train_x=training_data.drop(['classes'], 1) \n",
    "train_y=training_data[['classes']]\n",
    "test_x=test_data.drop(['classes'], 1)\n",
    "test_y=test_data[['classes']]"
   ]
  },
  {
   "cell_type": "markdown",
   "metadata": {
    "id": "P-oNBnzbV4lI"
   },
   "source": [
    "<h4>1.3.2 Observations </h4>\n",
    "<ol>\n",
    "    <li>We find the correlation list of the attributes</li>\n",
    "</ol>\n",
    "\n",
    "<h4>1.3.3 Approach </h4>\n",
    "<ol>\n",
    "    <li>We remove the attributes that have low correlations from the data frame</li>\n",
    "    <li>We split the data in test and train datasets</li>\n",
    "</ol>"
   ]
  },
  {
   "cell_type": "markdown",
   "metadata": {
    "id": "6mQKJvN27Bfu"
   },
   "source": [
    "<h3>1.4 Deleting Outliers and Data Normalizations</h3>"
   ]
  },
  {
   "cell_type": "markdown",
   "metadata": {
    "id": "tOcvGwDUf8fd"
   },
   "source": [
    "<h4>1.4.1 Code </h4>"
   ]
  },
  {
   "cell_type": "code",
   "execution_count": 18,
   "metadata": {
    "id": "9Z4bemp56pTY"
   },
   "outputs": [],
   "source": [
    "# Remove outliers\n",
    "cancer_norm = cancer_final[(np.abs(scipy.stats.zscore(cancer_final)) < 3).all(axis=1)]\n",
    "# Zero mean normalisation\n",
    "cancer_norm.iloc[:,1:]=(cancer_norm.iloc[:,1:]-cancer_norm.iloc[:,1:].mean())/cancer_norm.iloc[:,1:].std()"
   ]
  },
  {
   "cell_type": "code",
   "execution_count": 19,
   "metadata": {
    "id": "MQpTYu396pXt"
   },
   "outputs": [
    {
     "data": {
      "text/html": [
       "<div>\n",
       "<style scoped>\n",
       "    .dataframe tbody tr th:only-of-type {\n",
       "        vertical-align: middle;\n",
       "    }\n",
       "\n",
       "    .dataframe tbody tr th {\n",
       "        vertical-align: top;\n",
       "    }\n",
       "\n",
       "    .dataframe thead th {\n",
       "        text-align: right;\n",
       "    }\n",
       "</style>\n",
       "<table border=\"1\" class=\"dataframe\">\n",
       "  <thead>\n",
       "    <tr style=\"text-align: right;\">\n",
       "      <th></th>\n",
       "      <th>classes</th>\n",
       "      <th>BareNuclei</th>\n",
       "      <th>ClumpThickness</th>\n",
       "      <th>NormalNucleoli</th>\n",
       "      <th>MarginalAdhesion</th>\n",
       "      <th>SingleEpithelialCellSize</th>\n",
       "      <th>Mitoses</th>\n",
       "    </tr>\n",
       "  </thead>\n",
       "  <tbody>\n",
       "    <tr>\n",
       "      <th>0</th>\n",
       "      <td>0</td>\n",
       "      <td>-0.886368</td>\n",
       "      <td>0.023887</td>\n",
       "      <td>-0.735136</td>\n",
       "      <td>-0.757493</td>\n",
       "      <td>-0.674906</td>\n",
       "      <td>-0.407917</td>\n",
       "    </tr>\n",
       "    <tr>\n",
       "      <th>1</th>\n",
       "      <td>0</td>\n",
       "      <td>-0.886368</td>\n",
       "      <td>-0.318000</td>\n",
       "      <td>-0.735136</td>\n",
       "      <td>-0.105978</td>\n",
       "      <td>-0.674906</td>\n",
       "      <td>-0.407917</td>\n",
       "    </tr>\n",
       "    <tr>\n",
       "      <th>2</th>\n",
       "      <td>1</td>\n",
       "      <td>1.438077</td>\n",
       "      <td>1.049549</td>\n",
       "      <td>1.083184</td>\n",
       "      <td>1.522810</td>\n",
       "      <td>1.508052</td>\n",
       "      <td>-0.407917</td>\n",
       "    </tr>\n",
       "    <tr>\n",
       "      <th>3</th>\n",
       "      <td>0</td>\n",
       "      <td>-0.886368</td>\n",
       "      <td>-1.001774</td>\n",
       "      <td>-0.735136</td>\n",
       "      <td>-0.757493</td>\n",
       "      <td>-0.674906</td>\n",
       "      <td>3.020081</td>\n",
       "    </tr>\n",
       "    <tr>\n",
       "      <th>4</th>\n",
       "      <td>0</td>\n",
       "      <td>-0.886368</td>\n",
       "      <td>-0.318000</td>\n",
       "      <td>-0.735136</td>\n",
       "      <td>-0.757493</td>\n",
       "      <td>-0.674906</td>\n",
       "      <td>-0.407917</td>\n",
       "    </tr>\n",
       "  </tbody>\n",
       "</table>\n",
       "</div>"
      ],
      "text/plain": [
       "   classes  BareNuclei  ClumpThickness  NormalNucleoli  MarginalAdhesion  \\\n",
       "0        0   -0.886368        0.023887       -0.735136         -0.757493   \n",
       "1        0   -0.886368       -0.318000       -0.735136         -0.105978   \n",
       "2        1    1.438077        1.049549        1.083184          1.522810   \n",
       "3        0   -0.886368       -1.001774       -0.735136         -0.757493   \n",
       "4        0   -0.886368       -0.318000       -0.735136         -0.757493   \n",
       "\n",
       "   SingleEpithelialCellSize   Mitoses  \n",
       "0                 -0.674906 -0.407917  \n",
       "1                 -0.674906 -0.407917  \n",
       "2                  1.508052 -0.407917  \n",
       "3                 -0.674906  3.020081  \n",
       "4                 -0.674906 -0.407917  "
      ]
     },
     "execution_count": 19,
     "metadata": {},
     "output_type": "execute_result"
    }
   ],
   "source": [
    "#printing the normalized head of the data\n",
    "cancer_norm.head()"
   ]
  },
  {
   "cell_type": "code",
   "execution_count": 20,
   "metadata": {
    "id": "Wkh0puJu6pa3"
   },
   "outputs": [],
   "source": [
    "#split the new dataset\n",
    "training_data_norm, test_data_norm = train_test_split(cancer_norm,random_state=None, shuffle=True)\n",
    "train_x_norm=training_data_norm.drop(['classes'], 1) \n",
    "train_y_norm=training_data_norm[['classes']]\n",
    "test_x_norm=test_data_norm.drop(['classes'], 1)\n",
    "test_y_norm=test_data_norm[['classes']]"
   ]
  },
  {
   "cell_type": "code",
   "execution_count": 21,
   "metadata": {
    "colab": {
     "base_uri": "https://localhost:8080/"
    },
    "id": "xlkLRQkM6pee",
    "outputId": "8fc8fc33-4eb4-440d-dd77-37a6680cef4c",
    "scrolled": true
   },
   "outputs": [
    {
     "name": "stdout",
     "output_type": "stream",
     "text": [
      "X_train Shape : (343, 6)\n",
      "Y_train Shape : (343, 1)\n",
      "X_test Shape  : (115, 6)\n",
      "Y_test Shape  : (115, 1)\n"
     ]
    }
   ],
   "source": [
    "# Print the shape of the data attributes\n",
    "x_train = np.array(train_x_norm)\n",
    "print('X_train Shape :',x_train.shape)\n",
    "y_train = np.array(train_y_norm)\n",
    "print('Y_train Shape :',y_train.shape)\n",
    "x_test = np.array(test_x_norm)\n",
    "print('X_test Shape  :',x_test.shape)\n",
    "y_test = np.array(test_y_norm)\n",
    "print('Y_test Shape  :',y_test.shape)"
   ]
  },
  {
   "cell_type": "code",
   "execution_count": 22,
   "metadata": {},
   "outputs": [
    {
     "name": "stdout",
     "output_type": "stream",
     "text": [
      "(343,)\n",
      "(115,)\n"
     ]
    }
   ],
   "source": [
    "y_train=y_train.reshape(len(y_train))\n",
    "print(y_train.shape)\n",
    "y_test=y_test.reshape(len(y_test))\n",
    "print(y_test.shape)"
   ]
  },
  {
   "cell_type": "markdown",
   "metadata": {
    "id": "ezxSeKxKWqBF"
   },
   "source": [
    "<h3>1.5 Conclusion </h3>\n",
    "<ol>\n",
    "    <li>We removed the NAN values from our data and replaced them with mean values</li>\n",
    "    <li>We only keep highly correlated attributes in our final attribute list</li>\n",
    "    <li>We filter our data using the zscores and then normalize it usind mean and standard deviation</li>\n",
    "</ol>"
   ]
  },
  {
   "cell_type": "markdown",
   "metadata": {
    "id": "SNNGSB4Vb2CE"
   },
   "source": [
    "<h2><center>2. Model Fiting on the clean data</center></h2>\n",
    "\n",
    "We have a cleaned and a normalized data now we just have to fit a model over the data and make predictions.\n",
    "We are going to implement 2 models that are implemented by us \n",
    "\n",
    "<ol>\n",
    "    <li>SGD Classifier with Log Loss</li>\n",
    "    <li>SVM with RBF kernel</li>\n",
    "</ol>\n"
   ]
  },
  {
   "cell_type": "markdown",
   "metadata": {
    "id": "LGeB6fiFYPuS"
   },
   "source": [
    "<h3>2.1 SGD Classifier with Log Loss</h3>"
   ]
  },
  {
   "cell_type": "markdown",
   "metadata": {
    "id": "3NIP2zzzYi2e"
   },
   "source": [
    "<h4>2.1.1 Function Call</h4>"
   ]
  },
  {
   "cell_type": "code",
   "execution_count": 23,
   "metadata": {
    "id": "qq2Z7Etj6yun"
   },
   "outputs": [
    {
     "name": "stderr",
     "output_type": "stream",
     "text": [
      " 14%|█▍        | 21/150 [00:00<00:00, 207.40it/s]"
     ]
    },
    {
     "name": "stdout",
     "output_type": "stream",
     "text": [
      "\n",
      "-- Epoch no(iteration no)  1\n",
      "W intercept: [0.04427304 0.05519931 0.03992197 0.0469042  0.04915492 0.02526499], B intercept: 0.0031216577399930823, Train loss: 0.26516, Test loss: 0.26600\n",
      "\n",
      "-- Epoch no(iteration no)  2\n",
      "W intercept: [0.10897028 0.11802626 0.10217561 0.09912706 0.1090174  0.05268624], B intercept: -0.008257730601061056, Train loss: 0.22518, Test loss: 0.22755\n",
      "\n",
      "-- Epoch no(iteration no)  3\n",
      "W intercept: [0.17868818 0.16916896 0.1351405  0.15179221 0.14040257 0.07443256], B intercept: -0.02638352871587723, Train loss: 0.19751, Test loss: 0.20127\n",
      "\n",
      "-- Epoch no(iteration no)  4\n",
      "W intercept: [0.21957647 0.21700652 0.17365556 0.18381468 0.18855998 0.08889031], B intercept: -0.050117776827659805, Train loss: 0.17708, Test loss: 0.18213\n",
      "\n",
      "-- Epoch no(iteration no)  5\n",
      "W intercept: [0.25304985 0.2554954  0.22407994 0.22241063 0.22345925 0.1081554 ], B intercept: -0.06016156216689722, Train loss: 0.16020, Test loss: 0.16616\n",
      "\n",
      "-- Epoch no(iteration no)  6\n",
      "W intercept: [0.29138191 0.28798004 0.26320015 0.25721263 0.26051119 0.12512886], B intercept: -0.06562625292584824, Train loss: 0.14630, Test loss: 0.15303\n",
      "\n",
      "-- Epoch no(iteration no)  7\n",
      "W intercept: [0.33424496 0.31291032 0.28807421 0.27998483 0.28387601 0.13976741], B intercept: -0.06397279550520558, Train loss: 0.13638, Test loss: 0.14367\n",
      "\n",
      "-- Epoch no(iteration no)  8\n",
      "W intercept: [0.36714233 0.34410213 0.31165865 0.3035717  0.2946952  0.15645095], B intercept: -0.059972300374547594, Train loss: 0.12829, Test loss: 0.13603\n",
      "\n",
      "-- Epoch no(iteration no)  9\n",
      "W intercept: [0.39420486 0.36879262 0.34554482 0.33106327 0.31974317 0.16158616], B intercept: -0.0520350531054694, Train loss: 0.12062, Test loss: 0.12872\n",
      "\n",
      "-- Epoch no(iteration no)  10\n",
      "W intercept: [0.42112663 0.4002697  0.35258461 0.34857194 0.32720562 0.16685946], B intercept: -0.04545442317792897, Train loss: 0.11551, Test loss: 0.12392\n",
      "\n",
      "-- Epoch no(iteration no)  11\n",
      "W intercept: [0.46687057 0.4165806  0.36299252 0.36021013 0.34878035 0.16602436], B intercept: -0.026716269250955087, Train loss: 0.11002, Test loss: 0.11865\n",
      "\n",
      "-- Epoch no(iteration no)  12\n",
      "W intercept: [0.49047493 0.43889438 0.3806914  0.38453368 0.37331819 0.17121751], B intercept: -0.03280360931660687, Train loss: 0.10488, Test loss: 0.11399\n",
      "\n",
      "-- Epoch no(iteration no)  13\n",
      "W intercept: [0.52607874 0.45455164 0.38552202 0.38756277 0.37624376 0.18077858], B intercept: -0.045218474842743626, Train loss: 0.10155, Test loss: 0.11117\n",
      "\n",
      "-- Epoch no(iteration no)  14\n",
      "W intercept: [0.5384487  0.46913593 0.39877666 0.40055403 0.3956712  0.1996402 ], B intercept: -0.03479028949876633, Train loss: 0.09842, Test loss: 0.10816\n",
      "\n",
      "-- Epoch no(iteration no)  15\n",
      "W intercept: [0.55727987 0.49711832 0.40189488 0.40847051 0.41317295 0.21145615], B intercept: -0.0385924246323377, Train loss: 0.09518, Test loss: 0.10529\n",
      "\n",
      "-- Epoch no(iteration no)  16\n",
      "W intercept: [0.58066525 0.52263248 0.42371586 0.41990984 0.42629542 0.20904229], B intercept: -0.042554524495930245, Train loss: 0.09167, Test loss: 0.10211\n",
      "\n",
      "-- Epoch no(iteration no)  17\n",
      "W intercept: [0.60535993 0.5391773  0.42741816 0.44166981 0.43107312 0.21874454], B intercept: -0.060691393841734886, Train loss: 0.08893, Test loss: 0.09994\n",
      "\n",
      "-- Epoch no(iteration no)  18\n",
      "W intercept: [0.62112199 0.55435218 0.44343548 0.45050423 0.44848529 0.22015721], B intercept: -0.06513636477173233, Train loss: 0.08658, Test loss: 0.09784\n",
      "\n",
      "-- Epoch no(iteration no)  19\n",
      "W intercept: [0.63422    0.56973376 0.46951351 0.46399833 0.46179846 0.22705018], B intercept: -0.0631422310358492, Train loss: 0.08413, Test loss: 0.09554\n",
      "\n",
      "-- Epoch no(iteration no)  20\n",
      "W intercept: [0.65044843 0.58209395 0.48714782 0.47565767 0.47428839 0.23488371], B intercept: -0.06586572242452879, Train loss: 0.08204, Test loss: 0.09368\n",
      "\n",
      "-- Epoch no(iteration no)  21\n",
      "W intercept: [0.67062252 0.59177233 0.48348525 0.4795045  0.47546578 0.2405151 ], B intercept: -0.06399769006312717, Train loss: 0.08082, Test loss: 0.09264\n",
      "\n",
      "-- Epoch no(iteration no)  22\n",
      "W intercept: [0.68620501 0.6037011  0.50431009 0.49463187 0.4835813  0.24177253], B intercept: -0.059878497774666806, Train loss: 0.07893, Test loss: 0.09085\n",
      "\n",
      "-- Epoch no(iteration no)  23\n",
      "W intercept: [0.69509335 0.61668244 0.51600626 0.5092287  0.4966916  0.24071575], B intercept: -0.049960740977416845, Train loss: 0.07743, Test loss: 0.08936\n",
      "\n",
      "-- Epoch no(iteration no)  24\n",
      "W intercept: [0.71904011 0.63373791 0.51100819 0.51642334 0.49429699 0.24276063], B intercept: -0.040021360941574914, Train loss: 0.07602, Test loss: 0.08806\n",
      "\n",
      "-- Epoch no(iteration no)  25\n",
      "W intercept: [0.74161702 0.64225687 0.51905633 0.52170675 0.50401821 0.24358472], B intercept: -0.03677709301226958, Train loss: 0.07457, Test loss: 0.08675\n",
      "\n",
      "-- Epoch no(iteration no)  26\n",
      "W intercept: [0.75138712 0.65035854 0.51881053 0.5213916  0.50941139 0.24883547], B intercept: -0.04173092219550821, Train loss: 0.07389, Test loss: 0.08624\n",
      "\n",
      "-- Epoch no(iteration no)  27\n",
      "W intercept: [0.774476   0.66099404 0.52547926 0.52465032 0.51431357 0.25531401], B intercept: -0.03880875469647677, Train loss: 0.07253, Test loss: 0.08504\n",
      "\n",
      "-- Epoch no(iteration no)  28\n",
      "W intercept: [0.7743847  0.6721435  0.52703673 0.53333896 0.53122501 0.26727199], B intercept: -0.02823312350738787, Train loss: 0.07168, Test loss: 0.08420\n",
      "\n",
      "-- Epoch no(iteration no)  29\n",
      "W intercept: [0.79222    0.6912956  0.52905709 0.53840498 0.53810487 0.27380914], B intercept: -0.03451121278426549, Train loss: 0.07038, Test loss: 0.08317\n",
      "\n",
      "-- Epoch no(iteration no)  30\n",
      "W intercept: [0.80999214 0.70743784 0.53570132 0.543664   0.53713256 0.2735011 ], B intercept: -0.04147147261248392, Train loss: 0.06930, Test loss: 0.08230\n",
      "\n",
      "-- Epoch no(iteration no)  31\n",
      "W intercept: [0.82276717 0.71298226 0.54306579 0.55635718 0.54505085 0.27527805], B intercept: -0.04328726259161067, Train loss: 0.06838, Test loss: 0.08154\n",
      "\n",
      "-- Epoch no(iteration no)  32\n",
      "W intercept: [0.83274796 0.72397647 0.55374236 0.56485913 0.55708364 0.280149  ], B intercept: -0.05005923380973207, Train loss: 0.06740, Test loss: 0.08076\n",
      "\n",
      "-- Epoch no(iteration no)  33\n",
      "W intercept: [0.84054624 0.73391147 0.57143411 0.57163486 0.56554642 0.28209861], B intercept: -0.04836406520247483, Train loss: 0.06653, Test loss: 0.07992\n",
      "\n",
      "-- Epoch no(iteration no)  34\n",
      "W intercept: [0.85488845 0.73625135 0.58228025 0.5777153  0.57247585 0.28423195], B intercept: -0.04262102520124636, Train loss: 0.06576, Test loss: 0.07918\n",
      "\n",
      "-- Epoch no(iteration no)  35\n",
      "W intercept: [0.86493096 0.74575748 0.57917961 0.58205681 0.57001991 0.28956291], B intercept: -0.048075728377782276, Train loss: 0.06528, Test loss: 0.07888\n",
      "\n",
      "-- Epoch no(iteration no)  36\n",
      "W intercept: [0.87669238 0.75726168 0.59577654 0.58760124 0.5752598  0.2886521 ], B intercept: -0.04024350850348286, Train loss: 0.06440, Test loss: 0.07797\n"
     ]
    },
    {
     "name": "stderr",
     "output_type": "stream",
     "text": [
      "\r",
      " 30%|███       | 45/150 [00:00<00:00, 222.73it/s]"
     ]
    },
    {
     "name": "stdout",
     "output_type": "stream",
     "text": [
      "\n",
      "-- Epoch no(iteration no)  37\n",
      "W intercept: [0.88175862 0.76305998 0.60076677 0.60094874 0.5833636  0.28583827], B intercept: -0.031579207064523926, Train loss: 0.06384, Test loss: 0.07737\n",
      "\n",
      "-- Epoch no(iteration no)  38\n",
      "W intercept: [0.8978314  0.77645708 0.59207407 0.60533524 0.57851347 0.28802391], B intercept: -0.02488579861797101, Train loss: 0.06322, Test loss: 0.07683\n",
      "\n",
      "-- Epoch no(iteration no)  39\n",
      "W intercept: [0.91248949 0.78455214 0.59624141 0.60912184 0.58686571 0.28613304], B intercept: -0.01832062375515532, Train loss: 0.06251, Test loss: 0.07616\n",
      "\n",
      "-- Epoch no(iteration no)  40\n",
      "W intercept: [0.92732365 0.7828507  0.59173298 0.60264026 0.58588239 0.29076774], B intercept: -0.02409689473545776, Train loss: 0.06230, Test loss: 0.07612\n",
      "\n",
      "-- Epoch no(iteration no)  41\n",
      "W intercept: [0.9409777  0.79248875 0.59675023 0.6050762  0.59175377 0.29754651], B intercept: -0.021137507136518175, Train loss: 0.06161, Test loss: 0.07551\n",
      "\n",
      "-- Epoch no(iteration no)  42\n",
      "W intercept: [0.93947519 0.80515391 0.59211711 0.61162264 0.6031881  0.30878797], B intercept: -0.012477193327820501, Train loss: 0.06117, Test loss: 0.07510\n",
      "\n",
      "-- Epoch no(iteration no)  43\n",
      "W intercept: [0.95223178 0.81584905 0.5982375  0.61325537 0.60909216 0.3141088 ], B intercept: -0.018067264096462768, Train loss: 0.06055, Test loss: 0.07464\n",
      "\n",
      "-- Epoch no(iteration no)  44\n",
      "W intercept: [0.96528515 0.82961873 0.60104438 0.61848298 0.60604763 0.31482231], B intercept: -0.025829244245842237, Train loss: 0.05999, Test loss: 0.07426\n",
      "\n",
      "-- Epoch no(iteration no)  45\n",
      "W intercept: [0.97307999 0.83478551 0.60684268 0.62695881 0.61217241 0.31384286], B intercept: -0.023149144806159924, Train loss: 0.05953, Test loss: 0.07384\n",
      "\n",
      "-- Epoch no(iteration no)  46\n",
      "W intercept: [0.98382269 0.84158548 0.61449544 0.63412615 0.61968213 0.31798296], B intercept: -0.02798780510152749, Train loss: 0.05899, Test loss: 0.07345\n",
      "\n",
      "-- Epoch no(iteration no)  47\n",
      "W intercept: [0.98697234 0.84802595 0.62952031 0.63902265 0.62878524 0.3196865 ], B intercept: -0.028076742600657997, Train loss: 0.05858, Test loss: 0.07304\n"
     ]
    },
    {
     "name": "stderr",
     "output_type": "stream",
     "text": [
      "\r",
      " 46%|████▌     | 69/150 [00:00<00:00, 229.61it/s]"
     ]
    },
    {
     "name": "stdout",
     "output_type": "stream",
     "text": [
      "\n",
      "-- Epoch no(iteration no)  48\n",
      "W intercept: [0.99811255 0.84757552 0.63945921 0.64543308 0.63237567 0.31877251], B intercept: -0.019383371866412608, Train loss: 0.05817, Test loss: 0.07259\n",
      "\n",
      "-- Epoch no(iteration no)  49\n",
      "W intercept: [1.00659041 0.85635107 0.63390792 0.64704613 0.62749074 0.32327384], B intercept: -0.024550278927039263, Train loss: 0.05791, Test loss: 0.07249\n",
      "\n",
      "-- Epoch no(iteration no)  50\n",
      "W intercept: [1.01044675 0.86242732 0.64751035 0.65781671 0.63318763 0.32176347], B intercept: -0.01643560070929597, Train loss: 0.05749, Test loss: 0.07199\n",
      "\n",
      "-- Epoch no(iteration no)  51\n",
      "W intercept: [1.02080265 0.86765552 0.64678842 0.66453144 0.62940955 0.32133301], B intercept: -0.015486234896085548, Train loss: 0.05718, Test loss: 0.07174\n",
      "\n",
      "-- Epoch no(iteration no)  52\n",
      "W intercept: [1.03799724 0.87935253 0.63899826 0.66260597 0.62903385 0.31907767], B intercept: 0.0010329522730266058, Train loss: 0.05668, Test loss: 0.07118\n",
      "\n",
      "-- Epoch no(iteration no)  53\n",
      "W intercept: [1.04378657 0.88568646 0.64274505 0.66872619 0.63799054 0.31900023], B intercept: 0.0033653363042344905, Train loss: 0.05633, Test loss: 0.07086\n",
      "\n",
      "-- Epoch no(iteration no)  54\n",
      "W intercept: [1.05576307 0.88512355 0.6381793  0.65851493 0.63542614 0.3233262 ], B intercept: -0.004876546891888126, Train loss: 0.05624, Test loss: 0.07094\n",
      "\n",
      "-- Epoch no(iteration no)  55\n",
      "W intercept: [1.06586298 0.89342171 0.64023011 0.65853119 0.63889718 0.3381521 ], B intercept: 0.0036948346219900464, Train loss: 0.05579, Test loss: 0.07053\n",
      "\n",
      "-- Epoch no(iteration no)  56\n",
      "W intercept: [1.06578512 0.90549695 0.63320363 0.66304416 0.65058709 0.34233557], B intercept: 0.005933492176408315, Train loss: 0.05552, Test loss: 0.07033\n",
      "\n",
      "-- Epoch no(iteration no)  57\n",
      "W intercept: [1.07298116 0.91418729 0.64373868 0.66720997 0.65563451 0.34145117], B intercept: 0.003722721956600728, Train loss: 0.05515, Test loss: 0.07000\n",
      "\n",
      "-- Epoch no(iteration no)  58\n",
      "W intercept: [1.08693209 0.9225344  0.64002951 0.67333339 0.65053323 0.34567217], B intercept: -0.005750227990039487, Train loss: 0.05481, Test loss: 0.06989\n",
      "\n",
      "-- Epoch no(iteration no)  59\n",
      "W intercept: [1.09269018 0.92648088 0.64653252 0.67679988 0.65691844 0.34329903], B intercept: -0.000739532237228723, Train loss: 0.05455, Test loss: 0.06959\n",
      "\n",
      "-- Epoch no(iteration no)  60\n",
      "W intercept: [1.09615016 0.93301381 0.66197061 0.68274448 0.6641074  0.34604958], B intercept: -0.0011194339987300615, Train loss: 0.05423, Test loss: 0.06928\n",
      "\n",
      "-- Epoch no(iteration no)  61\n",
      "W intercept: [1.1011987  0.93677697 0.67032139 0.68725124 0.66897358 0.34785947], B intercept: -0.002906035108321018, Train loss: 0.05399, Test loss: 0.06909\n",
      "\n",
      "-- Epoch no(iteration no)  62\n",
      "W intercept: [1.11075265 0.93559466 0.67585536 0.69244227 0.67201122 0.34640963], B intercept: 0.004647955631271529, Train loss: 0.05375, Test loss: 0.06881\n",
      "\n",
      "-- Epoch no(iteration no)  63\n",
      "W intercept: [1.11703729 0.94404303 0.67251088 0.69182038 0.66596515 0.35068052], B intercept: -0.001048450488959185, Train loss: 0.05359, Test loss: 0.06878\n",
      "\n",
      "-- Epoch no(iteration no)  64\n",
      "W intercept: [1.12007997 0.94860843 0.6767464  0.69863643 0.67021371 0.34685874], B intercept: 0.010552459396870712, Train loss: 0.05336, Test loss: 0.06844\n",
      "\n",
      "-- Epoch no(iteration no)  65\n",
      "W intercept: [1.1283406  0.96068631 0.6719166  0.70425726 0.66264027 0.34824673], B intercept: 0.016450361122419453, Train loss: 0.05307, Test loss: 0.06816\n",
      "\n",
      "-- Epoch no(iteration no)  66\n",
      "W intercept: [1.14537054 0.96207241 0.67128146 0.70512731 0.66633905 0.34613977], B intercept: 0.02317891238359725, Train loss: 0.05274, Test loss: 0.06786\n",
      "\n",
      "-- Epoch no(iteration no)  67\n",
      "W intercept: [1.14814609 0.9638996  0.66609616 0.6982071  0.66787931 0.34929049], B intercept: 0.01639617540666009, Train loss: 0.05274, Test loss: 0.06797\n",
      "\n",
      "-- Epoch no(iteration no)  68\n",
      "W intercept: [1.16304507 0.96654951 0.6666116  0.70118456 0.66969803 0.34928814], B intercept: 0.01718944315230765, Train loss: 0.05244, Test loss: 0.06775\n",
      "\n",
      "-- Epoch no(iteration no)  69\n",
      "W intercept: [1.15876666 0.97396646 0.66178002 0.70151649 0.67347184 0.36578112], B intercept: 0.028771189155153334, Train loss: 0.05231, Test loss: 0.06760\n",
      "\n",
      "-- Epoch no(iteration no)  70\n",
      "W intercept: [1.16654338 0.98331545 0.66228411 0.70385808 0.68394045 0.36836574], B intercept: 0.026948246712869203, Train loss: 0.05200, Test loss: 0.06740\n",
      "\n",
      "-- Epoch no(iteration no)  71\n",
      "W intercept: [1.173951   0.99194374 0.67084232 0.70572368 0.68782763 0.36687023], B intercept: 0.025518600075917944, Train loss: 0.05174, Test loss: 0.06715\n",
      "\n",
      "-- Epoch no(iteration no)  72\n",
      "W intercept: [1.1838787  0.99616236 0.66905582 0.71283687 0.6822593  0.36762471], B intercept: 0.024275579179892277, Train loss: 0.05153, Test loss: 0.06704\n",
      "\n",
      "-- Epoch no(iteration no)  73\n",
      "W intercept: [1.18962946 1.0010596  0.67368807 0.71597958 0.68829976 0.36906624], B intercept: 0.020540297013778127, Train loss: 0.05134, Test loss: 0.06693\n",
      "\n",
      "-- Epoch no(iteration no)  74\n",
      "W intercept: [1.19169863 1.00680117 0.68762299 0.71988413 0.69433733 0.37060351], B intercept: 0.02168265185671201, Train loss: 0.05114, Test loss: 0.06670\n",
      "\n",
      "-- Epoch no(iteration no)  75\n",
      "W intercept: [1.1972269  1.01005976 0.69459702 0.72391982 0.69884309 0.37321414], B intercept: 0.020215416811983057, Train loss: 0.05096, Test loss: 0.06657\n",
      "\n",
      "-- Epoch no(iteration no)  76\n",
      "W intercept: [1.20467855 1.0100638  0.68788753 0.7226054  0.69033269 0.37369922], B intercept: 0.021202784606013735, Train loss: 0.05091, Test loss: 0.06656\n",
      "\n",
      "-- Epoch no(iteration no)  77\n",
      "W intercept: [1.21156189 1.01634526 0.69804268 0.72675816 0.69192638 0.3726878 ], B intercept: 0.025237159000933967, Train loss: 0.05067, Test loss: 0.06629\n",
      "\n",
      "-- Epoch no(iteration no)  78\n",
      "W intercept: [1.21121569 1.01916946 0.6997493  0.73634929 0.69806548 0.36962445], B intercept: 0.034556905960893565, Train loss: 0.05054, Test loss: 0.06608\n",
      "\n",
      "-- Epoch no(iteration no)  79\n",
      "W intercept: [1.22301348 1.02924008 0.69182329 0.73877015 0.69013564 0.37033823], B intercept: 0.041185527780696285, Train loss: 0.05028, Test loss: 0.06585\n",
      "\n",
      "-- Epoch no(iteration no)  80\n",
      "W intercept: [1.23469671 1.0309734  0.69283338 0.73954237 0.69259825 0.36949769], B intercept: 0.04448767064089614, Train loss: 0.05007, Test loss: 0.06568\n",
      "\n",
      "-- Epoch no(iteration no)  81\n",
      "W intercept: [1.23667261 1.03153308 0.6876362  0.73167595 0.69303408 0.37283588], B intercept: 0.03833083266841424, Train loss: 0.05011, Test loss: 0.06580\n",
      "\n",
      "-- Epoch no(iteration no)  82\n",
      "W intercept: [1.24926621 1.03480028 0.68727632 0.72928192 0.69451995 0.37809779], B intercept: 0.045845736891004046, Train loss: 0.04986, Test loss: 0.06558\n",
      "\n",
      "-- Epoch no(iteration no)  83\n",
      "W intercept: [1.24510602 1.04315472 0.68022039 0.73513001 0.70403105 0.38661794], B intercept: 0.05415404556858202, Train loss: 0.04973, Test loss: 0.06545\n",
      "\n",
      "-- Epoch no(iteration no)  84\n",
      "W intercept: [1.25273008 1.05022594 0.68298799 0.73545091 0.70759416 0.38987886], B intercept: 0.049736192285824585, Train loss: 0.04954, Test loss: 0.06536\n",
      "\n",
      "-- Epoch no(iteration no)  85\n",
      "W intercept: [1.26207667 1.05902273 0.68373726 0.73816354 0.70309675 0.39111147], B intercept: 0.04210032927956471, Train loss: 0.04935, Test loss: 0.06530\n",
      "\n",
      "-- Epoch no(iteration no)  86\n",
      "W intercept: [1.26730088 1.0605032  0.68791241 0.74337572 0.70605846 0.38968549], B intercept: 0.04601863875938552, Train loss: 0.04921, Test loss: 0.06515\n",
      "\n",
      "-- Epoch no(iteration no)  87\n",
      "W intercept: [1.2721277  1.06477429 0.69248245 0.74727724 0.71102104 0.39199938], B intercept: 0.042930309413278585, Train loss: 0.04907, Test loss: 0.06507\n",
      "\n",
      "-- Epoch no(iteration no)  88\n",
      "W intercept: [1.27324952 1.06926058 0.7050146  0.75001328 0.71700176 0.39203   ], B intercept: 0.04418959778517648, Train loss: 0.04894, Test loss: 0.06490\n",
      "\n",
      "-- Epoch no(iteration no)  89\n",
      "W intercept: [1.28083299 1.0666693  0.71285403 0.75368778 0.71822666 0.39151644], B intercept: 0.04940659602089477, Train loss: 0.04882, Test loss: 0.06475\n",
      "\n",
      "-- Epoch no(iteration no) "
     ]
    },
    {
     "name": "stderr",
     "output_type": "stream",
     "text": [
      "\r",
      " 64%|██████▍   | 96/150 [00:00<00:00, 243.29it/s]"
     ]
    },
    {
     "name": "stdout",
     "output_type": "stream",
     "text": [
      " 90\n",
      "W intercept: [1.28501267 1.07268055 0.70471712 0.75281903 0.71083919 0.39415094], B intercept: 0.045522146590624736, Train loss: 0.04876, Test loss: 0.06478\n",
      "\n",
      "-- Epoch no(iteration no)  91\n",
      "W intercept: [1.28746283 1.07423001 0.71452854 0.76340887 0.71576982 0.39228499], B intercept: 0.05241104925356825, Train loss: 0.04861, Test loss: 0.06457\n",
      "\n",
      "-- Epoch no(iteration no)  92\n",
      "W intercept: [1.29095459 1.07843612 0.71574268 0.76507662 0.71838987 0.39002929], B intercept: 0.05771980846385462, Train loss: 0.04850, Test loss: 0.06441\n",
      "\n",
      "-- Epoch no(iteration no)  93\n",
      "W intercept: [1.30171048 1.08995774 0.70693426 0.76688943 0.70946752 0.39052605], B intercept: 0.06406719689248996, Train loss: 0.04827, Test loss: 0.06421\n",
      "\n",
      "-- Epoch no(iteration no)  94\n",
      "W intercept: [1.30903723 1.09137945 0.70704376 0.76891207 0.71520494 0.38834137], B intercept: 0.0702641748643754, Train loss: 0.04813, Test loss: 0.06405\n",
      "\n",
      "-- Epoch no(iteration no)  95\n",
      "W intercept: [1.31820001 1.0877384  0.6992792  0.75759368 0.71125551 0.39195894], B intercept: 0.06312163567825296, Train loss: 0.04814, Test loss: 0.06420\n",
      "\n",
      "-- Epoch no(iteration no)  96\n",
      "W intercept: [1.32374961 1.09587017 0.69979482 0.7549451  0.71185312 0.40611856], B intercept: 0.0693620897082124, Train loss: 0.04794, Test loss: 0.06405\n",
      "\n",
      "-- Epoch no(iteration no)  97\n",
      "W intercept: [1.32149377 1.10313976 0.69190571 0.75971839 0.72298445 0.40820472], B intercept: 0.07357356835784688, Train loss: 0.04785, Test loss: 0.06398\n",
      "\n",
      "-- Epoch no(iteration no)  98\n",
      "W intercept: [1.32680157 1.1082101  0.69869811 0.76220632 0.72648424 0.40812074], B intercept: 0.07018120379215735, Train loss: 0.04772, Test loss: 0.06389\n",
      "\n",
      "-- Epoch no(iteration no) "
     ]
    },
    {
     "name": "stderr",
     "output_type": "stream",
     "text": [
      "\r",
      " 81%|████████  | 121/150 [00:00<00:00, 241.40it/s]"
     ]
    },
    {
     "name": "stdout",
     "output_type": "stream",
     "text": [
      " 99\n",
      "W intercept: [1.3368585  1.11493093 0.69584407 0.76663426 0.72088925 0.41119808], B intercept: 0.06297682647600976, Train loss: 0.04756, Test loss: 0.06390\n",
      "\n",
      "-- Epoch no(iteration no)  100\n",
      "W intercept: [1.34095892 1.11624055 0.70087685 0.76881773 0.72443457 0.40861464], B intercept: 0.06875783602476207, Train loss: 0.04746, Test loss: 0.06374\n",
      "\n",
      "-- Epoch no(iteration no)  101\n",
      "W intercept: [1.34206443 1.12110581 0.71327886 0.77332389 0.72977838 0.40939459], B intercept: 0.06984640712104673, Train loss: 0.04735, Test loss: 0.06359\n",
      "\n",
      "-- Epoch no(iteration no)  102\n",
      "W intercept: [1.34471427 1.12318074 0.72069866 0.776082   0.73394181 0.41111957], B intercept: 0.06710996210305792, Train loss: 0.04728, Test loss: 0.06355\n",
      "\n",
      "-- Epoch no(iteration no)  103\n",
      "W intercept: [1.35201909 1.11955309 0.72493883 0.78025833 0.73488775 0.40922456], B intercept: 0.07453307815450208, Train loss: 0.04718, Test loss: 0.06341\n",
      "\n",
      "-- Epoch no(iteration no)  104\n",
      "W intercept: [1.35638798 1.1264262  0.72011262 0.77811591 0.72721216 0.41288586], B intercept: 0.06781595759371851, Train loss: 0.04712, Test loss: 0.06346\n",
      "\n",
      "-- Epoch no(iteration no)  105\n",
      "W intercept: [1.35723104 1.12720214 0.72596395 0.78832452 0.73184473 0.41144982], B intercept: 0.07374076062118518, Train loss: 0.04704, Test loss: 0.06332\n",
      "\n",
      "-- Epoch no(iteration no)  106\n",
      "W intercept: [1.36336272 1.13327661 0.72186255 0.79078967 0.72543294 0.41237658], B intercept: 0.07730144764804231, Train loss: 0.04691, Test loss: 0.06322\n",
      "\n",
      "-- Epoch no(iteration no)  107\n",
      "W intercept: [1.37597325 1.13941355 0.71511891 0.78850109 0.72444626 0.4076109 ], B intercept: 0.09011229893146225, Train loss: 0.04671, Test loss: 0.06296\n",
      "\n",
      "-- Epoch no(iteration no)  108\n",
      "W intercept: [1.37812656 1.1410916  0.71771487 0.79415542 0.73135663 0.40800016], B intercept: 0.08961040042166957, Train loss: 0.04664, Test loss: 0.06292\n",
      "\n",
      "-- Epoch no(iteration no)  109\n",
      "W intercept: [1.38725401 1.14057313 0.70949523 0.78087036 0.72578728 0.41094052], B intercept: 0.08329508271977383, Train loss: 0.04663, Test loss: 0.06303\n",
      "\n",
      "-- Epoch no(iteration no)  110\n",
      "W intercept: [1.39035239 1.14583003 0.71229683 0.77935349 0.72886782 0.42489114], B intercept: 0.09212599337710112, Train loss: 0.04648, Test loss: 0.06288\n",
      "\n",
      "-- Epoch no(iteration no)  111\n",
      "W intercept: [1.38785043 1.15323421 0.70178228 0.78282079 0.73731259 0.42667784], B intercept: 0.09386361387034436, Train loss: 0.04642, Test loss: 0.06287\n",
      "\n",
      "-- Epoch no(iteration no)  112\n",
      "W intercept: [1.3935518  1.15915128 0.70914041 0.78488494 0.74093378 0.42611808], B intercept: 0.091083811997473, Train loss: 0.04630, Test loss: 0.06278\n",
      "\n",
      "-- Epoch no(iteration no)  113\n",
      "W intercept: [1.40221705 1.16441563 0.70494726 0.7905916  0.73561431 0.42940609], B intercept: 0.08332953873972475, Train loss: 0.04618, Test loss: 0.06283\n",
      "\n",
      "-- Epoch no(iteration no)  114\n",
      "W intercept: [1.40560391 1.16546461 0.70989248 0.79145992 0.7383489  0.42684842], B intercept: 0.08905735758381757, Train loss: 0.04611, Test loss: 0.06269\n",
      "\n",
      "-- Epoch no(iteration no)  115\n",
      "W intercept: [1.40611752 1.1697704  0.72293291 0.79456541 0.74423229 0.42798552], B intercept: 0.08951775512626428, Train loss: 0.04603, Test loss: 0.06257\n",
      "\n",
      "-- Epoch no(iteration no)  116\n",
      "W intercept: [1.40933954 1.17162086 0.72946724 0.7976079  0.74709408 0.42916466], B intercept: 0.08839948289214462, Train loss: 0.04597, Test loss: 0.06253\n",
      "\n",
      "-- Epoch no(iteration no)  117\n",
      "W intercept: [1.41513996 1.1700642  0.72122722 0.79534653 0.73704328 0.4297181 ], B intercept: 0.08944078202483983, Train loss: 0.04595, Test loss: 0.06255\n",
      "\n",
      "-- Epoch no(iteration no)  118\n",
      "W intercept: [1.42024428 1.17390849 0.72901778 0.79951392 0.73848578 0.42949394], B intercept: 0.09092616191246718, Train loss: 0.04584, Test loss: 0.06243\n",
      "\n",
      "-- Epoch no(iteration no)  119\n",
      "W intercept: [1.41934583 1.17639008 0.72916539 0.80520469 0.74297743 0.42628169], B intercept: 0.10000311748032818, Train loss: 0.04578, Test loss: 0.06229\n",
      "\n",
      "-- Epoch no(iteration no)  120\n",
      "W intercept: [1.42788633 1.18580532 0.7221307  0.80914697 0.7348767  0.42601827], B intercept: 0.10707513817062726, Train loss: 0.04561, Test loss: 0.06213\n",
      "\n",
      "-- Epoch no(iteration no)  121\n",
      "W intercept: [1.43722537 1.18584717 0.72242202 0.8095976  0.73666979 0.42517118], B intercept: 0.10988864094623886, Train loss: 0.04551, Test loss: 0.06205\n",
      "\n",
      "-- Epoch no(iteration no)  122\n",
      "W intercept: [1.43754811 1.18609971 0.71548942 0.80019137 0.73593833 0.42785483], B intercept: 0.10377030087889907, Train loss: 0.04555, Test loss: 0.06217\n",
      "\n",
      "-- Epoch no(iteration no)  123\n",
      "W intercept: [1.44689494 1.1869183  0.71475498 0.79822417 0.73605484 0.43431401], B intercept: 0.10920613780431451, Train loss: 0.04543, Test loss: 0.06209\n",
      "\n",
      "-- Epoch no(iteration no)  124\n",
      "W intercept: [1.44296579 1.19200621 0.71142817 0.80120239 0.73986086 0.44145041], B intercept: 0.116216445977347, Train loss: 0.04537, Test loss: 0.06202\n",
      "\n",
      "-- Epoch no(iteration no)  125\n",
      "W intercept: [1.4472749  1.19873416 0.70918282 0.80373054 0.74882271 0.44377543], B intercept: 0.11285147721766689, Train loss: 0.04527, Test loss: 0.06201\n",
      "\n",
      "-- Epoch no(iteration no)  126\n",
      "W intercept: [1.45605492 1.20607093 0.70933876 0.80519509 0.74361383 0.44452779], B intercept: 0.1070898725270096, Train loss: 0.04515, Test loss: 0.06199\n",
      "\n",
      "-- Epoch no(iteration no)  127\n",
      "W intercept: [1.46017399 1.20648297 0.71329281 0.80910446 0.7454753  0.44296278], B intercept: 0.1111059594978299, Train loss: 0.04508, Test loss: 0.06190\n",
      "\n",
      "-- Epoch no(iteration no)  128\n",
      "W intercept: [1.46340986 1.20984864 0.71678347 0.81186255 0.74948978 0.44450395], B intercept: 0.10885286816592489, Train loss: 0.04502, Test loss: 0.06187\n",
      "\n",
      "-- Epoch no(iteration no)  129\n",
      "W intercept: [1.4636177  1.21326805 0.72828585 0.81353103 0.75430424 0.44434537], B intercept: 0.11022404750740086, Train loss: 0.04497, Test loss: 0.06177\n",
      "\n",
      "-- Epoch no(iteration no)  130\n",
      "W intercept: [1.46948631 1.20962415 0.73556811 0.8169132  0.75475053 0.44311902], B intercept: 0.1157288211182931, Train loss: 0.04491, Test loss: 0.06166\n",
      "\n",
      "-- Epoch no(iteration no)  131\n",
      "W intercept: [1.47267118 1.21328835 0.72669796 0.81496861 0.7471173  0.44598694], B intercept: 0.10967514343752353, Train loss: 0.04489, Test loss: 0.06176\n",
      "\n",
      "-- Epoch no(iteration no)  132\n",
      "W intercept: [1.47694843 1.21749136 0.73558489 0.81735903 0.7490058  0.44540412], B intercept: 0.11347153494230543, Train loss: 0.04480, Test loss: 0.06162\n",
      "\n",
      "-- Epoch no(iteration no)  133\n",
      "W intercept: [1.47572389 1.21852503 0.73500746 0.82612021 0.75297872 0.44136679], B intercept: 0.12296863058181229, Train loss: 0.04475, Test loss: 0.06148\n",
      "\n",
      "-- Epoch no(iteration no)  134\n",
      "W intercept: [1.48344273 1.22766925 0.72651101 0.82747573 0.74431417 0.44197486], B intercept: 0.12741289015793042, Train loss: 0.04461, Test loss: 0.06138\n",
      "\n",
      "-- Epoch no(iteration no)  135\n",
      "W intercept: [1.49241014 1.22812083 0.72680886 0.82786564 0.74569331 0.4411032 ], B intercept: 0.12995119534391983, Train loss: 0.04452, Test loss: 0.06131\n",
      "\n",
      "-- Epoch no(iteration no)  136\n",
      "W intercept: [1.49773407 1.22544907 0.71780447 0.81702619 0.74414714 0.44284876], B intercept: 0.12685750049819508, Train loss: 0.04454, Test loss: 0.06141\n",
      "\n",
      "-- Epoch no(iteration no)  137\n",
      "W intercept: [1.5022955  1.22912927 0.71964841 0.81557927 0.74558975 0.44973006], B intercept: 0.13056504724020956, Train loss: 0.04444, Test loss: 0.06134\n",
      "\n",
      "-- Epoch no(iteration no)  138\n",
      "W intercept: [1.49655687 1.23476896 0.71159625 0.82106733 0.75439029 0.45620073], B intercept: 0.13789257761215357, Train loss: 0.04439, Test loss: 0.06130\n",
      "\n",
      "-- Epoch no(iteration no)  139\n",
      "W intercept: [1.50279281 1.23930583 0.71447994 0.8208333  0.75752544 0.45949724], B intercept: 0.13200894717624437, Train loss: 0.04431, Test loss: 0.06131\n",
      "\n",
      "-- Epoch no(iteration no)  140\n",
      "W intercept: [1.50949725 1.24653106 0.71323804 0.8229016  0.75232144 0.46025474], B intercept: 0.12643542586488707, Train loss: 0.04423, Test loss: 0.06132\n",
      "\n",
      "-- Epoch no(iteration no)  141\n",
      "W intercept: [1.51269044 1.24712905 0.71712967 0.82617816 0.75420911 0.45821139], B intercept: 0.13144931878406757, Train loss: 0.04417, Test loss: 0.06122\n",
      "\n",
      "-- Epoch no(iteration no)  142\n",
      "W intercept: [1.51719422 1.24979245 0.72064451 0.82943952 0.75781377 0.46010004], B intercept: 0.1284028740018551, Train loss: 0.04411, Test loss: 0.06121\n",
      "\n",
      "-- Epoch no(iteration no) "
     ]
    },
    {
     "name": "stderr",
     "output_type": "stream",
     "text": [
      "100%|██████████| 150/150 [00:00<00:00, 244.79it/s]"
     ]
    },
    {
     "name": "stdout",
     "output_type": "stream",
     "text": [
      " 143\n",
      "W intercept: [1.51619738 1.25289618 0.73185085 0.83078783 0.76290009 0.45984259], B intercept: 0.1300801583529667, Train loss: 0.04408, Test loss: 0.06111\n",
      "\n",
      "-- Epoch no(iteration no)  144\n",
      "W intercept: [1.52191799 1.24835519 0.73937211 0.8355237  0.76314547 0.45725742], B intercept: 0.13819786018488203, Train loss: 0.04403, Test loss: 0.06099\n",
      "\n",
      "-- Epoch no(iteration no)  145\n",
      "W intercept: [1.52510162 1.25306615 0.72998072 0.83286423 0.75482971 0.46064839], B intercept: 0.13127887268113358, Train loss: 0.04400, Test loss: 0.06109\n",
      "\n",
      "-- Epoch no(iteration no)  146\n",
      "W intercept: [1.52485697 1.25405985 0.73814133 0.84245779 0.75898386 0.45909839], B intercept: 0.13707466136923768, Train loss: 0.04395, Test loss: 0.06097\n",
      "\n",
      "-- Epoch no(iteration no)  147\n",
      "W intercept: [1.53048038 1.25700833 0.73454907 0.84563241 0.75293729 0.45817548], B intercept: 0.13863039182203094, Train loss: 0.04388, Test loss: 0.06093\n",
      "\n",
      "-- Epoch no(iteration no)  148\n",
      "W intercept: [1.5397837  1.26486314 0.72719254 0.84269111 0.75055838 0.45561773], B intercept: 0.1506160855734109, Train loss: 0.04374, Test loss: 0.06073\n",
      "\n",
      "-- Epoch no(iteration no)  149\n",
      "W intercept: [1.54051657 1.2679408  0.72874165 0.84563985 0.75609296 0.45478035], B intercept: 0.1531778461768744, Train loss: 0.04369, Test loss: 0.06067\n",
      "\n",
      "-- Epoch no(iteration no)  150\n",
      "W intercept: [1.54791677 1.26410075 0.7205601  0.8336592  0.75157097 0.4581948 ], B intercept: 0.14543538712844487, Train loss: 0.04371, Test loss: 0.06082\n"
     ]
    },
    {
     "name": "stderr",
     "output_type": "stream",
     "text": [
      "\n"
     ]
    }
   ],
   "source": [
    "## importing self made SGD classifier as Classifier 1 \n",
    "import Sgd_classifier as classfier_1\n",
    "alpha=0.01\n",
    "t_rate=0.0075\n",
    "N=len(x_train)\n",
    "epochs=150\n",
    "w,b,loss_train,loss_test=classfier_1.train_classifier(x_train,y_train,x_test,y_test,epochs,alpha,t_rate)"
   ]
  },
  {
   "cell_type": "markdown",
   "metadata": {
    "id": "PNjgLcYRYcIm"
   },
   "source": [
    "<h4>2.1.2 Coding Approach</h4>\n",
    "We send our train data, test data, with learning rate and regularization rate to our classifier. The classifier uses Stochastic gradient descent and updates the weights and bais over the epochs. With each epoch we aim to reduce our loss, when we reach a point where the loss is similar to the loss that was in previous epoch we return then updated weights and bais. These weights and bais that are returned are optimal for making predictions."
   ]
  },
  {
   "cell_type": "markdown",
   "metadata": {
    "id": "ndwbS6ZqaLr3"
   },
   "source": [
    "<h3>2.2 SVM with RBF kernel </h3>"
   ]
  },
  {
   "cell_type": "markdown",
   "metadata": {
    "id": "H-Qtsx6LaTN7"
   },
   "source": [
    "<h4>2.2.1 Function Call</h4>"
   ]
  },
  {
   "cell_type": "code",
   "execution_count": 24,
   "metadata": {},
   "outputs": [],
   "source": [
    "import Svm_classifier as classfier_2\n",
    "\n",
    "a1=classfier_2.SVM(kernel='rbf', C=1.0, max_iter=10, gamma=0.001)\n",
    "a1.fit(x_train,y_train)"
   ]
  },
  {
   "cell_type": "markdown",
   "metadata": {
    "id": "FUu-87k2aXIR"
   },
   "source": [
    "<h4>2.2.2 Coding Approach</h4>\n",
    "\n",
    "<!----> Will be going over the coding how it is done and stuff"
   ]
  },
  {
   "cell_type": "markdown",
   "metadata": {
    "id": "swzuVJ19S1Jr"
   },
   "source": [
    "<h2><center>3. Model Accuracy</center></h2>\n",
    "<em>\n",
    "Here we are going to talk about the model accuracies by using test and train loss graphs, in addition to Confussion Matrix and some ROC curves\n",
    "</em>"
   ]
  },
  {
   "cell_type": "markdown",
   "metadata": {
    "id": "qPy611dMa8Bu"
   },
   "source": [
    "<h3>3.1 Model 1 SGD Classifier with Log Loss</h3>\n"
   ]
  },
  {
   "cell_type": "markdown",
   "metadata": {
    "id": "rI7qXtftah1a"
   },
   "source": [
    "<h4>3.1.1 Prediction accuracies</h4>"
   ]
  },
  {
   "cell_type": "code",
   "execution_count": 25,
   "metadata": {
    "colab": {
     "base_uri": "https://localhost:8080/"
    },
    "id": "057fGPgc6x3_",
    "outputId": "c841cc8b-3706-45a5-886f-2b89fe684824",
    "scrolled": true
   },
   "outputs": [
    {
     "name": "stdout",
     "output_type": "stream",
     "text": [
      "Train_Accuracy : 0.96501\n",
      "Test_Accuracy  : 0.94783\n"
     ]
    }
   ],
   "source": [
    "y_train_pred = classfier_1.predict(w,b,x_train)\n",
    "y_test_pred = classfier_1.predict(w,b,x_test)\n",
    "\n",
    "y_train=y_train.reshape(y_train_pred.shape)\n",
    "print('Train_Accuracy : {:.5f}'.format((y_train ==  y_train_pred).sum() / len(x_train)))\n",
    "y_test=y_test.reshape(y_test_pred.shape)\n",
    "print('Test_Accuracy  : {:.5f}'.format((y_test ==  y_test_pred).sum() / len(x_test)))"
   ]
  },
  {
   "cell_type": "markdown",
   "metadata": {
    "id": "7pAXgaM_bjzs"
   },
   "source": [
    "<h4>3.1.2 Test and Train Loss over Epochs</h4>\n",
    "We will plot graph against the number of epochs with respect to the test and train loss. This will give us insight whehter our code is performing gradient descent in a correct manner."
   ]
  },
  {
   "cell_type": "code",
   "execution_count": 26,
   "metadata": {
    "id": "1gK7yssz073T",
    "scrolled": true
   },
   "outputs": [
    {
     "name": "stdout",
     "output_type": "stream",
     "text": [
      "==============================================================================================================\n"
     ]
    },
    {
     "data": {
      "image/png": "[encoded data removed]",
      "text/plain": [
       "<Figure size 1080x504 with 1 Axes>"
      ]
     },
     "metadata": {},
     "output_type": "display_data"
    }
   ],
   "source": [
    "epochs = np.arange(1, epochs+1, 1)\n",
    "plt.figure(figsize=(15, 7))\n",
    "plt.plot(epochs,loss_train, label='Train Loss', c = 'blue')\n",
    "plt.plot(epochs,loss_test, label='Test Loss',c = 'red')\n",
    "plt.title('Epoch vs Train,Test Loss')\n",
    "plt.xlabel(\"Epochs\")\n",
    "plt.ylabel('Loss')\n",
    "plt.legend()\n",
    "print(110*'=')\n"
   ]
  },
  {
   "cell_type": "markdown",
   "metadata": {
    "id": "qcN8YgFwb0gH"
   },
   "source": [
    "<h4>3.1.3 Confusion Matrix </h4>\n",
    "The AUC score with True Positive Rate and False Positive Rate of the model is mentioned here"
   ]
  },
  {
   "cell_type": "code",
   "execution_count": 27,
   "metadata": {
    "id": "dwjOiXQsTjjO",
    "scrolled": false
   },
   "outputs": [
    {
     "name": "stdout",
     "output_type": "stream",
     "text": [
      "Confusion Matrix\n",
      " [[54  2]\n",
      " [ 4 55]]\n",
      "False Positive Rate :   0.036\n",
      "True Positive Rate  :   0.932\n",
      "Area Under Curve (AUC): 0.948\n"
     ]
    }
   ],
   "source": [
    "#from sklearn.metrics import confusion_matrix\n",
    "import confusion_matrix as cm\n",
    "cm,fpr,recall = cm.confusion_matrix(y_test, y_test_pred)\n",
    "# Accuracy is\n",
    "AUC_score = (cm[0][0] + cm[1][1])/(cm[0][1]+cm[1][0]+cm[0][0] + cm[1][1])\n",
    "print('Confusion Matrix\\n',cm)\n",
    "print('False Positive Rate :   {:.3f}'.format(fpr))\n",
    "print('True Positive Rate  :   {:.3f}'.format(recall))\n",
    "print('Area Under Curve (AUC): {:.3f}'.format(AUC_score))"
   ]
  },
  {
   "cell_type": "markdown",
   "metadata": {},
   "source": [
    "<h3> 3.2 Model 2 SVM with RBF Kernel</h3>"
   ]
  },
  {
   "cell_type": "markdown",
   "metadata": {},
   "source": [
    "<h4>3.2.1 Prediction accuracies</h4>"
   ]
  },
  {
   "cell_type": "code",
   "execution_count": 28,
   "metadata": {},
   "outputs": [
    {
     "name": "stdout",
     "output_type": "stream",
     "text": [
      "Train_Accuracy : 1.0\n",
      "Test_Accuracy  : 0.94783\n"
     ]
    }
   ],
   "source": [
    "\n",
    "y_train_pred_svm = a1.predict(x_train)\n",
    "y_test_pred_svm= a1.predict(x_test)\n",
    "print('Train_Accuracy : {:.1f}'.format((y_train ==  y_train_pred_svm).sum() / len(x_train)))\n",
    "print('Test_Accuracy  : {:.5f}'.format((y_test ==  y_test_pred_svm).sum() / len(x_test)))\n"
   ]
  },
  {
   "cell_type": "markdown",
   "metadata": {},
   "source": [
    "<h4>3.2.2 </h4>\n",
    "<!--->Some grpah here ALP <--->"
   ]
  },
  {
   "cell_type": "code",
   "execution_count": null,
   "metadata": {},
   "outputs": [],
   "source": []
  },
  {
   "cell_type": "markdown",
   "metadata": {},
   "source": [
    "<h4>3.2.3 Confusion Matrix </h4> \n",
    "The AUC score with True Positive Rate and False Positive Rate of the model is mentioned here"
   ]
  },
  {
   "cell_type": "code",
   "execution_count": 30,
   "metadata": {},
   "outputs": [
    {
     "name": "stdout",
     "output_type": "stream",
     "text": [
      "Confusion Matrix\n",
      " [[54  2]\n",
      " [ 4 55]]\n",
      "False Positive Rate :   0.036\n",
      "True Positive Rate  :   0.932\n",
      "Area Under Curve (AUC): 0.948\n"
     ]
    }
   ],
   "source": [
    "import confusion_matrix as cm\n",
    "cm,fpr,recall = cm.confusion_matrix(y_test, y_test_pred_svm)\n",
    "# Accuracy is\n",
    "AUC_score = (cm[0][0] + cm[1][1])/(cm[0][1]+cm[1][0]+cm[0][0] + cm[1][1])\n",
    "print('Confusion Matrix\\n',cm)\n",
    "print('False Positive Rate :   {:.3f}'.format(fpr))\n",
    "print('True Positive Rate  :   {:.3f}'.format(recall))\n",
    "print('Area Under Curve (AUC): {:.3f}'.format(AUC_score))"
   ]
  },
  {
   "cell_type": "markdown",
   "metadata": {
    "id": "XW2Czt08hhqg"
   },
   "source": [
    "<h2><center>Conclusions</center></h2>\n",
    "We were given a task to implement a model that will help classify between M/B(still have to refine these lines).\n",
    "To do this we first normalize and clean the data so that we can get maximum efficiency in our classification model.\n",
    "Then we implement the models that we created using python scripts and make a call back to then in our main IPython notebook.\n",
    "<br> </br>\n",
    "<p>\n",
    "<em>\n",
    "The following are the results obtained for the repesctive implemnted models :-\n",
    "</p>\n",
    "</em>\n",
    "<em>    \n",
    "\n",
    "<br><h4>1. Stochastic Gradient Descent Classifier </h4>\n",
    "<em>\n",
    "    <ol>\n",
    "    <li></li>\n",
    "    <li></li>\n",
    "    <li></li>\n",
    "    </ol>\n",
    "</em>\n",
    "</br>\n",
    "<br><h4>2. Support Vector Machine </h4>\n",
    "<em>\n",
    "    <ol>\n",
    "    <li></li>\n",
    "    <li></li>\n",
    "    <li></li>\n",
    "    </ol>\n",
    "</em>\n",
    "</br>\n",
    "</em>\n",
    "<h2><center>Code's Shortcomings</center></h2>\n",
    "This code works on assumption that #Gradient descents fault... \n",
    "<em>\n",
    "&emsp;<li>Very High Accuracy (Overfitting?) but still high precission and recall? Why?</li>\n",
    "<li>Really Low Data Points </li>\n",
    "<!---> Some shortcommings about the SVMs stuff? What assumptions we make with the SVM stuff?\n"
   ]
  },
  {
   "cell_type": "markdown",
   "metadata": {
    "id": "_tB9iqYfg-NA"
   },
   "source": [
    "<h2><center>References</center></h2>\n"
   ]
  },
  {
   "cell_type": "markdown",
   "metadata": {},
   "source": []
  }
 ],
 "metadata": {
  "colab": {
   "collapsed_sections": [],
   "name": "Main_Code.ipynb",
   "provenance": []
  },
  "kernelspec": {
   "display_name": "Python 3",
   "language": "python",
   "name": "python3"
  },
  "language_info": {
   "codemirror_mode": {
    "name": "ipython",
    "version": 3
   },
   "file_extension": ".py",
   "mimetype": "text/x-python",
   "name": "python",
   "nbconvert_exporter": "python",
   "pygments_lexer": "ipython3",
   "version": "3.8.8"
  }
 },
 "nbformat": 4,
 "nbformat_minor": 1
}
