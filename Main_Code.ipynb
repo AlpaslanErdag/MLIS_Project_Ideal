{
 "cells": [
  {
   "cell_type": "code",
   "execution_count": 1,
   "metadata": {
    "id": "e6rrsFyi4Bd9"
   },
   "outputs": [],
   "source": [
    "# This is the main jupyter notebook for the coursework of MLIS \n",
    "## Grp 4B\n",
    "## Authors\n",
    "## Alpaslan Erdag , Anshuman Singh , Yixin Fan\n",
    "## Date - 15/01/2022"
   ]
  },
  {
   "cell_type": "markdown",
   "metadata": {
    "id": "G-IY5zC537OU"
   },
   "source": [
    "<h1> <center> Abstract </center> </h1>\n",
    "​<em>\n",
    "\n",
    "Todo - Write some abstract about the data giving some information about.\n",
    "\n",
    "The data is obtanined from UCI repository which can be obtained from the [here](https://archive.ics.uci.edu/ml/datasets/breast+cancer+wisconsin+%28original%29)\n",
    "</em>"
   ]
  },
  {
   "cell_type": "code",
   "execution_count": 2,
   "metadata": {
    "colab": {
     "base_uri": "https://localhost:8080/"
    },
    "id": "3boaTk7A4FrC",
    "outputId": "28e07a26-0a3f-4422-b507-f887576fdaca"
   },
   "outputs": [
    {
     "name": "stdout",
     "output_type": "stream",
     "text": [
      "Citation Request:\n",
      "   This breast cancer databases was obtained from the University of Wisconsin\n",
      "   Hospitals, Madison from Dr. William H. Wolberg.  If you publish results\n",
      "   when using this database, then please include this information in your\n",
      "   acknowledgements.  Also, please cite one or more of:\n",
      "\n",
      "   1. O. L. Mangasarian and W. H. Wolberg: \"Cancer diagnosis via linear \n",
      "      programming\", SIAM News, Volume 23, Number 5, September 1990, pp 1 & 18.\n",
      "\n",
      "   2. William H. Wolberg and O.L. Mangasarian: \"Multisurface method of \n",
      "      pattern separation for medical diagnosis applied to breast cytology\", \n",
      "      Proceedings of the National Academy of Sciences, U.S.A., Volume 87, \n",
      "      December 1990, pp 9193-9196.\n",
      "\n",
      "   3. O. L. Mangasarian, R. Setiono, and W.H. Wolberg: \"Pattern recognition \n",
      "      via linear programming: Theory and application to medical diagnosis\", \n",
      "      in: \"Large-scale numerical optimization\", Thomas F. Coleman and Yuying\n",
      "      Li, editors, SIAM Publications, Philadelphia 1990, pp 22-30.\n",
      "\n",
      "   4. K. P. Bennett & O. L. Mangasarian: \"Robust linear programming \n",
      "      discrimination of two linearly inseparable sets\", Optimization Methods\n",
      "      and Software 1, 1992, 23-34 (Gordon & Breach Science Publishers).\n",
      "\n",
      "1. Title: Wisconsin Breast Cancer Database (January 8, 1991)\n",
      "\n",
      "2. Sources:\n",
      "   -- Dr. WIlliam H. Wolberg (physician)\n",
      "      University of Wisconsin Hospitals\n",
      "      Madison, Wisconsin\n",
      "      USA\n",
      "   -- Donor: Olvi Mangasarian (mangasarian@cs.wisc.edu)\n",
      "      Received by David W. Aha (aha@cs.jhu.edu)\n",
      "   -- Date: 15 July 1992\n",
      "\n",
      "3. Past Usage:\n",
      "\n",
      "   Attributes 2 through 10 have been used to represent instances.\n",
      "   Each instance has one of 2 possible classes: benign or malignant.\n",
      "\n",
      "   1. Wolberg,~W.~H., \\& Mangasarian,~O.~L. (1990). Multisurface method of \n",
      "      pattern separation for medical diagnosis applied to breast cytology. In\n",
      "      {\\it Proceedings of the National Academy of Sciences}, {\\it 87},\n",
      "      9193--9196.\n",
      "      -- Size of data set: only 369 instances (at that point in time)\n",
      "      -- Collected classification results: 1 trial only\n",
      "      -- Two pairs of parallel hyperplanes were found to be consistent with\n",
      "         50% of the data\n",
      "         -- Accuracy on remaining 50% of dataset: 93.5%\n",
      "      -- Three pairs of parallel hyperplanes were found to be consistent with\n",
      "         67% of data\n",
      "         -- Accuracy on remaining 33% of dataset: 95.9%\n",
      "\n",
      "   2. Zhang,~J. (1992). Selecting typical instances in instance-based\n",
      "      learning.  In {\\it Proceedings of the Ninth International Machine\n",
      "      Learning Conference} (pp. 470--479).  Aberdeen, Scotland: Morgan\n",
      "      Kaufmann.\n",
      "      -- Size of data set: only 369 instances (at that point in time)\n",
      "      -- Applied 4 instance-based learning algorithms \n",
      "      -- Collected classification results averaged over 10 trials\n",
      "      -- Best accuracy result: \n",
      "         -- 1-nearest neighbor: 93.7%\n",
      "         -- trained on 200 instances, tested on the other 169\n",
      "      -- Also of interest:\n",
      "         -- Using only typical instances: 92.2% (storing only 23.1 instances)\n",
      "         -- trained on 200 instances, tested on the other 169\n",
      "\n",
      "4. Relevant Information:\n",
      "\n",
      "   Samples arrive periodically as Dr. Wolberg reports his clinical cases.\n",
      "   The database therefore reflects this chronological grouping of the data.\n",
      "   This grouping information appears immediately below, having been removed\n",
      "   from the data itself:\n",
      "\n",
      "     Group 1: 367 instances (January 1989)\n",
      "     Group 2:  70 instances (October 1989)\n",
      "     Group 3:  31 instances (February 1990)\n",
      "     Group 4:  17 instances (April 1990)\n",
      "     Group 5:  48 instances (August 1990)\n",
      "     Group 6:  49 instances (Updated January 1991)\n",
      "     Group 7:  31 instances (June 1991)\n",
      "     Group 8:  86 instances (November 1991)\n",
      "     -----------------------------------------\n",
      "     Total:   699 points (as of the donated datbase on 15 July 1992)\n",
      "\n",
      "   Note that the results summarized above in Past Usage refer to a dataset\n",
      "   of size 369, while Group 1 has only 367 instances.  This is because it\n",
      "   originally contained 369 instances; 2 were removed.  The following\n",
      "   statements summarizes changes to the original Group 1's set of data:\n",
      "\n",
      "   #####  Group 1 : 367 points: 200B 167M (January 1989)\n",
      "   #####  Revised Jan 10, 1991: Replaced zero bare nuclei in 1080185 & 1187805\n",
      "   #####  Revised Nov 22,1991: Removed 765878,4,5,9,7,10,10,10,3,8,1 no record\n",
      "   #####                  : Removed 484201,2,7,8,8,4,3,10,3,4,1 zero epithelial\n",
      "   #####                  : Changed 0 to 1 in field 6 of sample 1219406\n",
      "   #####                  : Changed 0 to 1 in field 8 of following sample:\n",
      "   #####                  : 1182404,2,3,1,1,1,2,0,1,1,1\n",
      "\n",
      "5. Number of Instances: 699 (as of 15 July 1992)\n",
      "\n",
      "6. Number of Attributes: 10 plus the class attribute\n",
      "\n",
      "7. Attribute Information: (class attribute has been moved to last column)\n",
      "\n",
      "   #  Attribute                     Domain\n",
      "   -- -----------------------------------------\n",
      "   1. Sample code number            id number\n",
      "   2. Clump Thickness               1 - 10\n",
      "   3. Uniformity of Cell Size       1 - 10\n",
      "   4. Uniformity of Cell Shape      1 - 10\n",
      "   5. Marginal Adhesion             1 - 10\n",
      "   6. Single Epithelial Cell Size   1 - 10\n",
      "   7. Bare Nuclei                   1 - 10\n",
      "   8. Bland Chromatin               1 - 10\n",
      "   9. Normal Nucleoli               1 - 10\n",
      "  10. Mitoses                       1 - 10\n",
      "  11. Class:                        (2 for benign, 4 for malignant)\n",
      "\n",
      "8. Missing attribute values: 16\n",
      "\n",
      "   There are 16 instances in Groups 1 to 6 that contain a single missing \n",
      "   (i.e., unavailable) attribute value, now denoted by \"?\".  \n",
      "\n",
      "9. Class distribution:\n",
      " \n",
      "   Benign: 458 (65.5%)\n",
      "   Malignant: 241 (34.5%)\n",
      "\n"
     ]
    }
   ],
   "source": [
    "# Also should we show this ? tell me your thoughts\n",
    "about_data ='/Users/anshuman/Desktop/Project_Folder/MLIS_Project_Ideal/breast-cancer-wisconsin.names'\n",
    "#about_data = '/content/breast-cancer-wisconsin.names'\n",
    "with open(about_data) as f:\n",
    "    print(f.read())"
   ]
  },
  {
   "cell_type": "markdown",
   "metadata": {
    "id": "ZN6gh3N24R-W"
   },
   "source": [
    "<h1><center>About code (Suggest a good heading)</center></h1>\n",
    "\n",
    "<h2><em>The code is divided in the following modules/parts/chapters?</h2>\n",
    "<ol>\n",
    "<li> <h4> Data Cleaning and Data Preprocessing </h4></li> \n",
    "<li> <h4>Model Fiting on the clean data </h4></li> \n",
    "<li> <h4>Model Accuracy </h4></li>\n",
    "</ol>\n",
    "</em>"
   ]
  },
  {
   "cell_type": "markdown",
   "metadata": {
    "id": "0TONMQnQ4SDg"
   },
   "source": [
    "<h2><center>1. Data Cleaning and Data Preprocessing</center></h2>\n",
    "\n",
    "<p>To get a good result over model accuracies we are going to first clean the data and then used the cleaned and preprocessed data to train a model. </p>\n",
    "\n",
    "<p> We will be using a systematic approach to clean our data. That will be listed in the following steps</p>\n",
    "<em>\n",
    "&emsp; <li>Data Visulaization</li>\n",
    "&emsp; <li>Checking and Removing nan values</li>\n",
    "&emsp; <li>Removing Useless Attributes</li>\n",
    "&emsp; <li>Deleting Outliers and Data Normalizations</li>\n",
    "</em>"
   ]
  },
  {
   "cell_type": "markdown",
   "metadata": {
    "id": "-daRoybV4SJI"
   },
   "source": [
    "<h3>1.1 Data Visualization </h3>"
   ]
  },
  {
   "cell_type": "markdown",
   "metadata": {
    "id": "dRQhoFvkfl-R"
   },
   "source": [
    "<h4>1.1.1 Code </h4>"
   ]
  },
  {
   "cell_type": "code",
   "execution_count": 3,
   "metadata": {
    "id": "sK9S6Bky4RlC"
   },
   "outputs": [],
   "source": [
    "## Header Files \n",
    "import pandas as pd\n",
    "import numpy as np\n",
    "import warnings\n",
    "warnings.filterwarnings('ignore')\n",
    "import matplotlib.pyplot as plt\n",
    "import seaborn as sns\n",
    "plt.style.use('ggplot')\n",
    "import scipy\n",
    "\n",
    "## Loading Data \n",
    "data = '/Users/anshuman/Desktop/Project_Folder/MLIS_Project_Ideal/breast-cancer-wisconsin.data'\n",
    "#data = '/content/breast-cancer-wisconsin.data'"
   ]
  },
  {
   "cell_type": "code",
   "execution_count": 4,
   "metadata": {
    "id": "xL5c7NTs4omD"
   },
   "outputs": [
    {
     "data": {
      "text/html": [
       "<div>\n",
       "<style scoped>\n",
       "    .dataframe tbody tr th:only-of-type {\n",
       "        vertical-align: middle;\n",
       "    }\n",
       "\n",
       "    .dataframe tbody tr th {\n",
       "        vertical-align: top;\n",
       "    }\n",
       "\n",
       "    .dataframe thead th {\n",
       "        text-align: right;\n",
       "    }\n",
       "</style>\n",
       "<table border=\"1\" class=\"dataframe\">\n",
       "  <thead>\n",
       "    <tr style=\"text-align: right;\">\n",
       "      <th></th>\n",
       "      <th>Samplecodenumber</th>\n",
       "      <th>ClumpThickness</th>\n",
       "      <th>UniformityofCellSize</th>\n",
       "      <th>UniformityofCellShape</th>\n",
       "      <th>MarginalAdhesion</th>\n",
       "      <th>SingleEpithelialCellSize</th>\n",
       "      <th>BareNuclei</th>\n",
       "      <th>BlandChromatin</th>\n",
       "      <th>NormalNucleoli</th>\n",
       "      <th>Mitoses</th>\n",
       "      <th>Class</th>\n",
       "    </tr>\n",
       "  </thead>\n",
       "  <tbody>\n",
       "    <tr>\n",
       "      <th>0</th>\n",
       "      <td>1000025</td>\n",
       "      <td>5</td>\n",
       "      <td>1</td>\n",
       "      <td>1</td>\n",
       "      <td>1</td>\n",
       "      <td>2</td>\n",
       "      <td>1</td>\n",
       "      <td>3</td>\n",
       "      <td>1</td>\n",
       "      <td>1</td>\n",
       "      <td>2</td>\n",
       "    </tr>\n",
       "    <tr>\n",
       "      <th>1</th>\n",
       "      <td>1002945</td>\n",
       "      <td>5</td>\n",
       "      <td>4</td>\n",
       "      <td>4</td>\n",
       "      <td>5</td>\n",
       "      <td>7</td>\n",
       "      <td>10</td>\n",
       "      <td>3</td>\n",
       "      <td>2</td>\n",
       "      <td>1</td>\n",
       "      <td>2</td>\n",
       "    </tr>\n",
       "    <tr>\n",
       "      <th>2</th>\n",
       "      <td>1015425</td>\n",
       "      <td>3</td>\n",
       "      <td>1</td>\n",
       "      <td>1</td>\n",
       "      <td>1</td>\n",
       "      <td>2</td>\n",
       "      <td>2</td>\n",
       "      <td>3</td>\n",
       "      <td>1</td>\n",
       "      <td>1</td>\n",
       "      <td>2</td>\n",
       "    </tr>\n",
       "    <tr>\n",
       "      <th>3</th>\n",
       "      <td>1016277</td>\n",
       "      <td>6</td>\n",
       "      <td>8</td>\n",
       "      <td>8</td>\n",
       "      <td>1</td>\n",
       "      <td>3</td>\n",
       "      <td>4</td>\n",
       "      <td>3</td>\n",
       "      <td>7</td>\n",
       "      <td>1</td>\n",
       "      <td>2</td>\n",
       "    </tr>\n",
       "    <tr>\n",
       "      <th>4</th>\n",
       "      <td>1017023</td>\n",
       "      <td>4</td>\n",
       "      <td>1</td>\n",
       "      <td>1</td>\n",
       "      <td>3</td>\n",
       "      <td>2</td>\n",
       "      <td>1</td>\n",
       "      <td>3</td>\n",
       "      <td>1</td>\n",
       "      <td>1</td>\n",
       "      <td>2</td>\n",
       "    </tr>\n",
       "  </tbody>\n",
       "</table>\n",
       "</div>"
      ],
      "text/plain": [
       "   Samplecodenumber  ClumpThickness  UniformityofCellSize  \\\n",
       "0           1000025               5                     1   \n",
       "1           1002945               5                     4   \n",
       "2           1015425               3                     1   \n",
       "3           1016277               6                     8   \n",
       "4           1017023               4                     1   \n",
       "\n",
       "   UniformityofCellShape  MarginalAdhesion  SingleEpithelialCellSize  \\\n",
       "0                      1                 1                         2   \n",
       "1                      4                 5                         7   \n",
       "2                      1                 1                         2   \n",
       "3                      8                 1                         3   \n",
       "4                      1                 3                         2   \n",
       "\n",
       "  BareNuclei  BlandChromatin  NormalNucleoli  Mitoses  Class  \n",
       "0          1               3               1        1      2  \n",
       "1         10               3               2        1      2  \n",
       "2          2               3               1        1      2  \n",
       "3          4               3               7        1      2  \n",
       "4          1               3               1        1      2  "
      ]
     },
     "execution_count": 4,
     "metadata": {},
     "output_type": "execute_result"
    }
   ],
   "source": [
    "col_name = ['Samplecodenumber','ClumpThickness','UniformityofCellSize','UniformityofCellShape',\n",
    "            'MarginalAdhesion','SingleEpithelialCellSize','BareNuclei',\n",
    "            'BlandChromatin','NormalNucleoli','Mitoses','Class']\n",
    "cancerdata = pd.read_csv(data,low_memory=False,names=col_name)\n",
    "cancerdata.head()"
   ]
  },
  {
   "cell_type": "code",
   "execution_count": 5,
   "metadata": {
    "id": "oOGBeeDS4opZ"
   },
   "outputs": [],
   "source": [
    "## Removing attribute that is of no use\n",
    "cancerdata = cancerdata.drop(['Samplecodenumber'], 1)"
   ]
  },
  {
   "cell_type": "code",
   "execution_count": 6,
   "metadata": {
    "id": "nV7-qayy4orv"
   },
   "outputs": [
    {
     "data": {
      "text/plain": [
       "2    458\n",
       "4    241\n",
       "Name: Class, dtype: int64"
      ]
     },
     "execution_count": 6,
     "metadata": {},
     "output_type": "execute_result"
    }
   ],
   "source": [
    "# The number of samples present by class count\n",
    "cancerdata['Class'].value_counts()"
   ]
  },
  {
   "cell_type": "code",
   "execution_count": 7,
   "metadata": {
    "id": "iY_4Kw5F4ous"
   },
   "outputs": [
    {
     "data": {
      "text/html": [
       "<div>\n",
       "<style scoped>\n",
       "    .dataframe tbody tr th:only-of-type {\n",
       "        vertical-align: middle;\n",
       "    }\n",
       "\n",
       "    .dataframe tbody tr th {\n",
       "        vertical-align: top;\n",
       "    }\n",
       "\n",
       "    .dataframe thead th {\n",
       "        text-align: right;\n",
       "    }\n",
       "</style>\n",
       "<table border=\"1\" class=\"dataframe\">\n",
       "  <thead>\n",
       "    <tr style=\"text-align: right;\">\n",
       "      <th></th>\n",
       "      <th>ClumpThickness</th>\n",
       "      <th>UniformityofCellSize</th>\n",
       "      <th>UniformityofCellShape</th>\n",
       "      <th>MarginalAdhesion</th>\n",
       "      <th>SingleEpithelialCellSize</th>\n",
       "      <th>BareNuclei</th>\n",
       "      <th>BlandChromatin</th>\n",
       "      <th>NormalNucleoli</th>\n",
       "      <th>Mitoses</th>\n",
       "      <th>classes</th>\n",
       "    </tr>\n",
       "  </thead>\n",
       "  <tbody>\n",
       "    <tr>\n",
       "      <th>0</th>\n",
       "      <td>5</td>\n",
       "      <td>1</td>\n",
       "      <td>1</td>\n",
       "      <td>1</td>\n",
       "      <td>2</td>\n",
       "      <td>1</td>\n",
       "      <td>3</td>\n",
       "      <td>1</td>\n",
       "      <td>1</td>\n",
       "      <td>0</td>\n",
       "    </tr>\n",
       "    <tr>\n",
       "      <th>1</th>\n",
       "      <td>6</td>\n",
       "      <td>8</td>\n",
       "      <td>8</td>\n",
       "      <td>1</td>\n",
       "      <td>3</td>\n",
       "      <td>4</td>\n",
       "      <td>3</td>\n",
       "      <td>7</td>\n",
       "      <td>1</td>\n",
       "      <td>0</td>\n",
       "    </tr>\n",
       "    <tr>\n",
       "      <th>2</th>\n",
       "      <td>8</td>\n",
       "      <td>10</td>\n",
       "      <td>10</td>\n",
       "      <td>8</td>\n",
       "      <td>7</td>\n",
       "      <td>10</td>\n",
       "      <td>9</td>\n",
       "      <td>7</td>\n",
       "      <td>1</td>\n",
       "      <td>1</td>\n",
       "    </tr>\n",
       "    <tr>\n",
       "      <th>3</th>\n",
       "      <td>1</td>\n",
       "      <td>1</td>\n",
       "      <td>1</td>\n",
       "      <td>1</td>\n",
       "      <td>2</td>\n",
       "      <td>10</td>\n",
       "      <td>3</td>\n",
       "      <td>1</td>\n",
       "      <td>1</td>\n",
       "      <td>0</td>\n",
       "    </tr>\n",
       "    <tr>\n",
       "      <th>4</th>\n",
       "      <td>4</td>\n",
       "      <td>2</td>\n",
       "      <td>1</td>\n",
       "      <td>1</td>\n",
       "      <td>2</td>\n",
       "      <td>1</td>\n",
       "      <td>2</td>\n",
       "      <td>1</td>\n",
       "      <td>1</td>\n",
       "      <td>0</td>\n",
       "    </tr>\n",
       "  </tbody>\n",
       "</table>\n",
       "</div>"
      ],
      "text/plain": [
       "   ClumpThickness  UniformityofCellSize  UniformityofCellShape  \\\n",
       "0               5                     1                      1   \n",
       "1               6                     8                      8   \n",
       "2               8                    10                     10   \n",
       "3               1                     1                      1   \n",
       "4               4                     2                      1   \n",
       "\n",
       "   MarginalAdhesion  SingleEpithelialCellSize BareNuclei  BlandChromatin  \\\n",
       "0                 1                         2          1               3   \n",
       "1                 1                         3          4               3   \n",
       "2                 8                         7         10               9   \n",
       "3                 1                         2         10               3   \n",
       "4                 1                         2          1               2   \n",
       "\n",
       "   NormalNucleoli  Mitoses  classes  \n",
       "0               1        1        0  \n",
       "1               7        1        0  \n",
       "2               7        1        1  \n",
       "3               1        1        0  \n",
       "4               1        1        0  "
      ]
     },
     "execution_count": 7,
     "metadata": {},
     "output_type": "execute_result"
    }
   ],
   "source": [
    "# Making the class counts to similar size\n",
    "Benign = cancerdata[(cancerdata.Class == 2) ].sample(240).index\n",
    "Malignant = cancerdata[(cancerdata.Class == 4) ].sample(240).index\n",
    "cancer = cancerdata.loc[Benign|Malignant]\n",
    "cancer = cancer.reset_index(drop=True)\n",
    "\n",
    "# Making the classess from 2/4 to 0/1 \n",
    "cancer['classes'] = cancer.Class.map({2:0,4:1})\n",
    "cancer = cancer.drop(['Class'], 1)\n",
    "\n",
    "# Printing the updated dataframe\n",
    "cancer.head()"
   ]
  },
  {
   "cell_type": "code",
   "execution_count": 8,
   "metadata": {
    "id": "2gLfIN6F4oxH"
   },
   "outputs": [
    {
     "data": {
      "text/plain": [
       "0    240\n",
       "1    240\n",
       "Name: classes, dtype: int64"
      ]
     },
     "execution_count": 8,
     "metadata": {},
     "output_type": "execute_result"
    }
   ],
   "source": [
    "# Confirming that counts of the classes are similar \n",
    "cancer['classes'].value_counts()\n"
   ]
  },
  {
   "cell_type": "code",
   "execution_count": 9,
   "metadata": {
    "id": "FxwBcGnk429U"
   },
   "outputs": [
    {
     "data": {
      "image/png": "[encoded data removed]",
      "text/plain": [
       "<Figure size 1296x1296 with 9 Axes>"
      ]
     },
     "metadata": {},
     "output_type": "display_data"
    }
   ],
   "source": [
    "# plot date variables and find the variables with similar distributions, keep only one of them.\n",
    "#['ClumpThickness','UniformityofCellSize','UniformityofCellShape','MarginalAdhesion',\n",
    "#'SingleEpithelialCellSize','BareNuclei','BlandChromatin','NormalNucleoli','Mitoses']\n",
    "fig, axs = plt.subplots(3, 3, figsize=(18,18))\n",
    "axs[0,0].hist(cancer['ClumpThickness'])\n",
    "axs[0,0].set_title(\"ClumpThickness\")\n",
    "axs[0,1].hist(cancer['UniformityofCellSize'])\n",
    "axs[0,1].set_title(\"UniformityofCellSize\")\n",
    "axs[0,2].hist(cancer['UniformityofCellShape'])\n",
    "axs[0,2].set_title(\"UniformityofCellShape\")\n",
    "axs[1,0].hist(cancer['MarginalAdhesion'])\n",
    "axs[1,0].set_title(\"MarginalAdhesion\")\n",
    "axs[1,1].hist(cancer['SingleEpithelialCellSize'])\n",
    "axs[1,1].set_title(\"SingleEpithelialCellSize\")\n",
    "axs[1,2].hist(cancer['BareNuclei'])\n",
    "axs[1,2].set_title(\"BareNuclei\")\n",
    "axs[2,0].hist(cancer['BlandChromatin'])\n",
    "axs[2,0].set_title(\"BlandChromatin\")\n",
    "axs[2,1].hist(cancer['NormalNucleoli'])\n",
    "axs[2,1].set_title(\"NormalNucleoli\")\n",
    "axs[2,2].hist(cancer['Mitoses'])\n",
    "axs[2,2].set_title(\"Mitoses\")\n",
    "fig.tight_layout()"
   ]
  },
  {
   "cell_type": "markdown",
   "metadata": {
    "id": "wdpWrB3HWel7"
   },
   "source": [
    "<h4>1.1.2 Observations </h4>\n",
    "<ol>\n",
    "    <li>The class counts is in a 2:1 ratio with benign being 458 and malignant being 241</li>\n",
    "    <li>The graph shows that data is very skewed for every attribute</li>\n",
    "</ol>\n",
    "<h4>1.1.3 Approach </h4>\n",
    "<ol>\n",
    "    <li>First we make the class ratio 1:1 and making data points to 240 for each class</li>\n",
    "</ol>"
   ]
  },
  {
   "cell_type": "markdown",
   "metadata": {
    "id": "fPcTVTlE46vC"
   },
   "source": [
    "<h3>1.2 Checking and Removing nan values</h3>"
   ]
  },
  {
   "cell_type": "markdown",
   "metadata": {
    "id": "wbaWQwlpfyif"
   },
   "source": [
    "<h4>1.2.1 Code </h4>"
   ]
  },
  {
   "cell_type": "code",
   "execution_count": 10,
   "metadata": {
    "id": "dJclAfmh49KE"
   },
   "outputs": [
    {
     "data": {
      "text/plain": [
       "int64     9\n",
       "object    1\n",
       "dtype: int64"
      ]
     },
     "execution_count": 10,
     "metadata": {},
     "output_type": "execute_result"
    }
   ],
   "source": [
    "## TODO \n",
    "## Yixin remove the wasted steps from the code and only keep the most important data cleaning steps\n",
    "cancer.dtypes.value_counts()"
   ]
  },
  {
   "cell_type": "code",
   "execution_count": 11,
   "metadata": {
    "id": "3DCa8TIj4_Ty"
   },
   "outputs": [
    {
     "data": {
      "text/html": [
       "<div>\n",
       "<style scoped>\n",
       "    .dataframe tbody tr th:only-of-type {\n",
       "        vertical-align: middle;\n",
       "    }\n",
       "\n",
       "    .dataframe tbody tr th {\n",
       "        vertical-align: top;\n",
       "    }\n",
       "\n",
       "    .dataframe thead th {\n",
       "        text-align: right;\n",
       "    }\n",
       "</style>\n",
       "<table border=\"1\" class=\"dataframe\">\n",
       "  <thead>\n",
       "    <tr style=\"text-align: right;\">\n",
       "      <th></th>\n",
       "      <th>BareNuclei</th>\n",
       "    </tr>\n",
       "  </thead>\n",
       "  <tbody>\n",
       "    <tr>\n",
       "      <th>0</th>\n",
       "      <td>1</td>\n",
       "    </tr>\n",
       "    <tr>\n",
       "      <th>1</th>\n",
       "      <td>4</td>\n",
       "    </tr>\n",
       "    <tr>\n",
       "      <th>2</th>\n",
       "      <td>10</td>\n",
       "    </tr>\n",
       "    <tr>\n",
       "      <th>3</th>\n",
       "      <td>10</td>\n",
       "    </tr>\n",
       "    <tr>\n",
       "      <th>4</th>\n",
       "      <td>1</td>\n",
       "    </tr>\n",
       "    <tr>\n",
       "      <th>...</th>\n",
       "      <td>...</td>\n",
       "    </tr>\n",
       "    <tr>\n",
       "      <th>475</th>\n",
       "      <td>2</td>\n",
       "    </tr>\n",
       "    <tr>\n",
       "      <th>476</th>\n",
       "      <td>1</td>\n",
       "    </tr>\n",
       "    <tr>\n",
       "      <th>477</th>\n",
       "      <td>3</td>\n",
       "    </tr>\n",
       "    <tr>\n",
       "      <th>478</th>\n",
       "      <td>4</td>\n",
       "    </tr>\n",
       "    <tr>\n",
       "      <th>479</th>\n",
       "      <td>5</td>\n",
       "    </tr>\n",
       "  </tbody>\n",
       "</table>\n",
       "<p>480 rows × 1 columns</p>\n",
       "</div>"
      ],
      "text/plain": [
       "    BareNuclei\n",
       "0            1\n",
       "1            4\n",
       "2           10\n",
       "3           10\n",
       "4            1\n",
       "..         ...\n",
       "475          2\n",
       "476          1\n",
       "477          3\n",
       "478          4\n",
       "479          5\n",
       "\n",
       "[480 rows x 1 columns]"
      ]
     },
     "execution_count": 11,
     "metadata": {},
     "output_type": "execute_result"
    }
   ],
   "source": [
    "cancer.select_dtypes('object')"
   ]
  },
  {
   "cell_type": "code",
   "execution_count": 12,
   "metadata": {
    "id": "1CyRzBnb6XnU"
   },
   "outputs": [
    {
     "data": {
      "text/html": [
       "<div>\n",
       "<style scoped>\n",
       "    .dataframe tbody tr th:only-of-type {\n",
       "        vertical-align: middle;\n",
       "    }\n",
       "\n",
       "    .dataframe tbody tr th {\n",
       "        vertical-align: top;\n",
       "    }\n",
       "\n",
       "    .dataframe thead th {\n",
       "        text-align: right;\n",
       "    }\n",
       "</style>\n",
       "<table border=\"1\" class=\"dataframe\">\n",
       "  <thead>\n",
       "    <tr style=\"text-align: right;\">\n",
       "      <th></th>\n",
       "      <th>Count</th>\n",
       "      <th>Percent</th>\n",
       "    </tr>\n",
       "  </thead>\n",
       "  <tbody>\n",
       "    <tr>\n",
       "      <th>BareNuclei</th>\n",
       "      <td>9</td>\n",
       "      <td>1.875</td>\n",
       "    </tr>\n",
       "  </tbody>\n",
       "</table>\n",
       "</div>"
      ],
      "text/plain": [
       "            Count  Percent\n",
       "BareNuclei      9    1.875"
      ]
     },
     "execution_count": 12,
     "metadata": {},
     "output_type": "execute_result"
    }
   ],
   "source": [
    "cancer = cancer.replace('?' ,np.nan)\n",
    "\n",
    "##Finding the the count and percentage of values that are missing in the dataframe.\n",
    "null1 = pd.DataFrame({'Count': cancer.isnull().sum(), 'Percent': 100*cancer.isnull().sum()/len(cancer)})\n",
    "\n",
    "##printing columns with null count more than 0\n",
    "null1[null1['Count'] > 0]"
   ]
  },
  {
   "cell_type": "code",
   "execution_count": 13,
   "metadata": {
    "id": "mQKh6EdQ6Xrk"
   },
   "outputs": [],
   "source": [
    "## Filling the columns with nan values with mean of the data\n",
    "cancer[\"BareNuclei\"]=cancer[\"BareNuclei\"].astype(float)\n",
    "cancer=cancer.fillna(cancer.mean())"
   ]
  },
  {
   "cell_type": "markdown",
   "metadata": {
    "id": "PHIdqxDmWMPe"
   },
   "source": [
    "<h4>1.2.2 Observations </h4>\n",
    "<ol>\n",
    "    <li>We obsereve that there is one attribute that is not in integer format</li>\n",
    "    <li>We find that there are nan values in BareNuclei</li>\n",
    "</ol>\n",
    "<h4>1.2.3 Approach </h4>\n",
    "<ol>\n",
    "    <li>We find that BareNuclei is a object type attribute so we convert it to float</li>\n",
    "    <li>We replace nan values in BareNuclei with mean value of BareNuclei</li>\n",
    "</ol>"
   ]
  },
  {
   "cell_type": "markdown",
   "metadata": {
    "id": "uf89AePf6nsZ"
   },
   "source": [
    "<h3>1.3 Removing Useless Attributes </h3>"
   ]
  },
  {
   "cell_type": "markdown",
   "metadata": {
    "id": "aF8wcn9Gf3au"
   },
   "source": [
    "<h4>1.3.1 Code </h4>"
   ]
  },
  {
   "cell_type": "code",
   "execution_count": 14,
   "metadata": {
    "id": "e1xo7hxe6Xv1"
   },
   "outputs": [
    {
     "data": {
      "text/html": [
       "<div>\n",
       "<style scoped>\n",
       "    .dataframe tbody tr th:only-of-type {\n",
       "        vertical-align: middle;\n",
       "    }\n",
       "\n",
       "    .dataframe tbody tr th {\n",
       "        vertical-align: top;\n",
       "    }\n",
       "\n",
       "    .dataframe thead th {\n",
       "        text-align: right;\n",
       "    }\n",
       "</style>\n",
       "<table border=\"1\" class=\"dataframe\">\n",
       "  <thead>\n",
       "    <tr style=\"text-align: right;\">\n",
       "      <th></th>\n",
       "      <th>classes</th>\n",
       "      <th>UniformityofCellShape</th>\n",
       "      <th>UniformityofCellSize</th>\n",
       "      <th>BareNuclei</th>\n",
       "      <th>BlandChromatin</th>\n",
       "      <th>ClumpThickness</th>\n",
       "      <th>NormalNucleoli</th>\n",
       "      <th>MarginalAdhesion</th>\n",
       "      <th>SingleEpithelialCellSize</th>\n",
       "      <th>Mitoses</th>\n",
       "    </tr>\n",
       "  </thead>\n",
       "  <tbody>\n",
       "    <tr>\n",
       "      <th>0</th>\n",
       "      <td>0</td>\n",
       "      <td>1</td>\n",
       "      <td>1</td>\n",
       "      <td>1.0</td>\n",
       "      <td>3</td>\n",
       "      <td>5</td>\n",
       "      <td>1</td>\n",
       "      <td>1</td>\n",
       "      <td>2</td>\n",
       "      <td>1</td>\n",
       "    </tr>\n",
       "    <tr>\n",
       "      <th>1</th>\n",
       "      <td>0</td>\n",
       "      <td>8</td>\n",
       "      <td>8</td>\n",
       "      <td>4.0</td>\n",
       "      <td>3</td>\n",
       "      <td>6</td>\n",
       "      <td>7</td>\n",
       "      <td>1</td>\n",
       "      <td>3</td>\n",
       "      <td>1</td>\n",
       "    </tr>\n",
       "    <tr>\n",
       "      <th>2</th>\n",
       "      <td>1</td>\n",
       "      <td>10</td>\n",
       "      <td>10</td>\n",
       "      <td>10.0</td>\n",
       "      <td>9</td>\n",
       "      <td>8</td>\n",
       "      <td>7</td>\n",
       "      <td>8</td>\n",
       "      <td>7</td>\n",
       "      <td>1</td>\n",
       "    </tr>\n",
       "  </tbody>\n",
       "</table>\n",
       "</div>"
      ],
      "text/plain": [
       "   classes  UniformityofCellShape  UniformityofCellSize  BareNuclei  \\\n",
       "0        0                      1                     1         1.0   \n",
       "1        0                      8                     8         4.0   \n",
       "2        1                     10                    10        10.0   \n",
       "\n",
       "   BlandChromatin  ClumpThickness  NormalNucleoli  MarginalAdhesion  \\\n",
       "0               3               5               1                 1   \n",
       "1               3               6               7                 1   \n",
       "2               9               8               7                 8   \n",
       "\n",
       "   SingleEpithelialCellSize  Mitoses  \n",
       "0                         2        1  \n",
       "1                         3        1  \n",
       "2                         7        1  "
      ]
     },
     "execution_count": 14,
     "metadata": {},
     "output_type": "execute_result"
    }
   ],
   "source": [
    "corr_list1=cancer.corr()['classes'].abs().sort_values(ascending=False)\n",
    "corr_list_new=corr_list1[corr_list1>0.01].index.values.tolist()\n",
    "corr_list1\n",
    "cancer=cancer[corr_list_new]\n",
    "cancer.head(3)"
   ]
  },
  {
   "cell_type": "code",
   "execution_count": 15,
   "metadata": {
    "id": "5MgSXzzR6XzR"
   },
   "outputs": [
    {
     "data": {
      "text/plain": [
       "classes                   classes                     1.000000\n",
       "UniformityofCellShape     UniformityofCellSize        0.897760\n",
       "                          classes                     0.801310\n",
       "classes                   UniformityofCellSize        0.797691\n",
       "                          BareNuclei                  0.789312\n",
       "BlandChromatin            UniformityofCellSize        0.738092\n",
       "classes                   BlandChromatin              0.733802\n",
       "UniformityofCellSize      SingleEpithelialCellSize    0.732193\n",
       "UniformityofCellShape     BlandChromatin              0.720506\n",
       "classes                   ClumpThickness              0.707686\n",
       "SingleEpithelialCellSize  UniformityofCellShape       0.698282\n",
       "UniformityofCellShape     NormalNucleoli              0.693511\n",
       "UniformityofCellSize      NormalNucleoli              0.690000\n",
       "classes                   NormalNucleoli              0.687003\n",
       "MarginalAdhesion          UniformityofCellSize        0.674638\n",
       "                          classes                     0.667335\n",
       "classes                   SingleEpithelialCellSize    0.664059\n",
       "BareNuclei                UniformityofCellShape       0.658356\n",
       "MarginalAdhesion          UniformityofCellShape       0.652507\n",
       "                          BlandChromatin              0.643318\n",
       "BlandChromatin            BareNuclei                  0.641705\n",
       "                          NormalNucleoli              0.628774\n",
       "UniformityofCellShape     ClumpThickness              0.627940\n",
       "UniformityofCellSize      BareNuclei                  0.626317\n",
       "MarginalAdhesion          BareNuclei                  0.620807\n",
       "ClumpThickness            UniformityofCellSize        0.615594\n",
       "SingleEpithelialCellSize  BlandChromatin              0.589471\n",
       "                          NormalNucleoli              0.584719\n",
       "MarginalAdhesion          NormalNucleoli              0.561695\n",
       "                          SingleEpithelialCellSize    0.559221\n",
       "ClumpThickness            BareNuclei                  0.548021\n",
       "SingleEpithelialCellSize  BareNuclei                  0.525390\n",
       "NormalNucleoli            BareNuclei                  0.522061\n",
       "ClumpThickness            BlandChromatin              0.519916\n",
       "                          NormalNucleoli              0.501431\n",
       "                          SingleEpithelialCellSize    0.489584\n",
       "Mitoses                   SingleEpithelialCellSize    0.485903\n",
       "                          UniformityofCellSize        0.449396\n",
       "MarginalAdhesion          ClumpThickness              0.432882\n",
       "UniformityofCellShape     Mitoses                     0.431188\n",
       "NormalNucleoli            Mitoses                     0.423558\n",
       "MarginalAdhesion          Mitoses                     0.406687\n",
       "Mitoses                   classes                     0.399716\n",
       "ClumpThickness            Mitoses                     0.349800\n",
       "BlandChromatin            Mitoses                     0.330890\n",
       "Mitoses                   BareNuclei                  0.306121\n",
       "dtype: float64"
      ]
     },
     "metadata": {},
     "output_type": "display_data"
    }
   ],
   "source": [
    "## To remove outliers first we have to find the correlation between attributes\n",
    "\n",
    "#find the variables with high correlations\n",
    "cor1 = cancer.corr().abs()\n",
    "list1 = cor1.stack().sort_values(ascending=False).drop_duplicates()  \n",
    "high_corr= list1[list1>0.70].index.values.tolist()\n",
    "high_corr.remove(high_corr[0])\n",
    "\n",
    "display(list1)"
   ]
  },
  {
   "cell_type": "code",
   "execution_count": 16,
   "metadata": {
    "id": "x7OKFrzE6X3D"
   },
   "outputs": [],
   "source": [
    "# for variable pairs with high correlation, keep only one of them\n",
    "columnlist=list(cancer.columns)\n",
    "len(high_corr)\n",
    "for i in range(len(high_corr)):\n",
    "    if \"classes\" in high_corr[i]:\n",
    "        columnlist=columnlist\n",
    "    else:\n",
    "        if high_corr[i][0] in columnlist and high_corr[i][1] in columnlist:\n",
    "            columnlist.remove(high_corr[i][1])\n",
    "        else:\n",
    "            columnlist=columnlist\n",
    "cancer_final=cancer[columnlist]"
   ]
  },
  {
   "cell_type": "code",
   "execution_count": 17,
   "metadata": {
    "id": "ZJPMB2Tq6pOq"
   },
   "outputs": [],
   "source": [
    "## Doing a test train split on the data \n",
    "import random\n",
    "from sklearn.model_selection import train_test_split\n",
    "training_data, test_data = train_test_split(cancer_final,random_state=None, shuffle=True)\n",
    "train_x=training_data.drop(['classes'], 1) \n",
    "train_y=training_data[['classes']]\n",
    "test_x=test_data.drop(['classes'], 1)\n",
    "test_y=test_data[['classes']]"
   ]
  },
  {
   "cell_type": "markdown",
   "metadata": {
    "id": "P-oNBnzbV4lI"
   },
   "source": [
    "<h4>1.3.2 Observations </h4>\n",
    "<ol>\n",
    "    <li></li>\n",
    "</ol>\n",
    "\n",
    "<h4>1.3.3 Approach </h4>\n",
    "<ol>\n",
    "    <li></li>\n",
    "</ol>"
   ]
  },
  {
   "cell_type": "markdown",
   "metadata": {
    "id": "6mQKJvN27Bfu"
   },
   "source": [
    "<h3>1.4 Deleting Outliers and Data Normalizations</h3>"
   ]
  },
  {
   "cell_type": "markdown",
   "metadata": {
    "id": "tOcvGwDUf8fd"
   },
   "source": [
    "<h4>1.4.1 Code </h4>"
   ]
  },
  {
   "cell_type": "code",
   "execution_count": 18,
   "metadata": {
    "id": "9Z4bemp56pTY"
   },
   "outputs": [],
   "source": [
    "# Remove outliers\n",
    "cancer_norm = cancer_final[(np.abs(scipy.stats.zscore(cancer_final)) < 3).all(axis=1)]\n",
    "# Zero mean normalisation\n",
    "cancer_norm.iloc[:,1:]=(cancer_norm.iloc[:,1:]-cancer_norm.iloc[:,1:].mean())/cancer_norm.iloc[:,1:].std()"
   ]
  },
  {
   "cell_type": "code",
   "execution_count": 19,
   "metadata": {
    "id": "MQpTYu396pXt"
   },
   "outputs": [
    {
     "data": {
      "text/html": [
       "<div>\n",
       "<style scoped>\n",
       "    .dataframe tbody tr th:only-of-type {\n",
       "        vertical-align: middle;\n",
       "    }\n",
       "\n",
       "    .dataframe tbody tr th {\n",
       "        vertical-align: top;\n",
       "    }\n",
       "\n",
       "    .dataframe thead th {\n",
       "        text-align: right;\n",
       "    }\n",
       "</style>\n",
       "<table border=\"1\" class=\"dataframe\">\n",
       "  <thead>\n",
       "    <tr style=\"text-align: right;\">\n",
       "      <th></th>\n",
       "      <th>classes</th>\n",
       "      <th>UniformityofCellShape</th>\n",
       "      <th>BareNuclei</th>\n",
       "      <th>ClumpThickness</th>\n",
       "      <th>NormalNucleoli</th>\n",
       "      <th>MarginalAdhesion</th>\n",
       "      <th>SingleEpithelialCellSize</th>\n",
       "      <th>Mitoses</th>\n",
       "    </tr>\n",
       "  </thead>\n",
       "  <tbody>\n",
       "    <tr>\n",
       "      <th>0</th>\n",
       "      <td>0</td>\n",
       "      <td>-0.893345</td>\n",
       "      <td>-0.883931</td>\n",
       "      <td>0.011950</td>\n",
       "      <td>-0.722728</td>\n",
       "      <td>-0.752930</td>\n",
       "      <td>-0.656995</td>\n",
       "      <td>-0.400186</td>\n",
       "    </tr>\n",
       "    <tr>\n",
       "      <th>1</th>\n",
       "      <td>0</td>\n",
       "      <td>1.347340</td>\n",
       "      <td>-0.110012</td>\n",
       "      <td>0.354751</td>\n",
       "      <td>1.110047</td>\n",
       "      <td>-0.752930</td>\n",
       "      <td>-0.221842</td>\n",
       "      <td>-0.400186</td>\n",
       "    </tr>\n",
       "    <tr>\n",
       "      <th>2</th>\n",
       "      <td>1</td>\n",
       "      <td>1.987536</td>\n",
       "      <td>1.437828</td>\n",
       "      <td>1.040354</td>\n",
       "      <td>1.110047</td>\n",
       "      <td>1.540117</td>\n",
       "      <td>1.518767</td>\n",
       "      <td>-0.400186</td>\n",
       "    </tr>\n",
       "    <tr>\n",
       "      <th>3</th>\n",
       "      <td>0</td>\n",
       "      <td>-0.893345</td>\n",
       "      <td>1.437828</td>\n",
       "      <td>-1.359257</td>\n",
       "      <td>-0.722728</td>\n",
       "      <td>-0.752930</td>\n",
       "      <td>-0.656995</td>\n",
       "      <td>-0.400186</td>\n",
       "    </tr>\n",
       "    <tr>\n",
       "      <th>4</th>\n",
       "      <td>0</td>\n",
       "      <td>-0.893345</td>\n",
       "      <td>-0.883931</td>\n",
       "      <td>-0.330852</td>\n",
       "      <td>-0.722728</td>\n",
       "      <td>-0.752930</td>\n",
       "      <td>-0.656995</td>\n",
       "      <td>-0.400186</td>\n",
       "    </tr>\n",
       "  </tbody>\n",
       "</table>\n",
       "</div>"
      ],
      "text/plain": [
       "   classes  UniformityofCellShape  BareNuclei  ClumpThickness  NormalNucleoli  \\\n",
       "0        0              -0.893345   -0.883931        0.011950       -0.722728   \n",
       "1        0               1.347340   -0.110012        0.354751        1.110047   \n",
       "2        1               1.987536    1.437828        1.040354        1.110047   \n",
       "3        0              -0.893345    1.437828       -1.359257       -0.722728   \n",
       "4        0              -0.893345   -0.883931       -0.330852       -0.722728   \n",
       "\n",
       "   MarginalAdhesion  SingleEpithelialCellSize   Mitoses  \n",
       "0         -0.752930                 -0.656995 -0.400186  \n",
       "1         -0.752930                 -0.221842 -0.400186  \n",
       "2          1.540117                  1.518767 -0.400186  \n",
       "3         -0.752930                 -0.656995 -0.400186  \n",
       "4         -0.752930                 -0.656995 -0.400186  "
      ]
     },
     "execution_count": 19,
     "metadata": {},
     "output_type": "execute_result"
    }
   ],
   "source": [
    "cancer_norm.head()"
   ]
  },
  {
   "cell_type": "code",
   "execution_count": 20,
   "metadata": {
    "id": "Wkh0puJu6pa3"
   },
   "outputs": [],
   "source": [
    "#split the new dataset\n",
    "training_data_norm, test_data_norm = train_test_split(cancer_norm,random_state=None, shuffle=True)\n",
    "train_x_norm=training_data_norm.drop(['classes'], 1) \n",
    "train_y_norm=training_data_norm[['classes']]\n",
    "test_x_norm=test_data_norm.drop(['classes'], 1)\n",
    "test_y_norm=test_data_norm[['classes']]"
   ]
  },
  {
   "cell_type": "code",
   "execution_count": 21,
   "metadata": {
    "colab": {
     "base_uri": "https://localhost:8080/"
    },
    "id": "xlkLRQkM6pee",
    "outputId": "8fc8fc33-4eb4-440d-dd77-37a6680cef4c"
   },
   "outputs": [
    {
     "name": "stdout",
     "output_type": "stream",
     "text": [
      "(344, 7)\n",
      "(344, 1)\n",
      "(115, 7)\n",
      "(115, 1)\n"
     ]
    }
   ],
   "source": [
    "x_train = np.array(train_x_norm)\n",
    "print(x_train.shape)\n",
    "y_train = np.array(train_y_norm)\n",
    "print(y_train.shape)\n",
    "x_test = np.array(test_x_norm)\n",
    "print(x_test.shape)\n",
    "y_test = np.array(test_y_norm)\n",
    "print(y_test.shape)"
   ]
  },
  {
   "cell_type": "markdown",
   "metadata": {
    "id": "uoxu8NW0VeWR"
   },
   "source": [
    "<h4>1.4.2 Observations</h4>\n",
    "<!---> Here will add what are the observations of each and every chapter <--->\n",
    "<ol>\n",
    "    <li></li>\n",
    "</ol>\n",
    "<h4>1.4.3 Approach </h4>\n",
    "<ol>\n",
    "    <li></li>\n",
    "</ol>"
   ]
  },
  {
   "cell_type": "markdown",
   "metadata": {
    "id": "ezxSeKxKWqBF"
   },
   "source": [
    "<h3>1.5 Conclusion </h3>\n",
    "<ol>\n",
    "    <li>We removed the NAN values from our data and replaced them with mean values</li>\n",
    "    <li>We only keep highly correlated attributes in our final attribute list</li>\n",
    "    <li>We filter our data using the zscores and then normalize it usind mean and standard deviation</li>\n",
    "</ol>"
   ]
  },
  {
   "cell_type": "markdown",
   "metadata": {
    "id": "SNNGSB4Vb2CE"
   },
   "source": [
    "<h2><center>2. Model Fiting on the clean data</center></h2>\n",
    "\n",
    "We have a cleaned and a normalized data now we just have to fit a model over the data and make predictions.\n",
    "We are going to implement 2 models that are implemented by us \n",
    "\n",
    "<ol>\n",
    "    <li>SGD Classifier with Log Loss</li>\n",
    "    <li>SVM with RBF kernel</li>\n",
    "</ol>\n"
   ]
  },
  {
   "cell_type": "markdown",
   "metadata": {
    "id": "LGeB6fiFYPuS"
   },
   "source": [
    "<h3>2.1 SGD Classifier with Log Loss</h3>"
   ]
  },
  {
   "cell_type": "markdown",
   "metadata": {
    "id": "3NIP2zzzYi2e"
   },
   "source": [
    "<h4>2.1.1 Function Call</h4>"
   ]
  },
  {
   "cell_type": "code",
   "execution_count": 22,
   "metadata": {
    "id": "qq2Z7Etj6yun"
   },
   "outputs": [
    {
     "name": "stderr",
     "output_type": "stream",
     "text": [
      " 21%|██▏       | 16/75 [00:00<00:00, 158.21it/s]"
     ]
    },
    {
     "name": "stdout",
     "output_type": "stream",
     "text": [
      "\n",
      "-- Epoch no(iteration no)  1\n",
      "W intercept: [0.06592403 0.057744   0.06354816 0.05876883 0.04662884 0.04520329\n",
      " 0.0169214 ], B intercept: [0.03772213], Train loss: 0.24932, Test loss: 0.25646\n",
      "\n",
      "-- Epoch no(iteration no)  2\n",
      "W intercept: [0.12749539 0.11026472 0.12431232 0.11978883 0.09901189 0.10894157\n",
      " 0.03814559], B intercept: [0.02788273], Train loss: 0.20464, Test loss: 0.21574\n",
      "\n",
      "-- Epoch no(iteration no)  3\n",
      "W intercept: [0.17638136 0.16036745 0.17674921 0.1608935  0.14086313 0.14714666\n",
      " 0.05306041], B intercept: [0.0475602], Train loss: 0.17586, Test loss: 0.18962\n",
      "\n",
      "-- Epoch no(iteration no)  4\n",
      "W intercept: [0.21514265 0.20365678 0.2178095  0.20134012 0.18227143 0.18525797\n",
      " 0.08023371], B intercept: [0.04324409], Train loss: 0.15346, Test loss: 0.16857\n",
      "\n",
      "-- Epoch no(iteration no)  5\n",
      "W intercept: [0.25448979 0.24307633 0.25229787 0.23997557 0.2117614  0.21293682\n",
      " 0.08941833], B intercept: [0.0288005], Train loss: 0.13717, Test loss: 0.15289\n",
      "\n",
      "-- Epoch no(iteration no)  6\n",
      "W intercept: [0.28210858 0.28387361 0.28054591 0.25462017 0.2365354  0.23556759\n",
      " 0.10538766], B intercept: [0.01956342], Train loss: 0.12575, Test loss: 0.14189\n",
      "\n",
      "-- Epoch no(iteration no)  7\n",
      "W intercept: [0.31010973 0.3267179  0.29806325 0.27924915 0.26082698 0.26212933\n",
      " 0.11124959], B intercept: [0.02598013], Train loss: 0.11556, Test loss: 0.13237\n",
      "\n",
      "-- Epoch no(iteration no)  8\n",
      "W intercept: [0.3402866  0.3396257  0.31802322 0.30005833 0.28029988 0.29387605\n",
      " 0.11210142], B intercept: [0.0114493], Train loss: 0.10837, Test loss: 0.12522\n",
      "\n",
      "-- Epoch no(iteration no)  9\n",
      "W intercept: [0.3622539  0.36967612 0.34354681 0.31112628 0.29992137 0.3113226\n",
      " 0.12346598], B intercept: [0.01723146], Train loss: 0.10172, Test loss: 0.11877\n",
      "\n",
      "-- Epoch no(iteration no)  10\n",
      "W intercept: [0.38422386 0.3911182  0.36632917 0.33575182 0.32142605 0.32975506\n",
      " 0.13380411], B intercept: [0.01267056], Train loss: 0.09559, Test loss: 0.11277\n",
      "\n",
      "-- Epoch no(iteration no)  11\n",
      "W intercept: [0.40388146 0.42005425 0.39008794 0.35785812 0.337958   0.34061149\n",
      " 0.14094214], B intercept: [0.00813241], Train loss: 0.09024, Test loss: 0.10749\n",
      "\n",
      "-- Epoch no(iteration no)  12\n",
      "W intercept: [0.42235034 0.44360332 0.4020932  0.37329706 0.34743285 0.35258045\n",
      " 0.15225038], B intercept: [0.01595768], Train loss: 0.08640, Test loss: 0.10377\n",
      "\n",
      "-- Epoch no(iteration no)  13\n",
      "W intercept: [0.43622171 0.47572333 0.41076191 0.37986036 0.36029774 0.36903694\n",
      " 0.17009591], B intercept: [0.01642721], Train loss: 0.08263, Test loss: 0.10020\n",
      "\n",
      "-- Epoch no(iteration no)  14\n",
      "W intercept: [0.45152024 0.50212158 0.42237302 0.39219399 0.37016072 0.37899317\n",
      " 0.17355535], B intercept: [0.01386549], Train loss: 0.07952, Test loss: 0.09715\n",
      "\n",
      "-- Epoch no(iteration no)  15\n",
      "W intercept: [0.46604368 0.51393162 0.4381217  0.40291171 0.3785191  0.38446992\n",
      " 0.18008961], B intercept: [0.02564371], Train loss: 0.07723, Test loss: 0.09484\n",
      "\n",
      "-- Epoch no(iteration no)  16\n",
      "W intercept: [0.47241859 0.52621953 0.45172115 0.41382714 0.39276271 0.39781501\n",
      " 0.18446229], B intercept: [0.02020513], Train loss: 0.07505, Test loss: 0.09273\n",
      "\n",
      "-- Epoch no(iteration no)  17\n",
      "W intercept: [0.48602477 0.5419467  0.47088744 0.42347747 0.40663127 0.40417531\n",
      " 0.190196  ], B intercept: [0.03275505], Train loss: 0.07262, Test loss: 0.09030\n",
      "\n",
      "-- Epoch no(iteration no)  18\n",
      "W intercept: [0.49610635 0.55534964 0.48422654 0.43937047 0.41787687 0.41476554\n",
      " 0.19541281], B intercept: [0.02649015], Train loss: 0.07052, Test loss: 0.08824\n",
      "\n",
      "-- Epoch no(iteration no)  19\n",
      "W intercept: [0.51338314 0.5749693  0.49206699 0.45455494 0.42796736 0.42427619\n",
      " 0.19818254], B intercept: [0.02803855], Train loss: 0.06833, Test loss: 0.08609\n",
      "\n",
      "-- Epoch no(iteration no)  20\n",
      "W intercept: [0.52112394 0.59326339 0.5022683  0.45971914 0.43527019 0.43875154\n",
      " 0.20022198], B intercept: [0.02748292], Train loss: 0.06667, Test loss: 0.08450\n",
      "\n",
      "-- Epoch no(iteration no)  21\n",
      "W intercept: [0.53406027 0.60670833 0.51166192 0.47173462 0.4506909  0.44861128\n",
      " 0.2031255 ], B intercept: [0.0293723], Train loss: 0.06490, Test loss: 0.08280\n",
      "\n",
      "-- Epoch no(iteration no)  22\n",
      "W intercept: [0.54747673 0.61018852 0.51974632 0.47867528 0.4537338  0.46150139\n",
      " 0.19927726], B intercept: [0.02217051], Train loss: 0.06391, Test loss: 0.08175\n",
      "\n",
      "-- Epoch no(iteration no)  23\n",
      "W intercept: [0.56099608 0.62370688 0.53080058 0.48072489 0.46202298 0.47129416\n",
      " 0.20276045], B intercept: [0.02538504], Train loss: 0.06253, Test loss: 0.08033\n",
      "\n",
      "-- Epoch no(iteration no)  24\n",
      "W intercept: [0.56956427 0.63427327 0.54480146 0.49166152 0.47028607 0.47818106\n",
      " 0.20555028], B intercept: [0.02945143], Train loss: 0.06124, Test loss: 0.07904\n",
      "\n",
      "-- Epoch no(iteration no)  25\n",
      "W intercept: [0.57889231 0.64653172 0.55535083 0.50100579 0.47548195 0.4802972\n",
      " 0.2063126 ], B intercept: [0.03024566], Train loss: 0.06019, Test loss: 0.07794\n",
      "\n",
      "-- Epoch no(iteration no)  26\n",
      "W intercept: [0.59125763 0.66476703 0.55987313 0.50951877 0.48170087 0.48946959\n",
      " 0.21600274], B intercept: [0.0357116], Train loss: 0.05886, Test loss: 0.07667\n",
      "\n",
      "-- Epoch no(iteration no)  27\n",
      "W intercept: [0.59712431 0.68200117 0.56406106 0.51428082 0.48860886 0.49852186\n",
      " 0.22950151], B intercept: [0.03286803], Train loss: 0.05780, Test loss: 0.07571\n"
     ]
    },
    {
     "name": "stderr",
     "output_type": "stream",
     "text": [
      "\r",
      " 43%|████▎     | 32/75 [00:00<00:00, 158.56it/s]"
     ]
    },
    {
     "name": "stdout",
     "output_type": "stream",
     "text": [
      "\n",
      "-- Epoch no(iteration no)  28\n",
      "W intercept: [0.59863339 0.69978311 0.56705678 0.51355705 0.49128652 0.49599885\n",
      " 0.22760479], B intercept: [0.03893123], Train loss: 0.05725, Test loss: 0.07519\n",
      "\n",
      "-- Epoch no(iteration no)  29\n",
      "W intercept: [0.60234342 0.705841   0.57476473 0.51793301 0.50040055 0.50288428\n",
      " 0.23613119], B intercept: [0.03930138], Train loss: 0.05653, Test loss: 0.07451\n",
      "\n",
      "-- Epoch no(iteration no)  30\n",
      "W intercept: [0.60979221 0.71216528 0.58891535 0.52581195 0.50192713 0.508643\n",
      " 0.23961886], B intercept: [0.0452066], Train loss: 0.05573, Test loss: 0.07364\n",
      "\n",
      "-- Epoch no(iteration no)  31\n",
      "W intercept: [0.61715597 0.72296296 0.59753073 0.5372501  0.51375757 0.51186118\n",
      " 0.24064338], B intercept: [0.05132121], Train loss: 0.05480, Test loss: 0.07275\n",
      "\n",
      "-- Epoch no(iteration no)  32\n",
      "W intercept: [0.62498538 0.72914976 0.60659255 0.54602682 0.52322524 0.51981953\n",
      " 0.24511545], B intercept: [0.04430459], Train loss: 0.05403, Test loss: 0.07200\n",
      "\n",
      "-- Epoch no(iteration no)  33\n",
      "W intercept: [0.6360216  0.74442696 0.61206235 0.55467701 0.5261188  0.51816761\n",
      " 0.24639991], B intercept: [0.04421442], Train loss: 0.05329, Test loss: 0.07120\n"
     ]
    },
    {
     "name": "stderr",
     "output_type": "stream",
     "text": [
      "\r",
      " 65%|██████▌   | 49/75 [00:00<00:00, 162.31it/s]"
     ]
    },
    {
     "name": "stdout",
     "output_type": "stream",
     "text": [
      "\n",
      "-- Epoch no(iteration no)  34\n",
      "W intercept: [0.640152   0.75656946 0.61732414 0.5596557  0.53033798 0.53431878\n",
      " 0.24421195], B intercept: [0.05260181], Train loss: 0.05253, Test loss: 0.07058\n",
      "\n",
      "-- Epoch no(iteration no)  35\n",
      "W intercept: [0.64909126 0.7658838  0.62204225 0.56452841 0.54094644 0.54273325\n",
      " 0.2463882 ], B intercept: [0.05489071], Train loss: 0.05182, Test loss: 0.06992\n",
      "\n",
      "-- Epoch no(iteration no)  36\n",
      "W intercept: [0.65803873 0.76441343 0.62618937 0.56755876 0.54314046 0.55006779\n",
      " 0.24071289], B intercept: [0.04568906], Train loss: 0.05159, Test loss: 0.06964\n",
      "\n",
      "-- Epoch no(iteration no)  37\n",
      "W intercept: [0.66787388 0.77278909 0.63576504 0.56707626 0.54699347 0.55792131\n",
      " 0.24287494], B intercept: [0.05073214], Train loss: 0.05097, Test loss: 0.06897\n",
      "\n",
      "-- Epoch no(iteration no)  38\n",
      "W intercept: [0.67406205 0.78017147 0.64367027 0.57515039 0.55271304 0.56151473\n",
      " 0.24410052], B intercept: [0.05283843], Train loss: 0.05042, Test loss: 0.06842\n",
      "\n",
      "-- Epoch no(iteration no)  39\n",
      "W intercept: [0.68108899 0.7858328  0.65057494 0.5803382  0.55202103 0.56011219\n",
      " 0.24932173], B intercept: [0.06270918], Train loss: 0.05002, Test loss: 0.06794\n",
      "\n",
      "-- Epoch no(iteration no)  40\n",
      "W intercept: [0.68532515 0.80537792 0.65084178 0.58582916 0.55889553 0.56721239\n",
      " 0.25339474], B intercept: [0.05972157], Train loss: 0.04937, Test loss: 0.06742\n",
      "\n",
      "-- Epoch no(iteration no)  41\n",
      "W intercept: [0.69137465 0.81424786 0.65564108 0.58892531 0.56287369 0.57465105\n",
      " 0.26324721], B intercept: [0.05907959], Train loss: 0.04887, Test loss: 0.06697\n",
      "\n",
      "-- Epoch no(iteration no)  42\n",
      "W intercept: [0.69144522 0.83002847 0.65366447 0.58948355 0.5639086  0.56645239\n",
      " 0.25790002], B intercept: [0.07381921], Train loss: 0.04862, Test loss: 0.06673\n",
      "\n",
      "-- Epoch no(iteration no)  43\n",
      "W intercept: [0.69061692 0.83259335 0.66168811 0.58975869 0.57134942 0.57479783\n",
      " 0.26743155], B intercept: [0.06920979], Train loss: 0.04831, Test loss: 0.06647\n",
      "\n",
      "-- Epoch no(iteration no)  44\n",
      "W intercept: [0.69756169 0.83807663 0.67434466 0.59396574 0.57198067 0.57904192\n",
      " 0.27056411], B intercept: [0.07282435], Train loss: 0.04785, Test loss: 0.06593\n",
      "\n",
      "-- Epoch no(iteration no)  45\n",
      "W intercept: [0.7017512  0.84547423 0.67961347 0.60303969 0.58200314 0.58117688\n",
      " 0.27197893], B intercept: [0.07597741], Train loss: 0.04739, Test loss: 0.06552\n",
      "\n",
      "-- Epoch no(iteration no)  46\n",
      "W intercept: [0.71050074 0.85146179 0.68533929 0.61042002 0.58723161 0.58705075\n",
      " 0.27502996], B intercept: [0.0713368], Train loss: 0.04697, Test loss: 0.06510\n",
      "\n",
      "-- Epoch no(iteration no)  47\n",
      "W intercept: [0.71509692 0.86327061 0.68937303 0.61509303 0.59138313 0.58343139\n",
      " 0.27615375], B intercept: [0.07241904], Train loss: 0.04662, Test loss: 0.06474\n",
      "\n",
      "-- Epoch no(iteration no)  48\n",
      "W intercept: [0.71840547 0.87165182 0.69374995 0.62069876 0.59169567 0.59750131\n",
      " 0.27367256], B intercept: [0.08011666], Train loss: 0.04619, Test loss: 0.06440\n",
      "\n",
      "-- Epoch no(iteration no)  49\n",
      "W intercept: [0.7273847  0.8686968  0.69384415 0.62081502 0.59764485 0.60627493\n",
      " 0.26571964], B intercept: [0.07461597], Train loss: 0.04607, Test loss: 0.06429\n",
      "\n",
      "-- Epoch no(iteration no)  50\n",
      "W intercept: [0.73752023 0.87197894 0.69735717 0.62228941 0.60483924 0.61104292\n",
      " 0.26703912], B intercept: [0.07566191], Train loss: 0.04576, Test loss: 0.06396\n",
      "\n",
      "-- Epoch no(iteration no)  51\n",
      "W intercept: [0.74047122 0.88029071 0.70653093 0.62287049 0.60419571 0.61637112\n",
      " 0.26942649], B intercept: [0.07913221], Train loss: 0.04543, Test loss: 0.06360\n",
      "\n",
      "-- Epoch no(iteration no)  52\n",
      "W intercept: [0.74639502 0.8870257  0.71455231 0.63043135 0.60949444 0.61540714\n",
      " 0.27029648], B intercept: [0.0797445], Train loss: 0.04509, Test loss: 0.06322\n",
      "\n",
      "-- Epoch no(iteration no)  53\n",
      "W intercept: [0.75128661 0.89298083 0.71880045 0.63369881 0.60599714 0.61772121\n",
      " 0.2744903 ], B intercept: [0.09210166], Train loss: 0.04481, Test loss: 0.06292\n",
      "\n",
      "-- Epoch no(iteration no)  54\n",
      "W intercept: [0.75342713 0.90892799 0.71834388 0.63505275 0.61118074 0.62514799\n",
      " 0.28473211], B intercept: [0.09132984], Train loss: 0.04442, Test loss: 0.06266\n",
      "\n",
      "-- Epoch no(iteration no)  55\n",
      "W intercept: [0.75834466 0.91386251 0.72065864 0.63960681 0.61489099 0.62900445\n",
      " 0.28700007], B intercept: [0.0872388], Train loss: 0.04420, Test loss: 0.06247\n",
      "\n",
      "-- Epoch no(iteration no)  56\n",
      "W intercept: [0.75789275 0.92516189 0.72243864 0.63839169 0.61306931 0.62095991\n",
      " 0.28618354], B intercept: [0.10670196], Train loss: 0.04401, Test loss: 0.06223\n",
      "\n",
      "-- Epoch no(iteration no)  57\n",
      "W intercept: [0.75467441 0.92807366 0.72540687 0.63895113 0.62137217 0.62650438\n",
      " 0.28967655], B intercept: [0.09892339], Train loss: 0.04389, Test loss: 0.06221\n",
      "\n",
      "-- Epoch no(iteration no)  58\n",
      "W intercept: [0.75964346 0.93277888 0.73330249 0.64139383 0.62758146 0.62836057\n",
      " 0.29106151], B intercept: [0.10608531], Train loss: 0.04359, Test loss: 0.06188\n",
      "\n",
      "-- Epoch no(iteration no)  59\n",
      "W intercept: [0.76266123 0.93846612 0.73932828 0.6483995  0.63048587 0.6314601\n",
      " 0.29376877], B intercept: [0.10529024], Train loss: 0.04334, Test loss: 0.06164\n",
      "\n",
      "-- Epoch no(iteration no)  60\n",
      "W intercept: [0.77057164 0.94344459 0.74401096 0.65616936 0.63576245 0.63686961\n",
      " 0.29599491], B intercept: [0.10127721], Train loss: 0.04305, Test loss: 0.06137\n",
      "\n",
      "-- Epoch no(iteration no)  61\n",
      "W intercept: [0.77307386 0.95345739 0.7509436  0.65642383 0.63481484 0.63662505\n",
      " 0.29636624], B intercept: [0.10336159], Train loss: 0.04283, Test loss: 0.06110\n"
     ]
    },
    {
     "name": "stderr",
     "output_type": "stream",
     "text": [
      "\r",
      " 88%|████████▊ | 66/75 [00:00<00:00, 159.78it/s]"
     ]
    },
    {
     "name": "stdout",
     "output_type": "stream",
     "text": [
      "\n",
      "-- Epoch no(iteration no)  62\n",
      "W intercept: [0.77720862 0.96324718 0.75171186 0.66233566 0.63680552 0.64437049\n",
      " 0.29485812], B intercept: [0.11006457], Train loss: 0.04253, Test loss: 0.06088\n",
      "\n",
      "-- Epoch no(iteration no)  63\n",
      "W intercept: [0.78439629 0.95562125 0.75100791 0.66285764 0.64204311 0.65304515\n",
      " 0.28606919], B intercept: [0.10335921], Train loss: 0.04254, Test loss: 0.06091\n",
      "\n",
      "-- Epoch no(iteration no)  64\n",
      "W intercept: [0.79357695 0.95998807 0.75121548 0.66254875 0.64684563 0.65982721\n",
      " 0.28557029], B intercept: [0.10786131], Train loss: 0.04231, Test loss: 0.06071\n",
      "\n",
      "-- Epoch no(iteration no)  65\n",
      "W intercept: [0.79643591 0.96496898 0.76226939 0.66624457 0.64816752 0.66003804\n",
      " 0.28786956], B intercept: [0.11094556], Train loss: 0.04208, Test loss: 0.06041\n",
      "\n",
      "-- Epoch no(iteration no)  66\n",
      "W intercept: [0.80026723 0.97136027 0.76743022 0.67017895 0.6518711  0.66011724\n",
      " 0.289798  ], B intercept: [0.10858343], Train loss: 0.04189, Test loss: 0.06020\n"
     ]
    },
    {
     "name": "stderr",
     "output_type": "stream",
     "text": [
      "\r",
      "100%|██████████| 75/75 [00:00<00:00, 158.92it/s]"
     ]
    },
    {
     "name": "stdout",
     "output_type": "stream",
     "text": [
      "\n",
      "-- Epoch no(iteration no)  67\n",
      "W intercept: [0.80375445 0.97628545 0.77042949 0.67228271 0.64876713 0.66122665\n",
      " 0.29465689], B intercept: [0.12177461], Train loss: 0.04170, Test loss: 0.05999\n",
      "\n",
      "-- Epoch no(iteration no)  68\n",
      "W intercept: [0.80490941 0.98934993 0.76941992 0.67277596 0.65194632 0.66749687\n",
      " 0.30302499], B intercept: [0.1200298], Train loss: 0.04146, Test loss: 0.05987\n",
      "\n",
      "-- Epoch no(iteration no)  69\n",
      "W intercept: [0.80993991 0.99787452 0.76896917 0.67383268 0.65330941 0.66988155\n",
      " 0.30342449], B intercept: [0.12003156], Train loss: 0.04129, Test loss: 0.05973\n",
      "\n",
      "-- Epoch no(iteration no)  70\n",
      "W intercept: [0.8080895  1.00353947 0.77251013 0.67476487 0.65299855 0.6623941\n",
      " 0.30398005], B intercept: [0.13511621], Train loss: 0.04118, Test loss: 0.05956\n",
      "\n",
      "-- Epoch no(iteration no)  71\n",
      "W intercept: [0.80324054 1.00678074 0.7751285  0.6729711  0.66006335 0.66734356\n",
      " 0.30672365], B intercept: [0.12897975], Train loss: 0.04112, Test loss: 0.05958\n",
      "\n",
      "-- Epoch no(iteration no)  72\n",
      "W intercept: [0.80777775 1.01076602 0.78295082 0.67567815 0.66618047 0.6682754\n",
      " 0.30965417], B intercept: [0.13574261], Train loss: 0.04089, Test loss: 0.05932\n",
      "\n",
      "-- Epoch no(iteration no)  73\n",
      "W intercept: [0.81021654 1.01503898 0.78639194 0.68218578 0.66885362 0.67099769\n",
      " 0.31081243], B intercept: [0.13361419], Train loss: 0.04074, Test loss: 0.05920\n",
      "\n",
      "-- Epoch no(iteration no)  74\n",
      "W intercept: [0.81738554 1.02452884 0.78787178 0.68855344 0.67205087 0.67329761\n",
      " 0.31051151], B intercept: [0.13552808], Train loss: 0.04050, Test loss: 0.05899\n",
      "\n",
      "-- Epoch no(iteration no)  75\n",
      "W intercept: [0.81884487 1.02969578 0.79590234 0.68783872 0.67178897 0.6765549\n",
      " 0.31219415], B intercept: [0.13383939], Train loss: 0.04037, Test loss: 0.05882\n"
     ]
    },
    {
     "name": "stderr",
     "output_type": "stream",
     "text": [
      "\n"
     ]
    }
   ],
   "source": [
    "## importing self made SGD classifier as Classifier 1 \n",
    "import Sgd_classifier as classfier_1\n",
    "alpha=0.01\n",
    "t_rate=0.0075\n",
    "N=len(x_train)\n",
    "epochs=75\n",
    "w,b,loss_train,loss_test=classfier_1.train_classifier(x_train,y_train,x_test,y_test,epochs,alpha,t_rate)"
   ]
  },
  {
   "cell_type": "markdown",
   "metadata": {
    "id": "PNjgLcYRYcIm"
   },
   "source": [
    "<h4>2.1.2 Coding Approach</h4>\n",
    "We send our train data, test data, with learning rate and regularization rate to our classifier. The classifier uses Stochastic gradient descent and updates the weights and bais over the epochs. With each epoch we aim to reduce our loss, when we reach a point where the loss is similar to the loss that was in previous epoch we return then updated weights and bais. These weights and bais that are returned are optimal for making predictions."
   ]
  },
  {
   "cell_type": "markdown",
   "metadata": {
    "id": "ndwbS6ZqaLr3"
   },
   "source": [
    "<h3>2.2 SVM with RBF kernel </h3>"
   ]
  },
  {
   "cell_type": "markdown",
   "metadata": {
    "id": "H-Qtsx6LaTN7"
   },
   "source": [
    "<h4>2.2.1 Function Call</h4>"
   ]
  },
  {
   "cell_type": "markdown",
   "metadata": {
    "id": "FUu-87k2aXIR"
   },
   "source": [
    "<h4>2.2.2 Coding Approach</h4>\n",
    "\n",
    "<!----> Will be going over the coding how it is done and stuff"
   ]
  },
  {
   "cell_type": "markdown",
   "metadata": {
    "id": "swzuVJ19S1Jr"
   },
   "source": [
    "<h2><center>3. Model Accuracy</center></h2>\n",
    "<em>\n",
    "Here we are going to talk about the model accuracies by using test and train loss graphs, in addition to Confussion Matrix and some ROC curves\n",
    "</em>"
   ]
  },
  {
   "cell_type": "markdown",
   "metadata": {
    "id": "qPy611dMa8Bu"
   },
   "source": [
    "<h3>3.1 Model 1 SGD Classifier with Log Loss</h3>\n"
   ]
  },
  {
   "cell_type": "markdown",
   "metadata": {
    "id": "rI7qXtftah1a"
   },
   "source": [
    "<h4>3.1.1 Prediction accuracies</h4>"
   ]
  },
  {
   "cell_type": "code",
   "execution_count": 23,
   "metadata": {
    "colab": {
     "base_uri": "https://localhost:8080/"
    },
    "id": "057fGPgc6x3_",
    "outputId": "c841cc8b-3706-45a5-886f-2b89fe684824",
    "scrolled": true
   },
   "outputs": [
    {
     "name": "stdout",
     "output_type": "stream",
     "text": [
      "Train_Accuracy : 0.99\n",
      "Test_Accuracy  : 0.98\n"
     ]
    }
   ],
   "source": [
    "y_train_pred = classfier_1.predict(w,b,x_train)\n",
    "y_test_pred = classfier_1.predict(w,b,x_test)\n",
    "\n",
    "y_train=y_train.reshape(y_train_pred.shape)\n",
    "print('Train_Accuracy : {:.2f}'.format(1-np.sum(y_train - y_train_pred)/len(x_train)))\n",
    "y_test=y_test.reshape(y_test_pred.shape)\n",
    "print('Test_Accuracy  : {:.2f}'.format(1-np.sum(y_test  - y_test_pred)/len(x_test)))"
   ]
  },
  {
   "cell_type": "markdown",
   "metadata": {
    "id": "7pAXgaM_bjzs"
   },
   "source": [
    "<h4>3.1.2 Test and Train Loss over Epochs</h4>\n",
    "We will plot graph against the number of epochs with respect to the test and train loss. This will give us insight whehter our code is performing gradient descent in a correct manner."
   ]
  },
  {
   "cell_type": "code",
   "execution_count": 24,
   "metadata": {
    "id": "1gK7yssz073T",
    "scrolled": true
   },
   "outputs": [
    {
     "name": "stdout",
     "output_type": "stream",
     "text": [
      "==============================================================================================================\n"
     ]
    },
    {
     "data": {
      "image/png": "[encoded data removed]",
      "text/plain": [
       "<Figure size 1080x504 with 1 Axes>"
      ]
     },
     "metadata": {},
     "output_type": "display_data"
    }
   ],
   "source": [
    "epochs = np.arange(1, epochs+1, 1)\n",
    "plt.figure(figsize=(15, 7))\n",
    "plt.plot(epochs,loss_train, label='Train Loss', c = 'blue')\n",
    "plt.plot(epochs,loss_test, label='Test Loss',c = 'red')\n",
    "plt.title('Epoch vs Train,Test Loss')\n",
    "plt.xlabel(\"Epochs\")\n",
    "plt.ylabel('Loss')\n",
    "plt.legend()\n",
    "print(110*'=')\n"
   ]
  },
  {
   "cell_type": "markdown",
   "metadata": {
    "id": "qcN8YgFwb0gH"
   },
   "source": [
    "<h4>3.1.3 Confusion Matrix </h4>\n",
    "Here well will print the confusion matrix for the Model with its Precision and Recall values"
   ]
  },
  {
   "cell_type": "code",
   "execution_count": 25,
   "metadata": {
    "id": "dwjOiXQsTjjO",
    "scrolled": false
   },
   "outputs": [
    {
     "name": "stdout",
     "output_type": "stream",
     "text": [
      "Confusion Matrix\n",
      " [[66  2]\n",
      " [ 4 43]]\n",
      "False Positive Rate :   0.029\n",
      "True Positive Rate  :   0.915\n",
      "Area Under Curve (AUC): 0.948\n"
     ]
    }
   ],
   "source": [
    "#from sklearn.metrics import confusion_matrix\n",
    "import confusion_matrix as cm\n",
    "cm,fpr,recall = cm.confusion_matrix(y_test, y_test_pred)\n",
    "# Accuracy is\n",
    "AUC_score = (cm[0][0] + cm[1][1])/(cm[0][1]+cm[1][0]+cm[0][0] + cm[1][1])\n",
    "print('Confusion Matrix\\n',cm)\n",
    "print('False Positive Rate :   {:.3f}'.format(fpr))\n",
    "print('True Positive Rate  :   {:.3f}'.format(recall))\n",
    "print('Area Under Curve (AUC): {:.3f}'.format(AUC_score))"
   ]
  },
  {
   "cell_type": "markdown",
   "metadata": {},
   "source": [
    "<h3> 3.2 Model 2 </h3>"
   ]
  },
  {
   "cell_type": "markdown",
   "metadata": {
    "id": "XW2Czt08hhqg"
   },
   "source": [
    "<h2><center>Conclusions</center></h2>\n",
    "We were given a task to implement a model that will help classify between M/B(still have to refine these lines).\n",
    "To do this we first normalize and clean the data so that we can get maximum efficiency in our classification model.\n",
    "Then we implement the models that we created using python scripts and make a call back to then in our main IPython notebook.\n",
    "<br> </br>\n",
    "<p>\n",
    "<em>\n",
    "The following are the results obtained for the repesctive implemnted models :-\n",
    "</p>\n",
    "</em>\n",
    "<em>    \n",
    "\n",
    "<br><h4>1. Stochastic Gradient Descent Classifier </h4>\n",
    "<em>\n",
    "    <ol>\n",
    "    <li></li>\n",
    "    <li></li>\n",
    "    <li></li>\n",
    "    </ol>\n",
    "</em>\n",
    "</br>\n",
    "<br><h4>2. Support Vector Machine </h4>\n",
    "<em>\n",
    "    <ol>\n",
    "    <li></li>\n",
    "    <li></li>\n",
    "    <li></li>\n",
    "    </ol>\n",
    "</em>\n",
    "</br>\n",
    "</em>\n",
    "<h2><center>Code's Shortcomings</center></h2>\n",
    "This code works on assumption that #Gradient descents fault... \n",
    "<em>\n",
    "&emsp;<li>Very High Accuracy (Overfitting?) but still high precission and recall? Why?</li>\n",
    "<li>Really Low Data Points </li>\n",
    "<!---> Some shortcommings about the SVMs stuff? What assumptions we make with the SVM stuff?\n"
   ]
  },
  {
   "cell_type": "markdown",
   "metadata": {
    "id": "_tB9iqYfg-NA"
   },
   "source": [
    "<h2><center>References</center></h2>\n"
   ]
  }
 ],
 "metadata": {
  "colab": {
   "collapsed_sections": [],
   "name": "Main_Code.ipynb",
   "provenance": []
  },
  "kernelspec": {
   "display_name": "Python 3",
   "language": "python",
   "name": "python3"
  },
  "language_info": {
   "codemirror_mode": {
    "name": "ipython",
    "version": 3
   },
   "file_extension": ".py",
   "mimetype": "text/x-python",
   "name": "python",
   "nbconvert_exporter": "python",
   "pygments_lexer": "ipython3",
   "version": "3.8.8"
  }
 },
 "nbformat": 4,
 "nbformat_minor": 1
}
