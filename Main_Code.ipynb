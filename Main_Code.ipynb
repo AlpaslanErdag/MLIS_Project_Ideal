{
 "cells": [
  {
   "cell_type": "markdown",
   "metadata": {
    "colab_type": "text",
    "id": "view-in-github"
   },
   "source": [
    "<a href=\"https://colab.research.google.com/github/Anshuman-37/MLIS_Project_Ideal/blob/main/Main_Code.ipynb\" target=\"_parent\"><img src=\"https://colab.research.google.com/assets/colab-badge.svg\" alt=\"Open In Colab\"/></a>"
   ]
  },
  {
   "cell_type": "code",
   "execution_count": 1,
   "metadata": {
    "id": "e6rrsFyi4Bd9"
   },
   "outputs": [],
   "source": [
    "# This is the main jupyter notebook for the coursework of MLIS \n",
    "## Grp 1A \n",
    "## Authors\n",
    "## Alpaslan Erdag , Anshuman Singh , Yixin Fan\n",
    "## Date - 15/01/2022"
   ]
  },
  {
   "cell_type": "markdown",
   "metadata": {
    "id": "G-IY5zC537OU"
   },
   "source": [
    "# <center> Abstract </center>\n",
    "​\n",
    " Todo - Write some abstract about the data giving some information about\n",
    " \n",
    " The data is obtanined from UCI repository which can be obtained from the [here](https://archive.ics.uci.edu/ml/datasets/breast+cancer+wisconsin+%28original%29)\n",
    "\n"
   ]
  },
  {
   "cell_type": "code",
   "execution_count": 2,
   "metadata": {
    "colab": {
     "base_uri": "https://localhost:8080/"
    },
    "id": "3boaTk7A4FrC",
    "outputId": "9fba8893-0760-4c23-b766-15c1148d77ee"
   },
   "outputs": [
    {
     "name": "stdout",
     "output_type": "stream",
     "text": [
      "Citation Request:\n",
      "   This breast cancer databases was obtained from the University of Wisconsin\n",
      "   Hospitals, Madison from Dr. William H. Wolberg.  If you publish results\n",
      "   when using this database, then please include this information in your\n",
      "   acknowledgements.  Also, please cite one or more of:\n",
      "\n",
      "   1. O. L. Mangasarian and W. H. Wolberg: \"Cancer diagnosis via linear \n",
      "      programming\", SIAM News, Volume 23, Number 5, September 1990, pp 1 & 18.\n",
      "\n",
      "   2. William H. Wolberg and O.L. Mangasarian: \"Multisurface method of \n",
      "      pattern separation for medical diagnosis applied to breast cytology\", \n",
      "      Proceedings of the National Academy of Sciences, U.S.A., Volume 87, \n",
      "      December 1990, pp 9193-9196.\n",
      "\n",
      "   3. O. L. Mangasarian, R. Setiono, and W.H. Wolberg: \"Pattern recognition \n",
      "      via linear programming: Theory and application to medical diagnosis\", \n",
      "      in: \"Large-scale numerical optimization\", Thomas F. Coleman and Yuying\n",
      "      Li, editors, SIAM Publications, Philadelphia 1990, pp 22-30.\n",
      "\n",
      "   4. K. P. Bennett & O. L. Mangasarian: \"Robust linear programming \n",
      "      discrimination of two linearly inseparable sets\", Optimization Methods\n",
      "      and Software 1, 1992, 23-34 (Gordon & Breach Science Publishers).\n",
      "\n",
      "1. Title: Wisconsin Breast Cancer Database (January 8, 1991)\n",
      "\n",
      "2. Sources:\n",
      "   -- Dr. WIlliam H. Wolberg (physician)\n",
      "      University of Wisconsin Hospitals\n",
      "      Madison, Wisconsin\n",
      "      USA\n",
      "   -- Donor: Olvi Mangasarian (mangasarian@cs.wisc.edu)\n",
      "      Received by David W. Aha (aha@cs.jhu.edu)\n",
      "   -- Date: 15 July 1992\n",
      "\n",
      "3. Past Usage:\n",
      "\n",
      "   Attributes 2 through 10 have been used to represent instances.\n",
      "   Each instance has one of 2 possible classes: benign or malignant.\n",
      "\n",
      "   1. Wolberg,~W.~H., \\& Mangasarian,~O.~L. (1990). Multisurface method of \n",
      "      pattern separation for medical diagnosis applied to breast cytology. In\n",
      "      {\\it Proceedings of the National Academy of Sciences}, {\\it 87},\n",
      "      9193--9196.\n",
      "      -- Size of data set: only 369 instances (at that point in time)\n",
      "      -- Collected classification results: 1 trial only\n",
      "      -- Two pairs of parallel hyperplanes were found to be consistent with\n",
      "         50% of the data\n",
      "         -- Accuracy on remaining 50% of dataset: 93.5%\n",
      "      -- Three pairs of parallel hyperplanes were found to be consistent with\n",
      "         67% of data\n",
      "         -- Accuracy on remaining 33% of dataset: 95.9%\n",
      "\n",
      "   2. Zhang,~J. (1992). Selecting typical instances in instance-based\n",
      "      learning.  In {\\it Proceedings of the Ninth International Machine\n",
      "      Learning Conference} (pp. 470--479).  Aberdeen, Scotland: Morgan\n",
      "      Kaufmann.\n",
      "      -- Size of data set: only 369 instances (at that point in time)\n",
      "      -- Applied 4 instance-based learning algorithms \n",
      "      -- Collected classification results averaged over 10 trials\n",
      "      -- Best accuracy result: \n",
      "         -- 1-nearest neighbor: 93.7%\n",
      "         -- trained on 200 instances, tested on the other 169\n",
      "      -- Also of interest:\n",
      "         -- Using only typical instances: 92.2% (storing only 23.1 instances)\n",
      "         -- trained on 200 instances, tested on the other 169\n",
      "\n",
      "4. Relevant Information:\n",
      "\n",
      "   Samples arrive periodically as Dr. Wolberg reports his clinical cases.\n",
      "   The database therefore reflects this chronological grouping of the data.\n",
      "   This grouping information appears immediately below, having been removed\n",
      "   from the data itself:\n",
      "\n",
      "     Group 1: 367 instances (January 1989)\n",
      "     Group 2:  70 instances (October 1989)\n",
      "     Group 3:  31 instances (February 1990)\n",
      "     Group 4:  17 instances (April 1990)\n",
      "     Group 5:  48 instances (August 1990)\n",
      "     Group 6:  49 instances (Updated January 1991)\n",
      "     Group 7:  31 instances (June 1991)\n",
      "     Group 8:  86 instances (November 1991)\n",
      "     -----------------------------------------\n",
      "     Total:   699 points (as of the donated datbase on 15 July 1992)\n",
      "\n",
      "   Note that the results summarized above in Past Usage refer to a dataset\n",
      "   of size 369, while Group 1 has only 367 instances.  This is because it\n",
      "   originally contained 369 instances; 2 were removed.  The following\n",
      "   statements summarizes changes to the original Group 1's set of data:\n",
      "\n",
      "   #####  Group 1 : 367 points: 200B 167M (January 1989)\n",
      "   #####  Revised Jan 10, 1991: Replaced zero bare nuclei in 1080185 & 1187805\n",
      "   #####  Revised Nov 22,1991: Removed 765878,4,5,9,7,10,10,10,3,8,1 no record\n",
      "   #####                  : Removed 484201,2,7,8,8,4,3,10,3,4,1 zero epithelial\n",
      "   #####                  : Changed 0 to 1 in field 6 of sample 1219406\n",
      "   #####                  : Changed 0 to 1 in field 8 of following sample:\n",
      "   #####                  : 1182404,2,3,1,1,1,2,0,1,1,1\n",
      "\n",
      "5. Number of Instances: 699 (as of 15 July 1992)\n",
      "\n",
      "6. Number of Attributes: 10 plus the class attribute\n",
      "\n",
      "7. Attribute Information: (class attribute has been moved to last column)\n",
      "\n",
      "   #  Attribute                     Domain\n",
      "   -- -----------------------------------------\n",
      "   1. Sample code number            id number\n",
      "   2. Clump Thickness               1 - 10\n",
      "   3. Uniformity of Cell Size       1 - 10\n",
      "   4. Uniformity of Cell Shape      1 - 10\n",
      "   5. Marginal Adhesion             1 - 10\n",
      "   6. Single Epithelial Cell Size   1 - 10\n",
      "   7. Bare Nuclei                   1 - 10\n",
      "   8. Bland Chromatin               1 - 10\n",
      "   9. Normal Nucleoli               1 - 10\n",
      "  10. Mitoses                       1 - 10\n",
      "  11. Class:                        (2 for benign, 4 for malignant)\n",
      "\n",
      "8. Missing attribute values: 16\n",
      "\n",
      "   There are 16 instances in Groups 1 to 6 that contain a single missing \n",
      "   (i.e., unavailable) attribute value, now denoted by \"?\".  \n",
      "\n",
      "9. Class distribution:\n",
      " \n",
      "   Benign: 458 (65.5%)\n",
      "   Malignant: 241 (34.5%)\n",
      "\n"
     ]
    }
   ],
   "source": [
    "# Also should we show this ? tell me your thoughts\n",
    "# about_data ='/Users/anshuman/Desktop/Project_Folder/MLIS_Project_Ideal/breast-cancer-wisconsin.names'\n",
    "about_data = '/Users/anshuman/Desktop/Project_Folder/MLIS_Project_Ideal/breast-cancer-wisconsin.names'\n",
    "with open(about_data) as f:\n",
    "    print(f.read())"
   ]
  },
  {
   "cell_type": "markdown",
   "metadata": {
    "id": "ZN6gh3N24R-W"
   },
   "source": [
    "<h1><center>About code (Suggest a good heading)</center></h1>\n",
    "\n",
    "<h2><em>The code is divided in the following modules/parts/chapters?</h2>\n",
    "<ol>\n",
    "<li> <h4> Data Cleaning and Data Preprocessing </h4></li> \n",
    "<li> <h4>Model Fiting on the clean data </h4></li> \n",
    "<li> <h4>Model Accuracy </h4></li>\n",
    "</ol>\n",
    "</em>"
   ]
  },
  {
   "cell_type": "markdown",
   "metadata": {
    "id": "0TONMQnQ4SDg"
   },
   "source": [
    "<h2><center>1. Data Cleaning and Data Preprocessing</center></h2>\n",
    "\n",
    "<p>To get a good result over model accuracies we are going to first clean the data and then used the cleaned and preprocessed data to train a model. </p>\n",
    "\n",
    "<p> We will be using a systematic approach to clean our data. That will be listed in the following steps</p>\n",
    "<em>\n",
    "&emsp; <li>Data Visulaization</li>\n",
    "&emsp; <li>Checking and Removing nan values</li>\n",
    "&emsp; <li>Removing Useless Attributes</li>\n",
    "&emsp; <li>Deleting Outliers and Data Normalizations</li>\n",
    "</em>"
   ]
  },
  {
   "cell_type": "markdown",
   "metadata": {
    "id": "-daRoybV4SJI"
   },
   "source": [
    "<h3>1.1 Data Visualization </h3>"
   ]
  },
  {
   "cell_type": "code",
   "execution_count": 3,
   "metadata": {
    "id": "sK9S6Bky4RlC"
   },
   "outputs": [],
   "source": [
    "## Header Files \n",
    "import pandas as pd\n",
    "import numpy as np\n",
    "import warnings\n",
    "warnings.filterwarnings('ignore')\n",
    "import matplotlib.pyplot as plt\n",
    "import seaborn as sns\n",
    "plt.style.use('ggplot')\n",
    "import scipy\n",
    "\n",
    "## Loading Data \n",
    "#data = '/Users/anshuman/Desktop/Project_Folder/MLIS_Project_Ideal/breast-cancer-wisconsin.data'\n",
    "#data = '/content/breast-cancer-wisconsin.data'\n",
    "data = '/Users/anshuman/Desktop/Project_Folder/MLIS_Project_Ideal/breast-cancer-wisconsin.data'"
   ]
  },
  {
   "cell_type": "code",
   "execution_count": 4,
   "metadata": {
    "id": "xL5c7NTs4omD"
   },
   "outputs": [
    {
     "data": {
      "text/html": [
       "<div>\n",
       "<style scoped>\n",
       "    .dataframe tbody tr th:only-of-type {\n",
       "        vertical-align: middle;\n",
       "    }\n",
       "\n",
       "    .dataframe tbody tr th {\n",
       "        vertical-align: top;\n",
       "    }\n",
       "\n",
       "    .dataframe thead th {\n",
       "        text-align: right;\n",
       "    }\n",
       "</style>\n",
       "<table border=\"1\" class=\"dataframe\">\n",
       "  <thead>\n",
       "    <tr style=\"text-align: right;\">\n",
       "      <th></th>\n",
       "      <th>Samplecodenumber</th>\n",
       "      <th>ClumpThickness</th>\n",
       "      <th>UniformityofCellSize</th>\n",
       "      <th>UniformityofCellShape</th>\n",
       "      <th>MarginalAdhesion</th>\n",
       "      <th>SingleEpithelialCellSize</th>\n",
       "      <th>BareNuclei</th>\n",
       "      <th>BlandChromatin</th>\n",
       "      <th>NormalNucleoli</th>\n",
       "      <th>Mitoses</th>\n",
       "      <th>Class</th>\n",
       "    </tr>\n",
       "  </thead>\n",
       "  <tbody>\n",
       "    <tr>\n",
       "      <th>0</th>\n",
       "      <td>1000025</td>\n",
       "      <td>5</td>\n",
       "      <td>1</td>\n",
       "      <td>1</td>\n",
       "      <td>1</td>\n",
       "      <td>2</td>\n",
       "      <td>1</td>\n",
       "      <td>3</td>\n",
       "      <td>1</td>\n",
       "      <td>1</td>\n",
       "      <td>2</td>\n",
       "    </tr>\n",
       "    <tr>\n",
       "      <th>1</th>\n",
       "      <td>1002945</td>\n",
       "      <td>5</td>\n",
       "      <td>4</td>\n",
       "      <td>4</td>\n",
       "      <td>5</td>\n",
       "      <td>7</td>\n",
       "      <td>10</td>\n",
       "      <td>3</td>\n",
       "      <td>2</td>\n",
       "      <td>1</td>\n",
       "      <td>2</td>\n",
       "    </tr>\n",
       "    <tr>\n",
       "      <th>2</th>\n",
       "      <td>1015425</td>\n",
       "      <td>3</td>\n",
       "      <td>1</td>\n",
       "      <td>1</td>\n",
       "      <td>1</td>\n",
       "      <td>2</td>\n",
       "      <td>2</td>\n",
       "      <td>3</td>\n",
       "      <td>1</td>\n",
       "      <td>1</td>\n",
       "      <td>2</td>\n",
       "    </tr>\n",
       "    <tr>\n",
       "      <th>3</th>\n",
       "      <td>1016277</td>\n",
       "      <td>6</td>\n",
       "      <td>8</td>\n",
       "      <td>8</td>\n",
       "      <td>1</td>\n",
       "      <td>3</td>\n",
       "      <td>4</td>\n",
       "      <td>3</td>\n",
       "      <td>7</td>\n",
       "      <td>1</td>\n",
       "      <td>2</td>\n",
       "    </tr>\n",
       "    <tr>\n",
       "      <th>4</th>\n",
       "      <td>1017023</td>\n",
       "      <td>4</td>\n",
       "      <td>1</td>\n",
       "      <td>1</td>\n",
       "      <td>3</td>\n",
       "      <td>2</td>\n",
       "      <td>1</td>\n",
       "      <td>3</td>\n",
       "      <td>1</td>\n",
       "      <td>1</td>\n",
       "      <td>2</td>\n",
       "    </tr>\n",
       "  </tbody>\n",
       "</table>\n",
       "</div>"
      ],
      "text/plain": [
       "   Samplecodenumber  ClumpThickness  UniformityofCellSize  \\\n",
       "0           1000025               5                     1   \n",
       "1           1002945               5                     4   \n",
       "2           1015425               3                     1   \n",
       "3           1016277               6                     8   \n",
       "4           1017023               4                     1   \n",
       "\n",
       "   UniformityofCellShape  MarginalAdhesion  SingleEpithelialCellSize  \\\n",
       "0                      1                 1                         2   \n",
       "1                      4                 5                         7   \n",
       "2                      1                 1                         2   \n",
       "3                      8                 1                         3   \n",
       "4                      1                 3                         2   \n",
       "\n",
       "  BareNuclei  BlandChromatin  NormalNucleoli  Mitoses  Class  \n",
       "0          1               3               1        1      2  \n",
       "1         10               3               2        1      2  \n",
       "2          2               3               1        1      2  \n",
       "3          4               3               7        1      2  \n",
       "4          1               3               1        1      2  "
      ]
     },
     "execution_count": 4,
     "metadata": {},
     "output_type": "execute_result"
    }
   ],
   "source": [
    "col_name = ['Samplecodenumber','ClumpThickness','UniformityofCellSize','UniformityofCellShape',\n",
    "            'MarginalAdhesion','SingleEpithelialCellSize','BareNuclei',\n",
    "            'BlandChromatin','NormalNucleoli','Mitoses','Class']\n",
    "cancerdata = pd.read_csv(data,low_memory=False,names=col_name)\n",
    "cancerdata.head()"
   ]
  },
  {
   "cell_type": "code",
   "execution_count": 5,
   "metadata": {
    "id": "oOGBeeDS4opZ"
   },
   "outputs": [],
   "source": [
    "## Removing attribute that is of no use\n",
    "cancerdata = cancerdata.drop(['Samplecodenumber'], 1)"
   ]
  },
  {
   "cell_type": "code",
   "execution_count": 6,
   "metadata": {
    "id": "nV7-qayy4orv"
   },
   "outputs": [
    {
     "data": {
      "text/plain": [
       "2    458\n",
       "4    241\n",
       "Name: Class, dtype: int64"
      ]
     },
     "execution_count": 6,
     "metadata": {},
     "output_type": "execute_result"
    }
   ],
   "source": [
    "# The number of samples present by class count\n",
    "cancerdata['Class'].value_counts()"
   ]
  },
  {
   "cell_type": "code",
   "execution_count": 7,
   "metadata": {
    "id": "iY_4Kw5F4ous"
   },
   "outputs": [
    {
     "data": {
      "text/html": [
       "<div>\n",
       "<style scoped>\n",
       "    .dataframe tbody tr th:only-of-type {\n",
       "        vertical-align: middle;\n",
       "    }\n",
       "\n",
       "    .dataframe tbody tr th {\n",
       "        vertical-align: top;\n",
       "    }\n",
       "\n",
       "    .dataframe thead th {\n",
       "        text-align: right;\n",
       "    }\n",
       "</style>\n",
       "<table border=\"1\" class=\"dataframe\">\n",
       "  <thead>\n",
       "    <tr style=\"text-align: right;\">\n",
       "      <th></th>\n",
       "      <th>ClumpThickness</th>\n",
       "      <th>UniformityofCellSize</th>\n",
       "      <th>UniformityofCellShape</th>\n",
       "      <th>MarginalAdhesion</th>\n",
       "      <th>SingleEpithelialCellSize</th>\n",
       "      <th>BareNuclei</th>\n",
       "      <th>BlandChromatin</th>\n",
       "      <th>NormalNucleoli</th>\n",
       "      <th>Mitoses</th>\n",
       "      <th>classes</th>\n",
       "    </tr>\n",
       "  </thead>\n",
       "  <tbody>\n",
       "    <tr>\n",
       "      <th>0</th>\n",
       "      <td>6</td>\n",
       "      <td>8</td>\n",
       "      <td>8</td>\n",
       "      <td>1</td>\n",
       "      <td>3</td>\n",
       "      <td>4</td>\n",
       "      <td>3</td>\n",
       "      <td>7</td>\n",
       "      <td>1</td>\n",
       "      <td>0</td>\n",
       "    </tr>\n",
       "    <tr>\n",
       "      <th>1</th>\n",
       "      <td>8</td>\n",
       "      <td>10</td>\n",
       "      <td>10</td>\n",
       "      <td>8</td>\n",
       "      <td>7</td>\n",
       "      <td>10</td>\n",
       "      <td>9</td>\n",
       "      <td>7</td>\n",
       "      <td>1</td>\n",
       "      <td>1</td>\n",
       "    </tr>\n",
       "    <tr>\n",
       "      <th>2</th>\n",
       "      <td>2</td>\n",
       "      <td>1</td>\n",
       "      <td>2</td>\n",
       "      <td>1</td>\n",
       "      <td>2</td>\n",
       "      <td>1</td>\n",
       "      <td>3</td>\n",
       "      <td>1</td>\n",
       "      <td>1</td>\n",
       "      <td>0</td>\n",
       "    </tr>\n",
       "    <tr>\n",
       "      <th>3</th>\n",
       "      <td>2</td>\n",
       "      <td>1</td>\n",
       "      <td>1</td>\n",
       "      <td>1</td>\n",
       "      <td>2</td>\n",
       "      <td>1</td>\n",
       "      <td>1</td>\n",
       "      <td>1</td>\n",
       "      <td>5</td>\n",
       "      <td>0</td>\n",
       "    </tr>\n",
       "    <tr>\n",
       "      <th>4</th>\n",
       "      <td>1</td>\n",
       "      <td>1</td>\n",
       "      <td>1</td>\n",
       "      <td>1</td>\n",
       "      <td>1</td>\n",
       "      <td>1</td>\n",
       "      <td>3</td>\n",
       "      <td>1</td>\n",
       "      <td>1</td>\n",
       "      <td>0</td>\n",
       "    </tr>\n",
       "  </tbody>\n",
       "</table>\n",
       "</div>"
      ],
      "text/plain": [
       "   ClumpThickness  UniformityofCellSize  UniformityofCellShape  \\\n",
       "0               6                     8                      8   \n",
       "1               8                    10                     10   \n",
       "2               2                     1                      2   \n",
       "3               2                     1                      1   \n",
       "4               1                     1                      1   \n",
       "\n",
       "   MarginalAdhesion  SingleEpithelialCellSize BareNuclei  BlandChromatin  \\\n",
       "0                 1                         3          4               3   \n",
       "1                 8                         7         10               9   \n",
       "2                 1                         2          1               3   \n",
       "3                 1                         2          1               1   \n",
       "4                 1                         1          1               3   \n",
       "\n",
       "   NormalNucleoli  Mitoses  classes  \n",
       "0               7        1        0  \n",
       "1               7        1        1  \n",
       "2               1        1        0  \n",
       "3               1        5        0  \n",
       "4               1        1        0  "
      ]
     },
     "execution_count": 7,
     "metadata": {},
     "output_type": "execute_result"
    }
   ],
   "source": [
    "# Making the class counts to similar size\n",
    "Benign = cancerdata[(cancerdata.Class == 2) ].sample(240).index\n",
    "Malignant = cancerdata[(cancerdata.Class == 4) ].sample(240).index\n",
    "cancer = cancerdata.loc[Benign|Malignant]\n",
    "cancer = cancer.reset_index(drop=True)\n",
    "\n",
    "# Making the classess from 2/4 to 0/1 \n",
    "cancer['classes'] = cancer.Class.map({2:0,4:1})\n",
    "cancer = cancer.drop(['Class'], 1)\n",
    "\n",
    "# Printing the updated dataframe\n",
    "cancer.head()"
   ]
  },
  {
   "cell_type": "code",
   "execution_count": 8,
   "metadata": {
    "id": "2gLfIN6F4oxH"
   },
   "outputs": [
    {
     "data": {
      "text/plain": [
       "0    240\n",
       "1    240\n",
       "Name: classes, dtype: int64"
      ]
     },
     "execution_count": 8,
     "metadata": {},
     "output_type": "execute_result"
    }
   ],
   "source": [
    "# Confirming that counts of the classes are similar \n",
    "cancer['classes'].value_counts()\n"
   ]
  },
  {
   "cell_type": "code",
   "execution_count": 9,
   "metadata": {
    "id": "FxwBcGnk429U"
   },
   "outputs": [
    {
     "data": {
      "image/png": "[encoded data removed]",
      "text/plain": [
       "<Figure size 1296x1296 with 9 Axes>"
      ]
     },
     "metadata": {},
     "output_type": "display_data"
    }
   ],
   "source": [
    "# plot date variables and find the variables with similar distributions, keep only one of them.\n",
    "#['ClumpThickness','UniformityofCellSize','UniformityofCellShape','MarginalAdhesion',\n",
    "#'SingleEpithelialCellSize','BareNuclei','BlandChromatin','NormalNucleoli','Mitoses']\n",
    "fig, axs = plt.subplots(3, 3, figsize=(18,18))\n",
    "axs[0,0].hist(cancer['ClumpThickness'])\n",
    "axs[0,0].set_title(\"ClumpThickness\")\n",
    "axs[0,1].hist(cancer['UniformityofCellSize'])\n",
    "axs[0,1].set_title(\"UniformityofCellSize\")\n",
    "axs[0,2].hist(cancer['UniformityofCellShape'])\n",
    "axs[0,2].set_title(\"UniformityofCellShape\")\n",
    "axs[1,0].hist(cancer['MarginalAdhesion'])\n",
    "axs[1,0].set_title(\"MarginalAdhesion\")\n",
    "axs[1,1].hist(cancer['SingleEpithelialCellSize'])\n",
    "axs[1,1].set_title(\"SingleEpithelialCellSize\")\n",
    "axs[1,2].hist(cancer['BareNuclei'])\n",
    "axs[1,2].set_title(\"BareNuclei\")\n",
    "axs[2,0].hist(cancer['BlandChromatin'])\n",
    "axs[2,0].set_title(\"BlandChromatin\")\n",
    "axs[2,1].hist(cancer['NormalNucleoli'])\n",
    "axs[2,1].set_title(\"NormalNucleoli\")\n",
    "axs[2,2].hist(cancer['Mitoses'])\n",
    "axs[2,2].set_title(\"Mitoses\")\n",
    "fig.tight_layout()"
   ]
  },
  {
   "cell_type": "markdown",
   "metadata": {
    "id": "wdpWrB3HWel7"
   },
   "source": [
    "<h3>1.1.2 Observations </h3>\n",
    "<h3>1.1.3 Approach </h3>"
   ]
  },
  {
   "cell_type": "markdown",
   "metadata": {
    "id": "fPcTVTlE46vC"
   },
   "source": [
    "<h3>1.2 Checking and Removing nan values</h3>"
   ]
  },
  {
   "cell_type": "code",
   "execution_count": 10,
   "metadata": {
    "id": "dJclAfmh49KE"
   },
   "outputs": [
    {
     "data": {
      "text/plain": [
       "int64     9\n",
       "object    1\n",
       "dtype: int64"
      ]
     },
     "execution_count": 10,
     "metadata": {},
     "output_type": "execute_result"
    }
   ],
   "source": [
    "## TODO \n",
    "## Yixin remove the wasted steps from the code and only keep the most important data cleaning steps\n",
    "cancer.dtypes.value_counts()"
   ]
  },
  {
   "cell_type": "code",
   "execution_count": 11,
   "metadata": {
    "id": "3DCa8TIj4_Ty"
   },
   "outputs": [
    {
     "data": {
      "text/html": [
       "<div>\n",
       "<style scoped>\n",
       "    .dataframe tbody tr th:only-of-type {\n",
       "        vertical-align: middle;\n",
       "    }\n",
       "\n",
       "    .dataframe tbody tr th {\n",
       "        vertical-align: top;\n",
       "    }\n",
       "\n",
       "    .dataframe thead th {\n",
       "        text-align: right;\n",
       "    }\n",
       "</style>\n",
       "<table border=\"1\" class=\"dataframe\">\n",
       "  <thead>\n",
       "    <tr style=\"text-align: right;\">\n",
       "      <th></th>\n",
       "      <th>BareNuclei</th>\n",
       "    </tr>\n",
       "  </thead>\n",
       "  <tbody>\n",
       "    <tr>\n",
       "      <th>0</th>\n",
       "      <td>4</td>\n",
       "    </tr>\n",
       "    <tr>\n",
       "      <th>1</th>\n",
       "      <td>10</td>\n",
       "    </tr>\n",
       "    <tr>\n",
       "      <th>2</th>\n",
       "      <td>1</td>\n",
       "    </tr>\n",
       "    <tr>\n",
       "      <th>3</th>\n",
       "      <td>1</td>\n",
       "    </tr>\n",
       "    <tr>\n",
       "      <th>4</th>\n",
       "      <td>1</td>\n",
       "    </tr>\n",
       "    <tr>\n",
       "      <th>...</th>\n",
       "      <td>...</td>\n",
       "    </tr>\n",
       "    <tr>\n",
       "      <th>475</th>\n",
       "      <td>2</td>\n",
       "    </tr>\n",
       "    <tr>\n",
       "      <th>476</th>\n",
       "      <td>1</td>\n",
       "    </tr>\n",
       "    <tr>\n",
       "      <th>477</th>\n",
       "      <td>3</td>\n",
       "    </tr>\n",
       "    <tr>\n",
       "      <th>478</th>\n",
       "      <td>4</td>\n",
       "    </tr>\n",
       "    <tr>\n",
       "      <th>479</th>\n",
       "      <td>5</td>\n",
       "    </tr>\n",
       "  </tbody>\n",
       "</table>\n",
       "<p>480 rows × 1 columns</p>\n",
       "</div>"
      ],
      "text/plain": [
       "    BareNuclei\n",
       "0            4\n",
       "1           10\n",
       "2            1\n",
       "3            1\n",
       "4            1\n",
       "..         ...\n",
       "475          2\n",
       "476          1\n",
       "477          3\n",
       "478          4\n",
       "479          5\n",
       "\n",
       "[480 rows x 1 columns]"
      ]
     },
     "execution_count": 11,
     "metadata": {},
     "output_type": "execute_result"
    }
   ],
   "source": [
    "cancer.select_dtypes('object')"
   ]
  },
  {
   "cell_type": "code",
   "execution_count": 12,
   "metadata": {
    "id": "1CyRzBnb6XnU"
   },
   "outputs": [
    {
     "data": {
      "text/html": [
       "<div>\n",
       "<style scoped>\n",
       "    .dataframe tbody tr th:only-of-type {\n",
       "        vertical-align: middle;\n",
       "    }\n",
       "\n",
       "    .dataframe tbody tr th {\n",
       "        vertical-align: top;\n",
       "    }\n",
       "\n",
       "    .dataframe thead th {\n",
       "        text-align: right;\n",
       "    }\n",
       "</style>\n",
       "<table border=\"1\" class=\"dataframe\">\n",
       "  <thead>\n",
       "    <tr style=\"text-align: right;\">\n",
       "      <th></th>\n",
       "      <th>Count</th>\n",
       "      <th>Percent</th>\n",
       "    </tr>\n",
       "  </thead>\n",
       "  <tbody>\n",
       "    <tr>\n",
       "      <th>BareNuclei</th>\n",
       "      <td>9</td>\n",
       "      <td>1.875</td>\n",
       "    </tr>\n",
       "  </tbody>\n",
       "</table>\n",
       "</div>"
      ],
      "text/plain": [
       "            Count  Percent\n",
       "BareNuclei      9    1.875"
      ]
     },
     "execution_count": 12,
     "metadata": {},
     "output_type": "execute_result"
    }
   ],
   "source": [
    "cancer = cancer.replace('?' ,np.nan)\n",
    "\n",
    "##Finding the the count and percentage of values that are missing in the dataframe.\n",
    "null1 = pd.DataFrame({'Count': cancer.isnull().sum(), 'Percent': 100*cancer.isnull().sum()/len(cancer)})\n",
    "\n",
    "##printing columns with null count more than 0\n",
    "null1[null1['Count'] > 0]"
   ]
  },
  {
   "cell_type": "code",
   "execution_count": 13,
   "metadata": {
    "id": "mQKh6EdQ6Xrk"
   },
   "outputs": [],
   "source": [
    "## Filling the columns with nan values with mean of the data\n",
    "cancer[\"BareNuclei\"]=cancer[\"BareNuclei\"].astype(float)\n",
    "cancer=cancer.fillna(cancer.mean())"
   ]
  },
  {
   "cell_type": "markdown",
   "metadata": {
    "id": "PHIdqxDmWMPe"
   },
   "source": [
    "<h3>1.2.2 Observations </h3>\n",
    "<h3>1.2.3 Approach </h3>"
   ]
  },
  {
   "cell_type": "markdown",
   "metadata": {
    "id": "uf89AePf6nsZ"
   },
   "source": [
    "<h3>1.3 Removing Useless Attributes </h3>"
   ]
  },
  {
   "cell_type": "code",
   "execution_count": 14,
   "metadata": {
    "id": "e1xo7hxe6Xv1"
   },
   "outputs": [
    {
     "data": {
      "text/html": [
       "<div>\n",
       "<style scoped>\n",
       "    .dataframe tbody tr th:only-of-type {\n",
       "        vertical-align: middle;\n",
       "    }\n",
       "\n",
       "    .dataframe tbody tr th {\n",
       "        vertical-align: top;\n",
       "    }\n",
       "\n",
       "    .dataframe thead th {\n",
       "        text-align: right;\n",
       "    }\n",
       "</style>\n",
       "<table border=\"1\" class=\"dataframe\">\n",
       "  <thead>\n",
       "    <tr style=\"text-align: right;\">\n",
       "      <th></th>\n",
       "      <th>classes</th>\n",
       "      <th>BareNuclei</th>\n",
       "      <th>UniformityofCellShape</th>\n",
       "      <th>UniformityofCellSize</th>\n",
       "      <th>BlandChromatin</th>\n",
       "      <th>ClumpThickness</th>\n",
       "      <th>NormalNucleoli</th>\n",
       "      <th>MarginalAdhesion</th>\n",
       "      <th>SingleEpithelialCellSize</th>\n",
       "      <th>Mitoses</th>\n",
       "    </tr>\n",
       "  </thead>\n",
       "  <tbody>\n",
       "    <tr>\n",
       "      <th>0</th>\n",
       "      <td>0</td>\n",
       "      <td>4.0</td>\n",
       "      <td>8</td>\n",
       "      <td>8</td>\n",
       "      <td>3</td>\n",
       "      <td>6</td>\n",
       "      <td>7</td>\n",
       "      <td>1</td>\n",
       "      <td>3</td>\n",
       "      <td>1</td>\n",
       "    </tr>\n",
       "    <tr>\n",
       "      <th>1</th>\n",
       "      <td>1</td>\n",
       "      <td>10.0</td>\n",
       "      <td>10</td>\n",
       "      <td>10</td>\n",
       "      <td>9</td>\n",
       "      <td>8</td>\n",
       "      <td>7</td>\n",
       "      <td>8</td>\n",
       "      <td>7</td>\n",
       "      <td>1</td>\n",
       "    </tr>\n",
       "    <tr>\n",
       "      <th>2</th>\n",
       "      <td>0</td>\n",
       "      <td>1.0</td>\n",
       "      <td>2</td>\n",
       "      <td>1</td>\n",
       "      <td>3</td>\n",
       "      <td>2</td>\n",
       "      <td>1</td>\n",
       "      <td>1</td>\n",
       "      <td>2</td>\n",
       "      <td>1</td>\n",
       "    </tr>\n",
       "  </tbody>\n",
       "</table>\n",
       "</div>"
      ],
      "text/plain": [
       "   classes  BareNuclei  UniformityofCellShape  UniformityofCellSize  \\\n",
       "0        0         4.0                      8                     8   \n",
       "1        1        10.0                     10                    10   \n",
       "2        0         1.0                      2                     1   \n",
       "\n",
       "   BlandChromatin  ClumpThickness  NormalNucleoli  MarginalAdhesion  \\\n",
       "0               3               6               7                 1   \n",
       "1               9               8               7                 8   \n",
       "2               3               2               1                 1   \n",
       "\n",
       "   SingleEpithelialCellSize  Mitoses  \n",
       "0                         3        1  \n",
       "1                         7        1  \n",
       "2                         2        1  "
      ]
     },
     "execution_count": 14,
     "metadata": {},
     "output_type": "execute_result"
    }
   ],
   "source": [
    "corr_list1=cancer.corr()['classes'].abs().sort_values(ascending=False)\n",
    "corr_list_new=corr_list1[corr_list1>0.01].index.values.tolist()\n",
    "corr_list1\n",
    "cancer=cancer[corr_list_new]\n",
    "cancer.head(3)"
   ]
  },
  {
   "cell_type": "code",
   "execution_count": 15,
   "metadata": {
    "id": "5MgSXzzR6XzR"
   },
   "outputs": [
    {
     "data": {
      "text/plain": [
       "classes                   classes                     1.000000\n",
       "UniformityofCellShape     UniformityofCellSize        0.898337\n",
       "BareNuclei                classes                     0.807094\n",
       "classes                   UniformityofCellShape       0.800917\n",
       "                          UniformityofCellSize        0.798326\n",
       "                          BlandChromatin              0.738348\n",
       "BlandChromatin            UniformityofCellSize        0.737284\n",
       "classes                   ClumpThickness              0.728639\n",
       "SingleEpithelialCellSize  UniformityofCellSize        0.724716\n",
       "UniformityofCellShape     BlandChromatin              0.714699\n",
       "                          NormalNucleoli              0.693236\n",
       "NormalNucleoli            UniformityofCellSize        0.691315\n",
       "UniformityofCellShape     SingleEpithelialCellSize    0.690709\n",
       "classes                   NormalNucleoli              0.689144\n",
       "MarginalAdhesion          UniformityofCellSize        0.673641\n",
       "                          classes                     0.670098\n",
       "UniformityofCellShape     BareNuclei                  0.668392\n",
       "SingleEpithelialCellSize  classes                     0.656300\n",
       "MarginalAdhesion          UniformityofCellShape       0.649631\n",
       "BareNuclei                BlandChromatin              0.648271\n",
       "UniformityofCellShape     ClumpThickness              0.646226\n",
       "BlandChromatin            MarginalAdhesion            0.642952\n",
       "UniformityofCellSize      BareNuclei                  0.637054\n",
       "ClumpThickness            UniformityofCellSize        0.634178\n",
       "NormalNucleoli            BlandChromatin              0.633998\n",
       "BareNuclei                MarginalAdhesion            0.626874\n",
       "SingleEpithelialCellSize  NormalNucleoli              0.579677\n",
       "                          BlandChromatin              0.576917\n",
       "ClumpThickness            BareNuclei                  0.574053\n",
       "NormalNucleoli            MarginalAdhesion            0.558261\n",
       "MarginalAdhesion          SingleEpithelialCellSize    0.548284\n",
       "BlandChromatin            ClumpThickness              0.541109\n",
       "BareNuclei                NormalNucleoli              0.530779\n",
       "                          SingleEpithelialCellSize    0.524467\n",
       "NormalNucleoli            ClumpThickness              0.516307\n",
       "SingleEpithelialCellSize  ClumpThickness              0.491795\n",
       "                          Mitoses                     0.479045\n",
       "MarginalAdhesion          ClumpThickness              0.444961\n",
       "Mitoses                   UniformityofCellSize        0.444223\n",
       "UniformityofCellShape     Mitoses                     0.426055\n",
       "NormalNucleoli            Mitoses                     0.415196\n",
       "MarginalAdhesion          Mitoses                     0.402216\n",
       "classes                   Mitoses                     0.394706\n",
       "Mitoses                   ClumpThickness              0.348053\n",
       "BlandChromatin            Mitoses                     0.326189\n",
       "Mitoses                   BareNuclei                  0.304523\n",
       "dtype: float64"
      ]
     },
     "metadata": {},
     "output_type": "display_data"
    }
   ],
   "source": [
    "## To remove outliers first we have to find the correlation between attributes\n",
    "\n",
    "#find the variables with high correlations\n",
    "cor1 = cancer.corr().abs()\n",
    "list1 = cor1.stack().sort_values(ascending=False).drop_duplicates()  \n",
    "high_corr= list1[list1>0.70].index.values.tolist()\n",
    "high_corr.remove(high_corr[0])\n",
    "\n",
    "display(list1)"
   ]
  },
  {
   "cell_type": "code",
   "execution_count": 16,
   "metadata": {
    "id": "x7OKFrzE6X3D"
   },
   "outputs": [],
   "source": [
    "# for variable pairs with high correlation, keep only one of them\n",
    "columnlist=list(cancer.columns)\n",
    "len(high_corr)\n",
    "for i in range(len(high_corr)):\n",
    "    if \"classes\" in high_corr[i]:\n",
    "        columnlist=columnlist\n",
    "    else:\n",
    "        if high_corr[i][0] in columnlist and high_corr[i][1] in columnlist:\n",
    "            columnlist.remove(high_corr[i][1])\n",
    "        else:\n",
    "            columnlist=columnlist\n",
    "cancer_final=cancer[columnlist]"
   ]
  },
  {
   "cell_type": "code",
   "execution_count": 17,
   "metadata": {
    "id": "ZJPMB2Tq6pOq"
   },
   "outputs": [],
   "source": [
    "## Doing a test train split on the data \n",
    "import random\n",
    "from sklearn.model_selection import train_test_split\n",
    "training_data, test_data = train_test_split(cancer_final,random_state=None, shuffle=True)\n",
    "train_x=training_data.drop(['classes'], 1) \n",
    "train_y=training_data[['classes']]\n",
    "test_x=test_data.drop(['classes'], 1)\n",
    "test_y=test_data[['classes']]"
   ]
  },
  {
   "cell_type": "markdown",
   "metadata": {
    "id": "P-oNBnzbV4lI"
   },
   "source": [
    "<h3>1.3.2 Observations </h3>\n",
    "\n",
    "\n",
    "<h3>1.3.3 Approach </h3>"
   ]
  },
  {
   "cell_type": "markdown",
   "metadata": {
    "id": "6mQKJvN27Bfu"
   },
   "source": [
    "<h3>1.4 Deleting Outliers and Data Normalizations</h3>"
   ]
  },
  {
   "cell_type": "code",
   "execution_count": 18,
   "metadata": {
    "id": "9Z4bemp56pTY"
   },
   "outputs": [],
   "source": [
    "# Remove outliers\n",
    "cancer_norm = cancer_final[(np.abs(scipy.stats.zscore(cancer_final)) < 3).all(axis=1)]\n",
    "# Zero mean normalisation\n",
    "cancer_norm.iloc[:,1:]=(cancer_norm.iloc[:,1:]-cancer_norm.iloc[:,1:].mean())/cancer_norm.iloc[:,1:].std()"
   ]
  },
  {
   "cell_type": "code",
   "execution_count": 19,
   "metadata": {
    "colab": {
     "base_uri": "https://localhost:8080/",
     "height": 206
    },
    "id": "MQpTYu396pXt",
    "outputId": "823e94a8-b643-4b09-fb02-c208778f5250"
   },
   "outputs": [
    {
     "data": {
      "text/html": [
       "<div>\n",
       "<style scoped>\n",
       "    .dataframe tbody tr th:only-of-type {\n",
       "        vertical-align: middle;\n",
       "    }\n",
       "\n",
       "    .dataframe tbody tr th {\n",
       "        vertical-align: top;\n",
       "    }\n",
       "\n",
       "    .dataframe thead th {\n",
       "        text-align: right;\n",
       "    }\n",
       "</style>\n",
       "<table border=\"1\" class=\"dataframe\">\n",
       "  <thead>\n",
       "    <tr style=\"text-align: right;\">\n",
       "      <th></th>\n",
       "      <th>classes</th>\n",
       "      <th>BareNuclei</th>\n",
       "      <th>UniformityofCellShape</th>\n",
       "      <th>ClumpThickness</th>\n",
       "      <th>NormalNucleoli</th>\n",
       "      <th>MarginalAdhesion</th>\n",
       "      <th>SingleEpithelialCellSize</th>\n",
       "      <th>Mitoses</th>\n",
       "    </tr>\n",
       "  </thead>\n",
       "  <tbody>\n",
       "    <tr>\n",
       "      <th>0</th>\n",
       "      <td>0</td>\n",
       "      <td>-0.089238</td>\n",
       "      <td>1.350078</td>\n",
       "      <td>0.378015</td>\n",
       "      <td>1.102880</td>\n",
       "      <td>-0.751985</td>\n",
       "      <td>-0.235368</td>\n",
       "      <td>-0.404347</td>\n",
       "    </tr>\n",
       "    <tr>\n",
       "      <th>1</th>\n",
       "      <td>1</td>\n",
       "      <td>1.455944</td>\n",
       "      <td>1.990580</td>\n",
       "      <td>1.054464</td>\n",
       "      <td>1.102880</td>\n",
       "      <td>1.546900</td>\n",
       "      <td>1.514169</td>\n",
       "      <td>-0.404347</td>\n",
       "    </tr>\n",
       "    <tr>\n",
       "      <th>2</th>\n",
       "      <td>0</td>\n",
       "      <td>-0.861830</td>\n",
       "      <td>-0.571428</td>\n",
       "      <td>-0.974882</td>\n",
       "      <td>-0.718062</td>\n",
       "      <td>-0.751985</td>\n",
       "      <td>-0.672752</td>\n",
       "      <td>-0.404347</td>\n",
       "    </tr>\n",
       "    <tr>\n",
       "      <th>3</th>\n",
       "      <td>0</td>\n",
       "      <td>-0.861830</td>\n",
       "      <td>-0.891679</td>\n",
       "      <td>-0.974882</td>\n",
       "      <td>-0.718062</td>\n",
       "      <td>-0.751985</td>\n",
       "      <td>-0.672752</td>\n",
       "      <td>3.032604</td>\n",
       "    </tr>\n",
       "    <tr>\n",
       "      <th>4</th>\n",
       "      <td>0</td>\n",
       "      <td>-0.861830</td>\n",
       "      <td>-0.891679</td>\n",
       "      <td>-1.313106</td>\n",
       "      <td>-0.718062</td>\n",
       "      <td>-0.751985</td>\n",
       "      <td>-1.110137</td>\n",
       "      <td>-0.404347</td>\n",
       "    </tr>\n",
       "  </tbody>\n",
       "</table>\n",
       "</div>"
      ],
      "text/plain": [
       "   classes  BareNuclei  UniformityofCellShape  ClumpThickness  NormalNucleoli  \\\n",
       "0        0   -0.089238               1.350078        0.378015        1.102880   \n",
       "1        1    1.455944               1.990580        1.054464        1.102880   \n",
       "2        0   -0.861830              -0.571428       -0.974882       -0.718062   \n",
       "3        0   -0.861830              -0.891679       -0.974882       -0.718062   \n",
       "4        0   -0.861830              -0.891679       -1.313106       -0.718062   \n",
       "\n",
       "   MarginalAdhesion  SingleEpithelialCellSize   Mitoses  \n",
       "0         -0.751985                 -0.235368 -0.404347  \n",
       "1          1.546900                  1.514169 -0.404347  \n",
       "2         -0.751985                 -0.672752 -0.404347  \n",
       "3         -0.751985                 -0.672752  3.032604  \n",
       "4         -0.751985                 -1.110137 -0.404347  "
      ]
     },
     "execution_count": 19,
     "metadata": {},
     "output_type": "execute_result"
    }
   ],
   "source": [
    "cancer_norm.head()"
   ]
  },
  {
   "cell_type": "code",
   "execution_count": 20,
   "metadata": {
    "id": "Wkh0puJu6pa3"
   },
   "outputs": [],
   "source": [
    "#split the new dataset\n",
    "training_data_norm, test_data_norm = train_test_split(cancer_norm,random_state=None, shuffle=True)\n",
    "train_x_norm=training_data_norm.drop(['classes'], 1) \n",
    "train_y_norm=training_data_norm[['classes']]\n",
    "test_x_norm=test_data_norm.drop(['classes'], 1)\n",
    "test_y_norm=test_data_norm[['classes']]"
   ]
  },
  {
   "cell_type": "code",
   "execution_count": 21,
   "metadata": {
    "colab": {
     "base_uri": "https://localhost:8080/"
    },
    "id": "xlkLRQkM6pee",
    "outputId": "82135065-365e-44ed-84fe-e4a25cc48739"
   },
   "outputs": [
    {
     "name": "stdout",
     "output_type": "stream",
     "text": [
      "(344, 7)\n",
      "(344, 1)\n",
      "(115, 7)\n",
      "(115, 1)\n"
     ]
    }
   ],
   "source": [
    "x_train = np.array(train_x_norm)\n",
    "print(x_train.shape)\n",
    "y_train = np.array(train_y_norm)\n",
    "print(y_train.shape)\n",
    "x_test = np.array(test_x_norm)\n",
    "print(x_test.shape)\n",
    "y_test = np.array(test_y_norm)\n",
    "print(y_test.shape)"
   ]
  },
  {
   "cell_type": "markdown",
   "metadata": {
    "id": "uoxu8NW0VeWR"
   },
   "source": [
    "<h3>1.4.2 Observations</h3>\n",
    "<!---> Here will add what are the observations of each and every chapter <--->\n",
    "<h3>1.4.3 Approach </h3>\n"
   ]
  },
  {
   "cell_type": "markdown",
   "metadata": {
    "id": "ezxSeKxKWqBF"
   },
   "source": [
    "<h3>1.5 Conclusion </h3>"
   ]
  },
  {
   "cell_type": "markdown",
   "metadata": {
    "id": "SNNGSB4Vb2CE"
   },
   "source": [
    "<h2><center>2. Model Fiting on the clean data</center></h2>\n",
    "\n",
    "We have a cleaned and a normalized data now we just have to fit a model over the data and make predictions.\n",
    "We are going to implement 2 models that are implemented by us \n",
    "\n",
    "<ol>\n",
    "    <li>SGD Classifier with Log Loss</li>\n",
    "    <li>SVM with RBF kernel</li>\n",
    "</ol>\n"
   ]
  },
  {
   "cell_type": "markdown",
   "metadata": {
    "id": "LGeB6fiFYPuS"
   },
   "source": [
    "<h3>2.1 SGD Classifier with Log Loss</h3>"
   ]
  },
  {
   "cell_type": "markdown",
   "metadata": {
    "id": "3NIP2zzzYi2e"
   },
   "source": [
    "<h4>2.1.1 Function Call</h4>"
   ]
  },
  {
   "cell_type": "code",
   "execution_count": 22,
   "metadata": {
    "id": "qq2Z7Etj6yun"
   },
   "outputs": [
    {
     "name": "stderr",
     "output_type": "stream",
     "text": [
      " 12%|█▏        | 9/75 [00:00<00:00, 89.17it/s]"
     ]
    },
    {
     "name": "stdout",
     "output_type": "stream",
     "text": [
      "\n",
      "-- Epoch no(iteration no)  1 \n",
      " Train data set : \n",
      "W intercept: [0.0972246  0.08530624 0.07554367 0.0698289  0.07623768 0.07383376\n",
      " 0.04321369], B intercept: [-0.02195136], Train loss: 0.23058084764601675, Test loss: 0.22889049396668087\n",
      "\n",
      "-- Epoch no(iteration no)  2 \n",
      " Train data set : \n",
      "W intercept: [0.16127311 0.16958349 0.16346297 0.13282603 0.10829376 0.14582613\n",
      " 0.05797147], B intercept: [-0.00968502], Train loss: 0.18506620796895412, Test loss: 0.18359552550369035\n",
      "\n",
      "-- Epoch no(iteration no)  3 \n",
      " Train data set : \n",
      "W intercept: [0.23106148 0.22649795 0.19763329 0.17855046 0.15383624 0.20370847\n",
      " 0.08939665], B intercept: [-0.01421422], Train loss: 0.1561128731369699, Test loss: 0.15401302283952734\n",
      "\n",
      "-- Epoch no(iteration no)  4 \n",
      " Train data set : \n",
      "W intercept: [0.27519796 0.28106968 0.24707548 0.22725461 0.18654964 0.25659733\n",
      " 0.11443373], B intercept: [-0.00722061], Train loss: 0.13465635377967167, Test loss: 0.13239870743144602\n",
      "\n",
      "-- Epoch no(iteration no)  5 \n",
      " Train data set : \n",
      "W intercept: [0.32740408 0.30406954 0.29196707 0.25755652 0.21721798 0.28290659\n",
      " 0.13950074], B intercept: [-0.00838081], Train loss: 0.12083618009440822, Test loss: 0.11793226807247281\n",
      "\n",
      "-- Epoch no(iteration no)  6 \n",
      " Train data set : \n",
      "W intercept: [0.36375619 0.33764722 0.32803685 0.28413745 0.23385021 0.31033927\n",
      " 0.14902462], B intercept: [0.01412803], Train loss: 0.11068828480123612, Test loss: 0.10800710576387655\n",
      "\n",
      "-- Epoch no(iteration no)  7 \n",
      " Train data set : \n",
      "W intercept: [0.40912599 0.37296482 0.3603186  0.30716422 0.25164315 0.33736853\n",
      " 0.14099978], B intercept: [0.01532936], Train loss: 0.10164233752738518, Test loss: 0.0989763815036667\n",
      "\n",
      "-- Epoch no(iteration no)  8 \n",
      " Train data set : \n",
      "W intercept: [0.44158667 0.40713985 0.37057754 0.32039568 0.26866884 0.34128595\n",
      " 0.1494943 ], B intercept: [0.02397549], Train loss: 0.09618317675128027, Test loss: 0.09348188783156434\n",
      "\n",
      "-- Epoch no(iteration no)  9 \n",
      " Train data set : \n",
      "W intercept: [0.47991641 0.43762702 0.38456554 0.34963848 0.29013676 0.35524796\n",
      " 0.15519426], B intercept: [0.01855224], Train loss: 0.08989168998834136, Test loss: 0.08700198212300496\n",
      "\n",
      "-- Epoch no(iteration no)  10 \n",
      " Train data set : \n",
      "W intercept: [0.4998919  0.45582384 0.40588535 0.36360628 0.31764999 0.36018383\n",
      " 0.16077634], B intercept: [0.03578295], Train loss: 0.08577636472844032, Test loss: 0.08279678560272347\n",
      "\n",
      "-- Epoch no(iteration no)  11 \n",
      " Train data set : \n",
      "W intercept: [0.52510425 0.4861108  0.43495846 0.38744356 0.3392496  0.370158\n",
      " 0.16683701], B intercept: [0.02690002], Train loss: 0.08078687193480573, Test loss: 0.07753123134396707\n",
      "\n",
      "-- Epoch no(iteration no)  12 \n",
      " Train data set : \n",
      "W intercept: [0.54964408 0.51057152 0.44926669 0.41056973 0.35941569 0.3842333\n",
      " 0.17884408], B intercept: [0.0063884], Train loss: 0.07692054248816614, Test loss: 0.07323954265709665\n",
      "\n",
      "-- Epoch no(iteration no)  13 \n",
      " Train data set : \n",
      "W intercept: [0.57370367 0.52613508 0.47071732 0.42674219 0.37468276 0.39860897\n",
      " 0.18685923], B intercept: [0.00605851], Train loss: 0.07367839421221169, Test loss: 0.06982582473366437\n",
      "\n",
      "-- Epoch no(iteration no)  14 \n",
      " Train data set : \n",
      "W intercept: [0.5841822  0.53650735 0.49415199 0.43209605 0.37994801 0.41253342\n",
      " 0.2014776 ], B intercept: [0.0115162], Train loss: 0.07160883398439387, Test loss: 0.0676633108980789\n"
     ]
    },
    {
     "name": "stderr",
     "output_type": "stream",
     "text": [
      "\r",
      " 25%|██▌       | 19/75 [00:00<00:00, 93.66it/s]"
     ]
    },
    {
     "name": "stdout",
     "output_type": "stream",
     "text": [
      "\n",
      "-- Epoch no(iteration no)  15 \n",
      " Train data set : \n",
      "W intercept: [0.60435051 0.55422536 0.50876562 0.44635711 0.39230634 0.42034107\n",
      " 0.2025638 ], B intercept: [0.01255045], Train loss: 0.06925927578812875, Test loss: 0.06526729160101666\n",
      "\n",
      "-- Epoch no(iteration no)  16 \n",
      " Train data set : \n",
      "W intercept: [0.6200653  0.57110041 0.53050209 0.45866177 0.39369926 0.43709403\n",
      " 0.2013372 ], B intercept: [0.02179589], Train loss: 0.06706606485368387, Test loss: 0.06325789594127879\n",
      "\n",
      "-- Epoch no(iteration no)  17 \n",
      " Train data set : \n",
      "W intercept: [0.64497594 0.58505399 0.53814199 0.47331979 0.40292722 0.45569297\n",
      " 0.2064203 ], B intercept: [0.02591643], Train loss: 0.06489987495525312, Test loss: 0.06109195743098568\n",
      "\n",
      "-- Epoch no(iteration no)  18 \n",
      " Train data set : \n",
      "W intercept: [0.65300962 0.5988804  0.55232584 0.48859077 0.41410985 0.47659626\n",
      " 0.21378741], B intercept: [0.02750594], Train loss: 0.06314002470132096, Test loss: 0.05930441753804758\n",
      "\n",
      "-- Epoch no(iteration no)  19 \n",
      " Train data set : \n",
      "W intercept: [0.67806987 0.60200774 0.56103521 0.49696556 0.42632463 0.48831871\n",
      " 0.21676991], B intercept: [0.02908962], Train loss: 0.06162319875839831, Test loss: 0.057637446131964705\n"
     ]
    },
    {
     "name": "stderr",
     "output_type": "stream",
     "text": [
      "\r",
      " 39%|███▊      | 29/75 [00:00<00:00, 92.52it/s]"
     ]
    },
    {
     "name": "stdout",
     "output_type": "stream",
     "text": [
      "\n",
      "-- Epoch no(iteration no)  20 \n",
      " Train data set : \n",
      "W intercept: [0.69693892 0.61917987 0.57989752 0.50771019 0.42749506 0.49420247\n",
      " 0.22118755], B intercept: [0.05126348], Train loss: 0.05986458670727317, Test loss: 0.05613825279518439\n",
      "\n",
      "-- Epoch no(iteration no)  21 \n",
      " Train data set : \n",
      "W intercept: [0.72024309 0.63517151 0.59447069 0.51022078 0.43137424 0.50559815\n",
      " 0.21988153], B intercept: [0.05504797], Train loss: 0.05835963676131535, Test loss: 0.054635576106398284\n",
      "\n",
      "-- Epoch no(iteration no)  22 \n",
      " Train data set : \n",
      "W intercept: [0.72793785 0.65227358 0.59557272 0.51134134 0.43204011 0.50088327\n",
      " 0.21938581], B intercept: [0.06603228], Train loss: 0.057754231649537406, Test loss: 0.05420613525856412\n",
      "\n",
      "-- Epoch no(iteration no)  23 \n",
      " Train data set : \n",
      "W intercept: [0.74610699 0.65957149 0.60213038 0.51781433 0.45037395 0.49682394\n",
      " 0.222111  ], B intercept: [0.07690675], Train loss: 0.05667509101540983, Test loss: 0.05304188688609343\n",
      "\n",
      "-- Epoch no(iteration no)  24 \n",
      " Train data set : \n",
      "W intercept: [0.75880211 0.67419338 0.6097287  0.52886208 0.46189288 0.50298737\n",
      " 0.22383975], B intercept: [0.07712803], Train loss: 0.055572967240014655, Test loss: 0.05188866450076512\n",
      "\n",
      "-- Epoch no(iteration no)  25 \n",
      " Train data set : \n",
      "W intercept: [0.76968485 0.68725975 0.62452827 0.54147696 0.4703306  0.50790252\n",
      " 0.22761666], B intercept: [0.07090868], Train loss: 0.054527347061850376, Test loss: 0.05072216066452393\n",
      "\n",
      "-- Epoch no(iteration no)  26 \n",
      " Train data set : \n",
      "W intercept: [0.78286556 0.70234658 0.6345005  0.55544071 0.48113142 0.51344882\n",
      " 0.23444809], B intercept: [0.06008806], Train loss: 0.053505708341859776, Test loss: 0.0495031727919335\n",
      "\n",
      "-- Epoch no(iteration no)  27 \n",
      " Train data set : \n",
      "W intercept: [0.79677088 0.7080473  0.64527548 0.56236873 0.4890185  0.51966774\n",
      " 0.23680649], B intercept: [0.05796192], Train loss: 0.052723632361197335, Test loss: 0.04860320200503606\n",
      "\n",
      "-- Epoch no(iteration no)  28 \n",
      " Train data set : \n",
      "W intercept: [0.80245979 0.71068498 0.66013931 0.56348223 0.48747515 0.52548396\n",
      " 0.24470325], B intercept: [0.06768386], Train loss: 0.052168111328880266, Test loss: 0.04809531129630402\n",
      "\n",
      "-- Epoch no(iteration no)  29 \n",
      " Train data set : \n",
      "W intercept: [0.81215213 0.72082496 0.66736597 0.56617873 0.48682954 0.52951332\n",
      " 0.24049068], B intercept: [0.07950588], Train loss: 0.05155950167973547, Test loss: 0.047673920755459856\n",
      "\n",
      "-- Epoch no(iteration no)  30 \n",
      " Train data set : \n",
      "W intercept: [0.8234146  0.73193243 0.67958505 0.57629081 0.49015871 0.5397497\n",
      " 0.2414783 ], B intercept: [0.08217061], Train loss: 0.05072211332857717, Test loss: 0.04687692398307667\n",
      "\n",
      "-- Epoch no(iteration no)  31 \n",
      " Train data set : \n",
      "W intercept: [0.8361     0.7377295  0.68538488 0.58797897 0.49683739 0.55211977\n",
      " 0.246734  ], B intercept: [0.08590582], Train loss: 0.04997222561778613, Test loss: 0.046115579775546055\n",
      "\n",
      "-- Epoch no(iteration no)  32 \n",
      " Train data set : \n",
      "W intercept: [0.84632995 0.73925239 0.68812863 0.59501242 0.50484845 0.56284804\n",
      " 0.25006529], B intercept: [0.08928449], Train loss: 0.049456710956951026, Test loss: 0.04555407715048924\n",
      "\n",
      "-- Epoch no(iteration no)  33 \n",
      " Train data set : \n",
      "W intercept: [0.85763936 0.74202072 0.70203467 0.59872931 0.50276378 0.56817737\n",
      " 0.26072034], B intercept: [0.09749032], Train loss: 0.04886481607140061, Test loss: 0.044977604444500434\n",
      "\n",
      "-- Epoch no(iteration no)  34 \n",
      " Train data set : \n",
      "W intercept: [0.86821354 0.76065863 0.71539637 0.60373241 0.50696736 0.57405689\n",
      " 0.25264185], B intercept: [0.11392323], Train loss: 0.048022089064778076, Test loss: 0.04438240874162666\n",
      "\n",
      "-- Epoch no(iteration no)  35 \n",
      " Train data set : \n",
      "W intercept: [0.89014656 0.77157256 0.72195945 0.60874199 0.50980208 0.57926179\n",
      " 0.2585884 ], B intercept: [0.11719793], Train loss: 0.047271150436811384, Test loss: 0.04359438436062285\n",
      "\n",
      "-- Epoch no(iteration no)  36 \n",
      " Train data set : \n",
      "W intercept: [0.89452457 0.78475954 0.71618914 0.60571325 0.50946455 0.57607486\n",
      " 0.25037989], B intercept: [0.12215314], Train loss: 0.04713701279962226, Test loss: 0.04360697722395804\n",
      "\n",
      "-- Epoch no(iteration no)  37 \n",
      " Train data set : \n",
      "W intercept: [0.90283255 0.78535872 0.71973709 0.6070917  0.52272601 0.57116284\n",
      " 0.25158054], B intercept: [0.13304822], Train loss: 0.046795268330137696, Test loss: 0.043227726230095666\n",
      "\n",
      "-- Epoch no(iteration no)  38 \n",
      " Train data set : \n",
      "W intercept: [0.91130056 0.79694858 0.72939634 0.61717438 0.53065772 0.57327506\n",
      " 0.25208441], B intercept: [0.13402757], Train loss: 0.04623170752037835, Test loss: 0.04265276706812882\n",
      "\n",
      "-- Epoch no(iteration no) "
     ]
    },
    {
     "name": "stderr",
     "output_type": "stream",
     "text": [
      " 65%|██████▌   | 49/75 [00:00<00:00, 90.45it/s]"
     ]
    },
    {
     "name": "stdout",
     "output_type": "stream",
     "text": [
      " 39 \n",
      " Train data set : \n",
      "W intercept: [0.92068446 0.80512174 0.73353136 0.62533287 0.53766268 0.57946256\n",
      " 0.25575337], B intercept: [0.12652354], Train loss: 0.045826626116648096, Test loss: 0.04211409253457016\n",
      "\n",
      "-- Epoch no(iteration no)  40 \n",
      " Train data set : \n",
      "W intercept: [0.92989729 0.81493513 0.74223637 0.63388972 0.54680052 0.58217822\n",
      " 0.26079478], B intercept: [0.11859228], Train loss: 0.04537974560482068, Test loss: 0.04149986504405119\n",
      "\n",
      "-- Epoch no(iteration no)  41 \n",
      " Train data set : \n",
      "W intercept: [0.93574608 0.81746038 0.75312269 0.63806856 0.54709035 0.58645629\n",
      " 0.26830366], B intercept: [0.12172337], Train loss: 0.045041831417141534, Test loss: 0.041143618748195394\n",
      "\n",
      "-- Epoch no(iteration no)  42 \n",
      " Train data set : \n",
      "W intercept: [0.94023779 0.81727409 0.76198403 0.6392456  0.54623736 0.58409171\n",
      " 0.26585634], B intercept: [0.13255985], Train loss: 0.0448142861229828, Test loss: 0.041035400908646956\n",
      "\n",
      "-- Epoch no(iteration no)  43 \n",
      " Train data set : \n",
      "W intercept: [0.94923205 0.82622448 0.76860707 0.63966555 0.54373137 0.59027319\n",
      " 0.26340766], B intercept: [0.13937979], Train loss: 0.04444068997344779, Test loss: 0.04077933644972544\n",
      "\n",
      "-- Epoch no(iteration no)  44 \n",
      " Train data set : \n",
      "W intercept: [0.95859235 0.8334479  0.77447747 0.64766555 0.54822712 0.59796297\n",
      " 0.26340844], B intercept: [0.14304024], Train loss: 0.04401161294612103, Test loss: 0.04038232069995405\n",
      "\n",
      "-- Epoch no(iteration no)  45 \n",
      " Train data set : \n",
      "W intercept: [0.96584588 0.83809692 0.78090158 0.65671299 0.55082553 0.60730914\n",
      " 0.26848902], B intercept: [0.14487821], Train loss: 0.043642610138999983, Test loss: 0.040012396031932684\n",
      "\n",
      "-- Epoch no(iteration no)  46 \n",
      " Train data set : \n",
      "W intercept: [0.97516755 0.83759058 0.78154456 0.66193567 0.55798091 0.61675741\n",
      " 0.2697747 ], B intercept: [0.14640555], Train loss: 0.04337588525268394, Test loss: 0.03968364799596336\n",
      "\n",
      "-- Epoch no(iteration no)  47 \n",
      " Train data set : \n",
      "W intercept: [0.98502598 0.83838842 0.79217955 0.66732725 0.55149649 0.62023415\n",
      " 0.27840192], B intercept: [0.16138302], Train loss: 0.042981982126232304, Test loss: 0.039448133137872925\n",
      "\n",
      "-- Epoch no(iteration no)  48 \n",
      " Train data set : \n",
      "W intercept: [0.99345177 0.85336218 0.80258852 0.66521197 0.55483634 0.6263649\n",
      " 0.2718042 ], B intercept: [0.17478028], Train loss: 0.042504024404981945, Test loss: 0.03913714244328091\n",
      "\n",
      "-- Epoch no(iteration no)  49 \n",
      " Train data set : \n",
      "W intercept: [1.01108512 0.86260397 0.80776745 0.67122168 0.55863523 0.62688495\n",
      " 0.27751651], B intercept: [0.17801925], Train loss: 0.04204713067141083, Test loss: 0.03864886099897242\n",
      "\n",
      "-- Epoch no(iteration no)  50 \n",
      " Train data set : \n",
      "W intercept: [1.01198912 0.87418895 0.79930423 0.6671075  0.55868987 0.624575\n",
      " 0.26997843], B intercept: [0.17690809], Train loss: 0.042059703440346194, Test loss: 0.03873129162692282\n",
      "\n",
      "-- Epoch no(iteration no)  51 \n",
      " Train data set : \n",
      "W intercept: [1.01839577 0.87364254 0.80318158 0.66709456 0.56921974 0.61594015\n",
      " 0.26863062], B intercept: [0.19224291], Train loss: 0.04183436747977154, Test loss: 0.03855425526837852\n",
      "\n",
      "-- Epoch no(iteration no)  52 \n",
      " Train data set : \n",
      "W intercept: [1.02469903 0.88126708 0.80949842 0.67402984 0.5753709  0.61852587\n",
      " 0.2708153 ], B intercept: [0.18837902], Train loss: 0.0415695614037144, Test loss: 0.03821171483581819\n",
      "\n",
      "-- Epoch no(iteration no)  53 \n",
      " Train data set : \n",
      "W intercept: [1.03170947 0.88846658 0.81413183 0.68033575 0.5810661  0.61968517\n",
      " 0.27369157], B intercept: [0.18225086], Train loss: 0.041351273582107884, Test loss: 0.03788598106767068\n",
      "\n",
      "-- Epoch no(iteration no)  54 \n",
      " Train data set : \n",
      "W intercept: [1.03823409 0.89511986 0.81915162 0.68640936 0.58764372 0.6253132\n",
      " 0.2776734 ], B intercept: [0.17723857], Train loss: 0.041117106481113636, Test loss: 0.03754062472254618\n",
      "\n",
      "-- Epoch no(iteration no)  55 \n",
      " Train data set : \n",
      "W intercept: [1.04204419 0.89691537 0.82913212 0.68975797 0.58749015 0.62857498\n",
      " 0.28496675], B intercept: [0.18031663], Train loss: 0.040908221344046966, Test loss: 0.03732181853613746\n",
      "\n",
      "-- Epoch no(iteration no)  56 \n",
      " Train data set : \n",
      "W intercept: [1.04503606 0.89570549 0.8363562  0.68957595 0.58501146 0.62564344\n",
      " 0.28085852], B intercept: [0.19122178], Train loss: 0.040773158647378384, Test loss: 0.03732821696355823\n"
     ]
    },
    {
     "name": "stderr",
     "output_type": "stream",
     "text": [
      " 92%|█████████▏| 69/75 [00:00<00:00, 92.04it/s]"
     ]
    },
    {
     "name": "stdout",
     "output_type": "stream",
     "text": [
      "\n",
      "-- Epoch no(iteration no)  57 \n",
      " Train data set : \n",
      "W intercept: [1.05190306 0.9028484  0.84397421 0.6890093  0.58197108 0.63022098\n",
      " 0.27778055], B intercept: [0.19939981], Train loss: 0.04051325884158474, Test loss: 0.037199958997898235\n",
      "\n",
      "-- Epoch no(iteration no)  58 \n",
      " Train data set : \n",
      "W intercept: [1.06073965 0.90819788 0.84630861 0.69917089 0.58377626 0.64104646\n",
      " 0.28021506], B intercept: [0.20447698], Train loss: 0.04020532600550463, Test loss: 0.036958099393798016\n",
      "\n",
      "-- Epoch no(iteration no)  59 \n",
      " Train data set : \n",
      "W intercept: [1.06536815 0.91260331 0.85109374 0.70440774 0.58715578 0.64520854\n",
      " 0.28305501], B intercept: [0.20320816], Train loss: 0.04003070419006765, Test loss: 0.036743398862966944\n",
      "\n",
      "-- Epoch no(iteration no)  60 \n",
      " Train data set : \n",
      "W intercept: [1.07414845 0.91060989 0.85104558 0.70832585 0.59363448 0.65293115\n",
      " 0.28333963], B intercept: [0.20347224], Train loss: 0.039876203492544296, Test loss: 0.03651200332981189\n",
      "\n",
      "-- Epoch no(iteration no)  61 \n",
      " Train data set : \n",
      "W intercept: [1.07879095 0.91704963 0.85793495 0.71005483 0.58974157 0.65722657\n",
      " 0.29095513], B intercept: [0.22242643], Train loss: 0.03956643348803837, Test loss: 0.03641495032553444\n",
      "\n",
      "-- Epoch no(iteration no)  62 \n",
      " Train data set : \n",
      "W intercept: [1.08899578 0.92469485 0.86905841 0.71061503 0.58974116 0.66097375\n",
      " 0.28642471], B intercept: [0.22912922], Train loss: 0.03926003842475992, Test loss: 0.03619428797211082\n",
      "\n",
      "-- Epoch no(iteration no)  63 \n",
      " Train data set : \n",
      "W intercept: [1.09782276 0.93353939 0.85584136 0.70433443 0.58942628 0.65418851\n",
      " 0.28340818], B intercept: [0.23066265], Train loss: 0.03924275712629668, Test loss: 0.036209374256019215\n",
      "\n",
      "-- Epoch no(iteration no)  64 \n",
      " Train data set : \n",
      "W intercept: [1.10421117 0.94262647 0.86324665 0.71008563 0.59173579 0.65773705\n",
      " 0.28293085], B intercept: [0.23226284], Train loss: 0.038996097251203385, Test loss: 0.03599622312751178\n",
      "\n",
      "-- Epoch no(iteration no)  65 \n",
      " Train data set : \n",
      "W intercept: [1.10852121 0.94027698 0.86577403 0.70863263 0.60135524 0.64840727\n",
      " 0.28154854], B intercept: [0.24688216], Train loss: 0.03885914260812707, Test loss: 0.035903117493319675\n",
      "\n",
      "-- Epoch no(iteration no)  66 \n",
      " Train data set : \n",
      "W intercept: [1.11414644 0.94697183 0.87210179 0.71500091 0.60748859 0.65064242\n",
      " 0.28367569], B intercept: [0.24232151], Train loss: 0.03867857959195108, Test loss: 0.035634438254809414\n",
      "\n",
      "-- Epoch no(iteration no)  67 \n",
      " Train data set : \n",
      "W intercept: [1.12073064 0.9532696  0.87503014 0.72092369 0.61239233 0.65174661\n",
      " 0.2865298 ], B intercept: [0.23587731], Train loss: 0.03854344771575057, Test loss: 0.03539559839806609\n",
      "\n",
      "-- Epoch no(iteration no)  68 \n",
      " Train data set : \n",
      "W intercept: [1.12774476 0.95651533 0.88208547 0.72502013 0.61587903 0.65477726\n",
      " 0.28839721], B intercept: [0.2351471], Train loss: 0.038369489475264015, Test loss: 0.03517127246679324\n",
      "\n",
      "-- Epoch no(iteration no)  69 \n",
      " Train data set : \n",
      "W intercept: [1.12684018 0.95451219 0.89080653 0.72161134 0.61008483 0.65667035\n",
      " 0.29273651], B intercept: [0.24432933], Train loss: 0.03829031017311093, Test loss: 0.03518985872642697\n",
      "\n",
      "-- Epoch no(iteration no)  70 \n",
      " Train data set : \n",
      "W intercept: [1.13043332 0.95814656 0.89398107 0.72599709 0.61256881 0.65513021\n",
      " 0.29108594], B intercept: [0.24877821], Train loss: 0.0381592231097337, Test loss: 0.03511405271380051\n",
      "\n",
      "-- Epoch no(iteration no)  71 \n",
      " Train data set : \n",
      "W intercept: [1.135523   0.96331842 0.90207536 0.72982403 0.60865973 0.66121351\n",
      " 0.28811652], B intercept: [0.25803117], Train loss: 0.03793998691470342, Test loss: 0.035062634530319096\n"
     ]
    },
    {
     "name": "stderr",
     "output_type": "stream",
     "text": [
      "\r",
      "100%|██████████| 75/75 [00:00<00:00, 91.91it/s]"
     ]
    },
    {
     "name": "stdout",
     "output_type": "stream",
     "text": [
      "\n",
      "-- Epoch no(iteration no)  72 \n",
      " Train data set : \n",
      "W intercept: [1.14369507 0.96786888 0.90338903 0.73574324 0.61094886 0.66895461\n",
      " 0.29072212], B intercept: [0.2599848], Train loss: 0.03775358292519701, Test loss: 0.03487968857638966\n",
      "\n",
      "-- Epoch no(iteration no)  73 \n",
      " Train data set : \n",
      "W intercept: [1.14472154 0.9718272  0.9074629  0.73948383 0.61512512 0.67779717\n",
      " 0.29211715], B intercept: [0.26096386], Train loss: 0.03763257844470498, Test loss: 0.03474754184728843\n",
      "\n",
      "-- Epoch no(iteration no)  74 \n",
      " Train data set : \n",
      "W intercept: [1.15710841 0.96840257 0.9033576  0.74456643 0.61992319 0.68243488\n",
      " 0.29184097], B intercept: [0.26098857], Train loss: 0.03752161112426247, Test loss: 0.03456664743628254\n",
      "\n",
      "-- Epoch no(iteration no)  75 \n",
      " Train data set : \n",
      "W intercept: [1.16243419 0.97591455 0.91140767 0.74601971 0.61710047 0.68289204\n",
      " 0.29864226], B intercept: [0.27796181], Train loss: 0.03725388888332643, Test loss: 0.03448410073898851\n"
     ]
    },
    {
     "name": "stderr",
     "output_type": "stream",
     "text": [
      "\n"
     ]
    }
   ],
   "source": [
    "import Sgd_classifier as classfier_1\n",
    "alpha=0.0001\n",
    "eta0=0.01\n",
    "N=len(x_train)\n",
    "epochs=75\n",
    "p = 2\n",
    "w,b,train_loss,test_loss=classfier_1.train(x_train,y_train,x_test,y_test,epochs,alpha,eta0,p)\n"
   ]
  },
  {
   "cell_type": "markdown",
   "metadata": {
    "id": "PNjgLcYRYcIm"
   },
   "source": [
    "<h4>2.1.2 Coding Approach</h4>\n",
    "\n",
    "<!----> Will be going over the coding how it is done and stuff"
   ]
  },
  {
   "cell_type": "markdown",
   "metadata": {
    "id": "ndwbS6ZqaLr3"
   },
   "source": [
    "<h3>2.2 SVM with RBF kernel </h3>"
   ]
  },
  {
   "cell_type": "markdown",
   "metadata": {
    "id": "H-Qtsx6LaTN7"
   },
   "source": [
    "<h4>2.2.1 Function Call</h4>"
   ]
  },
  {
   "cell_type": "markdown",
   "metadata": {
    "id": "FUu-87k2aXIR"
   },
   "source": [
    "<h4>2.2.2 Coding Approach</h4>\n",
    "\n",
    "<!----> Will be going over the coding how it is done and stuff"
   ]
  },
  {
   "cell_type": "markdown",
   "metadata": {
    "id": "swzuVJ19S1Jr"
   },
   "source": [
    "<h2><center>3. Model Accuracy</center></h2>\n",
    "<em>\n",
    "Here we are going to talk about the model accuracies by using test and train loss graphs, in addition to Confussion Matrix and some ROC curves\n",
    "</em>"
   ]
  },
  {
   "cell_type": "markdown",
   "metadata": {
    "id": "qPy611dMa8Bu"
   },
   "source": [
    "<h3>3.1 Model 1 SGD Classifier with Log Loss</h3>\n"
   ]
  },
  {
   "cell_type": "markdown",
   "metadata": {
    "id": "rI7qXtftah1a"
   },
   "source": [
    "<h4>3.1.1 Prediction accuracies</h4>"
   ]
  },
  {
   "cell_type": "code",
   "execution_count": 23,
   "metadata": {
    "colab": {
     "base_uri": "https://localhost:8080/"
    },
    "id": "057fGPgc6x3_",
    "outputId": "6278f8ac-f169-40eb-fe47-42622514f8ec"
   },
   "outputs": [
    {
     "name": "stdout",
     "output_type": "stream",
     "text": [
      "Train_Accuracy 0.9854651162790697\n",
      "Test_Accuracy 1.017391304347826\n"
     ]
    }
   ],
   "source": [
    "y_train_pred = classfier_1.pred(w,b,x_train)\n",
    "y_test_pred = classfier_1.pred(w,b,x_test)\n",
    "\n",
    "y_train=y_train.reshape(y_train_pred.shape)\n",
    "print('Train_Accuracy',1-np.sum(y_train - y_train_pred)/len(x_train))\n",
    "y_test=y_test.reshape(y_test_pred.shape)\n",
    "print('Test_Accuracy',1-np.sum(y_test  - y_test_pred)/len(x_test))"
   ]
  },
  {
   "cell_type": "markdown",
   "metadata": {
    "id": "7pAXgaM_bjzs"
   },
   "source": [
    "<h4>3.1.2 Test and Train Loss over Epochs</h4>\n",
    "We will plot graph against the number of epochs with respect to the test and train loss. This will give us insight whehter our code is performing gradient descent in a correct manner."
   ]
  },
  {
   "cell_type": "code",
   "execution_count": 24,
   "metadata": {
    "colab": {
     "base_uri": "https://localhost:8080/",
     "height": 391
    },
    "id": "1gK7yssz073T",
    "outputId": "1169a448-0cf7-4dde-af79-aba1d5d278b7"
   },
   "outputs": [
    {
     "name": "stdout",
     "output_type": "stream",
     "text": [
      "========================================================================================================================================================================================================\n"
     ]
    },
    {
     "data": {
      "image/png": "[encoded data removed]",
      "text/plain": [
       "<Figure size 720x360 with 1 Axes>"
      ]
     },
     "metadata": {},
     "output_type": "display_data"
    }
   ],
   "source": [
    "epochs = np.arange(1, epochs+1, 1)\n",
    "plt.figure(figsize=(10, 5))\n",
    "plt.plot(epochs, train_loss, label='Train Loss')\n",
    "plt.plot(epochs, test_loss, label='Test Loss')\n",
    "plt.title('Epoch vs Train,Test Loss')\n",
    "plt.xlabel(\"Epoch_no\")\n",
    "plt.ylabel('Loss')\n",
    "plt.legend()\n",
    "print(100*'==')\n"
   ]
  },
  {
   "cell_type": "markdown",
   "metadata": {
    "id": "qcN8YgFwb0gH"
   },
   "source": [
    "<h4>3.1.3 Confusion Matrix </h4>\n",
    "Here well will print the confusion matrix for the Model with its Precision and Recall values"
   ]
  },
  {
   "cell_type": "code",
   "execution_count": 25,
   "metadata": {
    "colab": {
     "base_uri": "https://localhost:8080/"
    },
    "id": "dwjOiXQsTjjO",
    "outputId": "86891ef1-a794-41e0-d6cf-a6b196890147"
   },
   "outputs": [
    {
     "data": {
      "text/plain": [
       "array([[173,   2],\n",
       "       [  7, 162]])"
      ]
     },
     "execution_count": 25,
     "metadata": {},
     "output_type": "execute_result"
    }
   ],
   "source": [
    "from sklearn.metrics import confusion_matrix\n",
    "confusion_matrix(y_train, y_train_pred)"
   ]
  }
 ],
 "metadata": {
  "colab": {
   "authorship_tag": "ABX9TyO1iYE82wR3j5a32b3bELA2",
   "collapsed_sections": [
    "O6LmdMvEbb8A",
    "vpvqEHIDqJYc",
    "wTTnJFrVbfkC"
   ],
   "include_colab_link": true,
   "name": "Main_Code.ipynb",
   "provenance": []
  },
  "kernelspec": {
   "display_name": "Python 3",
   "language": "python",
   "name": "python3"
  },
  "language_info": {
   "codemirror_mode": {
    "name": "ipython",
    "version": 3
   },
   "file_extension": ".py",
   "mimetype": "text/x-python",
   "name": "python",
   "nbconvert_exporter": "python",
   "pygments_lexer": "ipython3",
   "version": "3.8.8"
  }
 },
 "nbformat": 4,
 "nbformat_minor": 1
}
