{
  "nbformat": 4,
  "nbformat_minor": 0,
  "metadata": {
    "colab": {
      "name": "NN_try.ipynb",
      "provenance": [],
      "machine_shape": "hm",
      "authorship_tag": "ABX9TyOZZI6i9nrTvyW4eNRCjl1V",
      "include_colab_link": true
    },
    "kernelspec": {
      "name": "python3",
      "display_name": "Python 3"
    },
    "language_info": {
      "name": "python"
    },
    "accelerator": "TPU"
  },
  "cells": [
    {
      "cell_type": "markdown",
      "metadata": {
        "id": "view-in-github",
        "colab_type": "text"
      },
      "source": [
        "<a href=\"https://colab.research.google.com/github/Anshuman-37/MLIS_Project_Ideal/blob/main/NN_try.ipynb\" target=\"_parent\"><img src=\"https://colab.research.google.com/assets/colab-badge.svg\" alt=\"Open In Colab\"/></a>"
      ]
    },
    {
      "cell_type": "code",
      "source": [
        "import numpy as np\n",
        "import pandas as pd\n",
        "from tqdm import tqdm"
      ],
      "metadata": {
        "id": "03r7XN4lhOAh"
      },
      "execution_count": 1,
      "outputs": []
    },
    {
      "cell_type": "code",
      "source": [
        "\n",
        "df = pd.read_csv('/content/tumor.csv')\n",
        "X = df.drop(columns=['Class'])\n",
        "X = np.array(X)\n",
        "print(X.shape)\n",
        "\n",
        "## Label Values\n",
        "Y = df['Class']\n",
        "Y = np.array(Y)\n",
        "print(Y.shape)\n",
        "Y = list(map((lambda x : [0 if x==2 else 1]), Y))\n",
        "Y = np.array(Y)\n",
        "X=(X-X.mean())/X.std()"
      ],
      "metadata": {
        "colab": {
          "base_uri": "https://localhost:8080/"
        },
        "id": "_b1Yz7wjg56m",
        "outputId": "ba4393b3-10f4-4956-9374-71e6c72bc128"
      },
      "execution_count": 2,
      "outputs": [
        {
          "output_type": "stream",
          "name": "stdout",
          "text": [
            "(683, 10)\n",
            "(683,)\n"
          ]
        }
      ]
    },
    {
      "cell_type": "code",
      "execution_count": null,
      "metadata": {
        "colab": {
          "base_uri": "https://localhost:8080/"
        },
        "id": "yZbsU8t_gEn7",
        "outputId": "20f9e18c-13eb-4849-b0fa-6cfb909f6aea"
      },
      "outputs": [
        {
          "output_type": "stream",
          "name": "stderr",
          "text": [
            "tqdm() Progress Bar:   0%|          | 4/6000 [00:00<03:18, 30.16it/s]"
          ]
        },
        {
          "output_type": "stream",
          "name": "stdout",
          "text": [
            "Error:0.3504825250578167\n"
          ]
        },
        {
          "output_type": "stream",
          "name": "stderr",
          "text": [
            "tqdm() Progress Bar:  17%|█▋        | 1004/6000 [00:35<02:34, 32.39it/s]"
          ]
        },
        {
          "output_type": "stream",
          "name": "stdout",
          "text": [
            "Error:0.6500732064421669\n"
          ]
        },
        {
          "output_type": "stream",
          "name": "stderr",
          "text": [
            "tqdm() Progress Bar:  33%|███▎      | 2008/6000 [01:04<01:49, 36.58it/s]"
          ]
        },
        {
          "output_type": "stream",
          "name": "stdout",
          "text": [
            "Error:0.6500732064421669\n"
          ]
        },
        {
          "output_type": "stream",
          "name": "stderr",
          "text": [
            "tqdm() Progress Bar:  50%|█████     | 3004/6000 [01:32<01:27, 34.26it/s]"
          ]
        },
        {
          "output_type": "stream",
          "name": "stdout",
          "text": [
            "Error:0.6500732064421669\n"
          ]
        },
        {
          "output_type": "stream",
          "name": "stderr",
          "text": [
            "tqdm() Progress Bar:  67%|██████▋   | 4005/6000 [02:00<00:54, 36.61it/s]"
          ]
        },
        {
          "output_type": "stream",
          "name": "stdout",
          "text": [
            "Error:0.6500732064421669\n"
          ]
        },
        {
          "output_type": "stream",
          "name": "stderr",
          "text": [
            "tqdm() Progress Bar:  80%|███████▉  | 4789/6000 [02:22<00:36, 33.55it/s]"
          ]
        }
      ],
      "source": [
        "import numpy as np\n",
        "\n",
        "def nonlin(x,deriv=False):\n",
        "\tif(deriv==True):\n",
        "\t    return x*(1-x)\n",
        "\n",
        "\treturn 1/(1+np.exp(-x))\n",
        "    \n",
        "\n",
        "np.random.seed(1)\n",
        "\n",
        "# randomly initialize our weights with mean 0\n",
        "syn0 = 2*np.random.random((10,683)) - 1\n",
        "syn1 = 2*np.random.random((683,1)) - 1\n",
        "\n",
        "for j in tqdm(range(6000),desc = 'tqdm() Progress Bar'):\n",
        "\n",
        "\t# Feed forward through layers 0, 1, and 2\n",
        "    l0 = X\n",
        "    l1 = nonlin(np.dot(l0,syn0))\n",
        "    l2 = nonlin(np.dot(l1,syn1))\n",
        "\n",
        "    # how much did we miss the target value?\n",
        "    l2_error = Y - l2\n",
        "    \n",
        "    if (j% 1000) == 0:\n",
        "        print(\"Error:\" + str(np.mean(np.abs(l2_error))))\n",
        "        \n",
        "    # in what direction is the target value?\n",
        "    # were we really sure? if so, don't change too much.\n",
        "    l2_delta = l2_error*nonlin(l2,deriv=True)\n",
        "\n",
        "    # how much did each l1 value contribute to the l2 error (according to the weights)?\n",
        "    l1_error = l2_delta.dot(syn1.T)\n",
        "    \n",
        "    # in what direction is the target l1?\n",
        "    # were we really sure? if so, don't change too much.\n",
        "    l1_delta = l1_error * nonlin(l1,deriv=True)\n",
        "\n",
        "    syn1 += l1.T.dot(l2_delta)\n",
        "    syn0 += l0.T.dot(l1_delta)\n"
      ]
    },
    {
      "cell_type": "code",
      "source": [
        ""
      ],
      "metadata": {
        "id": "VSIK_vVbjupp"
      },
      "execution_count": null,
      "outputs": []
    }
  ]
}